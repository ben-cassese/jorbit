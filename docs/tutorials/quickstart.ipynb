{
 "cells": [
  {
   "cell_type": "code",
   "execution_count": 3,
   "metadata": {},
   "outputs": [],
   "source": [
    "import jorbit\n",
    "from jorbit import Observations, Particle, System\n",
    "\n",
    "from corner import corner\n",
    "from astropy.time import Time"
   ]
  },
  {
   "cell_type": "code",
   "execution_count": null,
   "metadata": {},
   "outputs": [],
   "source": [
    "obs = Observations(mpc_file=jorbit.DATADIR + 'mpc_example_data.txt')\n",
    "\n",
    "particle = Particle({'a': 1.0, 'e': 0.1, 'i': 0.1, 'Omega': 0.1, 'omega': 0.1, 'nu': 0.1},\n",
    "                    observations=obs,\n",
    "                    gm=0,\n",
    "                    fit_orbit=True,\n",
    "                    prior=None)\n",
    "\n",
    "sim = System([particle])\n",
    "\n",
    "sim.maximimze_likelihood()"
   ]
  },
  {
   "cell_type": "code",
   "execution_count": null,
   "metadata": {},
   "outputs": [],
   "source": [
    "samples = sim.sample_posterior()\n",
    "corner(samples.elements)"
   ]
  },
  {
   "cell_type": "code",
   "execution_count": null,
   "metadata": {},
   "outputs": [],
   "source": [
    "jorbit.plot.plot_orbits(samples)"
   ]
  },
  {
   "cell_type": "code",
   "execution_count": null,
   "metadata": {},
   "outputs": [],
   "source": [
    "future_positions = samples.propagate(Time('2023-09-01'), on_sky=True)\n",
    "jorbit.plot.plot_skycoords(future_positions, title='Future positions', show=True)"
   ]
  }
 ],
 "metadata": {
  "kernelspec": {
   "display_name": "tnos",
   "language": "python",
   "name": "python3"
  },
  "language_info": {
   "codemirror_mode": {
    "name": "ipython",
    "version": 3
   },
   "file_extension": ".py",
   "mimetype": "text/x-python",
   "name": "python",
   "nbconvert_exporter": "python",
   "pygments_lexer": "ipython3",
   "version": "3.9.16"
  },
  "orig_nbformat": 4
 },
 "nbformat": 4,
 "nbformat_minor": 2
}
