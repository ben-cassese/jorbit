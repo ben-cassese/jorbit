{
 "cells": [
  {
   "cell_type": "markdown",
   "metadata": {},
   "source": [
    "# Fitting an Orbit\n",
    "---\n",
    "\n",
    "In this notebook, we'll go over how to use `jorbit` to fit astrometric observations of a minor planet with an orbit model. We'll start with computing the maximum likelihood solution, but will then go on to show how `jorbit` can be integrated with other sampling libraries to enable MCMC and/or nested sampling routines to estimate the uncertainties on all derived parameters.\n",
    "\n",
    "Throughout this tutorial, we'll be focusing on observations of a single, massless minor planet. `jorbit` is capable of computing the joint likelihood of a system of multiple particles, some massive and some not, but here we limit ourselves to the simpliest case of one particle.\n",
    "\n",
    "To start, we collect some necessary imports:"
   ]
  },
  {
   "cell_type": "code",
   "execution_count": 1,
   "metadata": {},
   "outputs": [],
   "source": [
    "import jax\n",
    "jax.config.update(\"jax_enable_x64\", True)\n",
    "import jax.numpy as jnp\n",
    "\n",
    "from astropy.time import Time\n",
    "from astropy.coordinates import SkyCoord\n",
    "import astropy.units as u\n",
    "from astropy.utils.data import download_file\n",
    "from astroquery.jplhorizons import Horizons\n",
    "import matplotlib.pyplot as plt"
   ]
  },
  {
   "cell_type": "markdown",
   "metadata": {},
   "source": [
    "Next we'll import the three major components of `jorbit`: the `Observations`, `Particle`, and `System` objects. Most of our work here will consist of creating and manipulating these objects, though users wanting finer control will find `jorbit.engine` useful.\n",
    "\n",
    "In broad terms, `Oberservations` are associated with `Particle` objects, which are then the building blocks of `System` objects. We'll go through this process below."
   ]
  },
  {
   "cell_type": "code",
   "execution_count": 2,
   "metadata": {},
   "outputs": [],
   "source": [
    "from jorbit import Observations, Particle, System"
   ]
  },
  {
   "cell_type": "markdown",
   "metadata": {},
   "source": [
    "First, we need to generate some fake astrometry data. Here we'll use the `Observations.horizons_astrometry_query` method to automatically query the JPL Horizons ephemeris service, but that's not really important here. Any other method will do, like `astroquery` or manually entering `SkyCoord`s."
   ]
  },
  {
   "cell_type": "code",
   "execution_count": 3,
   "metadata": {},
   "outputs": [
    {
     "data": {
      "image/png": "[encoded data removed]",
      "text/plain": [
       "<Figure size 800x400 with 1 Axes>"
      ]
     },
     "metadata": {},
     "output_type": "display_data"
    }
   ],
   "source": [
    "t0 = Time(\"2023-01-01 07:00\")\n",
    "t1 = Time(\"2023-01-01 11:00\")\n",
    "early_times = jnp.linspace(t0.jd, t0.jd + 10, 10)\n",
    "late_times = jnp.linspace(t1.jd, t1.jd + 10, 10)\n",
    "times = Time(jnp.sort(jnp.concatenate([early_times, late_times])), format='jd')\n",
    "\n",
    "horizons_query = Horizons(id='274301', location='695@399',\n",
    "                          epochs=times.jd)\n",
    "data = horizons_query.ephemerides(extra_precision=True)\n",
    "\n",
    "observed_coordinates = SkyCoord(data['RA'], data['DEC'])\n",
    "\n",
    "fig, ax = plt.subplots(figsize=(8,4))\n",
    "ax.scatter(observed_coordinates.ra.deg, observed_coordinates.dec.deg)\n",
    "ax.set(xlabel=\"RA [deg]\", ylabel=\"Dec [deg]\", title=\"Fake Observations of (274301) Wikipedia\");"
   ]
  },
  {
   "cell_type": "markdown",
   "metadata": {},
   "source": [
    "We've generated 10 nights of observations, where the object is observed twice each night a few hours apart. Now let's create an `Observations` object:"
   ]
  },
  {
   "cell_type": "code",
   "execution_count": 4,
   "metadata": {},
   "outputs": [],
   "source": [
    "obs1 = Observations(\n",
    "    observed_coordinates=observed_coordinates,\n",
    "    times=times,\n",
    "    observatory_locations='Kitt Peak',\n",
    "    astrometric_uncertainties=0.1*u.arcsec,\n",
    "    verbose_downloading=False,\n",
    ")"
   ]
  },
  {
   "cell_type": "markdown",
   "metadata": {},
   "source": [
    "Note how here we manually fed in a `SkyCoord` object, a `Time` object, and astrometric uncertainties in `astropy` units. \n",
    "\n",
    "Alternatively, instead of specifying the coordinates, times, observatory locations, and astrometric uncertainties manually, we could instead create and Observations object from a .txt file of observations saved in the standard MPC 80-column format:"
   ]
  },
  {
   "cell_type": "code",
   "execution_count": 5,
   "metadata": {},
   "outputs": [],
   "source": [
    "# obs2 = Observations(mpc_file='mpc_example_data.txt',\n",
    "#                    verbose_downloading=True)"
   ]
  },
  {
   "cell_type": "markdown",
   "metadata": {},
   "source": [
    "This last cell took awhile because of something `Observations` does behind the scenes: for every individual astrometric observation, `jorbit` queries JPL Horizons to get the precise 3D location of the observer at that time. This can take a few minutes if you're combining data from multiple observatories. You can also provide heteroscedastic uncertainties:"
   ]
  },
  {
   "cell_type": "code",
   "execution_count": 6,
   "metadata": {},
   "outputs": [],
   "source": [
    "# Observations(\n",
    "#     observed_coordinates=[\n",
    "#         SkyCoord(0 * u.deg, 0 * u.deg),\n",
    "#         SkyCoord(10 * u.deg, 10 * u.deg),\n",
    "#         SkyCoord(20 * u.deg, 20 * u.deg),\n",
    "#     ],\n",
    "#     times=Time([\"2020-01-01\", \"2021-01-01\", \"2022-01-01\"]),\n",
    "#     observatory_locations=[\"Kitt Peak\", \"TESS\", \"JWST\"],\n",
    "#     astrometric_uncertainties=[0.1 * u.arcsec, 20 * u.arcsec, 0.01 * u.arcsec],\n",
    "#     verbose_downloading=True,\n",
    "# )"
   ]
  },
  {
   "cell_type": "markdown",
   "metadata": {},
   "source": [
    "Now let's attach the observations to a `Particle`:"
   ]
  },
  {
   "cell_type": "code",
   "execution_count": 7,
   "metadata": {},
   "outputs": [],
   "source": [
    "asteroid = Particle(\n",
    "    elements = {'a':2, 'ecc':0.1, 'inc':0., 'Omega':20, 'omega':10, 'nu':30.},\n",
    "    time=times[0],\n",
    "    observations=obs1,\n",
    "    gm=0,\n",
    "    name=\"274301 Wikipedia\",\n",
    "    free_orbit=True,\n",
    "    free_gm=False,\n",
    ")"
   ]
  },
  {
   "cell_type": "markdown",
   "metadata": {},
   "source": [
    "We did not have to include the observations, but we did have to include a guess about its current position/state, even if it's a complete guess. Notice also that we declared that `free_orbit=True`, but that `free_gm=False`; these settings will tell `System` that when constructing a fit, it's allowed to vary the initial orbit on the particle, but not its mass, which is fixed to zero via `gm=0`. All of these settings and more are in the documentation.\n",
    "\n",
    "Now we can create the last needed object: a `System`."
   ]
  },
  {
   "cell_type": "code",
   "execution_count": 8,
   "metadata": {},
   "outputs": [],
   "source": [
    "sim = System(particles=[asteroid])"
   ]
  },
  {
   "cell_type": "markdown",
   "metadata": {},
   "source": [
    "To get an estimate of the maximum likelihood fit, we run the `maximize_likelihood()` method:"
   ]
  },
  {
   "cell_type": "code",
   "execution_count": 9,
   "metadata": {},
   "outputs": [
    {
     "name": "stdout",
     "output_type": "stream",
     "text": [
      "Compling likelihood and its gradient, if not cached...\n",
      "Time to evaluate loglike: 4.93 ms\n",
      "Time to evaluate loglike gradient: 16.72 ms\n",
      "Failed 1 times(s), will make up to 100 attempts\n",
      "Failed 2 times(s), will make up to 100 attempts\n"
     ]
    },
    {
     "data": {
      "text/plain": [
       "{'Status': 'Success',\n",
       " 'Observation Residuals': {'274301 Wikipedia': {'Residuals (arcsec)': Array([8.93041406e-07, 9.22363791e-07, 5.05998375e-07, 1.18931648e-06,\n",
       "          2.00203330e-06, 1.71154234e-06, 1.65154947e-06, 1.70878289e-06,\n",
       "          1.39108145e-06, 1.52251786e-06, 6.70209425e-07, 1.27232302e-06,\n",
       "          4.65102466e-07, 1.03666841e-06, 1.52455448e-06, 1.87252871e-06,\n",
       "          1.33940723e-06, 2.24526397e-06, 1.59133385e-06, 1.22097564e-06],      dtype=float64),\n",
       "   'Observation Times (JD)': Array([2459945.79246741, 2459945.95913407, 2459946.90357852,\n",
       "          2459947.07024518, 2459948.01468963, 2459948.1813563 ,\n",
       "          2459949.12580074, 2459949.29246741, 2459950.23691185,\n",
       "          2459950.40357852, 2459951.34802296, 2459951.51468963,\n",
       "          2459952.45913408, 2459952.62580074, 2459953.57024519,\n",
       "          2459953.73691185, 2459954.6813563 , 2459954.84802296,\n",
       "          2459955.79246741, 2459955.95913408], dtype=float64)}}}"
      ]
     },
     "execution_count": 9,
     "metadata": {},
     "output_type": "execute_result"
    }
   ],
   "source": [
    "sim.maximimze_likelihood(threshold=1*u.arcsec, \n",
    "                         max_attempts=100, verbose=True,\n",
    "                         method='BFGS')"
   ]
  },
  {
   "cell_type": "code",
   "execution_count": 10,
   "metadata": {},
   "outputs": [
    {
     "data": {
      "text/plain": [
       "Particle: 274301 Wikipedia.\n",
       "Current state:\n",
       "--------------\n",
       " [ 0.73627286 -1.85355064 -0.55116228] AU\n",
       " [0.01150769 0.00511472 0.00161759] AU/day\n",
       " 2459945.792467406 JD\n",
       "\n",
       "Current Elements:\n",
       "-----------------\n",
       "{'a': Array([2.38093221], dtype=float64\n",
       "'ecc': Array([0.14645736], dtype=float64\n",
       "'nu': Array([327.9880425], dtype=float64\n",
       "'inc': Array([6.73266365], dtype=float64\n",
       "'Omega': Array([183.35304136], dtype=float64\n",
       "'omega': Array([139.75996528], dtype=float64)}"
      ]
     },
     "execution_count": 10,
     "metadata": {},
     "output_type": "execute_result"
    }
   ],
   "source": [
    "sim.particles[0]"
   ]
  },
  {
   "cell_type": "code",
   "execution_count": null,
   "metadata": {},
   "outputs": [],
   "source": []
  },
  {
   "cell_type": "code",
   "execution_count": null,
   "metadata": {},
   "outputs": [],
   "source": []
  }
 ],
 "metadata": {
  "kernelspec": {
   "display_name": "tnos",
   "language": "python",
   "name": "python3"
  },
  "language_info": {
   "codemirror_mode": {
    "name": "ipython",
    "version": 3
   },
   "file_extension": ".py",
   "mimetype": "text/x-python",
   "name": "python",
   "nbconvert_exporter": "python",
   "pygments_lexer": "ipython3",
   "version": "3.9.16"
  },
  "orig_nbformat": 4
 },
 "nbformat": 4,
 "nbformat_minor": 2
}
