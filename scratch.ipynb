{
 "cells": [
  {
   "cell_type": "markdown",
   "metadata": {},
   "source": [
    "# scratch work"
   ]
  },
  {
   "cell_type": "code",
   "execution_count": 49,
   "metadata": {},
   "outputs": [],
   "source": [
    "import jax\n",
    "\n",
    "jax.config.update(\"jax_enable_x64\", True)\n",
    "import sqlite3\n",
    "\n",
    "import astropy.units as u\n",
    "import jax.numpy as jnp\n",
    "import matplotlib.pyplot as plt\n",
    "import numpy as np\n",
    "from astropy.coordinates import SkyCoord\n",
    "from astropy.time import Time\n",
    "from astroquery.jplhorizons import Horizons\n",
    "from numpy.polynomial import chebyshev\n",
    "from tqdm import tqdm\n",
    "\n",
    "from jorbit import Particle\n",
    "from jorbit.astrometry.sky_projection import sky_sep\n",
    "# from jorbit.utils.horizons import get_observer_positions\n"
   ]
  },
  {
   "cell_type": "code",
   "execution_count": 2,
   "metadata": {},
   "outputs": [],
   "source": [
    "t0 = Time(\"2020-01-01\")\n",
    "forward_times = t0 + jnp.arange(0, 20.001, 1*u.hour.to(u.year))*u.year\n",
    "reverse_times = t0 - jnp.arange(0, 20.001, 1*u.hour.to(u.year))*u.year\n",
    "\n",
    "forward_pos = jnp.load(\"forward_pos.npy\")\n",
    "reverse_pos = jnp.load(\"reverse_pos.npy\")"
   ]
  },
  {
   "cell_type": "code",
   "execution_count": 15,
   "metadata": {},
   "outputs": [],
   "source": [
    "# @jax.jit\n",
    "def eval_cheby(coefficients, x):\n",
    "    b_ii = jnp.zeros(2)\n",
    "    b_i = jnp.zeros(2)\n",
    "\n",
    "    def scan_func(X, a):\n",
    "        b_i, b_ii = X\n",
    "        tmp = b_i\n",
    "        b_i = a + 2 * x * b_i - b_ii\n",
    "        b_ii = tmp\n",
    "        return (b_i, b_ii), b_i\n",
    "\n",
    "    (b_i, b_ii), s = jax.lax.scan(scan_func, (b_i, b_ii), coefficients[:-1])\n",
    "    return coefficients[-1] + x * b_i - b_ii, s\n",
    "\n",
    "# @jax.jit\n",
    "def _individual_state(init, intlen, coeffs, tdb):\n",
    "    tdb2 = 0.0  # leaving in case we ever decide to increase the time precision and use 2 floats\n",
    "    _, _, n = coeffs.shape\n",
    "\n",
    "    # 2451545.0 is the J2000 epoch in TDB\n",
    "    index1, offset1 = jnp.divmod((tdb - 2451545.0) * 86400.0 - init, intlen)\n",
    "    index2, offset2 = jnp.divmod(tdb2 * 86400.0, intlen)\n",
    "    index3, offset = jnp.divmod(offset1 + offset2, intlen)\n",
    "    index = (index1 + index2 + index3).astype(int)\n",
    "\n",
    "    omegas = index == n\n",
    "    index = jnp.where(omegas, index - 1, index)\n",
    "    offset = jnp.where(omegas, offset + intlen, offset)\n",
    "\n",
    "    coefficients = coeffs[:, :, index]\n",
    "\n",
    "    s = 2.0 * offset / intlen - 1.0\n",
    "\n",
    "    (approx_ra, approx_dec), _ = eval_cheby(coefficients, s)  # in km here\n",
    "    return approx_ra % (2*jnp.pi), approx_dec\n"
   ]
  },
  {
   "cell_type": "code",
   "execution_count": null,
   "metadata": {},
   "outputs": [],
   "source": []
  },
  {
   "cell_type": "code",
   "execution_count": null,
   "metadata": {},
   "outputs": [],
   "source": []
  },
  {
   "cell_type": "code",
   "execution_count": 55,
   "metadata": {},
   "outputs": [],
   "source": [
    "t0 = Time(\"2020-01-01\")\n",
    "forward_times = t0 + jnp.arange(0, 20.001, 10*u.hour.to(u.year))*u.year\n",
    "reverse_times = t0 - jnp.arange(0, 20.001, 10*u.hour.to(u.year))*u.year\n",
    "\n",
    "forward_pos = jnp.load(\"forward_pos.npy\")\n",
    "reverse_pos = jnp.load(\"reverse_pos.npy\")"
   ]
  },
  {
   "cell_type": "code",
   "execution_count": 56,
   "metadata": {},
   "outputs": [
    {
     "data": {
      "text/plain": [
       "(17533, 3)"
      ]
     },
     "execution_count": 56,
     "metadata": {},
     "output_type": "execute_result"
    }
   ],
   "source": [
    "forward_pos.shape\n"
   ]
  },
  {
   "cell_type": "code",
   "execution_count": 7,
   "metadata": {},
   "outputs": [],
   "source": [
    "def generate_ephem(particle_name, chunk_size, degree):\n",
    "    # chunk size in days\n",
    "\n",
    "    obj = Horizons(id=particle_name, location=\"500@0\", epochs=t0.tdb.jd)\n",
    "    vecs = obj.vectors(refplane=\"earth\")\n",
    "    x0 = jnp.array([vecs[\"x\"], vecs[\"y\"], vecs[\"z\"]]).T[0]\n",
    "    v0 = jnp.array([vecs[\"vx\"], vecs[\"vy\"], vecs[\"vz\"]]).T[0]\n",
    "    particle = Particle(x=x0, v=v0, time=t0, gravity=\"newtonian solar system\")\n",
    "\n",
    "    t = forward_times.tdb.jd\n",
    "\n",
    "    eph = particle.ephemeris(t, observer=forward_pos)\n",
    "\n",
    "    r = jnp.unwrap(eph.ra.rad)\n",
    "    d = eph.dec.rad\n",
    "\n",
    "    num_chunks = int(jnp.ceil((t[-1] - t[0]) / chunk_size))\n",
    "\n",
    "    init = (t[0] - 2451545.0) * 86400.0\n",
    "    intlen = chunk_size * 86400.0\n",
    "\n",
    "    coeffs = jnp.zeros((degree + 1, 2, num_chunks))\n",
    "    for i in range(num_chunks):\n",
    "        inds = (t >= t[0] + i * chunk_size) & (t < t[0] + (i + 1) * chunk_size)\n",
    "        t_chunk = t[inds]\n",
    "        r_chunk = r[inds]\n",
    "        d_chunk = d[inds]\n",
    "\n",
    "        # Scale time to [-1, 1] domain\n",
    "        t_min, t_max = t0.tdb.jd + i * chunk_size, t0.tdb.jd + (i + 1) * chunk_size\n",
    "        t_scaled = 2 * (t_chunk - t_min) / (t_max - t_min) - 1\n",
    "\n",
    "        # Fit Chebyshev polynomials\n",
    "        coefficients = chebyshev.chebfit(t_scaled, r_chunk, degree)\n",
    "        coefficients = coefficients[::-1]\n",
    "        coeffs = coeffs.at[:, 0, i].set(coefficients)\n",
    "\n",
    "        coefficients = chebyshev.chebfit(t_scaled, d_chunk, degree)\n",
    "        coefficients = coefficients[::-1]\n",
    "        coeffs = coeffs.at[:, 1, i].set(coefficients)\n",
    "\n",
    "    return init, intlen, coeffs\n",
    "\n",
    "\n",
    "\n",
    "def test_ephem(particle_name, ephem, t):\n",
    "    obj = Horizons(id=particle_name, location=\"500@399\", epochs=t.utc.jd, id_type=\"smallbody\")\n",
    "    coord = obj.ephemerides(quantities=1, extra_precision=True)\n",
    "    s = SkyCoord(coord[\"RA\"], coord[\"DEC\"], unit=(u.deg, u.deg))\n",
    "\n",
    "    ra, dec = _individual_state(*ephem, t.tdb.jd)\n",
    "\n",
    "    return sky_sep(ra, dec, s.ra.rad, s.dec.rad)\n"
   ]
  },
  {
   "cell_type": "code",
   "execution_count": 45,
   "metadata": {},
   "outputs": [],
   "source": [
    "q = generate_ephem(\"737779\", 10, 30, 10)"
   ]
  },
  {
   "cell_type": "code",
   "execution_count": 46,
   "metadata": {},
   "outputs": [
    {
     "name": "stderr",
     "output_type": "stream",
     "text": [
      "100%|██████████| 100/100 [00:46<00:00,  2.14it/s]\n"
     ]
    }
   ],
   "source": [
    "errs = []\n",
    "for _i in tqdm(range(100)):\n",
    "    delta = np.random.uniform(0, 20)\n",
    "    t_test = t0 + delta * u.year\n",
    "    err = test_ephem(\"737779\", q, t0+delta*u.year)\n",
    "    if err > 1.0:\n",
    "        print(delta)\n",
    "    errs.append(err)\n"
   ]
  },
  {
   "cell_type": "code",
   "execution_count": 35,
   "metadata": {},
   "outputs": [
    {
     "data": {
      "image/png": "[encoded data removed]",
      "text/plain": [
       "<Figure size 711.1x400 with 1 Axes>"
      ]
     },
     "metadata": {},
     "output_type": "display_data"
    }
   ],
   "source": [
    "errs = jnp.array(errs)\n",
    "plt.hist(errs);"
   ]
  },
  {
   "cell_type": "code",
   "execution_count": 30,
   "metadata": {},
   "outputs": [
    {
     "data": {
      "image/png": "[encoded data removed]",
      "text/plain": [
       "<Figure size 711.1x400 with 1 Axes>"
      ]
     },
     "metadata": {},
     "output_type": "display_data"
    }
   ],
   "source": [
    "errs = jnp.array(errs)\n",
    "plt.hist(errs);"
   ]
  },
  {
   "cell_type": "code",
   "execution_count": 27,
   "metadata": {},
   "outputs": [
    {
     "data": {
      "image/png": "[encoded data removed]",
      "text/plain": [
       "<Figure size 711.1x400 with 1 Axes>"
      ]
     },
     "metadata": {},
     "output_type": "display_data"
    }
   ],
   "source": [
    "errs = jnp.array(errs)\n",
    "plt.hist(errs);"
   ]
  },
  {
   "cell_type": "code",
   "execution_count": 42,
   "metadata": {},
   "outputs": [
    {
     "data": {
      "text/plain": [
       "'00001'"
      ]
     },
     "execution_count": 42,
     "metadata": {},
     "output_type": "execute_result"
    }
   ],
   "source": [
    "with open(\"MPCORB.DAT\") as f:\n",
    "    lines = f.readlines()\n",
    "lines[43].split()[0]"
   ]
  },
  {
   "cell_type": "code",
   "execution_count": 47,
   "metadata": {},
   "outputs": [
    {
     "data": {
      "text/plain": [
       "737784"
      ]
     },
     "execution_count": 47,
     "metadata": {},
     "output_type": "execute_result"
    }
   ],
   "source": [
    "def mpc_code_to_number(code):\n",
    "\n",
    "    def base62_to_decimal(char):\n",
    "        \"\"\"\n",
    "        Convert a single base-62 character to its decimal value.\n",
    "        Base-62 uses:\n",
    "        - 0-9 for values 0-9\n",
    "        - A-Z for values 10-35\n",
    "        - a-z for values 36-61\n",
    "        \"\"\"\n",
    "        if char.isdigit():\n",
    "            return int(char)\n",
    "        elif char.isupper():\n",
    "            return ord(char) - ord('A') + 10\n",
    "        else:\n",
    "            return ord(char) - ord('a') + 36\n",
    "\n",
    "    # if it's unnumbered, just return the code\n",
    "    if len(code) == 7:\n",
    "        return code\n",
    "\n",
    "    # if it's numbered, now it should only be 5 characters long\n",
    "    assert len(code) == 5\n",
    "\n",
    "    # low numbers are just numbers\n",
    "    if \"~\" not in code:\n",
    "        return code\n",
    "\n",
    "    # higher ones start with a tilde and are base 62\n",
    "    assert code[0] == \"~\"\n",
    "\n",
    "    base62_part = code[1:]\n",
    "\n",
    "    total = 0\n",
    "    for position, char in enumerate(reversed(base62_part)):\n",
    "        decimal_value = base62_to_decimal(char)\n",
    "        total += decimal_value * (62 ** position)\n",
    "\n",
    "    # Add back the offset of 620,000\n",
    "    final_number = total + 620000\n",
    "\n",
    "    return final_number\n",
    "\n",
    "mpc_code_to_number(\"~0Udk\")"
   ]
  },
  {
   "cell_type": "code",
   "execution_count": 54,
   "metadata": {},
   "outputs": [],
   "source": [
    "# First, we need to create our database and table\n",
    "def setup_database():\n",
    "    with sqlite3.connect('ephem_results.db') as conn:\n",
    "        # Enable Write-Ahead Logging for better concurrent access\n",
    "        conn.execute('PRAGMA journal_mode=WAL')\n",
    "\n",
    "        # Create our table if it doesn't exist\n",
    "        conn.execute('''\n",
    "            CREATE TABLE IF NOT EXISTS results (\n",
    "                input_name TEXT PRIMARY KEY,\n",
    "                output_vector BLOB\n",
    "            )\n",
    "        ''')\n",
    "\n",
    "# Helper function to convert numpy array to binary for storage\n",
    "def adapt_array(arr):\n",
    "    \"\"\"Convert numpy array to binary for SQLite storage\"\"\"\n",
    "    return arr.tobytes()\n",
    "\n",
    "# Helper function to convert binary back to numpy array\n",
    "def convert_array(blob):\n",
    "    \"\"\"Convert binary blob back to numpy array\"\"\"\n",
    "    return np.frombuffer(blob)\n",
    "\n",
    "# Function to write a single result\n",
    "def write_result(input_name, output_vector):\n",
    "    with sqlite3.connect('model_results.db') as conn:\n",
    "        # Convert the numpy array to binary\n",
    "        vector_binary = adapt_array(output_vector)\n",
    "\n",
    "        # Insert the result\n",
    "        conn.execute(\n",
    "            'INSERT OR REPLACE INTO results (input_name, output_vector) VALUES (?, ?)',\n",
    "            (input_name, vector_binary)\n",
    "        )"
   ]
  },
  {
   "cell_type": "code",
   "execution_count": 48,
   "metadata": {},
   "outputs": [
    {
     "data": {
      "text/plain": [
       "[659355, 659356, 659357]"
      ]
     },
     "execution_count": 48,
     "metadata": {},
     "output_type": "execute_result"
    }
   ],
   "source": [
    "def contribute_to_ephem(line_start, line_stop):\n",
    "    with open(\"MPCORB.DAT\") as f:\n",
    "        lines = f.readlines()[line_start:line_stop+1]\n",
    "    targets = [line.split()[0] for line in lines]\n",
    "    targets = [mpc_code_to_number(target) for target in targets]\n",
    "\n",
    "    setup_database()\n",
    "\n",
    "    for target in targets:\n",
    "        _, _, coeffs = generate_ephem(particle_name=target, chunk_size=30, degree=10)\n",
    "        write_result(target, coeffs)\n",
    "\n",
    "    return targets\n",
    "\n",
    "# contribute_to_ephem(43, 100)\n",
    "contribute_to_ephem(659397, 659399)"
   ]
  },
  {
   "cell_type": "code",
   "execution_count": null,
   "metadata": {},
   "outputs": [],
   "source": []
  },
  {
   "cell_type": "code",
   "execution_count": 32,
   "metadata": {},
   "outputs": [
    {
     "data": {
      "text/plain": [
       "291.512178"
      ]
     },
     "execution_count": 32,
     "metadata": {},
     "output_type": "execute_result"
    }
   ],
   "source": [
    "import os\n",
    "\n",
    "os.path.getsize(\"MPCORB.DAT\") / 1e6"
   ]
  },
  {
   "cell_type": "code",
   "execution_count": 31,
   "metadata": {},
   "outputs": [
    {
     "data": {
      "text/plain": [
       "2087.1428571428573"
      ]
     },
     "execution_count": 31,
     "metadata": {},
     "output_type": "execute_result"
    }
   ],
   "source": [
    "40*u.year.to(u.week)"
   ]
  },
  {
   "cell_type": "code",
   "execution_count": 51,
   "metadata": {},
   "outputs": [
    {
     "data": {
      "text/plain": [
       "'/Users/cassese/.astropy/cache/download/url/d130157051acdb2edae869c7ca04e3e8/contents'"
      ]
     },
     "execution_count": 51,
     "metadata": {},
     "output_type": "execute_result"
    }
   ],
   "source": [
    "from astropy.utils.data import download_file\n",
    "\n",
    "download_file(\"https://zenodo.org/records/10161743/files/ERS_DataSynthesis_Zenodo.zip?download=1\", cache=True)"
   ]
  },
  {
   "cell_type": "code",
   "execution_count": 41,
   "metadata": {},
   "outputs": [
    {
     "data": {
      "text/plain": [
       "[]"
      ]
     },
     "execution_count": 41,
     "metadata": {},
     "output_type": "execute_result"
    }
   ],
   "source": [
    "from glob import glob\n",
    "\n",
    "glob(\"/Users/cassese/.astropy/cache/download/url/d130157051acdb2edae869c7ca04e3e8/contents/*\")"
   ]
  },
  {
   "cell_type": "code",
   "execution_count": 42,
   "metadata": {},
   "outputs": [],
   "source": [
    "import zipfile\n",
    "\n",
    "with zipfile.ZipFile(\"/Users/cassese/.astropy/cache/download/url/d130157051acdb2edae869c7ca04e3e8/contents\", 'r') as zip_ref:\n",
    "    # Extract all contents\n",
    "    zip_ref.extractall(\"/Users/cassese/.astropy/cache/download/url/d130157051acdb2edae869c7ca04e3e8/\")"
   ]
  },
  {
   "cell_type": "code",
   "execution_count": 1,
   "metadata": {},
   "outputs": [
    {
     "name": "stdout",
     "output_type": "stream",
     "text": [
      "Processing 3 targets between line_start=43 and line_stop=50\n"
     ]
    },
    {
     "name": "stderr",
     "output_type": "stream",
     "text": [
      "  0%|          | 0/3 [00:00<?, ?it/s]"
     ]
    },
    {
     "name": "stdout",
     "output_type": "stream",
     "text": [
      "beginning for 00005\n",
      "horizons vectors acquired\n",
      "creating particle\n",
      "generating ephemeris\n",
      "forming coefficients\n"
     ]
    },
    {
     "name": "stderr",
     "output_type": "stream",
     "text": [
      " 33%|███▎      | 1/3 [00:36<01:12, 36.21s/it]"
     ]
    },
    {
     "name": "stdout",
     "output_type": "stream",
     "text": [
      "beginning for 00006\n",
      "horizons vectors acquired\n",
      "creating particle\n",
      "generating ephemeris\n",
      "forming coefficients\n"
     ]
    },
    {
     "name": "stderr",
     "output_type": "stream",
     "text": [
      " 67%|██████▋   | 2/3 [01:11<00:35, 35.51s/it]"
     ]
    },
    {
     "name": "stdout",
     "output_type": "stream",
     "text": [
      "beginning for 00008\n",
      "horizons vectors acquired\n",
      "creating particle\n",
      "generating ephemeris\n",
      "forming coefficients\n"
     ]
    },
    {
     "name": "stderr",
     "output_type": "stream",
     "text": [
      "100%|██████████| 3/3 [01:46<00:00, 35.34s/it]\n"
     ]
    },
    {
     "data": {
      "text/plain": [
       "['00005', '00006', '00008']"
      ]
     },
     "execution_count": 1,
     "metadata": {},
     "output_type": "execute_result"
    }
   ],
   "source": [
    "# import jax\n",
    "\n",
    "# jax.config.update(\"jax_enable_x64\", True)\n",
    "\n",
    "# import astropy.units as u\n",
    "# import jax.numpy as jnp\n",
    "# import numpy as np\n",
    "# from astropy.time import Time\n",
    "# from tqdm import tqdm\n",
    "\n",
    "\n",
    "# def generate_ephem(particle_name, chunk_size, degree):\n",
    "#     # chunk size in days\n",
    "#     print(f\"beginning for {particle_name}\")\n",
    "#     obj = Horizons(id=particle_name, location=\"500@0\", epochs=t0.tdb.jd, id_type=\"smallbody\")\n",
    "#     vecs = obj.vectors(refplane=\"earth\")\n",
    "#     print(\"horizons vectors acquired\")\n",
    "#     x0 = jnp.array([vecs[\"x\"], vecs[\"y\"], vecs[\"z\"]]).T[0]\n",
    "#     v0 = jnp.array([vecs[\"vx\"], vecs[\"vy\"], vecs[\"vz\"]]).T[0]\n",
    "#     print(\"creating particle\")\n",
    "#     particle = Particle(x=x0, v=v0, time=t0, gravity=\"newtonian solar system\")\n",
    "\n",
    "#     t = forward_times.tdb.jd\n",
    "\n",
    "#     print(\"generating ephemeris\")\n",
    "#     eph = particle.ephemeris(t, observer=forward_pos)\n",
    "\n",
    "#     print(\"forming coefficients\")\n",
    "#     r = jnp.unwrap(eph.ra.rad)\n",
    "#     d = eph.dec.rad\n",
    "\n",
    "#     num_chunks = int(jnp.ceil((t[-1] - t[0]) / chunk_size))\n",
    "\n",
    "#     init = (t[0] - 2451545.0) * 86400.0\n",
    "#     intlen = chunk_size * 86400.0\n",
    "\n",
    "#     coeffs = jnp.zeros((degree + 1, 2, num_chunks))\n",
    "#     for i in range(num_chunks):\n",
    "#         inds = (t >= t[0] + i * chunk_size) & (t < t[0] + (i + 1) * chunk_size)\n",
    "#         t_chunk = t[inds]\n",
    "#         r_chunk = r[inds]\n",
    "#         d_chunk = d[inds]\n",
    "\n",
    "#         # Scale time to [-1, 1] domain\n",
    "#         t_min, t_max = t0.tdb.jd + i * chunk_size, t0.tdb.jd + (i + 1) * chunk_size\n",
    "#         t_scaled = 2 * (t_chunk - t_min) / (t_max - t_min) - 1\n",
    "\n",
    "#         # Fit Chebyshev polynomials\n",
    "#         coefficients = chebyshev.chebfit(t_scaled, r_chunk, degree)\n",
    "#         coefficients = coefficients[::-1]\n",
    "#         coeffs = coeffs.at[:, 0, i].set(coefficients)\n",
    "\n",
    "#         coefficients = chebyshev.chebfit(t_scaled, d_chunk, degree)\n",
    "#         coefficients = coefficients[::-1]\n",
    "#         coeffs = coeffs.at[:, 1, i].set(coefficients)\n",
    "\n",
    "#     return (init, intlen, coeffs), x0, v0\n",
    "\n",
    "\n",
    "# # def test_ephem(particle_name, ephem, t):\n",
    "# #     obj = Horizons(id=particle_name, location=\"500@399\", epochs=t.utc.jd, id_type=\"smallbody\")\n",
    "# #     coord = obj.ephemerides(quantities=1, extra_precision=True)\n",
    "# #     s = SkyCoord(coord[\"RA\"], coord[\"DEC\"], unit=(u.deg, u.deg))\n",
    "\n",
    "# #     ra, dec = _individual_state(*ephem, t.tdb.jd)\n",
    "\n",
    "# #     return sky_sep(ra, dec, s.ra.rad, s.dec.rad)\n",
    "\n",
    "\n",
    "# def mpc_code_to_number(code):\n",
    "\n",
    "#     def base62_to_decimal(char):\n",
    "#         \"\"\"\n",
    "#         Convert a single base-62 character to its decimal value.\n",
    "#         Base-62 uses:\n",
    "#         - 0-9 for values 0-9\n",
    "#         - A-Z for values 10-35\n",
    "#         - a-z for values 36-61\n",
    "#         \"\"\"\n",
    "#         if char.isdigit():\n",
    "#             return int(char)\n",
    "#         elif char.isupper():\n",
    "#             return ord(char) - ord(\"A\") + 10\n",
    "#         else:\n",
    "#             return ord(char) - ord(\"a\") + 36\n",
    "\n",
    "#     # if it's unnumbered, just return the code\n",
    "#     if len(code) == 7:\n",
    "#         return code\n",
    "\n",
    "#     # if it's numbered, now it should only be 5 characters long\n",
    "#     assert len(code) == 5\n",
    "\n",
    "#     # low numbers are just numbers\n",
    "#     if \"~\" not in code:\n",
    "#         return code\n",
    "\n",
    "#     # higher ones start with a tilde and are base 62\n",
    "#     assert code[0] == \"~\"\n",
    "\n",
    "#     base62_part = code[1:]\n",
    "\n",
    "#     total = 0\n",
    "#     for position, char in enumerate(reversed(base62_part)):\n",
    "#         decimal_value = base62_to_decimal(char)\n",
    "#         total += decimal_value * (62**position)\n",
    "\n",
    "#     # Add back the offset of 620,000\n",
    "#     final_number = total + 620000\n",
    "\n",
    "#     return final_number\n",
    "\n",
    "\n",
    "# def setup_database():\n",
    "#     with sqlite3.connect(\"ephem_results.db\") as conn:\n",
    "#         conn.execute(\"PRAGMA journal_mode=WAL\")\n",
    "\n",
    "#         # Create our table if it doesn't exist\n",
    "#         conn.execute(\n",
    "#             \"\"\"\n",
    "#             CREATE TABLE IF NOT EXISTS results (\n",
    "#                 target_name TEXT PRIMARY KEY,\n",
    "#                 chebyshev_coefficients BLOB,\n",
    "#                 x0 BLOB,\n",
    "#                 v0 BLOB\n",
    "#             )\n",
    "#         \"\"\"\n",
    "#         )\n",
    "\n",
    "\n",
    "# def adapt_array(arr):\n",
    "#     \"\"\"Convert numpy array to binary for SQLite storage\"\"\"\n",
    "#     return arr.tobytes()\n",
    "\n",
    "\n",
    "# def convert_array(blob):\n",
    "#     \"\"\"Convert binary blob back to numpy array\"\"\"\n",
    "#     return np.frombuffer(blob)\n",
    "\n",
    "\n",
    "# def write_result(target_name, chebyshev_coefficients, x0, v0):\n",
    "#     with sqlite3.connect(\"ephem_results.db\") as conn:\n",
    "#         # Convert the numpy array to binary\n",
    "#         cheby_binary = adapt_array(chebyshev_coefficients)\n",
    "#         x0_binary = adapt_array(x0)\n",
    "#         v0_binary = adapt_array(v0)\n",
    "\n",
    "#         # Insert the result\n",
    "#         conn.execute(\n",
    "#             \"INSERT OR REPLACE INTO results (target_name, chebyshev_coefficients, x0, v0) VALUES (?, ?, ?, ?)\",\n",
    "#             (target_name, cheby_binary, x0_binary, v0_binary),\n",
    "#         )\n",
    "\n",
    "# def contribute_to_ephem(line_start, line_stop):\n",
    "#     with open(\"MPCORB.DAT\") as f:\n",
    "#         lines = f.readlines()[line_start : line_stop + 1]\n",
    "\n",
    "#     targets = [line.split()[0] for line in lines]\n",
    "#     targets = [mpc_code_to_number(target) for target in targets]\n",
    "\n",
    "#     # the asteroids that we use as perturbers are included in MPCORB.DAT\n",
    "#     # if we try to integrate them the accelerations will be huge, and the step sizes\n",
    "#     # will be so small they'll never finish\n",
    "#     forbidden_targets = [\n",
    "#         \"00001\",\n",
    "#         \"00002\",\n",
    "#         \"00003\",\n",
    "#         \"00004\",\n",
    "#         \"00007\",\n",
    "#         \"00010\",\n",
    "#         \"00015\",\n",
    "#         \"00016\",\n",
    "#         \"00031\",\n",
    "#         \"00052\",\n",
    "#         \"00065\",\n",
    "#         \"00087\",\n",
    "#         \"00088\",\n",
    "#         \"00107\",\n",
    "#         \"00511\",\n",
    "#         \"00704\",\n",
    "#     ]\n",
    "#     targets = [target for target in targets if target not in forbidden_targets]\n",
    "\n",
    "#     print(\n",
    "#         f\"Processing {len(targets)} targets between line_start={line_start} and line_stop={line_stop}\"\n",
    "#     )\n",
    "#     setup_database()\n",
    "\n",
    "#     for target in tqdm(targets):\n",
    "#         (_, _, coeffs), x0, v0 = generate_ephem(particle_name=target, chunk_size=30, degree=10)\n",
    "#         write_result(target, coeffs, x0, v0)\n",
    "\n",
    "#     return targets\n",
    "\n",
    "\n",
    "# line_start, line_stop = 43, 50#45_000, 45_005\n",
    "\n",
    "# t0 = Time(\"2020-01-01\")\n",
    "# forward_times = t0 + jnp.arange(0, 20.001, 10 * u.hour.to(u.year)) * u.year\n",
    "# reverse_times = t0 - jnp.arange(0, 20.001, 10 * u.hour.to(u.year)) * u.year\n",
    "\n",
    "# forward_pos = jnp.load(\"forward_pos.npy\")\n",
    "# reverse_pos = jnp.load(\"reverse_pos.npy\")\n",
    "\n",
    "# contribute_to_ephem(line_start, line_stop)\n"
   ]
  },
  {
   "cell_type": "code",
   "execution_count": 15,
   "metadata": {},
   "outputs": [
    {
     "data": {
      "text/plain": [
       "array([[[ 1.58360481e-08,  1.58330398e-08,  1.19038968e-09, ...,\n",
       "          2.78410113e-09,  3.16853077e-09, -1.61582089e-08],\n",
       "        [ 4.08429474e-09,  7.32841376e-09,  2.61714775e-09, ...,\n",
       "         -7.06653039e-10, -3.35027732e-10,  3.38711064e-09]],\n",
       "\n",
       "       [[-1.44453134e-08,  2.07813860e-08,  4.01222765e-08, ...,\n",
       "          3.46993564e-09,  7.35861266e-09, -8.75546973e-08],\n",
       "        [-7.71560144e-09,  3.81517138e-09,  1.61154728e-08, ...,\n",
       "         -1.17715704e-09, -1.43958493e-09,  2.25880374e-08]],\n",
       "\n",
       "       [[-7.00699506e-08, -8.49094177e-08, -5.40263908e-08, ...,\n",
       "         -2.63253979e-08, -1.10707687e-09, -2.96975882e-07],\n",
       "        [-1.46923411e-08, -3.31679831e-08, -2.92268211e-08, ...,\n",
       "          8.39719928e-09,  4.26857678e-10,  9.04351082e-08]],\n",
       "\n",
       "       ...,\n",
       "\n",
       "       [[-2.16818827e-05,  6.21731529e-06,  3.04826612e-04, ...,\n",
       "          1.82249550e-03,  1.38544760e-03,  7.40750096e-04],\n",
       "        [ 1.46990698e-03,  5.20643475e-04, -5.15348731e-04, ...,\n",
       "          9.73999964e-04,  1.49965814e-03,  1.84827609e-03]],\n",
       "\n",
       "       [[ 1.56891345e-01,  1.56515774e-01,  1.57634606e-01, ...,\n",
       "          1.22590233e-01,  1.35537286e-01,  1.44144830e-01],\n",
       "        [ 6.27210075e-02,  7.07760471e-02,  7.07701179e-02, ...,\n",
       "         -2.46656869e-02, -1.47040697e-02, -1.18306390e-03]],\n",
       "\n",
       "       [[ 5.83183104e+00,  6.14522273e+00,  6.45912881e+00, ...,\n",
       "          4.18812229e+01,  4.21397264e+01,  4.24199569e+01],\n",
       "        [-2.11359220e-01, -7.70647202e-02,  6.53501663e-02, ...,\n",
       "         -3.77008338e-01, -4.16820057e-01, -4.32998939e-01]]])"
      ]
     },
     "execution_count": 15,
     "metadata": {},
     "output_type": "execute_result"
    }
   ],
   "source": [
    "def read_result(input_name):\n",
    "    chunk_size = 30\n",
    "    num_chunks = int(jnp.ceil((forward_times.tdb.jd[-1] - forward_times.tdb.jd[0]) / chunk_size))\n",
    "    with sqlite3.connect('ephem_results.db') as conn:\n",
    "        cursor = conn.execute(\n",
    "            'SELECT output_vector FROM results WHERE input_name = ?',\n",
    "            (input_name,)\n",
    "        )\n",
    "        result = cursor.fetchone()\n",
    "        if result:\n",
    "            return convert_array(result[0]).reshape(11, 2, num_chunks)\n",
    "        return None\n",
    "\n",
    "read_result(\"43958\")"
   ]
  },
  {
   "cell_type": "code",
   "execution_count": null,
   "metadata": {},
   "outputs": [],
   "source": []
  },
  {
   "cell_type": "code",
   "execution_count": null,
   "metadata": {},
   "outputs": [],
   "source": []
  }
 ],
 "metadata": {
  "kernelspec": {
   "display_name": "jorbit",
   "language": "python",
   "name": "jorbit"
  },
  "language_info": {
   "codemirror_mode": {
    "name": "ipython",
    "version": 3
   },
   "file_extension": ".py",
   "mimetype": "text/x-python",
   "name": "python",
   "nbconvert_exporter": "python",
   "pygments_lexer": "ipython3",
   "version": "3.13.0"
  }
 },
 "nbformat": 4,
 "nbformat_minor": 2
}
