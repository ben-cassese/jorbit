{
 "cells": [
  {
   "cell_type": "markdown",
   "metadata": {},
   "source": [
    "# scratch work"
   ]
  },
  {
   "cell_type": "code",
   "execution_count": 1,
   "metadata": {},
   "outputs": [],
   "source": [
    "import jax\n",
    "\n",
    "jax.config.update(\"jax_enable_x64\", True)\n",
    "import jax.numpy as jnp\n",
    "\n",
    "from jplephem.spk import SPK\n",
    "import astropy.units as u\n",
    "from astropy.time import Time\n",
    "from astropy.utils.data import download_file\n",
    "\n",
    "PLANET_EPHEMERIS_URL = \"https://ssd.jpl.nasa.gov//ftp/eph/planets/bsp/de440.bsp\"\n",
    "ASTEROID_EPHEMERIS_URL = (\n",
    "    \"https://ssd.jpl.nasa.gov/ftp/eph/small_bodies/asteroids_de441/sb441-n16.bsp\"\n",
    ")"
   ]
  },
  {
   "cell_type": "code",
   "execution_count": 2,
   "metadata": {},
   "outputs": [
    {
     "data": {
      "text/plain": [
       "['__class__',\n",
       " '__delattr__',\n",
       " '__dict__',\n",
       " '__dir__',\n",
       " '__doc__',\n",
       " '__enter__',\n",
       " '__eq__',\n",
       " '__exit__',\n",
       " '__firstlineno__',\n",
       " '__format__',\n",
       " '__ge__',\n",
       " '__getattribute__',\n",
       " '__getitem__',\n",
       " '__getstate__',\n",
       " '__gt__',\n",
       " '__hash__',\n",
       " '__init__',\n",
       " '__init_subclass__',\n",
       " '__le__',\n",
       " '__lt__',\n",
       " '__module__',\n",
       " '__ne__',\n",
       " '__new__',\n",
       " '__reduce__',\n",
       " '__reduce_ex__',\n",
       " '__repr__',\n",
       " '__setattr__',\n",
       " '__sizeof__',\n",
       " '__static_attributes__',\n",
       " '__str__',\n",
       " '__subclasshook__',\n",
       " '__weakref__',\n",
       " 'close',\n",
       " 'comments',\n",
       " 'daf',\n",
       " 'open',\n",
       " 'pairs',\n",
       " 'segments']"
      ]
     },
     "execution_count": 2,
     "metadata": {},
     "output_type": "execute_result"
    }
   ],
   "source": [
    "kernel = SPK.open(download_file(PLANET_EPHEMERIS_URL, cache=True))\n",
    "dir(kernel)"
   ]
  },
  {
   "cell_type": "code",
   "execution_count": 1,
   "metadata": {},
   "outputs": [],
   "source": [
    "from jorbit.ephemeris import Ephemeris\n",
    "\n",
    "e = Ephemeris()"
   ]
  },
  {
   "cell_type": "code",
   "execution_count": 3,
   "metadata": {},
   "outputs": [
    {
     "data": {
      "text/plain": [
       "['mercury',\n",
       " 'venus',\n",
       " 'earth',\n",
       " 'mars',\n",
       " 'jupiter',\n",
       " 'saturn',\n",
       " 'uranus',\n",
       " 'neptune',\n",
       " 'pluto',\n",
       " 'sun']"
      ]
     },
     "execution_count": 3,
     "metadata": {},
     "output_type": "execute_result"
    }
   ],
   "source": [
    "e.ssos"
   ]
  },
  {
   "cell_type": "code",
   "execution_count": 17,
   "metadata": {},
   "outputs": [
    {
     "name": "stdout",
     "output_type": "stream",
     "text": [
      "1.58 ms ± 19.2 μs per loop (mean ± std. dev. of 7 runs, 1,000 loops each)\n"
     ]
    }
   ],
   "source": [
    "%timeit e.state(Time(\"2021-01-01T00:00:00\"))[10][\"x\"].block_until_ready()"
   ]
  },
  {
   "cell_type": "code",
   "execution_count": 19,
   "metadata": {},
   "outputs": [
    {
     "data": {
      "text/html": [
       "<div><i>Table masked=True length=1</i>\n",
       "<table id=\"table5899331216\" class=\"table-striped table-bordered table-condensed\">\n",
       "<thead><tr><th>targetname</th><th>datetime_jd</th><th>datetime_str</th><th>x</th><th>y</th><th>z</th><th>vx</th><th>vy</th><th>vz</th><th>lighttime</th><th>range</th><th>range_rate</th></tr></thead>\n",
       "<thead><tr><th>---</th><th>d</th><th>---</th><th>AU</th><th>AU</th><th>AU</th><th>AU / d</th><th>AU / d</th><th>AU / d</th><th>d</th><th>AU</th><th>AU / d</th></tr></thead>\n",
       "<thead><tr><th>str25</th><th>float64</th><th>str30</th><th>float64</th><th>float64</th><th>float64</th><th>float64</th><th>float64</th><th>float64</th><th>float64</th><th>float64</th><th>float64</th></tr></thead>\n",
       "<tr><td>Earth-Moon Barycenter (3)</td><td>2459215.50080074</td><td>A.D. 2021-Jan-01 00:01:09.1839</td><td>-0.1857985333448159</td><td>0.8925393953089126</td><td>0.3870295356607404</td><td>-0.01720372762894869</td><td>-0.002940779545245006</td><td>-0.001274533654563454</td><td>0.005720211468932683</td><td>0.9904239136073262</td><td>7.914146143481989e-05</td></tr>\n",
       "</table></div>"
      ],
      "text/plain": [
       "<Table masked=True length=1>\n",
       "        targetname          datetime_jd    ...       range_rate     \n",
       "           ---                   d         ...         AU / d       \n",
       "          str25               float64      ...        float64       \n",
       "------------------------- ---------------- ... ---------------------\n",
       "Earth-Moon Barycenter (3) 2459215.50080074 ... 7.914146143481989e-05"
      ]
     },
     "execution_count": 19,
     "metadata": {},
     "output_type": "execute_result"
    }
   ],
   "source": [
    "from astroquery.jplhorizons import Horizons\n",
    "\n",
    "obj = Horizons(\n",
    "    id=\"3\",\n",
    "    epochs=Time(\"2021-01-01T00:00:00\").tdb.jd,\n",
    "    id_type=\"majorbody\",\n",
    "    location=\"@0\",\n",
    ")\n",
    "horizons_results = obj.vectors(refplane=\"earth\")\n",
    "horizons_calc = jnp.array(\n",
    "    [horizons_results[\"x\"][0], horizons_results[\"y\"][0], horizons_results[\"z\"][0]]\n",
    ")\n",
    "horizons_results"
   ]
  },
  {
   "cell_type": "code",
   "execution_count": 20,
   "metadata": {},
   "outputs": [
    {
     "data": {
      "text/plain": [
       "Array([-0.18579853,  0.8925394 ,  0.38702954], dtype=float64)"
      ]
     },
     "execution_count": 20,
     "metadata": {},
     "output_type": "execute_result"
    }
   ],
   "source": [
    "e = Ephemeris()\n",
    "jorbit_calc = e.state(Time(\"2021-01-01T00:00:00\"))\n",
    "jorbit_calc = jorbit_calc[3][\"x\"]\n",
    "jorbit_calc"
   ]
  },
  {
   "cell_type": "code",
   "execution_count": 21,
   "metadata": {},
   "outputs": [
    {
     "data": {
      "text/plain": [
       "Array(0.19863445, dtype=float64)"
      ]
     },
     "execution_count": 21,
     "metadata": {},
     "output_type": "execute_result"
    }
   ],
   "source": [
    "jnp.linalg.norm(jorbit_calc - horizons_calc) * u.au.to(u.m)"
   ]
  },
  {
   "cell_type": "code",
   "execution_count": 22,
   "metadata": {},
   "outputs": [
    {
     "data": {
      "text/plain": [
       "Array(0.20586389, dtype=float64)"
      ]
     },
     "execution_count": 22,
     "metadata": {},
     "output_type": "execute_result"
    }
   ],
   "source": [
    "# 0.2 meters! what about jplephem?\n",
    "jplephem_calc = kernel.segments[2].compute(\n",
    "    Time(\"2021-01-01T00:00:00\").tdb.jd\n",
    ") * u.km.to(u.au)\n",
    "jnp.linalg.norm(jplephem_calc - horizons_calc) * u.au.to(u.m)"
   ]
  },
  {
   "cell_type": "code",
   "execution_count": 23,
   "metadata": {},
   "outputs": [
    {
     "data": {
      "text/plain": [
       "Array(7.22946136, dtype=float64)"
      ]
     },
     "execution_count": 23,
     "metadata": {},
     "output_type": "execute_result"
    }
   ],
   "source": [
    "jnp.linalg.norm(jplephem_calc - jorbit_calc) * u.au.to(u.mm)"
   ]
  },
  {
   "cell_type": "code",
   "execution_count": 24,
   "metadata": {},
   "outputs": [],
   "source": [
    "# 7mm difference between jplephem and jorbit, 0.2m between each and Horizons"
   ]
  },
  {
   "cell_type": "code",
   "execution_count": 25,
   "metadata": {},
   "outputs": [
    {
     "name": "stdout",
     "output_type": "stream",
     "text": [
      "1\n",
      "1549-12-31..2650-01-25  Type 2  Solar System Barycenter (0) -> Mercury Barycenter (1)\n",
      "  frame=1 source=DE-0440LE-0440\n",
      "2\n",
      "1549-12-31..2650-01-25  Type 2  Solar System Barycenter (0) -> Venus Barycenter (2)\n",
      "  frame=1 source=DE-0440LE-0440\n",
      "3\n",
      "1549-12-31..2650-01-25  Type 2  Solar System Barycenter (0) -> Earth Barycenter (3)\n",
      "  frame=1 source=DE-0440LE-0440\n",
      "4\n",
      "1549-12-31..2650-01-25  Type 2  Solar System Barycenter (0) -> Mars Barycenter (4)\n",
      "  frame=1 source=DE-0440LE-0440\n",
      "5\n",
      "1549-12-31..2650-01-25  Type 2  Solar System Barycenter (0) -> Jupiter Barycenter (5)\n",
      "  frame=1 source=DE-0440LE-0440\n",
      "6\n",
      "1549-12-31..2650-01-25  Type 2  Solar System Barycenter (0) -> Saturn Barycenter (6)\n",
      "  frame=1 source=DE-0440LE-0440\n",
      "7\n",
      "1549-12-31..2650-01-25  Type 2  Solar System Barycenter (0) -> Uranus Barycenter (7)\n",
      "  frame=1 source=DE-0440LE-0440\n",
      "8\n",
      "1549-12-31..2650-01-25  Type 2  Solar System Barycenter (0) -> Neptune Barycenter (8)\n",
      "  frame=1 source=DE-0440LE-0440\n",
      "9\n",
      "1549-12-31..2650-01-25  Type 2  Solar System Barycenter (0) -> Pluto Barycenter (9)\n",
      "  frame=1 source=DE-0440LE-0440\n",
      "10\n",
      "1549-12-31..2650-01-25  Type 2  Solar System Barycenter (0) -> Sun (10)\n",
      "  frame=1 source=DE-0440LE-0440\n",
      "301\n",
      "1549-12-31..2650-01-25  Type 2  Earth Barycenter (3) -> Moon (301)\n",
      "  frame=1 source=DE-0440LE-0440\n",
      "399\n",
      "1549-12-31..2650-01-25  Type 2  Earth Barycenter (3) -> Earth (399)\n",
      "  frame=1 source=DE-0440LE-0440\n",
      "199\n",
      "1549-12-31..2650-01-25  Type 2  Mercury Barycenter (1) -> Mercury (199)\n",
      "  frame=1 source=DE-0440LE-0440\n",
      "299\n",
      "1549-12-31..2650-01-25  Type 2  Venus Barycenter (2) -> Venus (299)\n",
      "  frame=1 source=DE-0440LE-0440\n"
     ]
    }
   ],
   "source": [
    "for k in kernel.segments:\n",
    "    print(k.target)\n",
    "    print(k.describe())"
   ]
  },
  {
   "cell_type": "code",
   "execution_count": 34,
   "metadata": {},
   "outputs": [
    {
     "data": {
      "text/plain": [
       "(13, 3, 100448)"
      ]
     },
     "execution_count": 34,
     "metadata": {},
     "output_type": "execute_result"
    }
   ],
   "source": [
    "kernel.segments[-3]._data[-1].shape"
   ]
  },
  {
   "cell_type": "code",
   "execution_count": 40,
   "metadata": {},
   "outputs": [
    {
     "data": {
      "text/plain": [
       "(Array(-32.69647681, dtype=float64, weak_type=True),\n",
       " Array(-8.12544774, dtype=float64, weak_type=True))"
      ]
     },
     "execution_count": 40,
     "metadata": {},
     "output_type": "execute_result"
    }
   ],
   "source": [
    "jnp.log(6.311034342087888e-15), jnp.log(2.9591220828411951e-04)"
   ]
  }
 ],
 "metadata": {
  "kernelspec": {
   "display_name": ".venv",
   "language": "python",
   "name": "python3"
  },
  "language_info": {
   "codemirror_mode": {
    "name": "ipython",
    "version": 3
   },
   "file_extension": ".py",
   "mimetype": "text/x-python",
   "name": "python",
   "nbconvert_exporter": "python",
   "pygments_lexer": "ipython3",
   "version": "3.13.0"
  }
 },
 "nbformat": 4,
 "nbformat_minor": 2
}
