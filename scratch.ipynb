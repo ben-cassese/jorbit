{
 "cells": [
  {
   "cell_type": "markdown",
   "metadata": {},
   "source": [
    "# scratch work"
   ]
  },
  {
   "cell_type": "code",
   "execution_count": 1,
   "metadata": {},
   "outputs": [],
   "source": [
    "import jax\n",
    "\n",
    "jax.config.update(\"jax_enable_x64\", True)\n",
    "import jax.numpy as jnp\n",
    "\n",
    "from tqdm import tqdm\n",
    "\n",
    "from astropy.time import Time\n",
    "import astropy.units as u\n",
    "from astropy.coordinates import SkyCoord\n",
    "from astroquery.jplhorizons import Horizons\n",
    "\n",
    "from jorbit.observation import Observations\n",
    "from jorbit.utils.states import SystemState\n",
    "from jorbit.ephemeris import Ephemeris\n",
    "from jorbit.accelerations import create_newtonian_ephemeris_acceleration_func\n",
    "from jorbit.integrators import ias15_evolve, initialize_ias15_integrator_state\n",
    "from jorbit.astrometry.sky_projection import on_sky, sky_sep\n",
    "\n",
    "t0 = Time(\"2024-12-01 00:00\")\n",
    "t1 = Time(\"2025-12-01 00:00\")"
   ]
  },
  {
   "cell_type": "code",
   "execution_count": 2,
   "metadata": {},
   "outputs": [
    {
     "data": {
      "text/plain": [
       "52000"
      ]
     },
     "execution_count": 2,
     "metadata": {},
     "output_type": "execute_result"
    }
   ],
   "source": [
    "200 * 5 * 52"
   ]
  },
  {
   "cell_type": "code",
   "execution_count": 4,
   "metadata": {},
   "outputs": [],
   "source": [
    "obj = Horizons(id=\"274301\", location=\"@0\", epochs=[t0.tdb.jd, t1.tdb.jd])\n",
    "vecs = obj.vectors(refplane=\"earth\")\n",
    "\n",
    "x0 = jnp.array([vecs[\"x\"][0], vecs[\"y\"][0], vecs[\"z\"][0]])\n",
    "v0 = jnp.array([vecs[\"vx\"][0], vecs[\"vy\"][0], vecs[\"vz\"][0]])\n",
    "\n",
    "x1 = jnp.array([vecs[\"x\"][-1], vecs[\"y\"][-1], vecs[\"z\"][-1]])\n",
    "v1 = jnp.array([vecs[\"vx\"][-1], vecs[\"vy\"][-1], vecs[\"vz\"][-1]])\n",
    "\n",
    "\n",
    "obj = Horizons(id=\"274301\", location=\"695\", epochs=[t0.jd, t1.jd])\n",
    "eph = obj.ephemerides(extra_precision=True, quantities=\"1\")\n",
    "coord0 = SkyCoord(eph[\"RA\"][0], eph[\"DEC\"][0], unit=(u.deg, u.deg), frame=\"icrs\")\n",
    "coord1 = SkyCoord(eph[\"RA\"][-1], eph[\"DEC\"][-1], unit=(u.deg, u.deg), frame=\"icrs\")"
   ]
  },
  {
   "cell_type": "code",
   "execution_count": 5,
   "metadata": {},
   "outputs": [
    {
     "name": "stdout",
     "output_type": "stream",
     "text": [
      "Downloading observer positions from Horizons...\n"
     ]
    },
    {
     "data": {
      "text/latex": [
       "[$0^\\circ00{}^\\prime00.00000115{}^{\\prime\\prime}$]"
      ],
      "text/plain": [
       "<Angle [3.19443392e-10] deg>"
      ]
     },
     "execution_count": 5,
     "metadata": {},
     "output_type": "execute_result"
    }
   ],
   "source": [
    "obs = Observations(\n",
    "    observed_coordinates=[coord0, coord0],\n",
    "    times=jnp.array([t0.tdb.jd, t1.tdb.jd]),\n",
    "    observatories=\"695@399\",\n",
    "    astrometric_uncertainties=1 * u.arcsec,\n",
    "    verbose=True,\n",
    ")\n",
    "\n",
    "eph = Ephemeris(\n",
    "    earliest_time=Time(\"2015-01-01 00:00\"),\n",
    "    latest_time=Time(\"2035-01-01 00:00\"),\n",
    "    ssos=\"default planets\",\n",
    ")\n",
    "\n",
    "acc_func = create_newtonian_ephemeris_acceleration_func(eph.processor)\n",
    "\n",
    "state0 = SystemState(\n",
    "    positions=jnp.array([x0]),\n",
    "    velocities=jnp.array([v0]),\n",
    "    log_gms=jnp.array([0.0]),\n",
    "    time=t0.tdb.jd,\n",
    "    acceleration_func_kwargs=None,\n",
    ")\n",
    "\n",
    "ra0, dec0 = on_sky(state0, acc_func, obs.observer_positions[0])\n",
    "calc_coord0 = SkyCoord(ra0, dec0, unit=(u.rad, u.rad), frame=\"icrs\")\n",
    "calc_coord0.separation(coord0)"
   ]
  },
  {
   "cell_type": "code",
   "execution_count": 6,
   "metadata": {},
   "outputs": [
    {
     "data": {
      "text/latex": [
       "[$0^\\circ00{}^\\prime00.00197019{}^{\\prime\\prime}$]"
      ],
      "text/plain": [
       "<Angle [5.47274304e-07] deg>"
      ]
     },
     "execution_count": 6,
     "metadata": {},
     "output_type": "execute_result"
    }
   ],
   "source": [
    "new_positions, new_velocities, state1, new_integrator_state = ias15_evolve(\n",
    "    initial_system_state=state0,\n",
    "    acceleration_func=acc_func,\n",
    "    times=jnp.array([t1.tdb.jd]),\n",
    "    initial_integrator_state=initialize_ias15_integrator_state(acc_func(state0)),\n",
    "    n_steps=100,\n",
    ")\n",
    "\n",
    "ra1, dec1 = on_sky(state1, acc_func, obs.observer_positions[1])\n",
    "calc_coord1 = SkyCoord(ra1, dec1, unit=(u.rad, u.rad), frame=\"icrs\")\n",
    "calc_coord1.separation(coord1)"
   ]
  },
  {
   "cell_type": "code",
   "execution_count": 7,
   "metadata": {},
   "outputs": [
    {
     "data": {
      "text/plain": [
       "(Array([[-2.17856334, -1.13866228, -0.35793294]], dtype=float64),\n",
       " Array([[-1.78355289,  1.97281979,  0.57967129]], dtype=float64))"
      ]
     },
     "execution_count": 7,
     "metadata": {},
     "output_type": "execute_result"
    }
   ],
   "source": [
    "state1.positions, state0.positions"
   ]
  },
  {
   "cell_type": "code",
   "execution_count": 8,
   "metadata": {},
   "outputs": [
    {
     "data": {
      "text/plain": [
       "(Array([-2.17856337, -1.13866227, -0.35793294], dtype=float64),\n",
       " Array([-1.78355289,  1.97281979,  0.57967129], dtype=float64))"
      ]
     },
     "execution_count": 8,
     "metadata": {},
     "output_type": "execute_result"
    }
   ],
   "source": [
    "x1, x0"
   ]
  },
  {
   "cell_type": "code",
   "execution_count": 9,
   "metadata": {},
   "outputs": [
    {
     "data": {
      "text/plain": [
       "Array(16.64531375, dtype=float64)"
      ]
     },
     "execution_count": 9,
     "metadata": {},
     "output_type": "execute_result"
    }
   ],
   "source": [
    "new_integrator_state.dt"
   ]
  },
  {
   "cell_type": "code",
   "execution_count": null,
   "metadata": {},
   "outputs": [],
   "source": []
  },
  {
   "cell_type": "code",
   "execution_count": 10,
   "metadata": {},
   "outputs": [
    {
     "name": "stdout",
     "output_type": "stream",
     "text": [
      "Downloading observer positions from Horizons...\n"
     ]
    }
   ],
   "source": [
    "from jorbit.astrometry.transformations import (\n",
    "    elements_to_cartesian,\n",
    "    cartesian_to_elements,\n",
    ")\n",
    "\n",
    "tess_coord = SkyCoord(\n",
    "    95.97, 22.75, unit=(u.deg, u.deg), frame=\"icrs\", obstime=Time(\"2023-11-11 00:00\")\n",
    ")\n",
    "obs = Observations(\n",
    "    observed_coordinates=[tess_coord],\n",
    "    times=jnp.array([tess_coord.obstime.tdb.jd]),\n",
    "    observatories=\"@-95\",\n",
    "    astrometric_uncertainties=1 * u.arcsec,\n",
    "    verbose=True,\n",
    ")\n",
    "\n",
    "eph = Ephemeris(\n",
    "    earliest_time=Time(\"2015-01-01 00:00\"),\n",
    "    latest_time=Time(\"2035-01-01 00:00\"),\n",
    "    ssos=\"default planets\",\n",
    ")\n",
    "acc_func = create_newtonian_ephemeris_acceleration_func(eph.processor)"
   ]
  },
  {
   "cell_type": "code",
   "execution_count": 11,
   "metadata": {},
   "outputs": [
    {
     "data": {
      "text/plain": [
       "{'Omega': Array([3251.19227403], dtype=float64),\n",
       " 'nu': Array([2130.19201191], dtype=float64),\n",
       " 'omega': Array([2130.19215495], dtype=float64)}"
      ]
     },
     "execution_count": 11,
     "metadata": {},
     "output_type": "execute_result"
    }
   ],
   "source": [
    "@jax.jit\n",
    "def best_orb(variable_params, fixed_params, target_ra, target_dec, observer_pos):\n",
    "    x, v = elements_to_cartesian(**fixed_params, **variable_params)\n",
    "    state = SystemState(\n",
    "        positions=x,\n",
    "        velocities=v,\n",
    "        log_gms=jnp.array([0.0]),\n",
    "        time=0.0,\n",
    "        acceleration_func_kwargs=None,\n",
    "    )\n",
    "    calc_ra, calc_dec = on_sky(state, acc_func, observer_pos)\n",
    "\n",
    "    return sky_sep(calc_ra, calc_dec, target_ra, target_dec)[0]\n",
    "\n",
    "\n",
    "best_orb(\n",
    "    {\n",
    "        \"Omega\": jnp.array([180.0]),\n",
    "        \"omega\": jnp.array([180.0]),\n",
    "        \"nu\": jnp.array([180.0]),\n",
    "    },\n",
    "    {\"a\": jnp.array([30.0]), \"ecc\": jnp.array([0.1]), \"inc\": jnp.array([30.0])},\n",
    "    tess_coord.ra.rad,\n",
    "    tess_coord.dec.rad,\n",
    "    obs.observer_positions[0],\n",
    ")\n",
    "\n",
    "jax.jacfwd(best_orb, argnums=0)(\n",
    "    {\n",
    "        \"Omega\": jnp.array([180.0]),\n",
    "        \"omega\": jnp.array([180.0]),\n",
    "        \"nu\": jnp.array([180.0]),\n",
    "    },\n",
    "    {\"a\": jnp.array([30.0]), \"ecc\": jnp.array([0.1]), \"inc\": jnp.array([30.0])},\n",
    "    tess_coord.ra.rad,\n",
    "    tess_coord.dec.rad,\n",
    "    obs.observer_positions[0],\n",
    ")"
   ]
  },
  {
   "cell_type": "code",
   "execution_count": 12,
   "metadata": {},
   "outputs": [
    {
     "name": "stdout",
     "output_type": "stream",
     "text": [
      "         Current function value: 0.000000\n",
      "         Iterations: 50\n",
      "         Function evaluations: 114\n",
      "         Gradient evaluations: 108\n"
     ]
    },
    {
     "name": "stderr",
     "output_type": "stream",
     "text": [
      "/Users/cassese/Library/CloudStorage/GoogleDrive-bccassese@gmail.com/My Drive/Columbia University/Research/Active_Projects/jorbit_dev/jorbit/.venv/lib/python3.13/site-packages/scipy/optimize/_minimize.py:726: OptimizeWarning: Desired error not necessarily achieved due to precision loss.\n",
      "  res = _minimize_bfgs(fun, x0, args, jac, callback, **options)\n"
     ]
    }
   ],
   "source": [
    "def scipy_objective(x):\n",
    "    return best_orb(\n",
    "        {\n",
    "            \"Omega\": jnp.array([x[0]]),\n",
    "            \"omega\": jnp.array([x[1]]),\n",
    "            \"nu\": jnp.array([x[2]]),\n",
    "        },\n",
    "        {\"a\": jnp.array([30.0]), \"ecc\": jnp.array([0.1]), \"inc\": jnp.array([30.0])},\n",
    "        tess_coord.ra.rad,\n",
    "        tess_coord.dec.rad,\n",
    "        obs.observer_positions[0],\n",
    "    )\n",
    "\n",
    "\n",
    "# grad = jax.jacfwd(best_orb, argnums=0)\n",
    "def scipy_gradient(x):\n",
    "    g = jax.jacfwd(best_orb, argnums=0)(\n",
    "        {\n",
    "            \"Omega\": jnp.array([x[0]]),\n",
    "            \"omega\": jnp.array([x[1]]),\n",
    "            \"nu\": jnp.array([x[2]]),\n",
    "        },\n",
    "        {\"a\": jnp.array([30.0]), \"ecc\": jnp.array([0.1]), \"inc\": jnp.array([30.0])},\n",
    "        tess_coord.ra.rad,\n",
    "        tess_coord.dec.rad,\n",
    "        obs.observer_positions[0],\n",
    "    )\n",
    "    return jnp.array([g[\"Omega\"][0], g[\"omega\"][0], g[\"nu\"][0]])\n",
    "\n",
    "\n",
    "from scipy.optimize import minimize\n",
    "\n",
    "res = minimize(\n",
    "    scipy_objective,\n",
    "    [180.0, 180.0, 180.0],\n",
    "    jac=scipy_gradient,\n",
    "    method=\"BFGS\",\n",
    "    options={\"disp\": True},\n",
    ")"
   ]
  },
  {
   "cell_type": "code",
   "execution_count": 13,
   "metadata": {},
   "outputs": [
    {
     "data": {
      "text/plain": [
       "  message: Desired error not necessarily achieved due to precision loss.\n",
       "  success: False\n",
       "   status: 2\n",
       "      fun: 4.0910197415231247e-10\n",
       "        x: [-3.871e+01  2.468e+02  2.424e+02]\n",
       "      nit: 50\n",
       "      jac: [-3.139e+03 -2.722e+03 -2.729e+03]\n",
       " hess_inv: [[ 2.130e-06  1.032e-03 -1.032e-03]\n",
       "            [ 1.032e-03  5.000e-01 -4.999e-01]\n",
       "            [-1.032e-03 -4.999e-01  4.997e-01]]\n",
       "     nfev: 114\n",
       "     njev: 108"
      ]
     },
     "execution_count": 13,
     "metadata": {},
     "output_type": "execute_result"
    }
   ],
   "source": [
    "res"
   ]
  },
  {
   "cell_type": "code",
   "execution_count": 14,
   "metadata": {},
   "outputs": [
    {
     "data": {
      "text/latex": [
       "[$0^\\circ00{}^\\prime00{}^{\\prime\\prime}$]"
      ],
      "text/plain": [
       "<Angle [1.12700756e-13] deg>"
      ]
     },
     "execution_count": 14,
     "metadata": {},
     "output_type": "execute_result"
    }
   ],
   "source": [
    "el = {\n",
    "    \"a\": jnp.array([30.0]),\n",
    "    \"ecc\": jnp.array([0.1]),\n",
    "    \"inc\": jnp.array([30.0]),\n",
    "    \"Omega\": jnp.array([res.x[0]]),\n",
    "    \"omega\": jnp.array([res.x[1]]),\n",
    "    \"nu\": jnp.array([res.x[2]]),\n",
    "}\n",
    "x, v = elements_to_cartesian(**el)\n",
    "state = SystemState(\n",
    "    positions=x,\n",
    "    velocities=v,\n",
    "    log_gms=jnp.array([0.0]),\n",
    "    time=0.0,\n",
    "    acceleration_func_kwargs=None,\n",
    ")\n",
    "calc_ra, calc_dec = on_sky(state, acc_func, obs.observer_positions[0])\n",
    "calc_coord = SkyCoord(calc_ra, calc_dec, unit=(u.rad, u.rad), frame=\"icrs\")\n",
    "calc_coord.separation(tess_coord)"
   ]
  },
  {
   "cell_type": "code",
   "execution_count": 15,
   "metadata": {},
   "outputs": [
    {
     "name": "stderr",
     "output_type": "stream",
     "text": [
      "100%|██████████| 27/27 [00:06<00:00,  4.10it/s]\n"
     ]
    }
   ],
   "source": [
    "def produce_valid_orbits(semis, eccs, incs, target_ra, target_dec, observer_pos):\n",
    "\n",
    "    def scipy_objective(x, fixed, target_ra, target_dec, observer_pos):\n",
    "        return best_orb(\n",
    "            {\n",
    "                \"Omega\": jnp.array([x[0]]),\n",
    "                \"omega\": jnp.array([x[1]]),\n",
    "                \"nu\": jnp.array([x[2]]),\n",
    "            },\n",
    "            fixed,\n",
    "            target_ra,\n",
    "            target_dec,\n",
    "            observer_pos,\n",
    "        )\n",
    "\n",
    "    def scipy_gradient(x, fixed, target_ra, target_dec, observer_pos):\n",
    "        g = jax.jacfwd(best_orb, argnums=0)(\n",
    "            {\n",
    "                \"Omega\": jnp.array([x[0]]),\n",
    "                \"omega\": jnp.array([x[1]]),\n",
    "                \"nu\": jnp.array([x[2]]),\n",
    "            },\n",
    "            fixed,\n",
    "            target_ra,\n",
    "            target_dec,\n",
    "            observer_pos,\n",
    "        )\n",
    "        return jnp.array([g[\"Omega\"][0], g[\"omega\"][0], g[\"nu\"][0]])\n",
    "\n",
    "    fixed_params = []\n",
    "    for a in semis:\n",
    "        for e in eccs:\n",
    "            for i in incs:\n",
    "                fixed_params.append(\n",
    "                    {\"a\": jnp.array([a]), \"ecc\": jnp.array([e]), \"inc\": jnp.array([i])}\n",
    "                )\n",
    "\n",
    "    valid_orbits = []\n",
    "    for fixed in tqdm(fixed_params):\n",
    "        res = minimize(\n",
    "            scipy_objective,\n",
    "            [180.0, 180.0, 180.0],\n",
    "            jac=scipy_gradient,\n",
    "            method=\"BFGS\",\n",
    "            args=(fixed, target_ra, target_dec, observer_pos),\n",
    "            # options={\"disp\": True},\n",
    "        )\n",
    "        if res.fun < 10.0:\n",
    "            el = {\n",
    "                \"a\": fixed[\"a\"],\n",
    "                \"ecc\": fixed[\"ecc\"],\n",
    "                \"inc\": fixed[\"inc\"],\n",
    "                \"Omega\": jnp.array([res.x[0]]),\n",
    "                \"omega\": jnp.array([res.x[1]]),\n",
    "                \"nu\": jnp.array([res.x[2]]),\n",
    "            }\n",
    "            valid_orbits.append((el, res.fun))\n",
    "\n",
    "    return valid_orbits\n",
    "\n",
    "\n",
    "orbs = produce_valid_orbits(\n",
    "    jnp.array([30.0, 40.0, 50.0]),\n",
    "    jnp.array([0.1, 0.2, 0.3]),\n",
    "    jnp.array([20.0, 30.0, 40.0]),\n",
    "    tess_coord.ra.rad,\n",
    "    tess_coord.dec.rad,\n",
    "    obs.observer_positions[0],\n",
    ")"
   ]
  },
  {
   "cell_type": "code",
   "execution_count": 16,
   "metadata": {},
   "outputs": [
    {
     "data": {
      "text/plain": [
       "15.525"
      ]
     },
     "execution_count": 16,
     "metadata": {},
     "output_type": "execute_result"
    }
   ],
   "source": [
    "jnp.arange(5, 120, 5).size * jnp.arange(0.0, 0.9, 0.1).size * jnp.arange(\n",
    "    0, 180, 10\n",
    ").size / 4 / 60"
   ]
  },
  {
   "cell_type": "code",
   "execution_count": 17,
   "metadata": {},
   "outputs": [
    {
     "data": {
      "text/plain": [
       "18"
      ]
     },
     "execution_count": 17,
     "metadata": {},
     "output_type": "execute_result"
    }
   ],
   "source": [
    "len(orbs)"
   ]
  },
  {
   "cell_type": "code",
   "execution_count": 22,
   "metadata": {},
   "outputs": [],
   "source": [
    "xs, vs = [], []\n",
    "for o in orbs:\n",
    "    x, v = elements_to_cartesian(**o[0])\n",
    "    xs.append(x[0])\n",
    "    vs.append(v[0])\n",
    "xs = jnp.array(xs)\n",
    "vs = jnp.array(vs)\n",
    "\n",
    "state = SystemState(\n",
    "    positions=xs,\n",
    "    velocities=vs,\n",
    "    log_gms=jnp.ones_like(xs[:, 0]) * -jnp.inf,\n",
    "    time=tess_coord.obstime.tdb.jd,\n",
    "    acceleration_func_kwargs=None,\n",
    ")\n",
    "\n",
    "sector_times = (tess_coord.obstime + jnp.arange(0.1, 27, 0.1) * u.day).tdb.jd\n",
    "\n",
    "\n",
    "new_positions, new_velocities, state1, new_integrator_state = ias15_evolve(\n",
    "    initial_system_state=state,\n",
    "    acceleration_func=acc_func,\n",
    "    times=sector_times,\n",
    "    initial_integrator_state=initialize_ias15_integrator_state(acc_func(state)),\n",
    "    n_steps=100,\n",
    ")"
   ]
  },
  {
   "cell_type": "code",
   "execution_count": 23,
   "metadata": {},
   "outputs": [
    {
     "data": {
      "text/plain": [
       "(269, 18, 3)"
      ]
     },
     "execution_count": 23,
     "metadata": {},
     "output_type": "execute_result"
    }
   ],
   "source": [
    "new_positions.shape"
   ]
  },
  {
   "cell_type": "code",
   "execution_count": 26,
   "metadata": {},
   "outputs": [
    {
     "data": {
      "text/plain": [
       "(18, 3)"
      ]
     },
     "execution_count": 26,
     "metadata": {},
     "output_type": "execute_result"
    }
   ],
   "source": [
    "xs.shape"
   ]
  },
  {
   "cell_type": "code",
   "execution_count": 32,
   "metadata": {},
   "outputs": [
    {
     "data": {
      "text/plain": [
       "<SkyCoord (ICRS): (ra, dec) in deg\n",
       "    [(95.96493464, 22.75175144), (95.9659758 , 22.74756711),\n",
       "     (95.96528858, 22.75162466), (95.9666757 , 22.74798943),\n",
       "     (95.96628255, 22.75127783), (95.96722327, 22.7483208 ),\n",
       "     (95.96725538, 22.74909687), (95.96759315, 22.7485369 ),\n",
       "     (95.96772637, 22.74925129), (95.96802916, 22.74880153),\n",
       "     (95.96809635, 22.74937295), (95.96836947, 22.74900851),\n",
       "     (95.96819584, 22.74940333), (95.96841961, 22.74903611),\n",
       "     (95.96851789, 22.74950954), (95.96871814, 22.74921796),\n",
       "     (95.96876869, 22.74959245), (95.96895029, 22.7493596 )]>"
      ]
     },
     "execution_count": 32,
     "metadata": {},
     "output_type": "execute_result"
    }
   ],
   "source": [
    "s = SystemState(\n",
    "    positions=new_positions[0],\n",
    "    velocities=new_velocities[0],\n",
    "    log_gms=jnp.ones_like(new_positions[0, :, 0]) * -jnp.inf,\n",
    "    time=sector_times[0],\n",
    "    acceleration_func_kwargs=None,\n",
    ")\n",
    "\n",
    "r, d = on_sky(s, acc_func, obs.observer_positions[0])\n",
    "c = SkyCoord(r, d, unit=(u.rad, u.rad), frame=\"icrs\")\n",
    "c"
   ]
  },
  {
   "cell_type": "code",
   "execution_count": null,
   "metadata": {},
   "outputs": [],
   "source": [
    "aws s3 cp --no-sign-request s3://stpubdata/tess/public/mast/tess-s0072-1-1-cube.fits sector72_cubes/ccd1_cam1.fits\n",
    "\n",
    "rclone ls tess:stpubdata/tess/public/mast/\n",
    "\n",
    "rclone cp tess://stpubdata/tess/public/mast/tess-s0072-1-1-cube.fits sector72_cubes/ccd1_cam1.fits"
   ]
  },
  {
   "cell_type": "code",
   "execution_count": null,
   "metadata": {},
   "outputs": [
    {
     "ename": "TypeError",
     "evalue": "Cannot concatenate arrays with different numbers of dimensions: got (18, 3), (10,).",
     "output_type": "error",
     "traceback": [
      "\u001b[0;31m---------------------------------------------------------------------------\u001b[0m",
      "\u001b[0;31mTypeError\u001b[0m                                 Traceback (most recent call last)",
      "Cell \u001b[0;32mIn[17], line 2\u001b[0m\n\u001b[1;32m      1\u001b[0m \u001b[38;5;28;01mfor\u001b[39;00m x, v \u001b[38;5;129;01min\u001b[39;00m \u001b[38;5;28mzip\u001b[39m(new_positions, new_velocities):\n\u001b[0;32m----> 2\u001b[0m     ra, dec \u001b[38;5;241m=\u001b[39m \u001b[43mon_sky\u001b[49m\u001b[43m(\u001b[49m\u001b[43mSystemState\u001b[49m\u001b[43m(\u001b[49m\u001b[43mpositions\u001b[49m\u001b[38;5;241;43m=\u001b[39;49m\u001b[43mx\u001b[49m\u001b[43m,\u001b[49m\u001b[43m \u001b[49m\u001b[43mvelocities\u001b[49m\u001b[38;5;241;43m=\u001b[39;49m\u001b[43mv\u001b[49m\u001b[43m,\u001b[49m\u001b[43m \u001b[49m\u001b[43mlog_gms\u001b[49m\u001b[38;5;241;43m=\u001b[39;49m\u001b[43mjnp\u001b[49m\u001b[38;5;241;43m.\u001b[39;49m\u001b[43mones_like\u001b[49m\u001b[43m(\u001b[49m\u001b[43mx\u001b[49m\u001b[43m)\u001b[49m\u001b[38;5;241;43m*\u001b[39;49m\u001b[38;5;241;43m-\u001b[39;49m\u001b[43mjnp\u001b[49m\u001b[38;5;241;43m.\u001b[39;49m\u001b[43minf\u001b[49m\u001b[43m,\u001b[49m\u001b[43m \u001b[49m\u001b[43mtime\u001b[49m\u001b[38;5;241;43m=\u001b[39;49m\u001b[38;5;241;43m0.0\u001b[39;49m\u001b[43m,\u001b[49m\u001b[43m \u001b[49m\u001b[43macceleration_func_kwargs\u001b[49m\u001b[38;5;241;43m=\u001b[39;49m\u001b[38;5;28;43;01mNone\u001b[39;49;00m\u001b[43m)\u001b[49m\u001b[43m,\u001b[49m\u001b[43m \u001b[49m\u001b[43macc_func\u001b[49m\u001b[43m,\u001b[49m\u001b[43m \u001b[49m\u001b[43mobs\u001b[49m\u001b[38;5;241;43m.\u001b[39;49m\u001b[43mobserver_positions\u001b[49m\u001b[43m[\u001b[49m\u001b[38;5;241;43m0\u001b[39;49m\u001b[43m]\u001b[49m\u001b[43m)\u001b[49m\n\u001b[1;32m      3\u001b[0m     \u001b[38;5;28mprint\u001b[39m(SkyCoord(ra, dec, unit\u001b[38;5;241m=\u001b[39m(u\u001b[38;5;241m.\u001b[39mrad, u\u001b[38;5;241m.\u001b[39mrad), frame\u001b[38;5;241m=\u001b[39m\u001b[38;5;124m\"\u001b[39m\u001b[38;5;124micrs\u001b[39m\u001b[38;5;124m\"\u001b[39m)\u001b[38;5;241m.\u001b[39mseparation(tess_coord))\n",
      "    \u001b[0;31m[... skipping hidden 11 frame]\u001b[0m\n",
      "File \u001b[0;32m~/Library/CloudStorage/GoogleDrive-bccassese@gmail.com/My Drive/Columbia University/Research/Active_Projects/jorbit_dev/jorbit/src/jorbit/astrometry/sky_projection.py:40\u001b[0m, in \u001b[0;36mon_sky\u001b[0;34m(state, acc_func, observer_position)\u001b[0m\n\u001b[1;32m     34\u001b[0m \u001b[38;5;129m@jax\u001b[39m\u001b[38;5;241m.\u001b[39mjit\n\u001b[1;32m     35\u001b[0m \u001b[38;5;28;01mdef\u001b[39;00m \u001b[38;5;21mon_sky\u001b[39m(\n\u001b[1;32m     36\u001b[0m     state: SystemState,\n\u001b[1;32m     37\u001b[0m     acc_func,\n\u001b[1;32m     38\u001b[0m     observer_position,\n\u001b[1;32m     39\u001b[0m ):\n\u001b[0;32m---> 40\u001b[0m     a0 \u001b[38;5;241m=\u001b[39m \u001b[43macc_func\u001b[49m\u001b[43m(\u001b[49m\u001b[43mstate\u001b[49m\u001b[43m)\u001b[49m\n\u001b[1;32m     41\u001b[0m     initial_integrator_state \u001b[38;5;241m=\u001b[39m initialize_ias15_integrator_state(a0)\n\u001b[1;32m     43\u001b[0m     \u001b[38;5;28;01mdef\u001b[39;00m \u001b[38;5;21mscan_func\u001b[39m(carry, scan_over):\n",
      "File \u001b[0;32m~/Library/CloudStorage/GoogleDrive-bccassese@gmail.com/My Drive/Columbia University/Research/Active_Projects/jorbit_dev/jorbit/src/jorbit/accelerations/__init__.py:19\u001b[0m, in \u001b[0;36mcreate_newtonian_ephemeris_acceleration_func.<locals>.func\u001b[0;34m(inputs)\u001b[0m\n\u001b[1;32m     13\u001b[0m perturber_xs, _, _ \u001b[38;5;241m=\u001b[39m ephem_processor\u001b[38;5;241m.\u001b[39mstate(inputs\u001b[38;5;241m.\u001b[39mtime)\n\u001b[1;32m     14\u001b[0m perturber_log_gms \u001b[38;5;241m=\u001b[39m ephem_processor\u001b[38;5;241m.\u001b[39mlog_gms\n\u001b[1;32m     16\u001b[0m new_state \u001b[38;5;241m=\u001b[39m SystemState(\n\u001b[1;32m     17\u001b[0m     positions\u001b[38;5;241m=\u001b[39mjnp\u001b[38;5;241m.\u001b[39mconcatenate([inputs\u001b[38;5;241m.\u001b[39mpositions, perturber_xs]),\n\u001b[1;32m     18\u001b[0m     velocities\u001b[38;5;241m=\u001b[39minputs\u001b[38;5;241m.\u001b[39mvelocities,\n\u001b[0;32m---> 19\u001b[0m     log_gms\u001b[38;5;241m=\u001b[39m\u001b[43mjnp\u001b[49m\u001b[38;5;241;43m.\u001b[39;49m\u001b[43mconcatenate\u001b[49m\u001b[43m(\u001b[49m\u001b[43m[\u001b[49m\u001b[43minputs\u001b[49m\u001b[38;5;241;43m.\u001b[39;49m\u001b[43mlog_gms\u001b[49m\u001b[43m,\u001b[49m\u001b[43m \u001b[49m\u001b[43mperturber_log_gms\u001b[49m\u001b[43m]\u001b[49m\u001b[43m)\u001b[49m,\n\u001b[1;32m     20\u001b[0m     time\u001b[38;5;241m=\u001b[39minputs\u001b[38;5;241m.\u001b[39mtime,\n\u001b[1;32m     21\u001b[0m     acceleration_func_kwargs\u001b[38;5;241m=\u001b[39minputs\u001b[38;5;241m.\u001b[39macceleration_func_kwargs,\n\u001b[1;32m     22\u001b[0m )\n\u001b[1;32m     24\u001b[0m accs \u001b[38;5;241m=\u001b[39m newtonian_gravity(new_state)\n\u001b[1;32m     26\u001b[0m num_particles \u001b[38;5;241m=\u001b[39m inputs\u001b[38;5;241m.\u001b[39mpositions\u001b[38;5;241m.\u001b[39mshape[\u001b[38;5;241m0\u001b[39m]\n",
      "File \u001b[0;32m~/Library/CloudStorage/GoogleDrive-bccassese@gmail.com/My Drive/Columbia University/Research/Active_Projects/jorbit_dev/jorbit/.venv/lib/python3.13/site-packages/jax/_src/numpy/lax_numpy.py:4640\u001b[0m, in \u001b[0;36mconcatenate\u001b[0;34m(arrays, axis, dtype)\u001b[0m\n\u001b[1;32m   4638\u001b[0m k \u001b[38;5;241m=\u001b[39m \u001b[38;5;241m16\u001b[39m\n\u001b[1;32m   4639\u001b[0m \u001b[38;5;28;01mwhile\u001b[39;00m \u001b[38;5;28mlen\u001b[39m(arrays_out) \u001b[38;5;241m>\u001b[39m \u001b[38;5;241m1\u001b[39m:\n\u001b[0;32m-> 4640\u001b[0m   arrays_out \u001b[38;5;241m=\u001b[39m [\u001b[43mlax\u001b[49m\u001b[38;5;241;43m.\u001b[39;49m\u001b[43mconcatenate\u001b[49m\u001b[43m(\u001b[49m\u001b[43marrays_out\u001b[49m\u001b[43m[\u001b[49m\u001b[43mi\u001b[49m\u001b[43m:\u001b[49m\u001b[43mi\u001b[49m\u001b[38;5;241;43m+\u001b[39;49m\u001b[43mk\u001b[49m\u001b[43m]\u001b[49m\u001b[43m,\u001b[49m\u001b[43m \u001b[49m\u001b[43maxis\u001b[49m\u001b[43m)\u001b[49m\n\u001b[1;32m   4641\u001b[0m                 \u001b[38;5;28;01mfor\u001b[39;00m i \u001b[38;5;129;01min\u001b[39;00m \u001b[38;5;28mrange\u001b[39m(\u001b[38;5;241m0\u001b[39m, \u001b[38;5;28mlen\u001b[39m(arrays_out), k)]\n\u001b[1;32m   4642\u001b[0m \u001b[38;5;28;01mreturn\u001b[39;00m arrays_out[\u001b[38;5;241m0\u001b[39m]\n",
      "    \u001b[0;31m[... skipping hidden 7 frame]\u001b[0m\n",
      "File \u001b[0;32m~/Library/CloudStorage/GoogleDrive-bccassese@gmail.com/My Drive/Columbia University/Research/Active_Projects/jorbit_dev/jorbit/.venv/lib/python3.13/site-packages/jax/_src/lax/lax.py:4268\u001b[0m, in \u001b[0;36m_concatenate_shape_rule\u001b[0;34m(*operands, **kwargs)\u001b[0m\n\u001b[1;32m   4266\u001b[0m \u001b[38;5;28;01mif\u001b[39;00m \u001b[38;5;28mlen\u001b[39m({operand\u001b[38;5;241m.\u001b[39mndim \u001b[38;5;28;01mfor\u001b[39;00m operand \u001b[38;5;129;01min\u001b[39;00m operands}) \u001b[38;5;241m!=\u001b[39m \u001b[38;5;241m1\u001b[39m:\n\u001b[1;32m   4267\u001b[0m   msg \u001b[38;5;241m=\u001b[39m \u001b[38;5;124m\"\u001b[39m\u001b[38;5;124mCannot concatenate arrays with different numbers of dimensions: got \u001b[39m\u001b[38;5;132;01m{}\u001b[39;00m\u001b[38;5;124m.\u001b[39m\u001b[38;5;124m\"\u001b[39m\n\u001b[0;32m-> 4268\u001b[0m   \u001b[38;5;28;01mraise\u001b[39;00m \u001b[38;5;167;01mTypeError\u001b[39;00m(msg\u001b[38;5;241m.\u001b[39mformat(\u001b[38;5;124m\"\u001b[39m\u001b[38;5;124m, \u001b[39m\u001b[38;5;124m\"\u001b[39m\u001b[38;5;241m.\u001b[39mjoin(\u001b[38;5;28mstr\u001b[39m(o\u001b[38;5;241m.\u001b[39mshape) \u001b[38;5;28;01mfor\u001b[39;00m o \u001b[38;5;129;01min\u001b[39;00m operands)))\n\u001b[1;32m   4269\u001b[0m \u001b[38;5;28;01mif\u001b[39;00m \u001b[38;5;129;01mnot\u001b[39;00m \u001b[38;5;241m0\u001b[39m \u001b[38;5;241m<\u001b[39m\u001b[38;5;241m=\u001b[39m dimension \u001b[38;5;241m<\u001b[39m operands[\u001b[38;5;241m0\u001b[39m]\u001b[38;5;241m.\u001b[39mndim:\n\u001b[1;32m   4270\u001b[0m   msg \u001b[38;5;241m=\u001b[39m \u001b[38;5;124m\"\u001b[39m\u001b[38;5;124mconcatenate dimension out of bounds: dimension \u001b[39m\u001b[38;5;132;01m{}\u001b[39;00m\u001b[38;5;124m for shapes \u001b[39m\u001b[38;5;132;01m{}\u001b[39;00m\u001b[38;5;124m.\u001b[39m\u001b[38;5;124m\"\u001b[39m\n",
      "\u001b[0;31mTypeError\u001b[0m: Cannot concatenate arrays with different numbers of dimensions: got (18, 3), (10,)."
     ]
    }
   ],
   "source": [
    "for x, v in zip(new_positions, new_velocities):\n",
    "    ra, dec = on_sky(\n",
    "        SystemState(\n",
    "            positions=x,\n",
    "            velocities=v,\n",
    "            log_gms=jnp.ones_like(x) * -jnp.inf,\n",
    "            time=0.0,\n",
    "            acceleration_func_kwargs=None,\n",
    "        ),\n",
    "        acc_func,\n",
    "        obs.observer_positions[0],\n",
    "    )\n",
    "    print(SkyCoord(ra, dec, unit=(u.rad, u.rad), frame=\"icrs\").separation(tess_coord))"
   ]
  },
  {
   "cell_type": "code",
   "execution_count": null,
   "metadata": {},
   "outputs": [
    {
     "name": "stderr",
     "output_type": "stream",
     "text": [
      "WARNING: FITSFixedWarning: 'datfix' made the change 'Set MJD-OBS to 60271.033243 from DATE-OBS.\n",
      "Set MJD-END to 60271.035557 from DATE-END'. [astropy.wcs.wcs]\n"
     ]
    },
    {
     "data": {
      "text/plain": [
       "<Time object: scale='utc' format='isot' value=2023-11-23T00:47:52.158>"
      ]
     },
     "execution_count": 27,
     "metadata": {},
     "output_type": "execute_result"
    }
   ],
   "source": [
    "from astropy.io import fits\n",
    "from astropy.wcs import WCS\n",
    "\n",
    "with fits.open(\"tess2023327004148-s0072-1-1-0267-s_ffic.fits\") as hdul:\n",
    "    w = WCS(hdul[1].header)\n",
    "    t = Time(hdul[1].header[\"DATE-OBS\"])\n",
    "t"
   ]
  },
  {
   "cell_type": "code",
   "execution_count": null,
   "metadata": {},
   "outputs": [
    {
     "data": {
      "text/plain": [
       "<SkyCoord (ICRS): (ra, dec) in deg\n",
       "    (102.24287734, 15.63388622)>"
      ]
     },
     "execution_count": 25,
     "metadata": {},
     "output_type": "execute_result"
    }
   ],
   "source": [
    "w.pixel_to_world(1000, 1000)"
   ]
  },
  {
   "cell_type": "code",
   "execution_count": null,
   "metadata": {},
   "outputs": [
    {
     "data": {
      "text/plain": [
       "5.5625"
      ]
     },
     "execution_count": 23,
     "metadata": {},
     "output_type": "execute_result"
    }
   ],
   "source": [
    "356 / 64"
   ]
  },
  {
   "cell_type": "code",
   "execution_count": null,
   "metadata": {},
   "outputs": [
    {
     "data": {
      "text/plain": [
       "4.266666666666667"
      ]
     },
     "execution_count": 21,
     "metadata": {},
     "output_type": "execute_result"
    }
   ],
   "source": [
    "16 * 16 / 60"
   ]
  },
  {
   "cell_type": "code",
   "execution_count": null,
   "metadata": {},
   "outputs": [],
   "source": []
  },
  {
   "cell_type": "code",
   "execution_count": null,
   "metadata": {},
   "outputs": [],
   "source": []
  },
  {
   "cell_type": "code",
   "execution_count": 33,
   "metadata": {},
   "outputs": [
    {
     "data": {
      "text/plain": [
       "Array(28.28200587, dtype=float64, weak_type=True)"
      ]
     },
     "execution_count": 33,
     "metadata": {},
     "output_type": "execute_result"
    }
   ],
   "source": [
    "helio_r = 30.0\n",
    "e = 0.1\n",
    "nu = 40.0\n",
    "Omega = 42.0\n",
    "\n",
    "semi = helio_r / (1 - e**2) * (1 + e * jnp.cos(nu))\n",
    "semi"
   ]
  },
  {
   "cell_type": "code",
   "execution_count": 181,
   "metadata": {},
   "outputs": [
    {
     "name": "stderr",
     "output_type": "stream",
     "text": [
      "  0%|          | 0/81 [00:00<?, ?it/s]\n"
     ]
    },
    {
     "ename": "ValueError",
     "evalue": "shapes (2,1) and (2,1) not aligned: 1 (dim 1) != 2 (dim 0)",
     "output_type": "error",
     "traceback": [
      "\u001b[0;31m---------------------------------------------------------------------------\u001b[0m",
      "\u001b[0;31mValueError\u001b[0m                                Traceback (most recent call last)",
      "Cell \u001b[0;32mIn[181], line 63\u001b[0m\n\u001b[1;32m     58\u001b[0m             valid_orbits\u001b[38;5;241m.\u001b[39mappend((el, res\u001b[38;5;241m.\u001b[39mfun))\n\u001b[1;32m     60\u001b[0m     \u001b[38;5;28;01mreturn\u001b[39;00m valid_orbits\n\u001b[0;32m---> 63\u001b[0m orbs \u001b[38;5;241m=\u001b[39m \u001b[43mproduce_valid_orbits\u001b[49m\u001b[43m(\u001b[49m\n\u001b[1;32m     64\u001b[0m \u001b[43m    \u001b[49m\u001b[43mhelio_rs\u001b[49m\u001b[38;5;241;43m=\u001b[39;49m\u001b[43mjnp\u001b[49m\u001b[38;5;241;43m.\u001b[39;49m\u001b[43marray\u001b[49m\u001b[43m(\u001b[49m\u001b[43m[\u001b[49m\u001b[38;5;241;43m30.0\u001b[39;49m\u001b[43m,\u001b[49m\u001b[43m \u001b[49m\u001b[38;5;241;43m40.0\u001b[39;49m\u001b[43m,\u001b[49m\u001b[43m \u001b[49m\u001b[38;5;241;43m50.0\u001b[39;49m\u001b[43m]\u001b[49m\u001b[43m)\u001b[49m\u001b[43m,\u001b[49m\n\u001b[1;32m     65\u001b[0m \u001b[43m    \u001b[49m\u001b[43meccs\u001b[49m\u001b[38;5;241;43m=\u001b[39;49m\u001b[43mjnp\u001b[49m\u001b[38;5;241;43m.\u001b[39;49m\u001b[43marray\u001b[49m\u001b[43m(\u001b[49m\u001b[43m[\u001b[49m\u001b[38;5;241;43m0.1\u001b[39;49m\u001b[43m,\u001b[49m\u001b[43m \u001b[49m\u001b[38;5;241;43m0.2\u001b[39;49m\u001b[43m,\u001b[49m\u001b[43m \u001b[49m\u001b[38;5;241;43m0.3\u001b[39;49m\u001b[43m]\u001b[49m\u001b[43m)\u001b[49m\u001b[43m,\u001b[49m\n\u001b[1;32m     66\u001b[0m \u001b[43m    \u001b[49m\u001b[43mnus\u001b[49m\u001b[38;5;241;43m=\u001b[39;49m\u001b[43mjnp\u001b[49m\u001b[38;5;241;43m.\u001b[39;49m\u001b[43marray\u001b[49m\u001b[43m(\u001b[49m\u001b[43m[\u001b[49m\u001b[38;5;241;43m20.0\u001b[39;49m\u001b[43m,\u001b[49m\u001b[43m \u001b[49m\u001b[38;5;241;43m30.0\u001b[39;49m\u001b[43m,\u001b[49m\u001b[43m \u001b[49m\u001b[38;5;241;43m40.0\u001b[39;49m\u001b[43m]\u001b[49m\u001b[43m)\u001b[49m\u001b[43m,\u001b[49m\n\u001b[1;32m     67\u001b[0m \u001b[43m    \u001b[49m\u001b[43mOmegas\u001b[49m\u001b[38;5;241;43m=\u001b[39;49m\u001b[43mjnp\u001b[49m\u001b[38;5;241;43m.\u001b[39;49m\u001b[43marray\u001b[49m\u001b[43m(\u001b[49m\u001b[43m[\u001b[49m\u001b[38;5;241;43m20.0\u001b[39;49m\u001b[43m,\u001b[49m\u001b[43m \u001b[49m\u001b[38;5;241;43m30.0\u001b[39;49m\u001b[43m,\u001b[49m\u001b[43m \u001b[49m\u001b[38;5;241;43m40.0\u001b[39;49m\u001b[43m]\u001b[49m\u001b[43m)\u001b[49m\u001b[43m,\u001b[49m\n\u001b[1;32m     68\u001b[0m \u001b[43m    \u001b[49m\u001b[43mtarget_ra\u001b[49m\u001b[38;5;241;43m=\u001b[39;49m\u001b[43mtess_coord\u001b[49m\u001b[38;5;241;43m.\u001b[39;49m\u001b[43mra\u001b[49m\u001b[38;5;241;43m.\u001b[39;49m\u001b[43mrad\u001b[49m\u001b[43m,\u001b[49m\n\u001b[1;32m     69\u001b[0m \u001b[43m    \u001b[49m\u001b[43mtarget_dec\u001b[49m\u001b[38;5;241;43m=\u001b[39;49m\u001b[43mtess_coord\u001b[49m\u001b[38;5;241;43m.\u001b[39;49m\u001b[43mdec\u001b[49m\u001b[38;5;241;43m.\u001b[39;49m\u001b[43mrad\u001b[49m\u001b[43m,\u001b[49m\n\u001b[1;32m     70\u001b[0m \u001b[43m    \u001b[49m\u001b[43mobserver_pos\u001b[49m\u001b[38;5;241;43m=\u001b[39;49m\u001b[43mobs\u001b[49m\u001b[38;5;241;43m.\u001b[39;49m\u001b[43mobserver_positions\u001b[49m\u001b[43m[\u001b[49m\u001b[38;5;241;43m0\u001b[39;49m\u001b[43m]\u001b[49m\u001b[43m,\u001b[49m\n\u001b[1;32m     71\u001b[0m \u001b[43m)\u001b[49m\n",
      "Cell \u001b[0;32mIn[181], line 41\u001b[0m, in \u001b[0;36mproduce_valid_orbits\u001b[0;34m(helio_rs, eccs, nus, Omegas, target_ra, target_dec, observer_pos)\u001b[0m\n\u001b[1;32m     39\u001b[0m valid_orbits \u001b[38;5;241m=\u001b[39m []\n\u001b[1;32m     40\u001b[0m \u001b[38;5;28;01mfor\u001b[39;00m fixed \u001b[38;5;129;01min\u001b[39;00m tqdm(fixed_params):\n\u001b[0;32m---> 41\u001b[0m     res \u001b[38;5;241m=\u001b[39m \u001b[43mminimize\u001b[49m\u001b[43m(\u001b[49m\n\u001b[1;32m     42\u001b[0m \u001b[43m        \u001b[49m\u001b[43mscipy_objective\u001b[49m\u001b[43m,\u001b[49m\n\u001b[1;32m     43\u001b[0m \u001b[43m        \u001b[49m\u001b[43m[\u001b[49m\u001b[38;5;241;43m20.0\u001b[39;49m\u001b[43m,\u001b[49m\u001b[43m \u001b[49m\u001b[38;5;241;43m120.0\u001b[39;49m\u001b[43m]\u001b[49m\u001b[43m,\u001b[49m\n\u001b[1;32m     44\u001b[0m \u001b[43m        \u001b[49m\u001b[43mjac\u001b[49m\u001b[38;5;241;43m=\u001b[39;49m\u001b[43mscipy_gradient\u001b[49m\u001b[43m,\u001b[49m\n\u001b[1;32m     45\u001b[0m \u001b[43m        \u001b[49m\u001b[43mmethod\u001b[49m\u001b[38;5;241;43m=\u001b[39;49m\u001b[38;5;124;43m\"\u001b[39;49m\u001b[38;5;124;43mBFGS\u001b[39;49m\u001b[38;5;124;43m\"\u001b[39;49m\u001b[43m,\u001b[49m\n\u001b[1;32m     46\u001b[0m \u001b[43m        \u001b[49m\u001b[43margs\u001b[49m\u001b[38;5;241;43m=\u001b[39;49m\u001b[43m(\u001b[49m\u001b[43mfixed\u001b[49m\u001b[43m,\u001b[49m\u001b[43m \u001b[49m\u001b[43mtarget_ra\u001b[49m\u001b[43m,\u001b[49m\u001b[43m \u001b[49m\u001b[43mtarget_dec\u001b[49m\u001b[43m,\u001b[49m\u001b[43m \u001b[49m\u001b[43mobserver_pos\u001b[49m\u001b[43m)\u001b[49m\u001b[43m,\u001b[49m\n\u001b[1;32m     47\u001b[0m \u001b[43m        \u001b[49m\u001b[38;5;66;43;03m# options={\"disp\": True},\u001b[39;49;00m\n\u001b[1;32m     48\u001b[0m \u001b[43m    \u001b[49m\u001b[43m)\u001b[49m\n\u001b[1;32m     49\u001b[0m     \u001b[38;5;28;01mif\u001b[39;00m res\u001b[38;5;241m.\u001b[39mfun \u001b[38;5;241m<\u001b[39m \u001b[38;5;241m10.0\u001b[39m:\n\u001b[1;32m     50\u001b[0m         el \u001b[38;5;241m=\u001b[39m {\n\u001b[1;32m     51\u001b[0m             \u001b[38;5;124m\"\u001b[39m\u001b[38;5;124ma\u001b[39m\u001b[38;5;124m\"\u001b[39m: fixed[\u001b[38;5;124m\"\u001b[39m\u001b[38;5;124ma\u001b[39m\u001b[38;5;124m\"\u001b[39m],\n\u001b[1;32m     52\u001b[0m             \u001b[38;5;124m\"\u001b[39m\u001b[38;5;124mecc\u001b[39m\u001b[38;5;124m\"\u001b[39m: fixed[\u001b[38;5;124m\"\u001b[39m\u001b[38;5;124mecc\u001b[39m\u001b[38;5;124m\"\u001b[39m],\n\u001b[0;32m   (...)\u001b[0m\n\u001b[1;32m     56\u001b[0m             \u001b[38;5;124m\"\u001b[39m\u001b[38;5;124mnu\u001b[39m\u001b[38;5;124m\"\u001b[39m: fixed[\u001b[38;5;124m\"\u001b[39m\u001b[38;5;124mnu\u001b[39m\u001b[38;5;124m\"\u001b[39m],\n\u001b[1;32m     57\u001b[0m         }\n",
      "File \u001b[0;32m~/Library/CloudStorage/GoogleDrive-bccassese@gmail.com/My Drive/Columbia University/Research/Active_Projects/jorbit_dev/jorbit/.venv/lib/python3.13/site-packages/scipy/optimize/_minimize.py:726\u001b[0m, in \u001b[0;36mminimize\u001b[0;34m(fun, x0, args, method, jac, hess, hessp, bounds, constraints, tol, callback, options)\u001b[0m\n\u001b[1;32m    724\u001b[0m     res \u001b[38;5;241m=\u001b[39m _minimize_cg(fun, x0, args, jac, callback, \u001b[38;5;241m*\u001b[39m\u001b[38;5;241m*\u001b[39moptions)\n\u001b[1;32m    725\u001b[0m \u001b[38;5;28;01melif\u001b[39;00m meth \u001b[38;5;241m==\u001b[39m \u001b[38;5;124m'\u001b[39m\u001b[38;5;124mbfgs\u001b[39m\u001b[38;5;124m'\u001b[39m:\n\u001b[0;32m--> 726\u001b[0m     res \u001b[38;5;241m=\u001b[39m \u001b[43m_minimize_bfgs\u001b[49m\u001b[43m(\u001b[49m\u001b[43mfun\u001b[49m\u001b[43m,\u001b[49m\u001b[43m \u001b[49m\u001b[43mx0\u001b[49m\u001b[43m,\u001b[49m\u001b[43m \u001b[49m\u001b[43margs\u001b[49m\u001b[43m,\u001b[49m\u001b[43m \u001b[49m\u001b[43mjac\u001b[49m\u001b[43m,\u001b[49m\u001b[43m \u001b[49m\u001b[43mcallback\u001b[49m\u001b[43m,\u001b[49m\u001b[43m \u001b[49m\u001b[38;5;241;43m*\u001b[39;49m\u001b[38;5;241;43m*\u001b[39;49m\u001b[43moptions\u001b[49m\u001b[43m)\u001b[49m\n\u001b[1;32m    727\u001b[0m \u001b[38;5;28;01melif\u001b[39;00m meth \u001b[38;5;241m==\u001b[39m \u001b[38;5;124m'\u001b[39m\u001b[38;5;124mnewton-cg\u001b[39m\u001b[38;5;124m'\u001b[39m:\n\u001b[1;32m    728\u001b[0m     res \u001b[38;5;241m=\u001b[39m _minimize_newtoncg(fun, x0, args, jac, hess, hessp, callback,\n\u001b[1;32m    729\u001b[0m                              \u001b[38;5;241m*\u001b[39m\u001b[38;5;241m*\u001b[39moptions)\n",
      "File \u001b[0;32m~/Library/CloudStorage/GoogleDrive-bccassese@gmail.com/My Drive/Columbia University/Research/Active_Projects/jorbit_dev/jorbit/.venv/lib/python3.13/site-packages/scipy/optimize/_optimize.py:1397\u001b[0m, in \u001b[0;36m_minimize_bfgs\u001b[0;34m(fun, x0, args, jac, callback, gtol, norm, eps, maxiter, disp, return_all, finite_diff_rel_step, xrtol, c1, c2, hess_inv0, **unknown_options)\u001b[0m\n\u001b[1;32m   1394\u001b[0m pk \u001b[38;5;241m=\u001b[39m \u001b[38;5;241m-\u001b[39mnp\u001b[38;5;241m.\u001b[39mdot(Hk, gfk)\n\u001b[1;32m   1395\u001b[0m \u001b[38;5;28;01mtry\u001b[39;00m:\n\u001b[1;32m   1396\u001b[0m     alpha_k, fc, gc, old_fval, old_old_fval, gfkp1 \u001b[38;5;241m=\u001b[39m \\\n\u001b[0;32m-> 1397\u001b[0m              \u001b[43m_line_search_wolfe12\u001b[49m\u001b[43m(\u001b[49m\u001b[43mf\u001b[49m\u001b[43m,\u001b[49m\u001b[43m \u001b[49m\u001b[43mmyfprime\u001b[49m\u001b[43m,\u001b[49m\u001b[43m \u001b[49m\u001b[43mxk\u001b[49m\u001b[43m,\u001b[49m\u001b[43m \u001b[49m\u001b[43mpk\u001b[49m\u001b[43m,\u001b[49m\u001b[43m \u001b[49m\u001b[43mgfk\u001b[49m\u001b[43m,\u001b[49m\n\u001b[1;32m   1398\u001b[0m \u001b[43m                                  \u001b[49m\u001b[43mold_fval\u001b[49m\u001b[43m,\u001b[49m\u001b[43m \u001b[49m\u001b[43mold_old_fval\u001b[49m\u001b[43m,\u001b[49m\u001b[43m \u001b[49m\u001b[43mamin\u001b[49m\u001b[38;5;241;43m=\u001b[39;49m\u001b[38;5;241;43m1e-100\u001b[39;49m\u001b[43m,\u001b[49m\n\u001b[1;32m   1399\u001b[0m \u001b[43m                                  \u001b[49m\u001b[43mamax\u001b[49m\u001b[38;5;241;43m=\u001b[39;49m\u001b[38;5;241;43m1e100\u001b[39;49m\u001b[43m,\u001b[49m\u001b[43m \u001b[49m\u001b[43mc1\u001b[49m\u001b[38;5;241;43m=\u001b[39;49m\u001b[43mc1\u001b[49m\u001b[43m,\u001b[49m\u001b[43m \u001b[49m\u001b[43mc2\u001b[49m\u001b[38;5;241;43m=\u001b[39;49m\u001b[43mc2\u001b[49m\u001b[43m)\u001b[49m\n\u001b[1;32m   1400\u001b[0m \u001b[38;5;28;01mexcept\u001b[39;00m _LineSearchError:\n\u001b[1;32m   1401\u001b[0m     \u001b[38;5;66;03m# Line search failed to find a better solution.\u001b[39;00m\n\u001b[1;32m   1402\u001b[0m     warnflag \u001b[38;5;241m=\u001b[39m \u001b[38;5;241m2\u001b[39m\n",
      "File \u001b[0;32m~/Library/CloudStorage/GoogleDrive-bccassese@gmail.com/My Drive/Columbia University/Research/Active_Projects/jorbit_dev/jorbit/.venv/lib/python3.13/site-packages/scipy/optimize/_optimize.py:1133\u001b[0m, in \u001b[0;36m_line_search_wolfe12\u001b[0;34m(f, fprime, xk, pk, gfk, old_fval, old_old_fval, **kwargs)\u001b[0m\n\u001b[1;32m   1119\u001b[0m \u001b[38;5;250m\u001b[39m\u001b[38;5;124;03m\"\"\"\u001b[39;00m\n\u001b[1;32m   1120\u001b[0m \u001b[38;5;124;03mSame as line_search_wolfe1, but fall back to line_search_wolfe2 if\u001b[39;00m\n\u001b[1;32m   1121\u001b[0m \u001b[38;5;124;03msuitable step length is not found, and raise an exception if a\u001b[39;00m\n\u001b[0;32m   (...)\u001b[0m\n\u001b[1;32m   1128\u001b[0m \n\u001b[1;32m   1129\u001b[0m \u001b[38;5;124;03m\"\"\"\u001b[39;00m\n\u001b[1;32m   1131\u001b[0m extra_condition \u001b[38;5;241m=\u001b[39m kwargs\u001b[38;5;241m.\u001b[39mpop(\u001b[38;5;124m'\u001b[39m\u001b[38;5;124mextra_condition\u001b[39m\u001b[38;5;124m'\u001b[39m, \u001b[38;5;28;01mNone\u001b[39;00m)\n\u001b[0;32m-> 1133\u001b[0m ret \u001b[38;5;241m=\u001b[39m \u001b[43mline_search_wolfe1\u001b[49m\u001b[43m(\u001b[49m\u001b[43mf\u001b[49m\u001b[43m,\u001b[49m\u001b[43m \u001b[49m\u001b[43mfprime\u001b[49m\u001b[43m,\u001b[49m\u001b[43m \u001b[49m\u001b[43mxk\u001b[49m\u001b[43m,\u001b[49m\u001b[43m \u001b[49m\u001b[43mpk\u001b[49m\u001b[43m,\u001b[49m\u001b[43m \u001b[49m\u001b[43mgfk\u001b[49m\u001b[43m,\u001b[49m\n\u001b[1;32m   1134\u001b[0m \u001b[43m                         \u001b[49m\u001b[43mold_fval\u001b[49m\u001b[43m,\u001b[49m\u001b[43m \u001b[49m\u001b[43mold_old_fval\u001b[49m\u001b[43m,\u001b[49m\n\u001b[1;32m   1135\u001b[0m \u001b[43m                         \u001b[49m\u001b[38;5;241;43m*\u001b[39;49m\u001b[38;5;241;43m*\u001b[39;49m\u001b[43mkwargs\u001b[49m\u001b[43m)\u001b[49m\n\u001b[1;32m   1137\u001b[0m \u001b[38;5;28;01mif\u001b[39;00m ret[\u001b[38;5;241m0\u001b[39m] \u001b[38;5;129;01mis\u001b[39;00m \u001b[38;5;129;01mnot\u001b[39;00m \u001b[38;5;28;01mNone\u001b[39;00m \u001b[38;5;129;01mand\u001b[39;00m extra_condition \u001b[38;5;129;01mis\u001b[39;00m \u001b[38;5;129;01mnot\u001b[39;00m \u001b[38;5;28;01mNone\u001b[39;00m:\n\u001b[1;32m   1138\u001b[0m     xp1 \u001b[38;5;241m=\u001b[39m xk \u001b[38;5;241m+\u001b[39m ret[\u001b[38;5;241m0\u001b[39m] \u001b[38;5;241m*\u001b[39m pk\n",
      "File \u001b[0;32m~/Library/CloudStorage/GoogleDrive-bccassese@gmail.com/My Drive/Columbia University/Research/Active_Projects/jorbit_dev/jorbit/.venv/lib/python3.13/site-packages/scipy/optimize/_linesearch.py:91\u001b[0m, in \u001b[0;36mline_search_wolfe1\u001b[0;34m(f, fprime, xk, pk, gfk, old_fval, old_old_fval, args, c1, c2, amax, amin, xtol)\u001b[0m\n\u001b[1;32m     88\u001b[0m     gc[\u001b[38;5;241m0\u001b[39m] \u001b[38;5;241m+\u001b[39m\u001b[38;5;241m=\u001b[39m \u001b[38;5;241m1\u001b[39m\n\u001b[1;32m     89\u001b[0m     \u001b[38;5;28;01mreturn\u001b[39;00m np\u001b[38;5;241m.\u001b[39mdot(gval[\u001b[38;5;241m0\u001b[39m], pk)\n\u001b[0;32m---> 91\u001b[0m derphi0 \u001b[38;5;241m=\u001b[39m \u001b[43mnp\u001b[49m\u001b[38;5;241;43m.\u001b[39;49m\u001b[43mdot\u001b[49m\u001b[43m(\u001b[49m\u001b[43mgfk\u001b[49m\u001b[43m,\u001b[49m\u001b[43m \u001b[49m\u001b[43mpk\u001b[49m\u001b[43m)\u001b[49m\n\u001b[1;32m     93\u001b[0m stp, fval, old_fval \u001b[38;5;241m=\u001b[39m scalar_search_wolfe1(\n\u001b[1;32m     94\u001b[0m         phi, derphi, old_fval, old_old_fval, derphi0,\n\u001b[1;32m     95\u001b[0m         c1\u001b[38;5;241m=\u001b[39mc1, c2\u001b[38;5;241m=\u001b[39mc2, amax\u001b[38;5;241m=\u001b[39mamax, amin\u001b[38;5;241m=\u001b[39mamin, xtol\u001b[38;5;241m=\u001b[39mxtol)\n\u001b[1;32m     97\u001b[0m \u001b[38;5;28;01mreturn\u001b[39;00m stp, fc[\u001b[38;5;241m0\u001b[39m], gc[\u001b[38;5;241m0\u001b[39m], fval, old_fval, gval[\u001b[38;5;241m0\u001b[39m]\n",
      "\u001b[0;31mValueError\u001b[0m: shapes (2,1) and (2,1) not aligned: 1 (dim 1) != 2 (dim 0)"
     ]
    }
   ],
   "source": [
    "def produce_valid_orbits(\n",
    "    helio_rs, eccs, nus, Omegas, target_ra, target_dec, observer_pos\n",
    "):\n",
    "\n",
    "    def scipy_objective(x, fixed, target_ra, target_dec, observer_pos):\n",
    "        return best_orb(\n",
    "            {\"omega\": jnp.array([x[0]]), \"inc\": jnp.array([x[1]])},\n",
    "            fixed,\n",
    "            target_ra,\n",
    "            target_dec,\n",
    "            observer_pos,\n",
    "        )\n",
    "\n",
    "    def scipy_gradient(x, fixed, target_ra, target_dec, observer_pos):\n",
    "        g = jax.jacfwd(best_orb, argnums=0)(\n",
    "            {\"omega\": jnp.array([x[0]]), \"inc\": jnp.array([x[1]])},\n",
    "            fixed,\n",
    "            target_ra,\n",
    "            target_dec,\n",
    "            observer_pos,\n",
    "        )\n",
    "        return jnp.array([g[\"omega\"][0], g[\"inc\"][0]])\n",
    "\n",
    "    fixed_params = []\n",
    "    for r in helio_rs:\n",
    "        for e in eccs:\n",
    "            for nu in nus:\n",
    "                for Omega in Omegas:\n",
    "                    semi = r / (1 - e**2) * (1 + e * jnp.cos(nu))\n",
    "                    fixed_params.append(\n",
    "                        {\n",
    "                            \"a\": semi,\n",
    "                            \"ecc\": jnp.array([e]),\n",
    "                            \"nu\": jnp.array([nu]),\n",
    "                            \"Omega\": jnp.array([Omega]),\n",
    "                        }\n",
    "                    )\n",
    "\n",
    "    valid_orbits = []\n",
    "    for fixed in tqdm(fixed_params):\n",
    "        res = minimize(\n",
    "            scipy_objective,\n",
    "            [20.0, 120.0],\n",
    "            jac=scipy_gradient,\n",
    "            method=\"BFGS\",\n",
    "            args=(fixed, target_ra, target_dec, observer_pos),\n",
    "            # options={\"disp\": True},\n",
    "        )\n",
    "        if res.fun < 10.0:\n",
    "            el = {\n",
    "                \"a\": fixed[\"a\"],\n",
    "                \"ecc\": fixed[\"ecc\"],\n",
    "                \"inc\": jnp.array([res.x[1]]),\n",
    "                \"Omega\": fixed[\"Omega\"],\n",
    "                \"omega\": jnp.array([res.x[0]]),\n",
    "                \"nu\": fixed[\"nu\"],\n",
    "            }\n",
    "            valid_orbits.append((el, res.fun))\n",
    "\n",
    "    return valid_orbits\n",
    "\n",
    "\n",
    "orbs = produce_valid_orbits(\n",
    "    helio_rs=jnp.array([30.0, 40.0, 50.0]),\n",
    "    eccs=jnp.array([0.1, 0.2, 0.3]),\n",
    "    nus=jnp.array([20.0, 30.0, 40.0]),\n",
    "    Omegas=jnp.array([20.0, 30.0, 40.0]),\n",
    "    target_ra=tess_coord.ra.rad,\n",
    "    target_dec=tess_coord.dec.rad,\n",
    "    observer_pos=obs.observer_positions[0],\n",
    ")"
   ]
  },
  {
   "cell_type": "code",
   "execution_count": 178,
   "metadata": {},
   "outputs": [
    {
     "data": {
      "text/plain": [
       "Array([[  5],\n",
       "       [ 10],\n",
       "       [ 15],\n",
       "       [ 20],\n",
       "       [ 25],\n",
       "       [ 30],\n",
       "       [ 35],\n",
       "       [ 40],\n",
       "       [ 45],\n",
       "       [ 50],\n",
       "       [ 55],\n",
       "       [ 60],\n",
       "       [ 65],\n",
       "       [ 70],\n",
       "       [ 75],\n",
       "       [ 80],\n",
       "       [ 85],\n",
       "       [ 90],\n",
       "       [ 95],\n",
       "       [100],\n",
       "       [105],\n",
       "       [110],\n",
       "       [115]], dtype=int64)"
      ]
     },
     "execution_count": 178,
     "metadata": {},
     "output_type": "execute_result"
    }
   ],
   "source": [
    "jnp.arange(5, 120, 5)[:, None]"
   ]
  },
  {
   "cell_type": "code",
   "execution_count": 39,
   "metadata": {},
   "outputs": [
    {
     "data": {
      "text/plain": [
       "18144"
      ]
     },
     "execution_count": 39,
     "metadata": {},
     "output_type": "execute_result"
    }
   ],
   "source": [
    "jnp.arange(30, 100, 5).size * jnp.arange(0.0, 0.9, 0.1).size * jnp.arange(\n",
    "    0, 360, 30\n",
    ").size * jnp.arange(0, 360, 30).size"
   ]
  },
  {
   "cell_type": "code",
   "execution_count": 36,
   "metadata": {},
   "outputs": [
    {
     "data": {
      "text/plain": [
       "[({'a': Array(31.53964261, dtype=float64),\n",
       "   'ecc': Array([0.1], dtype=float64),\n",
       "   'inc': Array([23.59572514], dtype=float64),\n",
       "   'Omega': Array([20.], dtype=float64),\n",
       "   'omega': Array([55.65032646], dtype=float64),\n",
       "   'nu': Array([20.], dtype=float64)},\n",
       "  1.4231832929851027e-10),\n",
       " ({'a': Array(31.53964261, dtype=float64),\n",
       "   'ecc': Array([0.1], dtype=float64),\n",
       "   'inc': Array([25.00921594], dtype=float64),\n",
       "   'Omega': Array([30.], dtype=float64),\n",
       "   'omega': Array([46.53186474], dtype=float64),\n",
       "   'nu': Array([20.], dtype=float64)},\n",
       "  7.734942444512327e-11),\n",
       " ({'a': Array(31.53964261, dtype=float64),\n",
       "   'ecc': Array([0.1], dtype=float64),\n",
       "   'inc': Array([27.3574672], dtype=float64),\n",
       "   'Omega': Array([40.], dtype=float64),\n",
       "   'omega': Array([37.55168761], dtype=float64),\n",
       "   'nu': Array([20.], dtype=float64)},\n",
       "  4.3437838991034765e-11),\n",
       " ({'a': Array(30.77045894, dtype=float64),\n",
       "   'ecc': Array([0.1], dtype=float64),\n",
       "   'inc': Array([23.59973833], dtype=float64),\n",
       "   'Omega': Array([20.], dtype=float64),\n",
       "   'omega': Array([45.62441527], dtype=float64),\n",
       "   'nu': Array([30.], dtype=float64)},\n",
       "  4.3437838991034765e-11),\n",
       " ({'a': Array(30.77045894, dtype=float64),\n",
       "   'ecc': Array([0.1], dtype=float64),\n",
       "   'inc': Array([25.01558411], dtype=float64),\n",
       "   'Omega': Array([30.], dtype=float64),\n",
       "   'omega': Array([36.50632274], dtype=float64),\n",
       "   'nu': Array([30.], dtype=float64)},\n",
       "  4.3437838991034765e-11),\n",
       " ({'a': Array(30.77045894, dtype=float64),\n",
       "   'ecc': Array([0.1], dtype=float64),\n",
       "   'inc': Array([27.36699816], dtype=float64),\n",
       "   'Omega': Array([40.], dtype=float64),\n",
       "   'omega': Array([27.52675077], dtype=float64),\n",
       "   'nu': Array([30.], dtype=float64)},\n",
       "  7.955054282980168e-11),\n",
       " ({'a': Array(28.28200587, dtype=float64),\n",
       "   'ecc': Array([0.1], dtype=float64),\n",
       "   'inc': Array([23.61735641], dtype=float64),\n",
       "   'Omega': Array([20.], dtype=float64),\n",
       "   'omega': Array([35.51074586], dtype=float64),\n",
       "   'nu': Array([40.], dtype=float64)},\n",
       "  4.3437838991034765e-11),\n",
       " ({'a': Array(28.28200587, dtype=float64),\n",
       "   'ecc': Array([0.1], dtype=float64),\n",
       "   'inc': Array([25.0435524], dtype=float64),\n",
       "   'Omega': Array([30.], dtype=float64),\n",
       "   'omega': Array([26.39427536], dtype=float64),\n",
       "   'nu': Array([40.], dtype=float64)},\n",
       "  1.2711577104568275e-10),\n",
       " ({'a': Array(28.28200587, dtype=float64),\n",
       "   'ecc': Array([0.1], dtype=float64),\n",
       "   'inc': Array([27.40887579], dtype=float64),\n",
       "   'Omega': Array([40.], dtype=float64),\n",
       "   'omega': Array([17.41736385], dtype=float64),\n",
       "   'nu': Array([40.], dtype=float64)},\n",
       "  5.5274782443301136e-11),\n",
       " ({'a': Array(33.80051289, dtype=float64),\n",
       "   'ecc': Array([0.2], dtype=float64),\n",
       "   'inc': Array([23.60569109], dtype=float64),\n",
       "   'Omega': Array([20.], dtype=float64),\n",
       "   'omega': Array([55.58604819], dtype=float64),\n",
       "   'nu': Array([20.], dtype=float64)},\n",
       "  7.734942444512327e-11),\n",
       " ({'a': Array(33.80051289, dtype=float64),\n",
       "   'ecc': Array([0.2], dtype=float64),\n",
       "   'inc': Array([25.02503185], dtype=float64),\n",
       "   'Omega': Array([30.], dtype=float64),\n",
       "   'omega': Array([46.46850348], dtype=float64),\n",
       "   'nu': Array([20.], dtype=float64)},\n",
       "  4.3437838991034765e-11),\n",
       " ({'a': Array(33.80051289, dtype=float64),\n",
       "   'ecc': Array([0.2], dtype=float64),\n",
       "   'inc': Array([27.38114108], dtype=float64),\n",
       "   'Omega': Array([40.], dtype=float64),\n",
       "   'omega': Array([37.48982973], dtype=float64),\n",
       "   'nu': Array([20.], dtype=float64)},\n",
       "  4.3437838991034765e-11),\n",
       " ({'a': Array(32.21407156, dtype=float64),\n",
       "   'ecc': Array([0.2], dtype=float64),\n",
       "   'inc': Array([23.61409431], dtype=float64),\n",
       "   'Omega': Array([20.], dtype=float64),\n",
       "   'omega': Array([45.53183204], dtype=float64),\n",
       "   'nu': Array([30.], dtype=float64)},\n",
       "  7.734942444512327e-11),\n",
       " ({'a': Array(32.21407156, dtype=float64),\n",
       "   'ecc': Array([0.2], dtype=float64),\n",
       "   'inc': Array([25.03837245], dtype=float64),\n",
       "   'Omega': Array([30.], dtype=float64),\n",
       "   'omega': Array([36.41506106], dtype=float64),\n",
       "   'nu': Array([30.], dtype=float64)},\n",
       "  4.3437838991034765e-11),\n",
       " ({'a': Array(32.21407156, dtype=float64),\n",
       "   'ecc': Array([0.2], dtype=float64),\n",
       "   'inc': Array([27.40111741], dtype=float64),\n",
       "   'Omega': Array([40.], dtype=float64),\n",
       "   'omega': Array([27.43765648], dtype=float64),\n",
       "   'nu': Array([30.], dtype=float64)},\n",
       "  4.3437838991034765e-11),\n",
       " ({'a': Array(27.08163711, dtype=float64),\n",
       "   'ecc': Array([0.2], dtype=float64),\n",
       "   'inc': Array([23.65482816], dtype=float64),\n",
       "   'Omega': Array([20.], dtype=float64),\n",
       "   'omega': Array([35.26942352], dtype=float64),\n",
       "   'nu': Array([40.], dtype=float64)},\n",
       "  4.3437838991034765e-11),\n",
       " ({'a': Array(27.08163711, dtype=float64),\n",
       "   'ecc': Array([0.2], dtype=float64),\n",
       "   'inc': Array([25.10310156], dtype=float64),\n",
       "   'Omega': Array([30.], dtype=float64),\n",
       "   'omega': Array([26.15640967], dtype=float64),\n",
       "   'nu': Array([40.], dtype=float64)},\n",
       "  4.3437838991034765e-11),\n",
       " ({'a': Array(27.08163711, dtype=float64),\n",
       "   'ecc': Array([0.2], dtype=float64),\n",
       "   'inc': Array([27.49814224], dtype=float64),\n",
       "   'Omega': Array([40.], dtype=float64),\n",
       "   'omega': Array([17.18517717], dtype=float64),\n",
       "   'nu': Array([40.], dtype=float64)},\n",
       "  4.3437838991034765e-11),\n",
       " ({'a': Array(37.0030094, dtype=float64),\n",
       "   'ecc': Array([0.3], dtype=float64),\n",
       "   'inc': Array([23.61493781], dtype=float64),\n",
       "   'Omega': Array([20.], dtype=float64),\n",
       "   'omega': Array([55.52644522], dtype=float64),\n",
       "   'nu': Array([20.], dtype=float64)},\n",
       "  1.291680973677034e-10),\n",
       " ({'a': Array(37.0030094, dtype=float64),\n",
       "   'ecc': Array([0.3], dtype=float64),\n",
       "   'inc': Array([25.0397118], dtype=float64),\n",
       "   'Omega': Array([30.], dtype=float64),\n",
       "   'omega': Array([46.40975193], dtype=float64),\n",
       "   'nu': Array([20.], dtype=float64)},\n",
       "  4.3437838991034765e-11),\n",
       " ({'a': Array(37.0030094, dtype=float64),\n",
       "   'ecc': Array([0.3], dtype=float64),\n",
       "   'inc': Array([27.40312335], dtype=float64),\n",
       "   'Omega': Array([40.], dtype=float64),\n",
       "   'omega': Array([37.43247482], dtype=float64),\n",
       "   'nu': Array([20.], dtype=float64)},\n",
       "  4.3437838991034765e-11),\n",
       " ({'a': Array(34.49259676, dtype=float64),\n",
       "   'ecc': Array([0.3], dtype=float64),\n",
       "   'inc': Array([23.62803909], dtype=float64),\n",
       "   'Omega': Array([20.], dtype=float64),\n",
       "   'omega': Array([45.44197637], dtype=float64),\n",
       "   'nu': Array([30.], dtype=float64)},\n",
       "  5.5274782443301136e-11),\n",
       " ({'a': Array(34.49259676, dtype=float64),\n",
       "   'ecc': Array([0.3], dtype=float64),\n",
       "   'inc': Array([25.06052023], dtype=float64),\n",
       "   'Omega': Array([30.], dtype=float64),\n",
       "   'omega': Array([36.32649038], dtype=float64),\n",
       "   'nu': Array([30.], dtype=float64)},\n",
       "  4.3437838991034765e-11),\n",
       " ({'a': Array(34.49259676, dtype=float64),\n",
       "   'ecc': Array([0.3], dtype=float64),\n",
       "   'inc': Array([27.43429707], dtype=float64),\n",
       "   'Omega': Array([40.], dtype=float64),\n",
       "   'omega': Array([27.35119502], dtype=float64),\n",
       "   'nu': Array([30.], dtype=float64)},\n",
       "  4.3437838991034765e-11),\n",
       " ({'a': Array(26.37094225, dtype=float64),\n",
       "   'ecc': Array([0.3], dtype=float64),\n",
       "   'inc': Array([23.69866019], dtype=float64),\n",
       "   'Omega': Array([20.], dtype=float64),\n",
       "   'omega': Array([34.98781525], dtype=float64),\n",
       "   'nu': Array([40.], dtype=float64)},\n",
       "  4.3437838991034765e-11),\n",
       " ({'a': Array(26.37094225, dtype=float64),\n",
       "   'ecc': Array([0.3], dtype=float64),\n",
       "   'inc': Array([25.17286827], dtype=float64),\n",
       "   'Omega': Array([30.], dtype=float64),\n",
       "   'omega': Array([25.87885649], dtype=float64),\n",
       "   'nu': Array([40.], dtype=float64)},\n",
       "  3.110246060863227e-10),\n",
       " ({'a': Array(26.37094225, dtype=float64),\n",
       "   'ecc': Array([0.3], dtype=float64),\n",
       "   'inc': Array([27.60290179], dtype=float64),\n",
       "   'Omega': Array([40.], dtype=float64),\n",
       "   'omega': Array([16.91430249], dtype=float64),\n",
       "   'nu': Array([40.], dtype=float64)},\n",
       "  5.5274782443301136e-11),\n",
       " ({'a': Array(42.05285682, dtype=float64),\n",
       "   'ecc': Array([0.1], dtype=float64),\n",
       "   'inc': Array([23.54037904], dtype=float64),\n",
       "   'Omega': Array([20.], dtype=float64),\n",
       "   'omega': Array([56.00822113], dtype=float64),\n",
       "   'nu': Array([20.], dtype=float64)},\n",
       "  7.734942444512327e-11),\n",
       " ({'a': Array(42.05285682, dtype=float64),\n",
       "   'ecc': Array([0.1], dtype=float64),\n",
       "   'inc': Array([24.92149326], dtype=float64),\n",
       "   'Omega': Array([30.], dtype=float64),\n",
       "   'omega': Array([46.88467858], dtype=float64),\n",
       "   'nu': Array([20.], dtype=float64)},\n",
       "  4.3437838991034765e-11),\n",
       " ({'a': Array(42.05285682, dtype=float64),\n",
       "   'ecc': Array([0.1], dtype=float64),\n",
       "   'inc': Array([27.22633809], dtype=float64),\n",
       "   'Omega': Array([40.], dtype=float64),\n",
       "   'omega': Array([37.89618815], dtype=float64),\n",
       "   'nu': Array([20.], dtype=float64)},\n",
       "  4.3437838991034765e-11),\n",
       " ({'a': Array(41.02727859, dtype=float64),\n",
       "   'ecc': Array([0.1], dtype=float64),\n",
       "   'inc': Array([23.54337892], dtype=float64),\n",
       "   'Omega': Array([20.], dtype=float64),\n",
       "   'omega': Array([45.98879063], dtype=float64),\n",
       "   'nu': Array([30.], dtype=float64)},\n",
       "  7.734942444512327e-11),\n",
       " ({'a': Array(41.02727859, dtype=float64),\n",
       "   'ecc': Array([0.1], dtype=float64),\n",
       "   'inc': Array([24.9262432], dtype=float64),\n",
       "   'Omega': Array([30.], dtype=float64),\n",
       "   'omega': Array([36.86552297], dtype=float64),\n",
       "   'nu': Array([30.], dtype=float64)},\n",
       "  7.734942444512327e-11),\n",
       " ({'a': Array(41.02727859, dtype=float64),\n",
       "   'ecc': Array([0.1], dtype=float64),\n",
       "   'inc': Array([27.23343066], dtype=float64),\n",
       "   'Omega': Array([40.], dtype=float64),\n",
       "   'omega': Array([27.87748159], dtype=float64),\n",
       "   'nu': Array([30.], dtype=float64)},\n",
       "  4.3437838991034765e-11),\n",
       " ({'a': Array(37.70934117, dtype=float64),\n",
       "   'ecc': Array([0.1], dtype=float64),\n",
       "   'inc': Array([23.55654614], dtype=float64),\n",
       "   'Omega': Array([20.], dtype=float64),\n",
       "   'omega': Array([35.90355344], dtype=float64),\n",
       "   'nu': Array([40.], dtype=float64)},\n",
       "  4.3437838991034765e-11),\n",
       " ({'a': Array(37.70934117, dtype=float64),\n",
       "   'ecc': Array([0.1], dtype=float64),\n",
       "   'inc': Array([24.94709837], dtype=float64),\n",
       "   'Omega': Array([30.], dtype=float64),\n",
       "   'omega': Array([26.78149297], dtype=float64),\n",
       "   'nu': Array([40.], dtype=float64)},\n",
       "  1.2711577104568275e-10),\n",
       " ({'a': Array(37.70934117, dtype=float64),\n",
       "   'ecc': Array([0.1], dtype=float64),\n",
       "   'inc': Array([27.26458189], dtype=float64),\n",
       "   'Omega': Array([40.], dtype=float64),\n",
       "   'omega': Array([17.79542468], dtype=float64),\n",
       "   'nu': Array([40.], dtype=float64)},\n",
       "  5.5274782443301136e-11),\n",
       " ({'a': Array(45.06735052, dtype=float64),\n",
       "   'ecc': Array([0.2], dtype=float64),\n",
       "   'inc': Array([23.54782828], dtype=float64),\n",
       "   'Omega': Array([20.], dtype=float64),\n",
       "   'omega': Array([55.96002655], dtype=float64),\n",
       "   'nu': Array([20.], dtype=float64)},\n",
       "  7.734942444512327e-11),\n",
       " ({'a': Array(45.06735052, dtype=float64),\n",
       "   'ecc': Array([0.2], dtype=float64),\n",
       "   'inc': Array([24.93328921], dtype=float64),\n",
       "   'Omega': Array([30.], dtype=float64),\n",
       "   'omega': Array([46.83716669], dtype=float64),\n",
       "   'nu': Array([20.], dtype=float64)},\n",
       "  1.0538911346618274e-10),\n",
       " ({'a': Array(45.06735052, dtype=float64),\n",
       "   'ecc': Array([0.2], dtype=float64),\n",
       "   'inc': Array([27.24395334], dtype=float64),\n",
       "   'Omega': Array([40.], dtype=float64),\n",
       "   'omega': Array([37.84979166], dtype=float64),\n",
       "   'nu': Array([20.], dtype=float64)},\n",
       "  4.3437838991034765e-11),\n",
       " ({'a': Array(42.95209542, dtype=float64),\n",
       "   'ecc': Array([0.2], dtype=float64),\n",
       "   'inc': Array([23.55410843], dtype=float64),\n",
       "   'Omega': Array([20.], dtype=float64),\n",
       "   'omega': Array([45.91937118], dtype=float64),\n",
       "   'nu': Array([30.], dtype=float64)},\n",
       "  4.3437838991034765e-11),\n",
       " ({'a': Array(42.95209542, dtype=float64),\n",
       "   'ecc': Array([0.2], dtype=float64),\n",
       "   'inc': Array([24.94323655], dtype=float64),\n",
       "   'Omega': Array([30.], dtype=float64),\n",
       "   'omega': Array([36.79708714], dtype=float64),\n",
       "   'nu': Array([30.], dtype=float64)},\n",
       "  7.734942444512327e-11),\n",
       " ({'a': Array(42.95209542, dtype=float64),\n",
       "   'ecc': Array([0.2], dtype=float64),\n",
       "   'inc': Array([27.25881223], dtype=float64),\n",
       "   'Omega': Array([40.], dtype=float64),\n",
       "   'omega': Array([27.8106533], dtype=float64),\n",
       "   'nu': Array([30.], dtype=float64)},\n",
       "  4.3437838991034765e-11),\n",
       " ({'a': Array(36.10884949, dtype=float64),\n",
       "   'ecc': Array([0.2], dtype=float64),\n",
       "   'inc': Array([23.58453804], dtype=float64),\n",
       "   'Omega': Array([20.], dtype=float64),\n",
       "   'omega': Array([35.7226055], dtype=float64),\n",
       "   'nu': Array([40.], dtype=float64)},\n",
       "  1.0538911346618274e-10),\n",
       " ({'a': Array(36.10884949, dtype=float64),\n",
       "   'ecc': Array([0.2], dtype=float64),\n",
       "   'inc': Array([24.99146937], dtype=float64),\n",
       "   'Omega': Array([30.], dtype=float64),\n",
       "   'omega': Array([26.60311518], dtype=float64),\n",
       "   'nu': Array([40.], dtype=float64)},\n",
       "  1.2711577104568275e-10),\n",
       " ({'a': Array(36.10884949, dtype=float64),\n",
       "   'ecc': Array([0.2], dtype=float64),\n",
       "   'inc': Array([27.33091511], dtype=float64),\n",
       "   'Omega': Array([40.], dtype=float64),\n",
       "   'omega': Array([17.6212528], dtype=float64),\n",
       "   'nu': Array([40.], dtype=float64)},\n",
       "  5.5274782443301136e-11),\n",
       " ({'a': Array(49.33734587, dtype=float64),\n",
       "   'ecc': Array([0.3], dtype=float64),\n",
       "   'inc': Array([23.55473877], dtype=float64),\n",
       "   'Omega': Array([20.], dtype=float64),\n",
       "   'omega': Array([55.9153383], dtype=float64),\n",
       "   'nu': Array([20.], dtype=float64)},\n",
       "  7.734942444512327e-11),\n",
       " ({'a': Array(49.33734587, dtype=float64),\n",
       "   'ecc': Array([0.3], dtype=float64),\n",
       "   'inc': Array([24.94423511], dtype=float64),\n",
       "   'Omega': Array([30.], dtype=float64),\n",
       "   'omega': Array([46.79311207], dtype=float64),\n",
       "   'nu': Array([20.], dtype=float64)},\n",
       "  7.734942444512327e-11),\n",
       " ({'a': Array(49.33734587, dtype=float64),\n",
       "   'ecc': Array([0.3], dtype=float64),\n",
       "   'inc': Array([27.26030404], dtype=float64),\n",
       "   'Omega': Array([40.], dtype=float64),\n",
       "   'omega': Array([37.80677274], dtype=float64),\n",
       "   'nu': Array([20.], dtype=float64)},\n",
       "  4.3437838991034765e-11),\n",
       " ({'a': Array(45.99012901, dtype=float64),\n",
       "   'ecc': Array([0.3], dtype=float64),\n",
       "   'inc': Array([23.56452809], dtype=float64),\n",
       "   'Omega': Array([20.], dtype=float64),\n",
       "   'omega': Array([45.85199818], dtype=float64),\n",
       "   'nu': Array([30.], dtype=float64)},\n",
       "  7.734942444512327e-11),\n",
       " ({'a': Array(45.99012901, dtype=float64),\n",
       "   'ecc': Array([0.3], dtype=float64),\n",
       "   'inc': Array([24.95974594], dtype=float64),\n",
       "   'Omega': Array([30.], dtype=float64),\n",
       "   'omega': Array([36.73067007], dtype=float64),\n",
       "   'nu': Array([30.], dtype=float64)},\n",
       "  1.2711577104568275e-10),\n",
       " ({'a': Array(45.99012901, dtype=float64),\n",
       "   'ecc': Array([0.3], dtype=float64),\n",
       "   'inc': Array([27.28348175], dtype=float64),\n",
       "   'Omega': Array([40.], dtype=float64),\n",
       "   'omega': Array([27.74579953], dtype=float64),\n",
       "   'nu': Array([30.], dtype=float64)},\n",
       "  4.3437838991034765e-11),\n",
       " ({'a': Array(35.16125633, dtype=float64),\n",
       "   'ecc': Array([0.3], dtype=float64),\n",
       "   'inc': Array([23.61725743], dtype=float64),\n",
       "   'Omega': Array([20.], dtype=float64),\n",
       "   'omega': Array([35.5114617], dtype=float64),\n",
       "   'nu': Array([40.], dtype=float64)},\n",
       "  1.0538911346618274e-10),\n",
       " ({'a': Array(35.16125633, dtype=float64),\n",
       "   'ecc': Array([0.3], dtype=float64),\n",
       "   'inc': Array([25.04339523], dtype=float64),\n",
       "   'Omega': Array([30.], dtype=float64),\n",
       "   'omega': Array([26.39498208], dtype=float64),\n",
       "   'nu': Array([40.], dtype=float64)},\n",
       "  4.3437838991034765e-11),\n",
       " ({'a': Array(35.16125633, dtype=float64),\n",
       "   'ecc': Array([0.3], dtype=float64),\n",
       "   'inc': Array([27.40864037], dtype=float64),\n",
       "   'Omega': Array([40.], dtype=float64),\n",
       "   'omega': Array([17.41805561], dtype=float64),\n",
       "   'nu': Array([40.], dtype=float64)},\n",
       "  1.2711577104568275e-10),\n",
       " ({'a': Array(52.56607102, dtype=float64),\n",
       "   'ecc': Array([0.1], dtype=float64),\n",
       "   'inc': Array([23.50725763], dtype=float64),\n",
       "   'Omega': Array([20.], dtype=float64),\n",
       "   'omega': Array([56.22292941], dtype=float64),\n",
       "   'nu': Array([20.], dtype=float64)},\n",
       "  7.734942444512327e-11),\n",
       " ({'a': Array(52.56607102, dtype=float64),\n",
       "   'ecc': Array([0.1], dtype=float64),\n",
       "   'inc': Array([24.86908644], dtype=float64),\n",
       "   'Omega': Array([30.], dtype=float64),\n",
       "   'omega': Array([47.09635588], dtype=float64),\n",
       "   'nu': Array([20.], dtype=float64)},\n",
       "  4.3437838991034765e-11),\n",
       " ({'a': Array(52.56607102, dtype=float64),\n",
       "   'ecc': Array([0.1], dtype=float64),\n",
       "   'inc': Array([27.14814312], dtype=float64),\n",
       "   'Omega': Array([40.], dtype=float64),\n",
       "   'omega': Array([38.10291928], dtype=float64),\n",
       "   'nu': Array([20.], dtype=float64)},\n",
       "  4.3437838991034765e-11),\n",
       " ({'a': Array(51.28409823, dtype=float64),\n",
       "   'ecc': Array([0.1], dtype=float64),\n",
       "   'inc': Array([23.50965289], dtype=float64),\n",
       "   'Omega': Array([20.], dtype=float64),\n",
       "   'omega': Array([46.20738629], dtype=float64),\n",
       "   'nu': Array([30.], dtype=float64)},\n",
       "  5.5274782443301136e-11),\n",
       " ({'a': Array(51.28409823, dtype=float64),\n",
       "   'ecc': Array([0.1], dtype=float64),\n",
       "   'inc': Array([24.87287411], dtype=float64),\n",
       "   'Omega': Array([30.], dtype=float64),\n",
       "   'omega': Array([37.08103171], dtype=float64),\n",
       "   'nu': Array([30.], dtype=float64)},\n",
       "  7.734942444512327e-11),\n",
       " ({'a': Array(51.28409823, dtype=float64),\n",
       "   'ecc': Array([0.1], dtype=float64),\n",
       "   'inc': Array([27.15379102], dtype=float64),\n",
       "   'Omega': Array([40.], dtype=float64),\n",
       "   'omega': Array([28.08795208], dtype=float64),\n",
       "   'nu': Array([30.], dtype=float64)},\n",
       "  4.3437838991034765e-11),\n",
       " ({'a': Array(47.13667646, dtype=float64),\n",
       "   'ecc': Array([0.1], dtype=float64),\n",
       "   'inc': Array([23.52016518], dtype=float64),\n",
       "   'Omega': Array([20.], dtype=float64),\n",
       "   'omega': Array([36.13920324], dtype=float64),\n",
       "   'nu': Array([40.], dtype=float64)},\n",
       "  7.955054282980168e-11),\n",
       " ({'a': Array(47.13667646, dtype=float64),\n",
       "   'ecc': Array([0.1], dtype=float64),\n",
       "   'inc': Array([24.88950157], dtype=float64),\n",
       "   'Omega': Array([30.], dtype=float64),\n",
       "   'omega': Array([27.01381004], dtype=float64),\n",
       "   'nu': Array([40.], dtype=float64)},\n",
       "  1.2711577104568275e-10),\n",
       " ({'a': Array(47.13667646, dtype=float64),\n",
       "   'ecc': Array([0.1], dtype=float64),\n",
       "   'inc': Array([27.1785913], dtype=float64),\n",
       "   'Omega': Array([40.], dtype=float64),\n",
       "   'omega': Array([18.02229842], dtype=float64),\n",
       "   'nu': Array([40.], dtype=float64)},\n",
       "  4.3437838991034765e-11),\n",
       " ({'a': Array(56.33418814, dtype=float64),\n",
       "   'ecc': Array([0.2], dtype=float64),\n",
       "   'inc': Array([23.51320531], dtype=float64),\n",
       "   'Omega': Array([20.], dtype=float64),\n",
       "   'omega': Array([56.18438171], dtype=float64),\n",
       "   'nu': Array([20.], dtype=float64)},\n",
       "  1.0538911346618274e-10),\n",
       " ({'a': Array(56.33418814, dtype=float64),\n",
       "   'ecc': Array([0.2], dtype=float64),\n",
       "   'inc': Array([24.87849227], dtype=float64),\n",
       "   'Omega': Array([30.], dtype=float64),\n",
       "   'omega': Array([47.05835193], dtype=float64),\n",
       "   'nu': Array([20.], dtype=float64)},\n",
       "  5.5274782443301136e-11),\n",
       " ({'a': Array(56.33418814, dtype=float64),\n",
       "   'ecc': Array([0.2], dtype=float64),\n",
       "   'inc': Array([27.16216945], dtype=float64),\n",
       "   'Omega': Array([40.], dtype=float64),\n",
       "   'omega': Array([38.06580193], dtype=float64),\n",
       "   'nu': Array([20.], dtype=float64)},\n",
       "  7.734942444512327e-11),\n",
       " ({'a': Array(53.69011927, dtype=float64),\n",
       "   'ecc': Array([0.2], dtype=float64),\n",
       "   'inc': Array([23.51821911], dtype=float64),\n",
       "   'Omega': Array([20.], dtype=float64),\n",
       "   'omega': Array([46.15186033], dtype=float64),\n",
       "   'nu': Array([30.], dtype=float64)},\n",
       "  2.2168222536211205e-10),\n",
       " ({'a': Array(53.69011927, dtype=float64),\n",
       "   'ecc': Array([0.2], dtype=float64),\n",
       "   'inc': Array([24.88642294], dtype=float64),\n",
       "   'Omega': Array([30.], dtype=float64),\n",
       "   'omega': Array([37.02628911], dtype=float64),\n",
       "   'nu': Array([30.], dtype=float64)},\n",
       "  7.734942444512327e-11),\n",
       " ({'a': Array(53.69011927, dtype=float64),\n",
       "   'ecc': Array([0.2], dtype=float64),\n",
       "   'inc': Array([27.17399863], dtype=float64),\n",
       "   'Omega': Array([40.], dtype=float64),\n",
       "   'omega': Array([28.03448704], dtype=float64),\n",
       "   'nu': Array([30.], dtype=float64)},\n",
       "  7.734942444512327e-11),\n",
       " ({'a': Array(45.13606186, dtype=float64),\n",
       "   'ecc': Array([0.2], dtype=float64),\n",
       "   'inc': Array([23.542507], dtype=float64),\n",
       "   'Omega': Array([20.], dtype=float64),\n",
       "   'omega': Array([35.99446558], dtype=float64),\n",
       "   'nu': Array([40.], dtype=float64)},\n",
       "  1.0538911346618274e-10),\n",
       " ({'a': Array(45.13606186, dtype=float64),\n",
       "   'ecc': Array([0.2], dtype=float64),\n",
       "   'inc': Array([24.92486257], dtype=float64),\n",
       "   'Omega': Array([30.], dtype=float64),\n",
       "   'omega': Array([26.87111802], dtype=float64),\n",
       "   'nu': Array([40.], dtype=float64)},\n",
       "  1.2711577104568275e-10),\n",
       " ({'a': Array(45.13606186, dtype=float64),\n",
       "   'ecc': Array([0.2], dtype=float64),\n",
       "   'inc': Array([27.23136902], dtype=float64),\n",
       "   'Omega': Array([40.], dtype=float64),\n",
       "   'omega': Array([17.8829461], dtype=float64),\n",
       "   'nu': Array([40.], dtype=float64)},\n",
       "  4.3437838991034765e-11),\n",
       " ({'a': Array(61.67168234, dtype=float64),\n",
       "   'ecc': Array([0.3], dtype=float64),\n",
       "   'inc': Array([23.51872233], dtype=float64),\n",
       "   'Omega': Array([20.], dtype=float64),\n",
       "   'omega': Array([56.14863892], dtype=float64),\n",
       "   'nu': Array([20.], dtype=float64)},\n",
       "  4.3437838991034765e-11),\n",
       " ({'a': Array(61.67168234, dtype=float64),\n",
       "   'ecc': Array([0.3], dtype=float64),\n",
       "   'inc': Array([24.887219], dtype=float64),\n",
       "   'Omega': Array([30.], dtype=float64),\n",
       "   'omega': Array([47.02311373], dtype=float64),\n",
       "   'nu': Array([20.], dtype=float64)},\n",
       "  4.3437838991034765e-11),\n",
       " ({'a': Array(61.67168234, dtype=float64),\n",
       "   'ecc': Array([0.3], dtype=float64),\n",
       "   'inc': Array([27.17518615], dtype=float64),\n",
       "   'Omega': Array([40.], dtype=float64),\n",
       "   'omega': Array([38.03138676], dtype=float64),\n",
       "   'nu': Array([20.], dtype=float64)},\n",
       "  4.3437838991034765e-11),\n",
       " ({'a': Array(57.48766126, dtype=float64),\n",
       "   'ecc': Array([0.3], dtype=float64),\n",
       "   'inc': Array([23.52653682], dtype=float64),\n",
       "   'Omega': Array([20.], dtype=float64),\n",
       "   'omega': Array([46.09797178], dtype=float64),\n",
       "   'nu': Array([30.], dtype=float64)},\n",
       "  4.3437838991034765e-11),\n",
       " ({'a': Array(57.48766126, dtype=float64),\n",
       "   'ecc': Array([0.3], dtype=float64),\n",
       "   'inc': Array([24.89958301], dtype=float64),\n",
       "   'Omega': Array([30.], dtype=float64),\n",
       "   'omega': Array([36.97316164], dtype=float64),\n",
       "   'nu': Array([30.], dtype=float64)},\n",
       "  7.734942444512327e-11),\n",
       " ({'a': Array(57.48766126, dtype=float64),\n",
       "   'ecc': Array([0.3], dtype=float64),\n",
       "   'inc': Array([27.19363328], dtype=float64),\n",
       "   'Omega': Array([40.], dtype=float64),\n",
       "   'omega': Array([27.98260147], dtype=float64),\n",
       "   'nu': Array([30.], dtype=float64)},\n",
       "  4.3437838991034765e-11),\n",
       " ({'a': Array(43.95157041, dtype=float64),\n",
       "   'ecc': Array([0.3], dtype=float64),\n",
       "   'inc': Array([23.56861146], dtype=float64),\n",
       "   'Omega': Array([20.], dtype=float64),\n",
       "   'omega': Array([35.8255784], dtype=float64),\n",
       "   'nu': Array([40.], dtype=float64)},\n",
       "  1.0538911346618274e-10),\n",
       " ({'a': Array(43.95157041, dtype=float64),\n",
       "   'ecc': Array([0.3], dtype=float64),\n",
       "   'inc': Array([24.96621765], dtype=float64),\n",
       "   'Omega': Array([30.], dtype=float64),\n",
       "   'omega': Array([26.70462511], dtype=float64),\n",
       "   'nu': Array([40.], dtype=float64)},\n",
       "  4.3437838991034765e-11),\n",
       " ({'a': Array(43.95157041, dtype=float64),\n",
       "   'ecc': Array([0.3], dtype=float64),\n",
       "   'inc': Array([27.29315516], dtype=float64),\n",
       "   'Omega': Array([40.], dtype=float64),\n",
       "   'omega': Array([17.72036779], dtype=float64),\n",
       "   'nu': Array([40.], dtype=float64)},\n",
       "  4.3437838991034765e-11)]"
      ]
     },
     "execution_count": 36,
     "metadata": {},
     "output_type": "execute_result"
    }
   ],
   "source": [
    "orbs"
   ]
  },
  {
   "cell_type": "code",
   "execution_count": 55,
   "metadata": {},
   "outputs": [],
   "source": [
    "@jax.jit\n",
    "def best_orb(variable_params, fixed_params, target_ra, target_dec, observer_pos):\n",
    "    x, v = elements_to_cartesian(**fixed_params, **variable_params)\n",
    "    state = SystemState(\n",
    "        positions=x,\n",
    "        velocities=v,\n",
    "        log_gms=jnp.ones(x.shape[0]) * -jnp.inf,\n",
    "        time=0.0,\n",
    "        acceleration_func_kwargs=None,\n",
    "    )\n",
    "    calc_ra, calc_dec = on_sky(state, acc_func, observer_pos)\n",
    "    jax.debug.print(\"{x}\", x=calc_ra)\n",
    "\n",
    "    return sky_sep(calc_ra, calc_dec, target_ra, target_dec)"
   ]
  },
  {
   "cell_type": "code",
   "execution_count": 15,
   "metadata": {},
   "outputs": [
    {
     "data": {
      "text/plain": [
       "(Array([9.95484292e-06, 9.95484292e-06], dtype=float64),\n",
       " Array([[0.],\n",
       "        [0.]], dtype=float64))"
      ]
     },
     "execution_count": 15,
     "metadata": {},
     "output_type": "execute_result"
    }
   ],
   "source": [
    "def tmp_acc(s):\n",
    "    return jnp.ones_like(s.positions) * jnp.finfo(jnp.float64).eps\n",
    "\n",
    "\n",
    "acc_func = jax.tree_util.Partial(lambda s: tmp_acc(s))\n",
    "\n",
    "fixed_params = {\n",
    "    \"a\": jnp.array([34.49259676]),\n",
    "    \"ecc\": jnp.array([0.3]),\n",
    "    \"inc\": jnp.array([23.62803909]),\n",
    "    \"Omega\": jnp.array([20.0]),\n",
    "    \"omega\": jnp.array([45.44197637]),\n",
    "    \"nu\": jnp.array([30.0]),\n",
    "}\n",
    "x, v = elements_to_cartesian(**fixed_params)\n",
    "state = SystemState(\n",
    "    positions=x,\n",
    "    velocities=v,\n",
    "    log_gms=jnp.ones(x.shape[0]) * -jnp.inf,\n",
    "    time=0.0,\n",
    "    acceleration_func_kwargs=None,\n",
    ")\n",
    "calc_ra1, calc_dec1 = on_sky(state, acc_func, obs.observer_positions[0])\n",
    "\n",
    "\n",
    "fixed_params = {\n",
    "    \"a\": jnp.array([34.49259676, 34.49259676]),\n",
    "    \"ecc\": jnp.array([0.3, 0.3]),\n",
    "    \"inc\": jnp.array([23.62803909, 23.62803909]),\n",
    "    \"Omega\": jnp.array([20.0, 20.0]),\n",
    "    \"omega\": jnp.array([45.44197637, 45.44197637]),\n",
    "    \"nu\": jnp.array([30.0, 30.0]),\n",
    "}\n",
    "x, v = elements_to_cartesian(**fixed_params)\n",
    "x = x.at[0].set(x[0] + 1.2e-16)\n",
    "state = SystemState(\n",
    "    positions=x,\n",
    "    velocities=v,\n",
    "    log_gms=jnp.ones(x.shape[0]) * -jnp.inf,\n",
    "    time=0.0,\n",
    "    acceleration_func_kwargs=None,\n",
    ")\n",
    "calc_ra2, calc_dec2 = on_sky(state, acc_func, obs.observer_positions[0])\n",
    "\n",
    "fixed_params = {\n",
    "    \"a\": jnp.array([[34.49259676], [34.49259676]]),\n",
    "    \"ecc\": jnp.array([[0.3], [0.3]]),\n",
    "    \"inc\": jnp.array([[23.62803909], [23.62803909]]),\n",
    "    \"Omega\": jnp.array([[20.0], [20.0]]),\n",
    "    \"omega\": jnp.array([[45.44197637], [45.44197637]]),\n",
    "    \"nu\": jnp.array([[30.0], [30.0]]),\n",
    "}\n",
    "\n",
    "\n",
    "def tmp(f):\n",
    "    x, v = elements_to_cartesian(**f)\n",
    "    state = SystemState(\n",
    "        positions=x,\n",
    "        velocities=v,\n",
    "        log_gms=jnp.ones(x.shape[0]) * -jnp.inf,\n",
    "        time=0.0,\n",
    "        acceleration_func_kwargs=None,\n",
    "    )\n",
    "    return on_sky(state, acc_func, obs.observer_positions[0])\n",
    "\n",
    "\n",
    "calc_ra3, calc_dec3 = jax.vmap(tmp)(fixed_params)\n",
    "\n",
    "calc_ra1 - calc_ra2, calc_ra1 - calc_ra3"
   ]
  },
  {
   "cell_type": "code",
   "execution_count": 175,
   "metadata": {},
   "outputs": [
    {
     "ename": "KeyboardInterrupt",
     "evalue": "",
     "output_type": "error",
     "traceback": [
      "\u001b[0;31m---------------------------------------------------------------------------\u001b[0m",
      "\u001b[0;31mKeyboardInterrupt\u001b[0m                         Traceback (most recent call last)",
      "Cell \u001b[0;32mIn[175], line 100\u001b[0m\n\u001b[1;32m     97\u001b[0m     x \u001b[38;5;241m=\u001b[39m x[\u001b[38;5;241m.\u001b[39m\u001b[38;5;241m.\u001b[39m\u001b[38;5;241m.\u001b[39m, \u001b[38;5;28;01mNone\u001b[39;00m]\n\u001b[1;32m     98\u001b[0m     \u001b[38;5;28;01mreturn\u001b[39;00m grad_simul_objective(x)\n\u001b[0;32m--> 100\u001b[0m res \u001b[38;5;241m=\u001b[39m \u001b[43mminimize\u001b[49m\u001b[43m(\u001b[49m\n\u001b[1;32m    101\u001b[0m \u001b[43m    \u001b[49m\u001b[43mscipy_objective\u001b[49m\u001b[43m,\u001b[49m\n\u001b[1;32m    102\u001b[0m \u001b[43m    \u001b[49m\u001b[43minit_x\u001b[49m\u001b[38;5;241;43m.\u001b[39;49m\u001b[43mravel\u001b[49m\u001b[43m(\u001b[49m\u001b[43m)\u001b[49m\u001b[43m,\u001b[49m\n\u001b[1;32m    103\u001b[0m \u001b[43m    \u001b[49m\u001b[43mjac\u001b[49m\u001b[38;5;241;43m=\u001b[39;49m\u001b[43mscipy_gradient\u001b[49m\u001b[43m,\u001b[49m\n\u001b[1;32m    104\u001b[0m \u001b[43m    \u001b[49m\u001b[43mmethod\u001b[49m\u001b[38;5;241;43m=\u001b[39;49m\u001b[38;5;124;43m\"\u001b[39;49m\u001b[38;5;124;43mBFGS\u001b[39;49m\u001b[38;5;124;43m\"\u001b[39;49m\u001b[43m,\u001b[49m\n\u001b[1;32m    105\u001b[0m \u001b[43m    \u001b[49m\u001b[43moptions\u001b[49m\u001b[38;5;241;43m=\u001b[39;49m\u001b[43m{\u001b[49m\u001b[38;5;124;43m\"\u001b[39;49m\u001b[38;5;124;43mdisp\u001b[39;49m\u001b[38;5;124;43m\"\u001b[39;49m\u001b[43m:\u001b[49m\u001b[43m \u001b[49m\u001b[38;5;28;43;01mTrue\u001b[39;49;00m\u001b[43m}\u001b[49m\u001b[43m,\u001b[49m\n\u001b[1;32m    106\u001b[0m \u001b[43m)\u001b[49m\n",
      "File \u001b[0;32m~/Library/CloudStorage/GoogleDrive-bccassese@gmail.com/My Drive/Columbia University/Research/Active_Projects/jorbit_dev/jorbit/.venv/lib/python3.13/site-packages/scipy/optimize/_minimize.py:726\u001b[0m, in \u001b[0;36mminimize\u001b[0;34m(fun, x0, args, method, jac, hess, hessp, bounds, constraints, tol, callback, options)\u001b[0m\n\u001b[1;32m    724\u001b[0m     res \u001b[38;5;241m=\u001b[39m _minimize_cg(fun, x0, args, jac, callback, \u001b[38;5;241m*\u001b[39m\u001b[38;5;241m*\u001b[39moptions)\n\u001b[1;32m    725\u001b[0m \u001b[38;5;28;01melif\u001b[39;00m meth \u001b[38;5;241m==\u001b[39m \u001b[38;5;124m'\u001b[39m\u001b[38;5;124mbfgs\u001b[39m\u001b[38;5;124m'\u001b[39m:\n\u001b[0;32m--> 726\u001b[0m     res \u001b[38;5;241m=\u001b[39m \u001b[43m_minimize_bfgs\u001b[49m\u001b[43m(\u001b[49m\u001b[43mfun\u001b[49m\u001b[43m,\u001b[49m\u001b[43m \u001b[49m\u001b[43mx0\u001b[49m\u001b[43m,\u001b[49m\u001b[43m \u001b[49m\u001b[43margs\u001b[49m\u001b[43m,\u001b[49m\u001b[43m \u001b[49m\u001b[43mjac\u001b[49m\u001b[43m,\u001b[49m\u001b[43m \u001b[49m\u001b[43mcallback\u001b[49m\u001b[43m,\u001b[49m\u001b[43m \u001b[49m\u001b[38;5;241;43m*\u001b[39;49m\u001b[38;5;241;43m*\u001b[39;49m\u001b[43moptions\u001b[49m\u001b[43m)\u001b[49m\n\u001b[1;32m    727\u001b[0m \u001b[38;5;28;01melif\u001b[39;00m meth \u001b[38;5;241m==\u001b[39m \u001b[38;5;124m'\u001b[39m\u001b[38;5;124mnewton-cg\u001b[39m\u001b[38;5;124m'\u001b[39m:\n\u001b[1;32m    728\u001b[0m     res \u001b[38;5;241m=\u001b[39m _minimize_newtoncg(fun, x0, args, jac, hess, hessp, callback,\n\u001b[1;32m    729\u001b[0m                              \u001b[38;5;241m*\u001b[39m\u001b[38;5;241m*\u001b[39moptions)\n",
      "File \u001b[0;32m~/Library/CloudStorage/GoogleDrive-bccassese@gmail.com/My Drive/Columbia University/Research/Active_Projects/jorbit_dev/jorbit/.venv/lib/python3.13/site-packages/scipy/optimize/_optimize.py:1397\u001b[0m, in \u001b[0;36m_minimize_bfgs\u001b[0;34m(fun, x0, args, jac, callback, gtol, norm, eps, maxiter, disp, return_all, finite_diff_rel_step, xrtol, c1, c2, hess_inv0, **unknown_options)\u001b[0m\n\u001b[1;32m   1394\u001b[0m pk \u001b[38;5;241m=\u001b[39m \u001b[38;5;241m-\u001b[39mnp\u001b[38;5;241m.\u001b[39mdot(Hk, gfk)\n\u001b[1;32m   1395\u001b[0m \u001b[38;5;28;01mtry\u001b[39;00m:\n\u001b[1;32m   1396\u001b[0m     alpha_k, fc, gc, old_fval, old_old_fval, gfkp1 \u001b[38;5;241m=\u001b[39m \\\n\u001b[0;32m-> 1397\u001b[0m              \u001b[43m_line_search_wolfe12\u001b[49m\u001b[43m(\u001b[49m\u001b[43mf\u001b[49m\u001b[43m,\u001b[49m\u001b[43m \u001b[49m\u001b[43mmyfprime\u001b[49m\u001b[43m,\u001b[49m\u001b[43m \u001b[49m\u001b[43mxk\u001b[49m\u001b[43m,\u001b[49m\u001b[43m \u001b[49m\u001b[43mpk\u001b[49m\u001b[43m,\u001b[49m\u001b[43m \u001b[49m\u001b[43mgfk\u001b[49m\u001b[43m,\u001b[49m\n\u001b[1;32m   1398\u001b[0m \u001b[43m                                  \u001b[49m\u001b[43mold_fval\u001b[49m\u001b[43m,\u001b[49m\u001b[43m \u001b[49m\u001b[43mold_old_fval\u001b[49m\u001b[43m,\u001b[49m\u001b[43m \u001b[49m\u001b[43mamin\u001b[49m\u001b[38;5;241;43m=\u001b[39;49m\u001b[38;5;241;43m1e-100\u001b[39;49m\u001b[43m,\u001b[49m\n\u001b[1;32m   1399\u001b[0m \u001b[43m                                  \u001b[49m\u001b[43mamax\u001b[49m\u001b[38;5;241;43m=\u001b[39;49m\u001b[38;5;241;43m1e100\u001b[39;49m\u001b[43m,\u001b[49m\u001b[43m \u001b[49m\u001b[43mc1\u001b[49m\u001b[38;5;241;43m=\u001b[39;49m\u001b[43mc1\u001b[49m\u001b[43m,\u001b[49m\u001b[43m \u001b[49m\u001b[43mc2\u001b[49m\u001b[38;5;241;43m=\u001b[39;49m\u001b[43mc2\u001b[49m\u001b[43m)\u001b[49m\n\u001b[1;32m   1400\u001b[0m \u001b[38;5;28;01mexcept\u001b[39;00m _LineSearchError:\n\u001b[1;32m   1401\u001b[0m     \u001b[38;5;66;03m# Line search failed to find a better solution.\u001b[39;00m\n\u001b[1;32m   1402\u001b[0m     warnflag \u001b[38;5;241m=\u001b[39m \u001b[38;5;241m2\u001b[39m\n",
      "File \u001b[0;32m~/Library/CloudStorage/GoogleDrive-bccassese@gmail.com/My Drive/Columbia University/Research/Active_Projects/jorbit_dev/jorbit/.venv/lib/python3.13/site-packages/scipy/optimize/_optimize.py:1133\u001b[0m, in \u001b[0;36m_line_search_wolfe12\u001b[0;34m(f, fprime, xk, pk, gfk, old_fval, old_old_fval, **kwargs)\u001b[0m\n\u001b[1;32m   1119\u001b[0m \u001b[38;5;250m\u001b[39m\u001b[38;5;124;03m\"\"\"\u001b[39;00m\n\u001b[1;32m   1120\u001b[0m \u001b[38;5;124;03mSame as line_search_wolfe1, but fall back to line_search_wolfe2 if\u001b[39;00m\n\u001b[1;32m   1121\u001b[0m \u001b[38;5;124;03msuitable step length is not found, and raise an exception if a\u001b[39;00m\n\u001b[0;32m   (...)\u001b[0m\n\u001b[1;32m   1128\u001b[0m \n\u001b[1;32m   1129\u001b[0m \u001b[38;5;124;03m\"\"\"\u001b[39;00m\n\u001b[1;32m   1131\u001b[0m extra_condition \u001b[38;5;241m=\u001b[39m kwargs\u001b[38;5;241m.\u001b[39mpop(\u001b[38;5;124m'\u001b[39m\u001b[38;5;124mextra_condition\u001b[39m\u001b[38;5;124m'\u001b[39m, \u001b[38;5;28;01mNone\u001b[39;00m)\n\u001b[0;32m-> 1133\u001b[0m ret \u001b[38;5;241m=\u001b[39m \u001b[43mline_search_wolfe1\u001b[49m\u001b[43m(\u001b[49m\u001b[43mf\u001b[49m\u001b[43m,\u001b[49m\u001b[43m \u001b[49m\u001b[43mfprime\u001b[49m\u001b[43m,\u001b[49m\u001b[43m \u001b[49m\u001b[43mxk\u001b[49m\u001b[43m,\u001b[49m\u001b[43m \u001b[49m\u001b[43mpk\u001b[49m\u001b[43m,\u001b[49m\u001b[43m \u001b[49m\u001b[43mgfk\u001b[49m\u001b[43m,\u001b[49m\n\u001b[1;32m   1134\u001b[0m \u001b[43m                         \u001b[49m\u001b[43mold_fval\u001b[49m\u001b[43m,\u001b[49m\u001b[43m \u001b[49m\u001b[43mold_old_fval\u001b[49m\u001b[43m,\u001b[49m\n\u001b[1;32m   1135\u001b[0m \u001b[43m                         \u001b[49m\u001b[38;5;241;43m*\u001b[39;49m\u001b[38;5;241;43m*\u001b[39;49m\u001b[43mkwargs\u001b[49m\u001b[43m)\u001b[49m\n\u001b[1;32m   1137\u001b[0m \u001b[38;5;28;01mif\u001b[39;00m ret[\u001b[38;5;241m0\u001b[39m] \u001b[38;5;129;01mis\u001b[39;00m \u001b[38;5;129;01mnot\u001b[39;00m \u001b[38;5;28;01mNone\u001b[39;00m \u001b[38;5;129;01mand\u001b[39;00m extra_condition \u001b[38;5;129;01mis\u001b[39;00m \u001b[38;5;129;01mnot\u001b[39;00m \u001b[38;5;28;01mNone\u001b[39;00m:\n\u001b[1;32m   1138\u001b[0m     xp1 \u001b[38;5;241m=\u001b[39m xk \u001b[38;5;241m+\u001b[39m ret[\u001b[38;5;241m0\u001b[39m] \u001b[38;5;241m*\u001b[39m pk\n",
      "File \u001b[0;32m~/Library/CloudStorage/GoogleDrive-bccassese@gmail.com/My Drive/Columbia University/Research/Active_Projects/jorbit_dev/jorbit/.venv/lib/python3.13/site-packages/scipy/optimize/_linesearch.py:93\u001b[0m, in \u001b[0;36mline_search_wolfe1\u001b[0;34m(f, fprime, xk, pk, gfk, old_fval, old_old_fval, args, c1, c2, amax, amin, xtol)\u001b[0m\n\u001b[1;32m     89\u001b[0m     \u001b[38;5;28;01mreturn\u001b[39;00m np\u001b[38;5;241m.\u001b[39mdot(gval[\u001b[38;5;241m0\u001b[39m], pk)\n\u001b[1;32m     91\u001b[0m derphi0 \u001b[38;5;241m=\u001b[39m np\u001b[38;5;241m.\u001b[39mdot(gfk, pk)\n\u001b[0;32m---> 93\u001b[0m stp, fval, old_fval \u001b[38;5;241m=\u001b[39m \u001b[43mscalar_search_wolfe1\u001b[49m\u001b[43m(\u001b[49m\n\u001b[1;32m     94\u001b[0m \u001b[43m        \u001b[49m\u001b[43mphi\u001b[49m\u001b[43m,\u001b[49m\u001b[43m \u001b[49m\u001b[43mderphi\u001b[49m\u001b[43m,\u001b[49m\u001b[43m \u001b[49m\u001b[43mold_fval\u001b[49m\u001b[43m,\u001b[49m\u001b[43m \u001b[49m\u001b[43mold_old_fval\u001b[49m\u001b[43m,\u001b[49m\u001b[43m \u001b[49m\u001b[43mderphi0\u001b[49m\u001b[43m,\u001b[49m\n\u001b[1;32m     95\u001b[0m \u001b[43m        \u001b[49m\u001b[43mc1\u001b[49m\u001b[38;5;241;43m=\u001b[39;49m\u001b[43mc1\u001b[49m\u001b[43m,\u001b[49m\u001b[43m \u001b[49m\u001b[43mc2\u001b[49m\u001b[38;5;241;43m=\u001b[39;49m\u001b[43mc2\u001b[49m\u001b[43m,\u001b[49m\u001b[43m \u001b[49m\u001b[43mamax\u001b[49m\u001b[38;5;241;43m=\u001b[39;49m\u001b[43mamax\u001b[49m\u001b[43m,\u001b[49m\u001b[43m \u001b[49m\u001b[43mamin\u001b[49m\u001b[38;5;241;43m=\u001b[39;49m\u001b[43mamin\u001b[49m\u001b[43m,\u001b[49m\u001b[43m \u001b[49m\u001b[43mxtol\u001b[49m\u001b[38;5;241;43m=\u001b[39;49m\u001b[43mxtol\u001b[49m\u001b[43m)\u001b[49m\n\u001b[1;32m     97\u001b[0m \u001b[38;5;28;01mreturn\u001b[39;00m stp, fc[\u001b[38;5;241m0\u001b[39m], gc[\u001b[38;5;241m0\u001b[39m], fval, old_fval, gval[\u001b[38;5;241m0\u001b[39m]\n",
      "File \u001b[0;32m~/Library/CloudStorage/GoogleDrive-bccassese@gmail.com/My Drive/Columbia University/Research/Active_Projects/jorbit_dev/jorbit/.venv/lib/python3.13/site-packages/scipy/optimize/_linesearch.py:170\u001b[0m, in \u001b[0;36mscalar_search_wolfe1\u001b[0;34m(phi, derphi, phi0, old_phi0, derphi0, c1, c2, amax, amin, xtol)\u001b[0m\n\u001b[1;32m    167\u001b[0m maxiter \u001b[38;5;241m=\u001b[39m \u001b[38;5;241m100\u001b[39m\n\u001b[1;32m    169\u001b[0m dcsrch \u001b[38;5;241m=\u001b[39m DCSRCH(phi, derphi, c1, c2, xtol, amin, amax)\n\u001b[0;32m--> 170\u001b[0m stp, phi1, phi0, task \u001b[38;5;241m=\u001b[39m \u001b[43mdcsrch\u001b[49m\u001b[43m(\u001b[49m\n\u001b[1;32m    171\u001b[0m \u001b[43m    \u001b[49m\u001b[43malpha1\u001b[49m\u001b[43m,\u001b[49m\u001b[43m \u001b[49m\u001b[43mphi0\u001b[49m\u001b[38;5;241;43m=\u001b[39;49m\u001b[43mphi0\u001b[49m\u001b[43m,\u001b[49m\u001b[43m \u001b[49m\u001b[43mderphi0\u001b[49m\u001b[38;5;241;43m=\u001b[39;49m\u001b[43mderphi0\u001b[49m\u001b[43m,\u001b[49m\u001b[43m \u001b[49m\u001b[43mmaxiter\u001b[49m\u001b[38;5;241;43m=\u001b[39;49m\u001b[43mmaxiter\u001b[49m\n\u001b[1;32m    172\u001b[0m \u001b[43m\u001b[49m\u001b[43m)\u001b[49m\n\u001b[1;32m    174\u001b[0m \u001b[38;5;28;01mreturn\u001b[39;00m stp, phi1, phi0\n",
      "File \u001b[0;32m~/Library/CloudStorage/GoogleDrive-bccassese@gmail.com/My Drive/Columbia University/Research/Active_Projects/jorbit_dev/jorbit/.venv/lib/python3.13/site-packages/scipy/optimize/_dcsrch.py:256\u001b[0m, in \u001b[0;36mDCSRCH.__call__\u001b[0;34m(self, alpha1, phi0, derphi0, maxiter)\u001b[0m\n\u001b[1;32m    254\u001b[0m     alpha1 \u001b[38;5;241m=\u001b[39m stp\n\u001b[1;32m    255\u001b[0m     phi1 \u001b[38;5;241m=\u001b[39m \u001b[38;5;28mself\u001b[39m\u001b[38;5;241m.\u001b[39mphi(stp)\n\u001b[0;32m--> 256\u001b[0m     derphi1 \u001b[38;5;241m=\u001b[39m \u001b[38;5;28;43mself\u001b[39;49m\u001b[38;5;241;43m.\u001b[39;49m\u001b[43mderphi\u001b[49m\u001b[43m(\u001b[49m\u001b[43mstp\u001b[49m\u001b[43m)\u001b[49m\n\u001b[1;32m    257\u001b[0m \u001b[38;5;28;01melse\u001b[39;00m:\n\u001b[1;32m    258\u001b[0m     \u001b[38;5;28;01mbreak\u001b[39;00m\n",
      "File \u001b[0;32m~/Library/CloudStorage/GoogleDrive-bccassese@gmail.com/My Drive/Columbia University/Research/Active_Projects/jorbit_dev/jorbit/.venv/lib/python3.13/site-packages/scipy/optimize/_linesearch.py:87\u001b[0m, in \u001b[0;36mline_search_wolfe1.<locals>.derphi\u001b[0;34m(s)\u001b[0m\n\u001b[1;32m     86\u001b[0m \u001b[38;5;28;01mdef\u001b[39;00m \u001b[38;5;21mderphi\u001b[39m(s):\n\u001b[0;32m---> 87\u001b[0m     gval[\u001b[38;5;241m0\u001b[39m] \u001b[38;5;241m=\u001b[39m \u001b[43mfprime\u001b[49m\u001b[43m(\u001b[49m\u001b[43mxk\u001b[49m\u001b[43m \u001b[49m\u001b[38;5;241;43m+\u001b[39;49m\u001b[43m \u001b[49m\u001b[43ms\u001b[49m\u001b[38;5;241;43m*\u001b[39;49m\u001b[43mpk\u001b[49m\u001b[43m,\u001b[49m\u001b[43m \u001b[49m\u001b[38;5;241;43m*\u001b[39;49m\u001b[43margs\u001b[49m\u001b[43m)\u001b[49m\n\u001b[1;32m     88\u001b[0m     gc[\u001b[38;5;241m0\u001b[39m] \u001b[38;5;241m+\u001b[39m\u001b[38;5;241m=\u001b[39m \u001b[38;5;241m1\u001b[39m\n\u001b[1;32m     89\u001b[0m     \u001b[38;5;28;01mreturn\u001b[39;00m np\u001b[38;5;241m.\u001b[39mdot(gval[\u001b[38;5;241m0\u001b[39m], pk)\n",
      "File \u001b[0;32m~/Library/CloudStorage/GoogleDrive-bccassese@gmail.com/My Drive/Columbia University/Research/Active_Projects/jorbit_dev/jorbit/.venv/lib/python3.13/site-packages/scipy/optimize/_differentiable_functions.py:331\u001b[0m, in \u001b[0;36mScalarFunction.grad\u001b[0;34m(self, x)\u001b[0m\n\u001b[1;32m    329\u001b[0m \u001b[38;5;28;01mif\u001b[39;00m \u001b[38;5;129;01mnot\u001b[39;00m np\u001b[38;5;241m.\u001b[39marray_equal(x, \u001b[38;5;28mself\u001b[39m\u001b[38;5;241m.\u001b[39mx):\n\u001b[1;32m    330\u001b[0m     \u001b[38;5;28mself\u001b[39m\u001b[38;5;241m.\u001b[39m_update_x(x)\n\u001b[0;32m--> 331\u001b[0m \u001b[38;5;28;43mself\u001b[39;49m\u001b[38;5;241;43m.\u001b[39;49m\u001b[43m_update_grad\u001b[49m\u001b[43m(\u001b[49m\u001b[43m)\u001b[49m\n\u001b[1;32m    332\u001b[0m \u001b[38;5;28;01mreturn\u001b[39;00m \u001b[38;5;28mself\u001b[39m\u001b[38;5;241m.\u001b[39mg\n",
      "File \u001b[0;32m~/Library/CloudStorage/GoogleDrive-bccassese@gmail.com/My Drive/Columbia University/Research/Active_Projects/jorbit_dev/jorbit/.venv/lib/python3.13/site-packages/scipy/optimize/_differentiable_functions.py:306\u001b[0m, in \u001b[0;36mScalarFunction._update_grad\u001b[0;34m(self)\u001b[0m\n\u001b[1;32m    304\u001b[0m \u001b[38;5;28;01mif\u001b[39;00m \u001b[38;5;28mself\u001b[39m\u001b[38;5;241m.\u001b[39m_orig_grad \u001b[38;5;129;01min\u001b[39;00m FD_METHODS:\n\u001b[1;32m    305\u001b[0m     \u001b[38;5;28mself\u001b[39m\u001b[38;5;241m.\u001b[39m_update_fun()\n\u001b[0;32m--> 306\u001b[0m \u001b[38;5;28mself\u001b[39m\u001b[38;5;241m.\u001b[39mg \u001b[38;5;241m=\u001b[39m \u001b[38;5;28;43mself\u001b[39;49m\u001b[38;5;241;43m.\u001b[39;49m\u001b[43m_wrapped_grad\u001b[49m\u001b[43m(\u001b[49m\u001b[38;5;28;43mself\u001b[39;49m\u001b[38;5;241;43m.\u001b[39;49m\u001b[43mx\u001b[49m\u001b[43m,\u001b[49m\u001b[43m \u001b[49m\u001b[43mf0\u001b[49m\u001b[38;5;241;43m=\u001b[39;49m\u001b[38;5;28;43mself\u001b[39;49m\u001b[38;5;241;43m.\u001b[39;49m\u001b[43mf\u001b[49m\u001b[43m)\u001b[49m\n\u001b[1;32m    307\u001b[0m \u001b[38;5;28mself\u001b[39m\u001b[38;5;241m.\u001b[39mg_updated \u001b[38;5;241m=\u001b[39m \u001b[38;5;28;01mTrue\u001b[39;00m\n",
      "File \u001b[0;32m~/Library/CloudStorage/GoogleDrive-bccassese@gmail.com/My Drive/Columbia University/Research/Active_Projects/jorbit_dev/jorbit/.venv/lib/python3.13/site-packages/scipy/optimize/_differentiable_functions.py:41\u001b[0m, in \u001b[0;36m_wrapper_grad.<locals>.wrapped\u001b[0;34m(x, **kwds)\u001b[0m\n\u001b[1;32m     38\u001b[0m \u001b[38;5;28;01mdef\u001b[39;00m \u001b[38;5;21mwrapped\u001b[39m(x, \u001b[38;5;241m*\u001b[39m\u001b[38;5;241m*\u001b[39mkwds):\n\u001b[1;32m     39\u001b[0m     \u001b[38;5;66;03m# kwds present to give function same signature as numdiff variant\u001b[39;00m\n\u001b[1;32m     40\u001b[0m     ncalls[\u001b[38;5;241m0\u001b[39m] \u001b[38;5;241m+\u001b[39m\u001b[38;5;241m=\u001b[39m \u001b[38;5;241m1\u001b[39m\n\u001b[0;32m---> 41\u001b[0m     \u001b[38;5;28;01mreturn\u001b[39;00m \u001b[43mnp\u001b[49m\u001b[38;5;241;43m.\u001b[39;49m\u001b[43matleast_1d\u001b[49m\u001b[43m(\u001b[49m\u001b[43mgrad\u001b[49m\u001b[43m(\u001b[49m\u001b[43mnp\u001b[49m\u001b[38;5;241;43m.\u001b[39;49m\u001b[43mcopy\u001b[49m\u001b[43m(\u001b[49m\u001b[43mx\u001b[49m\u001b[43m)\u001b[49m\u001b[43m,\u001b[49m\u001b[43m \u001b[49m\u001b[38;5;241;43m*\u001b[39;49m\u001b[43margs\u001b[49m\u001b[43m)\u001b[49m\u001b[43m)\u001b[49m\n",
      "File \u001b[0;32m~/Library/CloudStorage/GoogleDrive-bccassese@gmail.com/My Drive/Columbia University/Research/Active_Projects/jorbit_dev/jorbit/.venv/lib/python3.13/site-packages/numpy/_core/shape_base.py:64\u001b[0m, in \u001b[0;36matleast_1d\u001b[0;34m(*arys)\u001b[0m\n\u001b[1;32m     24\u001b[0m \u001b[38;5;250m\u001b[39m\u001b[38;5;124;03m\"\"\"\u001b[39;00m\n\u001b[1;32m     25\u001b[0m \u001b[38;5;124;03mConvert inputs to arrays with at least one dimension.\u001b[39;00m\n\u001b[1;32m     26\u001b[0m \n\u001b[0;32m   (...)\u001b[0m\n\u001b[1;32m     61\u001b[0m \n\u001b[1;32m     62\u001b[0m \u001b[38;5;124;03m\"\"\"\u001b[39;00m\n\u001b[1;32m     63\u001b[0m \u001b[38;5;28;01mif\u001b[39;00m \u001b[38;5;28mlen\u001b[39m(arys) \u001b[38;5;241m==\u001b[39m \u001b[38;5;241m1\u001b[39m:\n\u001b[0;32m---> 64\u001b[0m     result \u001b[38;5;241m=\u001b[39m \u001b[43masanyarray\u001b[49m\u001b[43m(\u001b[49m\u001b[43marys\u001b[49m\u001b[43m[\u001b[49m\u001b[38;5;241;43m0\u001b[39;49m\u001b[43m]\u001b[49m\u001b[43m)\u001b[49m\n\u001b[1;32m     65\u001b[0m     \u001b[38;5;28;01mif\u001b[39;00m result\u001b[38;5;241m.\u001b[39mndim \u001b[38;5;241m==\u001b[39m \u001b[38;5;241m0\u001b[39m:\n\u001b[1;32m     66\u001b[0m         result \u001b[38;5;241m=\u001b[39m result\u001b[38;5;241m.\u001b[39mreshape(\u001b[38;5;241m1\u001b[39m)\n",
      "\u001b[0;31mKeyboardInterrupt\u001b[0m: "
     ]
    }
   ],
   "source": [
    "helio_rs = jnp.array([30.0, 40.0, 50.0])\n",
    "eccs = jnp.array([0.1, 0.2, 0.3])\n",
    "nus = jnp.array([20.0, 30.0, 40.0])\n",
    "Omegas = jnp.array([20.0, 30.0, 40.0])\n",
    "\n",
    "\n",
    "target_ra = tess_coord.ra.rad\n",
    "target_dec = tess_coord.dec.rad\n",
    "observer_pos = obs.observer_positions[0]\n",
    "\n",
    "fixed_params = []\n",
    "for r in helio_rs:\n",
    "    for e in eccs:\n",
    "        for nu in nus:\n",
    "            for Omega in Omegas:\n",
    "                semi = r / (1 - e**2) * (1 + e * jnp.cos(nu))\n",
    "                fixed_params.append(\n",
    "                    [\n",
    "                        jnp.array([semi]),\n",
    "                        jnp.array([e]),\n",
    "                        jnp.array([nu]),\n",
    "                        jnp.array([Omega]),\n",
    "                    ]\n",
    "                )\n",
    "fixed_params = jnp.array(fixed_params)\n",
    "\n",
    "\n",
    "@jax.jit\n",
    "def best_orb(variable_params, fixed_params, target_ra, target_dec, observer_pos):\n",
    "    x, v = elements_to_cartesian(**fixed_params, **variable_params)\n",
    "    state = SystemState(\n",
    "        positions=x,\n",
    "        velocities=v,\n",
    "        log_gms=jnp.ones(x.shape[0]) * -jnp.inf,\n",
    "        time=0.0,\n",
    "        acceleration_func_kwargs=None,\n",
    "    )\n",
    "    calc_ra, calc_dec = on_sky(state, acc_func, observer_pos)\n",
    "\n",
    "    return sky_sep(calc_ra, calc_dec, target_ra, target_dec)\n",
    "\n",
    "\n",
    "@jax.jit\n",
    "def translate_fixed(f):\n",
    "    return {\n",
    "        \"a\": f[0],\n",
    "        \"ecc\": f[1],\n",
    "        \"nu\": f[2],\n",
    "        \"Omega\": f[3],\n",
    "    }\n",
    "\n",
    "\n",
    "@jax.jit\n",
    "def translate_variable(v):\n",
    "    return {\n",
    "        \"omega\": v[0],\n",
    "        \"inc\": v[1],\n",
    "    }\n",
    "\n",
    "\n",
    "@jax.jit\n",
    "def objective(x, fixed, target_ra, target_dec, observer_pos):\n",
    "    return best_orb(\n",
    "        translate_variable(x),\n",
    "        translate_fixed(fixed),\n",
    "        target_ra,\n",
    "        target_dec,\n",
    "        observer_pos,\n",
    "    )[0]\n",
    "\n",
    "\n",
    "@jax.jit\n",
    "def simul_objective(x):\n",
    "    return jnp.sum(\n",
    "        jax.vmap(objective, in_axes=(0, 0, None, None, None))(\n",
    "            x,\n",
    "            fixed_params,\n",
    "            target_ra,\n",
    "            target_dec,\n",
    "            observer_pos,\n",
    "        )\n",
    "    )\n",
    "\n",
    "\n",
    "@jax.jit\n",
    "def grad_simul_objective(x):\n",
    "    return jnp.ravel(jax.jacfwd(simul_objective)(x))\n",
    "\n",
    "\n",
    "fixed_params = fixed_params\n",
    "init_inc = 20.0\n",
    "init_omega = 20.0\n",
    "\n",
    "init_x = jnp.array(\n",
    "    [jnp.array([[init_inc], [init_omega]]) for i in range(fixed_params.shape[0])]\n",
    ")\n",
    "# simul_objective(init_x), grad_simul_objective(init_x)\n",
    "\n",
    "\n",
    "def scipy_objective(x):\n",
    "    x = x.reshape((fixed_params.shape[0], 2))\n",
    "    x = x[..., None]\n",
    "    return simul_objective(x)\n",
    "\n",
    "\n",
    "def scipy_gradient(x):\n",
    "    x = x.reshape((fixed_params.shape[0], 2))\n",
    "    x = x[..., None]\n",
    "    return grad_simul_objective(x)\n",
    "\n",
    "\n",
    "res = minimize(\n",
    "    scipy_objective,\n",
    "    init_x.ravel(),\n",
    "    jac=scipy_gradient,\n",
    "    method=\"BFGS\",\n",
    "    options={\"disp\": True},\n",
    ")"
   ]
  },
  {
   "cell_type": "code",
   "execution_count": 174,
   "metadata": {},
   "outputs": [
    {
     "data": {
      "text/plain": [
       "(5, 2, 1)"
      ]
     },
     "execution_count": 174,
     "metadata": {},
     "output_type": "execute_result"
    }
   ],
   "source": [
    "init_x.shape"
   ]
  },
  {
   "cell_type": "code",
   "execution_count": 170,
   "metadata": {},
   "outputs": [
    {
     "name": "stdout",
     "output_type": "stream",
     "text": [
      "6.42 ms ± 130 μs per loop (mean ± std. dev. of 7 runs, 100 loops each)\n"
     ]
    }
   ],
   "source": [
    "%timeit simul_objective(init_x).block_until_ready()"
   ]
  },
  {
   "cell_type": "code",
   "execution_count": 171,
   "metadata": {},
   "outputs": [
    {
     "name": "stdout",
     "output_type": "stream",
     "text": [
      "75 ms ± 194 μs per loop (mean ± std. dev. of 7 runs, 10 loops each)\n"
     ]
    }
   ],
   "source": [
    "%timeit grad_simul_objective(init_x).block_until_ready()"
   ]
  },
  {
   "cell_type": "code",
   "execution_count": 143,
   "metadata": {},
   "outputs": [
    {
     "data": {
      "text/plain": [
       "Array([[-3724.90392458],\n",
       "       [  -38.30653406]], dtype=float64)"
      ]
     },
     "execution_count": 143,
     "metadata": {},
     "output_type": "execute_result"
    }
   ],
   "source": [
    "jax.jacfwd(objective, argnums=0)(\n",
    "    jnp.array([[20.0], [23.0]]), fixed_params[0], target_ra, target_dec, observer_pos\n",
    ")"
   ]
  },
  {
   "cell_type": "code",
   "execution_count": 147,
   "metadata": {},
   "outputs": [
    {
     "data": {
      "text/plain": [
       "Array([[20.],\n",
       "       [23.]], dtype=float64)"
      ]
     },
     "execution_count": 147,
     "metadata": {},
     "output_type": "execute_result"
    }
   ],
   "source": [
    "jnp.array([[[20.0], [23.0]], [[20.0], [23.0]]])[0]"
   ]
  },
  {
   "cell_type": "code",
   "execution_count": 154,
   "metadata": {},
   "outputs": [
    {
     "data": {
      "text/plain": [
       "(2, 2, 1)"
      ]
     },
     "execution_count": 154,
     "metadata": {},
     "output_type": "execute_result"
    }
   ],
   "source": [
    "jnp.array([[[20.0], [23.0]], [[20.0], [23.0]]]).shape"
   ]
  },
  {
   "cell_type": "code",
   "execution_count": 155,
   "metadata": {},
   "outputs": [
    {
     "data": {
      "text/plain": [
       "Array([20., 20., 23., 23.], dtype=float64)"
      ]
     },
     "execution_count": 155,
     "metadata": {},
     "output_type": "execute_result"
    }
   ],
   "source": [
    "jnp.repeat(jnp.array([[20.0], [23.0]]), 2)"
   ]
  },
  {
   "cell_type": "code",
   "execution_count": 157,
   "metadata": {},
   "outputs": [
    {
     "data": {
      "text/plain": [
       "Array([-3724.90392458,   -38.30653406, -3709.61477897,  -168.10468421],      dtype=float64)"
      ]
     },
     "execution_count": 157,
     "metadata": {},
     "output_type": "execute_result"
    }
   ],
   "source": [
    "def tot(x):\n",
    "    return jnp.sum(\n",
    "        jax.vmap(objective, in_axes=(0, 0, None, None, None))(\n",
    "            x,\n",
    "            fixed_params[:2],\n",
    "            target_ra,\n",
    "            target_dec,\n",
    "            observer_pos,\n",
    "        )\n",
    "    )\n",
    "\n",
    "\n",
    "tot(jnp.array([[[20.0], [23.0]], [[20.0], [23.0]]]))\n",
    "\n",
    "jnp.ravel(jax.jacfwd(tot)(jnp.array([[[20.0], [23.0]], [[20.0], [23.0]]])))"
   ]
  },
  {
   "cell_type": "code",
   "execution_count": null,
   "metadata": {},
   "outputs": [
    {
     "data": {
      "text/plain": [
       "Array([132260.09134417], dtype=float64)"
      ]
     },
     "execution_count": 126,
     "metadata": {},
     "output_type": "execute_result"
    }
   ],
   "source": [
    "x, v = elements_to_cartesian(\n",
    "    **translate_fixed(fixed_params[0]),\n",
    "    **translate_variable(jnp.array([[20.0], [23.0]])),\n",
    ")\n",
    "state = SystemState(\n",
    "    positions=x,\n",
    "    velocities=v,\n",
    "    log_gms=jnp.ones(x.shape[0]) * -jnp.inf,\n",
    "    time=0.0,\n",
    "    acceleration_func_kwargs=None,\n",
    ")\n",
    "calc_ra, calc_dec = on_sky(state, acc_func, observer_pos)\n",
    "sky_sep(calc_ra, calc_dec, target_ra, target_dec)"
   ]
  },
  {
   "cell_type": "code",
   "execution_count": 131,
   "metadata": {},
   "outputs": [
    {
     "data": {
      "text/plain": [
       "{'omega': Array(20., dtype=float64), 'inc': Array(23., dtype=float64)}"
      ]
     },
     "execution_count": 131,
     "metadata": {},
     "output_type": "execute_result"
    }
   ],
   "source": [
    "translate_variable(jnp.array([20.0, 23.0]))\n",
    "# translate_fixed(fixed_params[0])"
   ]
  },
  {
   "cell_type": "code",
   "execution_count": null,
   "metadata": {},
   "outputs": [],
   "source": []
  },
  {
   "cell_type": "code",
   "execution_count": null,
   "metadata": {},
   "outputs": [],
   "source": []
  },
  {
   "cell_type": "code",
   "execution_count": 1,
   "metadata": {},
   "outputs": [],
   "source": [
    "import jax\n",
    "\n",
    "jax.config.update(\"jax_enable_x64\", True)\n",
    "import jax.numpy as jnp\n",
    "\n",
    "from tqdm import tqdm\n",
    "from scipy.optimize import minimize\n",
    "\n",
    "from astropy.time import Time\n",
    "import astropy.units as u\n",
    "from astropy.coordinates import SkyCoord\n",
    "from astroquery.jplhorizons import Horizons\n",
    "\n",
    "from jorbit.observation import Observations\n",
    "from jorbit.utils.states import SystemState\n",
    "from jorbit.ephemeris import Ephemeris\n",
    "from jorbit.accelerations import create_newtonian_ephemeris_acceleration_func\n",
    "from jorbit.integrators import ias15_evolve, initialize_ias15_integrator_state\n",
    "from jorbit.astrometry.sky_projection import on_sky, sky_sep\n",
    "from jorbit.astrometry.transformations import (\n",
    "    elements_to_cartesian,\n",
    "    cartesian_to_elements,\n",
    ")"
   ]
  },
  {
   "cell_type": "code",
   "execution_count": 50,
   "metadata": {},
   "outputs": [
    {
     "name": "stdout",
     "output_type": "stream",
     "text": [
      "Downloading observer positions from Horizons...\n"
     ]
    }
   ],
   "source": [
    "tess_coord = SkyCoord(\n",
    "    95.97, 22.75, unit=(u.deg, u.deg), frame=\"icrs\", obstime=Time(\"2023-11-11 00:00\")\n",
    ")\n",
    "\n",
    "sector_times = (tess_coord.obstime + jnp.arange(0.0, 27, 0.1) * u.day).tdb.jd\n",
    "\n",
    "obs = Observations(\n",
    "    observed_coordinates=[tess_coord for i in range(sector_times.size)],\n",
    "    times=jnp.array(sector_times),\n",
    "    observatories=\"@-95\",\n",
    "    astrometric_uncertainties=1 * u.arcsec,\n",
    "    verbose=True,\n",
    ")\n",
    "\n",
    "eph = Ephemeris(\n",
    "    earliest_time=Time(\"2015-01-01 00:00\"),\n",
    "    latest_time=Time(\"2035-01-01 00:00\"),\n",
    "    ssos=\"default planets\",\n",
    ")\n",
    "acc_func = create_newtonian_ephemeris_acceleration_func(eph.processor)"
   ]
  },
  {
   "cell_type": "code",
   "execution_count": 52,
   "metadata": {},
   "outputs": [
    {
     "name": "stderr",
     "output_type": "stream",
     "text": [
      "100%|██████████| 16/16 [00:10<00:00,  1.46it/s]\n"
     ]
    }
   ],
   "source": [
    "@jax.jit\n",
    "def best_orb(variable_params, fixed_params, target_ra, target_dec, observer_pos):\n",
    "    x, v = elements_to_cartesian(**fixed_params, **variable_params)\n",
    "    state = SystemState(\n",
    "        positions=x,\n",
    "        velocities=v,\n",
    "        log_gms=jnp.array([0.0]),\n",
    "        time=0.0,\n",
    "        acceleration_func_kwargs=None,\n",
    "    )\n",
    "    calc_ra, calc_dec = on_sky(state, acc_func, observer_pos)\n",
    "\n",
    "    return sky_sep(calc_ra, calc_dec, target_ra, target_dec)[0]\n",
    "\n",
    "\n",
    "def produce_valid_orbits(\n",
    "    helio_rs, eccs, nus, Omegas, target_ra, target_dec, observer_pos\n",
    "):\n",
    "\n",
    "    def scipy_objective(x, fixed, target_ra, target_dec, observer_pos):\n",
    "        return best_orb(\n",
    "            {\"omega\": jnp.array([x[0]]), \"inc\": jnp.array([x[1]])},\n",
    "            fixed,\n",
    "            target_ra,\n",
    "            target_dec,\n",
    "            observer_pos,\n",
    "        )\n",
    "\n",
    "    def scipy_gradient(x, fixed, target_ra, target_dec, observer_pos):\n",
    "        g = jax.jacfwd(best_orb, argnums=0)(\n",
    "            {\"omega\": jnp.array([x[0]]), \"inc\": jnp.array([x[1]])},\n",
    "            fixed,\n",
    "            target_ra,\n",
    "            target_dec,\n",
    "            observer_pos,\n",
    "        )\n",
    "        return jnp.array([g[\"omega\"][0], g[\"inc\"][0]])\n",
    "\n",
    "    fixed_params = []\n",
    "    for r in helio_rs:\n",
    "        for e in eccs:\n",
    "            for nu in nus:\n",
    "                for Omega in Omegas:\n",
    "                    semi = r / (1 - e**2) * (1 + e * jnp.cos(nu))\n",
    "                    fixed_params.append(\n",
    "                        {\n",
    "                            \"a\": semi,\n",
    "                            \"ecc\": jnp.array([e]),\n",
    "                            \"nu\": jnp.array([nu]),\n",
    "                            \"Omega\": jnp.array([Omega]),\n",
    "                        }\n",
    "                    )\n",
    "\n",
    "    valid_orbits = []\n",
    "    for fixed in tqdm(fixed_params):\n",
    "        res = minimize(\n",
    "            scipy_objective,\n",
    "            [20.0, 120.0],\n",
    "            jac=scipy_gradient,\n",
    "            method=\"BFGS\",\n",
    "            args=(fixed, target_ra, target_dec, observer_pos),\n",
    "            # options={\"disp\": True},\n",
    "        )\n",
    "        if res.fun < 10.0:\n",
    "            el = {\n",
    "                \"a\": fixed[\"a\"],\n",
    "                \"ecc\": fixed[\"ecc\"],\n",
    "                \"inc\": jnp.array([res.x[1]]),\n",
    "                \"Omega\": fixed[\"Omega\"],\n",
    "                \"omega\": jnp.array([res.x[0]]),\n",
    "                \"nu\": fixed[\"nu\"],\n",
    "            }\n",
    "            valid_orbits.append((el, res.fun))\n",
    "\n",
    "    return valid_orbits\n",
    "\n",
    "\n",
    "l = 2\n",
    "orbs = produce_valid_orbits(\n",
    "    helio_rs=jnp.concatenate((jnp.arange(30.0, 50, 2), jnp.arange(50, 100.0, 10)))[:l],\n",
    "    eccs=jnp.arange(0.0, 0.9, 0.1)[:l],\n",
    "    nus=jnp.arange(0, 360.0, 40)[:l],\n",
    "    Omegas=jnp.arange(0, 360.0, 40)[:l],\n",
    "    target_ra=tess_coord.ra.rad,\n",
    "    target_dec=tess_coord.dec.rad,\n",
    "    observer_pos=obs.observer_positions[0],\n",
    ")\n",
    "\n",
    "xs, vs = [], []\n",
    "for o in orbs:\n",
    "    x, v = elements_to_cartesian(**o[0])\n",
    "    xs.append(x[0])\n",
    "    vs.append(v[0])\n",
    "xs = jnp.array(xs)[:, None, :]\n",
    "vs = jnp.array(vs)[:, None, :]"
   ]
  },
  {
   "cell_type": "code",
   "execution_count": 54,
   "metadata": {},
   "outputs": [
    {
     "name": "stderr",
     "output_type": "stream",
     "text": [
      "100%|██████████| 16/16 [00:08<00:00,  1.91it/s]\n"
     ]
    }
   ],
   "source": [
    "def evolved(x, v, observer_positions):\n",
    "    state = SystemState(\n",
    "        positions=x,\n",
    "        velocities=v,\n",
    "        log_gms=jnp.array([0.0]),\n",
    "        time=tess_coord.obstime.tdb.jd,\n",
    "        acceleration_func_kwargs=None,\n",
    "    )\n",
    "\n",
    "    new_positions, new_velocities, state1, new_integrator_state = ias15_evolve(\n",
    "        initial_system_state=state,\n",
    "        acceleration_func=acc_func,\n",
    "        times=sector_times,\n",
    "        initial_integrator_state=initialize_ias15_integrator_state(acc_func(state)),\n",
    "        n_steps=3,\n",
    "    )\n",
    "\n",
    "    # this is silly, but I haven't fixed the tracer acceleration bug yet\n",
    "    def tmp(x, v, obs_pos):\n",
    "        state = SystemState(\n",
    "            positions=x,\n",
    "            velocities=v,\n",
    "            log_gms=jnp.ones(x.shape[0]) * -jnp.inf,\n",
    "            time=0.0,\n",
    "            acceleration_func_kwargs=None,\n",
    "        )\n",
    "        return on_sky(state, acc_func, obs_pos)\n",
    "\n",
    "    ras, decs = jax.vmap(tmp)(new_positions, new_velocities, observer_positions)\n",
    "    return ras, decs\n",
    "\n",
    "    return new_positions, new_velocities\n",
    "\n",
    "\n",
    "# surprisingly faster than vmap\n",
    "ras, decs = [], []\n",
    "for i in tqdm(range(xs.shape[0])):\n",
    "    ra, dec = evolved(xs[i], vs[i], obs.observer_positions)\n",
    "    ras.append(ra)\n",
    "    decs.append(dec)\n",
    "ras = jnp.array(ras)[..., 0]\n",
    "decs = jnp.array(decs)[..., 0]"
   ]
  },
  {
   "cell_type": "code",
   "execution_count": 55,
   "metadata": {},
   "outputs": [
    {
     "data": {
      "text/plain": [
       "(16, 270)"
      ]
     },
     "execution_count": 55,
     "metadata": {},
     "output_type": "execute_result"
    }
   ],
   "source": [
    "ras.shape"
   ]
  },
  {
   "cell_type": "code",
   "execution_count": 56,
   "metadata": {},
   "outputs": [
    {
     "data": {
      "text/plain": [
       "<SkyCoord (ICRS): (ra, dec) in deg\n",
       "    [(95.97      , 22.75      ), (95.96820624, 22.75009748),\n",
       "     (95.96643005, 22.75021254), (95.96467057, 22.75034452),\n",
       "     (95.96292585, 22.75049188), (95.96119306, 22.75065243),\n",
       "     (95.95880357, 22.75084833), (95.95641904, 22.75105203),\n",
       "     (95.9540361 , 22.7512609 ), (95.95165199, 22.75147259),\n",
       "     (95.94926791, 22.75168501), (95.94694184, 22.75189436),\n",
       "     (95.94563179, 22.75206379), (95.94738067, 22.75211647),\n",
       "     (95.94496092, 22.75232032), (95.94253113, 22.75252032),\n",
       "     (95.94009094, 22.75271615), (95.93764061, 22.75290764),\n",
       "     (95.93518754, 22.75309442), (95.93285169, 22.75327201),\n",
       "     (95.93255292, 22.75336927), (95.93305505, 22.75343211),\n",
       "     (95.93121674, 22.75357708), (95.92936805, 22.75371787),\n",
       "     (95.92750913, 22.75385457), (95.92497427, 22.75401195),\n",
       "     (95.92242941, 22.75416544), (95.91987471, 22.75431514),\n",
       "     (95.91731054, 22.75446116), (95.91474082, 22.75460346),\n",
       "     (95.91222569, 22.75473993), (95.91072569, 22.75483518),\n",
       "     (95.91228675, 22.75481377), (95.90967609, 22.75494301),\n",
       "     (95.90705653, 22.75506915), (95.90442822, 22.75519229),\n",
       "     (95.90179172, 22.75531246), (95.89915467, 22.75542949),\n",
       "     (95.89663724, 22.75553902), (95.89616101, 22.75557033),\n",
       "     (95.89648875, 22.7555691 ), (95.89447643, 22.75565126),\n",
       "     (95.89245609, 22.75573092), (95.8904278 , 22.75580813),\n",
       "     (95.88772523, 22.75590748), (95.88501482, 22.75600448),\n",
       "     (95.88229664, 22.75609917), (95.87957102, 22.75619159),\n",
       "     (95.87684176, 22.75628166), (95.87416902, 22.75636721),\n",
       "     (95.87251404, 22.75641302), (95.87392437, 22.75634399),\n",
       "     (95.87116118, 22.75642588), (95.86839067, 22.75650577),\n",
       "     (95.86561291, 22.75658368), (95.86282844, 22.75665964),\n",
       "     (95.86004474, 22.75673334), (95.8573822 , 22.75680053),\n",
       "     (95.85676382, 22.75679081), (95.8569513 , 22.75674956),\n",
       "     (95.85479804, 22.756792  ), (95.8526379 , 22.75683269),\n",
       "     (95.85047093, 22.75687168), (95.84829716, 22.75690897),\n",
       "     (95.84544967, 22.75696896), (95.84259542, 22.7570273 ),\n",
       "     (95.83973445, 22.757084  ), (95.83686705, 22.75713907),\n",
       "     (95.833997  , 22.75719241), (95.83118446, 22.75724183),\n",
       "     (95.82939148, 22.75725233), (95.83066726, 22.75714928),\n",
       "     (95.82776691, 22.75719669), (95.82486008, 22.75724261),\n",
       "     (95.82194685, 22.75728706), (95.81902771, 22.75733003),\n",
       "     (95.81611021, 22.75737128), (95.81331467, 22.75740645),\n",
       "     (95.81256573, 22.75736566), (95.81262407, 22.75729398),\n",
       "     (95.81034047, 22.75730584), (95.80805072, 22.75731638),\n",
       "     (95.80575485, 22.75732561), (95.80278541, 22.75735777),\n",
       "     (95.79980986, 22.75738865), (95.79682825, 22.75741827),\n",
       "     (95.79384087, 22.75744663), (95.79085149, 22.75747363),\n",
       "     (95.78792034, 22.75749711), (95.78601017, 22.75748228),\n",
       "     (95.78717172, 22.75735506), (95.78415469, 22.75737766),\n",
       "     (95.78113186, 22.75739918), (95.77810333, 22.75741962),\n",
       "     (95.77506961, 22.75743902), (95.77203827, 22.75745713),\n",
       "     (95.76912975, 22.75746966), (95.7682701 , 22.75740721),\n",
       "     (95.76821912, 22.7573146 ), (95.76582536, 22.75730546),\n",
       "     (95.76342634, 22.75729557), (95.76102213, 22.75728499),\n",
       "     (95.75861283, 22.75727377), (95.75553054, 22.75728602),\n",
       "     (95.75244333, 22.75729776), (95.74935131, 22.75730909),\n",
       "     (95.74625486, 22.75732008), (95.74315789, 22.75733072),\n",
       "     (95.74012076, 22.75733896), (95.7381071 , 22.7573104 ),\n",
       "     (95.73916929, 22.75717163), (95.73605192, 22.75718305),\n",
       "     (95.73293107, 22.75719505), (95.72980704, 22.75720784),\n",
       "     (95.72668067, 22.75722168), (95.72355984, 22.75723659),\n",
       "     (95.72056547, 22.75724859), (95.71962542, 22.7571892 ),\n",
       "     (95.71949907, 22.75710326), (95.71703338, 22.75710402),\n",
       "     (95.71456818, 22.7571084 ), (95.71210434, 22.75711709),\n",
       "     (95.70964283, 22.75713084), (95.70718477, 22.75715051),\n",
       "     (95.70406296, 22.75720092), (95.7009472 , 22.75725927),\n",
       "     (95.69783903, 22.75732676), (95.69474032, 22.75740461),\n",
       "     (95.6916565 , 22.75749399), (95.68864946, 22.75759399),\n",
       "     (95.68668471, 22.75767146), (95.68781703, 22.75765433),\n",
       "     (95.68478643, 22.75780113), (95.68177164, 22.75796326),\n",
       "     (95.67877196, 22.75814013), (95.67578644, 22.75833056),\n",
       "     (95.67282054, 22.75853265), (95.66999226, 22.75874011),\n",
       "     (95.66922753, 22.75888247), (95.66928158, 22.75900162),\n",
       "     (95.66699604, 22.75920736), (95.66470928, 22.75941497),\n",
       "     (95.66241936, 22.75962293), (95.66012471, 22.75983001),\n",
       "     (95.65715517, 22.7600589 ), (95.65417864, 22.76028517),\n",
       "     (95.65119438, 22.76050825), (95.64820212, 22.76072775),\n",
       "     (95.64520525, 22.76094323), (95.64226382, 22.7611524 ),\n",
       "     (95.64034241, 22.76132113), (95.64149589, 22.76137695),\n",
       "     (95.63845886, 22.76157601), (95.63541275, 22.76177086),\n",
       "     (95.63235766, 22.76196153), (95.62929415, 22.76214809),\n",
       "     (95.62622983, 22.76233032), (95.62328545, 22.76250407),\n",
       "     (95.62239108, 22.76260163), (95.622304  , 22.7626668 ),\n",
       "     (95.61986635, 22.76281063), (95.6174205 , 22.76295088),\n",
       "     (95.61496656, 22.76308763), (95.61250466, 22.76322098),\n",
       "     (95.60936557, 22.76337448), (95.6062187 , 22.76352473),\n",
       "     (95.60306416, 22.76367177), (95.59990233, 22.76381572),\n",
       "     (95.59673706, 22.7639565 ), (95.59362879, 22.76409207),\n",
       "     (95.591543  , 22.76418877), (95.59253612, 22.76417484),\n",
       "     (95.58933789, 22.76430445), (95.58613268, 22.76443135),\n",
       "     (95.5829206 , 22.76455561), (95.5797022 , 22.76467727),\n",
       "     (95.57648511, 22.76479611), (95.57339009, 22.76490799),\n",
       "     (95.57234848, 22.76494571), (95.57211665, 22.76495267),\n",
       "     (95.56953461, 22.76503896), (95.56694622, 22.76512298),\n",
       "     (95.56435155, 22.76520476), (95.56175065, 22.76528435),\n",
       "     (95.55914359, 22.76536179), (95.55586061, 22.76546037),\n",
       "     (95.55257154, 22.76555683), (95.54927645, 22.76565123),\n",
       "     (95.54597561, 22.76574357), (95.54267287, 22.76583376),\n",
       "     (95.53942864, 22.76591974), (95.53720898, 22.76596812),\n",
       "     (95.53807167, 22.76590774), (95.53474153, 22.76599044),\n",
       "     (95.53140568, 22.76607126), (95.52806421, 22.76615024),\n",
       "     (95.52471762, 22.76622738), (95.5213735 , 22.76630245),\n",
       "     (95.51815267, 22.7663713 ), (95.51698769, 22.76636733),\n",
       "     (95.51663408, 22.76633353), (95.51392975, 22.76637895),\n",
       "     (95.51122008, 22.7664227 ), (95.5085051 , 22.7664648 ),\n",
       "     (95.50578485, 22.76650529), (95.50305937, 22.76654417),\n",
       "     (95.49965846, 22.76660452), (95.49625234, 22.76666327),\n",
       "     (95.49284108, 22.76672046), (95.48942494, 22.76677609),\n",
       "     (95.48600773, 22.76683005), (95.48264989, 22.7668803 ),\n",
       "     (95.48031809, 22.76689374), (95.48107132, 22.76679993),\n",
       "     (95.47762994, 22.76684823), (95.47418365, 22.7668951 ),\n",
       "     (95.47073251, 22.76694057), (95.46727703, 22.76698463),\n",
       "     (95.46382482, 22.76702706), (95.46049675, 22.76706375),\n",
       "     (95.45922652, 22.76702877), (95.45876892, 22.76696468),\n",
       "     (95.45596001, 22.76697945), (95.45314655, 22.76699302),\n",
       "     (95.4503286 , 22.76700541), (95.44750622, 22.76701667),\n",
       "     (95.44467944, 22.76702682), (95.44184834, 22.76703592),\n",
       "     (95.43834235, 22.76706679), (95.43483213, 22.76709667),\n",
       "     (95.43131778, 22.7671256 ), (95.4277996 , 22.76715363),\n",
       "     (95.42428147, 22.76718069), (95.42082393, 22.76720482),\n",
       "     (95.41839424, 22.76719332), (95.41905265, 22.76707657),\n",
       "     (95.41551547, 22.76710135), (95.41197489, 22.76712573),\n",
       "     (95.40843108, 22.76714982), (95.40488472, 22.76717374),\n",
       "     (95.40134353, 22.76719739), (95.39792867, 22.76721685),\n",
       "     (95.39657507, 22.76716708), (95.39603707, 22.76709038),\n",
       "     (95.3931493 , 22.76709374), (95.39026011, 22.76709822),\n",
       "     (95.38736992, 22.76710417), (95.38447919, 22.76711193),\n",
       "     (95.38158847, 22.76712193), (95.37802742, 22.76715721),\n",
       "     (95.37446767, 22.76719575), (95.37091004, 22.76723818),\n",
       "     (95.36735569, 22.7672852 ), (95.36380944, 22.76733753),\n",
       "     (95.36033295, 22.76739405), (95.35789513, 22.7674234 ),\n",
       "     (95.3585585 , 22.76735775), (95.35503746, 22.76744235),\n",
       "     (95.35152763, 22.76753797), (95.34803067, 22.76764587),\n",
       "     (95.34454856, 22.76776721), (95.34109021, 22.76790274),\n",
       "     (95.33777744, 22.76804909), (95.33654615, 22.76814197),\n",
       "     (95.33614955, 22.76822273), (95.33341962, 22.76839611),\n",
       "     (95.33070371, 22.76858241), (95.32799958, 22.76877982),\n",
       "     (95.3253047 , 22.76898631), (95.32261641, 22.76919975)]>"
      ]
     },
     "execution_count": 56,
     "metadata": {},
     "output_type": "execute_result"
    }
   ],
   "source": [
    "SkyCoord(ras[0], decs[0], unit=(u.rad, u.rad), frame=\"icrs\")"
   ]
  },
  {
   "cell_type": "code",
   "execution_count": null,
   "metadata": {},
   "outputs": [],
   "source": []
  }
 ],
 "metadata": {
  "kernelspec": {
   "display_name": ".venv",
   "language": "python",
   "name": "python3"
  },
  "language_info": {
   "codemirror_mode": {
    "name": "ipython",
    "version": 3
   },
   "file_extension": ".py",
   "mimetype": "text/x-python",
   "name": "python",
   "nbconvert_exporter": "python",
   "pygments_lexer": "ipython3",
   "version": "3.13.0"
  }
 },
 "nbformat": 4,
 "nbformat_minor": 2
}
