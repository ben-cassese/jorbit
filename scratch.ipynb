{
 "cells": [
  {
   "cell_type": "markdown",
   "metadata": {},
   "source": [
    "# scratch work"
   ]
  },
  {
   "cell_type": "code",
   "execution_count": 1,
   "metadata": {},
   "outputs": [],
   "source": [
    "import jax\n",
    "\n",
    "jax.config.update(\"jax_enable_x64\", True)\n",
    "import jax.numpy as jnp\n",
    "\n",
    "from decimal import Decimal, getcontext\n",
    "getcontext().prec = 50\n",
    "\n",
    "\n",
    "import mpmath\n",
    "mpmath.mp.dps = 75\n",
    "\n",
    "from jorbit.utils.doubledouble import DoubleDouble, dd_polyval\n"
   ]
  },
  {
   "cell_type": "code",
   "execution_count": 2,
   "metadata": {},
   "outputs": [],
   "source": [
    "# ((((((((bp[6]*7.*IAS15_H[n]/9. + bp[5])*3.*IAS15_H[n]/4. + bp[4])*5.*IAS15_H[n]/7. + bp[3])*2.*IAS15_H[n]/3. + bp[2])*3.*IAS15_H[n]/5. + bp[1])*IAS15_H[n]/2. + bp[0])*IAS15_H[n]/3. + a0)*dt*IAS15_H[n]/2. + v0)*dt*IAS15_H[n]"
   ]
  },
  {
   "cell_type": "code",
   "execution_count": 3,
   "metadata": {},
   "outputs": [],
   "source": [
    "# ((((((((b.p6[k0]*7.*h[n]/9. + b.p5[k0])*3.*h[n]/4. + b.p4[k0])*5.*h[n]/7. + b.p3[k0])*2.*h[n]/3. + b.p2[k0])*3.*h[n]/5. + b.p1[k0])*h[n]/2. + b.p0[k0])*h[n]/3. + a0[k0])*r->dt*h[n]/2. + v0[k0])*r->dt*"
   ]
  },
  {
   "cell_type": "code",
   "execution_count": 4,
   "metadata": {},
   "outputs": [],
   "source": [
    "# (((((((\n",
    "#     (b.p6[k0]*7.*h[n]/9. + b.p5[k0])*3.*h[n]/4. + b.p4[k0])*5.*h[n]/7. + b.p3[k0])*2.*h[n]/3. + b.p2[k0])*3.*h[n]/5. + b.p1[k0])*h[n]/2. + b.p0[k0])*h[n]/3. + a0[k0])*r->dt*h[n]/2. + v0[k0])*r->dt*"
   ]
  },
  {
   "cell_type": "code",
   "execution_count": 8,
   "metadata": {},
   "outputs": [
    {
     "data": {
      "text/plain": [
       "(Array([ 6, 12, 20, 30, 42, 56, 72, 90], dtype=int64),\n",
       " Array([2, 3, 4, 5, 6, 7, 8, 9], dtype=int64))"
      ]
     },
     "execution_count": 8,
     "metadata": {},
     "output_type": "execute_result"
    }
   ],
   "source": [
    "b_len = 8\n",
    "b_x_denoms = (1+jnp.arange(1, b_len + 1, 1)) * (2+jnp.arange(1, b_len + 1, 1))\n",
    "b_v_denoms = jnp.arange(2, b_len + 2, 1)\n",
    "\n",
    "b_x_denoms, b_v_denoms"
   ]
  },
  {
   "cell_type": "code",
   "execution_count": 9,
   "metadata": {},
   "outputs": [
    {
     "data": {
      "text/plain": [
       "(Array([ 6, 12, 20, 30, 42, 56, 72], dtype=int64),\n",
       " Array([2, 3, 4, 5, 6, 7, 8], dtype=int64))"
      ]
     },
     "execution_count": 9,
     "metadata": {},
     "output_type": "execute_result"
    }
   ],
   "source": [
    "b_len = 7\n",
    "b_x_denoms = (1+jnp.arange(1, b_len + 1, 1)) * (2+jnp.arange(1, b_len + 1, 1))\n",
    "b_v_denoms = jnp.arange(2, b_len + 2, 1)\n",
    "\n",
    "b_x_denoms, b_v_denoms"
   ]
  },
  {
   "cell_type": "code",
   "execution_count": 10,
   "metadata": {},
   "outputs": [
    {
     "data": {
      "text/plain": [
       "(Array(0., dtype=float64), Array(0., dtype=float64))"
      ]
     },
     "execution_count": 10,
     "metadata": {},
     "output_type": "execute_result"
    }
   ],
   "source": [
    "from jorbit.data.constants import IAS15_H\n",
    "n = 4\n",
    "\n",
    "a0 = 2.12\n",
    "bp = jnp.array([54.1, 93.0, 0.21, 5.21, 75.3, 8.32, 90.73])\n",
    "h = IAS15_H[n]\n",
    "dt = 0.04\n",
    "v0 = 7.0\n",
    "x0 = 3.0\n",
    "\n",
    "xcoeffs = jnp.zeros(b_len + 3)\n",
    "xcoeffs = xcoeffs.at[3:].set(bp * dt * dt / b_x_denoms)\n",
    "xcoeffs = xcoeffs.at[2].set(a0 * dt * dt / 2.0)\n",
    "xcoeffs = xcoeffs.at[1].set(v0 * dt)\n",
    "xcoeffs = xcoeffs.at[0].set(x0)\n",
    "xcoeffs = xcoeffs[::-1]\n",
    "\n",
    "vcoeffs = jnp.zeros(b_len + 2)\n",
    "vcoeffs = vcoeffs.at[2:].set(bp * dt / b_v_denoms)\n",
    "vcoeffs = vcoeffs.at[1].set(a0 * dt)\n",
    "vcoeffs = vcoeffs.at[0].set(v0)\n",
    "vcoeffs = vcoeffs[::-1]\n",
    "\n",
    "new_x = jnp.polyval(xcoeffs, h)\n",
    "new_v = jnp.polyval(vcoeffs, h)\n",
    "\n",
    "old_x = ((((((((bp[6]*7.*IAS15_H[n]/9. + bp[5])*3.*IAS15_H[n]/4. + bp[4])*5.*IAS15_H[n]/7. + bp[3])*2.*IAS15_H[n]/3. + bp[2])*3.*IAS15_H[n]/5. + bp[1])*IAS15_H[n]/2. + bp[0])*IAS15_H[n]/3. + a0)*dt*IAS15_H[n]/2. + v0)*dt*IAS15_H[n] + x0\n",
    "old_v = v0 + (((((((bp[6]*7.*IAS15_H[n]/8. + bp[5])*6.*IAS15_H[n]/7. + bp[4])*5.*IAS15_H[n]/6. + bp[3])*4.*IAS15_H[n]/5. + bp[2])*3.*IAS15_H[n]/4. + bp[1])*2.*IAS15_H[n]/3. + bp[0])*IAS15_H[n]/2. + a0)*dt*IAS15_H[n]\n",
    "\n",
    "new_x - old_x, new_v - old_v"
   ]
  },
  {
   "cell_type": "code",
   "execution_count": null,
   "metadata": {},
   "outputs": [],
   "source": [
    "b_x_denoms = DoubleDouble(b_x_denoms)\n",
    "b_v_denoms = DoubleDouble(b_v_denoms)\n",
    "bp = DoubleDouble(bp)\n",
    "dt = DoubleDouble(dt)\n",
    "\n",
    "xcoeffs = DoubleDouble(jnp.zeros(b_len + 3))\n",
    "tmp = bp * dt * dt / b_x_denoms\n",
    "xcoeffs.hi = xcoeffs.hi.at[3:].set(tmp.hi)\n",
    "xcoeffs.lo = xcoeffs.lo.at[3:].set(tmp.lo)"
   ]
  },
  {
   "cell_type": "code",
   "execution_count": 12,
   "metadata": {},
   "outputs": [
    {
     "data": {
      "text/plain": [
       "Array([ 0.00000000e+00,  0.00000000e+00,  0.00000000e+00, -6.05515638e-18,\n",
       "       -9.39248679e-18,  2.01470784e-20,  6.30162589e-19, -3.28848060e-18,\n",
       "        9.34807787e-20, -6.83475498e-18], dtype=float64)"
      ]
     },
     "execution_count": 12,
     "metadata": {},
     "output_type": "execute_result"
    }
   ],
   "source": [
    "\n"
   ]
  },
  {
   "cell_type": "code",
   "execution_count": null,
   "metadata": {},
   "outputs": [],
   "source": []
  },
  {
   "cell_type": "code",
   "execution_count": 3,
   "metadata": {},
   "outputs": [
    {
     "name": "stdout",
     "output_type": "stream",
     "text": [
      "5.649233359601495e-08, -5.388037824036623e-25\n",
      "5.649320835508429e-08, -1.3876614877682261e-24\n",
      "8.747592999253804e-13, -2.238183808514221e-30\n",
      "2.213840311442581e-18, 1.8152355289655439e-34\n",
      "3.2412436268176264e-24, 1.3856550845946262e-40\n",
      "3.8274007215499996e-30, 8.068751029066524e-47\n",
      "0.0, 0.0\n",
      "0.0, 0.0\n",
      "0.0, 0.0\n",
      "0.0, 0.0\n"
     ]
    },
    {
     "data": {
      "text/plain": [
       "(<jorbit.integrators.ias15_dd.IAS15Helper at 0x10d9510f0>,\n",
       " <jorbit.integrators.ias15_dd.IAS15Helper at 0x129285e10>,\n",
       " DoubleDouble(0.0, 0.0),\n",
       " DoubleDouble(0.0, 0.0))"
      ]
     },
     "execution_count": 3,
     "metadata": {},
     "output_type": "execute_result"
    }
   ],
   "source": [
    "b = initialize_ias15_helper(1)\n",
    "# print(bp[0.hi)\n",
    "\n",
    "x0 = DoubleDouble(jnp.array([1.0, 0.0, 0.0]))\n",
    "v0 = DoubleDouble(jnp.array([0.0, 1.0, 0.0]))\n",
    "\n",
    "a0 = acceleration_func(x0)\n",
    "\n",
    "step(x0, v0, a0, b)\n",
    "\n",
    "# print(bp[0.hi)"
   ]
  },
  {
   "cell_type": "code",
   "execution_count": null,
   "metadata": {},
   "outputs": [],
   "source": []
  }
 ],
 "metadata": {
  "kernelspec": {
   "display_name": ".venv",
   "language": "python",
   "name": "python3"
  },
  "language_info": {
   "codemirror_mode": {
    "name": "ipython",
    "version": 3
   },
   "file_extension": ".py",
   "mimetype": "text/x-python",
   "name": "python",
   "nbconvert_exporter": "python",
   "pygments_lexer": "ipython3",
   "version": "3.13.0"
  }
 },
 "nbformat": 4,
 "nbformat_minor": 2
}
