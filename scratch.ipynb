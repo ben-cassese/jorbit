{
 "cells": [
  {
   "cell_type": "markdown",
   "metadata": {},
   "source": [
    "# scratch work"
   ]
  },
  {
   "cell_type": "code",
   "execution_count": 1,
   "metadata": {},
   "outputs": [],
   "source": [
    "import jax\n",
    "\n",
    "jax.config.update(\"jax_enable_x64\", True)\n",
    "import jax.numpy as jnp\n",
    "\n",
    "from jorbit.utils.doubledouble import DoubleDouble"
   ]
  },
  {
   "cell_type": "code",
   "execution_count": 3,
   "metadata": {},
   "outputs": [
    {
     "data": {
      "text/plain": [
       "DoubleDouble(1e-20, 5.484672854579043e-37)"
      ]
     },
     "execution_count": 3,
     "metadata": {},
     "output_type": "execute_result"
    }
   ],
   "source": [
    "a = DoubleDouble(1.0)\n",
    "b = DoubleDouble(1e20)\n",
    "\n",
    "a / b"
   ]
  },
  {
   "cell_type": "code",
   "execution_count": null,
   "metadata": {},
   "outputs": [],
   "source": []
  },
  {
   "cell_type": "code",
   "execution_count": null,
   "metadata": {},
   "outputs": [],
   "source": []
  },
  {
   "cell_type": "code",
   "execution_count": 9,
   "metadata": {},
   "outputs": [
    {
     "data": {
      "text/plain": [
       "DoubleDouble(0.14285714285714285, 7.142857142857e-18)"
      ]
     },
     "execution_count": 9,
     "metadata": {},
     "output_type": "execute_result"
    }
   ],
   "source": [
    "from decimal import Decimal, getcontext\n",
    "\n",
    "# Set precision high enough to capture all digits\n",
    "getcontext().prec = 40\n",
    "\n",
    "DoubleDouble.from_string(str(Decimal(1) / Decimal(7))[:32])"
   ]
  },
  {
   "cell_type": "code",
   "execution_count": 10,
   "metadata": {},
   "outputs": [
    {
     "data": {
      "text/plain": [
       "134217728"
      ]
     },
     "execution_count": 10,
     "metadata": {},
     "output_type": "execute_result"
    }
   ],
   "source": [
    "2**27 134217729"
   ]
  },
  {
   "cell_type": "code",
   "execution_count": 2,
   "metadata": {},
   "outputs": [
    {
     "ename": "TypeError",
     "evalue": "unsupported operand type(s) for *: 'float' and 'DoubleDouble'",
     "output_type": "error",
     "traceback": [
      "\u001b[0;31m---------------------------------------------------------------------------\u001b[0m",
      "\u001b[0;31mTypeError\u001b[0m                                 Traceback (most recent call last)",
      "Cell \u001b[0;32mIn[2], line 1\u001b[0m\n\u001b[0;32m----> 1\u001b[0m \u001b[38;5;28;01mfrom\u001b[39;00m \u001b[38;5;21;01mjorbit\u001b[39;00m\u001b[38;5;21;01m.\u001b[39;00m\u001b[38;5;21;01mintegrators\u001b[39;00m\u001b[38;5;21;01m.\u001b[39;00m\u001b[38;5;21;01mias15_dd\u001b[39;00m \u001b[38;5;28;01mimport\u001b[39;00m step\n",
      "File \u001b[0;32m~/Documents/jorbit_dev/jorbit/src/jorbit/integrators/ias15_dd.py:87\u001b[0m\n\u001b[1;32m     83\u001b[0m IAS15_D19 \u001b[38;5;241m=\u001b[39m DoubleDouble\u001b[38;5;241m.\u001b[39mfrom_string(\u001b[38;5;124m\"\u001b[39m\u001b[38;5;124m2.24858876076915979339268952600833\u001b[39m\u001b[38;5;124m\"\u001b[39m)\n\u001b[1;32m     84\u001b[0m IAS15_D20 \u001b[38;5;241m=\u001b[39m DoubleDouble\u001b[38;5;241m.\u001b[39mfrom_string(\u001b[38;5;124m\"\u001b[39m\u001b[38;5;124m2.75581271977204583144215883481380\u001b[39m\u001b[38;5;124m\"\u001b[39m)\n\u001b[0;32m---> 87\u001b[0m H1AX \u001b[38;5;241m=\u001b[39m \u001b[38;5;241;43m7.0\u001b[39;49m\u001b[43m \u001b[49m\u001b[38;5;241;43m*\u001b[39;49m\u001b[43m \u001b[49m\u001b[43mIAS15_H1\u001b[49m \u001b[38;5;241m/\u001b[39m \u001b[38;5;241m9.0\u001b[39m\n\u001b[1;32m     88\u001b[0m H1BX \u001b[38;5;241m=\u001b[39m \u001b[38;5;241m3.0\u001b[39m \u001b[38;5;241m*\u001b[39m IAS15_H1 \u001b[38;5;241m/\u001b[39m \u001b[38;5;241m4.0\u001b[39m\n\u001b[1;32m     89\u001b[0m H1CX \u001b[38;5;241m=\u001b[39m \u001b[38;5;241m5.0\u001b[39m \u001b[38;5;241m*\u001b[39m IAS15_H1 \u001b[38;5;241m/\u001b[39m \u001b[38;5;241m7.0\u001b[39m\n",
      "\u001b[0;31mTypeError\u001b[0m: unsupported operand type(s) for *: 'float' and 'DoubleDouble'"
     ]
    }
   ],
   "source": [
    "from jorbit.integrators.ias15_dd import step"
   ]
  },
  {
   "cell_type": "code",
   "execution_count": 5,
   "metadata": {},
   "outputs": [
    {
     "ename": "TypeError",
     "evalue": "unsupported operand type(s) for *: 'int' and 'DoubleDouble'",
     "output_type": "error",
     "traceback": [
      "\u001b[0;31m---------------------------------------------------------------------------\u001b[0m",
      "\u001b[0;31mTypeError\u001b[0m                                 Traceback (most recent call last)",
      "Cell \u001b[0;32mIn[5], line 2\u001b[0m\n\u001b[1;32m      1\u001b[0m a \u001b[38;5;241m=\u001b[39m DoubleDouble(\u001b[38;5;241m2.0\u001b[39m)\n\u001b[0;32m----> 2\u001b[0m \u001b[38;5;241;43m4\u001b[39;49m\u001b[38;5;241;43m*\u001b[39;49m\u001b[43ma\u001b[49m\n",
      "\u001b[0;31mTypeError\u001b[0m: unsupported operand type(s) for *: 'int' and 'DoubleDouble'"
     ]
    }
   ],
   "source": [
    "a = DoubleDouble(2.0)\n",
    "4 * a"
   ]
  },
  {
   "cell_type": "code",
   "execution_count": null,
   "metadata": {},
   "outputs": [],
   "source": [
    "x = (\n",
    "    x0\n",
    "    + (\n",
    "        (\n",
    "            (\n",
    "                (\n",
    "                    (\n",
    "                        (\n",
    "                            (\n",
    "                                (b.p6 * 7.0 * IAS15_H[n] / 9.0 + b.p5)\n",
    "                                * 3.0\n",
    "                                * IAS15_H[n]\n",
    "                                / 4.0\n",
    "                                + b.p4\n",
    "                            )\n",
    "                            * 5.0\n",
    "                            * IAS15_H[n]\n",
    "                            / 7.0\n",
    "                            + b.p3\n",
    "                        )\n",
    "                        * 2.0\n",
    "                        * IAS15_H[n]\n",
    "                        / 3.0\n",
    "                        + b.p2\n",
    "                    )\n",
    "                    * 3.0\n",
    "                    * IAS15_H[n]\n",
    "                    / 5.0\n",
    "                    + b.p1\n",
    "                )\n",
    "                * IAS15_H[n]\n",
    "                / 2.0\n",
    "                + b.p0\n",
    "            )\n",
    "            * IAS15_H[n]\n",
    "            / 3.0\n",
    "            + a0\n",
    "        )\n",
    "        * dt\n",
    "        * IAS15_H[n]\n",
    "        / 2.0\n",
    "        + v0\n",
    "    )\n",
    "    * dt\n",
    "    * IAS15_H[n]\n",
    ")\n",
    "v = (\n",
    "    v0\n",
    "    + (\n",
    "        (\n",
    "            (\n",
    "                (\n",
    "                    (\n",
    "                        (\n",
    "                            (b.p6 * 7.0 * IAS15_H[n] / 8.0 + b.p5)\n",
    "                            * 6.0\n",
    "                            * IAS15_H[n]\n",
    "                            / 7.0\n",
    "                            + b.p4\n",
    "                        )\n",
    "                        * 5.0\n",
    "                        * IAS15_H[n]\n",
    "                        / 6.0\n",
    "                        + b.p3\n",
    "                    )\n",
    "                    * 4.0\n",
    "                    * IAS15_H[n]\n",
    "                    / 5.0\n",
    "                    + b.p2\n",
    "                )\n",
    "                * 3.0\n",
    "                * IAS15_H[n]\n",
    "                / 4.0\n",
    "                + b.p1\n",
    "            )\n",
    "            * 2.0\n",
    "            * IAS15_H[n]\n",
    "            / 3.0\n",
    "            + b.p0\n",
    "        )\n",
    "        * IAS15_H[n]\n",
    "        / 2.0\n",
    "        + a0\n",
    "    )\n",
    "    * dt\n",
    "    * IAS15_H[n]\n",
    ")"
   ]
  },
  {
   "cell_type": "code",
   "execution_count": null,
   "metadata": {},
   "outputs": [],
   "source": [
    "H1AX = 7.0 * IAS15_H1 / 9.0\n",
    "H1BX = 3.0 * IAS15_H1 / 4.0\n",
    "H1CX = 5.0 * IAS15_H1 / 7.0\n",
    "H1DX = 2.0 * IAS15_H1 / 3.0\n",
    "H1EX = 3.0 * IAS15_H1 / 5.0\n",
    "H1FX = IAS15_H1 / 2.0\n",
    "H1GX = IAS15_H1 / 3.0\n",
    "\n",
    "H1AV = 7.0 * IAS15_H1 / 8.0\n",
    "H1BV = 6.0 * IAS15_H1 / 7.0\n",
    "H1CV = 5.0 * IAS15_H1 / 6.0\n",
    "H1DV = 4.0 * IAS15_H1 / 5.0\n",
    "H1EV = 3.0 * IAS15_H1 / 4.0\n",
    "H1FV = 2.0 * IAS15_H1 / 3.0\n",
    "\n",
    "x = (\n",
    "    x0\n",
    "    + (\n",
    "        (\n",
    "            (\n",
    "                (\n",
    "                    ((((b.p6 * H1AX + b.p5) * H1BX + b.p4) * H1CX + b.p3) * H1DX + b.p2)\n",
    "                    * H1EX\n",
    "                    + b.p1\n",
    "                )\n",
    "                * H1FX\n",
    "                + b.p0\n",
    "            )\n",
    "            * +a0\n",
    "        )\n",
    "        * dt\n",
    "        * H1FX\n",
    "        + v0\n",
    "    )\n",
    "    * dt\n",
    "    * IAS15_H1\n",
    ")\n",
    "v = (\n",
    "    v0\n",
    "    + (\n",
    "        (\n",
    "            (\n",
    "                ((((b.p6 * H1AV + b.p5) * H1BV + b.p4) * H1CV + b.p3) * H1DV + b.p2)\n",
    "                * H1EV\n",
    "                + b.p1\n",
    "            )\n",
    "            * H1FV\n",
    "            + b.p0\n",
    "        )\n",
    "        * H1FX\n",
    "        + a0\n",
    "    )\n",
    "    * dt\n",
    "    * IAS15_H1\n",
    ")"
   ]
  },
  {
   "cell_type": "code",
   "execution_count": null,
   "metadata": {},
   "outputs": [],
   "source": []
  },
  {
   "cell_type": "code",
   "execution_count": 12,
   "metadata": {},
   "outputs": [
    {
     "data": {
      "text/plain": [
       "(Array(1.e+20, dtype=float64, weak_type=True),\n",
       " Array(1., dtype=float64, weak_type=True))"
      ]
     },
     "execution_count": 12,
     "metadata": {},
     "output_type": "execute_result"
    }
   ],
   "source": [
    "def twosum(a, b):\n",
    "    s = a + b\n",
    "    v = s - a\n",
    "    e = (a - (s - v)) + (b - v)\n",
    "    return s, e\n",
    "\n",
    "\n",
    "def addtwo(a, b):\n",
    "    r = a.hi + b.hi\n",
    "    s = jnp.where(\n",
    "        jnp.abs(a.hi + a.lo) > jnp.abs(b.hi + b.lo),\n",
    "        a.hi - r + b.hi + b.lo + a.lo,\n",
    "        b.hi - r + a.hi + a.lo + b.lo,\n",
    "    )\n",
    "    z = r + s\n",
    "    zz = r - z + s\n",
    "\n",
    "    # # High part of the sum\n",
    "    # s = a.hi + b.hi\n",
    "\n",
    "    # # Error terms\n",
    "    # v = s - a.hi\n",
    "    # t = ((b.hi - v) + (a.hi - (s - v))) + a.lo + b.lo\n",
    "    return z, zz\n",
    "\n",
    "\n",
    "addtwo(DoubleDouble(1e20), DoubleDouble(1.0))"
   ]
  },
  {
   "cell_type": "code",
   "execution_count": 14,
   "metadata": {},
   "outputs": [
    {
     "data": {
      "text/plain": [
       "3.725290298461914e-09"
      ]
     },
     "execution_count": 14,
     "metadata": {},
     "output_type": "execute_result"
    }
   ],
   "source": [
    "2**-28"
   ]
  },
  {
   "cell_type": "code",
   "execution_count": null,
   "metadata": {},
   "outputs": [],
   "source": []
  }
 ],
 "metadata": {
  "kernelspec": {
   "display_name": ".venv",
   "language": "python",
   "name": "python3"
  },
  "language_info": {
   "codemirror_mode": {
    "name": "ipython",
    "version": 3
   },
   "file_extension": ".py",
   "mimetype": "text/x-python",
   "name": "python",
   "nbconvert_exporter": "python",
   "pygments_lexer": "ipython3",
   "version": "3.13.0"
  }
 },
 "nbformat": 4,
 "nbformat_minor": 2
}
