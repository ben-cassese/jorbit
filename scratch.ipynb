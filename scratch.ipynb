{
 "cells": [
  {
   "cell_type": "markdown",
   "metadata": {},
   "source": [
    "# scratch work"
   ]
  },
  {
   "cell_type": "code",
   "execution_count": 2,
   "metadata": {},
   "outputs": [],
   "source": [
    "import jax\n",
    "\n",
    "jax.config.update(\"jax_enable_x64\", True)\n",
    "import jax.numpy as jnp\n",
    "\n",
    "from jorbit.utils.states import SystemState\n",
    "from jorbit.accelerations.newtonian import (\n",
    "    newtonian_gravity,\n",
    ")"
   ]
  },
  {
   "cell_type": "code",
   "execution_count": 5,
   "metadata": {},
   "outputs": [
    {
     "data": {
      "text/plain": [
       "Array([[-0., -0., -0.]], dtype=float64)"
      ]
     },
     "execution_count": 5,
     "metadata": {},
     "output_type": "execute_result"
    }
   ],
   "source": [
    "s = SystemState(\n",
    "    tracer_positions=jnp.array([[0.0, 0, 1.0]]),\n",
    "    tracer_velocities=jnp.array([[0.0, 0, 0]]),\n",
    "    massive_positions=jnp.empty((0, 3)),\n",
    "    massive_velocities=jnp.empty((0, 3)),\n",
    "    log_gms=jnp.empty(1)\n",
    ")\n",
    "newtonian_gravity(s)"
   ]
  },
  {
   "cell_type": "code",
   "execution_count": 3,
   "metadata": {},
   "outputs": [
    {
     "data": {
      "text/plain": [
       "Array([[-0., -0., -0.],\n",
       "       [-0., -0., -1.]], dtype=float64)"
      ]
     },
     "execution_count": 3,
     "metadata": {},
     "output_type": "execute_result"
    }
   ],
   "source": [
    "s = SystemState(\n",
    "    tracer_positions=jnp.array([[0.0, 0, 1.0]]),\n",
    "    tracer_velocities=jnp.array([[0.0, 0, 0]]),\n",
    "    massive_positions=jnp.array([[0.0, 0, 0]]),\n",
    "    massive_velocities=jnp.array([[0.0, 0, 0]]),\n",
    "    log_gms=jnp.log(jnp.array([1.0])),\n",
    ")\n",
    "newtonian_gravity(s)"
   ]
  },
  {
   "cell_type": "code",
   "execution_count": 4,
   "metadata": {},
   "outputs": [
    {
     "name": "stdout",
     "output_type": "stream",
     "text": [
      "6.49 μs ± 8.31 ns per loop (mean ± std. dev. of 7 runs, 100,000 loops each)\n"
     ]
    }
   ],
   "source": [
    "%timeit newtonian_gravity(s).block_until_ready()"
   ]
  },
  {
   "cell_type": "code",
   "execution_count": null,
   "metadata": {},
   "outputs": [],
   "source": []
  }
 ],
 "metadata": {
  "kernelspec": {
   "display_name": ".venv",
   "language": "python",
   "name": "python3"
  },
  "language_info": {
   "codemirror_mode": {
    "name": "ipython",
    "version": 3
   },
   "file_extension": ".py",
   "mimetype": "text/x-python",
   "name": "python",
   "nbconvert_exporter": "python",
   "pygments_lexer": "ipython3",
   "version": "3.13.0"
  }
 },
 "nbformat": 4,
 "nbformat_minor": 2
}
