{
 "cells": [
  {
   "cell_type": "markdown",
   "metadata": {},
   "source": [
    "# scratch work"
   ]
  },
  {
   "cell_type": "code",
   "execution_count": 1,
   "metadata": {},
   "outputs": [],
   "source": [
    "import jax\n",
    "\n",
    "jax.config.update(\"jax_enable_x64\", True)\n",
    "import astropy.units as u\n",
    "from astropy.coordinates import SkyCoord\n",
    "from astropy.time import Time\n",
    "from astroquery.jplhorizons import Horizons\n",
    "\n",
    "from jorbit.mpchecker import mpchecker"
   ]
  },
  {
   "cell_type": "code",
   "execution_count": 2,
   "metadata": {},
   "outputs": [
    {
     "data": {
      "text/html": [
       "<div><i>Table length=2</i>\n",
       "<table id=\"table14978182288\" class=\"table-striped table-bordered table-condensed\">\n",
       "<thead><tr><th>Unpacked Name</th><th>separation</th><th>ra</th><th>dec</th><th>est. Vmag</th><th>Packed designation</th><th>H</th><th>G</th><th>Epoch</th><th>M</th><th>Peri</th><th>Node</th><th>Incl.</th><th>e</th><th>n</th><th>a</th><th>U</th><th>Reference</th><th>#Obs</th><th>#Opp</th><th>Arc</th><th>rms</th><th>Coarse Perts</th><th>Precise Perts</th><th>Computer</th><th>Flags</th><th>last obs</th></tr></thead>\n",
       "<thead><tr><th></th><th>arcsec</th><th>deg</th><th>deg</th><th>mag</th><th></th><th></th><th></th><th></th><th></th><th></th><th></th><th></th><th></th><th></th><th></th><th></th><th></th><th></th><th></th><th></th><th></th><th></th><th></th><th></th><th></th><th></th></tr></thead>\n",
       "<thead><tr><th>str18</th><th>float64</th><th>float64</th><th>float64</th><th>float64[1]</th><th>str7</th><th>str5</th><th>str4</th><th>str5</th><th>str9</th><th>str9</th><th>str9</th><th>str7</th><th>str9</th><th>str10</th><th>str9</th><th>str1</th><th>str9</th><th>str3</th><th>str2</th><th>str9</th><th>str4</th><th>str3</th><th>str3</th><th>str8</th><th>str4</th><th>str8</th></tr></thead>\n",
       "<tr><td>2018 WQ10</td><td>77.2865440330561</td><td>125.71810914315778</td><td>18.739640843189378</td><td>23.928090744348502</td><td>K18W10Q</td><td>20.0</td><td>0.15</td><td>K2555</td><td>348.22174</td><td>284.64432</td><td>145.80889</td><td>0.76991</td><td>0.1817704</td><td>0.30182664</td><td>2.2010556</td><td>1</td><td>MPO687849</td><td>26</td><td>4</td><td>2008-2021</td><td>0.30</td><td>M-v</td><td>38h</td><td>Veres</td><td>0000</td><td>20211003</td></tr>\n",
       "<tr><td>(142397) 2002 SM19</td><td>247.86148541535118</td><td>125.6680443464385</td><td>18.722341321709646</td><td>22.26984244328128</td><td>E2397</td><td>17.07</td><td>0.15</td><td>K2555</td><td>211.68439</td><td>165.32939</td><td>193.51497</td><td>0.68430</td><td>0.1834017</td><td>0.24360224</td><td>2.5391121</td><td>0</td><td>E2024-C06</td><td>523</td><td>19</td><td>1994-2024</td><td>0.75</td><td>M-v</td><td>3Ek</td><td>MPCLINUX</td><td>0000</td><td>20240131</td></tr>\n",
       "</table></div>"
      ],
      "text/plain": [
       "<Table length=2>\n",
       "  Unpacked Name        separation             ra         ... Flags last obs\n",
       "                         arcsec              deg         ...               \n",
       "      str18             float64            float64       ...  str4   str8  \n",
       "------------------ ------------------ ------------------ ... ----- --------\n",
       "         2018 WQ10   77.2865440330561 125.71810914315778 ...  0000 20211003\n",
       "(142397) 2002 SM19 247.86148541535118  125.6680443464385 ...  0000 20240131"
      ]
     },
     "execution_count": 2,
     "metadata": {},
     "output_type": "execute_result"
    }
   ],
   "source": [
    "mpchecker(\n",
    "    coordinate=SkyCoord(125.7398*u.deg, 18.7334*u.deg),\n",
    "    time=Time(\"2015-10-13 01:24\"),\n",
    "    radius=5*u.arcmin,\n",
    "    extra_precision=True,\n",
    "    observer=\"Kitt Peak\"\n",
    ")"
   ]
  },
  {
   "cell_type": "code",
   "execution_count": 3,
   "metadata": {},
   "outputs": [
    {
     "data": {
      "text/latex": [
       "$0^\\circ00{}^\\prime00.00023968{}^{\\prime\\prime}$"
      ],
      "text/plain": [
       "<Angle 6.65788442e-08 deg>"
      ]
     },
     "execution_count": 3,
     "metadata": {},
     "output_type": "execute_result"
    }
   ],
   "source": [
    "obj = Horizons(id=\"142397\", id_type=\"smallbody\", location=\"695@399\", epochs=Time(\"2015-10-13 01:24\").utc.jd)\n",
    "eph = obj.ephemerides(extra_precision=True)\n",
    "eph = SkyCoord(ra=eph[\"RA\"][0], dec=eph[\"DEC\"][0], unit=(u.deg, u.deg))\n",
    "\n",
    "eph.separation(SkyCoord(125.6680443464385*u.deg, 18.722341321709646*u.deg))"
   ]
  },
  {
   "cell_type": "code",
   "execution_count": null,
   "metadata": {},
   "outputs": [],
   "source": []
  },
  {
   "cell_type": "code",
   "execution_count": 4,
   "metadata": {},
   "outputs": [
    {
     "data": {
      "text/html": [
       "<div><i>Table length=2</i>\n",
       "<table id=\"table14866696512\" class=\"table-striped table-bordered table-condensed\">\n",
       "<thead><tr><th>Unpacked Name</th><th>separation</th><th>ra</th><th>dec</th><th>Packed designation</th><th>H</th><th>G</th><th>Epoch</th><th>M</th><th>Peri</th><th>Node</th><th>Incl.</th><th>e</th><th>n</th><th>a</th><th>U</th><th>Reference</th><th>#Obs</th><th>#Opp</th><th>Arc</th><th>rms</th><th>Coarse Perts</th><th>Precise Perts</th><th>Computer</th><th>Flags</th><th>last obs</th></tr></thead>\n",
       "<thead><tr><th></th><th>arcsec</th><th>deg</th><th>deg</th><th></th><th></th><th></th><th></th><th></th><th></th><th></th><th></th><th></th><th></th><th></th><th></th><th></th><th></th><th></th><th></th><th></th><th></th><th></th><th></th><th></th><th></th></tr></thead>\n",
       "<thead><tr><th>str18</th><th>float64</th><th>float64</th><th>float64</th><th>str7</th><th>str5</th><th>str4</th><th>str5</th><th>str9</th><th>str9</th><th>str9</th><th>str7</th><th>str9</th><th>str10</th><th>str9</th><th>str1</th><th>str9</th><th>str3</th><th>str2</th><th>str9</th><th>str4</th><th>str3</th><th>str3</th><th>str8</th><th>str4</th><th>str8</th></tr></thead>\n",
       "<tr><td>2018 WQ10</td><td>77.4621688370257</td><td>125.71841944019579</td><td>18.740682419559548</td><td>K18W10Q</td><td>20.0</td><td>0.15</td><td>K2555</td><td>348.22174</td><td>284.64432</td><td>145.80889</td><td>0.76991</td><td>0.1817704</td><td>0.30182664</td><td>2.2010556</td><td>1</td><td>MPO687849</td><td>26</td><td>4</td><td>2008-2021</td><td>0.30</td><td>M-v</td><td>38h</td><td>Veres</td><td>0000</td><td>20211003</td></tr>\n",
       "<tr><td>(142397) 2002 SM19</td><td>246.74241030196617</td><td>125.66825789678174</td><td>18.723053401265403</td><td>E2397</td><td>17.07</td><td>0.15</td><td>K2555</td><td>211.68439</td><td>165.32939</td><td>193.51497</td><td>0.68430</td><td>0.1834017</td><td>0.24360224</td><td>2.5391121</td><td>0</td><td>E2024-C06</td><td>523</td><td>19</td><td>1994-2024</td><td>0.75</td><td>M-v</td><td>3Ek</td><td>MPCLINUX</td><td>0000</td><td>20240131</td></tr>\n",
       "</table></div>"
      ],
      "text/plain": [
       "<Table length=2>\n",
       "  Unpacked Name        separation             ra         ... Flags last obs\n",
       "                         arcsec              deg         ...               \n",
       "      str18             float64            float64       ...  str4   str8  \n",
       "------------------ ------------------ ------------------ ... ----- --------\n",
       "         2018 WQ10   77.4621688370257 125.71841944019579 ...  0000 20211003\n",
       "(142397) 2002 SM19 246.74241030196617 125.66825789678174 ...  0000 20240131"
      ]
     },
     "execution_count": 4,
     "metadata": {},
     "output_type": "execute_result"
    }
   ],
   "source": [
    "mpchecker(\n",
    "    coordinate=SkyCoord(125.7398*u.deg, 18.7334*u.deg),\n",
    "    time=Time(\"2015-10-13 01:24\"),\n",
    "    radius=5*u.arcmin,\n",
    "    extra_precision=False,\n",
    ")"
   ]
  },
  {
   "cell_type": "code",
   "execution_count": null,
   "metadata": {},
   "outputs": [],
   "source": []
  },
  {
   "cell_type": "code",
   "execution_count": null,
   "metadata": {},
   "outputs": [],
   "source": []
  }
 ],
 "metadata": {
  "kernelspec": {
   "display_name": "jorbit",
   "language": "python",
   "name": "python3"
  },
  "language_info": {
   "codemirror_mode": {
    "name": "ipython",
    "version": 3
   },
   "file_extension": ".py",
   "mimetype": "text/x-python",
   "name": "python",
   "nbconvert_exporter": "python",
   "pygments_lexer": "ipython3",
   "version": "3.13.0"
  }
 },
 "nbformat": 4,
 "nbformat_minor": 2
}
