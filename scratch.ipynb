{
 "cells": [
  {
   "cell_type": "markdown",
   "metadata": {},
   "source": [
    "# scratch work"
   ]
  },
  {
   "cell_type": "code",
   "execution_count": 1,
   "metadata": {},
   "outputs": [],
   "source": [
    "import jax\n",
    "\n",
    "jax.config.update(\"jax_enable_x64\", True)\n",
    "import jax.numpy as jnp\n",
    "\n",
    "from astropy.time import Time\n",
    "import astropy.units as u\n",
    "from astropy.coordinates import SkyCoord\n",
    "from astroquery.jplhorizons import Horizons\n",
    "\n",
    "from jorbit import Particle"
   ]
  },
  {
   "cell_type": "code",
   "execution_count": 2,
   "metadata": {},
   "outputs": [],
   "source": [
    "t0 = Time(\"2024-12-01 00:00\")\n",
    "t1 = Time(\"2025-12-01 00:00\")\n",
    "\n",
    "obj = Horizons(id=\"274301\", location=\"@0\", epochs=[t0.tdb.jd, t1.tdb.jd])\n",
    "vecs = obj.vectors(refplane=\"earth\")\n",
    "\n",
    "x0 = jnp.array([vecs[\"x\"][0], vecs[\"y\"][0], vecs[\"z\"][0]])\n",
    "v0 = jnp.array([vecs[\"vx\"][0], vecs[\"vy\"][0], vecs[\"vz\"][0]])"
   ]
  },
  {
   "cell_type": "code",
   "execution_count": 3,
   "metadata": {},
   "outputs": [
    {
     "data": {
      "text/plain": [
       "Particle: unnamed"
      ]
     },
     "execution_count": 3,
     "metadata": {},
     "output_type": "execute_result"
    }
   ],
   "source": [
    "p = Particle(x=x0, v=v0, log_gm=-jnp.inf, time=t1, gravity=\"newtonian planets\")\n",
    "p"
   ]
  },
  {
   "cell_type": "code",
   "execution_count": 4,
   "metadata": {},
   "outputs": [
    {
     "data": {
      "text/plain": [
       "(Array([[-1.78355289,  1.97281979,  0.57967129]], dtype=float64),\n",
       " Array([[-0.00752441, -0.00576865, -0.00178666]], dtype=float64))"
      ]
     },
     "execution_count": 4,
     "metadata": {},
     "output_type": "execute_result"
    }
   ],
   "source": [
    "p.integrate(t1)"
   ]
  },
  {
   "cell_type": "code",
   "execution_count": 9,
   "metadata": {},
   "outputs": [
    {
     "data": {
      "text/plain": [
       "(Array([[[-1.78355289,  1.97281979,  0.57967129]]], dtype=float64),\n",
       " Array([[[-0.00752441, -0.00576865, -0.00178666]]], dtype=float64),\n",
       " SystemState(tracer_positions=Array([[-1.78355289,  1.97281979,  0.57967129]], dtype=float64), tracer_velocities=Array([[-0.00752441, -0.00576865, -0.00178666]], dtype=float64), massive_positions=Array([], shape=(0, 3), dtype=float64), massive_velocities=Array([], shape=(0, 3), dtype=float64), log_gms=Array([], shape=(0,), dtype=float64), time=Array(2461010.50080073, dtype=float64), acceleration_func_kwargs=None),\n",
       " <jorbit.integrators.IAS15IntegratorState at 0x134a54d60>)"
      ]
     },
     "execution_count": 9,
     "metadata": {},
     "output_type": "execute_result"
    }
   ],
   "source": [
    "from jorbit.integrators.ias15 import ias15_evolve_dynamic_steps, ias15_evolve\n",
    "\n",
    "ias15_evolve(\n",
    "    p.cartesian_state.to_system(),\n",
    "    p.gravity,\n",
    "    jnp.array([t1.tdb.jd]),\n",
    "    p.integrator_state,\n",
    "    10,\n",
    ")"
   ]
  },
  {
   "cell_type": "code",
   "execution_count": 12,
   "metadata": {},
   "outputs": [
    {
     "data": {
      "text/plain": [
       "(Array([[[-1.78355289,  1.97281979,  0.57967129]]], dtype=float64),\n",
       " Array([[[-0.00752441, -0.00576865, -0.00178666]]], dtype=float64),\n",
       " SystemState(tracer_positions=Array([[-1.78355289,  1.97281979,  0.57967129]], dtype=float64), tracer_velocities=Array([[-0.00752441, -0.00576865, -0.00178666]], dtype=float64), massive_positions=Array([], shape=(0, 3), dtype=float64), massive_velocities=Array([], shape=(0, 3), dtype=float64), log_gms=Array([], shape=(0,), dtype=float64), time=Array(2461010.50080073, dtype=float64), acceleration_func_kwargs=None),\n",
       " <jorbit.integrators.IAS15IntegratorState at 0x134a55700>)"
      ]
     },
     "execution_count": 12,
     "metadata": {},
     "output_type": "execute_result"
    }
   ],
   "source": [
    "from jorbit.integrators.ias15 import ias15_evolve_dynamic_steps, ias15_evolve\n",
    "\n",
    "ias15_evolve(\n",
    "    p.cartesian_state.to_system(),\n",
    "    p.gravity,\n",
    "    jnp.array([t1.tdb.jd]),\n",
    "    p.integrator_state,\n",
    "    1000,\n",
    ")"
   ]
  },
  {
   "cell_type": "code",
   "execution_count": 10,
   "metadata": {},
   "outputs": [
    {
     "data": {
      "text/plain": [
       "(Array([[[-1.78355289,  1.97281979,  0.57967129]]], dtype=float64),\n",
       " Array([[[-0.00752441, -0.00576865, -0.00178666]]], dtype=float64),\n",
       " SystemState(tracer_positions=Array([[-1.78355289,  1.97281979,  0.57967129]], dtype=float64), tracer_velocities=Array([[-0.00752441, -0.00576865, -0.00178666]], dtype=float64), massive_positions=Array([], shape=(0, 3), dtype=float64), massive_velocities=Array([], shape=(0, 3), dtype=float64), log_gms=Array([], shape=(0,), dtype=float64), time=Array(2461010.50080073, dtype=float64), acceleration_func_kwargs=None),\n",
       " <jorbit.integrators.IAS15IntegratorState at 0x134a55e90>)"
      ]
     },
     "execution_count": 10,
     "metadata": {},
     "output_type": "execute_result"
    }
   ],
   "source": [
    "ias15_evolve_dynamic_steps(\n",
    "    p.cartesian_state.to_system(),\n",
    "    p.gravity,\n",
    "    jnp.array([t1.tdb.jd]),\n",
    "    p.integrator_state,\n",
    ")"
   ]
  },
  {
   "cell_type": "code",
   "execution_count": 11,
   "metadata": {},
   "outputs": [
    {
     "name": "stdout",
     "output_type": "stream",
     "text": [
      "474 μs ± 15 μs per loop (mean ± std. dev. of 7 runs, 1,000 loops each)\n"
     ]
    }
   ],
   "source": [
    "%%timeit\n",
    "\n",
    "ias15_evolve(\n",
    "    p.cartesian_state.to_system(),\n",
    "    p.gravity,\n",
    "    jnp.array([t1.tdb.jd]),\n",
    "    p.integrator_state,\n",
    "    10,\n",
    ")[0].block_until_ready()"
   ]
  },
  {
   "cell_type": "code",
   "execution_count": 13,
   "metadata": {},
   "outputs": [
    {
     "name": "stdout",
     "output_type": "stream",
     "text": [
      "1.04 ms ± 17.4 μs per loop (mean ± std. dev. of 7 runs, 1,000 loops each)\n"
     ]
    }
   ],
   "source": [
    "%%timeit\n",
    "\n",
    "ias15_evolve(\n",
    "    p.cartesian_state.to_system(),\n",
    "    p.gravity,\n",
    "    jnp.array([t1.tdb.jd]),\n",
    "    p.integrator_state,\n",
    "    1000,\n",
    ")[0].block_until_ready()"
   ]
  },
  {
   "cell_type": "code",
   "execution_count": 8,
   "metadata": {},
   "outputs": [
    {
     "name": "stdout",
     "output_type": "stream",
     "text": [
      "521 μs ± 10.4 μs per loop (mean ± std. dev. of 7 runs, 1,000 loops each)\n"
     ]
    }
   ],
   "source": [
    "%%timeit\n",
    "\n",
    "ias15_evolve_dynamic_steps(\n",
    "    p.cartesian_state.to_system(),\n",
    "    p.gravity,\n",
    "    jnp.array([t1.tdb.jd]),\n",
    "    p.integrator_state,\n",
    ")[0].block_until_ready()"
   ]
  },
  {
   "cell_type": "code",
   "execution_count": null,
   "metadata": {},
   "outputs": [],
   "source": []
  }
 ],
 "metadata": {
  "kernelspec": {
   "display_name": ".venv",
   "language": "python",
   "name": "python3"
  },
  "language_info": {
   "codemirror_mode": {
    "name": "ipython",
    "version": 3
   },
   "file_extension": ".py",
   "mimetype": "text/x-python",
   "name": "python",
   "nbconvert_exporter": "python",
   "pygments_lexer": "ipython3",
   "version": "3.13.0"
  }
 },
 "nbformat": 4,
 "nbformat_minor": 2
}
