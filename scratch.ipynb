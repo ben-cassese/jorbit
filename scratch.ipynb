{
 "cells": [
  {
   "cell_type": "markdown",
   "metadata": {},
   "source": [
    "# scratch work"
   ]
  },
  {
   "cell_type": "code",
   "execution_count": 1,
   "metadata": {},
   "outputs": [],
   "source": [
    "import jax\n",
    "\n",
    "jax.config.update(\"jax_enable_x64\", True)\n",
    "import jax.numpy as jnp\n",
    "from functools import partial\n",
    "\n",
    "\n",
    "from decimal import Decimal, getcontext\n",
    "\n",
    "getcontext().prec = 50\n",
    "\n",
    "\n",
    "import mpmath\n",
    "\n",
    "mpmath.mp.dps = 75\n",
    "\n",
    "from jorbit.utils.doubledouble import DoubleDouble, dd_sum\n",
    "from jorbit.utils.generate_coefficients import create_iasnn_constants\n",
    "from jorbit.data.constants import IAS15_D, IAS15_H, IAS15_RR\n",
    "from jorbit.integrators.ias15_dd import setup_iasnn_integrator, step"
   ]
  },
  {
   "cell_type": "code",
   "execution_count": 2,
   "metadata": {},
   "outputs": [
    {
     "name": "stderr",
     "output_type": "stream",
     "text": [
      "100%|██████████| 998/998 [00:00<00:00, 1334.77it/s]\n"
     ]
    }
   ],
   "source": [
    "bx_denoms, bv_denoms, h, r, d = setup_iasnn_integrator(n_internal_points=7)"
   ]
  },
  {
   "cell_type": "code",
   "execution_count": null,
   "metadata": {},
   "outputs": [
    {
     "data": {
      "text/plain": [
       "DoubleDouble([[5.30090278 5.30090278 5.30090278]\n",
       " [5.30090278 5.30090278 5.30090278]\n",
       " [5.30090278 5.30090278 5.30090278]\n",
       " [5.30090278 5.30090278 5.30090278]], [[3.54290424e-16 3.54290424e-16 3.54290424e-16]\n",
       " [3.54290424e-16 3.54290424e-16 3.54290424e-16]\n",
       " [3.54290424e-16 3.54290424e-16 3.54290424e-16]\n",
       " [3.54290424e-16 3.54290424e-16 3.54290424e-16]])"
      ]
     },
     "execution_count": 28,
     "metadata": {},
     "output_type": "execute_result"
    }
   ],
   "source": [
    "@partial(jax.jit, static_argnums=(0,))\n",
    "def refine_intermediate_g(substep_num, g, r, at, a0):\n",
    "    # substep_num starts at 1, 1->h1, etc\n",
    "    substep_num -= 1\n",
    "\n",
    "    def scan_body(carry, idx):\n",
    "        result, start_pos = carry\n",
    "        result = (result - g[idx]) * r[start_pos + idx + 1]\n",
    "        return (result, start_pos), result\n",
    "\n",
    "    start_pos = (substep_num * (substep_num + 1)) // 2\n",
    "    initial_result = (at - a0) * r[start_pos]\n",
    "    indices = jnp.arange(substep_num)\n",
    "    (final_result, _), _ = jax.lax.scan(scan_body, (initial_result, start_pos), indices)\n",
    "    return final_result\n",
    "\n",
    "\n",
    "refine_intermediate_g(\n",
    "    substep_num=3,\n",
    "    g=DoubleDouble(jnp.repeat(jnp.arange(7, dtype=jnp.float64), 12).reshape(7, 4, 3)),\n",
    "    r=r,\n",
    "    at=DoubleDouble(jnp.ones((4, 3), dtype=jnp.float64) * 0.4),\n",
    "    a0=DoubleDouble(jnp.ones((4, 3), dtype=jnp.float64) * 0.2),\n",
    ")"
   ]
  },
  {
   "cell_type": "code",
   "execution_count": 25,
   "metadata": {},
   "outputs": [
    {
     "data": {
      "text/plain": [
       "Array(5.30090278, dtype=float64)"
      ]
     },
     "execution_count": 25,
     "metadata": {},
     "output_type": "execute_result"
    }
   ],
   "source": [
    "at = 0.4\n",
    "a0 = 0.2\n",
    "g = jnp.arange(7)\n",
    "(((at - a0) / IAS15_RR[3] - g[0]) / IAS15_RR[4] - g[1]) / IAS15_RR[5]"
   ]
  },
  {
   "cell_type": "code",
   "execution_count": 29,
   "metadata": {},
   "outputs": [
    {
     "data": {
      "text/plain": [
       "DoubleDouble([[5.30090278 5.30090278 5.30090278]\n",
       " [5.30090278 5.30090278 5.30090278]\n",
       " [5.30090278 5.30090278 5.30090278]\n",
       " [5.30090278 5.30090278 5.30090278]], [[3.54290424e-16 3.54290424e-16 3.54290424e-16]\n",
       " [3.54290424e-16 3.54290424e-16 3.54290424e-16]\n",
       " [3.54290424e-16 3.54290424e-16 3.54290424e-16]\n",
       " [3.54290424e-16 3.54290424e-16 3.54290424e-16]])"
      ]
     },
     "execution_count": 29,
     "metadata": {},
     "output_type": "execute_result"
    }
   ],
   "source": [
    "# def refine_b_and_g(b, g, at, a0, substep_num, r, d):\n",
    "#     old_g = g\n",
    "#     new_g = refine_intermediate_g(substep_num=substep_num, g=g, r=r, at=at, a0=a0)\n",
    "#     g_diff = new_g - old_g\n",
    "\n",
    "\n",
    "# refine_b_and_g(\n",
    "#     b=DoubleDouble(jnp.ones((4, 3), dtype=jnp.float64) * 0.4),\n",
    "#     g=DoubleDouble(jnp.repeat(jnp.arange(7, dtype=jnp.float64), 12).reshape(7, 4, 3)),\n",
    "#     at=DoubleDouble(jnp.ones((4, 3), dtype=jnp.float64) * 0.4),\n",
    "#     a0=DoubleDouble(jnp.ones((4, 3), dtype=jnp.float64) * 0.2),\n",
    "#     substep_num=3,\n",
    "#     r=r,\n",
    "#     d=d,\n",
    "# )"
   ]
  },
  {
   "cell_type": "code",
   "execution_count": 32,
   "metadata": {},
   "outputs": [
    {
     "data": {
      "text/plain": [
       "6"
      ]
     },
     "execution_count": 32,
     "metadata": {},
     "output_type": "execute_result"
    }
   ],
   "source": []
  },
  {
   "cell_type": "code",
   "execution_count": 2,
   "metadata": {},
   "outputs": [
    {
     "name": "stderr",
     "output_type": "stream",
     "text": [
      "100%|██████████| 998/998 [00:00<00:00, 1309.80it/s]\n"
     ]
    }
   ],
   "source": [
    "precompued_setup = setup_iasnn_integrator(n_internal_evals=7)\n",
    "\n",
    "x0 = DoubleDouble(jnp.ones((4, 3), dtype=jnp.float64) * 0.123)\n",
    "v0 = DoubleDouble(jnp.ones((4, 3), dtype=jnp.float64) * 0.2)\n",
    "a0 = DoubleDouble(jnp.ones((4, 3), dtype=jnp.float64) * 0.1)\n",
    "b = DoubleDouble(jnp.zeros((7, 4, 3), dtype=jnp.float64))\n",
    "\n",
    "b[0] += DoubleDouble(1.0)\n",
    "b[1] += DoubleDouble(2.0)\n",
    "b[2] += DoubleDouble(3.0)\n",
    "b[3] += DoubleDouble(4.0)\n",
    "b[4] += DoubleDouble(5.0)\n",
    "b[5] += DoubleDouble(6.0)\n",
    "b[6] += DoubleDouble(7.0)\n",
    "\n",
    "\n",
    "g_dd, x_est, v_est = step(x0, v0, a0, b, precompued_setup)"
   ]
  },
  {
   "cell_type": "code",
   "execution_count": 3,
   "metadata": {},
   "outputs": [],
   "source": [
    "from jorbit.integrators import initialize_ias15_helper\n",
    "\n",
    "b = initialize_ias15_helper(4)\n",
    "g = initialize_ias15_helper(4)\n",
    "\n",
    "b.p0 += 1.0\n",
    "b.p1 += 2.0\n",
    "b.p2 += 3.0\n",
    "b.p3 += 4.0\n",
    "b.p4 += 5.0\n",
    "b.p5 += 6.0\n",
    "b.p6 += 7.0\n",
    "\n",
    "\n",
    "g.p0 = (\n",
    "    b.p6 * IAS15_D[15]\n",
    "    + b.p5 * IAS15_D[10]\n",
    "    + b.p4 * IAS15_D[6]\n",
    "    + b.p3 * IAS15_D[3]\n",
    "    + b.p2 * IAS15_D[1]\n",
    "    + b.p1 * IAS15_D[0]\n",
    "    + b.p0\n",
    ")\n",
    "g.p1 = (\n",
    "    b.p6 * IAS15_D[16]\n",
    "    + b.p5 * IAS15_D[11]\n",
    "    + b.p4 * IAS15_D[7]\n",
    "    + b.p3 * IAS15_D[4]\n",
    "    + b.p2 * IAS15_D[2]\n",
    "    + b.p1\n",
    ")\n",
    "g.p2 = (\n",
    "    b.p6 * IAS15_D[17]\n",
    "    + b.p5 * IAS15_D[12]\n",
    "    + b.p4 * IAS15_D[8]\n",
    "    + b.p3 * IAS15_D[5]\n",
    "    + b.p2\n",
    ")\n",
    "g.p3 = b.p6 * IAS15_D[18] + b.p5 * IAS15_D[13] + b.p4 * IAS15_D[9] + b.p3\n",
    "g.p4 = b.p6 * IAS15_D[19] + b.p5 * IAS15_D[14] + b.p4\n",
    "g.p5 = b.p6 * IAS15_D[20] + b.p5\n",
    "g.p6 = b.p6\n",
    "\n",
    "x0 = jnp.ones((4, 3), dtype=jnp.float64) * 0.123\n",
    "v0 = jnp.ones((4, 3), dtype=jnp.float64) * 0.2\n",
    "a0 = jnp.ones((4, 3), dtype=jnp.float64) * 0.1\n",
    "dt = 0.01\n",
    "\n",
    "# fmt: off\n",
    "n=-1\n",
    "x = x0 + ((((((((b.p6*7.*IAS15_H[n]/9. + b.p5)*3.*IAS15_H[n]/4. + b.p4)*5.*IAS15_H[n]/7. + b.p3)*2.*IAS15_H[n]/3. + b.p2)*3.*IAS15_H[n]/5. + b.p1)*IAS15_H[n]/2. + b.p0)*IAS15_H[n]/3. + a0)*dt*IAS15_H[n]/2. + v0)*dt*IAS15_H[n]\n",
    "v = v0 + (((((((b.p6*7.*IAS15_H[n]/8. + b.p5)*6.*IAS15_H[n]/7. + b.p4)*5.*IAS15_H[n]/6. + b.p3)*4.*IAS15_H[n]/5. + b.p2)*3.*IAS15_H[n]/4. + b.p1)*2.*IAS15_H[n]/3. + b.p0)*IAS15_H[n]/2. + a0)*dt*IAS15_H[n]\n",
    "# fmt: on"
   ]
  },
  {
   "cell_type": "code",
   "execution_count": 4,
   "metadata": {},
   "outputs": [
    {
     "data": {
      "text/plain": [
       "(Array([[0., 0., 0.],\n",
       "        [0., 0., 0.],\n",
       "        [0., 0., 0.],\n",
       "        [0., 0., 0.]], dtype=float64),\n",
       " Array([[0., 0., 0.],\n",
       "        [0., 0., 0.],\n",
       "        [0., 0., 0.],\n",
       "        [0., 0., 0.]], dtype=float64),\n",
       " Array([[0., 0., 0.],\n",
       "        [0., 0., 0.],\n",
       "        [0., 0., 0.],\n",
       "        [0., 0., 0.]], dtype=float64))"
      ]
     },
     "execution_count": 4,
     "metadata": {},
     "output_type": "execute_result"
    }
   ],
   "source": [
    "g_dd[0].hi - g.p0, g_dd[1].hi - g.p1, g_dd[6].hi - g.p6"
   ]
  },
  {
   "cell_type": "code",
   "execution_count": 5,
   "metadata": {},
   "outputs": [
    {
     "data": {
      "text/plain": [
       "(Array([[0., 0., 0.],\n",
       "        [0., 0., 0.],\n",
       "        [0., 0., 0.],\n",
       "        [0., 0., 0.]], dtype=float64),\n",
       " Array([[0., 0., 0.],\n",
       "        [0., 0., 0.],\n",
       "        [0., 0., 0.],\n",
       "        [0., 0., 0.]], dtype=float64))"
      ]
     },
     "execution_count": 5,
     "metadata": {},
     "output_type": "execute_result"
    }
   ],
   "source": [
    "x - x_est.hi, v - v_est.hi"
   ]
  },
  {
   "cell_type": "code",
   "execution_count": null,
   "metadata": {},
   "outputs": [],
   "source": []
  }
 ],
 "metadata": {
  "kernelspec": {
   "display_name": ".venv",
   "language": "python",
   "name": "python3"
  },
  "language_info": {
   "codemirror_mode": {
    "name": "ipython",
    "version": 3
   },
   "file_extension": ".py",
   "mimetype": "text/x-python",
   "name": "python",
   "nbconvert_exporter": "python",
   "pygments_lexer": "ipython3",
   "version": "3.13.0"
  }
 },
 "nbformat": 4,
 "nbformat_minor": 2
}
