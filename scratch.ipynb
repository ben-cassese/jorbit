{
 "cells": [
  {
   "cell_type": "markdown",
   "metadata": {},
   "source": [
    "# scratch work"
   ]
  },
  {
   "cell_type": "code",
   "execution_count": 1,
   "metadata": {},
   "outputs": [],
   "source": [
    "import jax\n",
    "\n",
    "jax.config.update(\"jax_enable_x64\", True)\n",
    "import jax.numpy as jnp\n",
    "\n",
    "from astropy.time import Time\n",
    "import astropy.units as u\n",
    "from astropy.coordinates import SkyCoord\n",
    "from astroquery.jplhorizons import Horizons\n",
    "\n",
    "from jorbit.utils.horizons import (\n",
    "    horizons_bulk_vector_query,\n",
    "    horizons_bulk_astrometry_query,\n",
    ")\n",
    "\n",
    "from jorbit import Particle\n",
    "\n",
    "t0 = Time(\"2024-12-01 00:00\")\n",
    "t1 = Time(\"2025-12-01 00:00\")"
   ]
  },
  {
   "cell_type": "code",
   "execution_count": 2,
   "metadata": {},
   "outputs": [],
   "source": [
    "obj = Horizons(id=\"274301\", location=\"@0\", epochs=[t0.tdb.jd, t1.tdb.jd])\n",
    "vecs = obj.vectors(refplane=\"earth\")\n",
    "\n",
    "x0 = jnp.array([vecs[\"x\"][0], vecs[\"y\"][0], vecs[\"z\"][0]])\n",
    "v0 = jnp.array([vecs[\"vx\"][0], vecs[\"vy\"][0], vecs[\"vz\"][0]])\n",
    "\n",
    "x1 = jnp.array([vecs[\"x\"][-1], vecs[\"y\"][-1], vecs[\"z\"][-1]])\n",
    "v1 = jnp.array([vecs[\"vx\"][-1], vecs[\"vy\"][-1], vecs[\"vz\"][-1]])\n",
    "\n",
    "\n",
    "obj = Horizons(id=\"274301\", location=\"695\", epochs=[t0.jd, t1.jd])\n",
    "eph = obj.ephemerides(extra_precision=True, quantities=\"1\")\n",
    "coord0 = SkyCoord(eph[\"RA\"][0], eph[\"DEC\"][0], unit=(u.deg, u.deg), frame=\"icrs\")\n",
    "coord1 = SkyCoord(eph[\"RA\"][-1], eph[\"DEC\"][-1], unit=(u.deg, u.deg), frame=\"icrs\")"
   ]
  },
  {
   "cell_type": "code",
   "execution_count": 3,
   "metadata": {},
   "outputs": [
    {
     "data": {
      "text/plain": [
       "Array([[ 2.61030935e-05, -2.90119924e-05, -8.52860259e-06]], dtype=float64)"
      ]
     },
     "execution_count": 3,
     "metadata": {},
     "output_type": "execute_result"
    }
   ],
   "source": [
    "p = Particle(x=x0, v=v0, time=t0, name=\"wikipedia\", gravity=\"newtonian planets\")\n",
    "p.gravity(p._cartesian_state.to_system())"
   ]
  },
  {
   "cell_type": "code",
   "execution_count": 4,
   "metadata": {},
   "outputs": [
    {
     "data": {
      "text/plain": [
       "Array([[ 2.61030935e-05, -2.90119924e-05, -8.52860260e-06]], dtype=float64)"
      ]
     },
     "execution_count": 4,
     "metadata": {},
     "output_type": "execute_result"
    }
   ],
   "source": [
    "p = Particle(x=x0, v=v0, time=t0, name=\"wikipedia\", gravity=\"newtonian solar system\")\n",
    "p.gravity(p._cartesian_state.to_system())"
   ]
  },
  {
   "cell_type": "code",
   "execution_count": 5,
   "metadata": {},
   "outputs": [
    {
     "data": {
      "text/plain": [
       "Array([[ 2.61030932e-05, -2.90119921e-05, -8.52860250e-06]], dtype=float64)"
      ]
     },
     "execution_count": 5,
     "metadata": {},
     "output_type": "execute_result"
    }
   ],
   "source": [
    "p = Particle(x=x0, v=v0, time=t0, name=\"wikipedia\", gravity=\"gr planets\")\n",
    "p.gravity(p._cartesian_state.to_system())"
   ]
  },
  {
   "cell_type": "code",
   "execution_count": 6,
   "metadata": {},
   "outputs": [
    {
     "data": {
      "text/plain": [
       "Array([[ 2.61030932e-05, -2.90119921e-05, -8.52860250e-06]], dtype=float64)"
      ]
     },
     "execution_count": 6,
     "metadata": {},
     "output_type": "execute_result"
    }
   ],
   "source": [
    "p = Particle(x=x0, v=v0, time=t0, name=\"wikipedia\", gravity=\"gr solar system\")\n",
    "p.gravity(p._cartesian_state.to_system())"
   ]
  },
  {
   "cell_type": "code",
   "execution_count": 7,
   "metadata": {},
   "outputs": [
    {
     "data": {
      "text/plain": [
       "Array([[ 2.61030932e-05, -2.90119921e-05, -8.52860250e-06]], dtype=float64)"
      ]
     },
     "execution_count": 7,
     "metadata": {},
     "output_type": "execute_result"
    }
   ],
   "source": [
    "p = Particle(x=x0, v=v0, time=t0, name=\"wikipedia\", gravity=\"default solar system\")\n",
    "p.gravity(p._cartesian_state.to_system())"
   ]
  },
  {
   "cell_type": "code",
   "execution_count": 8,
   "metadata": {},
   "outputs": [
    {
     "data": {
      "text/plain": [
       "Array([[ 3.11840184e-13, -3.20242656e-13, -9.39598774e-14]], dtype=float64)"
      ]
     },
     "execution_count": 8,
     "metadata": {},
     "output_type": "execute_result"
    }
   ],
   "source": [
    "p1 = Particle(x=x0, v=v0, time=t0, name=\"wikipedia\", gravity=\"newtonian solar system\")\n",
    "g1 = p1.gravity(p._cartesian_state.to_system())\n",
    "\n",
    "p2 = Particle(x=x0, v=v0, time=t0, name=\"wikipedia\", gravity=\"gr solar system\")\n",
    "g2 = p2.gravity(p._cartesian_state.to_system())\n",
    "\n",
    "g1 - g2"
   ]
  },
  {
   "cell_type": "code",
   "execution_count": null,
   "metadata": {},
   "outputs": [
    {
     "data": {
      "text/plain": [
       "(Array([-0.00595056, -0.00446843, -0.00173775], dtype=float64),\n",
       " Array([ 7.01900351e-06, -3.66915239e-06, -1.71368420e-06], dtype=float64))"
      ]
     },
     "execution_count": 9,
     "metadata": {},
     "output_type": "execute_result"
    }
   ],
   "source": [
    "obj = Horizons(id=\"sun\", location=\"@0\", epochs=[t0.tdb.jd])\n",
    "vecs = obj.vectors(refplane=\"earth\")\n",
    "x0 = jnp.array([vecs[\"x\"][0], vecs[\"y\"][0], vecs[\"z\"][0]])\n",
    "v0 = jnp.array([vecs[\"vx\"][0], vecs[\"vy\"][0], vecs[\"vz\"][0]])\n",
    "\n",
    "x0, v0"
   ]
  },
  {
   "cell_type": "code",
   "execution_count": 11,
   "metadata": {},
   "outputs": [
    {
     "data": {
      "text/plain": [
       "{'sun': {'x': <Quantity [-0.00595056, -0.00446843, -0.00173775] AU>,\n",
       "  'v': <Quantity [ 7.01900351e-06, -3.66915239e-06, -1.71368420e-06] AU / d>,\n",
       "  'log_gm': Array(-8.12544774, dtype=float64, weak_type=True)},\n",
       " 'mercury': {'x': <Quantity [0.22698184, 0.19450601, 0.08041286] AU>,\n",
       "  'v': <Quantity [-0.02463847,  0.01844025,  0.0124054 ] AU / d>,\n",
       "  'log_gm': Array(-23.73665301, dtype=float64, weak_type=True)},\n",
       " 'venus': {'x': <Quantity [ 0.71903244,  0.03069788, -0.03178175] AU>,\n",
       "  'v': <Quantity [-0.00064329,  0.01833659,  0.00829192] AU / d>,\n",
       "  'log_gm': Array(-21.045753, dtype=float64, weak_type=True)},\n",
       " 'earth': {'x': <Quantity [0.34841989, 0.83982393, 0.36424903] AU>,\n",
       "  'v': <Quantity [-0.01632825,  0.00560986,  0.00243177] AU / d>,\n",
       "  'log_gm': Array(-20.82895848, dtype=float64, weak_type=True)},\n",
       " 'mars': {'x': <Quantity [-0.12021452,  1.4264163 ,  0.65765611] AU>,\n",
       "  'v': <Quantity [-1.34212094e-02,  2.57839855e-05,  3.74033655e-04] AU / d>,\n",
       "  'log_gm': Array(-23.07194211, dtype=float64, weak_type=True)},\n",
       " 'jupiter': {'x': <Quantity [1.28060022, 4.51663611, 1.90481374] AU>,\n",
       "  'v': <Quantity [-0.00738671,  0.00201798,  0.00104479] AU / d>,\n",
       "  'log_gm': Array(-15.07946488, dtype=float64, weak_type=True)},\n",
       " 'saturn': {'x': <Quantity [ 9.43163025, -1.64291049, -1.08483967] AU>,\n",
       "  'v': <Quantity [0.00081324, 0.00505371, 0.00205241] AU / d>,\n",
       "  'log_gm': Array(-16.28536632, dtype=float64, weak_type=True)},\n",
       " 'uranus': {'x': <Quantity [11.19895335, 14.73735225,  6.29616328] AU>,\n",
       "  'v': <Quantity [-0.00325286,  0.001879  ,  0.00086895] AU / d>,\n",
       "  'log_gm': Array(-18.16446878, dtype=float64, weak_type=True)},\n",
       " 'neptune': {'x': <Quantity [29.87259792, -0.40833758, -0.91085754] AU>,\n",
       "  'v': <Quantity [5.67014023e-05, 2.92268200e-03, 1.19485817e-03] AU / d>,\n",
       "  'log_gm': Array(-17.99910783, dtype=float64, weak_type=True)},\n",
       " 'pluto': {'x': <Quantity [ 18.13724833, -26.75466376, -13.8140121 ] AU>,\n",
       "  'v': <Quantity [ 0.00277127,  0.0012111 , -0.00045703] AU / d>,\n",
       "  'log_gm': Array(-26.8539481, dtype=float64, weak_type=True)},\n",
       " 'ceres': {'x': <Quantity [ 1.95941058, -1.83557751, -1.26554065] AU>,\n",
       "  'v': <Quantity [0.00718976, 0.00621272, 0.00146799] AU / d>,\n",
       "  'log_gm': Array(-29.59967161, dtype=float64, weak_type=True)},\n",
       " 'pallas': {'x': <Quantity [ 0.32854857, -3.2126276 ,  0.61375111] AU>,\n",
       "  'v': <Quantity [ 0.00854759, -0.00043753, -0.00053262] AU / d>,\n",
       "  'log_gm': Array(-31.12199618, dtype=float64, weak_type=True)},\n",
       " 'juno': {'x': <Quantity [-2.77028647, -1.67352557, -0.2039273 ] AU>,\n",
       "  'v': <Quantity [ 0.00328822, -0.00767534, -0.00157666] AU / d>,\n",
       "  'log_gm': Array(-33.08427588, dtype=float64, weak_type=True)},\n",
       " 'vesta': {'x': <Quantity [-2.28762234,  0.05253363,  0.31996372] AU>,\n",
       "  'v': <Quantity [ 0.0001461 , -0.01064558, -0.00426316] AU / d>,\n",
       "  'log_gm': Array(-30.88687217, dtype=float64, weak_type=True)},\n",
       " 'iris': {'x': <Quantity [ 1.94989283, -0.29232169,  0.08045044] AU>,\n",
       "  'v': <Quantity [-0.00049251,  0.01223673,  0.00499966] AU / d>,\n",
       "  'log_gm': Array(-33.605982, dtype=float64, weak_type=True)},\n",
       " 'hygiea': {'x': <Quantity [2.83363174, 1.71192439, 0.97687067] AU>,\n",
       "  'v': <Quantity [-0.00464456,  0.00688989,  0.0027797 ] AU / d>,\n",
       "  'log_gm': Array(-32.00965106, dtype=float64, weak_type=True)},\n",
       " 'eunomia': {'x': <Quantity [0.44667232, 1.90486763, 1.11434599] AU>,\n",
       "  'v': <Quantity [-1.14034811e-02,  4.47354052e-03, -8.58656410e-05] AU / d>,\n",
       "  'log_gm': Array(-33.03230633, dtype=float64, weak_type=True)},\n",
       " 'psyche': {'x': <Quantity [ 2.45653683, -0.74564797, -0.35375913] AU>,\n",
       "  'v': <Quantity [0.00274733, 0.01023348, 0.00379883] AU / d>,\n",
       "  'log_gm': Array(-33.27337921, dtype=float64, weak_type=True)},\n",
       " 'euphrosyne': {'x': <Quantity [-2.98209784, -1.28044454, -0.33726204] AU>,\n",
       "  'v': <Quantity [ 0.00124905, -0.00620211, -0.00694438] AU / d>,\n",
       "  'log_gm': Array(-33.66051937, dtype=float64, weak_type=True)},\n",
       " 'europa': {'x': <Quantity [ 3.16612793, -0.50340682, -0.5139137 ] AU>,\n",
       "  'v': <Quantity [0.00090987, 0.00878047, 0.00288389] AU / d>,\n",
       "  'log_gm': Array(-32.7499493, dtype=float64, weak_type=True)},\n",
       " 'cybele': {'x': <Quantity [-1.20197054,  3.34242139,  1.26345847] AU>,\n",
       "  'v': <Quantity [-0.00772695, -0.00308297, -0.00091966] AU / d>,\n",
       "  'log_gm': Array(-33.80079085, dtype=float64, weak_type=True)},\n",
       " 'sylvia': {'x': <Quantity [2.82987656, 1.57169622, 0.20704492] AU>,\n",
       "  'v': <Quantity [-0.00387511,  0.0077387 ,  0.00468173] AU / d>,\n",
       "  'log_gm': Array(-32.96298614, dtype=float64, weak_type=True)},\n",
       " 'thisbe': {'x': <Quantity [-0.13505598,  2.80829481,  1.23869153] AU>,\n",
       "  'v': <Quantity [-0.00917528,  0.00100823, -0.0004643 ] AU / d>,\n",
       "  'log_gm': Array(-33.56310656, dtype=float64, weak_type=True)},\n",
       " 'camilla': {'x': <Quantity [3.06602495, 1.58214428, 0.30882067] AU>,\n",
       "  'v': <Quantity [-0.004824  ,  0.0076444 ,  0.00194848] AU / d>,\n",
       "  'log_gm': Array(-33.3696624, dtype=float64, weak_type=True)},\n",
       " 'davida': {'x': <Quantity [1.79001789, 1.95415687, 0.1400965 ] AU>,\n",
       "  'v': <Quantity [-0.00858355,  0.00593587,  0.00444515] AU / d>,\n",
       "  'log_gm': Array(-32.37733729, dtype=float64, weak_type=True)},\n",
       " 'interamnia': {'x': <Quantity [-2.69721134,  1.96271918,  0.06076183] AU>,\n",
       "  'v': <Quantity [-0.0054763 , -0.00543257, -0.00459788] AU / d>,\n",
       "  'log_gm': Array(-32.69647681, dtype=float64, weak_type=True)}}"
      ]
     },
     "execution_count": 11,
     "metadata": {},
     "output_type": "execute_result"
    }
   ],
   "source": [
    "import jax\n",
    "\n",
    "jax.config.update(\"jax_enable_x64\", True)\n",
    "import jax.numpy as jnp\n",
    "\n",
    "from astropy.time import Time\n",
    "import astropy.units as u\n",
    "from astropy.coordinates import SkyCoord\n",
    "from astroquery.jplhorizons import Horizons\n",
    "\n",
    "\n",
    "from jorbit.ephemeris import Ephemeris\n",
    "\n",
    "t0 = Time(\"2024-12-01 00:00\")\n",
    "\n",
    "\n",
    "eph = Ephemeris(ssos=\"default solar system\")\n",
    "jorbit_ephem = eph.state(t0)\n",
    "jorbit_ephem"
   ]
  },
  {
   "cell_type": "code",
   "execution_count": 58,
   "metadata": {},
   "outputs": [
    {
     "name": "stdout",
     "output_type": "stream",
     "text": [
      "sun [ 9.09862463e-16 -4.76181594e-16 -2.22695126e-16] [7.50471191e-19 1.40734524e-18 5.78523503e-19]\n",
      "1.0508052777311424e-15 1.696619309748289e-18\n",
      "\n",
      "mercury [-3.19544391e-12  2.39164244e-12  1.60894909e-12] [-2.80185597e-13 -2.39325920e-13 -9.88098492e-14]\n",
      "4.303432641054524e-12 3.815026226767994e-13\n",
      "\n",
      "venus [-8.33777491e-14  2.37817405e-12  1.07542447e-12] [-7.25749755e-14 -3.50761087e-15  3.00801051e-15]\n",
      "2.6113600745980903e-12 7.272192610419289e-14\n",
      "\n",
      "earth [-2.11730633e-12  7.27529148e-13  3.15414361e-13] [-1.41830991e-14 -3.38531286e-14 -1.46774953e-14]\n",
      "2.260922594147187e-12 3.953003274298582e-14\n",
      "\n",
      "mars [-1.74062154e-12  3.55271368e-15  4.85167462e-14] [ 1.10848830e-15 -1.39296296e-14 -6.41929001e-15]\n",
      "1.7413011879935626e-12 1.5377600974074793e-14\n",
      "\n",
      "jupiter [-9.58122470e-13  2.62012634e-13  1.35669254e-13] [-3.80771803e-16 -1.32966554e-15 -5.60966204e-16]\n",
      "1.0025245306986708e-12 1.492541693828606e-15\n",
      "\n",
      "saturn [1.04805054e-13 6.55031585e-13 2.66453526e-13] [-4.04407410e-16  7.11236625e-17  4.68375339e-17]\n",
      "7.148761832964884e-13 4.1327676378231965e-16\n",
      "\n",
      "uranus [-4.15667500e-13  2.39808173e-13  1.12798659e-13] [-5.72458747e-17 -7.54604712e-17 -3.24176450e-17]\n",
      "4.929614269251179e-13 1.001113209884593e-16\n",
      "\n",
      "neptune [3.55271368e-15 3.79085652e-13 1.54876112e-13] [-4.29615111e-17  1.30104261e-18  1.73472348e-18]\n",
      "4.095182086203684e-13 4.301619941472474e-17\n",
      "\n",
      "pluto [ 3.62376795e-13  1.52766688e-13 -5.86197757e-14] [-1.51788304e-17  2.34187669e-17  1.20888542e-17]\n",
      "3.976064396484439e-13 3.0413416998274276e-17\n",
      "\n"
     ]
    }
   ],
   "source": [
    "# import numpy as np\n",
    "# np.testing.assert_allclose(x0 - jorbit_ephem[\"sun\"][\"x\"], 0.0, atol=1e-5)\n",
    "\n",
    "horizon_names = [\n",
    "    \"sun\",\n",
    "    \"mercury barycenter\",\n",
    "    \"venus barycenter\",\n",
    "    \"earth-moon barycenter\",\n",
    "    \"mars barycenter\",\n",
    "    \"jupiter barycenter\",\n",
    "    \"saturn barycenter\",\n",
    "    \"uranus barycenter\",\n",
    "    \"neptune barycenter\",\n",
    "    \"pluto barycenter\",\n",
    "]\n",
    "jorbit_names = [\n",
    "    \"sun\",\n",
    "    \"mercury\",\n",
    "    \"venus\",\n",
    "    \"earth\",\n",
    "    \"mars\",\n",
    "    \"jupiter\",\n",
    "    \"saturn\",\n",
    "    \"uranus\",\n",
    "    \"neptune\",\n",
    "    \"pluto\",\n",
    "]\n",
    "for i in range(len(horizon_names)):\n",
    "    obj = Horizons(id=horizon_names[i], location=\"@0\", epochs=[t0.tdb.jd])\n",
    "    vecs = obj.vectors(refplane=\"earth\")\n",
    "    x0 = jnp.array([vecs[\"x\"][0], vecs[\"y\"][0], vecs[\"z\"][0]])\n",
    "    v0 = jnp.array([vecs[\"vx\"][0], vecs[\"vy\"][0], vecs[\"vz\"][0]])\n",
    "\n",
    "    x_err = x0 - jorbit_ephem[jorbit_names[i]][\"x\"]\n",
    "    v_err = v0 - jorbit_ephem[jorbit_names[i]][\"v\"]\n",
    "\n",
    "    print(jorbit_names[i], x_err, v_err)\n",
    "    print(jnp.linalg.norm(x_err), jnp.linalg.norm(v_err))\n",
    "    assert (jnp.linalg.norm(x_err) * u.au) < 1 * u.m\n",
    "    assert (jnp.linalg.norm(v_err) * u.au / u.day) < (1 * u.m / u.day)\n",
    "    print()"
   ]
  },
  {
   "cell_type": "code",
   "execution_count": 57,
   "metadata": {},
   "outputs": [
    {
     "data": {
      "text/latex": [
       "$6.6845871 \\times 10^{-12} \\; \\mathrm{\\frac{AU}{d}}$"
      ],
      "text/plain": [
       "<Quantity 6.68458712e-12 AU / d>"
      ]
     },
     "execution_count": 57,
     "metadata": {},
     "output_type": "execute_result"
    }
   ],
   "source": [
    "(1 * u.m / u.day).to(u.au / u.day)"
   ]
  },
  {
   "cell_type": "code",
   "execution_count": 65,
   "metadata": {},
   "outputs": [
    {
     "name": "stdout",
     "output_type": "stream",
     "text": [
      "ceres [ 1.55797930e-09  2.80592927e-09 -1.10484955e-11] [ 8.27463098e-14  6.60338190e-12 -1.23884084e-12]\n",
      "0.4801290143863208 6.719094146987448e-12\n",
      "\n",
      "pallas [-6.11944028e-07  1.06416595e-07  1.93889139e-07] [ 4.03827465e-10 -1.23703886e-09  7.99738295e-10]\n",
      "97.34132201031923 1.5273909483473654e-09\n",
      "\n",
      "juno [-3.61455983e-07  2.14067116e-07  9.70655557e-07] [-1.03430914e-09  1.23492553e-10 -2.66071414e-10]\n",
      "158.2238743636404 1.075099905715805e-09\n",
      "\n",
      "vesta [ 1.81260740e-09 -8.50033051e-08 -1.45548276e-08] [ 3.83449202e-10 -1.14445432e-11 -4.29685211e-11]\n",
      "12.90422806956629 3.8601886257211927e-10\n",
      "\n",
      "iris [-1.65800811e-07  7.08198469e-07  2.49115438e-07] [-3.84714895e-09  1.02736583e-09  9.54154564e-10]\n",
      "115.01473865679188 4.0946851591660795e-09\n",
      "\n",
      "hygiea [ 1.29125013e-08 -3.04120396e-08  1.78201962e-07] [ 1.05219508e-10 -1.39731212e-10  2.36974955e-10]\n",
      "27.11296398310964 2.9453876816881584e-10\n",
      "\n",
      "eunomia [-2.40212686e-07  1.31594779e-07 -1.20068202e-07] [-4.98995036e-10 -1.37234322e-09 -7.64656519e-10]\n",
      "44.73844148231912 1.6483390246989784e-09\n",
      "\n",
      "psyche [3.76296794e-08 8.52170360e-08 2.37787749e-08] [-4.34476238e-10  8.03652665e-11  3.35650830e-11]\n",
      "14.38270225222105 4.4311938865381514e-10\n",
      "\n",
      "euphrosyne [-9.69961356e-08  3.44943472e-07  3.05008813e-07] [-1.07766952e-09 -4.79835367e-10 -1.00077281e-10]\n",
      "70.39444208465585 1.1839041471394745e-09\n",
      "\n",
      "europa [4.17276391e-09 1.73182393e-07 1.49407816e-07] [-4.32347543e-10  9.47728857e-11  3.09241554e-10]\n",
      "34.22237219086948 5.399413272128478e-10\n",
      "\n",
      "cybele [4.03844855e-08 7.54631397e-08 8.85630710e-07] [7.48132593e-10 3.56311351e-10 5.89699767e-10]\n",
      "133.1057380943308 1.0170575060173938e-09\n",
      "\n",
      "sylvia [-9.60593125e-08  1.32188002e-07  2.13875155e-07] [-4.66920656e-10 -2.14789436e-10  1.55753717e-11]\n",
      "40.26480015163573 5.141906196414186e-10\n",
      "\n",
      "thisbe [-5.75365636e-08  1.15457855e-07 -9.96905092e-09] [ 3.55653484e-10 -2.09546838e-10 -3.04798665e-10]\n",
      "19.35564889981039 5.131291301242968e-10\n",
      "\n",
      "camilla [ 1.55163160e-07 -1.64604624e-07 -1.49419101e-07] [ 4.91497404e-10 -2.08613760e-11  6.83060567e-10]\n",
      "40.55629897798519 8.417699408224448e-10\n",
      "\n",
      "davida [-1.78022318e-07  2.32117075e-07  8.71997015e-08] [-3.71950699e-10 -8.95904445e-10 -4.10066607e-11]\n",
      "45.66389419833848 9.709138190543805e-10\n",
      "\n",
      "interamnia [8.52123705e-09 4.23188913e-08 1.66812078e-07] [ 4.81767985e-11  1.99836348e-10 -1.34453727e-10]\n",
      "25.77678953209178 2.4562852957362993e-10\n",
      "\n"
     ]
    }
   ],
   "source": [
    "jorbit_names = [\n",
    "    \"ceres\",\n",
    "    \"pallas\",\n",
    "    \"juno\",\n",
    "    \"vesta\",\n",
    "    \"iris\",\n",
    "    \"hygiea\",\n",
    "    \"eunomia\",\n",
    "    \"psyche\",\n",
    "    \"euphrosyne\",\n",
    "    \"europa\",\n",
    "    \"cybele\",\n",
    "    \"sylvia\",\n",
    "    \"thisbe\",\n",
    "    \"camilla\",\n",
    "    \"davida\",\n",
    "    \"interamnia\",\n",
    "]\n",
    "\n",
    "horizons_names = [\n",
    "    \"1\",\n",
    "    \"2\",\n",
    "    \"3\",\n",
    "    \"4\",\n",
    "    \"7\",\n",
    "    \"10\",\n",
    "    \"15\",\n",
    "    \"16\",\n",
    "    \"31\",\n",
    "    \"52\",\n",
    "    \"65\",\n",
    "    \"87\",\n",
    "    \"88\",\n",
    "    \"107\",\n",
    "    \"511\",\n",
    "    \"704\",\n",
    "]\n",
    "\n",
    "\n",
    "for i in range(len(jorbit_names)):\n",
    "    obj = Horizons(\n",
    "        id=horizons_names[i], location=\"@0\", epochs=[t0.tdb.jd], id_type=\"smallbody\"\n",
    "    )\n",
    "    vecs = obj.vectors(refplane=\"earth\")\n",
    "    x0 = jnp.array([vecs[\"x\"][0], vecs[\"y\"][0], vecs[\"z\"][0]])\n",
    "    v0 = jnp.array([vecs[\"vx\"][0], vecs[\"vy\"][0], vecs[\"vz\"][0]])\n",
    "\n",
    "    x_err = x0 - jorbit_ephem[jorbit_names[i]][\"x\"]\n",
    "    v_err = v0 - jorbit_ephem[jorbit_names[i]][\"v\"]\n",
    "\n",
    "    print(jorbit_names[i], x_err, v_err)\n",
    "    print(jnp.linalg.norm(x_err) * u.au.to(u.km), jnp.linalg.norm(v_err))\n",
    "    assert (jnp.linalg.norm(x_err) * u.au) < 500 * u.km\n",
    "    assert (jnp.linalg.norm(v_err) * u.au / u.day) < (2 * u.km / u.day)\n",
    "    print()"
   ]
  },
  {
   "cell_type": "code",
   "execution_count": null,
   "metadata": {},
   "outputs": [],
   "source": []
  }
 ],
 "metadata": {
  "kernelspec": {
   "display_name": ".venv",
   "language": "python",
   "name": "python3"
  },
  "language_info": {
   "codemirror_mode": {
    "name": "ipython",
    "version": 3
   },
   "file_extension": ".py",
   "mimetype": "text/x-python",
   "name": "python",
   "nbconvert_exporter": "python",
   "pygments_lexer": "ipython3",
   "version": "3.13.0"
  }
 },
 "nbformat": 4,
 "nbformat_minor": 2
}
