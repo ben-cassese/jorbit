{
 "cells": [
  {
   "cell_type": "markdown",
   "metadata": {},
   "source": [
    "# scratch work"
   ]
  },
  {
   "cell_type": "code",
   "execution_count": 8,
   "metadata": {},
   "outputs": [],
   "source": [
    "import jax\n",
    "\n",
    "jax.config.update(\"jax_enable_x64\", True)\n",
    "\n",
    "from astropy.time import Time\n",
    "\n",
    "from jorbit.ephemeris import Ephemeris"
   ]
  },
  {
   "cell_type": "code",
   "execution_count": 12,
   "metadata": {},
   "outputs": [
    {
     "data": {
      "text/plain": [
       "(11, 3)"
      ]
     },
     "execution_count": 12,
     "metadata": {},
     "output_type": "execute_result"
    }
   ],
   "source": [
    "eph = Ephemeris(ssos=\"default planets\")\n",
    "eph.processor.state(Time(\"2020-01-01\").tdb.jd)[0].shape"
   ]
  },
  {
   "cell_type": "code",
   "execution_count": 13,
   "metadata": {},
   "outputs": [
    {
     "data": {
      "text/plain": [
       "(27, 3)"
      ]
     },
     "execution_count": 13,
     "metadata": {},
     "output_type": "execute_result"
    }
   ],
   "source": [
    "eph = Ephemeris(ssos=\"default solar system\")\n",
    "eph.processor.state(Time(\"2020-01-01\").tdb.jd)[0].shape"
   ]
  },
  {
   "cell_type": "code",
   "execution_count": null,
   "metadata": {},
   "outputs": [],
   "source": []
  },
  {
   "cell_type": "code",
   "execution_count": null,
   "metadata": {},
   "outputs": [],
   "source": [
    "    # \"ceres\": 2000001,\n",
    "    # \"pallas\": 2000002,\n",
    "    # \"juno\": 2000003,\n",
    "    # \"vesta\": 2000004,\n",
    "    # \"iris\": 2000007,\n",
    "    # \"hygiea\": 2000010,\n",
    "    # \"eunomia\": 2000015,\n",
    "    # \"psyche\": 2000016,\n",
    "    # \"euphrosyne\": 2000031,\n",
    "    # \"europa\": 2000052,\n",
    "    # \"cybele\": 2000065,\n",
    "    # \"sylvia\": 2000087,\n",
    "    # \"thisbe\": 2000088,\n",
    "    # \"camilla\": 2000107,\n",
    "    # \"davida\": 2000511,\n",
    "    # \"interamnia\": 2000704,\n",
    "\n",
    "# PERTURBER_PACKED_DESIGNATIONS = [\n",
    "#     \"00001\",\n",
    "#     \"00002\",\n",
    "#     \"00003\",\n",
    "#     \"00004\",\n",
    "#     \"00007\",\n",
    "#     \"00010\",\n",
    "#     \"00015\",\n",
    "#     \"00016\",\n",
    "#     \"00031\",\n",
    "#     \"00052\",\n",
    "#     \"00065\",\n",
    "#     \"00087\",\n",
    "#     \"00088\",\n",
    "#     \"00107\",\n",
    "#     \"00511\",\n",
    "#     \"00704\",\n",
    "#     \"D4340\"\n",
    "# ]\n"
   ]
  }
 ],
 "metadata": {
  "kernelspec": {
   "display_name": "jorbit",
   "language": "python",
   "name": "python3"
  },
  "language_info": {
   "codemirror_mode": {
    "name": "ipython",
    "version": 3
   },
   "file_extension": ".py",
   "mimetype": "text/x-python",
   "name": "python",
   "nbconvert_exporter": "python",
   "pygments_lexer": "ipython3",
   "version": "3.13.0"
  }
 },
 "nbformat": 4,
 "nbformat_minor": 2
}
