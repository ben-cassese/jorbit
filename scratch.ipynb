{
 "cells": [
  {
   "cell_type": "markdown",
   "metadata": {},
   "source": [
    "# scratch work"
   ]
  },
  {
   "cell_type": "code",
   "execution_count": 1,
   "metadata": {},
   "outputs": [],
   "source": [
    "import jax\n",
    "\n",
    "jax.config.update(\"jax_enable_x64\", True)\n",
    "import astropy.units as u\n",
    "import numpy as np\n",
    "from astropy.coordinates import SkyCoord\n",
    "from astropy.time import Time\n"
   ]
  },
  {
   "cell_type": "code",
   "execution_count": 28,
   "metadata": {},
   "outputs": [],
   "source": [
    "\n",
    "from jorbit import Particle\n",
    "from jorbit.utils.horizons import horizons_bulk_astrometry_query\n",
    "\n",
    "np.random.seed(0)\n",
    "times = Time(\"2025-01-01\") + np.arange(0, 100, 5) * u.day\n",
    "\n",
    "sso = str(np.random.randint(1_000, 500_000))\n",
    "\n",
    "horizons_results = horizons_bulk_astrometry_query(\n",
    "    target=sso,\n",
    "    center=\"695@399\",\n",
    "    times=times,\n",
    "    disable_astroquery=False,\n",
    ")\n",
    "\n",
    "p = Particle.from_horizons(name=sso, time=Time(\"2025-01-01\"))\n",
    "\n",
    "eph = p.ephemeris(times=times, observer=\"kitt peak\")\n",
    "\n",
    "assert np.max(SkyCoord(horizons_results[\"RA\"], horizons_results[\"DEC\"], unit=u.deg).separation(eph).to(u.mas)) < 1 * u.mas\n",
    "\n"
   ]
  },
  {
   "cell_type": "code",
   "execution_count": 26,
   "metadata": {},
   "outputs": [
    {
     "data": {
      "text/latex": [
       "[$0.000389432\\;\\mathrm{mas}$ $0.00205865\\;\\mathrm{mas}$\n",
       " $0.00137007\\;\\mathrm{mas}$ $0.00160105\\;\\mathrm{mas}$\n",
       " $0.000997356\\;\\mathrm{mas}$ $0.00175141\\;\\mathrm{mas}$\n",
       " $0.0016426\\;\\mathrm{mas}$ $0.000884636\\;\\mathrm{mas}$\n",
       " $0.00187125\\;\\mathrm{mas}$ $0.00141609\\;\\mathrm{mas}$\n",
       " $0.00174807\\;\\mathrm{mas}$ $0.00199032\\;\\mathrm{mas}$\n",
       " $7.8351e-05\\;\\mathrm{mas}$ $0.000409205\\;\\mathrm{mas}$\n",
       " $0.000991016\\;\\mathrm{mas}$ $0.000362748\\;\\mathrm{mas}$\n",
       " $0.00127641\\;\\mathrm{mas}$ $0.000730773\\;\\mathrm{mas}$\n",
       " $0.000952841\\;\\mathrm{mas}$ $0.00144707\\;\\mathrm{mas}$]"
      ],
      "text/plain": [
       "<Angle [3.89432427e-04, 2.05865278e-03, 1.37006843e-03, 1.60105397e-03,\n",
       "        9.97355537e-04, 1.75141415e-03, 1.64260280e-03, 8.84635706e-04,\n",
       "        1.87124937e-03, 1.41608762e-03, 1.74807483e-03, 1.99032439e-03,\n",
       "        7.83510302e-05, 4.09205006e-04, 9.91015557e-04, 3.62747637e-04,\n",
       "        1.27640962e-03, 7.30773435e-04, 9.52841288e-04, 1.44706738e-03] mas>"
      ]
     },
     "execution_count": 26,
     "metadata": {},
     "output_type": "execute_result"
    }
   ],
   "source": [
    "SkyCoord(horizons_results[\"RA\"], horizons_results[\"DEC\"], unit=u.deg).separation(eph).to(u.mas)"
   ]
  },
  {
   "cell_type": "code",
   "execution_count": null,
   "metadata": {},
   "outputs": [],
   "source": []
  }
 ],
 "metadata": {
  "kernelspec": {
   "display_name": "jorbit",
   "language": "python",
   "name": "python3"
  },
  "language_info": {
   "codemirror_mode": {
    "name": "ipython",
    "version": 3
   },
   "file_extension": ".py",
   "mimetype": "text/x-python",
   "name": "python",
   "nbconvert_exporter": "python",
   "pygments_lexer": "ipython3",
   "version": "3.13.0"
  }
 },
 "nbformat": 4,
 "nbformat_minor": 2
}
