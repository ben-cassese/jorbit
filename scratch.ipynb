{
 "cells": [
  {
   "cell_type": "markdown",
   "metadata": {},
   "source": [
    "# scratch work"
   ]
  },
  {
   "cell_type": "code",
   "execution_count": 16,
   "metadata": {},
   "outputs": [],
   "source": [
    "import jax\n",
    "\n",
    "jax.config.update(\"jax_enable_x64\", True)\n",
    "import jax.numpy as jnp\n",
    "\n",
    "from jplephem.spk import SPK\n",
    "import astropy.units as u\n",
    "from astropy.time import Time\n",
    "from astropy.utils.data import download_file\n",
    "\n",
    "PLANET_EPHEMERIS_URL = \"https://ssd.jpl.nasa.gov//ftp/eph/planets/bsp/de440.bsp\"\n",
    "ASTEROID_EPHEMERIS_URL = (\n",
    "    \"https://ssd.jpl.nasa.gov/ftp/eph/small_bodies/asteroids_de441/sb441-n16.bsp\"\n",
    ")"
   ]
  },
  {
   "cell_type": "code",
   "execution_count": 17,
   "metadata": {},
   "outputs": [
    {
     "data": {
      "text/plain": [
       "['__class__',\n",
       " '__delattr__',\n",
       " '__dict__',\n",
       " '__dir__',\n",
       " '__doc__',\n",
       " '__enter__',\n",
       " '__eq__',\n",
       " '__exit__',\n",
       " '__firstlineno__',\n",
       " '__format__',\n",
       " '__ge__',\n",
       " '__getattribute__',\n",
       " '__getitem__',\n",
       " '__getstate__',\n",
       " '__gt__',\n",
       " '__hash__',\n",
       " '__init__',\n",
       " '__init_subclass__',\n",
       " '__le__',\n",
       " '__lt__',\n",
       " '__module__',\n",
       " '__ne__',\n",
       " '__new__',\n",
       " '__reduce__',\n",
       " '__reduce_ex__',\n",
       " '__repr__',\n",
       " '__setattr__',\n",
       " '__sizeof__',\n",
       " '__static_attributes__',\n",
       " '__str__',\n",
       " '__subclasshook__',\n",
       " '__weakref__',\n",
       " 'close',\n",
       " 'comments',\n",
       " 'daf',\n",
       " 'open',\n",
       " 'pairs',\n",
       " 'segments']"
      ]
     },
     "execution_count": 17,
     "metadata": {},
     "output_type": "execute_result"
    }
   ],
   "source": [
    "kernel = SPK.open(download_file(PLANET_EPHEMERIS_URL, cache=True))\n",
    "dir(kernel)"
   ]
  },
  {
   "cell_type": "code",
   "execution_count": 18,
   "metadata": {},
   "outputs": [
    {
     "data": {
      "text/plain": [
       "['__class__',\n",
       " '__delattr__',\n",
       " '__dict__',\n",
       " '__dir__',\n",
       " '__doc__',\n",
       " '__eq__',\n",
       " '__firstlineno__',\n",
       " '__format__',\n",
       " '__ge__',\n",
       " '__getattribute__',\n",
       " '__getstate__',\n",
       " '__gt__',\n",
       " '__hash__',\n",
       " '__init__',\n",
       " '__init_subclass__',\n",
       " '__le__',\n",
       " '__lt__',\n",
       " '__module__',\n",
       " '__ne__',\n",
       " '__new__',\n",
       " '__reduce__',\n",
       " '__reduce_ex__',\n",
       " '__repr__',\n",
       " '__setattr__',\n",
       " '__sizeof__',\n",
       " '__static_attributes__',\n",
       " '__str__',\n",
       " '__subclasshook__',\n",
       " '__weakref__',\n",
       " '_data',\n",
       " 'center',\n",
       " 'compute',\n",
       " 'compute_and_differentiate',\n",
       " 'daf',\n",
       " 'data_type',\n",
       " 'describe',\n",
       " 'end_i',\n",
       " 'end_jd',\n",
       " 'end_second',\n",
       " 'frame',\n",
       " 'generate',\n",
       " 'load_array',\n",
       " 'source',\n",
       " 'start_i',\n",
       " 'start_jd',\n",
       " 'start_second',\n",
       " 'target']"
      ]
     },
     "execution_count": 18,
     "metadata": {},
     "output_type": "execute_result"
    }
   ],
   "source": [
    "dir(kernel.segments[0])"
   ]
  },
  {
   "cell_type": "code",
   "execution_count": 19,
   "metadata": {},
   "outputs": [
    {
     "data": {
      "text/plain": [
       "[1, 2, 3, 4, 5, 6, 7, 8, 9, 10, 301, 399, 199, 299]"
      ]
     },
     "execution_count": 19,
     "metadata": {},
     "output_type": "execute_result"
    }
   ],
   "source": [
    "[s.target for s in kernel.segments]"
   ]
  },
  {
   "cell_type": "code",
   "execution_count": 20,
   "metadata": {},
   "outputs": [
    {
     "data": {
      "text/plain": [
       "3"
      ]
     },
     "execution_count": 20,
     "metadata": {},
     "output_type": "execute_result"
    }
   ],
   "source": [
    "len(kernel.segments[0]._data)"
   ]
  },
  {
   "cell_type": "code",
   "execution_count": 21,
   "metadata": {},
   "outputs": [
    {
     "name": "stdout",
     "output_type": "stream",
     "text": [
      "-14200747200.0 691200.0 (14, 3, 50224)\n",
      "-14200747200.0 1382400.0 (10, 3, 25112)\n",
      "-14200747200.0 1382400.0 (13, 3, 25112)\n",
      "-14200747200.0 2764800.0 (11, 3, 12556)\n",
      "-14200747200.0 2764800.0 (8, 3, 12556)\n",
      "-14200747200.0 2764800.0 (7, 3, 12556)\n",
      "-14200747200.0 2764800.0 (6, 3, 12556)\n",
      "-14200747200.0 2764800.0 (6, 3, 12556)\n",
      "-14200747200.0 2764800.0 (6, 3, 12556)\n",
      "-14200747200.0 1382400.0 (11, 3, 25112)\n",
      "-14200747200.0 345600.0 (13, 3, 100448)\n",
      "-14200747200.0 345600.0 (13, 3, 100448)\n",
      "-14200747200.0 34714828800.0 (2, 3, 1)\n",
      "-14200747200.0 34714828800.0 (2, 3, 1)\n"
     ]
    }
   ],
   "source": [
    "for k in kernel.segments:\n",
    "    init, intlen, coeff = k._data\n",
    "    print(init, intlen, coeff.shape)"
   ]
  },
  {
   "cell_type": "code",
   "execution_count": 22,
   "metadata": {},
   "outputs": [
    {
     "data": {
      "text/plain": [
       "-449.9945242984257"
      ]
     },
     "execution_count": 22,
     "metadata": {},
     "output_type": "execute_result"
    }
   ],
   "source": [
    "-14200747200.0 * u.s.to(u.year)"
   ]
  },
  {
   "cell_type": "code",
   "execution_count": 23,
   "metadata": {},
   "outputs": [
    {
     "name": "stdout",
     "output_type": "stream",
     "text": [
      "1\n",
      "1549-12-31..2650-01-25  Type 2  Solar System Barycenter (0) -> Mercury Barycenter (1)\n",
      "  frame=1 source=DE-0440LE-0440\n",
      "2\n",
      "1549-12-31..2650-01-25  Type 2  Solar System Barycenter (0) -> Venus Barycenter (2)\n",
      "  frame=1 source=DE-0440LE-0440\n",
      "3\n",
      "1549-12-31..2650-01-25  Type 2  Solar System Barycenter (0) -> Earth Barycenter (3)\n",
      "  frame=1 source=DE-0440LE-0440\n",
      "4\n",
      "1549-12-31..2650-01-25  Type 2  Solar System Barycenter (0) -> Mars Barycenter (4)\n",
      "  frame=1 source=DE-0440LE-0440\n",
      "5\n",
      "1549-12-31..2650-01-25  Type 2  Solar System Barycenter (0) -> Jupiter Barycenter (5)\n",
      "  frame=1 source=DE-0440LE-0440\n",
      "6\n",
      "1549-12-31..2650-01-25  Type 2  Solar System Barycenter (0) -> Saturn Barycenter (6)\n",
      "  frame=1 source=DE-0440LE-0440\n",
      "7\n",
      "1549-12-31..2650-01-25  Type 2  Solar System Barycenter (0) -> Uranus Barycenter (7)\n",
      "  frame=1 source=DE-0440LE-0440\n",
      "8\n",
      "1549-12-31..2650-01-25  Type 2  Solar System Barycenter (0) -> Neptune Barycenter (8)\n",
      "  frame=1 source=DE-0440LE-0440\n",
      "9\n",
      "1549-12-31..2650-01-25  Type 2  Solar System Barycenter (0) -> Pluto Barycenter (9)\n",
      "  frame=1 source=DE-0440LE-0440\n",
      "10\n",
      "1549-12-31..2650-01-25  Type 2  Solar System Barycenter (0) -> Sun (10)\n",
      "  frame=1 source=DE-0440LE-0440\n",
      "301\n",
      "1549-12-31..2650-01-25  Type 2  Earth Barycenter (3) -> Moon (301)\n",
      "  frame=1 source=DE-0440LE-0440\n",
      "399\n",
      "1549-12-31..2650-01-25  Type 2  Earth Barycenter (3) -> Earth (399)\n",
      "  frame=1 source=DE-0440LE-0440\n",
      "199\n",
      "1549-12-31..2650-01-25  Type 2  Mercury Barycenter (1) -> Mercury (199)\n",
      "  frame=1 source=DE-0440LE-0440\n",
      "299\n",
      "1549-12-31..2650-01-25  Type 2  Venus Barycenter (2) -> Venus (299)\n",
      "  frame=1 source=DE-0440LE-0440\n"
     ]
    }
   ],
   "source": [
    "for k in kernel.segments:\n",
    "    print(k.target)\n",
    "    print(k.describe())"
   ]
  },
  {
   "cell_type": "code",
   "execution_count": 24,
   "metadata": {},
   "outputs": [
    {
     "data": {
      "text/plain": [
       "array([-0.18578476,  0.89254175,  0.38703056])"
      ]
     },
     "execution_count": 24,
     "metadata": {},
     "output_type": "execute_result"
    }
   ],
   "source": [
    "kernel.segments[2].compute(Time(\"2021-01-01T00:00:00\", scale=\"tdb\").jd) * u.km.to(u.au)"
   ]
  },
  {
   "cell_type": "code",
   "execution_count": 25,
   "metadata": {},
   "outputs": [
    {
     "data": {
      "text/plain": [
       "Array(0.99042385, dtype=float64)"
      ]
     },
     "execution_count": 25,
     "metadata": {},
     "output_type": "execute_result"
    }
   ],
   "source": [
    "jnp.linalg.norm(\n",
    "    kernel.segments[2].compute(Time(\"2021-01-01T00:00:00\", scale=\"tdb\").jd)\n",
    "    * u.km.to(u.au)\n",
    ")"
   ]
  },
  {
   "cell_type": "code",
   "execution_count": 26,
   "metadata": {},
   "outputs": [],
   "source": [
    "def eval_cheby(coefficients, x):\n",
    "    b_ii = jnp.zeros((3, x.shape[0]))\n",
    "    b_i = jnp.zeros((3, x.shape[0]))\n",
    "\n",
    "    def scan_func(X, a):\n",
    "        b_i, b_ii = X\n",
    "        tmp = b_i\n",
    "        b_i = a + 2 * x * b_i - b_ii\n",
    "        b_ii = tmp\n",
    "        return (b_i, b_ii), b_i\n",
    "\n",
    "    (b_i, b_ii), s = jax.lax.scan(scan_func, (b_i, b_ii), coefficients[:-1])\n",
    "    return coefficients[-1] + x * b_i - b_ii, s\n",
    "\n",
    "\n",
    "def prep_ephemeris(\n",
    "    init,\n",
    "    intlen,\n",
    "    coefficients,\n",
    "    tdb,\n",
    "):\n",
    "    tdb2 = 0.0  # leaving in case we ever decide to increase the time precision and use 2 floats\n",
    "    _, _, n = coefficients.shape\n",
    "\n",
    "    # 2451545.0 is the J2000 epoch in TDB\n",
    "    index1, offset1 = jnp.divmod((tdb - 2451545.0) * 86400.0 - init, intlen)\n",
    "    index2, offset2 = jnp.divmod(tdb2 * 86400.0, intlen)\n",
    "    index3, offset = jnp.divmod(offset1 + offset2, intlen)\n",
    "    index = (index1 + index2 + index3).astype(int)\n",
    "\n",
    "    omegas = index == n\n",
    "    index = jnp.where(omegas, index - 1, index)\n",
    "    offset = jnp.where(omegas, offset + intlen, offset)\n",
    "\n",
    "    coefficients = coefficients[:, :, index]\n",
    "\n",
    "    s = 2.0 * offset / intlen - 1.0\n",
    "    return s, coefficients\n",
    "\n",
    "\n",
    "def single_perturber_states(\n",
    "    init,\n",
    "    intlen,\n",
    "    coefficients,\n",
    "    tdb,\n",
    "):\n",
    "    s, coefficients = prep_ephemeris(init, intlen, coefficients, tdb)\n",
    "\n",
    "    # Position\n",
    "    x, As = eval_cheby(coefficients, s)  # in km here\n",
    "\n",
    "    return x"
   ]
  },
  {
   "cell_type": "code",
   "execution_count": 27,
   "metadata": {},
   "outputs": [
    {
     "data": {
      "text/plain": [
       "Array([[-0.18578476],\n",
       "       [ 0.89254175],\n",
       "       [ 0.38703056]], dtype=float64)"
      ]
     },
     "execution_count": 27,
     "metadata": {},
     "output_type": "execute_result"
    }
   ],
   "source": [
    "init, intlen, coefficients = kernel.segments[2]._data\n",
    "tdb = jnp.array([Time(\"2021-01-01T00:00:00\", scale=\"tdb\").jd])\n",
    "s, coefficients = prep_ephemeris(init, intlen, coefficients, tdb)\n",
    "x, As = eval_cheby(coefficients, s)  # in km here\n",
    "(x * u.km.to(u.au))"
   ]
  },
  {
   "cell_type": "code",
   "execution_count": 28,
   "metadata": {},
   "outputs": [
    {
     "data": {
      "text/plain": [
       "array([-0.18578476,  0.89254175,  0.38703056])"
      ]
     },
     "execution_count": 28,
     "metadata": {},
     "output_type": "execute_result"
    }
   ],
   "source": [
    "kernel.segments[2].compute(Time(\"2021-01-01T00:00:00\", scale=\"tdb\").jd) * u.km.to(u.au)"
   ]
  },
  {
   "cell_type": "code",
   "execution_count": null,
   "metadata": {},
   "outputs": [],
   "source": []
  },
  {
   "cell_type": "code",
   "execution_count": 29,
   "metadata": {},
   "outputs": [
    {
     "name": "stdout",
     "output_type": "stream",
     "text": [
      "some stuff\n",
      "some stuff\n",
      "some stuff\n"
     ]
    },
    {
     "ename": "TracerBoolConversionError",
     "evalue": "Attempted boolean conversion of traced array with shape bool[].\nThe error occurred while tracing the function process at /var/folders/mj/qxz5chg95r53_2nlv9f86qhm0000gn/T/ipykernel_65050/1229738365.py:21 for jit. This concrete value was not available in Python because it depends on the value of the argument self[<flat index 0>].\nSee https://jax.readthedocs.io/en/latest/errors.html#jax.errors.TracerBoolConversionError",
     "output_type": "error",
     "traceback": [
      "\u001b[0;31m---------------------------------------------------------------------------\u001b[0m",
      "\u001b[0;31mTracerBoolConversionError\u001b[0m                 Traceback (most recent call last)",
      "Cell \u001b[0;32mIn[29], line 27\u001b[0m\n\u001b[1;32m     23\u001b[0m         \u001b[38;5;28;01mreturn\u001b[39;00m t\u001b[38;5;241m*\u001b[39m\u001b[38;5;241m*\u001b[39m\u001b[38;5;241m2\u001b[39m \u001b[38;5;241m+\u001b[39m t\n\u001b[1;32m     26\u001b[0m t \u001b[38;5;241m=\u001b[39m Test(\u001b[38;5;241m1.0\u001b[39m)\n\u001b[0;32m---> 27\u001b[0m _ \u001b[38;5;241m=\u001b[39m \u001b[43mt\u001b[49m\u001b[38;5;241;43m.\u001b[39;49m\u001b[43mprocess\u001b[49m\u001b[43m(\u001b[49m\u001b[38;5;241;43m1.0\u001b[39;49m\u001b[43m)\u001b[49m\n\u001b[1;32m     29\u001b[0m \u001b[38;5;129m@jax\u001b[39m\u001b[38;5;241m.\u001b[39mjit\n\u001b[1;32m     30\u001b[0m \u001b[38;5;28;01mdef\u001b[39;00m \u001b[38;5;21mq\u001b[39m(t):\n\u001b[1;32m     31\u001b[0m     \u001b[38;5;28;01mreturn\u001b[39;00m t\u001b[38;5;241m.\u001b[39mprocess(t\u001b[38;5;241m.\u001b[39ms)\n",
      "    \u001b[0;31m[... skipping hidden 13 frame]\u001b[0m\n",
      "Cell \u001b[0;32mIn[29], line 19\u001b[0m, in \u001b[0;36mTest.tree_unflatten\u001b[0;34m(cls, aux_data, children)\u001b[0m\n\u001b[1;32m     17\u001b[0m \u001b[38;5;129m@classmethod\u001b[39m\n\u001b[1;32m     18\u001b[0m \u001b[38;5;28;01mdef\u001b[39;00m \u001b[38;5;21mtree_unflatten\u001b[39m(\u001b[38;5;28mcls\u001b[39m, aux_data, children):\n\u001b[0;32m---> 19\u001b[0m     \u001b[38;5;28;01mreturn\u001b[39;00m \u001b[38;5;28;43mcls\u001b[39;49m\u001b[43m(\u001b[49m\u001b[38;5;241;43m*\u001b[39;49m\u001b[43mchildren\u001b[49m\u001b[43m)\u001b[49m\n",
      "Cell \u001b[0;32mIn[29], line 7\u001b[0m, in \u001b[0;36mTest.__init__\u001b[0;34m(self, s)\u001b[0m\n\u001b[1;32m      5\u001b[0m \u001b[38;5;28mprint\u001b[39m(\u001b[38;5;124m\"\u001b[39m\u001b[38;5;124msome stuff\u001b[39m\u001b[38;5;124m\"\u001b[39m)\n\u001b[1;32m      6\u001b[0m \u001b[38;5;28mself\u001b[39m\u001b[38;5;241m.\u001b[39mr \u001b[38;5;241m=\u001b[39m jnp\u001b[38;5;241m.\u001b[39mzeros(\u001b[38;5;241m100\u001b[39m)\n\u001b[0;32m----> 7\u001b[0m \u001b[38;5;28;01massert\u001b[39;00m \u001b[38;5;28;43mself\u001b[39;49m\u001b[38;5;241;43m.\u001b[39;49m\u001b[43ms\u001b[49m\u001b[43m \u001b[49m\u001b[38;5;241;43m<\u001b[39;49m\u001b[43m \u001b[49m\u001b[38;5;241;43m10\u001b[39;49m\n\u001b[1;32m      8\u001b[0m \u001b[38;5;28;01mdel\u001b[39;00m \u001b[38;5;28mself\u001b[39m\u001b[38;5;241m.\u001b[39mr\n",
      "    \u001b[0;31m[... skipping hidden 1 frame]\u001b[0m\n",
      "File \u001b[0;32m~/Library/CloudStorage/GoogleDrive-bccassese@gmail.com/My Drive/Columbia University/Research/Active_Projects/jorbit_dev/jorbit/.venv/lib/python3.13/site-packages/jax/_src/core.py:1554\u001b[0m, in \u001b[0;36mconcretization_function_error.<locals>.error\u001b[0;34m(self, arg)\u001b[0m\n\u001b[1;32m   1553\u001b[0m \u001b[38;5;28;01mdef\u001b[39;00m \u001b[38;5;21merror\u001b[39m(\u001b[38;5;28mself\u001b[39m, arg):\n\u001b[0;32m-> 1554\u001b[0m   \u001b[38;5;28;01mraise\u001b[39;00m TracerBoolConversionError(arg)\n",
      "\u001b[0;31mTracerBoolConversionError\u001b[0m: Attempted boolean conversion of traced array with shape bool[].\nThe error occurred while tracing the function process at /var/folders/mj/qxz5chg95r53_2nlv9f86qhm0000gn/T/ipykernel_65050/1229738365.py:21 for jit. This concrete value was not available in Python because it depends on the value of the argument self[<flat index 0>].\nSee https://jax.readthedocs.io/en/latest/errors.html#jax.errors.TracerBoolConversionError"
     ]
    }
   ],
   "source": [
    "@jax.tree_util.register_pytree_node_class\n",
    "class Test:\n",
    "    def __init__(self, s):\n",
    "        self.s = s\n",
    "        print(\"some stuff\")\n",
    "        self.r = jnp.zeros(100)\n",
    "        assert self.s < 10\n",
    "        del self.r\n",
    "\n",
    "    def tree_flatten(self):\n",
    "        children = (self.s,)\n",
    "        aux_data = None\n",
    "        return (children, aux_data)\n",
    "\n",
    "    @classmethod\n",
    "    def tree_unflatten(cls, aux_data, children):\n",
    "        return cls(*children)\n",
    "\n",
    "    @jax.jit\n",
    "    def process(self, t):\n",
    "        return t**2 + t\n",
    "\n",
    "\n",
    "t = Test(1.0)\n",
    "_ = t.process(1.0)\n",
    "\n",
    "\n",
    "@jax.jit\n",
    "def q(t):\n",
    "    return t.process(t.s)\n",
    "\n",
    "\n",
    "q(t)"
   ]
  },
  {
   "cell_type": "code",
   "execution_count": 30,
   "metadata": {},
   "outputs": [],
   "source": [
    "from astropy.time import Time\n",
    "from jorbit.ephemeris import Ephemeris\n",
    "\n",
    "e = Ephemeris()"
   ]
  },
  {
   "cell_type": "code",
   "execution_count": 31,
   "metadata": {},
   "outputs": [
    {
     "data": {
      "text/plain": [
       "{10: {'x': Array([-0.00665194,  0.00546611,  0.00248513], dtype=float64),\n",
       "  'v': Array([-6.83985927e-06, -5.37276641e-06, -2.09406947e-06], dtype=float64),\n",
       "  'a': Array([ 6.14347531e-09, -8.92051287e-09, -3.98993029e-09], dtype=float64)},\n",
       " 1: {'x': Array([ 0.23037548, -0.30268229, -0.18669482], dtype=float64),\n",
       "  'v': Array([0.01783733, 0.01561044, 0.00649018], dtype=float64),\n",
       "  'a': Array([-0.00086786,  0.00112827,  0.00069267], dtype=float64)},\n",
       " 2: {'x': Array([-0.45305527, -0.52456435, -0.20775883], dtype=float64),\n",
       "  'v': Array([ 0.01577462, -0.01110446, -0.0059947 ], dtype=float64),\n",
       "  'a': Array([0.00034785, 0.000413  , 0.00016382], dtype=float64)},\n",
       " 3: {'x': Array([-0.18579853,  0.8925394 ,  0.38702954], dtype=float64),\n",
       "  'v': Array([-0.01720373, -0.00294078, -0.00127453], dtype=float64),\n",
       "  'a': Array([ 5.57645088e-05, -2.76110661e-04, -1.19693461e-04], dtype=float64)},\n",
       " 4: {'x': Array([0.61421366, 1.26221831, 0.56217515], dtype=float64),\n",
       "  'v': Array([-0.01223161,  0.00619036,  0.0031696 ], dtype=float64),\n",
       "  'a': Array([-5.34276098e-05, -1.08160659e-04, -4.81689836e-05], dtype=float64)},\n",
       " 5: {'x': Array([ 3.03483282, -3.72503431, -1.67054644], dtype=float64),\n",
       "  'v': Array([0.00596295, 0.00451958, 0.00179211], dtype=float64),\n",
       "  'a': Array([-6.80019576e-06,  8.34013799e-06,  3.74035630e-06], dtype=float64)},\n",
       " 6: {'x': Array([ 5.48370983, -7.61905191, -3.38323386], dtype=float64),\n",
       "  'v': Array([0.00434973, 0.00289037, 0.00100649], dtype=float64),\n",
       "  'a': Array([-1.63683439e-06,  2.27433961e-06,  1.00989567e-06], dtype=float64)},\n",
       " 7: {'x': Array([15.34338115, 11.49945598,  4.81943994], dtype=float64),\n",
       "  'v': Array([-0.00250921,  0.00261525,  0.00118089], dtype=float64),\n",
       "  'a': Array([-5.88087574e-07, -4.40665287e-07, -1.84681814e-07], dtype=float64)},\n",
       " 8: {'x': Array([29.45387458, -4.56739251, -2.60275749], dtype=float64),\n",
       "  'v': Array([0.00052758, 0.00288322, 0.00116698], dtype=float64),\n",
       "  'a': Array([-3.25814336e-07,  5.04980278e-08,  2.87803786e-08], dtype=float64)},\n",
       " 9: {'x': Array([ 14.05397291, -28.29062334, -13.06305607], dtype=float64),\n",
       "  'v': Array([ 0.00293496,  0.00093056, -0.0005939 ], dtype=float64),\n",
       "  'a': Array([-1.04254826e-07,  2.09890036e-07,  9.69164014e-08], dtype=float64)}}"
      ]
     },
     "execution_count": 31,
     "metadata": {},
     "output_type": "execute_result"
    }
   ],
   "source": [
    "e.state(Time(\"2021-01-01T00:00:00\"))"
   ]
  },
  {
   "cell_type": "code",
   "execution_count": null,
   "metadata": {},
   "outputs": [
    {
     "name": "stdout",
     "output_type": "stream",
     "text": [
      "1.07 ms ± 19.2 μs per loop (mean ± std. dev. of 7 runs, 1,000 loops each)\n"
     ]
    }
   ],
   "source": [
    "%timeit e.state(Time(\"2021-01-01T00:00:00\"))[10][\"x\"].block_until_ready()"
   ]
  },
  {
   "cell_type": "code",
   "execution_count": 83,
   "metadata": {},
   "outputs": [
    {
     "name": "stderr",
     "output_type": "stream",
     "text": [
      "WARNING: AstropyDeprecationWarning: ``id_type``s 'majorbody' and 'id' are deprecated and replaced with ``None``, which has the same functionality. [astroquery.jplhorizons.core]\n"
     ]
    },
    {
     "data": {
      "text/html": [
       "<div><i>Table masked=True length=1</i>\n",
       "<table id=\"table5323291856\" class=\"table-striped table-bordered table-condensed\">\n",
       "<thead><tr><th>targetname</th><th>datetime_jd</th><th>datetime_str</th><th>x</th><th>y</th><th>z</th><th>vx</th><th>vy</th><th>vz</th><th>lighttime</th><th>range</th><th>range_rate</th></tr></thead>\n",
       "<thead><tr><th>---</th><th>d</th><th>---</th><th>AU</th><th>AU</th><th>AU</th><th>AU / d</th><th>AU / d</th><th>AU / d</th><th>d</th><th>AU</th><th>AU / d</th></tr></thead>\n",
       "<thead><tr><th>str25</th><th>float64</th><th>str30</th><th>float64</th><th>float64</th><th>float64</th><th>float64</th><th>float64</th><th>float64</th><th>float64</th><th>float64</th><th>float64</th></tr></thead>\n",
       "<tr><td>Earth-Moon Barycenter (3)</td><td>2459215.50080074</td><td>A.D. 2021-Jan-01 00:01:09.1839</td><td>-0.1857985333448159</td><td>0.8925393953089126</td><td>0.3870295356607404</td><td>-0.01720372762894869</td><td>-0.002940779545245006</td><td>-0.001274533654563454</td><td>0.005720211468932683</td><td>0.9904239136073262</td><td>7.914146143481989e-05</td></tr>\n",
       "</table></div>"
      ],
      "text/plain": [
       "<Table masked=True length=1>\n",
       "        targetname          datetime_jd    ...       range_rate     \n",
       "           ---                   d         ...         AU / d       \n",
       "          str25               float64      ...        float64       \n",
       "------------------------- ---------------- ... ---------------------\n",
       "Earth-Moon Barycenter (3) 2459215.50080074 ... 7.914146143481989e-05"
      ]
     },
     "execution_count": 83,
     "metadata": {},
     "output_type": "execute_result"
    }
   ],
   "source": [
    "from astroquery.jplhorizons import Horizons\n",
    "\n",
    "obj = Horizons(\n",
    "    id=\"3\",\n",
    "    epochs=Time(\"2021-01-01T00:00:00\").tdb.jd,\n",
    "    id_type=\"majorbody\",\n",
    "    location=\"@0\",\n",
    ")\n",
    "horizons_results = obj.vectors(refplane=\"earth\")\n",
    "horizons_calc = jnp.array(\n",
    "    [horizons_vec[\"x\"][0], horizons_vec[\"y\"][0], horizons_vec[\"z\"][0]]\n",
    ")\n",
    "horizons_results"
   ]
  },
  {
   "cell_type": "code",
   "execution_count": 84,
   "metadata": {},
   "outputs": [
    {
     "data": {
      "text/plain": [
       "Array([-0.18579853,  0.8925394 ,  0.38702954], dtype=float64)"
      ]
     },
     "execution_count": 84,
     "metadata": {},
     "output_type": "execute_result"
    }
   ],
   "source": [
    "e = Ephemeris()\n",
    "jorbit_calc = e.state(Time(\"2021-01-01T00:00:00\"))\n",
    "jorbit_calc = jorbit_calc[3][\"x\"]\n",
    "jorbit_calc"
   ]
  },
  {
   "cell_type": "code",
   "execution_count": 85,
   "metadata": {},
   "outputs": [
    {
     "data": {
      "text/plain": [
       "Array(0.19863445, dtype=float64)"
      ]
     },
     "execution_count": 85,
     "metadata": {},
     "output_type": "execute_result"
    }
   ],
   "source": [
    "jnp.linalg.norm(jorbit_calc - horizons_calc) * u.au.to(u.m)"
   ]
  },
  {
   "cell_type": "code",
   "execution_count": 86,
   "metadata": {},
   "outputs": [
    {
     "data": {
      "text/plain": [
       "Array(0.20586389, dtype=float64)"
      ]
     },
     "execution_count": 86,
     "metadata": {},
     "output_type": "execute_result"
    }
   ],
   "source": [
    "# 0.2 meters! what about jplephem?\n",
    "jplephem_calc = kernel.segments[2].compute(\n",
    "    Time(\"2021-01-01T00:00:00\").tdb.jd\n",
    ") * u.km.to(u.au)\n",
    "jnp.linalg.norm(jplephem_calc - horizons_calc) * u.au.to(u.m)"
   ]
  },
  {
   "cell_type": "code",
   "execution_count": 88,
   "metadata": {},
   "outputs": [
    {
     "data": {
      "text/plain": [
       "Array(7.22946136, dtype=float64)"
      ]
     },
     "execution_count": 88,
     "metadata": {},
     "output_type": "execute_result"
    }
   ],
   "source": [
    "jnp.linalg.norm(jplephem_calc - jorbit_calc) * u.au.to(u.mm)"
   ]
  },
  {
   "cell_type": "code",
   "execution_count": 89,
   "metadata": {},
   "outputs": [],
   "source": [
    "# 7mm difference between jplephem and jorbit, 0.2m between each and Horizons"
   ]
  },
  {
   "cell_type": "code",
   "execution_count": null,
   "metadata": {},
   "outputs": [],
   "source": []
  }
 ],
 "metadata": {
  "kernelspec": {
   "display_name": ".venv",
   "language": "python",
   "name": "python3"
  },
  "language_info": {
   "codemirror_mode": {
    "name": "ipython",
    "version": 3
   },
   "file_extension": ".py",
   "mimetype": "text/x-python",
   "name": "python",
   "nbconvert_exporter": "python",
   "pygments_lexer": "ipython3",
   "version": "3.13.0"
  }
 },
 "nbformat": 4,
 "nbformat_minor": 2
}
