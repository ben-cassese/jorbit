{
 "cells": [
  {
   "cell_type": "markdown",
   "metadata": {},
   "source": [
    "# scratch work"
   ]
  },
  {
   "cell_type": "code",
   "execution_count": 1,
   "metadata": {},
   "outputs": [
    {
     "data": {
      "text/plain": [
       "Array([[ 0.05419503, -0.08164417,  0.00249506],\n",
       "       [-0.04134904,  0.06280272, -0.00191058],\n",
       "       [-0.02331262,  0.00210376,  0.07367954],\n",
       "       [-0.02348517,  0.00205179, -0.07450105]], dtype=float64)"
      ]
     },
     "execution_count": 1,
     "metadata": {},
     "output_type": "execute_result"
    }
   ],
   "source": [
    "import jax\n",
    "\n",
    "jax.config.update(\"jax_enable_x64\", True)\n",
    "import jax.numpy as jnp\n",
    "import rebound\n",
    "import reboundx\n",
    "\n",
    "sim = rebound.Simulation()\n",
    "sim.add(m=1.0, x=-1.0, y=1.01, z=-0.05, vx=0.01, vy=0.02, vz=0.4)\n",
    "sim.add(m=1.3, x=1.0, y=-2.01, z=0.04, vx=-0.02, vy=-0.05, vz=-0.6)\n",
    "sim.add(m=0.01, x=10.0, y=-2.01, z=0.04, vx=-0.02, vy=-0.05, vz=-0.6)\n",
    "sim.add(m=0.01, x=10.0, y=-2.01, z=0.4, vx=-0.02, vy=-0.05, vz=0.6)\n",
    "rebx = reboundx.Extras(sim)\n",
    "gr = rebx.load_force(\"gr_full\")\n",
    "gr.params[\"c\"] = 10\n",
    "gr.params[\"max_iterations\"] = 100\n",
    "rebx.add_force(gr)\n",
    "sim.integrate(1e-300)\n",
    "\n",
    "reb_res = jnp.array([[p.ax, p.ay, p.az] for p in sim.particles])\n",
    "reb_res"
   ]
  },
  {
   "cell_type": "code",
   "execution_count": 3,
   "metadata": {},
   "outputs": [
    {
     "data": {
      "text/plain": [
       "Array([[ 0.00000000e+00,  0.00000000e+00,  0.00000000e+00],\n",
       "       [ 0.00000000e+00,  0.00000000e+00,  0.00000000e+00],\n",
       "       [ 3.46944695e-18,  0.00000000e+00, -1.38777878e-17],\n",
       "       [ 3.46944695e-18, -4.33680869e-19,  0.00000000e+00]],      dtype=float64)"
      ]
     },
     "execution_count": 3,
     "metadata": {},
     "output_type": "execute_result"
    }
   ],
   "source": [
    "from jorbit.accelerations.gr import gr_full\n",
    "\n",
    "sim = rebound.Simulation()\n",
    "sim.add(m=1.0, x=-1.0, y=1.01, z=-0.05, vx=0.01, vy=0.02, vz=0.4)\n",
    "sim.add(m=1.3, x=1.0, y=-2.01, z=0.04, vx=-0.02, vy=-0.05, vz=-0.6)\n",
    "sim.add(m=0.01, x=10.0, y=-2.01, z=0.04, vx=-0.02, vy=-0.05, vz=-0.6)\n",
    "sim.add(m=0.01, x=10.0, y=-2.01, z=0.4, vx=-0.02, vy=-0.05, vz=0.6)\n",
    "sim.integrate(1e-300)\n",
    "x0 = jnp.array([[p.x, p.y, p.z] for p in sim.particles])\n",
    "v0 = jnp.array([[p.vx, p.vy, p.vz] for p in sim.particles])\n",
    "gms = jnp.array([p.m for p in sim.particles])\n",
    "\n",
    "jorb_res = gr_full(x=x0, v=v0, gms=gms, c2=100)\n",
    "\n",
    "reb_res - jorb_res"
   ]
  },
  {
   "cell_type": "code",
   "execution_count": null,
   "metadata": {},
   "outputs": [],
   "source": []
  },
  {
   "cell_type": "code",
   "execution_count": null,
   "metadata": {},
   "outputs": [],
   "source": []
  }
 ],
 "metadata": {
  "kernelspec": {
   "display_name": ".venv",
   "language": "python",
   "name": "python3"
  },
  "language_info": {
   "codemirror_mode": {
    "name": "ipython",
    "version": 3
   },
   "file_extension": ".py",
   "mimetype": "text/x-python",
   "name": "python",
   "nbconvert_exporter": "python",
   "pygments_lexer": "ipython3",
   "version": "3.13.0"
  }
 },
 "nbformat": 4,
 "nbformat_minor": 2
}
