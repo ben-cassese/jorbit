{
 "cells": [
  {
   "cell_type": "markdown",
   "metadata": {},
   "source": [
    "# scratch work"
   ]
  },
  {
   "cell_type": "code",
   "execution_count": 132,
   "metadata": {},
   "outputs": [],
   "source": [
    "import jax\n",
    "\n",
    "jax.config.update(\"jax_enable_x64\", True)\n",
    "import astropy.units as u\n",
    "import jax.numpy as jnp\n",
    "\n",
    "# from tqdm import tqdm\n",
    "import matplotlib.pyplot as plt\n",
    "import numpy as np\n",
    "from astropy.coordinates import SkyCoord\n",
    "from astropy.time import Time\n",
    "from astroquery.jplhorizons import Horizons\n",
    "from numpy.polynomial import chebyshev\n",
    "\n",
    "from jorbit import Particle\n",
    "from jorbit.astrometry.sky_projection import sky_sep\n",
    "# from jorbit.utils.horizons import get_observer_positions\n"
   ]
  },
  {
   "cell_type": "code",
   "execution_count": 61,
   "metadata": {},
   "outputs": [],
   "source": [
    "t0 = Time(\"2020-01-01\")\n",
    "forward_times = t0 + jnp.arange(0, 20.001, 1*u.hour.to(u.year))*u.year\n",
    "reverse_times = t0 - jnp.arange(0, 20.001, 1*u.hour.to(u.year))*u.year\n",
    "\n",
    "forward_pos = jnp.load(\"forward_pos.npy\")\n",
    "reverse_pos = jnp.load(\"reverse_pos.npy\")"
   ]
  },
  {
   "cell_type": "code",
   "execution_count": 62,
   "metadata": {},
   "outputs": [
    {
     "data": {
      "text/plain": [
       "(Array([ 1.599354  , -1.16381977, -0.44247571], dtype=float64),\n",
       " Array([0.00918443, 0.0083583 , 0.00350141], dtype=float64))"
      ]
     },
     "execution_count": 62,
     "metadata": {},
     "output_type": "execute_result"
    }
   ],
   "source": [
    "t0 = Time(\"2020-01-01\")\n",
    "\n",
    "obj = Horizons(id=\"K19J92Q\", location=\"500@0\", epochs=t0.tdb.jd)\n",
    "vecs = obj.vectors(refplane=\"earth\")\n",
    "true_x0 = jnp.array([vecs[\"x\"], vecs[\"y\"], vecs[\"z\"]]).T[0]\n",
    "true_v0 = jnp.array([vecs[\"vx\"], vecs[\"vy\"], vecs[\"vz\"]]).T[0]\n",
    "true_x0, true_v0"
   ]
  },
  {
   "cell_type": "code",
   "execution_count": 63,
   "metadata": {},
   "outputs": [],
   "source": [
    "p = Particle(x=true_x0, v=true_v0, time=t0, gravity=\"newtonian solar system\")"
   ]
  },
  {
   "cell_type": "code",
   "execution_count": 64,
   "metadata": {},
   "outputs": [],
   "source": [
    "eph = p.ephemeris(forward_times[::10], observer=forward_pos[::10])"
   ]
  },
  {
   "cell_type": "code",
   "execution_count": 67,
   "metadata": {},
   "outputs": [
    {
     "data": {
      "text/latex": [
       "[$0^\\circ00{}^\\prime01.63890694{}^{\\prime\\prime}$\n",
       " $0^\\circ00{}^\\prime00.83724132{}^{\\prime\\prime}$\n",
       " $0^\\circ00{}^\\prime00.74587308{}^{\\prime\\prime}$\n",
       " $0^\\circ00{}^\\prime00.95865655{}^{\\prime\\prime}$\n",
       " $0^\\circ00{}^\\prime00.29307429{}^{\\prime\\prime}$\n",
       " $0^\\circ00{}^\\prime01.52307296{}^{\\prime\\prime}$\n",
       " $0^\\circ00{}^\\prime00.37243731{}^{\\prime\\prime}$\n",
       " $0^\\circ00{}^\\prime01.23412469{}^{\\prime\\prime}$\n",
       " $0^\\circ00{}^\\prime00.95313964{}^{\\prime\\prime}$\n",
       " $0^\\circ00{}^\\prime00.29434798{}^{\\prime\\prime}$\n",
       " $0^\\circ00{}^\\prime01.08658686{}^{\\prime\\prime}$\n",
       " $0^\\circ00{}^\\prime00.56868684{}^{\\prime\\prime}$\n",
       " $0^\\circ00{}^\\prime01.59200914{}^{\\prime\\prime}$\n",
       " $0^\\circ00{}^\\prime01.08166782{}^{\\prime\\prime}$\n",
       " $0^\\circ00{}^\\prime00.60357903{}^{\\prime\\prime}$\n",
       " $0^\\circ00{}^\\prime00.99991707{}^{\\prime\\prime}$\n",
       " $0^\\circ00{}^\\prime00.30421428{}^{\\prime\\prime}$\n",
       " $0^\\circ00{}^\\prime01.18868887{}^{\\prime\\prime}$\n",
       " $0^\\circ00{}^\\prime00.70553837{}^{\\prime\\prime}$\n",
       " $0^\\circ00{}^\\prime01.42633476{}^{\\prime\\prime}$\n",
       " $0^\\circ00{}^\\prime01.14270823{}^{\\prime\\prime}$\n",
       " $0^\\circ00{}^\\prime00.21289868{}^{\\prime\\prime}$\n",
       " $0^\\circ00{}^\\prime01.02011997{}^{\\prime\\prime}$\n",
       " $0^\\circ00{}^\\prime00.91877439{}^{\\prime\\prime}$\n",
       " $0^\\circ00{}^\\prime01.25748816{}^{\\prime\\prime}$\n",
       " $0^\\circ00{}^\\prime00.91091996{}^{\\prime\\prime}$\n",
       " $0^\\circ00{}^\\prime00.71277385{}^{\\prime\\prime}$\n",
       " $0^\\circ00{}^\\prime01.10023851{}^{\\prime\\prime}$\n",
       " $0^\\circ00{}^\\prime00.86380305{}^{\\prime\\prime}$\n",
       " $0^\\circ00{}^\\prime01.02575232{}^{\\prime\\prime}$\n",
       " $0^\\circ00{}^\\prime00.80576243{}^{\\prime\\prime}$\n",
       " $0^\\circ00{}^\\prime01.25188524{}^{\\prime\\prime}$\n",
       " $0^\\circ00{}^\\prime01.27966341{}^{\\prime\\prime}$\n",
       " $0^\\circ00{}^\\prime00.72173959{}^{\\prime\\prime}$\n",
       " $0^\\circ00{}^\\prime01.03526405{}^{\\prime\\prime}$\n",
       " $0^\\circ00{}^\\prime00.89997148{}^{\\prime\\prime}$]"
      ],
      "text/plain": [
       "<Angle [4.55251928e-04, 2.32567033e-04, 2.07186966e-04, 2.66293487e-04,\n",
       "        8.14095239e-05, 4.23075823e-04, 1.03454809e-04, 3.42812415e-04,\n",
       "        2.64761012e-04, 8.17633283e-05, 3.01829684e-04, 1.57968567e-04,\n",
       "        4.42224761e-04, 3.00463282e-04, 1.67660842e-04, 2.77754743e-04,\n",
       "        8.45039667e-05, 3.30191353e-04, 1.95982880e-04, 3.96204101e-04,\n",
       "        3.17418952e-04, 5.91385209e-05, 2.83366657e-04, 2.55215108e-04,\n",
       "        3.49302266e-04, 2.53033321e-04, 1.97992737e-04, 3.05621807e-04,\n",
       "        2.39945292e-04, 2.84931199e-04, 2.23822896e-04, 3.47745901e-04,\n",
       "        3.55462059e-04, 2.00483221e-04, 2.87573346e-04, 2.49992078e-04] deg>"
      ]
     },
     "execution_count": 67,
     "metadata": {},
     "output_type": "execute_result"
    }
   ],
   "source": [
    "obj = Horizons(id=\"K19J92Q\", location=\"500@399\", epochs=forward_times[::10][::500].tdb.jd)\n",
    "coord = obj.ephemerides(quantities=1, extra_precision=True)\n",
    "s = SkyCoord(coord[\"RA\"], coord[\"DEC\"], unit=(u.deg, u.deg))\n",
    "s.separation(eph[::500])"
   ]
  },
  {
   "cell_type": "code",
   "execution_count": 68,
   "metadata": {},
   "outputs": [
    {
     "data": {
      "text/plain": [
       "[<matplotlib.lines.Line2D at 0x319b7e0d0>]"
      ]
     },
     "execution_count": 68,
     "metadata": {},
     "output_type": "execute_result"
    },
    {
     "data": {
      "image/png": "[encoded data removed]",
      "text/plain": [
       "<Figure size 711.1x400 with 1 Axes>"
      ]
     },
     "metadata": {},
     "output_type": "display_data"
    }
   ],
   "source": [
    "r = jnp.unwrap(eph.ra.rad)\n",
    "plt.plot(r)"
   ]
  },
  {
   "cell_type": "code",
   "execution_count": 98,
   "metadata": {},
   "outputs": [
    {
     "data": {
      "text/plain": [
       "((10,), (10,), (10, 14, 3, 1824))"
      ]
     },
     "execution_count": 98,
     "metadata": {},
     "output_type": "execute_result"
    }
   ],
   "source": [
    "from jorbit.ephemeris.ephemeris import Ephemeris\n",
    "\n",
    "eph_ex = Ephemeris(\n",
    "        earliest_time=Time(\"2000-01-01\"),\n",
    "        latest_time=Time(\"2040-01-01\"),\n",
    "        ssos=\"default planets\",\n",
    ")\n",
    "\n",
    "eph_ex.processor.init.shape, eph_ex.processor.intlen.shape, eph_ex.processor.coeffs.shape"
   ]
  },
  {
   "cell_type": "code",
   "execution_count": 99,
   "metadata": {},
   "outputs": [
    {
     "data": {
      "text/plain": [
       "Array(157.70020534, dtype=float64)"
      ]
     },
     "execution_count": 99,
     "metadata": {},
     "output_type": "execute_result"
    }
   ],
   "source": [
    "eph_ex.processor.intlen[0] * u.hour.to(u.year)"
   ]
  },
  {
   "cell_type": "code",
   "execution_count": null,
   "metadata": {},
   "outputs": [],
   "source": []
  },
  {
   "cell_type": "code",
   "execution_count": 205,
   "metadata": {},
   "outputs": [],
   "source": [
    "degree = 10\n",
    "\n",
    "t = forward_times.tdb.jd[::10]\n",
    "x = jnp.unwrap(eph.ra.rad)\n",
    "\n",
    "chunk_size = 30 # days\n",
    "num_chunks = int(jnp.ceil((t[-1] - t[0]) / chunk_size))\n",
    "\n",
    "i = 0\n",
    "inds = (t >= t[0] + i*chunk_size) & (t < t[0] + (i+1)*chunk_size)\n",
    "t_chunk = t[inds]\n",
    "x_chunk = x[inds]\n",
    "\n",
    "# Scale time to [-1, 1] domain\n",
    "t_min, t_max = t0.tdb.jd + i * chunk_size, t0.tdb.jd + (i + 1) * chunk_size\n",
    "t_scaled = 2 * (t_chunk - t_min) / (t_max - t_min) - 1\n",
    "\n",
    "# Fit Chebyshev polynomials\n",
    "coefficients = chebyshev.chebfit(t_scaled, x_chunk, degree)\n",
    "\n",
    "# Evaluate Chebyshev polynomials\n",
    "x_fit = chebyshev.chebval(t_scaled, coefficients)\n",
    "\n",
    "# j = 2 * (Time(\"2020-01-02\").tdb.jd - t_min) / (t_max - t_min) - 1\n",
    "# j"
   ]
  },
  {
   "cell_type": "code",
   "execution_count": 202,
   "metadata": {},
   "outputs": [
    {
     "data": {
      "text/plain": [
       "[<matplotlib.lines.Line2D at 0x37b1d16d0>]"
      ]
     },
     "execution_count": 202,
     "metadata": {},
     "output_type": "execute_result"
    },
    {
     "data": {
      "image/png": "[encoded data removed]",
      "text/plain": [
       "<Figure size 711.1x400 with 1 Axes>"
      ]
     },
     "metadata": {},
     "output_type": "display_data"
    }
   ],
   "source": [
    "plt.plot(t_chunk, (x_chunk-x_fit)*u.rad.to(u.arcsec))\n",
    "# plt.plot(t_chunk, )"
   ]
  },
  {
   "cell_type": "code",
   "execution_count": 196,
   "metadata": {},
   "outputs": [
    {
     "data": {
      "text/plain": [
       "Array([5.71407655, 5.71799588, 5.72191133, 5.72582289, 5.72973056,\n",
       "       5.73363435, 5.73753425, 5.74143026, 5.74532238, 5.74921061,\n",
       "       5.75309496, 5.75697543, 5.76085202, 5.76472474, 5.76859359,\n",
       "       5.77245858, 5.77631972, 5.78017701, 5.78403046, 5.78788009,\n",
       "       5.7917259 , 5.79556792, 5.79940614, 5.80324058, 5.80707126,\n",
       "       5.8108982 , 5.8147214 , 5.81854088, 5.82235665, 5.82616874,\n",
       "       5.82997714, 5.83378189, 5.83758297, 5.84138042, 5.84517423,\n",
       "       5.84896442, 5.85275099, 5.85653396, 5.86031333, 5.8640891 ,\n",
       "       5.86786129, 5.87162989, 5.87539491, 5.87915635, 5.88291422,\n",
       "       5.88666852, 5.89041925, 5.89416641, 5.89791001, 5.90165003,\n",
       "       5.9053865 , 5.9091194 , 5.91284875, 5.91657453, 5.92029674,\n",
       "       5.9240154 , 5.9277305 , 5.93144205, 5.93515003, 5.93885446,\n",
       "       5.94255533, 5.94625265, 5.94994642, 5.95363664, 5.95732331,\n",
       "       5.96100643, 5.96468601, 5.96836206, 5.97203456, 5.97570354,\n",
       "       5.97936898, 5.9830309 ], dtype=float64)"
      ]
     },
     "execution_count": 196,
     "metadata": {},
     "output_type": "execute_result"
    }
   ],
   "source": [
    "x_chunk"
   ]
  },
  {
   "cell_type": "code",
   "execution_count": 247,
   "metadata": {},
   "outputs": [
    {
     "name": "stdout",
     "output_type": "stream",
     "text": [
      "-0.9333333333022893\n"
     ]
    },
    {
     "data": {
      "text/plain": [
       "np.float64(5.432086504004087)"
      ]
     },
     "execution_count": 247,
     "metadata": {},
     "output_type": "execute_result"
    }
   ],
   "source": [
    "\n",
    "degree = 8\n",
    "\n",
    "t = forward_times.tdb.jd[::10]\n",
    "\n",
    "r = jnp.unwrap(eph.ra.rad)\n",
    "d = eph.dec.rad\n",
    "\n",
    "chunk_size = 30  # days\n",
    "num_chunks = int(jnp.ceil((t[-1] - t[0]) / chunk_size))\n",
    "\n",
    "init = (t[0] - 2451545.0) * 86400.0\n",
    "# intlen = (t[-1] - t[0]) * 86400.0\n",
    "intlen = chunk_size * 86400.0\n",
    "\n",
    "coeffs = jnp.zeros((degree + 1, 2, num_chunks))\n",
    "for i in range(num_chunks):\n",
    "    inds = (t >= t[0] + i * chunk_size) & (t < t[0] + (i + 1) * chunk_size)\n",
    "    t_chunk = t[inds]\n",
    "    r_chunk = r[inds]\n",
    "    d_chunk = d[inds]\n",
    "\n",
    "    # Scale time to [-1, 1] domain\n",
    "    t_min, t_max = t0.tdb.jd + i * chunk_size, t0.tdb.jd + (i + 1) * chunk_size\n",
    "    t_scaled = 2 * (t_chunk - t_min) / (t_max - t_min) - 1\n",
    "\n",
    "    # Fit Chebyshev polynomials\n",
    "    coefficients = chebyshev.chebfit(t_scaled, r_chunk, degree)\n",
    "    coefficients = coefficients[::-1]\n",
    "    coeffs = coeffs.at[:, 0, i].set(coefficients)\n",
    "\n",
    "    coefficients = chebyshev.chebfit(t_scaled, d_chunk, degree)\n",
    "    coefficients = coefficients[::-1]\n",
    "    coeffs = coeffs.at[:, 1, i].set(coefficients)\n",
    "\n",
    "\n",
    "\n",
    "t = forward_times.tdb.jd[::10]\n",
    "x = jnp.unwrap(eph.ra.rad)\n",
    "# x = eph.dec.rad\n",
    "\n",
    "chunk_size = 30 # days\n",
    "num_chunks = int(jnp.ceil((t[-1] - t[0]) / chunk_size))\n",
    "\n",
    "i = 0\n",
    "inds = (t >= t[0] + i*chunk_size) & (t < t[0] + (i+1)*chunk_size)\n",
    "t_chunk = t[inds]\n",
    "x_chunk = x[inds]\n",
    "\n",
    "# Scale time to [-1, 1] domain\n",
    "t_min, t_max = t0.tdb.jd + i * chunk_size, t0.tdb.jd + (i + 1) * chunk_size\n",
    "t_scaled = 2 * (t_chunk - t_min) / (t_max - t_min) - 1\n",
    "\n",
    "# Fit Chebyshev polynomials\n",
    "coefficients = chebyshev.chebfit(t_scaled, x_chunk, degree)\n",
    "\n",
    "# Evaluate Chebyshev polynomials\n",
    "# x_fit = chebyshev.chebval(t_scaled, coefficients)\n",
    "\n",
    "t_scaled = 2 * (Time(\"2020-01-02\").tdb.jd - t_min) / (t_max - t_min) - 1\n",
    "print(t_scaled)\n",
    "x_fit = chebyshev.chebval(t_scaled, coefficients)\n",
    "x_fit"
   ]
  },
  {
   "cell_type": "code",
   "execution_count": 259,
   "metadata": {},
   "outputs": [
    {
     "name": "stdout",
     "output_type": "stream",
     "text": [
      "0\n",
      "86400.00004029274\n",
      "86400.00004029274\n",
      "-0.9333333333022432\n"
     ]
    },
    {
     "data": {
      "text/plain": [
       "(Array(5.4320865, dtype=float64), Array(-0.29445966, dtype=float64))"
      ]
     },
     "execution_count": 259,
     "metadata": {},
     "output_type": "execute_result"
    }
   ],
   "source": [
    "# @jax.jit\n",
    "def eval_cheby(coefficients, x):\n",
    "    b_ii = jnp.zeros(2)\n",
    "    b_i = jnp.zeros(2)\n",
    "\n",
    "    def scan_func(X, a):\n",
    "        b_i, b_ii = X\n",
    "        tmp = b_i\n",
    "        b_i = a + 2 * x * b_i - b_ii\n",
    "        b_ii = tmp\n",
    "        return (b_i, b_ii), b_i\n",
    "\n",
    "    (b_i, b_ii), s = jax.lax.scan(scan_func, (b_i, b_ii), coefficients[:-1])\n",
    "    return coefficients[-1] + x * b_i - b_ii, s\n",
    "\n",
    "# @jax.jit\n",
    "def _individual_state(init, intlen, coeffs, tdb):\n",
    "    tdb2 = 0.0  # leaving in case we ever decide to increase the time precision and use 2 floats\n",
    "    _, _, n = coeffs.shape\n",
    "\n",
    "    # 2451545.0 is the J2000 epoch in TDB\n",
    "    index1, offset1 = jnp.divmod((tdb - 2451545.0) * 86400.0 - init, intlen)\n",
    "    index2, offset2 = jnp.divmod(tdb2 * 86400.0, intlen)\n",
    "    index3, offset = jnp.divmod(offset1 + offset2, intlen)\n",
    "    index = (index1 + index2 + index3).astype(int)\n",
    "    print(index)\n",
    "    print(offset1)\n",
    "    print(offset)\n",
    "\n",
    "    omegas = index == n\n",
    "    index = jnp.where(omegas, index - 1, index)\n",
    "    offset = jnp.where(omegas, offset + intlen, offset)\n",
    "\n",
    "    coefficients = coeffs[:, :, index]\n",
    "\n",
    "    s = 2.0 * offset / intlen - 1.0\n",
    "    print(s)\n",
    "\n",
    "    # Position\n",
    "    (approx_ra, approx_dec), _ = eval_cheby(coefficients, s)  # in km here\n",
    "    # return eval_cheby(coefficients, s)[0]\n",
    "    return approx_ra , approx_dec\n",
    "\n",
    "_individual_state(init, intlen, coeffs, Time(\"2020-01-02\").tdb.jd)"
   ]
  },
  {
   "cell_type": "code",
   "execution_count": 250,
   "metadata": {},
   "outputs": [
    {
     "name": "stdout",
     "output_type": "stream",
     "text": [
      "0\n",
      "86400.00004029274\n",
      "86400.00004029274\n",
      "-0.9333333333022432\n"
     ]
    },
    {
     "data": {
      "text/plain": [
       "Array([ 5.4320865 , -0.29445966], dtype=float64)"
      ]
     },
     "execution_count": 250,
     "metadata": {},
     "output_type": "execute_result"
    }
   ],
   "source": [
    "_individual_state(init, intlen, coeffs, Time(\"2020-01-02\").tdb.jd)"
   ]
  },
  {
   "cell_type": "code",
   "execution_count": 235,
   "metadata": {},
   "outputs": [
    {
     "data": {
      "text/plain": [
       "np.float64(5.432086504004087)"
      ]
     },
     "execution_count": 235,
     "metadata": {},
     "output_type": "execute_result"
    }
   ],
   "source": [
    "chebyshev.chebval(t_scaled, coeffs[:, 0, 0])"
   ]
  },
  {
   "cell_type": "code",
   "execution_count": 223,
   "metadata": {},
   "outputs": [
    {
     "data": {
      "text/plain": [
       "np.float64(631152000.0000403)"
      ]
     },
     "execution_count": 223,
     "metadata": {},
     "output_type": "execute_result"
    }
   ],
   "source": [
    "intlen"
   ]
  },
  {
   "cell_type": "code",
   "execution_count": 188,
   "metadata": {},
   "outputs": [
    {
     "data": {
      "text/plain": [
       "(9, 2, 244)"
      ]
     },
     "execution_count": 188,
     "metadata": {},
     "output_type": "execute_result"
    }
   ],
   "source": [
    "coeffs.shape"
   ]
  },
  {
   "cell_type": "code",
   "execution_count": null,
   "metadata": {},
   "outputs": [],
   "source": []
  },
  {
   "cell_type": "code",
   "execution_count": null,
   "metadata": {},
   "outputs": [],
   "source": []
  },
  {
   "cell_type": "code",
   "execution_count": 252,
   "metadata": {},
   "outputs": [],
   "source": [
    "def generate_ephem(particle_name, step_size, chunk_size, degree):\n",
    "    # step size in hours, chunk size in days\n",
    "\n",
    "    obj = Horizons(id=particle_name, location=\"500@0\", epochs=t0.tdb.jd)\n",
    "    vecs = obj.vectors(refplane=\"earth\")\n",
    "    x0 = jnp.array([vecs[\"x\"], vecs[\"y\"], vecs[\"z\"]]).T[0]\n",
    "    v0 = jnp.array([vecs[\"vx\"], vecs[\"vy\"], vecs[\"vz\"]]).T[0]\n",
    "    particle = Particle(x=x0, v=v0, time=t0, gravity=\"newtonian solar system\")\n",
    "\n",
    "    t = forward_times[::step_size].tdb.jd\n",
    "\n",
    "    eph = particle.ephemeris(t, observer=forward_pos[::step_size])\n",
    "\n",
    "    r = jnp.unwrap(eph.ra.rad)\n",
    "    d = eph.dec.rad\n",
    "\n",
    "    num_chunks = int(jnp.ceil((t[-1] - t[0]) / chunk_size))\n",
    "\n",
    "    init = (t[0] - 2451545.0) * 86400.0\n",
    "    intlen = chunk_size * 86400.0\n",
    "\n",
    "    coeffs = jnp.zeros((degree + 1, 2, num_chunks))\n",
    "    for i in range(num_chunks):\n",
    "        inds = (t >= t[0] + i * chunk_size) & (t < t[0] + (i + 1) * chunk_size)\n",
    "        t_chunk = t[inds]\n",
    "        r_chunk = r[inds]\n",
    "        d_chunk = d[inds]\n",
    "\n",
    "        # Scale time to [-1, 1] domain\n",
    "        t_min, t_max = t0.tdb.jd + i * chunk_size, t0.tdb.jd + (i + 1) * chunk_size\n",
    "        t_scaled = 2 * (t_chunk - t_min) / (t_max - t_min) - 1\n",
    "\n",
    "        # Fit Chebyshev polynomials\n",
    "        coefficients = chebyshev.chebfit(t_scaled, r_chunk, degree)\n",
    "        coefficients = coefficients[::-1]\n",
    "        coeffs = coeffs.at[:, 0, i].set(coefficients)\n",
    "\n",
    "        coefficients = chebyshev.chebfit(t_scaled, d_chunk, degree)\n",
    "        coefficients = coefficients[::-1]\n",
    "        coeffs = coeffs.at[:, 1, i].set(coefficients)\n",
    "\n",
    "    return init, intlen, coeffs\n",
    "\n",
    "\n",
    "\n",
    "def test_ephem(particle_name, ephem, t):\n",
    "    obj = Horizons(id=particle_name, location=\"500@399\", epochs=t.utc.jd, id_type=\"smallbody\")\n",
    "    coord = obj.ephemerides(quantities=1, extra_precision=True)\n",
    "    s = SkyCoord(coord[\"RA\"], coord[\"DEC\"], unit=(u.deg, u.deg))\n",
    "\n",
    "    ra, dec = _individual_state(*ephem, t.tdb.jd)\n",
    "\n",
    "    return ra, dec, sky_sep(ra, dec, s.ra.rad, s.dec.rad)\n"
   ]
  },
  {
   "cell_type": "code",
   "execution_count": 253,
   "metadata": {},
   "outputs": [],
   "source": [
    "q = generate_ephem(\"K19J92Q\", 10, 30, 10)"
   ]
  },
  {
   "cell_type": "code",
   "execution_count": 260,
   "metadata": {},
   "outputs": [
    {
     "name": "stdout",
     "output_type": "stream",
     "text": [
      "122\n",
      "228389.76031696796\n",
      "228389.76031696796\n",
      "-0.8237733330887593\n"
     ]
    },
    {
     "data": {
      "text/plain": [
       "(Array(22.4999006, dtype=float64),\n",
       " Array(-0.22016556, dtype=float64),\n",
       " Array([0.17733964], dtype=float64))"
      ]
     },
     "execution_count": 260,
     "metadata": {},
     "output_type": "execute_result"
    }
   ],
   "source": [
    "delta = np.random.uniform(0, 40)\n",
    "t_test = t0 + delta * u.year\n",
    "test_ephem(\"K19J92Q\", q, t0+10.1434*u.day+10*u.year)"
   ]
  },
  {
   "cell_type": "code",
   "execution_count": null,
   "metadata": {},
   "outputs": [],
   "source": []
  },
  {
   "cell_type": "code",
   "execution_count": null,
   "metadata": {},
   "outputs": [],
   "source": []
  },
  {
   "cell_type": "code",
   "execution_count": null,
   "metadata": {},
   "outputs": [],
   "source": []
  },
  {
   "cell_type": "code",
   "execution_count": 20,
   "metadata": {},
   "outputs": [],
   "source": [
    "from jorbit.accelerations import create_newtonian_ephemeris_acceleration_func\n",
    "from jorbit.ephemeris.ephemeris import Ephemeris\n",
    "from jorbit.integrators.ias15 import ias15_evolve, initialize_ias15_integrator_state\n",
    "from jorbit.utils.states import SystemState\n",
    "\n",
    "eph = Ephemeris(\n",
    "        earliest_time=Time(\"2000-01-01\"),\n",
    "        latest_time=Time(\"2040-01-01\"),\n",
    "        ssos=\"default planets\",\n",
    ")\n",
    "acc_func = create_newtonian_ephemeris_acceleration_func(eph.processor)\n",
    "\n",
    "\n",
    "state = SystemState(\n",
    "    tracer_positions=jnp.repeat(true_x0[None], 100_000, axis=0),\n",
    "    tracer_velocities=jnp.repeat(true_v0[None], 100_000, axis=0),\n",
    "    massive_positions=jnp.empty((0, 3)),\n",
    "    massive_velocities=jnp.empty((0, 3)),\n",
    "    log_gms=jnp.empty(0),\n",
    "    time=t0.tdb.jd,\n",
    "    acceleration_func_kwargs={}\n",
    ")\n",
    "a0 = acc_func(state)\n",
    "integrator_state = initialize_ias15_integrator_state(a0)\n"
   ]
  },
  {
   "cell_type": "code",
   "execution_count": 22,
   "metadata": {},
   "outputs": [
    {
     "data": {
      "text/plain": [
       "(Array([[[1.84947514, 1.73404375, 0.72585711],\n",
       "         [1.84947514, 1.73404375, 0.72585711],\n",
       "         [1.84947514, 1.73404375, 0.72585711],\n",
       "         ...,\n",
       "         [1.84947514, 1.73404375, 0.72585711],\n",
       "         [1.84947514, 1.73404375, 0.72585711],\n",
       "         [1.84947514, 1.73404375, 0.72585711]]], dtype=float64),\n",
       " Array([[[-0.00588021,  0.00754745,  0.00294143],\n",
       "         [-0.00588021,  0.00754745,  0.00294143],\n",
       "         [-0.00588021,  0.00754745,  0.00294143],\n",
       "         ...,\n",
       "         [-0.00588021,  0.00754745,  0.00294143],\n",
       "         [-0.00588021,  0.00754745,  0.00294143],\n",
       "         [-0.00588021,  0.00754745,  0.00294143]]], dtype=float64),\n",
       " SystemState(tracer_positions=Array([[1.84947514, 1.73404375, 0.72585711],\n",
       "        [1.84947514, 1.73404375, 0.72585711],\n",
       "        [1.84947514, 1.73404375, 0.72585711],\n",
       "        ...,\n",
       "        [1.84947514, 1.73404375, 0.72585711],\n",
       "        [1.84947514, 1.73404375, 0.72585711],\n",
       "        [1.84947514, 1.73404375, 0.72585711]], dtype=float64), tracer_velocities=Array([[-0.00588021,  0.00754745,  0.00294143],\n",
       "        [-0.00588021,  0.00754745,  0.00294143],\n",
       "        [-0.00588021,  0.00754745,  0.00294143],\n",
       "        ...,\n",
       "        [-0.00588021,  0.00754745,  0.00294143],\n",
       "        [-0.00588021,  0.00754745,  0.00294143],\n",
       "        [-0.00588021,  0.00754745,  0.00294143]], dtype=float64), massive_positions=Array([], shape=(0, 3), dtype=float64), massive_velocities=Array([], shape=(0, 3), dtype=float64), log_gms=Array([], shape=(0,), dtype=float64), time=Array(2459149.50080072, dtype=float64), acceleration_func_kwargs={}),\n",
       " IAS15IntegratorState(g=IAS15Helper(p0=Array([[ 6.63897942e-07, -3.20745860e-07, -1.18559999e-07],\n",
       "        [ 6.63897942e-07, -3.20745860e-07, -1.18559999e-07],\n",
       "        [ 6.63897942e-07, -3.20745860e-07, -1.18559999e-07],\n",
       "        ...,\n",
       "        [ 6.63897942e-07, -3.20745860e-07, -1.18559999e-07],\n",
       "        [ 6.63897942e-07, -3.20745860e-07, -1.18559999e-07],\n",
       "        [ 6.63897942e-07, -3.20745860e-07, -1.18559999e-07]],      dtype=float64), p1=Array([[-1.83384039e-09,  5.93940260e-09,  2.35794806e-09],\n",
       "        [-1.83384039e-09,  5.93940260e-09,  2.35794806e-09],\n",
       "        [-1.83384039e-09,  5.93940260e-09,  2.35794806e-09],\n",
       "        ...,\n",
       "        [-1.83384039e-09,  5.93940260e-09,  2.35794806e-09],\n",
       "        [-1.83384039e-09,  5.93940260e-09,  2.35794806e-09],\n",
       "        [-1.83384039e-09,  5.93940260e-09,  2.35794806e-09]],      dtype=float64), p2=Array([[-1.19310543e-11, -6.02003585e-11, -2.43755100e-11],\n",
       "        [-1.19310543e-11, -6.02003585e-11, -2.43755100e-11],\n",
       "        [-1.19310543e-11, -6.02003585e-11, -2.43755100e-11],\n",
       "        ...,\n",
       "        [-1.19310543e-11, -6.02003585e-11, -2.43755100e-11],\n",
       "        [-1.19310543e-11, -6.02003585e-11, -2.43755100e-11],\n",
       "        [-1.19310543e-11, -6.02003585e-11, -2.43755100e-11]],      dtype=float64), p3=Array([[5.10585497e-13, 4.18819924e-13, 1.75012619e-13],\n",
       "        [5.10585497e-13, 4.18819924e-13, 1.75012619e-13],\n",
       "        [5.10585497e-13, 4.18819924e-13, 1.75012619e-13],\n",
       "        ...,\n",
       "        [5.10585497e-13, 4.18819924e-13, 1.75012619e-13],\n",
       "        [5.10585497e-13, 4.18819924e-13, 1.75012619e-13],\n",
       "        [5.10585497e-13, 4.18819924e-13, 1.75012619e-13]], dtype=float64), p4=Array([[-7.87042275e-15, -1.79624803e-15, -7.70632300e-16],\n",
       "        [-7.87042275e-15, -1.79624803e-15, -7.70632300e-16],\n",
       "        [-7.87042275e-15, -1.79624803e-15, -7.70632300e-16],\n",
       "        ...,\n",
       "        [-7.87042275e-15, -1.79624803e-15, -7.70632300e-16],\n",
       "        [-7.87042275e-15, -1.79624803e-15, -7.70632300e-16],\n",
       "        [-7.87042275e-15, -1.79624803e-15, -7.70632300e-16]],      dtype=float64), p5=Array([[-3.14533118e-16,  5.57990476e-17,  6.54510419e-17],\n",
       "        [-3.14533118e-16,  5.57990476e-17,  6.54510419e-17],\n",
       "        [-3.14533118e-16,  5.57990476e-17,  6.54510419e-17],\n",
       "        ...,\n",
       "        [-3.14533118e-16,  5.57990476e-17,  6.54510419e-17],\n",
       "        [-3.14533118e-16,  5.57990476e-17,  6.54510419e-17],\n",
       "        [-3.14533118e-16,  5.57990476e-17,  6.54510419e-17]],      dtype=float64), p6=Array([[2.32491354e-16, 2.22869264e-16, 1.15702762e-16],\n",
       "        [2.32491354e-16, 2.22869264e-16, 1.15702762e-16],\n",
       "        [2.32491354e-16, 2.22869264e-16, 1.15702762e-16],\n",
       "        ...,\n",
       "        [2.32491354e-16, 2.22869264e-16, 1.15702762e-16],\n",
       "        [2.32491354e-16, 2.22869264e-16, 1.15702762e-16],\n",
       "        [2.32491354e-16, 2.22869264e-16, 1.15702762e-16]], dtype=float64)), b=IAS15Helper(p0=Array([[-3.31797428e-06,  1.64418179e-06,  6.09077219e-07],\n",
       "        [-3.31797428e-06,  1.64418179e-06,  6.09077219e-07],\n",
       "        [-3.31797428e-06,  1.64418179e-06,  6.09077219e-07],\n",
       "        ...,\n",
       "        [-3.31797428e-06,  1.64418179e-06,  6.09077219e-07],\n",
       "        [-3.31797428e-06,  1.64418179e-06,  6.09077219e-07],\n",
       "        [-3.31797428e-06,  1.64418179e-06,  6.09077219e-07]],      dtype=float64), p1=Array([[ 1.50505019e-07, -4.94007620e-07, -1.96153484e-07],\n",
       "        [ 1.50505019e-07, -4.94007620e-07, -1.96153484e-07],\n",
       "        [ 1.50505019e-07, -4.94007620e-07, -1.96153484e-07],\n",
       "        ...,\n",
       "        [ 1.50505019e-07, -4.94007620e-07, -1.96153484e-07],\n",
       "        [ 1.50505019e-07, -4.94007620e-07, -1.96153484e-07],\n",
       "        [ 1.50505019e-07, -4.94007620e-07, -1.96153484e-07]],      dtype=float64), p2=Array([[1.14677487e-08, 5.61457868e-08, 2.27355624e-08],\n",
       "        [1.14677487e-08, 5.61457868e-08, 2.27355624e-08],\n",
       "        [1.14677487e-08, 5.61457868e-08, 2.27355624e-08],\n",
       "        ...,\n",
       "        [1.14677487e-08, 5.61457868e-08, 2.27355624e-08],\n",
       "        [1.14677487e-08, 5.61457868e-08, 2.27355624e-08],\n",
       "        [1.14677487e-08, 5.61457868e-08, 2.27355624e-08]], dtype=float64), p3=Array([[-5.06768578e-09, -4.14740465e-09, -1.74054527e-09],\n",
       "        [-5.06768578e-09, -4.14740465e-09, -1.74054527e-09],\n",
       "        [-5.06768578e-09, -4.14740465e-09, -1.74054527e-09],\n",
       "        ...,\n",
       "        [-5.06768578e-09, -4.14740465e-09, -1.74054527e-09],\n",
       "        [-5.06768578e-09, -4.14740465e-09, -1.74054527e-09],\n",
       "        [-5.06768578e-09, -4.14740465e-09, -1.74054527e-09]],      dtype=float64), p4=Array([[5.52177342e-10, 3.30674813e-11, 2.51315094e-11],\n",
       "        [5.52177342e-10, 3.30674813e-11, 2.51315094e-11],\n",
       "        [5.52177342e-10, 3.30674813e-11, 2.51315094e-11],\n",
       "        ...,\n",
       "        [5.52177342e-10, 3.30674813e-11, 2.51315094e-11],\n",
       "        [5.52177342e-10, 3.30674813e-11, 2.51315094e-11],\n",
       "        [5.52177342e-10, 3.30674813e-11, 2.51315094e-11]], dtype=float64), p5=Array([[-1.04840690e-10, -3.89067199e-12, -2.40917830e-12],\n",
       "        [-1.04840690e-10, -3.89067199e-12, -2.40917830e-12],\n",
       "        [-1.04840690e-10, -3.89067199e-12, -2.40917830e-12],\n",
       "        ...,\n",
       "        [-1.04840690e-10, -3.89067199e-12, -2.40917830e-12],\n",
       "        [-1.04840690e-10, -3.89067199e-12, -2.40917830e-12],\n",
       "        [-1.04840690e-10, -3.89067199e-12, -2.40917830e-12]],      dtype=float64), p6=Array([[-1.41444183e-11, -1.12069635e-11, -4.15820759e-12],\n",
       "        [-1.41444183e-11, -1.12069635e-11, -4.15820759e-12],\n",
       "        [-1.41444183e-11, -1.12069635e-11, -4.15820759e-12],\n",
       "        ...,\n",
       "        [-1.41444183e-11, -1.12069635e-11, -4.15820759e-12],\n",
       "        [-1.41444183e-11, -1.12069635e-11, -4.15820759e-12],\n",
       "        [-1.41444183e-11, -1.12069635e-11, -4.15820759e-12]],      dtype=float64)), e=IAS15Helper(p0=Array([[ 2.64121755e-06, -1.23741179e-06, -4.56152757e-07],\n",
       "        [ 2.64121755e-06, -1.23741179e-06, -4.56152757e-07],\n",
       "        [ 2.64121755e-06, -1.23741179e-06, -4.56152757e-07],\n",
       "        ...,\n",
       "        [ 2.64121755e-06, -1.23741179e-06, -4.56152757e-07],\n",
       "        [ 2.64121755e-06, -1.23741179e-06, -4.56152757e-07],\n",
       "        [ 2.64121755e-06, -1.23741179e-06, -4.56152757e-07]],      dtype=float64), p1=Array([[-2.98342083e-08,  9.23974959e-08,  3.66614475e-08],\n",
       "        [-2.98342083e-08,  9.23974959e-08,  3.66614475e-08],\n",
       "        [-2.98342083e-08,  9.23974959e-08,  3.66614475e-08],\n",
       "        ...,\n",
       "        [-2.98342083e-08,  9.23974959e-08,  3.66614475e-08],\n",
       "        [-2.98342083e-08,  9.23974959e-08,  3.66614475e-08],\n",
       "        [-2.98342083e-08,  9.23974959e-08,  3.66614475e-08]],      dtype=float64), p2=Array([[-6.55154261e-10, -3.76200097e-09, -1.52206734e-09],\n",
       "        [-6.55154261e-10, -3.76200097e-09, -1.52206734e-09],\n",
       "        [-6.55154261e-10, -3.76200097e-09, -1.52206734e-09],\n",
       "        ...,\n",
       "        [-6.55154261e-10, -3.76200097e-09, -1.52206734e-09],\n",
       "        [-6.55154261e-10, -3.76200097e-09, -1.52206734e-09],\n",
       "        [-6.55154261e-10, -3.76200097e-09, -1.52206734e-09]],      dtype=float64), p3=Array([[1.22770106e-10, 1.05923524e-10, 4.43558044e-11],\n",
       "        [1.22770106e-10, 1.05923524e-10, 4.43558044e-11],\n",
       "        [1.22770106e-10, 1.05923524e-10, 4.43558044e-11],\n",
       "        ...,\n",
       "        [1.22770106e-10, 1.05923524e-10, 4.43558044e-11],\n",
       "        [1.22770106e-10, 1.05923524e-10, 4.43558044e-11],\n",
       "        [1.22770106e-10, 1.05923524e-10, 4.43558044e-11]], dtype=float64), p4=Array([[-7.63446850e-12,  7.88499146e-14,  3.60984011e-13],\n",
       "        [-7.63446850e-12,  7.88499146e-14,  3.60984011e-13],\n",
       "        [-7.63446850e-12,  7.88499146e-14,  3.60984011e-13],\n",
       "        ...,\n",
       "        [-7.63446850e-12,  7.88499146e-14,  3.60984011e-13],\n",
       "        [-7.63446850e-12,  7.88499146e-14,  3.60984011e-13],\n",
       "        [-7.63446850e-12,  7.88499146e-14,  3.60984011e-13]],      dtype=float64), p5=Array([[2.75334647e-12, 4.10295477e-12, 2.27948639e-12],\n",
       "        [2.75334647e-12, 4.10295477e-12, 2.27948639e-12],\n",
       "        [2.75334647e-12, 4.10295477e-12, 2.27948639e-12],\n",
       "        ...,\n",
       "        [2.75334647e-12, 4.10295477e-12, 2.27948639e-12],\n",
       "        [2.75334647e-12, 4.10295477e-12, 2.27948639e-12],\n",
       "        [2.75334647e-12, 4.10295477e-12, 2.27948639e-12]], dtype=float64), p6=Array([[3.80913834e-12, 3.65149002e-12, 1.89567405e-12],\n",
       "        [3.80913834e-12, 3.65149002e-12, 1.89567405e-12],\n",
       "        [3.80913834e-12, 3.65149002e-12, 1.89567405e-12],\n",
       "        ...,\n",
       "        [3.80913834e-12, 3.65149002e-12, 1.89567405e-12],\n",
       "        [3.80913834e-12, 3.65149002e-12, 1.89567405e-12],\n",
       "        [3.80913834e-12, 3.65149002e-12, 1.89567405e-12]], dtype=float64)), br=IAS15Helper(p0=Array([[ 6.64000996e-07, -3.21080638e-07, -1.18692911e-07],\n",
       "        [ 6.64000996e-07, -3.21080638e-07, -1.18692911e-07],\n",
       "        [ 6.64000996e-07, -3.21080638e-07, -1.18692911e-07],\n",
       "        ...,\n",
       "        [ 6.64000996e-07, -3.21080638e-07, -1.18692911e-07],\n",
       "        [ 6.64000996e-07, -3.21080638e-07, -1.18692911e-07],\n",
       "        [ 6.64000996e-07, -3.21080638e-07, -1.18692911e-07]],      dtype=float64), p1=Array([[-1.83097048e-09,  5.95367945e-09,  2.36372936e-09],\n",
       "        [-1.83097048e-09,  5.95367945e-09,  2.36372936e-09],\n",
       "        [-1.83097048e-09,  5.95367945e-09,  2.36372936e-09],\n",
       "        ...,\n",
       "        [-1.83097048e-09,  5.95367945e-09,  2.36372936e-09],\n",
       "        [-1.83097048e-09,  5.95367945e-09,  2.36372936e-09],\n",
       "        [-1.83097048e-09,  5.95367945e-09,  2.36372936e-09]],      dtype=float64), p2=Array([[-1.22349305e-11, -6.04477837e-11, -2.44789171e-11],\n",
       "        [-1.22349305e-11, -6.04477837e-11, -2.44789171e-11],\n",
       "        [-1.22349305e-11, -6.04477837e-11, -2.44789171e-11],\n",
       "        ...,\n",
       "        [-1.22349305e-11, -6.04477837e-11, -2.44789171e-11],\n",
       "        [-1.22349305e-11, -6.04477837e-11, -2.44789171e-11],\n",
       "        [-1.22349305e-11, -6.04477837e-11, -2.44789171e-11]],      dtype=float64), p3=Array([[5.18794262e-13, 4.20603802e-13, 1.75800375e-13],\n",
       "        [5.18794262e-13, 4.20603802e-13, 1.75800375e-13],\n",
       "        [5.18794262e-13, 4.20603802e-13, 1.75800375e-13],\n",
       "        ...,\n",
       "        [5.18794262e-13, 4.20603802e-13, 1.75800375e-13],\n",
       "        [5.18794262e-13, 4.20603802e-13, 1.75800375e-13],\n",
       "        [5.18794262e-13, 4.20603802e-13, 1.75800375e-13]], dtype=float64), p4=Array([[-6.60643958e-15, -1.25293124e-15, -5.56809945e-16],\n",
       "        [-6.60643958e-15, -1.25293124e-15, -5.56809945e-16],\n",
       "        [-6.60643958e-15, -1.25293124e-15, -5.56809945e-16],\n",
       "        ...,\n",
       "        [-6.60643958e-15, -1.25293124e-15, -5.56809945e-16],\n",
       "        [-6.60643958e-15, -1.25293124e-15, -5.56809945e-16],\n",
       "        [-6.60643958e-15, -1.25293124e-15, -5.56809945e-16]],      dtype=float64), p5=Array([[-9.55235748e-16, -5.58386905e-16, -2.53404101e-16],\n",
       "        [-9.55235748e-16, -5.58386905e-16, -2.53404101e-16],\n",
       "        [-9.55235748e-16, -5.58386905e-16, -2.53404101e-16],\n",
       "        ...,\n",
       "        [-9.55235748e-16, -5.58386905e-16, -2.53404101e-16],\n",
       "        [-9.55235748e-16, -5.58386905e-16, -2.53404101e-16],\n",
       "        [-9.55235748e-16, -5.58386905e-16, -2.53404101e-16]],      dtype=float64), p6=Array([[2.32491354e-16, 2.22869264e-16, 1.15702762e-16],\n",
       "        [2.32491354e-16, 2.22869264e-16, 1.15702762e-16],\n",
       "        [2.32491354e-16, 2.22869264e-16, 1.15702762e-16],\n",
       "        ...,\n",
       "        [2.32491354e-16, 2.22869264e-16, 1.15702762e-16],\n",
       "        [2.32491354e-16, 2.22869264e-16, 1.15702762e-16],\n",
       "        [2.32491354e-16, 2.22869264e-16, 1.15702762e-16]], dtype=float64)), er=IAS15Helper(p0=Array([[ 6.62319283e-06, -3.20267421e-06, -1.18392289e-06],\n",
       "        [ 6.62319283e-06, -3.20267421e-06, -1.18392289e-06],\n",
       "        [ 6.62319283e-06, -3.20267421e-06, -1.18392289e-06],\n",
       "        ...,\n",
       "        [ 6.62319283e-06, -3.20267421e-06, -1.18392289e-06],\n",
       "        [ 6.62319283e-06, -3.20267421e-06, -1.18392289e-06],\n",
       "        [ 6.62319283e-06, -3.20267421e-06, -1.18392289e-06]],      dtype=float64), p1=Array([[-1.82170198e-07,  5.92358795e-07,  2.35178661e-07],\n",
       "        [-1.82170198e-07,  5.92358795e-07,  2.35178661e-07],\n",
       "        [-1.82170198e-07,  5.92358795e-07,  2.35178661e-07],\n",
       "        ...,\n",
       "        [-1.82170198e-07,  5.92358795e-07,  2.35178661e-07],\n",
       "        [-1.82170198e-07,  5.92358795e-07,  2.35178661e-07],\n",
       "        [-1.82170198e-07,  5.92358795e-07,  2.35178661e-07]],      dtype=float64), p2=Array([[-1.21351379e-08, -5.99682356e-08, -2.42821086e-08],\n",
       "        [-1.21351379e-08, -5.99682356e-08, -2.42821086e-08],\n",
       "        [-1.21351379e-08, -5.99682356e-08, -2.42821086e-08],\n",
       "        ...,\n",
       "        [-1.21351379e-08, -5.99682356e-08, -2.42821086e-08],\n",
       "        [-1.21351379e-08, -5.99682356e-08, -2.42821086e-08],\n",
       "        [-1.21351379e-08, -5.99682356e-08, -2.42821086e-08]],      dtype=float64), p3=Array([[5.19097468e-09, 4.25374878e-09, 1.78507687e-09],\n",
       "        [5.19097468e-09, 4.25374878e-09, 1.78507687e-09],\n",
       "        [5.19097468e-09, 4.25374878e-09, 1.78507687e-09],\n",
       "        ...,\n",
       "        [5.19097468e-09, 4.25374878e-09, 1.78507687e-09],\n",
       "        [5.19097468e-09, 4.25374878e-09, 1.78507687e-09],\n",
       "        [5.19097468e-09, 4.25374878e-09, 1.78507687e-09]], dtype=float64), p4=Array([[-5.59818417e-10, -3.29898843e-11, -2.47710822e-11],\n",
       "        [-5.59818417e-10, -3.29898843e-11, -2.47710822e-11],\n",
       "        [-5.59818417e-10, -3.29898843e-11, -2.47710822e-11],\n",
       "        ...,\n",
       "        [-5.59818417e-10, -3.29898843e-11, -2.47710822e-11],\n",
       "        [-5.59818417e-10, -3.29898843e-11, -2.47710822e-11],\n",
       "        [-5.59818417e-10, -3.29898843e-11, -2.47710822e-11]],      dtype=float64), p5=Array([[1.07593081e-10, 7.99306837e-12, 4.68841128e-12],\n",
       "        [1.07593081e-10, 7.99306837e-12, 4.68841128e-12],\n",
       "        [1.07593081e-10, 7.99306837e-12, 4.68841128e-12],\n",
       "        ...,\n",
       "        [1.07593081e-10, 7.99306837e-12, 4.68841128e-12],\n",
       "        [1.07593081e-10, 7.99306837e-12, 4.68841128e-12],\n",
       "        [1.07593081e-10, 7.99306837e-12, 4.68841128e-12]], dtype=float64), p6=Array([[1.79537892e-11, 1.48586763e-11, 6.05399735e-12],\n",
       "        [1.79537892e-11, 1.48586763e-11, 6.05399735e-12],\n",
       "        [1.79537892e-11, 1.48586763e-11, 6.05399735e-12],\n",
       "        ...,\n",
       "        [1.79537892e-11, 1.48586763e-11, 6.05399735e-12],\n",
       "        [1.79537892e-11, 1.48586763e-11, 6.05399735e-12],\n",
       "        [1.79537892e-11, 1.48586763e-11, 6.05399735e-12]], dtype=float64)), csx=Array([[0., 0., 0.],\n",
       "        [0., 0., 0.],\n",
       "        [0., 0., 0.],\n",
       "        ...,\n",
       "        [0., 0., 0.],\n",
       "        [0., 0., 0.],\n",
       "        [0., 0., 0.]], dtype=float64), csv=Array([[0., 0., 0.],\n",
       "        [0., 0., 0.],\n",
       "        [0., 0., 0.],\n",
       "        ...,\n",
       "        [0., 0., 0.],\n",
       "        [0., 0., 0.],\n",
       "        [0., 0., 0.]], dtype=float64), a0=Array([[-2.99471742e-05, -2.78989531e-05, -1.16754002e-05],\n",
       "        [-2.99471742e-05, -2.78989531e-05, -1.16754002e-05],\n",
       "        [-2.99471742e-05, -2.78989531e-05, -1.16754002e-05],\n",
       "        ...,\n",
       "        [-2.99471742e-05, -2.78989531e-05, -1.16754002e-05],\n",
       "        [-2.99471742e-05, -2.78989531e-05, -1.16754002e-05],\n",
       "        [-2.99471742e-05, -2.78989531e-05, -1.16754002e-05]],      dtype=float64), dt=Array(4.39825289, dtype=float64), dt_last_done=Array(4.39825289, dtype=float64)))"
      ]
     },
     "execution_count": 22,
     "metadata": {},
     "output_type": "execute_result"
    }
   ],
   "source": [
    "ias15_evolve(\n",
    "    state,\n",
    "    acc_func,\n",
    "    jnp.array([(t0+300*u.day).tdb.jd]),\n",
    "    integrator_state,\n",
    ")"
   ]
  },
  {
   "cell_type": "code",
   "execution_count": 33,
   "metadata": {},
   "outputs": [
    {
     "data": {
      "text/plain": [
       "4.0"
      ]
     },
     "execution_count": 33,
     "metadata": {},
     "output_type": "execute_result"
    }
   ],
   "source": [
    "import numpy as np\n",
    "\n",
    "np.zeros((2000, 1_000_000), dtype=np.uint16).nbytes / 1e9"
   ]
  },
  {
   "cell_type": "code",
   "execution_count": 29,
   "metadata": {},
   "outputs": [
    {
     "name": "stdout",
     "output_type": "stream",
     "text": [
      "1.95 ms ± 9.15 μs per loop (mean ± std. dev. of 7 runs, 1,000 loops each)\n"
     ]
    }
   ],
   "source": [
    "j = np.zeros(1_000_000, dtype=np.uint16)\n",
    "\n",
    "inds = np.random.randint(0, 1_000_000, 100_000)\n",
    "j[inds] = 1\n",
    "\n",
    "%timeit q = np.where(j == 1)"
   ]
  },
  {
   "cell_type": "code",
   "execution_count": 31,
   "metadata": {},
   "outputs": [
    {
     "data": {
      "text/plain": [
       "2087.1428571428573"
      ]
     },
     "execution_count": 31,
     "metadata": {},
     "output_type": "execute_result"
    }
   ],
   "source": [
    "40*u.year.to(u.week)"
   ]
  },
  {
   "cell_type": "code",
   "execution_count": 51,
   "metadata": {},
   "outputs": [
    {
     "data": {
      "text/plain": [
       "'/Users/cassese/.astropy/cache/download/url/d130157051acdb2edae869c7ca04e3e8/contents'"
      ]
     },
     "execution_count": 51,
     "metadata": {},
     "output_type": "execute_result"
    }
   ],
   "source": [
    "from astropy.utils.data import download_file\n",
    "\n",
    "download_file(\"https://zenodo.org/records/10161743/files/ERS_DataSynthesis_Zenodo.zip?download=1\", cache=True)"
   ]
  },
  {
   "cell_type": "code",
   "execution_count": 41,
   "metadata": {},
   "outputs": [
    {
     "data": {
      "text/plain": [
       "[]"
      ]
     },
     "execution_count": 41,
     "metadata": {},
     "output_type": "execute_result"
    }
   ],
   "source": [
    "from glob import glob\n",
    "\n",
    "glob(\"/Users/cassese/.astropy/cache/download/url/d130157051acdb2edae869c7ca04e3e8/contents/*\")"
   ]
  },
  {
   "cell_type": "code",
   "execution_count": 42,
   "metadata": {},
   "outputs": [],
   "source": [
    "import zipfile\n",
    "\n",
    "with zipfile.ZipFile(\"/Users/cassese/.astropy/cache/download/url/d130157051acdb2edae869c7ca04e3e8/contents\", 'r') as zip_ref:\n",
    "    # Extract all contents\n",
    "    zip_ref.extractall(\"/Users/cassese/.astropy/cache/download/url/d130157051acdb2edae869c7ca04e3e8/\")"
   ]
  },
  {
   "cell_type": "code",
   "execution_count": null,
   "metadata": {},
   "outputs": [],
   "source": []
  },
  {
   "cell_type": "code",
   "execution_count": null,
   "metadata": {},
   "outputs": [],
   "source": [
    "# some options:\n",
    "# precompute everything, save chebyshev coeffs\n",
    "# downsides: large file size. only piecewise by year requires np.zeros((1_000_000, 40, 2, 10)), ~6.4GB\n",
    "# upside: just have to evaluate the chebyshev polynomials, no integrations, and can check everything\n",
    "\n",
    "# precompute everything, save helpix tile\n",
    "# downside: have to pick the right tile size, then do another integration with the objects in the tile\n",
    "# upside: potentially smaller file size to store. assuming >255 tiles, np.zeros((1_000_000, 40*12)) is ~1GB"
   ]
  },
  {
   "cell_type": "code",
   "execution_count": 57,
   "metadata": {},
   "outputs": [
    {
     "data": {
      "text/plain": [
       "(10, 14, 3, 1824)"
      ]
     },
     "execution_count": 57,
     "metadata": {},
     "output_type": "execute_result"
    }
   ],
   "source": []
  }
 ],
 "metadata": {
  "kernelspec": {
   "display_name": "jorbit",
   "language": "python",
   "name": "jorbit"
  },
  "language_info": {
   "codemirror_mode": {
    "name": "ipython",
    "version": 3
   },
   "file_extension": ".py",
   "mimetype": "text/x-python",
   "name": "python",
   "nbconvert_exporter": "python",
   "pygments_lexer": "ipython3",
   "version": "3.13.0"
  }
 },
 "nbformat": 4,
 "nbformat_minor": 2
}
