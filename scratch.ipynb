{
 "cells": [
  {
   "cell_type": "markdown",
   "metadata": {},
   "source": [
    "# scratch work"
   ]
  },
  {
   "cell_type": "code",
   "execution_count": 1,
   "metadata": {},
   "outputs": [],
   "source": [
    "import jax\n",
    "\n",
    "jax.config.update(\"jax_enable_x64\", True)\n",
    "import astropy.units as u\n",
    "import jax.numpy as jnp\n",
    "from astropy.coordinates import SkyCoord\n",
    "from astropy.time import Time\n",
    "from astroquery.jplhorizons import Horizons\n",
    "\n",
    "from jorbit.mpchecker import mpchecker\n",
    "from jorbit.utils.horizons import horizons_bulk_astrometry_query\n"
   ]
  },
  {
   "cell_type": "code",
   "execution_count": 2,
   "metadata": {},
   "outputs": [
    {
     "data": {
      "text/plain": [
       "<SkyCoord (ICRS): (ra, dec) in deg\n",
       "    (346.8268329, -15.83129517)>"
      ]
     },
     "execution_count": 2,
     "metadata": {},
     "output_type": "execute_result"
    }
   ],
   "source": [
    "obj = Horizons(id=\"Ceres\", location=\"500@399\", epochs=[Time(\"2021-01-01\").utc.jd])\n",
    "eph = obj.ephemerides(extra_precision=True, quantities=\"1,9\")\n",
    "coord = SkyCoord(ra=eph[\"RA\"][0], dec=eph[\"DEC\"][0], unit=(u.deg, u.deg))\n",
    "coord"
   ]
  },
  {
   "cell_type": "code",
   "execution_count": 3,
   "metadata": {},
   "outputs": [
    {
     "ename": "ValueError",
     "evalue": "Of the objects found nearby the target, ['00001'] are massive perturbers that are included in jorbit ephemeris calculations by default. Consequently, jorbit cannot actually integrate this target itself since doing so would produce infinite accelerations. These will be dropped from consideration here: use the Ephemeris module, or an external service like JPL Horizons, to get the ephemeris of these objects.",
     "output_type": "error",
     "traceback": [
      "\u001b[0;31m---------------------------------------------------------------------------\u001b[0m",
      "\u001b[0;31mValueError\u001b[0m                                Traceback (most recent call last)",
      "Cell \u001b[0;32mIn[3], line 1\u001b[0m\n\u001b[0;32m----> 1\u001b[0m \u001b[43mmpchecker\u001b[49m\u001b[43m(\u001b[49m\n\u001b[1;32m      2\u001b[0m \u001b[43m    \u001b[49m\u001b[43mcoordinate\u001b[49m\u001b[38;5;241;43m=\u001b[39;49m\u001b[43mcoord\u001b[49m\u001b[43m,\u001b[49m\n\u001b[1;32m      3\u001b[0m \u001b[43m    \u001b[49m\u001b[43mtime\u001b[49m\u001b[38;5;241;43m=\u001b[39;49m\u001b[43mTime\u001b[49m\u001b[43m(\u001b[49m\u001b[38;5;124;43m\"\u001b[39;49m\u001b[38;5;124;43m2021-01-01 00:05\u001b[39;49m\u001b[38;5;124;43m\"\u001b[39;49m\u001b[43m)\u001b[49m\u001b[43m,\u001b[49m\n\u001b[1;32m      4\u001b[0m \u001b[43m    \u001b[49m\u001b[43mradius\u001b[49m\u001b[38;5;241;43m=\u001b[39;49m\u001b[38;5;241;43m10\u001b[39;49m\u001b[38;5;241;43m*\u001b[39;49m\u001b[43mu\u001b[49m\u001b[38;5;241;43m.\u001b[39;49m\u001b[43marcmin\u001b[49m\u001b[43m,\u001b[49m\n\u001b[1;32m      5\u001b[0m \u001b[43m    \u001b[49m\u001b[43mextra_precision\u001b[49m\u001b[38;5;241;43m=\u001b[39;49m\u001b[38;5;28;43;01mTrue\u001b[39;49;00m\u001b[43m,\u001b[49m\n\u001b[1;32m      6\u001b[0m \u001b[43m    \u001b[49m\u001b[43mobserver\u001b[49m\u001b[38;5;241;43m=\u001b[39;49m\u001b[38;5;124;43m\"\u001b[39;49m\u001b[38;5;124;43mgeocentric\u001b[39;49m\u001b[38;5;124;43m\"\u001b[39;49m\u001b[43m,\u001b[49m\n\u001b[1;32m      7\u001b[0m \u001b[43m    \u001b[49m\u001b[43mextra_precision_gravity\u001b[49m\u001b[38;5;241;43m=\u001b[39;49m\u001b[38;5;124;43m\"\u001b[39;49m\u001b[38;5;124;43mnewtonian solar system\u001b[39;49m\u001b[38;5;124;43m\"\u001b[39;49m\u001b[43m,\u001b[49m\n\u001b[1;32m      8\u001b[0m \u001b[43m    \u001b[49m\u001b[43mchunk_coefficients\u001b[49m\u001b[38;5;241;43m=\u001b[39;49m\u001b[38;5;28;43;01mNone\u001b[39;49;00m\u001b[43m,\u001b[49m\n\u001b[1;32m      9\u001b[0m \u001b[43m)\u001b[49m\n",
      "File \u001b[0;32m~/Library/CloudStorage/GoogleDrive-bccassese@gmail.com/My Drive/Columbia University/Research/Active_Projects/jorbit_dev/jorbit/src/jorbit/mpchecker/interface.py:124\u001b[0m, in \u001b[0;36mmpchecker\u001b[0;34m(coordinate, time, radius, extra_precision, observer, extra_precision_gravity, chunk_coefficients)\u001b[0m\n\u001b[1;32m    121\u001b[0m relevant_mpcorb \u001b[38;5;241m=\u001b[39m get_relevant_mpcorb(mask)\n\u001b[1;32m    123\u001b[0m \u001b[38;5;28;01mif\u001b[39;00m extra_precision:\n\u001b[0;32m--> 124\u001b[0m     coords, seps, coord_table, mags, mag_table, total_mags \u001b[38;5;241m=\u001b[39m \u001b[43mextra_precision_calcs\u001b[49m\u001b[43m(\u001b[49m\n\u001b[1;32m    125\u001b[0m \u001b[43m        \u001b[49m\u001b[43masteroid_flags\u001b[49m\u001b[38;5;241;43m=\u001b[39;49m\u001b[43mmask\u001b[49m\u001b[43m,\u001b[49m\n\u001b[1;32m    126\u001b[0m \u001b[43m        \u001b[49m\u001b[43mtimes\u001b[49m\u001b[38;5;241;43m=\u001b[39;49m\u001b[43mtime\u001b[49m\u001b[43m,\u001b[49m\n\u001b[1;32m    127\u001b[0m \u001b[43m        \u001b[49m\u001b[43mradius\u001b[49m\u001b[38;5;241;43m=\u001b[39;49m\u001b[43mradius\u001b[49m\u001b[43m,\u001b[49m\n\u001b[1;32m    128\u001b[0m \u001b[43m        \u001b[49m\u001b[43mobserver\u001b[49m\u001b[38;5;241;43m=\u001b[39;49m\u001b[43mobserver\u001b[49m\u001b[43m,\u001b[49m\n\u001b[1;32m    129\u001b[0m \u001b[43m        \u001b[49m\u001b[43mcoordinate\u001b[49m\u001b[38;5;241;43m=\u001b[39;49m\u001b[43mcoordinate\u001b[49m\u001b[43m,\u001b[49m\n\u001b[1;32m    130\u001b[0m \u001b[43m        \u001b[49m\u001b[43mgravity\u001b[49m\u001b[38;5;241;43m=\u001b[39;49m\u001b[43mextra_precision_gravity\u001b[49m\u001b[43m,\u001b[49m\n\u001b[1;32m    131\u001b[0m \u001b[43m        \u001b[49m\u001b[43mrelevant_mpcorb\u001b[49m\u001b[38;5;241;43m=\u001b[39;49m\u001b[43mrelevant_mpcorb\u001b[49m\u001b[43m,\u001b[49m\n\u001b[1;32m    132\u001b[0m \u001b[43m    \u001b[49m\u001b[43m)\u001b[49m\n\u001b[1;32m    133\u001b[0m     separations \u001b[38;5;241m=\u001b[39m seps[:, \u001b[38;5;241m0\u001b[39m]\n\u001b[1;32m    134\u001b[0m     ras \u001b[38;5;241m=\u001b[39m coords[:, \u001b[38;5;241m0\u001b[39m]\u001b[38;5;241m.\u001b[39mra\u001b[38;5;241m.\u001b[39mrad\n",
      "File \u001b[0;32m~/Library/CloudStorage/GoogleDrive-bccassese@gmail.com/My Drive/Columbia University/Research/Active_Projects/jorbit_dev/jorbit/src/jorbit/mpchecker/parse_jorbit_ephem.py:371\u001b[0m, in \u001b[0;36mextra_precision_calcs\u001b[0;34m(asteroid_flags, times, radius, observer, coordinate, relevant_mpcorb, gravity, observer_positions)\u001b[0m\n\u001b[1;32m    369\u001b[0m \u001b[38;5;28;01mif\u001b[39;00m np\u001b[38;5;241m.\u001b[39misin(names, PERTURBER_PACKED_DESIGNATIONS)\u001b[38;5;241m.\u001b[39msum() \u001b[38;5;241m>\u001b[39m \u001b[38;5;241m0\u001b[39m:\n\u001b[1;32m    370\u001b[0m     relavant_perturbers \u001b[38;5;241m=\u001b[39m names[np\u001b[38;5;241m.\u001b[39misin(names, PERTURBER_PACKED_DESIGNATIONS)]\n\u001b[0;32m--> 371\u001b[0m     \u001b[38;5;28;01mraise\u001b[39;00m \u001b[38;5;167;01mValueError\u001b[39;00m(\n\u001b[1;32m    372\u001b[0m         \u001b[38;5;124mf\u001b[39m\u001b[38;5;124m\"\u001b[39m\u001b[38;5;124mOf the objects found nearby the target, \u001b[39m\u001b[38;5;132;01m{\u001b[39;00mrelavant_perturbers\u001b[38;5;132;01m}\u001b[39;00m\u001b[38;5;124m are \u001b[39m\u001b[38;5;124m\"\u001b[39m\n\u001b[1;32m    373\u001b[0m         \u001b[38;5;124m\"\u001b[39m\u001b[38;5;124mmassive perturbers that are included in jorbit ephemeris calculations by \u001b[39m\u001b[38;5;124m\"\u001b[39m\n\u001b[1;32m    374\u001b[0m         \u001b[38;5;124m\"\u001b[39m\u001b[38;5;124mdefault. Consequently, jorbit cannot actually integrate this target \u001b[39m\u001b[38;5;124m\"\u001b[39m\n\u001b[1;32m    375\u001b[0m         \u001b[38;5;124m\"\u001b[39m\u001b[38;5;124mitself since doing so would produce infinite accelerations. These will be \u001b[39m\u001b[38;5;124m\"\u001b[39m\n\u001b[1;32m    376\u001b[0m         \u001b[38;5;124m\"\u001b[39m\u001b[38;5;124mdropped from consideration here: use the Ephemeris module, or an external \u001b[39m\u001b[38;5;124m\"\u001b[39m\n\u001b[1;32m    377\u001b[0m         \u001b[38;5;124m\"\u001b[39m\u001b[38;5;124mservice like JPL Horizons, to get the ephemeris of these objects.\u001b[39m\u001b[38;5;124m\"\u001b[39m\n\u001b[1;32m    378\u001b[0m     )\n\u001b[1;32m    380\u001b[0m     \u001b[38;5;66;03m# # remove the perturbers from the list of asteroids for jorbit to handle\u001b[39;00m\n\u001b[1;32m    381\u001b[0m     \u001b[38;5;66;03m# print(len(relevant_mpcorb))\u001b[39;00m\n\u001b[1;32m    382\u001b[0m     \u001b[38;5;66;03m# asteroid_flags = np.where(\u001b[39;00m\n\u001b[0;32m   (...)\u001b[0m\n\u001b[1;32m    388\u001b[0m     \u001b[38;5;66;03m# )\u001b[39;00m\n\u001b[1;32m    389\u001b[0m     \u001b[38;5;66;03m# print(len(relevant_mpcorb))\u001b[39;00m\n\u001b[1;32m    391\u001b[0m x0 \u001b[38;5;241m=\u001b[39m jnp\u001b[38;5;241m.\u001b[39mload(download_file_wrapper(JORBIT_EPHEM_URL_BASE \u001b[38;5;241m+\u001b[39m \u001b[38;5;124m\"\u001b[39m\u001b[38;5;124mx0.npy\u001b[39m\u001b[38;5;124m\"\u001b[39m))\n",
      "\u001b[0;31mValueError\u001b[0m: Of the objects found nearby the target, ['00001'] are massive perturbers that are included in jorbit ephemeris calculations by default. Consequently, jorbit cannot actually integrate this target itself since doing so would produce infinite accelerations. These will be dropped from consideration here: use the Ephemeris module, or an external service like JPL Horizons, to get the ephemeris of these objects."
     ]
    }
   ],
   "source": [
    "mpchecker(\n",
    "    coordinate=coord,\n",
    "    time=Time(\"2021-01-01 00:05\"),\n",
    "    radius=10*u.arcmin,\n",
    "    extra_precision=True,\n",
    "    observer=\"geocentric\",\n",
    "    extra_precision_gravity=\"newtonian solar system\",\n",
    "    chunk_coefficients=None,\n",
    ")"
   ]
  },
  {
   "cell_type": "code",
   "execution_count": 3,
   "metadata": {},
   "outputs": [
    {
     "name": "stderr",
     "output_type": "stream",
     "text": [
      "/var/folders/mj/qxz5chg95r53_2nlv9f86qhm0000gn/T/ipykernel_7015/257075223.py:58: UserWarning: Of the objects found nearby the target, ['00001'] are massive perturbers that are included in jorbit ephemeris calculations by default. Consequently, jorbit cannot actually integrate this target itself since doing so would produce infinite accelerations. It will query JPL Horizons for this object, but all queries must now be limited to fewer than 10k unique timesteps.\n",
      "  q = extra_precision_calcs(\n"
     ]
    },
    {
     "name": "stdout",
     "output_type": "stream",
     "text": [
      "12\n",
      "11\n"
     ]
    }
   ],
   "source": [
    "from jorbit.astrometry.sky_projection import sky_sep\n",
    "from jorbit.data.constants import JORBIT_EPHEM_URL_BASE\n",
    "from jorbit.mpchecker.parse_jorbit_ephem import (\n",
    "    extra_precision_calcs,\n",
    "    get_chunk_index,\n",
    "    get_relevant_mpcorb,\n",
    "    multiple_states,\n",
    "    setup_checks,\n",
    ")\n",
    "from jorbit.utils.cache import download_file_wrapper\n",
    "\n",
    "coordinate=coord\n",
    "time=Time(\"2021-01-01 00:05\")\n",
    "radius=10*u.arcmin\n",
    "extra_precision=True\n",
    "observer=\"geocentric\"\n",
    "extra_precision_gravity=\"newtonian solar system\"\n",
    "chunk_coefficients=None\n",
    "\n",
    "\n",
    "if observer != \"geocentric\":\n",
    "    extra_precision = True\n",
    "\n",
    "coordinate, radius, t0, tf, chunk_size, names = setup_checks(\n",
    "    coordinate, time, radius\n",
    ")\n",
    "\n",
    "index, offset = get_chunk_index(time.tdb.jd, t0, tf, chunk_size)\n",
    "\n",
    "# figure out what chunk you're in\n",
    "if chunk_coefficients is None:\n",
    "    if jnp.sign(index) == -1:\n",
    "        file_name = JORBIT_EPHEM_URL_BASE + f\"chebyshev_coeffs_rev_{-index:03d}.npy\"\n",
    "    else:\n",
    "        file_name = JORBIT_EPHEM_URL_BASE + f\"chebyshev_coeffs_fwd_{index:03d}.npy\"\n",
    "    file_name = download_file_wrapper(file_name)\n",
    "    coefficients = jnp.load(file_name)\n",
    "\n",
    "# get the ra and dec of every minor planet (!)\n",
    "ras, decs = multiple_states(coefficients, offset, t0, chunk_size)\n",
    "\n",
    "# get the separation in arcsec\n",
    "separations = jax.vmap(sky_sep, in_axes=(0, 0, None, None))(\n",
    "    ras, decs, coordinate.ra.rad, coordinate.dec.rad\n",
    ")\n",
    "\n",
    "# filter down to just those within the radius\n",
    "mask = separations < radius\n",
    "names = names[mask]\n",
    "ras = ras[mask]\n",
    "decs = decs[mask]\n",
    "separations = separations[mask]\n",
    "\n",
    "relevant_mpcorb = get_relevant_mpcorb(mask)\n",
    "\n",
    "if extra_precision:\n",
    "    # coords, seps, coord_table, mags, mag_table, total_mags = extra_precision_calcs(\n",
    "    q = extra_precision_calcs(\n",
    "        asteroid_flags=mask,\n",
    "        times=time,\n",
    "        radius=radius,\n",
    "        observer=observer,\n",
    "        coordinate=coordinate,\n",
    "        gravity=extra_precision_gravity,\n",
    "        relevant_mpcorb=relevant_mpcorb,\n",
    "    )"
   ]
  },
  {
   "cell_type": "code",
   "execution_count": 4,
   "metadata": {},
   "outputs": [
    {
     "data": {
      "text/html": [
       "<div><style>\n",
       ".dataframe > thead > tr,\n",
       ".dataframe > tbody > tr {\n",
       "  text-align: right;\n",
       "  white-space: pre-wrap;\n",
       "}\n",
       "</style>\n",
       "<small>shape: (12, 23)</small><table border=\"1\" class=\"dataframe\"><thead><tr><th>Unpacked Name</th><th>Packed designation</th><th>H</th><th>G</th><th>Epoch</th><th>M</th><th>Peri</th><th>Node</th><th>Incl.</th><th>e</th><th>n</th><th>a</th><th>U</th><th>Reference</th><th>#Obs</th><th>#Opp</th><th>Arc</th><th>rms</th><th>Coarse Perts</th><th>Precise Perts</th><th>Computer</th><th>Flags</th><th>last obs</th></tr><tr><td>str</td><td>str</td><td>str</td><td>str</td><td>str</td><td>str</td><td>str</td><td>str</td><td>str</td><td>str</td><td>str</td><td>str</td><td>str</td><td>str</td><td>str</td><td>str</td><td>str</td><td>str</td><td>str</td><td>str</td><td>str</td><td>str</td><td>str</td></tr></thead><tbody><tr><td>&quot;(1) Ceres&quot;</td><td>&quot;00001&quot;</td><td>&quot;3.34&quot;</td><td>&quot;0.15&quot;</td><td>&quot;K2555&quot;</td><td>&quot;188.70269&quot;</td><td>&quot;73.27343&quot;</td><td>&quot;80.25221&quot;</td><td>&quot;10.58780&quot;</td><td>&quot;0.0794013&quot;</td><td>&quot;0.21424651&quot;</td><td>&quot;2.7660512&quot;</td><td>&quot;0&quot;</td><td>&quot;E2024-V47&quot;</td><td>&quot;7330&quot;</td><td>&quot;125&quot;</td><td>&quot;1801-2024&quot;</td><td>&quot;0.80&quot;</td><td>&quot;M-v&quot;</td><td>&quot;30k&quot;</td><td>&quot;MPCLINUX&quot;</td><td>&quot;4000&quot;</td><td>&quot;20241101&quot;</td></tr><tr><td>&quot;(6655) Nagahama&quot;</td><td>&quot;06655&quot;</td><td>&quot;11.69&quot;</td><td>&quot;0.15&quot;</td><td>&quot;K2555&quot;</td><td>&quot;258.85899&quot;</td><td>&quot;333.23929&quot;</td><td>&quot;74.95262&quot;</td><td>&quot;10.75076&quot;</td><td>&quot;0.0775850&quot;</td><td>&quot;0.19000839&quot;</td><td>&quot;2.9965454&quot;</td><td>&quot;0&quot;</td><td>&quot;E2024-TQ2&quot;</td><td>&quot;4684&quot;</td><td>&quot;27&quot;</td><td>&quot;1964-2024&quot;</td><td>&quot;0.62&quot;</td><td>&quot;M-v&quot;</td><td>&quot;3Ek&quot;</td><td>&quot;MPCLINUX&quot;</td><td>&quot;0000&quot;</td><td>&quot;20241011&quot;</td></tr><tr><td>&quot;(7163) Barenboim&quot;</td><td>&quot;07163&quot;</td><td>&quot;15.18&quot;</td><td>&quot;0.15&quot;</td><td>&quot;K2555&quot;</td><td>&quot;16.70765&quot;</td><td>&quot;310.69456&quot;</td><td>&quot;154.50635&quot;</td><td>&quot;20.76360&quot;</td><td>&quot;0.1879659&quot;</td><td>&quot;0.28667753&quot;</td><td>&quot;2.2779295&quot;</td><td>&quot;0&quot;</td><td>&quot;E2025-D28&quot;</td><td>&quot;4250&quot;</td><td>&quot;22&quot;</td><td>&quot;1984-2025&quot;</td><td>&quot;0.56&quot;</td><td>&quot;M-v&quot;</td><td>&quot;3Ek&quot;</td><td>&quot;MPCLINUX&quot;</td><td>&quot;0007&quot;</td><td>&quot;20250218&quot;</td></tr><tr><td>&quot;2014 DE160&quot;</td><td>&quot;K14DG0E&quot;</td><td>&quot;18.3&quot;</td><td>&quot;0.15&quot;</td><td>&quot;K2555&quot;</td><td>&quot;273.97079&quot;</td><td>&quot;350.89104&quot;</td><td>&quot;126.24699&quot;</td><td>&quot;12.91669&quot;</td><td>&quot;0.1500130&quot;</td><td>&quot;0.23602418&quot;</td><td>&quot;2.5931744&quot;</td><td>&quot;3&quot;</td><td>&quot;MPO519013&quot;</td><td>&quot;26&quot;</td><td>&quot;2&quot;</td><td>&quot;2014-2018&quot;</td><td>&quot;0.25&quot;</td><td>&quot;M-v&quot;</td><td>&quot;38h&quot;</td><td>&quot;Veres&quot;</td><td>&quot;0000&quot;</td><td>&quot;20180212&quot;</td></tr><tr><td>&quot;2015 LV8&quot;</td><td>&quot;K15L08V&quot;</td><td>&quot;18.36&quot;</td><td>&quot;0.15&quot;</td><td>&quot;K2555&quot;</td><td>&quot;74.37435&quot;</td><td>&quot;203.95321&quot;</td><td>&quot;52.26685&quot;</td><td>&quot;13.39119&quot;</td><td>&quot;0.1829183&quot;</td><td>&quot;0.22210835&quot;</td><td>&quot;2.7003877&quot;</td><td>&quot;2&quot;</td><td>&quot;MPO687275&quot;</td><td>&quot;48&quot;</td><td>&quot;2&quot;</td><td>&quot;2015-2020&quot;</td><td>&quot;0.64&quot;</td><td>&quot;M-v&quot;</td><td>&quot;3Ek&quot;</td><td>&quot;MPCLINUX&quot;</td><td>&quot;0000&quot;</td><td>&quot;20200814&quot;</td></tr><tr><td>&hellip;</td><td>&hellip;</td><td>&hellip;</td><td>&hellip;</td><td>&hellip;</td><td>&hellip;</td><td>&hellip;</td><td>&hellip;</td><td>&hellip;</td><td>&hellip;</td><td>&hellip;</td><td>&hellip;</td><td>&hellip;</td><td>&hellip;</td><td>&hellip;</td><td>&hellip;</td><td>&hellip;</td><td>&hellip;</td><td>&hellip;</td><td>&hellip;</td><td>&hellip;</td><td>&hellip;</td><td>&hellip;</td></tr><tr><td>&quot;(334958) 2004 CW111&quot;</td><td>&quot;X4958&quot;</td><td>&quot;16.38&quot;</td><td>&quot;0.15&quot;</td><td>&quot;K2555&quot;</td><td>&quot;150.53994&quot;</td><td>&quot;60.24083&quot;</td><td>&quot;121.79330&quot;</td><td>&quot;12.49960&quot;</td><td>&quot;0.0627954&quot;</td><td>&quot;0.21047320&quot;</td><td>&quot;2.7990125&quot;</td><td>&quot;0&quot;</td><td>&quot;E2024-C06&quot;</td><td>&quot;346&quot;</td><td>&quot;13&quot;</td><td>&quot;2002-2023&quot;</td><td>&quot;0.75&quot;</td><td>&quot;M-v&quot;</td><td>&quot;3Ek&quot;</td><td>&quot;MPCLINUX&quot;</td><td>&quot;0000&quot;</td><td>&quot;20230513&quot;</td></tr><tr><td>&quot;(353943) 1998 TU29&quot;</td><td>&quot;Z3943&quot;</td><td>&quot;17.11&quot;</td><td>&quot;0.15&quot;</td><td>&quot;K2555&quot;</td><td>&quot;341.58496&quot;</td><td>&quot;242.80038&quot;</td><td>&quot;146.28206&quot;</td><td>&quot;14.91310&quot;</td><td>&quot;0.3482082&quot;</td><td>&quot;0.22067204&quot;</td><td>&quot;2.7120926&quot;</td><td>&quot;0&quot;</td><td>&quot;MPO843755&quot;</td><td>&quot;266&quot;</td><td>&quot;12&quot;</td><td>&quot;1998-2024&quot;</td><td>&quot;0.87&quot;</td><td>&quot;M-v&quot;</td><td>&quot;3Ek&quot;</td><td>&quot;MPCLINUX&quot;</td><td>&quot;0000&quot;</td><td>&quot;20240627&quot;</td></tr><tr><td>&quot;(596757) 2006 CN21&quot;</td><td>&quot;x6757&quot;</td><td>&quot;16.51&quot;</td><td>&quot;0.15&quot;</td><td>&quot;K2555&quot;</td><td>&quot;264.71629&quot;</td><td>&quot;244.52714&quot;</td><td>&quot;144.32504&quot;</td><td>&quot;17.33681&quot;</td><td>&quot;0.1853692&quot;</td><td>&quot;0.17818857&quot;</td><td>&quot;3.1276357&quot;</td><td>&quot;0&quot;</td><td>&quot;E2024-UN8&quot;</td><td>&quot;110&quot;</td><td>&quot;8&quot;</td><td>&quot;2006-2024&quot;</td><td>&quot;0.86&quot;</td><td>&quot;M-v&quot;</td><td>&quot;3Ek&quot;</td><td>&quot;MPCLINUX&quot;</td><td>&quot;0000&quot;</td><td>&quot;20240504&quot;</td></tr><tr><td>&quot;(699942) 2021 VD16&quot;</td><td>&quot;~0KnO&quot;</td><td>&quot;17.18&quot;</td><td>&quot;0.15&quot;</td><td>&quot;K2555&quot;</td><td>&quot;97.13593&quot;</td><td>&quot;110.91481&quot;</td><td>&quot;70.37625&quot;</td><td>&quot;10.81079&quot;</td><td>&quot;0.0590491&quot;</td><td>&quot;0.17786626&quot;</td><td>&quot;3.1314129&quot;</td><td>&quot;0&quot;</td><td>&quot;MPO824366&quot;</td><td>&quot;82&quot;</td><td>&quot;8&quot;</td><td>&quot;2010-2024&quot;</td><td>&quot;0.47&quot;</td><td>&quot;M-v&quot;</td><td>&quot;3Ek&quot;</td><td>&quot;MPCLINUX&quot;</td><td>&quot;0000&quot;</td><td>&quot;20240508&quot;</td></tr><tr><td>&quot;(714303) 2015 MH22&quot;</td><td>&quot;~0OX1&quot;</td><td>&quot;17.33&quot;</td><td>&quot;0.15&quot;</td><td>&quot;K2555&quot;</td><td>&quot;112.99786&quot;</td><td>&quot;180.94068&quot;</td><td>&quot;56.44680&quot;</td><td>&quot;12.34911&quot;</td><td>&quot;0.1312365&quot;</td><td>&quot;0.22999440&quot;</td><td>&quot;2.6383022&quot;</td><td>&quot;0&quot;</td><td>&quot;MPO836086&quot;</td><td>&quot;130&quot;</td><td>&quot;10&quot;</td><td>&quot;2008-2024&quot;</td><td>&quot;0.87&quot;</td><td>&quot;M-v&quot;</td><td>&quot;3Ek&quot;</td><td>&quot;MPCLINUX&quot;</td><td>&quot;0000&quot;</td><td>&quot;20240706&quot;</td></tr></tbody></table></div>"
      ],
      "text/plain": [
       "shape: (12, 23)\n",
       "┌───────────────────┬─────────────┬───────┬──────┬───┬───────────────┬──────────┬───────┬──────────┐\n",
       "│ Unpacked Name     ┆ Packed      ┆ H     ┆ G    ┆ … ┆ Precise Perts ┆ Computer ┆ Flags ┆ last obs │\n",
       "│ ---               ┆ designation ┆ ---   ┆ ---  ┆   ┆ ---           ┆ ---      ┆ ---   ┆ ---      │\n",
       "│ str               ┆ ---         ┆ str   ┆ str  ┆   ┆ str           ┆ str      ┆ str   ┆ str      │\n",
       "│                   ┆ str         ┆       ┆      ┆   ┆               ┆          ┆       ┆          │\n",
       "╞═══════════════════╪═════════════╪═══════╪══════╪═══╪═══════════════╪══════════╪═══════╪══════════╡\n",
       "│ (1) Ceres         ┆ 00001       ┆ 3.34  ┆ 0.15 ┆ … ┆ 30k           ┆ MPCLINUX ┆ 4000  ┆ 20241101 │\n",
       "│ (6655) Nagahama   ┆ 06655       ┆ 11.69 ┆ 0.15 ┆ … ┆ 3Ek           ┆ MPCLINUX ┆ 0000  ┆ 20241011 │\n",
       "│ (7163) Barenboim  ┆ 07163       ┆ 15.18 ┆ 0.15 ┆ … ┆ 3Ek           ┆ MPCLINUX ┆ 0007  ┆ 20250218 │\n",
       "│ 2014 DE160        ┆ K14DG0E     ┆ 18.3  ┆ 0.15 ┆ … ┆ 38h           ┆ Veres    ┆ 0000  ┆ 20180212 │\n",
       "│ 2015 LV8          ┆ K15L08V     ┆ 18.36 ┆ 0.15 ┆ … ┆ 3Ek           ┆ MPCLINUX ┆ 0000  ┆ 20200814 │\n",
       "│ …                 ┆ …           ┆ …     ┆ …    ┆ … ┆ …             ┆ …        ┆ …     ┆ …        │\n",
       "│ (334958) 2004     ┆ X4958       ┆ 16.38 ┆ 0.15 ┆ … ┆ 3Ek           ┆ MPCLINUX ┆ 0000  ┆ 20230513 │\n",
       "│ CW111             ┆             ┆       ┆      ┆   ┆               ┆          ┆       ┆          │\n",
       "│ (353943) 1998     ┆ Z3943       ┆ 17.11 ┆ 0.15 ┆ … ┆ 3Ek           ┆ MPCLINUX ┆ 0000  ┆ 20240627 │\n",
       "│ TU29              ┆             ┆       ┆      ┆   ┆               ┆          ┆       ┆          │\n",
       "│ (596757) 2006     ┆ x6757       ┆ 16.51 ┆ 0.15 ┆ … ┆ 3Ek           ┆ MPCLINUX ┆ 0000  ┆ 20240504 │\n",
       "│ CN21              ┆             ┆       ┆      ┆   ┆               ┆          ┆       ┆          │\n",
       "│ (699942) 2021     ┆ ~0KnO       ┆ 17.18 ┆ 0.15 ┆ … ┆ 3Ek           ┆ MPCLINUX ┆ 0000  ┆ 20240508 │\n",
       "│ VD16              ┆             ┆       ┆      ┆   ┆               ┆          ┆       ┆          │\n",
       "│ (714303) 2015     ┆ ~0OX1       ┆ 17.33 ┆ 0.15 ┆ … ┆ 3Ek           ┆ MPCLINUX ┆ 0000  ┆ 20240706 │\n",
       "│ MH22              ┆             ┆       ┆      ┆   ┆               ┆          ┆       ┆          │\n",
       "└───────────────────┴─────────────┴───────┴──────┴───┴───────────────┴──────────┴───────┴──────────┘"
      ]
     },
     "execution_count": 4,
     "metadata": {},
     "output_type": "execute_result"
    }
   ],
   "source": [
    "relevant_mpcorb"
   ]
  },
  {
   "cell_type": "code",
   "execution_count": 5,
   "metadata": {},
   "outputs": [],
   "source": [
    "q"
   ]
  },
  {
   "cell_type": "code",
   "execution_count": 6,
   "metadata": {},
   "outputs": [],
   "source": [
    "# array(['00001'], dtype='<U7')"
   ]
  },
  {
   "cell_type": "code",
   "execution_count": null,
   "metadata": {},
   "outputs": [],
   "source": []
  },
  {
   "cell_type": "code",
   "execution_count": null,
   "metadata": {},
   "outputs": [
    {
     "data": {
      "text/html": [
       "<div><i>Table masked=True length=1</i>\n",
       "<table id=\"table5419720944\" class=\"table-striped table-bordered table-condensed\">\n",
       "<thead><tr><th>targetname</th><th>datetime_str</th><th>datetime_jd</th><th>H</th><th>G</th><th>solar_presence</th><th>lunar_presence</th><th>RA</th><th>DEC</th><th>V</th><th>surfbright</th></tr></thead>\n",
       "<thead><tr><th>---</th><th>---</th><th>d</th><th>mag</th><th>---</th><th>---</th><th>---</th><th>deg</th><th>deg</th><th>mag</th><th>mag / arcsec2</th></tr></thead>\n",
       "<thead><tr><th>str28</th><th>str24</th><th>float64</th><th>float64</th><th>float64</th><th>str1</th><th>str1</th><th>float64</th><th>float64</th><th>float64</th><th>int64</th></tr></thead>\n",
       "<tr><td>274301 Wikipedia (2008 QH24)</td><td>2021-Jan-01 00:00:00.000</td><td>2459215.5</td><td>16.98</td><td>0.15</td><td></td><td></td><td>119.98362688</td><td>10.559774616</td><td>20.857</td><td>--</td></tr>\n",
       "</table></div>"
      ],
      "text/plain": [
       "<Table masked=True length=1>\n",
       "         targetname                datetime_str       ...    V      surfbright \n",
       "            ---                        ---            ...   mag   mag / arcsec2\n",
       "           str28                      str24           ... float64     int64    \n",
       "---------------------------- ------------------------ ... ------- -------------\n",
       "274301 Wikipedia (2008 QH24) 2021-Jan-01 00:00:00.000 ...  20.857            --"
      ]
     },
     "metadata": {},
     "output_type": "display_data"
    }
   ],
   "source": [
    "obj = Horizons(id=\"274301\", location=\"500@399\", epochs=[Time(\"2021-01-01\").utc.jd])\n",
    "eph = obj.ephemerides(extra_precision=True, quantities=\"1,9\")\n",
    "eph"
   ]
  },
  {
   "cell_type": "code",
   "execution_count": null,
   "metadata": {},
   "outputs": [
    {
     "data": {
      "text/html": [
       "<div>\n",
       "<style scoped>\n",
       "    .dataframe tbody tr th:only-of-type {\n",
       "        vertical-align: middle;\n",
       "    }\n",
       "\n",
       "    .dataframe tbody tr th {\n",
       "        vertical-align: top;\n",
       "    }\n",
       "\n",
       "    .dataframe thead th {\n",
       "        text-align: right;\n",
       "    }\n",
       "</style>\n",
       "<table border=\"1\" class=\"dataframe\">\n",
       "  <thead>\n",
       "    <tr style=\"text-align: right;\">\n",
       "      <th></th>\n",
       "      <th>JD_UTC</th>\n",
       "      <th>RA</th>\n",
       "      <th>DEC</th>\n",
       "      <th>V</th>\n",
       "      <th>RA_3sigma</th>\n",
       "      <th>DEC_3sigma</th>\n",
       "      <th>SMAA_3sigma</th>\n",
       "      <th>SMIA_3sigma</th>\n",
       "      <th>Theta_3sigma</th>\n",
       "      <th>Area_3sigma</th>\n",
       "    </tr>\n",
       "  </thead>\n",
       "  <tbody>\n",
       "    <tr>\n",
       "      <th>0</th>\n",
       "      <td>2459215.5</td>\n",
       "      <td>119.983627</td>\n",
       "      <td>10.559775</td>\n",
       "      <td>20.857</td>\n",
       "      <td>0.093</td>\n",
       "      <td>0.076</td>\n",
       "      <td>0.094</td>\n",
       "      <td>0.076</td>\n",
       "      <td>-6.254</td>\n",
       "      <td>0.022256</td>\n",
       "    </tr>\n",
       "  </tbody>\n",
       "</table>\n",
       "</div>"
      ],
      "text/plain": [
       "      JD_UTC          RA        DEC       V  RA_3sigma  DEC_3sigma  \\\n",
       "0  2459215.5  119.983627  10.559775  20.857      0.093       0.076   \n",
       "\n",
       "   SMAA_3sigma  SMIA_3sigma  Theta_3sigma  Area_3sigma  \n",
       "0        0.094        0.076        -6.254     0.022256  "
      ]
     },
     "metadata": {},
     "output_type": "display_data"
    }
   ],
   "source": [
    "horizons_bulk_astrometry_query(\n",
    "    target=\"274301\",\n",
    "    center=\"500@399\",\n",
    "    times=Time(\"2021-01-01\"),\n",
    ")"
   ]
  },
  {
   "cell_type": "code",
   "execution_count": 4,
   "metadata": {},
   "outputs": [],
   "source": [
    "from jorbit.mpchecker.parse_jorbit_ephem import load_mpcorb\n",
    "\n",
    "m = load_mpcorb()"
   ]
  },
  {
   "cell_type": "code",
   "execution_count": 5,
   "metadata": {},
   "outputs": [
    {
     "data": {
      "text/html": [
       "<div><style>\n",
       ".dataframe > thead > tr,\n",
       ".dataframe > tbody > tr {\n",
       "  text-align: right;\n",
       "  white-space: pre-wrap;\n",
       "}\n",
       "</style>\n",
       "<small>shape: (1_438_635, 23)</small><table border=\"1\" class=\"dataframe\"><thead><tr><th>Packed designation</th><th>H</th><th>G</th><th>Epoch</th><th>M</th><th>Peri</th><th>Node</th><th>Incl.</th><th>e</th><th>n</th><th>a</th><th>U</th><th>Reference</th><th>#Obs</th><th>#Opp</th><th>Arc</th><th>rms</th><th>Coarse Perts</th><th>Precise Perts</th><th>Computer</th><th>Flags</th><th>Unpacked Name</th><th>last obs</th></tr><tr><td>str</td><td>str</td><td>str</td><td>str</td><td>str</td><td>str</td><td>str</td><td>str</td><td>str</td><td>str</td><td>str</td><td>str</td><td>str</td><td>str</td><td>str</td><td>str</td><td>str</td><td>str</td><td>str</td><td>str</td><td>str</td><td>str</td><td>str</td></tr></thead><tbody><tr><td>&quot;00001&quot;</td><td>&quot;3.34&quot;</td><td>&quot;0.15&quot;</td><td>&quot;K2555&quot;</td><td>&quot;188.70269&quot;</td><td>&quot;73.27343&quot;</td><td>&quot;80.25221&quot;</td><td>&quot;10.58780&quot;</td><td>&quot;0.0794013&quot;</td><td>&quot;0.21424651&quot;</td><td>&quot;2.7660512&quot;</td><td>&quot;0&quot;</td><td>&quot;E2024-V47&quot;</td><td>&quot;7330&quot;</td><td>&quot;125&quot;</td><td>&quot;1801-2024&quot;</td><td>&quot;0.80&quot;</td><td>&quot;M-v&quot;</td><td>&quot;30k&quot;</td><td>&quot;MPCLINUX&quot;</td><td>&quot;4000&quot;</td><td>&quot;(1) Ceres&quot;</td><td>&quot;20241101&quot;</td></tr><tr><td>&quot;00002&quot;</td><td>&quot;4.11&quot;</td><td>&quot;0.15&quot;</td><td>&quot;K2555&quot;</td><td>&quot;168.79870&quot;</td><td>&quot;310.91037&quot;</td><td>&quot;172.89530&quot;</td><td>&quot;34.92402&quot;</td><td>&quot;0.2305404&quot;</td><td>&quot;0.21376611&quot;</td><td>&quot;2.7701937&quot;</td><td>&quot;0&quot;</td><td>&quot;E2024-V16&quot;</td><td>&quot;8964&quot;</td><td>&quot;123&quot;</td><td>&quot;1804-2024&quot;</td><td>&quot;0.75&quot;</td><td>&quot;M-c&quot;</td><td>&quot;28k&quot;</td><td>&quot;Pan&quot;</td><td>&quot;4000&quot;</td><td>&quot;(2) Pallas&quot;</td><td>&quot;20240927&quot;</td></tr><tr><td>&quot;00003&quot;</td><td>&quot;5.18&quot;</td><td>&quot;0.15&quot;</td><td>&quot;K2555&quot;</td><td>&quot;172.45499&quot;</td><td>&quot;247.85972&quot;</td><td>&quot;169.82994&quot;</td><td>&quot;12.98651&quot;</td><td>&quot;0.2559472&quot;</td><td>&quot;0.22582594&quot;</td><td>&quot;2.6706696&quot;</td><td>&quot;0&quot;</td><td>&quot;E2024-V16&quot;</td><td>&quot;7523&quot;</td><td>&quot;117&quot;</td><td>&quot;1804-2024&quot;</td><td>&quot;0.83&quot;</td><td>&quot;M-v&quot;</td><td>&quot;3Ek&quot;</td><td>&quot;Pan&quot;</td><td>&quot;4000&quot;</td><td>&quot;(3) Juno&quot;</td><td>&quot;20240607&quot;</td></tr><tr><td>&quot;00004&quot;</td><td>&quot;3.25&quot;</td><td>&quot;0.15&quot;</td><td>&quot;K2555&quot;</td><td>&quot;332.45069&quot;</td><td>&quot;151.58335&quot;</td><td>&quot;103.70297&quot;</td><td>&quot;7.14394&quot;</td><td>&quot;0.0901071&quot;</td><td>&quot;0.27161293&quot;</td><td>&quot;2.3613975&quot;</td><td>&quot;0&quot;</td><td>&quot;E2024-V16&quot;</td><td>&quot;7647&quot;</td><td>&quot;111&quot;</td><td>&quot;1821-2024&quot;</td><td>&quot;0.82&quot;</td><td>&quot;M-p&quot;</td><td>&quot;18k&quot;</td><td>&quot;Pan&quot;</td><td>&quot;4000&quot;</td><td>&quot;(4) Vesta&quot;</td><td>&quot;20240306&quot;</td></tr><tr><td>&quot;00005&quot;</td><td>&quot;6.99&quot;</td><td>&quot;0.15&quot;</td><td>&quot;K2555&quot;</td><td>&quot;86.24723&quot;</td><td>&quot;359.31775&quot;</td><td>&quot;141.45353&quot;</td><td>&quot;5.35887&quot;</td><td>&quot;0.1874407&quot;</td><td>&quot;0.23828278&quot;</td><td>&quot;2.5767618&quot;</td><td>&quot;0&quot;</td><td>&quot;E2025-CG9&quot;</td><td>&quot;3184&quot;</td><td>&quot;90&quot;</td><td>&quot;1845-2025&quot;</td><td>&quot;0.86&quot;</td><td>&quot;M-v&quot;</td><td>&quot;3Ek&quot;</td><td>&quot;MPCLINUX&quot;</td><td>&quot;4000&quot;</td><td>&quot;(5) Astraea&quot;</td><td>&quot;20250213&quot;</td></tr><tr><td>&hellip;</td><td>&hellip;</td><td>&hellip;</td><td>&hellip;</td><td>&hellip;</td><td>&hellip;</td><td>&hellip;</td><td>&hellip;</td><td>&hellip;</td><td>&hellip;</td><td>&hellip;</td><td>&hellip;</td><td>&hellip;</td><td>&hellip;</td><td>&hellip;</td><td>&hellip;</td><td>&hellip;</td><td>&hellip;</td><td>&hellip;</td><td>&hellip;</td><td>&hellip;</td><td>&hellip;</td><td>&hellip;</td></tr><tr><td>&quot;K21A03O&quot;</td><td>&quot;19.8&quot;</td><td>&quot;0.15&quot;</td><td>&quot;K2116&quot;</td><td>&quot;84.30053&quot;</td><td>&quot;28.49179&quot;</td><td>&quot;348.07893&quot;</td><td>&quot;17.65767&quot;</td><td>&quot;0.1489933&quot;</td><td>&quot;0.37146042&quot;</td><td>&quot;1.9165832&quot;</td><td>null</td><td>&quot;MPO600176&quot;</td><td>&quot;10&quot;</td><td>&quot;1&quot;</td><td>&quot;2 days&quot;</td><td>&quot;0.20&quot;</td><td>null</td><td>null</td><td>&quot;Bell&quot;</td><td>&quot;2006&quot;</td><td>&quot;2021 AO3&quot;</td><td>&quot;20210110&quot;</td></tr><tr><td>&quot;K21C09X&quot;</td><td>&quot;21.9&quot;</td><td>&quot;0.15&quot;</td><td>&quot;K211Q&quot;</td><td>&quot;353.12519&quot;</td><td>&quot;128.19322&quot;</td><td>&quot;23.78627&quot;</td><td>&quot;9.07555&quot;</td><td>&quot;0.4556361&quot;</td><td>&quot;0.23694889&quot;</td><td>&quot;2.5864233&quot;</td><td>null</td><td>&quot;E2021-D18&quot;</td><td>&quot;10&quot;</td><td>&quot;1&quot;</td><td>&quot;4 days&quot;</td><td>&quot;0.07&quot;</td><td>null</td><td>null</td><td>&quot;Bell&quot;</td><td>&quot;2005&quot;</td><td>&quot;2021 CX9&quot;</td><td>&quot;20210216&quot;</td></tr><tr><td>&quot;K21C10S&quot;</td><td>&quot;20.6&quot;</td><td>&quot;0.15&quot;</td><td>&quot;K212F&quot;</td><td>&quot;164.66648&quot;</td><td>&quot;223.65372&quot;</td><td>&quot;119.89392&quot;</td><td>&quot;29.38693&quot;</td><td>&quot;0.0526282&quot;</td><td>&quot;0.44236564&quot;</td><td>&quot;1.7058799&quot;</td><td>null</td><td>&quot;E2021-DA1&quot;</td><td>&quot;9&quot;</td><td>&quot;1&quot;</td><td>&quot;11 days&quot;</td><td>&quot;0.07&quot;</td><td>null</td><td>null</td><td>&quot;Bell&quot;</td><td>&quot;2005&quot;</td><td>&quot;2021 CS10&quot;</td><td>&quot;20210223&quot;</td></tr><tr><td>&quot;K21C16A&quot;</td><td>&quot;20.3&quot;</td><td>&quot;0.15&quot;</td><td>&quot;K212F&quot;</td><td>&quot;177.55080&quot;</td><td>&quot;227.21125&quot;</td><td>&quot;95.72419&quot;</td><td>&quot;24.84879&quot;</td><td>&quot;0.0475499&quot;</td><td>&quot;0.38977199&quot;</td><td>&quot;1.8560755&quot;</td><td>null</td><td>&quot;E2021-E98&quot;</td><td>&quot;9&quot;</td><td>&quot;1&quot;</td><td>&quot;5 days&quot;</td><td>&quot;0.12&quot;</td><td>null</td><td>null</td><td>&quot;Bell&quot;</td><td>&quot;2006&quot;</td><td>&quot;2021 CA16&quot;</td><td>&quot;20210217&quot;</td></tr><tr><td>&quot;K21F03B&quot;</td><td>&quot;20.3&quot;</td><td>&quot;0.15&quot;</td><td>&quot;K2137&quot;</td><td>&quot;356.00787&quot;</td><td>&quot;347.30825&quot;</td><td>&quot;168.74816&quot;</td><td>&quot;52.54222&quot;</td><td>&quot;0.3152773&quot;</td><td>&quot;0.30495276&quot;</td><td>&quot;2.1859875&quot;</td><td>null</td><td>&quot;E2021-FB1&quot;</td><td>&quot;9&quot;</td><td>&quot;1&quot;</td><td>&quot;5 days&quot;</td><td>&quot;0.07&quot;</td><td>null</td><td>null</td><td>&quot;Bell&quot;</td><td>&quot;2005&quot;</td><td>&quot;2021 FB3&quot;</td><td>&quot;20210324&quot;</td></tr></tbody></table></div>"
      ],
      "text/plain": [
       "shape: (1_438_635, 23)\n",
       "┌────────────────────┬──────┬──────┬───────┬───┬──────────┬───────┬───────────────┬──────────┐\n",
       "│ Packed designation ┆ H    ┆ G    ┆ Epoch ┆ … ┆ Computer ┆ Flags ┆ Unpacked Name ┆ last obs │\n",
       "│ ---                ┆ ---  ┆ ---  ┆ ---   ┆   ┆ ---      ┆ ---   ┆ ---           ┆ ---      │\n",
       "│ str                ┆ str  ┆ str  ┆ str   ┆   ┆ str      ┆ str   ┆ str           ┆ str      │\n",
       "╞════════════════════╪══════╪══════╪═══════╪═══╪══════════╪═══════╪═══════════════╪══════════╡\n",
       "│ 00001              ┆ 3.34 ┆ 0.15 ┆ K2555 ┆ … ┆ MPCLINUX ┆ 4000  ┆ (1) Ceres     ┆ 20241101 │\n",
       "│ 00002              ┆ 4.11 ┆ 0.15 ┆ K2555 ┆ … ┆ Pan      ┆ 4000  ┆ (2) Pallas    ┆ 20240927 │\n",
       "│ 00003              ┆ 5.18 ┆ 0.15 ┆ K2555 ┆ … ┆ Pan      ┆ 4000  ┆ (3) Juno      ┆ 20240607 │\n",
       "│ 00004              ┆ 3.25 ┆ 0.15 ┆ K2555 ┆ … ┆ Pan      ┆ 4000  ┆ (4) Vesta     ┆ 20240306 │\n",
       "│ 00005              ┆ 6.99 ┆ 0.15 ┆ K2555 ┆ … ┆ MPCLINUX ┆ 4000  ┆ (5) Astraea   ┆ 20250213 │\n",
       "│ …                  ┆ …    ┆ …    ┆ …     ┆ … ┆ …        ┆ …     ┆ …             ┆ …        │\n",
       "│ K21A03O            ┆ 19.8 ┆ 0.15 ┆ K2116 ┆ … ┆ Bell     ┆ 2006  ┆ 2021 AO3      ┆ 20210110 │\n",
       "│ K21C09X            ┆ 21.9 ┆ 0.15 ┆ K211Q ┆ … ┆ Bell     ┆ 2005  ┆ 2021 CX9      ┆ 20210216 │\n",
       "│ K21C10S            ┆ 20.6 ┆ 0.15 ┆ K212F ┆ … ┆ Bell     ┆ 2005  ┆ 2021 CS10     ┆ 20210223 │\n",
       "│ K21C16A            ┆ 20.3 ┆ 0.15 ┆ K212F ┆ … ┆ Bell     ┆ 2006  ┆ 2021 CA16     ┆ 20210217 │\n",
       "│ K21F03B            ┆ 20.3 ┆ 0.15 ┆ K2137 ┆ … ┆ Bell     ┆ 2005  ┆ 2021 FB3      ┆ 20210324 │\n",
       "└────────────────────┴──────┴──────┴───────┴───┴──────────┴───────┴───────────────┴──────────┘"
      ]
     },
     "execution_count": 5,
     "metadata": {},
     "output_type": "execute_result"
    }
   ],
   "source": [
    "m"
   ]
  },
  {
   "cell_type": "code",
   "execution_count": 11,
   "metadata": {},
   "outputs": [
    {
     "data": {
      "text/html": [
       "<div><style>\n",
       ".dataframe > thead > tr,\n",
       ".dataframe > tbody > tr {\n",
       "  text-align: right;\n",
       "  white-space: pre-wrap;\n",
       "}\n",
       "</style>\n",
       "<small>shape: (1_438_635, 23)</small><table border=\"1\" class=\"dataframe\"><thead><tr><th>Packed designation</th><th>H</th><th>G</th><th>Epoch</th><th>M</th><th>Peri</th><th>Node</th><th>Incl.</th><th>e</th><th>n</th><th>a</th><th>U</th><th>Reference</th><th>#Obs</th><th>#Opp</th><th>Arc</th><th>rms</th><th>Coarse Perts</th><th>Precise Perts</th><th>Computer</th><th>Flags</th><th>Unpacked Name</th><th>last obs</th></tr><tr><td>str</td><td>f64</td><td>f64</td><td>str</td><td>f64</td><td>f64</td><td>f64</td><td>f64</td><td>f64</td><td>f64</td><td>f64</td><td>str</td><td>str</td><td>f64</td><td>f64</td><td>str</td><td>f64</td><td>str</td><td>str</td><td>str</td><td>str</td><td>str</td><td>str</td></tr></thead><tbody><tr><td>&quot;00001&quot;</td><td>3.34</td><td>0.15</td><td>&quot;K2555&quot;</td><td>188.70269</td><td>73.27343</td><td>80.25221</td><td>10.5878</td><td>0.0794013</td><td>0.214247</td><td>2.7660512</td><td>&quot;0&quot;</td><td>&quot;E2024-V47&quot;</td><td>7330.0</td><td>125.0</td><td>&quot;1801-2024&quot;</td><td>0.8</td><td>&quot;M-v&quot;</td><td>&quot;30k&quot;</td><td>&quot;MPCLINUX&quot;</td><td>&quot;4000&quot;</td><td>&quot;(1) Ceres&quot;</td><td>&quot;20241101&quot;</td></tr><tr><td>&quot;00002&quot;</td><td>4.11</td><td>0.15</td><td>&quot;K2555&quot;</td><td>168.7987</td><td>310.91037</td><td>172.8953</td><td>34.92402</td><td>0.2305404</td><td>0.213766</td><td>2.7701937</td><td>&quot;0&quot;</td><td>&quot;E2024-V16&quot;</td><td>8964.0</td><td>123.0</td><td>&quot;1804-2024&quot;</td><td>0.75</td><td>&quot;M-c&quot;</td><td>&quot;28k&quot;</td><td>&quot;Pan&quot;</td><td>&quot;4000&quot;</td><td>&quot;(2) Pallas&quot;</td><td>&quot;20240927&quot;</td></tr><tr><td>&quot;00003&quot;</td><td>5.18</td><td>0.15</td><td>&quot;K2555&quot;</td><td>172.45499</td><td>247.85972</td><td>169.82994</td><td>12.98651</td><td>0.2559472</td><td>0.225826</td><td>2.6706696</td><td>&quot;0&quot;</td><td>&quot;E2024-V16&quot;</td><td>7523.0</td><td>117.0</td><td>&quot;1804-2024&quot;</td><td>0.83</td><td>&quot;M-v&quot;</td><td>&quot;3Ek&quot;</td><td>&quot;Pan&quot;</td><td>&quot;4000&quot;</td><td>&quot;(3) Juno&quot;</td><td>&quot;20240607&quot;</td></tr><tr><td>&quot;00004&quot;</td><td>3.25</td><td>0.15</td><td>&quot;K2555&quot;</td><td>332.45069</td><td>151.58335</td><td>103.70297</td><td>7.14394</td><td>0.0901071</td><td>0.271613</td><td>2.3613975</td><td>&quot;0&quot;</td><td>&quot;E2024-V16&quot;</td><td>7647.0</td><td>111.0</td><td>&quot;1821-2024&quot;</td><td>0.82</td><td>&quot;M-p&quot;</td><td>&quot;18k&quot;</td><td>&quot;Pan&quot;</td><td>&quot;4000&quot;</td><td>&quot;(4) Vesta&quot;</td><td>&quot;20240306&quot;</td></tr><tr><td>&quot;00005&quot;</td><td>6.99</td><td>0.15</td><td>&quot;K2555&quot;</td><td>86.24723</td><td>359.31775</td><td>141.45353</td><td>5.35887</td><td>0.1874407</td><td>0.238283</td><td>2.5767618</td><td>&quot;0&quot;</td><td>&quot;E2025-CG9&quot;</td><td>3184.0</td><td>90.0</td><td>&quot;1845-2025&quot;</td><td>0.86</td><td>&quot;M-v&quot;</td><td>&quot;3Ek&quot;</td><td>&quot;MPCLINUX&quot;</td><td>&quot;4000&quot;</td><td>&quot;(5) Astraea&quot;</td><td>&quot;20250213&quot;</td></tr><tr><td>&hellip;</td><td>&hellip;</td><td>&hellip;</td><td>&hellip;</td><td>&hellip;</td><td>&hellip;</td><td>&hellip;</td><td>&hellip;</td><td>&hellip;</td><td>&hellip;</td><td>&hellip;</td><td>&hellip;</td><td>&hellip;</td><td>&hellip;</td><td>&hellip;</td><td>&hellip;</td><td>&hellip;</td><td>&hellip;</td><td>&hellip;</td><td>&hellip;</td><td>&hellip;</td><td>&hellip;</td><td>&hellip;</td></tr><tr><td>&quot;K21A03O&quot;</td><td>19.8</td><td>0.15</td><td>&quot;K2116&quot;</td><td>84.30053</td><td>28.49179</td><td>348.07893</td><td>17.65767</td><td>0.1489933</td><td>0.37146</td><td>1.9165832</td><td>null</td><td>&quot;MPO600176&quot;</td><td>10.0</td><td>1.0</td><td>&quot;2 days&quot;</td><td>0.2</td><td>null</td><td>null</td><td>&quot;Bell&quot;</td><td>&quot;2006&quot;</td><td>&quot;2021 AO3&quot;</td><td>&quot;20210110&quot;</td></tr><tr><td>&quot;K21C09X&quot;</td><td>21.9</td><td>0.15</td><td>&quot;K211Q&quot;</td><td>353.12519</td><td>128.19322</td><td>23.78627</td><td>9.07555</td><td>0.4556361</td><td>0.236949</td><td>2.5864233</td><td>null</td><td>&quot;E2021-D18&quot;</td><td>10.0</td><td>1.0</td><td>&quot;4 days&quot;</td><td>0.07</td><td>null</td><td>null</td><td>&quot;Bell&quot;</td><td>&quot;2005&quot;</td><td>&quot;2021 CX9&quot;</td><td>&quot;20210216&quot;</td></tr><tr><td>&quot;K21C10S&quot;</td><td>20.6</td><td>0.15</td><td>&quot;K212F&quot;</td><td>164.66648</td><td>223.65372</td><td>119.89392</td><td>29.38693</td><td>0.0526282</td><td>0.442366</td><td>1.7058799</td><td>null</td><td>&quot;E2021-DA1&quot;</td><td>9.0</td><td>1.0</td><td>&quot;11 days&quot;</td><td>0.07</td><td>null</td><td>null</td><td>&quot;Bell&quot;</td><td>&quot;2005&quot;</td><td>&quot;2021 CS10&quot;</td><td>&quot;20210223&quot;</td></tr><tr><td>&quot;K21C16A&quot;</td><td>20.3</td><td>0.15</td><td>&quot;K212F&quot;</td><td>177.5508</td><td>227.21125</td><td>95.72419</td><td>24.84879</td><td>0.0475499</td><td>0.389772</td><td>1.8560755</td><td>null</td><td>&quot;E2021-E98&quot;</td><td>9.0</td><td>1.0</td><td>&quot;5 days&quot;</td><td>0.12</td><td>null</td><td>null</td><td>&quot;Bell&quot;</td><td>&quot;2006&quot;</td><td>&quot;2021 CA16&quot;</td><td>&quot;20210217&quot;</td></tr><tr><td>&quot;K21F03B&quot;</td><td>20.3</td><td>0.15</td><td>&quot;K2137&quot;</td><td>356.00787</td><td>347.30825</td><td>168.74816</td><td>52.54222</td><td>0.3152773</td><td>0.304953</td><td>2.1859875</td><td>null</td><td>&quot;E2021-FB1&quot;</td><td>9.0</td><td>1.0</td><td>&quot;5 days&quot;</td><td>0.07</td><td>null</td><td>null</td><td>&quot;Bell&quot;</td><td>&quot;2005&quot;</td><td>&quot;2021 FB3&quot;</td><td>&quot;20210324&quot;</td></tr></tbody></table></div>"
      ],
      "text/plain": [
       "shape: (1_438_635, 23)\n",
       "┌────────────────────┬──────┬──────┬───────┬───┬──────────┬───────┬───────────────┬──────────┐\n",
       "│ Packed designation ┆ H    ┆ G    ┆ Epoch ┆ … ┆ Computer ┆ Flags ┆ Unpacked Name ┆ last obs │\n",
       "│ ---                ┆ ---  ┆ ---  ┆ ---   ┆   ┆ ---      ┆ ---   ┆ ---           ┆ ---      │\n",
       "│ str                ┆ f64  ┆ f64  ┆ str   ┆   ┆ str      ┆ str   ┆ str           ┆ str      │\n",
       "╞════════════════════╪══════╪══════╪═══════╪═══╪══════════╪═══════╪═══════════════╪══════════╡\n",
       "│ 00001              ┆ 3.34 ┆ 0.15 ┆ K2555 ┆ … ┆ MPCLINUX ┆ 4000  ┆ (1) Ceres     ┆ 20241101 │\n",
       "│ 00002              ┆ 4.11 ┆ 0.15 ┆ K2555 ┆ … ┆ Pan      ┆ 4000  ┆ (2) Pallas    ┆ 20240927 │\n",
       "│ 00003              ┆ 5.18 ┆ 0.15 ┆ K2555 ┆ … ┆ Pan      ┆ 4000  ┆ (3) Juno      ┆ 20240607 │\n",
       "│ 00004              ┆ 3.25 ┆ 0.15 ┆ K2555 ┆ … ┆ Pan      ┆ 4000  ┆ (4) Vesta     ┆ 20240306 │\n",
       "│ 00005              ┆ 6.99 ┆ 0.15 ┆ K2555 ┆ … ┆ MPCLINUX ┆ 4000  ┆ (5) Astraea   ┆ 20250213 │\n",
       "│ …                  ┆ …    ┆ …    ┆ …     ┆ … ┆ …        ┆ …     ┆ …             ┆ …        │\n",
       "│ K21A03O            ┆ 19.8 ┆ 0.15 ┆ K2116 ┆ … ┆ Bell     ┆ 2006  ┆ 2021 AO3      ┆ 20210110 │\n",
       "│ K21C09X            ┆ 21.9 ┆ 0.15 ┆ K211Q ┆ … ┆ Bell     ┆ 2005  ┆ 2021 CX9      ┆ 20210216 │\n",
       "│ K21C10S            ┆ 20.6 ┆ 0.15 ┆ K212F ┆ … ┆ Bell     ┆ 2005  ┆ 2021 CS10     ┆ 20210223 │\n",
       "│ K21C16A            ┆ 20.3 ┆ 0.15 ┆ K212F ┆ … ┆ Bell     ┆ 2006  ┆ 2021 CA16     ┆ 20210217 │\n",
       "│ K21F03B            ┆ 20.3 ┆ 0.15 ┆ K2137 ┆ … ┆ Bell     ┆ 2005  ┆ 2021 FB3      ┆ 20210324 │\n",
       "└────────────────────┴──────┴──────┴───────┴───┴──────────┴───────┴───────────────┴──────────┘"
      ]
     },
     "execution_count": 11,
     "metadata": {},
     "output_type": "execute_result"
    }
   ],
   "source": [
    "import polars as pl\n",
    "\n",
    "m = load_mpcorb()\n",
    "for col in [\n",
    " 'H',\n",
    " 'G',\n",
    " 'M',\n",
    " 'Peri',\n",
    " 'Node',\n",
    " 'Incl.',\n",
    " 'e',\n",
    " 'n',\n",
    " 'a',\n",
    " '#Obs',\n",
    " '#Opp',\n",
    " 'rms']:\n",
    "    m = m.with_columns(pl.col(col).cast(pl.Float64))\n",
    "m"
   ]
  },
  {
   "cell_type": "code",
   "execution_count": 10,
   "metadata": {},
   "outputs": [
    {
     "data": {
      "text/plain": [
       "['Packed designation',\n",
       " 'H',\n",
       " 'G',\n",
       " 'Epoch',\n",
       " 'M',\n",
       " 'Peri',\n",
       " 'Node',\n",
       " 'Incl.',\n",
       " 'e',\n",
       " 'n',\n",
       " 'a',\n",
       " 'U',\n",
       " 'Reference',\n",
       " '#Obs',\n",
       " '#Opp',\n",
       " 'Arc',\n",
       " 'rms',\n",
       " 'Coarse Perts',\n",
       " 'Precise Perts',\n",
       " 'Computer',\n",
       " 'Flags',\n",
       " 'Unpacked Name',\n",
       " 'last obs']"
      ]
     },
     "execution_count": 10,
     "metadata": {},
     "output_type": "execute_result"
    }
   ],
   "source": [
    "m.columns"
   ]
  },
  {
   "cell_type": "code",
   "execution_count": 8,
   "metadata": {},
   "outputs": [
    {
     "data": {
      "text/plain": [
       "'1.22.0'"
      ]
     },
     "execution_count": 8,
     "metadata": {},
     "output_type": "execute_result"
    }
   ],
   "source": [
    "pl.__version__"
   ]
  },
  {
   "cell_type": "code",
   "execution_count": null,
   "metadata": {},
   "outputs": [],
   "source": []
  }
 ],
 "metadata": {
  "kernelspec": {
   "display_name": "jorbit",
   "language": "python",
   "name": "python3"
  },
  "language_info": {
   "codemirror_mode": {
    "name": "ipython",
    "version": 3
   },
   "file_extension": ".py",
   "mimetype": "text/x-python",
   "name": "python",
   "nbconvert_exporter": "python",
   "pygments_lexer": "ipython3",
   "version": "3.13.0"
  }
 },
 "nbformat": 4,
 "nbformat_minor": 2
}
