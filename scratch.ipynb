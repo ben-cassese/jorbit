{
 "cells": [
  {
   "cell_type": "markdown",
   "metadata": {},
   "source": [
    "# scratch work"
   ]
  },
  {
   "cell_type": "code",
   "execution_count": 1,
   "metadata": {},
   "outputs": [],
   "source": [
    "import jax\n",
    "\n",
    "jax.config.update(\"jax_enable_x64\", True)\n",
    "import jax.numpy as jnp\n",
    "\n",
    "from jplephem.spk import SPK\n",
    "import astropy.units as u\n",
    "from astropy.time import Time\n",
    "from astropy.utils.data import download_file"
   ]
  },
  {
   "cell_type": "code",
   "execution_count": 2,
   "metadata": {},
   "outputs": [],
   "source": [
    "from jorbit.ephemeris import Ephemeris"
   ]
  },
  {
   "cell_type": "code",
   "execution_count": 4,
   "metadata": {},
   "outputs": [
    {
     "data": {
      "text/plain": [
       "np.float64(0.00029591220819207774)"
      ]
     },
     "execution_count": 4,
     "metadata": {},
     "output_type": "execute_result"
    }
   ],
   "source": [
    "import astropy.constants as const\n",
    "import astropy.units as u\n",
    "\n",
    "const.G.to(u.au**3 / u.Msun / u.day**2).value"
   ]
  },
  {
   "cell_type": "code",
   "execution_count": 2,
   "metadata": {},
   "outputs": [
    {
     "name": "stdout",
     "output_type": "stream",
     "text": [
      "-0.16860225827621192\n",
      "0.08615444892210075\n",
      "-0.004927216533403929\n"
     ]
    }
   ],
   "source": [
    "import jax\n",
    "\n",
    "jax.config.update(\"jax_enable_x64\", True)\n",
    "import jax.numpy as jnp\n",
    "\n",
    "\n",
    "def gr_full2(\n",
    "    x: jnp.ndarray,  # positions (N,3)\n",
    "    v: jnp.ndarray,  # velocities (N,3)\n",
    "    a0: jnp.ndarray,  # initial accelerations (N,3)\n",
    "    m: jnp.ndarray,  # masses (N,)\n",
    "    C2: float,\n",
    "    G: float,\n",
    "    max_iterations: int = 10,\n",
    "    gravity_ignore_10: bool = False,\n",
    ") -> jnp.ndarray:\n",
    "    N = x.shape[0]\n",
    "    # Calculate pairwise differences\n",
    "    dx = x[:, None, :] - x[None, :, :]  # (N,N,3)\n",
    "    r2 = jnp.sum(dx**2, axis=-1)  # (N,N)\n",
    "    r = jnp.sqrt(r2)  # (N,N)\n",
    "    r3 = r2 * r  # (N,N)\n",
    "\n",
    "    # Mask for i!=j calculations\n",
    "    mask = ~jnp.eye(N, dtype=bool)  # (N,N)\n",
    "\n",
    "    # Compute initial Newtonian accelerations\n",
    "    prefac = G / r3\n",
    "    prefac = jnp.where(mask, prefac, 0.0)\n",
    "    a_newt = -jnp.sum(prefac[:, :, None] * dx * m[None, :, None], axis=1)  # (N,3)\n",
    "\n",
    "    # Move to barycentric frame\n",
    "    x_com = jnp.sum(x * m[:, None], axis=0) / jnp.sum(m)\n",
    "    v_com = jnp.sum(v * m[:, None], axis=0) / jnp.sum(m)\n",
    "    x = x - x_com\n",
    "    v = v - v_com\n",
    "\n",
    "    # Compute constant acceleration terms\n",
    "    v2 = jnp.sum(v**2, axis=1)  # (N,)\n",
    "    vdotv = jnp.dot(v, v.T)  # (N,N)\n",
    "    dv = v[:, None, :] - v[None, :, :]  # (N,N,3)\n",
    "    rdotv = jnp.sum(dx * v[None, :, :], axis=-1)  # (N,N)\n",
    "\n",
    "    # First constant part calculations\n",
    "    a1 = (4.0 / C2) * G * jnp.sum(m[None, :] / r, axis=1, where=mask)  # (N,)\n",
    "    a2 = (1.0 / C2) * G * jnp.sum(m[None, :] / r, axis=1, where=mask)  # (N,)\n",
    "    a3 = -v2 / C2  # (N,)\n",
    "    a4 = -2 * v2[None, :] / C2  # (N,N)\n",
    "    a5 = (4 / C2) * vdotv  # (N,N)\n",
    "    a6 = (3 / (2 * C2)) * (rdotv**2 / r2)  # (N,N)\n",
    "    a7 = jnp.sum(dx * a0[None, :, :], axis=-1) / (2 * C2)  # (N,N)\n",
    "\n",
    "    # Combine all factors\n",
    "    factor1 = (a1 + a2 + a3)[:, None] + jnp.where(mask, a4 + a5 + a6 + a7, 0.0)  # (N,N)\n",
    "\n",
    "    # Calculate first part of a_const\n",
    "    a_const = jnp.sum(\n",
    "        G * m[None, :, None] * dx * (factor1[:, :, None]) / r3[:, :, None],\n",
    "        axis=1,\n",
    "        where=mask[:, :, None],\n",
    "    )  # (N,3)\n",
    "\n",
    "    # Second constant part\n",
    "    factor2 = jnp.sum(dx * (4 * v[:, None, :] - 3 * v[None, :, :]), axis=-1)  # (N,N)\n",
    "\n",
    "    # Add second part to a_const\n",
    "    a_const += jnp.sum(\n",
    "        (G * m[None, :, None] / C2)\n",
    "        * (\n",
    "            (factor2[:, :, None] * dv / r3[:, :, None])\n",
    "            + (7 / 2 * a0[None, :, :] / r[:, :, None])\n",
    "        ),\n",
    "        axis=1,\n",
    "        where=mask[:, :, None],\n",
    "    )\n",
    "\n",
    "    def iteration_step(a_curr):\n",
    "        rdota = jnp.sum(dx * a_curr[None, :, :], axis=-1)  # (N,N)\n",
    "        non_const = jnp.sum(\n",
    "            (G * m[None, :, None] / (2 * C2))\n",
    "            * (\n",
    "                (dx * rdota[:, :, None] / r3[:, :, None])\n",
    "                + (7 * a_curr[None, :, :] / r[:, :, None])\n",
    "            ),\n",
    "            axis=1,\n",
    "            where=mask[:, :, None],\n",
    "        )\n",
    "        return a_const + non_const\n",
    "\n",
    "    def do_nothing(carry):\n",
    "        return carry\n",
    "\n",
    "    def do_iteration(carry):\n",
    "        a_prev, a_curr, _ = carry\n",
    "        a_next = iteration_step(a_curr)\n",
    "        ratio = jnp.max(jnp.abs((a_next - a_curr) / a_next))\n",
    "        return (a_curr, a_next, ratio)\n",
    "\n",
    "    def body_fn(carry, _):\n",
    "        a_prev, a_curr, ratio = carry\n",
    "\n",
    "        # Use cond to either continue iteration or return current state\n",
    "        should_continue = ratio > jnp.finfo(jnp.float64).eps\n",
    "        new_carry = jax.lax.cond(should_continue, do_iteration, do_nothing, carry)\n",
    "\n",
    "        return new_carry, None\n",
    "\n",
    "    # Initialize with constant terms\n",
    "    init_a = jnp.zeros_like(a_const)\n",
    "    init_carry = (init_a, a_const, 1.0)\n",
    "\n",
    "    # Run fixed number of iterations using scan\n",
    "    final_carry, _ = jax.lax.scan(body_fn, init_carry, None, length=max_iterations)\n",
    "\n",
    "    # Extract final acceleration\n",
    "    _, a_final, _ = final_carry\n",
    "\n",
    "    return a_newt + a_final\n",
    "\n",
    "\n",
    "import rebound\n",
    "\n",
    "sim = rebound.Simulation()\n",
    "sim.add(m=1.0, x=-1.0, y=1.01, z=-0.05, vx=0.01, vy=0.01, vz=0.1)\n",
    "sim.add(m=1.3, x=1.0, y=-0.01, z=0.01, vx=-0.21, vy=-0.01, vz=-0.01)\n",
    "sim.integrate(1e-300)\n",
    "\n",
    "x0 = jnp.array([[p.x, p.y, p.z] for p in sim.particles])\n",
    "v0 = jnp.array([[p.vx, p.vy, p.vz] for p in sim.particles])\n",
    "a0 = jnp.array([[p.ax, p.ay, p.az] for p in sim.particles])\n",
    "\n",
    "for i in range(3):\n",
    "    print(\n",
    "        float(\n",
    "            gr_full2(\n",
    "                x=x0,\n",
    "                v=v0,\n",
    "                a0=a0,\n",
    "                m=jnp.array([1.0, 1.3]),\n",
    "                C2=10**2,\n",
    "                G=1.0,\n",
    "                max_iterations=10,\n",
    "                gravity_ignore_10=False,\n",
    "            )[1][i]\n",
    "        )\n",
    "    )"
   ]
  },
  {
   "cell_type": "code",
   "execution_count": 3,
   "metadata": {},
   "outputs": [
    {
     "name": "stdout",
     "output_type": "stream",
     "text": [
      "doing iteration\n",
      "doing iteration\n",
      "doing iteration\n",
      "doing iteration\n",
      "doing iteration\n",
      "doing iteration\n",
      "doing iteration\n",
      "doing iteration\n",
      "doing iteration\n",
      "doing iteration\n",
      "-0.16860225827621192\n",
      "0.08615444892210075\n",
      "-0.004927216533403929\n"
     ]
    }
   ],
   "source": [
    "import jax\n",
    "\n",
    "jax.config.update(\"jax_enable_x64\", True)\n",
    "import jax.numpy as jnp\n",
    "\n",
    "import rebound\n",
    "from jorbit.accelerations.gr import gr_full\n",
    "\n",
    "sim = rebound.Simulation()\n",
    "sim.add(m=1.0, x=-1.0, y=1.01, z=-0.05, vx=0.01, vy=0.01, vz=0.1)\n",
    "sim.add(m=1.3, x=1.0, y=-0.01, z=0.01, vx=-0.21, vy=-0.01, vz=-0.01)\n",
    "sim.integrate(1e-300)\n",
    "# sim.move_to_com()\n",
    "\n",
    "x0 = jnp.array([[p.x, p.y, p.z] for p in sim.particles])\n",
    "v0 = jnp.array([[p.vx, p.vy, p.vz] for p in sim.particles])\n",
    "a0 = jnp.array([[p.ax, p.ay, p.az] for p in sim.particles])\n",
    "\n",
    "tmp = gr_full(\n",
    "    x=x0,\n",
    "    v=v0,\n",
    "    gms=jnp.array([1.0, 1.3]),\n",
    "    max_iterations=20,\n",
    ")[\n",
    "    0\n",
    "][1]\n",
    "\n",
    "for i in range(3):\n",
    "    print(float(tmp[i]))"
   ]
  },
  {
   "cell_type": "code",
   "execution_count": 6,
   "metadata": {},
   "outputs": [
    {
     "data": {
      "text/plain": [
       "0.9985302596971383"
      ]
     },
     "execution_count": 6,
     "metadata": {},
     "output_type": "execute_result"
    }
   ],
   "source": [
    "-0.004919974804683859 / -0.004927216533403929"
   ]
  },
  {
   "cell_type": "code",
   "execution_count": 7,
   "metadata": {},
   "outputs": [
    {
     "data": {
      "text/plain": [
       "0.9985682815888494"
      ]
     },
     "execution_count": 7,
     "metadata": {},
     "output_type": "execute_result"
    }
   ],
   "source": [
    "-0.16836086731887628 / -0.16860225827621192"
   ]
  },
  {
   "cell_type": "code",
   "execution_count": 4,
   "metadata": {},
   "outputs": [
    {
     "name": "stdout",
     "output_type": "stream",
     "text": [
      "-0.16836086731887628\n",
      "0.08603133953385958\n",
      "-0.004919974804683859\n"
     ]
    }
   ],
   "source": [
    "import rebound\n",
    "import reboundx\n",
    "\n",
    "sim = rebound.Simulation()\n",
    "sim.add(m=1.0, x=-1.0, y=1.01, z=-0.05, vx=0.01, vy=0.01, vz=0.1)\n",
    "sim.add(m=1.3, x=1.0, y=-0.01, z=0.01, vx=-0.21, vy=-0.01, vz=-0.01)\n",
    "sim.move_to_com()\n",
    "rebx = reboundx.Extras(sim)\n",
    "gr = rebx.load_force(\"gr_full\")\n",
    "gr.params[\"c\"] = 10\n",
    "gr.params[\"max_iterations\"] = 100\n",
    "rebx.add_force(gr)\n",
    "sim.integrate(1e-300)\n",
    "a1 = sim.particles[0].ax\n",
    "print(sim.particles[1].ax)\n",
    "print(sim.particles[1].ay)\n",
    "print(sim.particles[1].az)"
   ]
  },
  {
   "cell_type": "code",
   "execution_count": 26,
   "metadata": {},
   "outputs": [
    {
     "data": {
      "text/plain": [
       "1.0"
      ]
     },
     "execution_count": 26,
     "metadata": {},
     "output_type": "execute_result"
    }
   ],
   "source": [
    "sim.G"
   ]
  },
  {
   "cell_type": "code",
   "execution_count": null,
   "metadata": {},
   "outputs": [
    {
     "data": {
      "text/plain": [
       "Array([-0.07623188, -0.00086957,  0.02521739], dtype=float64)"
      ]
     },
     "execution_count": 22,
     "metadata": {},
     "output_type": "execute_result"
    }
   ],
   "source": [
    "sim = rebound.Simulation()\n",
    "sim.add(m=1.0, x=-1.0, y=1.01, z=-0.05, vx=0.01, vy=0.01, vz=0.1)\n",
    "sim.add(m=1.0, x=1.0, y=-0.01, z=0.01, vx=-0.21, vy=-0.01, vz=-0.01)\n",
    "sim.move_to_com()\n",
    "x = jnp.array([[p.x, p.y, p.z] for p in sim.particles])\n",
    "v = jnp.array([[p.vx, p.vy, p.vz] for p in sim.particles])\n",
    "gms = jnp.array([p.m for p in sim.particles])\n",
    "# print(sim.particles"
   ]
  },
  {
   "cell_type": "code",
   "execution_count": 23,
   "metadata": {},
   "outputs": [
    {
     "data": {
      "text/plain": [
       "Array([ 0.08695652,  0.28898551, -0.01072464], dtype=float64)"
      ]
     },
     "execution_count": 23,
     "metadata": {},
     "output_type": "execute_result"
    }
   ],
   "source": [
    "x_com"
   ]
  },
  {
   "cell_type": "code",
   "execution_count": 4,
   "metadata": {},
   "outputs": [
    {
     "data": {
      "text/plain": [
       "Array([-0.0275972 ,  0.01407457,  0.99952004], dtype=float64)"
      ]
     },
     "execution_count": 4,
     "metadata": {},
     "output_type": "execute_result"
    }
   ],
   "source": [
    "q = jnp.array(\n",
    "    [\n",
    "        0.21879616777694208,\n",
    "        -0.11181317786093832,\n",
    "        0.006386233904172433,\n",
    "    ]\n",
    ") - jnp.array(\n",
    "    [\n",
    "        0.21910833725420858,\n",
    "        -0.11197238429434422,\n",
    "        -0.00491997480468386,\n",
    "    ]\n",
    ")\n",
    "q / jnp.linalg.norm(q)"
   ]
  },
  {
   "cell_type": "code",
   "execution_count": null,
   "metadata": {},
   "outputs": [],
   "source": []
  }
 ],
 "metadata": {
  "kernelspec": {
   "display_name": ".venv",
   "language": "python",
   "name": "python3"
  },
  "language_info": {
   "codemirror_mode": {
    "name": "ipython",
    "version": 3
   },
   "file_extension": ".py",
   "mimetype": "text/x-python",
   "name": "python",
   "nbconvert_exporter": "python",
   "pygments_lexer": "ipython3",
   "version": "3.13.0"
  }
 },
 "nbformat": 4,
 "nbformat_minor": 2
}
