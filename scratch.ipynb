{
 "cells": [
  {
   "cell_type": "markdown",
   "metadata": {},
   "source": [
    "# scratch work"
   ]
  },
  {
   "cell_type": "code",
   "execution_count": 2,
   "metadata": {},
   "outputs": [],
   "source": [
    "import jax\n",
    "\n",
    "jax.config.update(\"jax_enable_x64\", True)\n",
    "import jax.numpy as jnp\n",
    "from functools import partial\n",
    "from tqdm import tqdm\n",
    "\n",
    "\n",
    "from decimal import Decimal, getcontext\n",
    "\n",
    "getcontext().prec = 50\n",
    "\n",
    "\n",
    "import mpmath\n",
    "\n",
    "mpmath.mp.dps = 75\n",
    "\n",
    "from jorbit.integrators import initialize_ias15_integrator_state\n",
    "from jorbit.integrators.ias15 import ias15_step\n",
    "from jorbit.utils.states import SystemState\n",
    "\n",
    "\n",
    "from jorbit.utils.doubledouble import DoubleDouble, dd_sum, dd_sqrt, dd_max, dd_norm\n",
    "from jorbit.utils.generate_coefficients import create_iasnn_constants\n",
    "from jorbit.data.constants import IAS15_D, IAS15_H, IAS15_RR, IAS15_C\n",
    "from jorbit.integrators.ias15_dd import setup_iasnn_integrator, step, _refine_b_and_g"
   ]
  },
  {
   "cell_type": "code",
   "execution_count": 9,
   "metadata": {},
   "outputs": [
    {
     "name": "stderr",
     "output_type": "stream",
     "text": [
      "100%|██████████| 998/998 [00:00<00:00, 1329.26it/s]\n",
      "100%|██████████| 998/998 [00:00<00:00, 1297.28it/s]\n",
      "100%|██████████| 50000/50000 [00:27<00:00, 1833.22it/s]\n",
      "100%|██████████| 50000/50000 [01:03<00:00, 786.40it/s]\n",
      "100%|██████████| 50000/50000 [00:10<00:00, 4626.03it/s]\n"
     ]
    }
   ],
   "source": [
    "precompued_setup_7 = setup_iasnn_integrator(n_internal_points=7)\n",
    "precompued_setup_10 = setup_iasnn_integrator(n_internal_points=10)\n",
    "\n",
    "n_orbits = 500\n",
    "\n",
    "errs_7 = []\n",
    "errs_10 = []\n",
    "errs_old = []\n",
    "for steps_per_orbit in [100]:\n",
    "    steps_per_orbit = int(steps_per_orbit)\n",
    "\n",
    "    x0 = DoubleDouble(jnp.array([[1.0, 0, 0]]))\n",
    "    v0 = DoubleDouble(jnp.array([[0, 1.0, 0]]))\n",
    "    b = DoubleDouble(jnp.zeros((7, 1, 3), dtype=jnp.float64))\n",
    "    dt = DoubleDouble.from_string(\n",
    "        str(mpmath.mpf(\"2\") * mpmath.pi / mpmath.mpf(str(steps_per_orbit)))\n",
    "    )\n",
    "\n",
    "    for i in tqdm(range(int(steps_per_orbit * n_orbits))):\n",
    "        x0, v0, b = step(x0, v0, b, dt, precompued_setup_7)\n",
    "    errs_7.append(dd_norm(DoubleDouble(jnp.array([[1.0, 0, 0]])) - x0, axis=1))\n",
    "\n",
    "    x0 = DoubleDouble(jnp.array([[1.0, 0, 0]]))\n",
    "    v0 = DoubleDouble(jnp.array([[0, 1.0, 0]]))\n",
    "    b = DoubleDouble(jnp.zeros((10, 1, 3), dtype=jnp.float64))\n",
    "    dt = DoubleDouble.from_string(\n",
    "        str(mpmath.mpf(\"2\") * mpmath.pi / mpmath.mpf(str(steps_per_orbit)))\n",
    "    )\n",
    "\n",
    "    for i in tqdm(range(int(steps_per_orbit * n_orbits))):\n",
    "        x0, v0, b = step(x0, v0, b, dt, precompued_setup_10)\n",
    "    errs_10.append(dd_norm(DoubleDouble(jnp.array([[1.0, 0, 0]])) - x0, axis=1))\n",
    "\n",
    "    s = SystemState(\n",
    "        massive_positions=jnp.empty((0, 3)),\n",
    "        massive_velocities=jnp.empty((0, 3)),\n",
    "        tracer_positions=jnp.array([[1.0, 0, 0]]),\n",
    "        tracer_velocities=jnp.array([[0, 1.0, 0]]),\n",
    "        log_gms=jnp.empty((0, 1)),\n",
    "        time=0.0,\n",
    "        acceleration_func_kwargs=None,\n",
    "    )\n",
    "    acceleration_func = (\n",
    "        lambda s: -s.tracer_positions / jnp.linalg.norm(s.tracer_positions) ** 3\n",
    "    )\n",
    "    acceleration_func = jax.tree_util.Partial(acceleration_func)\n",
    "    a0 = acceleration_func(s)\n",
    "    ias15_state = initialize_ias15_integrator_state(a0)\n",
    "    ias15_state.dt = float(2 * mpmath.pi / steps_per_orbit)\n",
    "\n",
    "    for i in tqdm(range(steps_per_orbit * n_orbits)):\n",
    "        s, ias15_state = ias15_step(s, acceleration_func, ias15_state)\n",
    "        ias15_state.dt = float(2 * mpmath.pi / steps_per_orbit)\n",
    "\n",
    "    errs_old.append(\n",
    "        jnp.linalg.norm(s.tracer_positions - jnp.array([[1.0, 0, 0]]), axis=1)\n",
    "    )"
   ]
  },
  {
   "cell_type": "code",
   "execution_count": 10,
   "metadata": {},
   "outputs": [
    {
     "data": {
      "text/plain": [
       "([DoubleDouble([9.13533848e-14], [3.21262053e-30])],\n",
       " [DoubleDouble([1.21142096e-13], [1.4754822e-30])],\n",
       " [Array([7.11460062e-11], dtype=float64)])"
      ]
     },
     "execution_count": 10,
     "metadata": {},
     "output_type": "execute_result"
    }
   ],
   "source": [
    "errs_7, errs_10, errs_old"
   ]
  },
  {
   "cell_type": "code",
   "execution_count": 3,
   "metadata": {},
   "outputs": [
    {
     "name": "stderr",
     "output_type": "stream",
     "text": [
      "100%|██████████| 998/998 [00:00<00:00, 1413.56it/s]\n",
      "100%|██████████| 998/998 [00:00<00:00, 1327.07it/s]\n",
      "100%|██████████| 500/500 [00:02<00:00, 169.06it/s]\n",
      "100%|██████████| 500/500 [00:05<00:00, 90.04it/s] \n",
      "100%|██████████| 500/500 [00:00<00:00, 702.90it/s]\n",
      "100%|██████████| 500/500 [00:00<00:00, 1953.02it/s]\n",
      "100%|██████████| 500/500 [00:00<00:00, 919.07it/s] \n",
      "100%|██████████| 500/500 [00:00<00:00, 869.86it/s] \n",
      "100%|██████████| 1000/1000 [00:00<00:00, 1904.74it/s]\n",
      "100%|██████████| 1000/1000 [00:01<00:00, 895.05it/s]\n",
      "100%|██████████| 1000/1000 [00:00<00:00, 1403.52it/s]\n",
      "100%|██████████| 1000/1000 [00:00<00:00, 1905.92it/s]\n",
      "100%|██████████| 1000/1000 [00:01<00:00, 861.97it/s]\n",
      "100%|██████████| 1000/1000 [00:00<00:00, 1326.21it/s]\n",
      "100%|██████████| 2000/2000 [00:01<00:00, 1829.24it/s]\n",
      "100%|██████████| 2000/2000 [00:02<00:00, 860.94it/s]\n",
      "100%|██████████| 2000/2000 [00:00<00:00, 2119.19it/s]\n",
      "100%|██████████| 3000/3000 [00:01<00:00, 1793.98it/s]\n",
      "100%|██████████| 3000/3000 [00:03<00:00, 858.46it/s]\n",
      "100%|██████████| 3000/3000 [00:01<00:00, 2643.95it/s]\n",
      "100%|██████████| 4000/4000 [00:02<00:00, 1858.85it/s]\n",
      "100%|██████████| 4000/4000 [00:04<00:00, 855.21it/s]\n",
      "100%|██████████| 4000/4000 [00:01<00:00, 2860.39it/s]\n",
      "100%|██████████| 6000/6000 [00:03<00:00, 1863.16it/s]\n",
      "100%|██████████| 6000/6000 [00:06<00:00, 872.04it/s]\n",
      "100%|██████████| 6000/6000 [00:01<00:00, 3314.59it/s]\n",
      "100%|██████████| 9000/9000 [00:05<00:00, 1788.02it/s]\n",
      "100%|██████████| 9000/9000 [00:10<00:00, 856.09it/s]\n",
      "100%|██████████| 9000/9000 [00:02<00:00, 3291.40it/s]\n",
      "100%|██████████| 13000/13000 [00:07<00:00, 1833.89it/s]\n",
      "100%|██████████| 13000/13000 [00:15<00:00, 863.04it/s]\n",
      "100%|██████████| 13000/13000 [00:03<00:00, 3711.59it/s]\n",
      "100%|██████████| 18500/18500 [00:10<00:00, 1837.39it/s]\n",
      "100%|██████████| 18500/18500 [00:21<00:00, 862.75it/s]\n",
      "100%|██████████| 18500/18500 [00:04<00:00, 4163.91it/s]\n",
      "100%|██████████| 27000/27000 [00:14<00:00, 1831.42it/s]\n",
      "100%|██████████| 27000/27000 [00:31<00:00, 855.60it/s]\n",
      "100%|██████████| 27000/27000 [00:06<00:00, 4144.47it/s]\n",
      "100%|██████████| 39000/39000 [00:21<00:00, 1810.83it/s]\n",
      "100%|██████████| 39000/39000 [00:45<00:00, 856.54it/s]\n",
      "100%|██████████| 39000/39000 [00:08<00:00, 4828.89it/s]\n",
      "100%|██████████| 56000/56000 [00:30<00:00, 1816.59it/s]\n",
      "100%|██████████| 56000/56000 [01:04<00:00, 865.59it/s]\n",
      "100%|██████████| 56000/56000 [00:10<00:00, 5105.08it/s]\n",
      "100%|██████████| 81000/81000 [00:44<00:00, 1835.22it/s]\n",
      "100%|██████████| 81000/81000 [01:33<00:00, 864.76it/s]\n",
      "100%|██████████| 81000/81000 [00:16<00:00, 4813.38it/s]\n",
      "100%|██████████| 116500/116500 [01:03<00:00, 1831.75it/s]\n",
      "100%|██████████| 116500/116500 [02:14<00:00, 868.54it/s]\n",
      "100%|██████████| 116500/116500 [00:22<00:00, 5118.45it/s]\n",
      "100%|██████████| 167500/167500 [01:32<00:00, 1818.64it/s]\n",
      "100%|██████████| 167500/167500 [03:13<00:00, 866.07it/s]\n",
      "100%|██████████| 167500/167500 [00:32<00:00, 5098.36it/s]\n",
      "100%|██████████| 241500/241500 [02:12<00:00, 1821.19it/s]\n",
      "100%|██████████| 241500/241500 [04:41<00:00, 858.14it/s]\n",
      "100%|██████████| 241500/241500 [00:49<00:00, 4870.79it/s]\n",
      "100%|██████████| 347500/347500 [03:11<00:00, 1813.50it/s]\n",
      "100%|██████████| 347500/347500 [06:42<00:00, 863.14it/s]\n",
      "100%|██████████| 347500/347500 [01:05<00:00, 5306.98it/s]\n",
      "100%|██████████| 500000/500000 [04:32<00:00, 1831.63it/s]\n",
      "100%|██████████| 500000/500000 [09:39<00:00, 862.53it/s]\n",
      "100%|██████████| 500000/500000 [01:27<00:00, 5716.21it/s]\n"
     ]
    }
   ],
   "source": [
    "precompued_setup_7 = setup_iasnn_integrator(n_internal_points=7)\n",
    "precompued_setup_10 = setup_iasnn_integrator(n_internal_points=10)\n",
    "\n",
    "n_orbits = 500\n",
    "\n",
    "errs_7 = []\n",
    "errs_10 = []\n",
    "errs_old = []\n",
    "for steps_per_orbit in jnp.logspace(0, 3, 20):\n",
    "    steps_per_orbit = int(steps_per_orbit)\n",
    "\n",
    "    x0 = DoubleDouble(jnp.array([[1.0, 0, 0]]))\n",
    "    v0 = DoubleDouble(jnp.array([[0, 1.0, 0]]))\n",
    "    b = DoubleDouble(jnp.zeros((7, 1, 3), dtype=jnp.float64))\n",
    "    dt = DoubleDouble.from_string(str((2 * mpmath.pi) / steps_per_orbit))\n",
    "\n",
    "    for i in tqdm(range(int(steps_per_orbit * n_orbits))):\n",
    "        x0, v0, b = step(x0, v0, b, dt, precompued_setup_7)\n",
    "    errs_7.append(dd_norm(DoubleDouble(jnp.array([[1.0, 0, 0]])) - x0, axis=1))\n",
    "\n",
    "    x0 = DoubleDouble(jnp.array([[1.0, 0, 0]]))\n",
    "    v0 = DoubleDouble(jnp.array([[0, 1.0, 0]]))\n",
    "    b = DoubleDouble(jnp.zeros((10, 1, 3), dtype=jnp.float64))\n",
    "    dt = DoubleDouble.from_string(str((2 * mpmath.pi + 0.0) / steps_per_orbit))\n",
    "\n",
    "    for i in tqdm(range(int(steps_per_orbit * n_orbits))):\n",
    "        x0, v0, b = step(x0, v0, b, dt, precompued_setup_10)\n",
    "    errs_10.append(dd_norm(DoubleDouble(jnp.array([[1.0, 0, 0]])) - x0, axis=1))\n",
    "\n",
    "    s = SystemState(\n",
    "        massive_positions=jnp.empty((0, 3)),\n",
    "        massive_velocities=jnp.empty((0, 3)),\n",
    "        tracer_positions=jnp.array([[1.0, 0, 0]]),\n",
    "        tracer_velocities=jnp.array([[0, 1.0, 0]]),\n",
    "        log_gms=jnp.empty((0, 1)),\n",
    "        time=0.0,\n",
    "        acceleration_func_kwargs=None,\n",
    "    )\n",
    "    acceleration_func = (\n",
    "        lambda s: -s.tracer_positions / jnp.linalg.norm(s.tracer_positions) ** 3\n",
    "    )\n",
    "    acceleration_func = jax.tree_util.Partial(acceleration_func)\n",
    "    a0 = acceleration_func(s)\n",
    "    ias15_state = initialize_ias15_integrator_state(a0)\n",
    "    ias15_state.dt = float(2 * mpmath.pi / steps_per_orbit)\n",
    "\n",
    "    for i in tqdm(range(steps_per_orbit * n_orbits)):\n",
    "        s, ias15_state = ias15_step(s, acceleration_func, ias15_state)\n",
    "        ias15_state.dt = float(2 * mpmath.pi / steps_per_orbit)\n",
    "\n",
    "    errs_old.append(\n",
    "        jnp.linalg.norm(s.tracer_positions - jnp.array([[1.0, 0, 0]]), axis=1)\n",
    "    )"
   ]
  },
  {
   "cell_type": "code",
   "execution_count": null,
   "metadata": {},
   "outputs": [
    {
     "data": {
      "image/png": "[encoded data removed]",
      "text/plain": [
       "<Figure size 800x600 with 1 Axes>"
      ]
     },
     "metadata": {},
     "output_type": "display_data"
    }
   ],
   "source": [
    "# ah, I bet all the large steps were rejected by the IAS15 integrator,\n",
    "# so it just stayed in the same place\n",
    "import matplotlib.pyplot as plt\n",
    "\n",
    "fig, ax = plt.subplots(figsize=(8, 6))\n",
    "ax.plot(\n",
    "    [int(i) for i in jnp.logspace(0, 3, 20)],\n",
    "    [i.hi[0] for i in errs_7],\n",
    "    label=\"7 points\",\n",
    "    marker=\"o\",\n",
    ")\n",
    "ax.plot(\n",
    "    [int(i) for i in jnp.logspace(0, 3, 20)],\n",
    "    [i.hi[0] for i in errs_10],\n",
    "    label=\"10 points\",\n",
    "    marker=\"o\",\n",
    ")\n",
    "ax.plot([int(i) for i in jnp.logspace(0, 3, 20)], errs_old, label=\"IAS15\", marker=\"o\")\n",
    "ax.set(xlabel=\"Steps per orbit\", ylabel=\"Error\", xscale=\"log\", yscale=\"log\")\n",
    "ax.legend()\n",
    "plt.tight_layout()"
   ]
  },
  {
   "cell_type": "code",
   "execution_count": null,
   "metadata": {},
   "outputs": [],
   "source": []
  },
  {
   "cell_type": "code",
   "execution_count": null,
   "metadata": {},
   "outputs": [],
   "source": []
  },
  {
   "cell_type": "code",
   "execution_count": 18,
   "metadata": {},
   "outputs": [
    {
     "name": "stderr",
     "output_type": "stream",
     "text": [
      "100%|██████████| 998/998 [00:00<00:00, 1301.56it/s]\n",
      "100%|██████████| 10000/10000 [00:05<00:00, 1825.24it/s]\n"
     ]
    },
    {
     "data": {
      "text/plain": [
       "(DoubleDouble([[ 1.00000000e+00 -2.07159707e-14  0.00000000e+00]], [[-1.29726862e-18  4.19082356e-31  0.00000000e+00]]),\n",
       " DoubleDouble([[2.07159707e-14 1.00000000e+00 0.00000000e+00]], [[1.38743993e-30 6.48634124e-19 0.00000000e+00]]))"
      ]
     },
     "execution_count": 18,
     "metadata": {},
     "output_type": "execute_result"
    }
   ],
   "source": [
    "steps_per_orbit = 100\n",
    "n_orbits = 100\n",
    "\n",
    "precompued_setup = setup_iasnn_integrator(n_internal_points=7)\n",
    "x0 = DoubleDouble(jnp.array([[1.0, 0, 0]]))\n",
    "v0 = DoubleDouble(jnp.array([[0, 1.0, 0]]))\n",
    "b = DoubleDouble(jnp.zeros((7, 1, 3), dtype=jnp.float64))\n",
    "dt = DoubleDouble.from_string(str((2 * mpmath.pi + 0.0) / steps_per_orbit))\n",
    "\n",
    "for i in tqdm(range(int(steps_per_orbit * n_orbits))):\n",
    "    x0, v0, b = step(x0, v0, b, dt, precompued_setup)\n",
    "\n",
    "x0, v0"
   ]
  },
  {
   "cell_type": "code",
   "execution_count": 17,
   "metadata": {},
   "outputs": [
    {
     "name": "stderr",
     "output_type": "stream",
     "text": [
      "100%|██████████| 10000/10000 [00:02<00:00, 3432.23it/s]\n"
     ]
    },
    {
     "data": {
      "text/plain": [
       "(Array([[1.00000000e+00, 5.30836486e-12, 0.00000000e+00]], dtype=float64),\n",
       " Array([[-5.31148736e-12,  1.00000000e+00,  0.00000000e+00]], dtype=float64))"
      ]
     },
     "execution_count": 17,
     "metadata": {},
     "output_type": "execute_result"
    }
   ],
   "source": [
    "steps_per_orbit = 100\n",
    "n_orbits = 100\n",
    "\n",
    "s = SystemState(\n",
    "    massive_positions=jnp.empty((0, 3)),\n",
    "    massive_velocities=jnp.empty((0, 3)),\n",
    "    tracer_positions=jnp.array([[1.0, 0, 0]]),\n",
    "    tracer_velocities=jnp.array([[0, 1.0, 0]]),\n",
    "    log_gms=jnp.empty((0, 1)),\n",
    "    time=0.0,\n",
    "    acceleration_func_kwargs=None,\n",
    ")\n",
    "acceleration_func = (\n",
    "    lambda s: -s.tracer_positions / jnp.linalg.norm(s.tracer_positions) ** 3\n",
    ")\n",
    "acceleration_func = jax.tree_util.Partial(acceleration_func)\n",
    "a0 = acceleration_func(s)\n",
    "ias15_state = initialize_ias15_integrator_state(a0)\n",
    "ias15_state.dt = float(2 * mpmath.pi / steps_per_orbit)\n",
    "\n",
    "for i in tqdm(range(steps_per_orbit * n_orbits)):\n",
    "    s, ias15_state = ias15_step(s, acceleration_func, ias15_state)\n",
    "    ias15_state.dt = float(2 * mpmath.pi / steps_per_orbit)\n",
    "\n",
    "s.tracer_positions, s.tracer_velocities"
   ]
  },
  {
   "cell_type": "code",
   "execution_count": 7,
   "metadata": {},
   "outputs": [
    {
     "name": "stderr",
     "output_type": "stream",
     "text": [
      "100%|██████████| 998/998 [00:00<00:00, 1248.57it/s]\n",
      "100%|██████████| 4/4 [00:04<00:00,  1.24s/it]\n"
     ]
    },
    {
     "data": {
      "text/plain": [
       "(DoubleDouble([[ 1.00000000e+00 -1.80984667e-15  0.00000000e+00]], [[-2.72730187e-18  2.46519033e-32  0.00000000e+00]]),\n",
       " DoubleDouble([[1.31348663e-15 1.00000000e+00 0.00000000e+00]], [[5.23852945e-32 1.02232896e-17 0.00000000e+00]]))"
      ]
     },
     "execution_count": 7,
     "metadata": {},
     "output_type": "execute_result"
    }
   ],
   "source": [
    "steps_per_orbit = 4\n",
    "n_orbits = 1\n",
    "\n",
    "precompued_setup = setup_iasnn_integrator(n_internal_points=10)\n",
    "x0 = DoubleDouble(jnp.array([[1.0, 0, 0]]))\n",
    "v0 = DoubleDouble(jnp.array([[0, 1.0, 0]]))\n",
    "b = DoubleDouble(jnp.zeros((10, 1, 3), dtype=jnp.float64))\n",
    "dt = DoubleDouble.from_string(str((2 * mpmath.pi) / steps_per_orbit))\n",
    "\n",
    "for i in tqdm(range(steps_per_orbit * n_orbits)):\n",
    "    x0, v0, b = step(x0, v0, b, dt, precompued_setup)\n",
    "\n",
    "x0, v0"
   ]
  },
  {
   "cell_type": "code",
   "execution_count": 8,
   "metadata": {},
   "outputs": [
    {
     "name": "stderr",
     "output_type": "stream",
     "text": [
      "100%|██████████| 998/998 [00:00<00:00, 1288.95it/s]\n",
      "100%|██████████| 100/100 [00:00<00:00, 1214.71it/s]\n"
     ]
    },
    {
     "data": {
      "text/plain": [
       "(DoubleDouble([[ 1.00000000e+00 -2.12635134e-16  0.00000000e+00]], [[ 1.30613558e-20 -7.70371978e-34  0.00000000e+00]]),\n",
       " DoubleDouble([[2.12634588e-16 1.00000000e+00 0.00000000e+00]], [[-6.93334780e-33 -6.45543044e-21  0.00000000e+00]]))"
      ]
     },
     "execution_count": 8,
     "metadata": {},
     "output_type": "execute_result"
    }
   ],
   "source": [
    "steps_per_orbit = 100\n",
    "n_orbits = 1\n",
    "\n",
    "precompued_setup = setup_iasnn_integrator(n_internal_points=10)\n",
    "x0 = DoubleDouble(jnp.array([[1.0, 0, 0]]))\n",
    "v0 = DoubleDouble(jnp.array([[0, 1.0, 0]]))\n",
    "b = DoubleDouble(jnp.zeros((10, 1, 3), dtype=jnp.float64))\n",
    "dt = DoubleDouble.from_string(str((2 * mpmath.pi) / steps_per_orbit))\n",
    "\n",
    "for i in tqdm(range(steps_per_orbit * n_orbits)):\n",
    "    x0, v0, b = step(x0, v0, b, dt, precompued_setup)\n",
    "\n",
    "x0, v0"
   ]
  },
  {
   "cell_type": "code",
   "execution_count": 10,
   "metadata": {},
   "outputs": [
    {
     "name": "stderr",
     "output_type": "stream",
     "text": [
      "100%|██████████| 998/998 [00:00<00:00, 1316.58it/s]\n",
      "100%|██████████| 20000/20000 [00:23<00:00, 862.39it/s]\n"
     ]
    },
    {
     "data": {
      "text/plain": [
       "(DoubleDouble([[ 1.00000000e+00 -1.35005685e-15  0.00000000e+00]], [[ 1.47442894e-19 -2.00296714e-32  0.00000000e+00]]),\n",
       " DoubleDouble([[1.35005646e-15 1.00000000e+00 0.00000000e+00]], [[-1.54074396e-33 -7.37546212e-20  0.00000000e+00]]))"
      ]
     },
     "execution_count": 10,
     "metadata": {},
     "output_type": "execute_result"
    }
   ],
   "source": [
    "steps_per_orbit = 200\n",
    "n_orbits = 100\n",
    "\n",
    "precompued_setup = setup_iasnn_integrator(n_internal_points=10)\n",
    "x0 = DoubleDouble(jnp.array([[1.0, 0, 0]]))\n",
    "v0 = DoubleDouble(jnp.array([[0, 1.0, 0]]))\n",
    "b = DoubleDouble(jnp.zeros((10, 1, 3), dtype=jnp.float64))\n",
    "dt = DoubleDouble.from_string(str((2 * mpmath.pi + 0.0) / steps_per_orbit))\n",
    "\n",
    "for i in tqdm(range(steps_per_orbit * n_orbits)):\n",
    "    x0, v0, b = step(x0, v0, b, dt, precompued_setup)\n",
    "\n",
    "x0, v0"
   ]
  },
  {
   "cell_type": "code",
   "execution_count": 11,
   "metadata": {},
   "outputs": [
    {
     "name": "stderr",
     "output_type": "stream",
     "text": [
      "100%|██████████| 998/998 [00:00<00:00, 1304.92it/s]\n",
      "100%|██████████| 20000/20000 [00:23<00:00, 856.25it/s]\n"
     ]
    },
    {
     "data": {
      "text/plain": [
       "(DoubleDouble([[ 1.00000000e+00 -6.50571219e-12  0.00000000e+00]], [[ 7.14104798e-17 -2.75756190e-28  0.00000000e+00]]),\n",
       " DoubleDouble([[6.50570162e-12 1.00000000e+00 0.00000000e+00]], [[ 1.04943152e-28 -3.07207398e-17  0.00000000e+00]]))"
      ]
     },
     "execution_count": 11,
     "metadata": {},
     "output_type": "execute_result"
    }
   ],
   "source": [
    "steps_per_orbit = 20\n",
    "n_orbits = 1000\n",
    "\n",
    "precompued_setup = setup_iasnn_integrator(n_internal_points=10)\n",
    "x0 = DoubleDouble(jnp.array([[1.0, 0, 0]]))\n",
    "v0 = DoubleDouble(jnp.array([[0, 1.0, 0]]))\n",
    "b = DoubleDouble(jnp.zeros((10, 1, 3), dtype=jnp.float64))\n",
    "dt = DoubleDouble.from_string(str((2 * mpmath.pi + 0.0) / steps_per_orbit))\n",
    "\n",
    "for i in tqdm(range(steps_per_orbit * n_orbits)):\n",
    "    x0, v0, b = step(x0, v0, b, dt, precompued_setup)\n",
    "\n",
    "x0, v0"
   ]
  },
  {
   "cell_type": "code",
   "execution_count": 6,
   "metadata": {},
   "outputs": [
    {
     "name": "stderr",
     "output_type": "stream",
     "text": [
      "100%|██████████| 998/998 [00:00<00:00, 1308.39it/s]\n",
      "100%|██████████| 50000/50000 [00:55<00:00, 906.87it/s]\n"
     ]
    },
    {
     "data": {
      "text/plain": [
       "(DoubleDouble([[1.00000000e+00 1.13638372e-14 0.00000000e+00]], [[ 2.26883546e-21 -5.80860471e-31  0.00000000e+00]]),\n",
       " DoubleDouble([[-1.13638372e-14  1.00000000e+00  0.00000000e+00]], [[9.88965026e-32 2.27258869e-21 0.00000000e+00]]))"
      ]
     },
     "execution_count": 6,
     "metadata": {},
     "output_type": "execute_result"
    }
   ],
   "source": [
    "steps_per_orbit = 500\n",
    "n_orbits = 100\n",
    "\n",
    "precompued_setup = setup_iasnn_integrator(n_internal_points=10)\n",
    "x0 = DoubleDouble(jnp.array([[1.0, 0, 0]]))\n",
    "v0 = DoubleDouble(jnp.array([[0, 1.0, 0]]))\n",
    "b = DoubleDouble(jnp.zeros((10, 1, 3), dtype=jnp.float64))\n",
    "dt = DoubleDouble.from_string(str((2 * mpmath.pi + 0.0) / steps_per_orbit))\n",
    "\n",
    "for i in tqdm(range(steps_per_orbit * n_orbits)):\n",
    "    x0, v0, b = step(x0, v0, b, dt, precompued_setup)\n",
    "\n",
    "x0, v0"
   ]
  },
  {
   "cell_type": "code",
   "execution_count": null,
   "metadata": {},
   "outputs": [],
   "source": []
  },
  {
   "cell_type": "code",
   "execution_count": null,
   "metadata": {},
   "outputs": [],
   "source": []
  },
  {
   "cell_type": "code",
   "execution_count": 2,
   "metadata": {},
   "outputs": [
    {
     "name": "stderr",
     "output_type": "stream",
     "text": [
      "100%|██████████| 998/998 [00:00<00:00, 1327.32it/s]\n"
     ]
    },
    {
     "name": "stdout",
     "output_type": "stream",
     "text": [
      "9.078189011428969e-08, 1.385267466371358e-24\n",
      "9.078329377329865e-08, 3.1515783718578683e-24\n",
      "1.403658108985477e-12, 5.55928757245284e-29\n",
      "3.550585141034579e-18, 2.2739725047063933e-34\n",
      "5.197573865099549e-24, 3.0737848453155247e-40\n",
      "4.83800112196301e-30, 7.478161909984233e-47\n",
      "0.0, 0.0\n",
      "just chillin\n",
      "0.0, 0.0\n",
      "just chillin\n",
      "0.0, 0.0\n",
      "just chillin\n",
      "0.0, 0.0\n"
     ]
    }
   ],
   "source": [
    "precompued_setup = setup_iasnn_integrator(n_internal_points=7)\n",
    "\n",
    "x0_init_dd = DoubleDouble(jnp.ones((4, 3), dtype=jnp.float64) * 0.123)\n",
    "v0_init_dd = DoubleDouble(jnp.ones((4, 3), dtype=jnp.float64) * 0.2)\n",
    "b_init_dd = DoubleDouble(jnp.zeros((7, 4, 3), dtype=jnp.float64))\n",
    "dt = DoubleDouble(0.01)\n",
    "\n",
    "x, v = step(x0_init_dd, v0_init_dd, b_init_dd, precompued_setup)"
   ]
  },
  {
   "cell_type": "code",
   "execution_count": 3,
   "metadata": {},
   "outputs": [
    {
     "name": "stderr",
     "output_type": "stream",
     "text": [
      "100%|██████████| 998/998 [00:00<00:00, 1354.92it/s]\n"
     ]
    },
    {
     "name": "stdout",
     "output_type": "stream",
     "text": [
      "1.53666841559451e-07, 1.1972114273618816e-23\n",
      "1.5367036991876876e-07, -1.6573642830200254e-24\n",
      "3.528366332836511e-12, 1.1446569265705992e-28\n",
      "9.896009945747064e-18, 1.9401711081723877e-35\n",
      "1.4161813626065117e-23, 3.909185821020514e-40\n",
      "4.044570063050254e-29, -1.8020644783897357e-46\n",
      "0.0, 0.0\n",
      "just chillin\n",
      "0.0, 0.0\n",
      "just chillin\n",
      "0.0, 0.0\n",
      "just chillin\n",
      "0.0, 0.0\n"
     ]
    }
   ],
   "source": [
    "precompued_setup = setup_iasnn_integrator(n_internal_points=8)\n",
    "\n",
    "x0_init_dd = DoubleDouble(jnp.ones((4, 3), dtype=jnp.float64) * 0.123)\n",
    "v0_init_dd = DoubleDouble(jnp.ones((4, 3), dtype=jnp.float64) * 0.2)\n",
    "a0_init_dd = -x0_init_dd\n",
    "b_init_dd = DoubleDouble(jnp.zeros((8, 4, 3), dtype=jnp.float64))\n",
    "\n",
    "x, v = step(x0_init_dd, v0_init_dd, b_init_dd, precompued_setup)"
   ]
  },
  {
   "cell_type": "code",
   "execution_count": 6,
   "metadata": {},
   "outputs": [
    {
     "name": "stdout",
     "output_type": "stream",
     "text": [
      "1.19 ms ± 26.2 μs per loop (mean ± std. dev. of 7 runs, 1,000 loops each)\n"
     ]
    }
   ],
   "source": [
    "%%timeit\n",
    "step(x0_init_dd, v0_init_dd, a0_init_dd, b_init_dd, precompued_setup)[\n",
    "    0\n",
    "].hi.block_until_ready()"
   ]
  },
  {
   "cell_type": "code",
   "execution_count": null,
   "metadata": {},
   "outputs": [],
   "source": []
  },
  {
   "cell_type": "code",
   "execution_count": null,
   "metadata": {},
   "outputs": [],
   "source": []
  }
 ],
 "metadata": {
  "kernelspec": {
   "display_name": ".venv",
   "language": "python",
   "name": "python3"
  },
  "language_info": {
   "codemirror_mode": {
    "name": "ipython",
    "version": 3
   },
   "file_extension": ".py",
   "mimetype": "text/x-python",
   "name": "python",
   "nbconvert_exporter": "python",
   "pygments_lexer": "ipython3",
   "version": "3.13.0"
  }
 },
 "nbformat": 4,
 "nbformat_minor": 2
}
