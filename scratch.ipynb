{
 "cells": [
  {
   "cell_type": "markdown",
   "metadata": {},
   "source": [
    "# scratch work"
   ]
  },
  {
   "cell_type": "code",
   "execution_count": 10,
   "metadata": {},
   "outputs": [],
   "source": [
    "import jax\n",
    "\n",
    "jax.config.update(\"jax_enable_x64\", True)\n",
    "import astropy.units as u\n",
    "import jax.numpy as jnp\n",
    "from astropy.coordinates import SkyCoord\n",
    "from astropy.time import Time\n",
    "from astroquery.jplhorizons import Horizons\n",
    "\n",
    "from jorbit import Observations, Particle\n"
   ]
  },
  {
   "cell_type": "code",
   "execution_count": 11,
   "metadata": {},
   "outputs": [],
   "source": [
    "nights = [Time(\"2025-01-01 07:00\"), Time(\"2025-01-02 07:00\"), Time(\"2025-01-05 07:00\")]\n",
    "\n",
    "times = []\n",
    "for n in nights:\n",
    "    times.extend([n + i * 1 * u.hour for i in range(3)])\n",
    "times = Time(times)\n",
    "\n",
    "\n",
    "# obj = Horizons(id=\"274301\", location=\"695@399\", epochs=times.utc.jd)\n",
    "obj = Horizons(id=\"90377\", location=\"695@399\", epochs=times.utc.jd)\n",
    "pts = obj.ephemerides(extra_precision=True, quantities=\"1\")\n",
    "\n",
    "coords = SkyCoord(pts[\"RA\"], pts[\"DEC\"], unit=(u.deg, u.deg))\n",
    "times = Time(pts[\"datetime_jd\"], format=\"jd\", scale=\"utc\")"
   ]
  },
  {
   "cell_type": "code",
   "execution_count": 12,
   "metadata": {},
   "outputs": [
    {
     "data": {
      "text/plain": [
       "Observations with 9 set(s) of observations"
      ]
     },
     "execution_count": 12,
     "metadata": {},
     "output_type": "execute_result"
    }
   ],
   "source": [
    "obs = Observations(\n",
    "    observed_coordinates=coords,\n",
    "    times=times,\n",
    "    observatories=\"kitt peak\",\n",
    "    astrometric_uncertainties=1 * u.arcsec,\n",
    ")\n",
    "obs"
   ]
  },
  {
   "cell_type": "code",
   "execution_count": 13,
   "metadata": {},
   "outputs": [
    {
     "data": {
      "text/plain": [
       "KeplerianState(semi=Array([532.05169735], dtype=float64), ecc=Array([0.85738742], dtype=float64), inc=Array([11.92849799], dtype=float64), Omega=Array([144.40266084], dtype=float64), omega=Array([311.99163074], dtype=float64), nu=Array([323.84396056], dtype=float64), time=Array(2460676.79246741, dtype=float64))"
      ]
     },
     "execution_count": 13,
     "metadata": {},
     "output_type": "execute_result"
    }
   ],
   "source": [
    "from jorbit.astrometry.orbit_fit_seeds import gauss_method_orbit\n",
    "\n",
    "gauss_method_orbit(obs[0] + obs[1] + obs[-1]).to_keplerian()"
   ]
  },
  {
   "cell_type": "code",
   "execution_count": 14,
   "metadata": {},
   "outputs": [
    {
     "data": {
      "text/plain": [
       "(Array([40.298248  , 71.80844307, 12.46825354], dtype=float64),\n",
       " Array([-0.00247257,  0.00048492,  0.00042657], dtype=float64))"
      ]
     },
     "execution_count": 14,
     "metadata": {},
     "output_type": "execute_result"
    }
   ],
   "source": [
    "# obj = Horizons(id=\"274301\", location=\"500@0\", epochs=times.tdb.jd[0])\n",
    "obj = Horizons(id=\"90377\", location=\"500@0\", epochs=times.tdb.jd[0])\n",
    "vecs = obj.vectors(refplane=\"earth\")\n",
    "true_x0 = jnp.array([vecs[\"x\"], vecs[\"y\"], vecs[\"z\"]]).T[0]\n",
    "true_v0 = jnp.array([vecs[\"vx\"], vecs[\"vy\"], vecs[\"vz\"]]).T[0]\n",
    "true_x0, true_v0"
   ]
  },
  {
   "cell_type": "code",
   "execution_count": 15,
   "metadata": {},
   "outputs": [
    {
     "data": {
      "text/plain": [
       "Particle: 90377 Sedna"
      ]
     },
     "execution_count": 15,
     "metadata": {},
     "output_type": "execute_result"
    }
   ],
   "source": [
    "# p0 = Particle(\n",
    "#     x=true_x0, v=true_v0, time=times[0], name=\"274301 Wikipedia\", observations=obs\n",
    "# )\n",
    "p0 = Particle(\n",
    "    x=true_x0, v=true_v0, time=times[0], name=\"90377 Sedna\", observations=obs,\n",
    ")\n",
    "p0"
   ]
  },
  {
   "cell_type": "code",
   "execution_count": 16,
   "metadata": {},
   "outputs": [
    {
     "name": "stdout",
     "output_type": "stream",
     "text": [
      "RUNNING THE L-BFGS-B CODE\n",
      "\n",
      "           * * *\n",
      "\n",
      "Machine precision = 2.220D-16\n",
      " N =            6     M =          100\n",
      "\n",
      "At X0         0 variables are exactly at the bounds\n",
      "\n",
      "At iterate    0    f=  5.47971D+01    |proj g|=  6.96136D+04\n"
     ]
    },
    {
     "name": "stderr",
     "output_type": "stream",
     "text": [
      " This problem is unconstrained.\n"
     ]
    },
    {
     "name": "stdout",
     "output_type": "stream",
     "text": [
      "\n",
      "At iterate    1    f=  3.21828D+01    |proj g|=  2.31412D+04\n",
      "\n",
      "At iterate    2    f=  2.80098D+01    |proj g|=  1.98105D+04\n",
      "\n",
      "At iterate    3    f=  1.65409D+01    |proj g|=  6.22540D-03\n",
      "\n",
      "At iterate    4    f=  1.65409D+01    |proj g|=  3.49577D-05\n",
      "\n",
      "           * * *\n",
      "\n",
      "Tit   = total number of iterations\n",
      "Tnf   = total number of function evaluations\n",
      "Tnint = total number of segments explored during Cauchy searches\n",
      "Skip  = number of BFGS updates skipped\n",
      "Nact  = number of active bounds at final generalized Cauchy point\n",
      "Projg = norm of the final projected gradient\n",
      "F     = final function value\n",
      "\n",
      "           * * *\n",
      "\n",
      "   N    Tit     Tnf  Tnint  Skip  Nact     Projg        F\n",
      "    6      4      7      1     0     0   3.496D-05   1.654D+01\n",
      "  F =   16.540893597898432     \n",
      "\n",
      "CONVERGENCE: REL_REDUCTION_OF_F_<=_FACTR*EPSMCH             \n"
     ]
    }
   ],
   "source": [
    "p1 = p0.max_likelihood(verbose=True)"
   ]
  },
  {
   "cell_type": "code",
   "execution_count": 17,
   "metadata": {},
   "outputs": [
    {
     "data": {
      "text/plain": [
       "(Array([[-8.09618597e-06, -2.05621338e-06],\n",
       "        [-6.73160907e-06, -1.25850821e-06],\n",
       "        [-5.46306045e-06, -1.66085966e-06],\n",
       "        [ 8.92576989e-06,  2.26832021e-06],\n",
       "        [ 9.35403645e-06,  2.08494868e-06],\n",
       "        [ 8.80070142e-06,  2.26148648e-06],\n",
       "        [-2.44636998e-06, -1.97665041e-07],\n",
       "        [-1.40586478e-06,  3.80336955e-07],\n",
       "        [-2.94478315e-06, -1.82466616e-06]], dtype=float64),\n",
       " Array([[-1.47200117e-06,  1.07532008e-06],\n",
       "        [-1.18933989e-06,  1.49255446e-06],\n",
       "        [-9.10482747e-07,  7.05574422e-07],\n",
       "        [ 1.01598318e-06, -9.71389347e-07],\n",
       "        [ 7.29844464e-07, -1.38023574e-06],\n",
       "        [-4.38202549e-07, -1.43192019e-06],\n",
       "        [-1.74874341e-07, -9.56226198e-08],\n",
       "        [ 1.30691672e-06,  7.22190964e-07],\n",
       "        [ 3.07147170e-07, -1.24653535e-06]], dtype=float64))"
      ]
     },
     "execution_count": 17,
     "metadata": {},
     "output_type": "execute_result"
    }
   ],
   "source": [
    "p1.residuals(p1.cartesian_state), p0.residuals(p0.cartesian_state)"
   ]
  },
  {
   "cell_type": "code",
   "execution_count": null,
   "metadata": {},
   "outputs": [],
   "source": []
  },
  {
   "cell_type": "code",
   "execution_count": 20,
   "metadata": {},
   "outputs": [
    {
     "name": "stdout",
     "output_type": "stream",
     "text": [
      "CartesianState(x=Array([[40.298248  , 71.80844307, 12.46825354]], dtype=float64), v=Array([[-0.00247257,  0.00048492,  0.00042657]], dtype=float64), time=np.float64(2460676.792467407))\n",
      "KeplerianState(semi=Array([506.419829], dtype=float64), ecc=Array([0.84954883], dtype=float64), inc=Array([11.92852394], dtype=float64), Omega=Array([144.40149979], dtype=float64), omega=Array([311.28485567], dtype=float64), nu=Array([324.55266997], dtype=float64), time=np.float64(2460676.792467407))\n"
     ]
    }
   ],
   "source": [
    "print(p0.cartesian_state)\n",
    "print(p0.keplerian_state)"
   ]
  },
  {
   "cell_type": "code",
   "execution_count": 22,
   "metadata": {},
   "outputs": [
    {
     "data": {
      "text/plain": [
       "Array([[-1.47200117e-06,  1.07532008e-06],\n",
       "       [-1.18933989e-06,  1.49255446e-06],\n",
       "       [-9.10482747e-07,  7.05574422e-07],\n",
       "       [ 1.01598318e-06, -9.71389347e-07],\n",
       "       [ 7.29844464e-07, -1.38023574e-06],\n",
       "       [-4.38202549e-07, -1.43192019e-06],\n",
       "       [-1.74874341e-07, -9.56226198e-08],\n",
       "       [ 1.30691672e-06,  7.22190964e-07],\n",
       "       [ 3.07147170e-07, -1.24653535e-06]], dtype=float64)"
      ]
     },
     "execution_count": 22,
     "metadata": {},
     "output_type": "execute_result"
    }
   ],
   "source": [
    "p0.residuals(p0.cartesian_state)"
   ]
  },
  {
   "cell_type": "code",
   "execution_count": 9,
   "metadata": {},
   "outputs": [
    {
     "data": {
      "text/plain": [
       "Array(-16.5408936, dtype=float64)"
      ]
     },
     "execution_count": 9,
     "metadata": {},
     "output_type": "execute_result"
    }
   ],
   "source": [
    "p0.loglike(p0.cartesian_state)"
   ]
  },
  {
   "cell_type": "code",
   "execution_count": 10,
   "metadata": {},
   "outputs": [
    {
     "data": {
      "text/plain": [
       "CartesianState(x=Array([[-0.17490244, -0.31958406, -0.21653323]], dtype=float64), v=Array([[-0.34285022, -0.64230222, -0.30679037]], dtype=float64), time=Array(-0.00342397, dtype=float64))"
      ]
     },
     "execution_count": 10,
     "metadata": {},
     "output_type": "execute_result"
    }
   ],
   "source": [
    "jax.grad(p0.loglike)(p0.cartesian_state)"
   ]
  },
  {
   "cell_type": "code",
   "execution_count": 11,
   "metadata": {},
   "outputs": [
    {
     "data": {
      "text/plain": [
       "Array(16.5408936, dtype=float64)"
      ]
     },
     "execution_count": 11,
     "metadata": {},
     "output_type": "execute_result"
    }
   ],
   "source": [
    "x = jnp.concatenate([p0.cartesian_state.x.flatten(), p0.cartesian_state.v.flatten()])\n",
    "p0.scipy_objective(x / p0.fit_scales)"
   ]
  },
  {
   "cell_type": "code",
   "execution_count": 12,
   "metadata": {},
   "outputs": [
    {
     "data": {
      "text/plain": [
       "Array([-0.3508416 ,  0.56848201,  0.11255093, -0.00226829, -0.00428758,\n",
       "       -0.00063009], dtype=float64)"
      ]
     },
     "execution_count": 12,
     "metadata": {},
     "output_type": "execute_result"
    }
   ],
   "source": [
    "x = jnp.concatenate([p0.cartesian_state.x.flatten(), p0.cartesian_state.v.flatten()])\n",
    "p0.scipy_objective_grad(x / p0.fit_scales)"
   ]
  },
  {
   "cell_type": "code",
   "execution_count": 13,
   "metadata": {},
   "outputs": [
    {
     "data": {
      "text/plain": [
       "Array([0.99989828, 0.99987798, 0.99991297, 1.00663733, 0.9930172 ,\n",
       "       0.99271124], dtype=float64)"
      ]
     },
     "execution_count": 13,
     "metadata": {},
     "output_type": "execute_result"
    }
   ],
   "source": [
    "x / p0.fit_scales"
   ]
  },
  {
   "cell_type": "code",
   "execution_count": null,
   "metadata": {},
   "outputs": [],
   "source": []
  }
 ],
 "metadata": {
  "kernelspec": {
   "display_name": "jorbit",
   "language": "python",
   "name": "jorbit"
  },
  "language_info": {
   "codemirror_mode": {
    "name": "ipython",
    "version": 3
   },
   "file_extension": ".py",
   "mimetype": "text/x-python",
   "name": "python",
   "nbconvert_exporter": "python",
   "pygments_lexer": "ipython3",
   "version": "3.13.0"
  }
 },
 "nbformat": 4,
 "nbformat_minor": 2
}
