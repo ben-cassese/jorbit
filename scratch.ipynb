{
 "cells": [
  {
   "cell_type": "markdown",
   "metadata": {},
   "source": [
    "# scratch work"
   ]
  },
  {
   "cell_type": "code",
   "execution_count": 1,
   "metadata": {},
   "outputs": [],
   "source": [
    "import jax\n",
    "\n",
    "jax.config.update(\"jax_enable_x64\", True)\n",
    "import astropy.units as u\n",
    "import numpy as np\n",
    "from astropy.coordinates import SkyCoord\n",
    "from astropy.time import Time\n",
    "from astroquery.jplhorizons import Horizons\n",
    "\n",
    "from jorbit.mpchecker import mpchecker, nearest_asteroid"
   ]
  },
  {
   "cell_type": "code",
   "execution_count": 2,
   "metadata": {},
   "outputs": [
    {
     "name": "stdout",
     "output_type": "stream",
     "text": [
      "[60 60 60]\n",
      "[248.51519283  93.23560141  55.02723906]\n",
      "60\n"
     ]
    }
   ],
   "source": [
    "_, _ = separations, asteroids = nearest_asteroid(\n",
    "        coordinate=SkyCoord(ra=0 * u.deg, dec=0 * u.deg),\n",
    "        times=Time(\"2025-01-01\") + np.arange(0, 3, 1) * u.day,\n",
    "        radius=2 * u.arcmin,\n",
    "    )"
   ]
  },
  {
   "cell_type": "code",
   "execution_count": 2,
   "metadata": {},
   "outputs": [
    {
     "data": {
      "text/plain": [
       "(DoubleDouble(0.4975124378109453, -1.1323170151649606e-17),\n",
       " mpf('0.4975124378109452736318407960199004975124383'))"
      ]
     },
     "execution_count": 2,
     "metadata": {},
     "output_type": "execute_result"
    }
   ],
   "source": [
    "import jax\n",
    "\n",
    "jax.config.update(\"jax_enable_x64\", True)\n",
    "\n",
    "import mpmath as mpm\n",
    "\n",
    "mpm.mp.dps = 40\n",
    "from jorbit.utils.doubledouble import DoubleDouble\n",
    "\n",
    "a_j = DoubleDouble.from_string(\"100.0\")\n",
    "b_j = DoubleDouble.from_string(\"201.0\")\n",
    "a_m = mpm.mpf(\"100.0\")\n",
    "b_m = mpm.mpf(\"201.0\")\n",
    "\n",
    "a_j/b_j, a_m/b_m\n",
    "\n"
   ]
  },
  {
   "cell_type": "code",
   "execution_count": 30,
   "metadata": {},
   "outputs": [
    {
     "data": {
      "text/plain": [
       "mpf('-1.942873868934873705562443239251108255592365e-33')"
      ]
     },
     "execution_count": 30,
     "metadata": {},
     "output_type": "execute_result"
    }
   ],
   "source": [
    "a_j = DoubleDouble.from_string(\"9999999999999.123456\")\n",
    "b_j = DoubleDouble.from_string(\"201.789\")\n",
    "a_m = mpm.mpf(\"9999999999999.123456\")\n",
    "b_m = mpm.mpf(\"201.789\")\n",
    "res_j = a_j / b_j\n",
    "res_m = a_m / b_m\n",
    "res_jm = mpm.mpf(float(res_j.hi)) + mpm.mpf(float(res_j.lo))\n",
    "mpm.mpf(\"1\") - res_jm / res_m"
   ]
  },
  {
   "cell_type": "code",
   "execution_count": 2,
   "metadata": {},
   "outputs": [
    {
     "data": {
      "text/html": [
       "<div><i>Table length=2</i>\n",
       "<table id=\"table14978182288\" class=\"table-striped table-bordered table-condensed\">\n",
       "<thead><tr><th>Unpacked Name</th><th>separation</th><th>ra</th><th>dec</th><th>est. Vmag</th><th>Packed designation</th><th>H</th><th>G</th><th>Epoch</th><th>M</th><th>Peri</th><th>Node</th><th>Incl.</th><th>e</th><th>n</th><th>a</th><th>U</th><th>Reference</th><th>#Obs</th><th>#Opp</th><th>Arc</th><th>rms</th><th>Coarse Perts</th><th>Precise Perts</th><th>Computer</th><th>Flags</th><th>last obs</th></tr></thead>\n",
       "<thead><tr><th></th><th>arcsec</th><th>deg</th><th>deg</th><th>mag</th><th></th><th></th><th></th><th></th><th></th><th></th><th></th><th></th><th></th><th></th><th></th><th></th><th></th><th></th><th></th><th></th><th></th><th></th><th></th><th></th><th></th><th></th></tr></thead>\n",
       "<thead><tr><th>str18</th><th>float64</th><th>float64</th><th>float64</th><th>float64[1]</th><th>str7</th><th>str5</th><th>str4</th><th>str5</th><th>str9</th><th>str9</th><th>str9</th><th>str7</th><th>str9</th><th>str10</th><th>str9</th><th>str1</th><th>str9</th><th>str3</th><th>str2</th><th>str9</th><th>str4</th><th>str3</th><th>str3</th><th>str8</th><th>str4</th><th>str8</th></tr></thead>\n",
       "<tr><td>2018 WQ10</td><td>77.2865440330561</td><td>125.71810914315778</td><td>18.739640843189378</td><td>23.928090744348502</td><td>K18W10Q</td><td>20.0</td><td>0.15</td><td>K2555</td><td>348.22174</td><td>284.64432</td><td>145.80889</td><td>0.76991</td><td>0.1817704</td><td>0.30182664</td><td>2.2010556</td><td>1</td><td>MPO687849</td><td>26</td><td>4</td><td>2008-2021</td><td>0.30</td><td>M-v</td><td>38h</td><td>Veres</td><td>0000</td><td>20211003</td></tr>\n",
       "<tr><td>(142397) 2002 SM19</td><td>247.86148541535118</td><td>125.6680443464385</td><td>18.722341321709646</td><td>22.26984244328128</td><td>E2397</td><td>17.07</td><td>0.15</td><td>K2555</td><td>211.68439</td><td>165.32939</td><td>193.51497</td><td>0.68430</td><td>0.1834017</td><td>0.24360224</td><td>2.5391121</td><td>0</td><td>E2024-C06</td><td>523</td><td>19</td><td>1994-2024</td><td>0.75</td><td>M-v</td><td>3Ek</td><td>MPCLINUX</td><td>0000</td><td>20240131</td></tr>\n",
       "</table></div>"
      ],
      "text/plain": [
       "<Table length=2>\n",
       "  Unpacked Name        separation             ra         ... Flags last obs\n",
       "                         arcsec              deg         ...               \n",
       "      str18             float64            float64       ...  str4   str8  \n",
       "------------------ ------------------ ------------------ ... ----- --------\n",
       "         2018 WQ10   77.2865440330561 125.71810914315778 ...  0000 20211003\n",
       "(142397) 2002 SM19 247.86148541535118  125.6680443464385 ...  0000 20240131"
      ]
     },
     "execution_count": 2,
     "metadata": {},
     "output_type": "execute_result"
    }
   ],
   "source": [
    "mpchecker(\n",
    "    coordinate=SkyCoord(125.7398*u.deg, 18.7334*u.deg),\n",
    "    time=Time(\"2015-10-13 01:24\"),\n",
    "    radius=5*u.arcmin,\n",
    "    extra_precision=True,\n",
    "    observer=\"Kitt Peak\"\n",
    ")"
   ]
  },
  {
   "cell_type": "code",
   "execution_count": 3,
   "metadata": {},
   "outputs": [
    {
     "data": {
      "text/latex": [
       "$0^\\circ00{}^\\prime00.00023968{}^{\\prime\\prime}$"
      ],
      "text/plain": [
       "<Angle 6.65788442e-08 deg>"
      ]
     },
     "execution_count": 3,
     "metadata": {},
     "output_type": "execute_result"
    }
   ],
   "source": [
    "obj = Horizons(id=\"142397\", id_type=\"smallbody\", location=\"695@399\", epochs=Time(\"2015-10-13 01:24\").utc.jd)\n",
    "eph = obj.ephemerides(extra_precision=True)\n",
    "eph = SkyCoord(ra=eph[\"RA\"][0], dec=eph[\"DEC\"][0], unit=(u.deg, u.deg))\n",
    "\n",
    "eph.separation(SkyCoord(125.6680443464385*u.deg, 18.722341321709646*u.deg))"
   ]
  },
  {
   "cell_type": "code",
   "execution_count": null,
   "metadata": {},
   "outputs": [],
   "source": []
  },
  {
   "cell_type": "code",
   "execution_count": 4,
   "metadata": {},
   "outputs": [
    {
     "data": {
      "text/html": [
       "<div><i>Table length=2</i>\n",
       "<table id=\"table14866696512\" class=\"table-striped table-bordered table-condensed\">\n",
       "<thead><tr><th>Unpacked Name</th><th>separation</th><th>ra</th><th>dec</th><th>Packed designation</th><th>H</th><th>G</th><th>Epoch</th><th>M</th><th>Peri</th><th>Node</th><th>Incl.</th><th>e</th><th>n</th><th>a</th><th>U</th><th>Reference</th><th>#Obs</th><th>#Opp</th><th>Arc</th><th>rms</th><th>Coarse Perts</th><th>Precise Perts</th><th>Computer</th><th>Flags</th><th>last obs</th></tr></thead>\n",
       "<thead><tr><th></th><th>arcsec</th><th>deg</th><th>deg</th><th></th><th></th><th></th><th></th><th></th><th></th><th></th><th></th><th></th><th></th><th></th><th></th><th></th><th></th><th></th><th></th><th></th><th></th><th></th><th></th><th></th><th></th></tr></thead>\n",
       "<thead><tr><th>str18</th><th>float64</th><th>float64</th><th>float64</th><th>str7</th><th>str5</th><th>str4</th><th>str5</th><th>str9</th><th>str9</th><th>str9</th><th>str7</th><th>str9</th><th>str10</th><th>str9</th><th>str1</th><th>str9</th><th>str3</th><th>str2</th><th>str9</th><th>str4</th><th>str3</th><th>str3</th><th>str8</th><th>str4</th><th>str8</th></tr></thead>\n",
       "<tr><td>2018 WQ10</td><td>77.4621688370257</td><td>125.71841944019579</td><td>18.740682419559548</td><td>K18W10Q</td><td>20.0</td><td>0.15</td><td>K2555</td><td>348.22174</td><td>284.64432</td><td>145.80889</td><td>0.76991</td><td>0.1817704</td><td>0.30182664</td><td>2.2010556</td><td>1</td><td>MPO687849</td><td>26</td><td>4</td><td>2008-2021</td><td>0.30</td><td>M-v</td><td>38h</td><td>Veres</td><td>0000</td><td>20211003</td></tr>\n",
       "<tr><td>(142397) 2002 SM19</td><td>246.74241030196617</td><td>125.66825789678174</td><td>18.723053401265403</td><td>E2397</td><td>17.07</td><td>0.15</td><td>K2555</td><td>211.68439</td><td>165.32939</td><td>193.51497</td><td>0.68430</td><td>0.1834017</td><td>0.24360224</td><td>2.5391121</td><td>0</td><td>E2024-C06</td><td>523</td><td>19</td><td>1994-2024</td><td>0.75</td><td>M-v</td><td>3Ek</td><td>MPCLINUX</td><td>0000</td><td>20240131</td></tr>\n",
       "</table></div>"
      ],
      "text/plain": [
       "<Table length=2>\n",
       "  Unpacked Name        separation             ra         ... Flags last obs\n",
       "                         arcsec              deg         ...               \n",
       "      str18             float64            float64       ...  str4   str8  \n",
       "------------------ ------------------ ------------------ ... ----- --------\n",
       "         2018 WQ10   77.4621688370257 125.71841944019579 ...  0000 20211003\n",
       "(142397) 2002 SM19 246.74241030196617 125.66825789678174 ...  0000 20240131"
      ]
     },
     "execution_count": 4,
     "metadata": {},
     "output_type": "execute_result"
    }
   ],
   "source": [
    "mpchecker(\n",
    "    coordinate=SkyCoord(125.7398*u.deg, 18.7334*u.deg),\n",
    "    time=Time(\"2015-10-13 01:24\"),\n",
    "    radius=5*u.arcmin,\n",
    "    extra_precision=False,\n",
    ")"
   ]
  },
  {
   "cell_type": "code",
   "execution_count": null,
   "metadata": {},
   "outputs": [],
   "source": []
  },
  {
   "cell_type": "code",
   "execution_count": null,
   "metadata": {},
   "outputs": [],
   "source": []
  }
 ],
 "metadata": {
  "kernelspec": {
   "display_name": "jorbit",
   "language": "python",
   "name": "python3"
  },
  "language_info": {
   "codemirror_mode": {
    "name": "ipython",
    "version": 3
   },
   "file_extension": ".py",
   "mimetype": "text/x-python",
   "name": "python",
   "nbconvert_exporter": "python",
   "pygments_lexer": "ipython3",
   "version": "3.13.0"
  }
 },
 "nbformat": 4,
 "nbformat_minor": 2
}
