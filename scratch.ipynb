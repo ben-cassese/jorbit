{
 "cells": [
  {
   "cell_type": "markdown",
   "metadata": {},
   "source": [
    "# scratch work"
   ]
  },
  {
   "cell_type": "code",
   "execution_count": 1,
   "metadata": {},
   "outputs": [],
   "source": [
    "import jax\n",
    "\n",
    "jax.config.update(\"jax_enable_x64\", True)\n",
    "import jax.numpy as jnp\n",
    "\n",
    "from decimal import Decimal, getcontext\n",
    "\n",
    "getcontext().prec = 50\n",
    "\n",
    "from jorbit.utils.doubledouble import DoubleDouble\n",
    "from jorbit.integrators.ias15_dd import step, initialize_ias15_helper, acceleration_func"
   ]
  },
  {
   "cell_type": "code",
   "execution_count": 3,
   "metadata": {},
   "outputs": [
    {
     "name": "stdout",
     "output_type": "stream",
     "text": [
      "5.649233359601495e-08, -5.388037824036623e-25\n",
      "5.649320835508429e-08, -1.3876614877682261e-24\n",
      "8.747592999253804e-13, -2.238183808514221e-30\n",
      "2.213840311442581e-18, 1.8152355289655439e-34\n",
      "3.2412436268176264e-24, 1.3856550845946262e-40\n",
      "3.8274007215499996e-30, 8.068751029066524e-47\n",
      "0.0, 0.0\n",
      "0.0, 0.0\n",
      "0.0, 0.0\n",
      "0.0, 0.0\n"
     ]
    },
    {
     "data": {
      "text/plain": [
       "(<jorbit.integrators.ias15_dd.IAS15Helper at 0x10d9510f0>,\n",
       " <jorbit.integrators.ias15_dd.IAS15Helper at 0x129285e10>,\n",
       " DoubleDouble(0.0, 0.0),\n",
       " DoubleDouble(0.0, 0.0))"
      ]
     },
     "execution_count": 3,
     "metadata": {},
     "output_type": "execute_result"
    }
   ],
   "source": [
    "b = initialize_ias15_helper(1)\n",
    "# print(b.p0.hi)\n",
    "\n",
    "x0 = DoubleDouble(jnp.array([1.0, 0.0, 0.0]))\n",
    "v0 = DoubleDouble(jnp.array([0.0, 1.0, 0.0]))\n",
    "\n",
    "a0 = acceleration_func(x0)\n",
    "\n",
    "step(x0, v0, a0, b)\n",
    "\n",
    "# print(b.p0.hi)"
   ]
  },
  {
   "cell_type": "code",
   "execution_count": 8,
   "metadata": {},
   "outputs": [
    {
     "data": {
      "text/plain": [
       "DoubleDouble(2.3333333333333335, -1.4802973661668753e-16)"
      ]
     },
     "execution_count": 8,
     "metadata": {},
     "output_type": "execute_result"
    }
   ],
   "source": [
    "a = DoubleDouble(3.0)\n",
    "b = DoubleDouble(7.0)\n",
    "\n",
    "c = b / a\n",
    "c"
   ]
  },
  {
   "cell_type": "code",
   "execution_count": 9,
   "metadata": {},
   "outputs": [
    {
     "data": {
      "text/plain": [
       "Decimal('2.333333333333333333333333333333333333333333333333333333333333333333333333333333333333333333333333333')"
      ]
     },
     "execution_count": 9,
     "metadata": {},
     "output_type": "execute_result"
    }
   ],
   "source": [
    "getcontext().prec = 100\n",
    "\n",
    "a = Decimal(3.0)\n",
    "b = Decimal(7.0)\n",
    "\n",
    "q = b / a\n",
    "q"
   ]
  },
  {
   "cell_type": "code",
   "execution_count": 10,
   "metadata": {},
   "outputs": [
    {
     "name": "stdout",
     "output_type": "stream",
     "text": [
      "-1.48029736616687538723150889078776041666666666666666666666666666666666666666666666667E-16\n",
      "-8.217301096052206306372172555029023225762567032385656299690405527751E-33\n"
     ]
    }
   ],
   "source": [
    "print(q - Decimal(float(c.hi)))\n",
    "print(q - (Decimal(float(c.hi)) + Decimal(float(c.lo))))"
   ]
  },
  {
   "cell_type": "code",
   "execution_count": null,
   "metadata": {},
   "outputs": [],
   "source": []
  },
  {
   "cell_type": "code",
   "execution_count": null,
   "metadata": {},
   "outputs": [
    {
     "data": {
      "text/plain": [
       "Array([1. , 3. , 1. , 1.2], dtype=float64)"
      ]
     },
     "metadata": {},
     "output_type": "display_data"
    }
   ],
   "source": [
    "z = jnp.array([[1.0, 2.0, 1.0, 1.2], [1.0, 3.0, 1.0, 1.2]])\n",
    "jnp.max(z, axis=0)"
   ]
  },
  {
   "cell_type": "code",
   "execution_count": null,
   "metadata": {},
   "outputs": [
    {
     "data": {
      "text/plain": [
       "DoubleDouble([1.  3.  1.  1.2], [1.0e-14 3.0e-14 1.0e-14 1.2e-14])"
      ]
     },
     "metadata": {},
     "output_type": "display_data"
    }
   ],
   "source": [
    "a = DoubleDouble(\n",
    "    hi=jnp.array([[1.0, 2.0, 1.0, 1.2], [1.0, 3.0, 1.0, 1.2]]),\n",
    "    lo=jnp.array([[1.0, 2.0, 1.0, 1.2], [1.0, 3.0, 1.0, 1.2]]) * 1e-14,\n",
    ")\n",
    "\n",
    "a.dd_max(axis=0)"
   ]
  }
 ],
 "metadata": {
  "kernelspec": {
   "display_name": ".venv",
   "language": "python",
   "name": "python3"
  },
  "language_info": {
   "codemirror_mode": {
    "name": "ipython",
    "version": 3
   },
   "file_extension": ".py",
   "mimetype": "text/x-python",
   "name": "python",
   "nbconvert_exporter": "python",
   "pygments_lexer": "ipython3",
   "version": "3.13.0"
  }
 },
 "nbformat": 4,
 "nbformat_minor": 2
}
