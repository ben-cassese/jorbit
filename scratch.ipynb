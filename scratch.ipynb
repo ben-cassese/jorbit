{
 "cells": [
  {
   "cell_type": "markdown",
   "metadata": {},
   "source": [
    "# scratch work"
   ]
  },
  {
   "cell_type": "code",
   "execution_count": 1,
   "metadata": {},
   "outputs": [],
   "source": [
    "import jax\n",
    "\n",
    "jax.config.update(\"jax_enable_x64\", True)\n",
    "import jax.numpy as jnp\n",
    "\n",
    "from astropy.time import Time\n",
    "import astropy.units as u\n",
    "from astropy.coordinates import SkyCoord\n",
    "from astroquery.jplhorizons import Horizons\n",
    "\n",
    "from jorbit.utils.horizons import (\n",
    "    horizons_bulk_vector_query,\n",
    "    horizons_bulk_astrometry_query,\n",
    ")\n",
    "\n",
    "from jorbit import Particle\n",
    "\n",
    "t0 = Time(\"2024-12-01 00:00\")\n",
    "t1 = Time(\"2025-12-01 00:00\")"
   ]
  },
  {
   "cell_type": "code",
   "execution_count": null,
   "metadata": {},
   "outputs": [
    {
     "data": {
      "text/plain": [
       "Array([[-1.78355289,  1.97281979,  0.57967129]], dtype=float64)"
      ]
     },
     "execution_count": 28,
     "metadata": {},
     "output_type": "execute_result"
    }
   ],
   "source": [
    "import jax\n",
    "\n",
    "jax.config.update(\"jax_enable_x64\", True)\n",
    "import jax.numpy as jnp\n",
    "\n",
    "from astropy.time import Time\n",
    "import astropy.units as u\n",
    "from astroquery.jplhorizons import Horizons\n",
    "import numpy as np\n",
    "\n",
    "from jorbit.astrometry.transformations import (\n",
    "    elements_to_cartesian,\n",
    "    cartesian_to_elements,\n",
    "    icrs_to_horizons_ecliptic,\n",
    "    horizons_ecliptic_to_icrs,\n",
    "    icrs_to_horizons_ecliptic,\n",
    ")\n",
    "\n",
    "\n",
    "t0 = Time(\"2024-12-01 00:00\")\n",
    "\n",
    "obj = Horizons(\n",
    "    id=\"274301\",\n",
    "    location=\"500@0\",\n",
    "    epochs=t0.tdb.jd,\n",
    ")\n",
    "vecs = obj.vectors(refplane=\"earth\")\n",
    "true_xs = jnp.array([vecs[\"x\"], vecs[\"y\"], vecs[\"z\"]]).T\n",
    "true_vs = jnp.array([vecs[\"vx\"], vecs[\"vy\"], vecs[\"vz\"]]).T\n",
    "\n",
    "elements = obj.elements(refplane=\"ecliptic\")\n",
    "\n",
    "a_horizons = jnp.array([elements[\"a\"][0]])\n",
    "ecc_horizons = jnp.array([elements[\"e\"][0]])\n",
    "inc_horizons = jnp.array([elements[\"incl\"][0]])\n",
    "Omega_horizons = jnp.array([elements[\"Omega\"][0]])\n",
    "omega_horizons = jnp.array([elements[\"w\"][0]])\n",
    "nu_horizons = jnp.array([elements[\"nu\"][0]])\n",
    "\n",
    "xs, vs = elements_to_cartesian(\n",
    "    a=a_horizons,\n",
    "    ecc=ecc_horizons,\n",
    "    inc=inc_horizons,\n",
    "    Omega=Omega_horizons,\n",
    "    omega=omega_horizons,\n",
    "    nu=nu_horizons,\n",
    ")\n",
    "xs = horizons_ecliptic_to_icrs(xs)\n",
    "vs = horizons_ecliptic_to_icrs(vs)\n",
    "\n",
    "xs"
   ]
  },
  {
   "cell_type": "code",
   "execution_count": 29,
   "metadata": {},
   "outputs": [
    {
     "data": {
      "text/plain": [
       "Array([[-1.78355289,  1.97281979,  0.57967129]], dtype=float64)"
      ]
     },
     "execution_count": 29,
     "metadata": {},
     "output_type": "execute_result"
    }
   ],
   "source": [
    "true_xs"
   ]
  },
  {
   "cell_type": "code",
   "execution_count": null,
   "metadata": {},
   "outputs": [],
   "source": []
  }
 ],
 "metadata": {
  "kernelspec": {
   "display_name": ".venv",
   "language": "python",
   "name": "python3"
  },
  "language_info": {
   "codemirror_mode": {
    "name": "ipython",
    "version": 3
   },
   "file_extension": ".py",
   "mimetype": "text/x-python",
   "name": "python",
   "nbconvert_exporter": "python",
   "pygments_lexer": "ipython3",
   "version": "3.13.0"
  }
 },
 "nbformat": 4,
 "nbformat_minor": 2
}
