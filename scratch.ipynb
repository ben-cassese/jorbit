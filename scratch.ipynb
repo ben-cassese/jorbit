{
 "cells": [
  {
   "cell_type": "markdown",
   "metadata": {},
   "source": [
    "# scratch work"
   ]
  },
  {
   "cell_type": "code",
   "execution_count": 1,
   "metadata": {},
   "outputs": [],
   "source": [
    "import jax\n",
    "\n",
    "jax.config.update(\"jax_enable_x64\", True)\n",
    "import jax.numpy as jnp\n",
    "from functools import partial\n",
    "\n",
    "\n",
    "from decimal import Decimal, getcontext\n",
    "\n",
    "getcontext().prec = 50\n",
    "\n",
    "\n",
    "import mpmath\n",
    "\n",
    "mpmath.mp.dps = 75\n",
    "\n",
    "from jorbit.integrators import initialize_ias15_integrator_state\n",
    "from jorbit.integrators.ias15 import ias15_step\n",
    "from jorbit.utils.states import SystemState\n",
    "\n",
    "\n",
    "from jorbit.utils.doubledouble import DoubleDouble, dd_sum, dd_sqrt\n",
    "from jorbit.utils.generate_coefficients import create_iasnn_constants\n",
    "from jorbit.data.constants import IAS15_D, IAS15_H, IAS15_RR, IAS15_C\n",
    "from jorbit.integrators.ias15_dd import setup_iasnn_integrator, step"
   ]
  },
  {
   "cell_type": "code",
   "execution_count": 2,
   "metadata": {},
   "outputs": [],
   "source": [
    "init_state = SystemState(\n",
    "    massive_positions=jnp.empty((0, 3)),\n",
    "    massive_velocities=jnp.empty((0, 3)),\n",
    "    tracer_positions=jnp.ones((4, 3), dtype=jnp.float64) * 0.123,\n",
    "    tracer_velocities=jnp.ones((4, 3), dtype=jnp.float64) * 0.2,\n",
    "    log_gms=jnp.empty(0),\n",
    "    time=0.0,\n",
    "    acceleration_func_kwargs=None,\n",
    ")\n",
    "\n",
    "\n",
    "def _acc_func(s):\n",
    "    return -jnp.concatenate([s.massive_positions, s.tracer_positions], axis=0)\n",
    "\n",
    "\n",
    "acc_func = jax.tree_util.Partial(_acc_func)\n",
    "a0 = acc_func(init_state)\n",
    "\n",
    "init_integrator_state = initialize_ias15_integrator_state(a0)\n",
    "init_integrator_state.dt = 0.01\n",
    "\n",
    "\n",
    "b, csb, g, predictor_corrector_error, predictor_corrector_error_last = ias15_step(\n",
    "    initial_system_state=init_state,\n",
    "    acceleration_func=acc_func,\n",
    "    initial_integrator_state=init_integrator_state,\n",
    ")"
   ]
  },
  {
   "cell_type": "code",
   "execution_count": 3,
   "metadata": {},
   "outputs": [
    {
     "name": "stderr",
     "output_type": "stream",
     "text": [
      "100%|██████████| 998/998 [00:00<00:00, 1370.66it/s]\n"
     ]
    }
   ],
   "source": [
    "precompued_setup = setup_iasnn_integrator(n_internal_points=7)\n",
    "\n",
    "x0_init_dd = DoubleDouble(jnp.ones((4, 3), dtype=jnp.float64) * 0.123)\n",
    "v0_init_dd = DoubleDouble(jnp.ones((4, 3), dtype=jnp.float64) * 0.2)\n",
    "a0_init_dd = -x0_init_dd\n",
    "b_init_dd = DoubleDouble(jnp.zeros((7, 4, 3), dtype=jnp.float64))\n",
    "\n",
    "b_dd, g_dd, g_diff = step(\n",
    "    x0_init_dd, v0_init_dd, a0_init_dd, b_init_dd, precompued_setup\n",
    ")"
   ]
  },
  {
   "cell_type": "code",
   "execution_count": 4,
   "metadata": {},
   "outputs": [
    {
     "name": "stdout",
     "output_type": "stream",
     "text": [
      "[[1.73472348e-16 1.73472348e-16 1.73472348e-16]\n",
      " [1.73472348e-16 1.73472348e-16 1.73472348e-16]\n",
      " [1.73472348e-16 1.73472348e-16 1.73472348e-16]\n",
      " [1.73472348e-16 1.73472348e-16 1.73472348e-16]]\n",
      "[[-2.37775108e-15 -2.37775108e-15 -2.37775108e-15]\n",
      " [-2.37775108e-15 -2.37775108e-15 -2.37775108e-15]\n",
      " [-2.37775108e-15 -2.37775108e-15 -2.37775108e-15]\n",
      " [-2.37775108e-15 -2.37775108e-15 -2.37775108e-15]]\n",
      "[[1.19980601e-14 1.19980601e-14 1.19980601e-14]\n",
      " [1.19980601e-14 1.19980601e-14 1.19980601e-14]\n",
      " [1.19980601e-14 1.19980601e-14 1.19980601e-14]\n",
      " [1.19980601e-14 1.19980601e-14 1.19980601e-14]]\n",
      "[[-3.0980925e-14 -3.0980925e-14 -3.0980925e-14]\n",
      " [-3.0980925e-14 -3.0980925e-14 -3.0980925e-14]\n",
      " [-3.0980925e-14 -3.0980925e-14 -3.0980925e-14]\n",
      " [-3.0980925e-14 -3.0980925e-14 -3.0980925e-14]]\n",
      "[[4.32880188e-14 4.32880188e-14 4.32880188e-14]\n",
      " [4.32880188e-14 4.32880188e-14 4.32880188e-14]\n",
      " [4.32880188e-14 4.32880188e-14 4.32880188e-14]\n",
      " [4.32880188e-14 4.32880188e-14 4.32880188e-14]]\n",
      "[[-3.10031316e-14 -3.10031316e-14 -3.10031316e-14]\n",
      " [-3.10031316e-14 -3.10031316e-14 -3.10031316e-14]\n",
      " [-3.10031316e-14 -3.10031316e-14 -3.10031316e-14]\n",
      " [-3.10031316e-14 -3.10031316e-14 -3.10031316e-14]]\n",
      "[[8.91018454e-15 8.91018454e-15 8.91018454e-15]\n",
      " [8.91018454e-15 8.91018454e-15 8.91018454e-15]\n",
      " [8.91018454e-15 8.91018454e-15 8.91018454e-15]\n",
      " [8.91018454e-15 8.91018454e-15 8.91018454e-15]]\n"
     ]
    }
   ],
   "source": [
    "print(b_dd.hi[0] - b.p0)\n",
    "print(b_dd.hi[1] - b.p1)\n",
    "print(b_dd.hi[2] - b.p2)\n",
    "print(b_dd.hi[3] - b.p3)\n",
    "print(b_dd.hi[4] - b.p4)\n",
    "print(b_dd.hi[5] - b.p5)\n",
    "print(b_dd.hi[6] - b.p6)"
   ]
  },
  {
   "cell_type": "code",
   "execution_count": null,
   "metadata": {},
   "outputs": [],
   "source": []
  },
  {
   "cell_type": "code",
   "execution_count": 5,
   "metadata": {},
   "outputs": [
    {
     "name": "stderr",
     "output_type": "stream",
     "text": [
      "100%|██████████| 998/998 [00:00<00:00, 1354.47it/s]\n"
     ]
    },
    {
     "name": "stdout",
     "output_type": "stream",
     "text": [
      "[[-6.37510877e-17 -6.37510877e-17 -6.37510877e-17]\n",
      " [-6.37510877e-17 -6.37510877e-17 -6.37510877e-17]\n",
      " [-6.37510877e-17 -6.37510877e-17 -6.37510877e-17]\n",
      " [-6.37510877e-17 -6.37510877e-17 -6.37510877e-17]]\n",
      "[[2.45901796e-15 2.45901796e-15 2.45901796e-15]\n",
      " [2.45901796e-15 2.45901796e-15 2.45901796e-15]\n",
      " [2.45901796e-15 2.45901796e-15 2.45901796e-15]\n",
      " [2.45901796e-15 2.45901796e-15 2.45901796e-15]]\n",
      "[[-1.01370277e-14 -1.01370277e-14 -1.01370277e-14]\n",
      " [-1.01370277e-14 -1.01370277e-14 -1.01370277e-14]\n",
      " [-1.01370277e-14 -1.01370277e-14 -1.01370277e-14]\n",
      " [-1.01370277e-14 -1.01370277e-14 -1.01370277e-14]]\n",
      "[[5.37831363e-15 5.37831363e-15 5.37831363e-15]\n",
      " [5.37831363e-15 5.37831363e-15 5.37831363e-15]\n",
      " [5.37831363e-15 5.37831363e-15 5.37831363e-15]\n",
      " [5.37831363e-15 5.37831363e-15 5.37831363e-15]]\n",
      "[[5.39282161e-16 5.39282161e-16 5.39282161e-16]\n",
      " [5.39282161e-16 5.39282161e-16 5.39282161e-16]\n",
      " [5.39282161e-16 5.39282161e-16 5.39282161e-16]\n",
      " [5.39282161e-16 5.39282161e-16 5.39282161e-16]]\n",
      "[[-5.19350459e-15 -5.19350459e-15 -5.19350459e-15]\n",
      " [-5.19350459e-15 -5.19350459e-15 -5.19350459e-15]\n",
      " [-5.19350459e-15 -5.19350459e-15 -5.19350459e-15]\n",
      " [-5.19350459e-15 -5.19350459e-15 -5.19350459e-15]]\n",
      "[[2.95402402e-15 2.95402402e-15 2.95402402e-15]\n",
      " [2.95402402e-15 2.95402402e-15 2.95402402e-15]\n",
      " [2.95402402e-15 2.95402402e-15 2.95402402e-15]\n",
      " [2.95402402e-15 2.95402402e-15 2.95402402e-15]]\n"
     ]
    }
   ],
   "source": [
    "init_state = SystemState(\n",
    "    massive_positions=jnp.empty((0, 3)),\n",
    "    massive_velocities=jnp.empty((0, 3)),\n",
    "    tracer_positions=jnp.ones((4, 3), dtype=jnp.float64) * 0.123,\n",
    "    tracer_velocities=jnp.ones((4, 3), dtype=jnp.float64) * 0.2,\n",
    "    log_gms=jnp.empty(0),\n",
    "    time=0.0,\n",
    "    acceleration_func_kwargs=None,\n",
    ")\n",
    "\n",
    "\n",
    "def _acc_func(s):\n",
    "    return -jnp.concatenate([s.massive_positions, s.tracer_positions], axis=0)\n",
    "\n",
    "\n",
    "acc_func = jax.tree_util.Partial(_acc_func)\n",
    "a0 = acc_func(init_state)\n",
    "\n",
    "init_integrator_state = initialize_ias15_integrator_state(a0)\n",
    "init_integrator_state.dt = 0.01\n",
    "init_integrator_state.b.p0 += 1.0\n",
    "init_integrator_state.b.p1 += 2.0\n",
    "init_integrator_state.b.p2 += 3.0\n",
    "init_integrator_state.b.p3 += 4.0\n",
    "init_integrator_state.b.p4 += 5.0\n",
    "init_integrator_state.b.p5 += 6.0\n",
    "init_integrator_state.b.p6 += 7.0\n",
    "\n",
    "\n",
    "b, csb, g, predictor_corrector_error, predictor_corrector_error_last = ias15_step(\n",
    "    initial_system_state=init_state,\n",
    "    acceleration_func=acc_func,\n",
    "    initial_integrator_state=init_integrator_state,\n",
    ")\n",
    "\n",
    "precompued_setup = setup_iasnn_integrator(n_internal_points=7)\n",
    "\n",
    "x0_init_dd = DoubleDouble(jnp.ones((4, 3), dtype=jnp.float64) * 0.123)\n",
    "v0_init_dd = DoubleDouble(jnp.ones((4, 3), dtype=jnp.float64) * 0.2)\n",
    "a0_init_dd = -x0_init_dd\n",
    "b_init_dd = DoubleDouble(jnp.zeros((7, 4, 3), dtype=jnp.float64))\n",
    "\n",
    "b_init_dd[0] += DoubleDouble(1.0)\n",
    "b_init_dd[1] += DoubleDouble(2.0)\n",
    "b_init_dd[2] += DoubleDouble(3.0)\n",
    "b_init_dd[3] += DoubleDouble(4.0)\n",
    "b_init_dd[4] += DoubleDouble(5.0)\n",
    "b_init_dd[5] += DoubleDouble(6.0)\n",
    "b_init_dd[6] += DoubleDouble(7.0)\n",
    "\n",
    "b_dd, g_dd, g_diff = step(\n",
    "    x0_init_dd, v0_init_dd, a0_init_dd, b_init_dd, precompued_setup\n",
    ")\n",
    "\n",
    "print(b_dd.hi[0] - b.p0)\n",
    "print(b_dd.hi[1] - b.p1)\n",
    "print(b_dd.hi[2] - b.p2)\n",
    "print(b_dd.hi[3] - b.p3)\n",
    "print(b_dd.hi[4] - b.p4)\n",
    "print(b_dd.hi[5] - b.p5)\n",
    "print(b_dd.hi[6] - b.p6)"
   ]
  },
  {
   "cell_type": "code",
   "execution_count": null,
   "metadata": {},
   "outputs": [],
   "source": []
  },
  {
   "cell_type": "code",
   "execution_count": null,
   "metadata": {},
   "outputs": [],
   "source": []
  }
 ],
 "metadata": {
  "kernelspec": {
   "display_name": ".venv",
   "language": "python",
   "name": "python3"
  },
  "language_info": {
   "codemirror_mode": {
    "name": "ipython",
    "version": 3
   },
   "file_extension": ".py",
   "mimetype": "text/x-python",
   "name": "python",
   "nbconvert_exporter": "python",
   "pygments_lexer": "ipython3",
   "version": "3.13.0"
  }
 },
 "nbformat": 4,
 "nbformat_minor": 2
}
