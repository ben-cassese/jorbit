{
 "cells": [
  {
   "cell_type": "markdown",
   "metadata": {},
   "source": [
    "# scratch work"
   ]
  },
  {
   "cell_type": "code",
   "execution_count": 43,
   "metadata": {},
   "outputs": [],
   "source": [
    "import jax\n",
    "\n",
    "jax.config.update(\"jax_enable_x64\", True)\n",
    "import jax.numpy as jnp\n",
    "\n",
    "from astropy.time import Time\n",
    "import astropy.units as u\n",
    "from astropy.coordinates import SkyCoord\n",
    "from astroquery.jplhorizons import Horizons\n",
    "\n",
    "from jorbit.observation import Observations\n",
    "from jorbit.utils.states import SystemState\n",
    "from jorbit.ephemeris import Ephemeris\n",
    "from jorbit.accelerations import create_newtonian_ephemeris_acceleration_func\n",
    "from jorbit.integrators import ias15_evolve, initialize_ias15_integrator_state\n",
    "from jorbit.astrometry.sky_projection import on_sky, sky_sep\n",
    "\n",
    "t0 = Time(\"2024-12-01 00:00\")\n",
    "t1 = Time(\"2025-12-01 00:00\")"
   ]
  },
  {
   "cell_type": "code",
   "execution_count": 44,
   "metadata": {},
   "outputs": [],
   "source": [
    "obj = Horizons(id=\"274301\", location=\"@0\", epochs=[t0.tdb.jd, t1.tdb.jd])\n",
    "vecs = obj.vectors(refplane=\"earth\")\n",
    "\n",
    "x0 = jnp.array([vecs[\"x\"][0], vecs[\"y\"][0], vecs[\"z\"][0]])\n",
    "v0 = jnp.array([vecs[\"vx\"][0], vecs[\"vy\"][0], vecs[\"vz\"][0]])\n",
    "\n",
    "x1 = jnp.array([vecs[\"x\"][-1], vecs[\"y\"][-1], vecs[\"z\"][-1]])\n",
    "v1 = jnp.array([vecs[\"vx\"][-1], vecs[\"vy\"][-1], vecs[\"vz\"][-1]])\n",
    "\n",
    "\n",
    "obj = Horizons(id=\"274301\", location=\"695\", epochs=[t0.jd, t1.jd])\n",
    "eph = obj.ephemerides(extra_precision=True, quantities=\"1\")\n",
    "coord0 = SkyCoord(eph[\"RA\"][0], eph[\"DEC\"][0], unit=(u.deg, u.deg), frame=\"icrs\")\n",
    "coord1 = SkyCoord(eph[\"RA\"][-1], eph[\"DEC\"][-1], unit=(u.deg, u.deg), frame=\"icrs\")"
   ]
  },
  {
   "cell_type": "code",
   "execution_count": 45,
   "metadata": {},
   "outputs": [
    {
     "name": "stdout",
     "output_type": "stream",
     "text": [
      "Downloading observer positions from Horizons...\n"
     ]
    },
    {
     "data": {
      "text/latex": [
       "[$0^\\circ00{}^\\prime00.00000115{}^{\\prime\\prime}$]"
      ],
      "text/plain": [
       "<Angle [3.19443392e-10] deg>"
      ]
     },
     "execution_count": 45,
     "metadata": {},
     "output_type": "execute_result"
    }
   ],
   "source": [
    "obs = Observations(\n",
    "    observed_coordinates=[coord0, coord0],\n",
    "    times=jnp.array([t0.tdb.jd, t1.tdb.jd]),\n",
    "    observatories=\"695@399\",\n",
    "    astrometric_uncertainties=1 * u.arcsec,\n",
    "    verbose=True,\n",
    ")\n",
    "\n",
    "eph = Ephemeris(\n",
    "    earliest_time=Time(\"2015-01-01 00:00\"),\n",
    "    latest_time=Time(\"2035-01-01 00:00\"),\n",
    "    ssos=\"default planets\",\n",
    ")\n",
    "\n",
    "acc_func = create_newtonian_ephemeris_acceleration_func(eph.processor)\n",
    "\n",
    "state0 = SystemState(\n",
    "    positions=jnp.array([x0]),\n",
    "    velocities=jnp.array([v0]),\n",
    "    log_gms=jnp.array([0.0]),\n",
    "    time=t0.tdb.jd,\n",
    "    acceleration_func_kwargs=None,\n",
    ")\n",
    "\n",
    "ra0, dec0 = on_sky(state0, acc_func, obs.observer_positions[0])\n",
    "calc_coord0 = SkyCoord(ra0, dec0, unit=(u.rad, u.rad), frame=\"icrs\")\n",
    "calc_coord0.separation(coord0)"
   ]
  },
  {
   "cell_type": "code",
   "execution_count": 50,
   "metadata": {},
   "outputs": [
    {
     "data": {
      "text/latex": [
       "[$0^\\circ00{}^\\prime00.0019703{}^{\\prime\\prime}$]"
      ],
      "text/plain": [
       "<Angle [5.47304387e-07] deg>"
      ]
     },
     "execution_count": 50,
     "metadata": {},
     "output_type": "execute_result"
    }
   ],
   "source": [
    "new_positions, state1, new_integrator_state = ias15_evolve(\n",
    "    initial_system_state=state0,\n",
    "    acceleration_func=acc_func,\n",
    "    times=jnp.array([t1.tdb.jd]),\n",
    "    initial_integrator_state=initialize_ias15_integrator_state(acc_func(state0)),\n",
    "    n_steps=100,\n",
    ")\n",
    "\n",
    "ra1, dec1 = on_sky(state1, acc_func, obs.observer_positions[1])\n",
    "calc_coord1 = SkyCoord(ra1, dec1, unit=(u.rad, u.rad), frame=\"icrs\")\n",
    "calc_coord1.separation(coord1)"
   ]
  },
  {
   "cell_type": "code",
   "execution_count": 47,
   "metadata": {},
   "outputs": [
    {
     "data": {
      "text/plain": [
       "(Array([[-2.17856334, -1.13866228, -0.35793294]], dtype=float64),\n",
       " Array([[-1.78355289,  1.97281979,  0.57967129]], dtype=float64))"
      ]
     },
     "execution_count": 47,
     "metadata": {},
     "output_type": "execute_result"
    }
   ],
   "source": [
    "state1.positions, state0.positions"
   ]
  },
  {
   "cell_type": "code",
   "execution_count": 48,
   "metadata": {},
   "outputs": [
    {
     "data": {
      "text/plain": [
       "(Array([-2.17856337, -1.13866227, -0.35793294], dtype=float64),\n",
       " Array([-1.78355289,  1.97281979,  0.57967129], dtype=float64))"
      ]
     },
     "execution_count": 48,
     "metadata": {},
     "output_type": "execute_result"
    }
   ],
   "source": [
    "x1, x0"
   ]
  },
  {
   "cell_type": "code",
   "execution_count": 49,
   "metadata": {},
   "outputs": [
    {
     "data": {
      "text/plain": [
       "Array(28.87082204, dtype=float64)"
      ]
     },
     "execution_count": 49,
     "metadata": {},
     "output_type": "execute_result"
    }
   ],
   "source": [
    "new_integrator_state.dt"
   ]
  },
  {
   "cell_type": "code",
   "execution_count": null,
   "metadata": {},
   "outputs": [],
   "source": []
  },
  {
   "cell_type": "code",
   "execution_count": null,
   "metadata": {},
   "outputs": [],
   "source": []
  }
 ],
 "metadata": {
  "kernelspec": {
   "display_name": ".venv",
   "language": "python",
   "name": "python3"
  },
  "language_info": {
   "codemirror_mode": {
    "name": "ipython",
    "version": 3
   },
   "file_extension": ".py",
   "mimetype": "text/x-python",
   "name": "python",
   "nbconvert_exporter": "python",
   "pygments_lexer": "ipython3",
   "version": "3.13.0"
  }
 },
 "nbformat": 4,
 "nbformat_minor": 2
}
