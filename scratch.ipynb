{
 "cells": [
  {
   "cell_type": "markdown",
   "metadata": {},
   "source": [
    "# scratch work"
   ]
  },
  {
   "cell_type": "code",
   "execution_count": 1,
   "metadata": {},
   "outputs": [],
   "source": [
    "import astropy.units as u\n",
    "import numpy as np\n",
    "from astropy.coordinates import SkyCoord\n",
    "from astropy.time import Time\n",
    "\n",
    "from jorbit.mpchecker import (\n",
    "    load_mpcorb,\n",
    "    mpchecker,\n",
    "    nearest_asteroid,\n",
    "    nearest_asteroid_helper,\n",
    ")"
   ]
  },
  {
   "cell_type": "code",
   "execution_count": 2,
   "metadata": {},
   "outputs": [],
   "source": [
    "precomputed = nearest_asteroid_helper(coordinate=SkyCoord(ra=0*u.deg, dec=0*u.deg), times=Time(\"2025-02-01\") + np.arange(0, 3, 1/24/4)*u.day)"
   ]
  },
  {
   "cell_type": "code",
   "execution_count": 3,
   "metadata": {},
   "outputs": [
    {
     "name": "stdout",
     "output_type": "stream",
     "text": [
      "original number of possible asteroids: 2\n",
      "number of asteroids within 30 degrees: 271351\n",
      "going to be looping through 192 offsets\n",
      "original number of possible asteroids: 2\n",
      "number of asteroids within 30 degrees: 272663\n",
      "going to be looping through 96 offsets\n"
     ]
    }
   ],
   "source": [
    "dists = nearest_asteroid(\n",
    "    coordinate=SkyCoord(ra=0*u.deg, dec=0*u.deg),\n",
    "    times=Time(\"2025-02-01\") + np.arange(0, 3, 1/24/4)*u.day,\n",
    "    precomputed=precomputed\n",
    ")\n",
    "\n"
   ]
  },
  {
   "cell_type": "code",
   "execution_count": 5,
   "metadata": {},
   "outputs": [
    {
     "data": {
      "text/html": [
       "<div><i>Table length=5</i>\n",
       "<table id=\"table4378031552\" class=\"table-striped table-bordered table-condensed\">\n",
       "<thead><tr><th>name</th><th>separation</th><th>ra</th><th>dec</th></tr></thead>\n",
       "<thead><tr><th></th><th>arcsec</th><th>deg</th><th>deg</th></tr></thead>\n",
       "<thead><tr><th>str7</th><th>float64</th><th>float64</th><th>float64</th></tr></thead>\n",
       "<tr><td>270258</td><td>104.1808207360553</td><td>359.97292932446953</td><td>-0.01022990808315794</td></tr>\n",
       "<tr><td>51910</td><td>143.31642575663903</td><td>0.018295392777435124</td><td>-0.035357094930712325</td></tr>\n",
       "<tr><td>137143</td><td>246.1114123633815</td><td>359.93371498406174</td><td>-0.01673235585937548</td></tr>\n",
       "<tr><td>254903</td><td>270.33085614398374</td><td>359.9886589111433</td><td>-0.07423054556318036</td></tr>\n",
       "<tr><td>739168</td><td>274.188362870427</td><td>359.96852902476695</td><td>-0.06935738533299034</td></tr>\n",
       "</table></div>"
      ],
      "text/plain": [
       "<Table length=5>\n",
       " name      separation              ra                   dec         \n",
       "             arcsec               deg                   deg         \n",
       " str7       float64             float64               float64       \n",
       "------ ------------------ -------------------- ---------------------\n",
       "270258  104.1808207360553   359.97292932446953  -0.01022990808315794\n",
       " 51910 143.31642575663903 0.018295392777435124 -0.035357094930712325\n",
       "137143  246.1114123633815   359.93371498406174  -0.01673235585937548\n",
       "254903 270.33085614398374    359.9886589111433  -0.07423054556318036\n",
       "739168   274.188362870427   359.96852902476695  -0.06935738533299034"
      ]
     },
     "execution_count": 5,
     "metadata": {},
     "output_type": "execute_result"
    }
   ],
   "source": [
    "mpchecker(\n",
    "    coordinate=SkyCoord(ra=0*u.deg, dec=0*u.deg),\n",
    "    time=Time(\"2025-02-01\"),\n",
    "    radius=5*u.arcmin,\n",
    ")\n"
   ]
  },
  {
   "cell_type": "code",
   "execution_count": 2,
   "metadata": {},
   "outputs": [],
   "source": [
    "mpcorb = load_mpcorb()"
   ]
  },
  {
   "cell_type": "code",
   "execution_count": 14,
   "metadata": {},
   "outputs": [
    {
     "data": {
      "text/plain": [
       "False"
      ]
     },
     "execution_count": 14,
     "metadata": {},
     "output_type": "execute_result"
    }
   ],
   "source": [
    "\"270258\" in mpcorb[\"Packed designation\"].to_list()"
   ]
  },
  {
   "cell_type": "code",
   "execution_count": 9,
   "metadata": {},
   "outputs": [
    {
     "data": {
      "text/html": [
       "<div><style>\n",
       ".dataframe > thead > tr,\n",
       ".dataframe > tbody > tr {\n",
       "  text-align: right;\n",
       "  white-space: pre-wrap;\n",
       "}\n",
       "</style>\n",
       "<small>shape: (1_436_009, 23)</small><table border=\"1\" class=\"dataframe\"><thead><tr><th>Packed designation</th><th>H</th><th>G</th><th>Epoch</th><th>M</th><th>Peri</th><th>Node</th><th>Incl.</th><th>e</th><th>n</th><th>a</th><th>U</th><th>Reference</th><th>#Obs</th><th>#Opp</th><th>Arc</th><th>rms</th><th>Coarse Perts</th><th>Precise Perts</th><th>Computer</th><th>Flags</th><th>Unpacked Name</th><th>last obs</th></tr><tr><td>str</td><td>str</td><td>str</td><td>str</td><td>str</td><td>str</td><td>str</td><td>str</td><td>str</td><td>str</td><td>str</td><td>str</td><td>str</td><td>str</td><td>str</td><td>str</td><td>str</td><td>str</td><td>str</td><td>str</td><td>str</td><td>str</td><td>str</td></tr></thead><tbody><tr><td>&quot;00001&quot;</td><td>&quot;3.34&quot;</td><td>&quot;0.15&quot;</td><td>&quot;K24AH&quot;</td><td>&quot;145.84905&quot;</td><td>&quot;73.28579&quot;</td><td>&quot;80.25414&quot;</td><td>&quot;10.58790&quot;</td><td>&quot;0.0791840&quot;</td><td>&quot;0.21418047&quot;</td><td>&quot;2.7666197&quot;</td><td>&quot;0&quot;</td><td>&quot;E2024-V47&quot;</td><td>&quot;7330&quot;</td><td>&quot;125&quot;</td><td>&quot;1801-2024&quot;</td><td>&quot;0.80&quot;</td><td>&quot;M-v&quot;</td><td>&quot;30k&quot;</td><td>&quot;MPCLINUX&quot;</td><td>&quot;4000&quot;</td><td>&quot;(1) Ceres&quot;</td><td>&quot;20241101&quot;</td></tr><tr><td>&quot;00002&quot;</td><td>&quot;4.11&quot;</td><td>&quot;0.15&quot;</td><td>&quot;K24AH&quot;</td><td>&quot;126.06756&quot;</td><td>&quot;310.89226&quot;</td><td>&quot;172.90614&quot;</td><td>&quot;34.92186&quot;</td><td>&quot;0.2304384&quot;</td><td>&quot;0.21374870&quot;</td><td>&quot;2.7703442&quot;</td><td>&quot;0&quot;</td><td>&quot;E2024-V16&quot;</td><td>&quot;8964&quot;</td><td>&quot;123&quot;</td><td>&quot;1804-2024&quot;</td><td>&quot;0.75&quot;</td><td>&quot;M-c&quot;</td><td>&quot;28k&quot;</td><td>&quot;Pan&quot;</td><td>&quot;4000&quot;</td><td>&quot;(2) Pallas&quot;</td><td>&quot;20240927&quot;</td></tr><tr><td>&quot;00003&quot;</td><td>&quot;5.18&quot;</td><td>&quot;0.15&quot;</td><td>&quot;K24AH&quot;</td><td>&quot;127.32529&quot;</td><td>&quot;247.81975&quot;</td><td>&quot;169.83829&quot;</td><td>&quot;12.98815&quot;</td><td>&quot;0.2561092&quot;</td><td>&quot;0.22588717&quot;</td><td>&quot;2.6701869&quot;</td><td>&quot;0&quot;</td><td>&quot;E2024-V16&quot;</td><td>&quot;7523&quot;</td><td>&quot;117&quot;</td><td>&quot;1804-2024&quot;</td><td>&quot;0.83&quot;</td><td>&quot;M-v&quot;</td><td>&quot;3Ek&quot;</td><td>&quot;Pan&quot;</td><td>&quot;4000&quot;</td><td>&quot;(3) Juno&quot;</td><td>&quot;20240607&quot;</td></tr><tr><td>&quot;00004&quot;</td><td>&quot;3.25&quot;</td><td>&quot;0.15&quot;</td><td>&quot;K24AH&quot;</td><td>&quot;278.02316&quot;</td><td>&quot;151.67629&quot;</td><td>&quot;103.70474&quot;</td><td>&quot;7.14398&quot;</td><td>&quot;0.0900011&quot;</td><td>&quot;0.27169443&quot;</td><td>&quot;2.3609252&quot;</td><td>&quot;0&quot;</td><td>&quot;E2024-V16&quot;</td><td>&quot;7647&quot;</td><td>&quot;111&quot;</td><td>&quot;1821-2024&quot;</td><td>&quot;0.82&quot;</td><td>&quot;M-p&quot;</td><td>&quot;18k&quot;</td><td>&quot;Pan&quot;</td><td>&quot;4000&quot;</td><td>&quot;(4) Vesta&quot;</td><td>&quot;20240306&quot;</td></tr><tr><td>&quot;00005&quot;</td><td>&quot;6.99&quot;</td><td>&quot;0.15&quot;</td><td>&quot;K243V&quot;</td><td>&quot;350.98291&quot;</td><td>&quot;359.23648&quot;</td><td>&quot;141.46063&quot;</td><td>&quot;5.35914&quot;</td><td>&quot;0.1872507&quot;</td><td>&quot;0.23840266&quot;</td><td>&quot;2.5758979&quot;</td><td>&quot;0&quot;</td><td>&quot;MPO840811&quot;</td><td>&quot;3344&quot;</td><td>&quot;87&quot;</td><td>&quot;1845-2024&quot;</td><td>&quot;0.71&quot;</td><td>&quot;M-v&quot;</td><td>&quot;3Ek&quot;</td><td>&quot;MPCLINUX&quot;</td><td>&quot;4000&quot;</td><td>&quot;(5) Astraea&quot;</td><td>&quot;20240603&quot;</td></tr><tr><td>&hellip;</td><td>&hellip;</td><td>&hellip;</td><td>&hellip;</td><td>&hellip;</td><td>&hellip;</td><td>&hellip;</td><td>&hellip;</td><td>&hellip;</td><td>&hellip;</td><td>&hellip;</td><td>&hellip;</td><td>&hellip;</td><td>&hellip;</td><td>&hellip;</td><td>&hellip;</td><td>&hellip;</td><td>&hellip;</td><td>&hellip;</td><td>&hellip;</td><td>&hellip;</td><td>&hellip;</td><td>&hellip;</td></tr><tr><td>&quot;K21C10K&quot;</td><td>&quot;20.8&quot;</td><td>&quot;0.15&quot;</td><td>&quot;K212F&quot;</td><td>&quot;269.71523&quot;</td><td>&quot;243.15772&quot;</td><td>&quot;351.93463&quot;</td><td>&quot;25.15937&quot;</td><td>&quot;0.0679376&quot;</td><td>&quot;0.50917447&quot;</td><td>&quot;1.5531914&quot;</td><td>null</td><td>&quot;E2021-D26&quot;</td><td>&quot;10&quot;</td><td>&quot;1&quot;</td><td>&quot;5 days&quot;</td><td>&quot;0.24&quot;</td><td>null</td><td>null</td><td>&quot;Bell&quot;</td><td>&quot;2005&quot;</td><td>&quot;2021 CK10&quot;</td><td>&quot;20210217&quot;</td></tr><tr><td>&quot;K21C10S&quot;</td><td>&quot;20.6&quot;</td><td>&quot;0.15&quot;</td><td>&quot;K212F&quot;</td><td>&quot;164.66648&quot;</td><td>&quot;223.65372&quot;</td><td>&quot;119.89392&quot;</td><td>&quot;29.38693&quot;</td><td>&quot;0.0526282&quot;</td><td>&quot;0.44236564&quot;</td><td>&quot;1.7058799&quot;</td><td>null</td><td>&quot;E2021-DA1&quot;</td><td>&quot;9&quot;</td><td>&quot;1&quot;</td><td>&quot;11 days&quot;</td><td>&quot;0.07&quot;</td><td>null</td><td>null</td><td>&quot;Bell&quot;</td><td>&quot;2005&quot;</td><td>&quot;2021 CS10&quot;</td><td>&quot;20210223&quot;</td></tr><tr><td>&quot;K21C16A&quot;</td><td>&quot;20.3&quot;</td><td>&quot;0.15&quot;</td><td>&quot;K212F&quot;</td><td>&quot;177.55080&quot;</td><td>&quot;227.21125&quot;</td><td>&quot;95.72419&quot;</td><td>&quot;24.84879&quot;</td><td>&quot;0.0475499&quot;</td><td>&quot;0.38977199&quot;</td><td>&quot;1.8560755&quot;</td><td>null</td><td>&quot;E2021-E98&quot;</td><td>&quot;9&quot;</td><td>&quot;1&quot;</td><td>&quot;5 days&quot;</td><td>&quot;0.12&quot;</td><td>null</td><td>null</td><td>&quot;Bell&quot;</td><td>&quot;2006&quot;</td><td>&quot;2021 CA16&quot;</td><td>&quot;20210217&quot;</td></tr><tr><td>&quot;K21F03B&quot;</td><td>&quot;20.3&quot;</td><td>&quot;0.15&quot;</td><td>&quot;K2137&quot;</td><td>&quot;356.00787&quot;</td><td>&quot;347.30825&quot;</td><td>&quot;168.74816&quot;</td><td>&quot;52.54222&quot;</td><td>&quot;0.3152773&quot;</td><td>&quot;0.30495276&quot;</td><td>&quot;2.1859875&quot;</td><td>null</td><td>&quot;E2021-FB1&quot;</td><td>&quot;9&quot;</td><td>&quot;1&quot;</td><td>&quot;5 days&quot;</td><td>&quot;0.07&quot;</td><td>null</td><td>null</td><td>&quot;Bell&quot;</td><td>&quot;2005&quot;</td><td>&quot;2021 FB3&quot;</td><td>&quot;20210324&quot;</td></tr><tr><td>&quot;K21H03L&quot;</td><td>&quot;18.9&quot;</td><td>&quot;0.15&quot;</td><td>&quot;K214G&quot;</td><td>&quot;341.42182&quot;</td><td>&quot;97.84464&quot;</td><td>&quot;121.03255&quot;</td><td>&quot;27.28853&quot;</td><td>&quot;0.2805494&quot;</td><td>&quot;0.31006610&quot;</td><td>&quot;2.1618880&quot;</td><td>null</td><td>&quot;E2021-J33&quot;</td><td>&quot;10&quot;</td><td>&quot;1&quot;</td><td>&quot;3 days&quot;</td><td>&quot;0.47&quot;</td><td>null</td><td>null</td><td>&quot;Bell&quot;</td><td>&quot;2005&quot;</td><td>&quot;2021 HL3&quot;</td><td>&quot;20210502&quot;</td></tr></tbody></table></div>"
      ],
      "text/plain": [
       "shape: (1_436_009, 23)\n",
       "┌────────────────────┬──────┬──────┬───────┬───┬──────────┬───────┬───────────────┬──────────┐\n",
       "│ Packed designation ┆ H    ┆ G    ┆ Epoch ┆ … ┆ Computer ┆ Flags ┆ Unpacked Name ┆ last obs │\n",
       "│ ---                ┆ ---  ┆ ---  ┆ ---   ┆   ┆ ---      ┆ ---   ┆ ---           ┆ ---      │\n",
       "│ str                ┆ str  ┆ str  ┆ str   ┆   ┆ str      ┆ str   ┆ str           ┆ str      │\n",
       "╞════════════════════╪══════╪══════╪═══════╪═══╪══════════╪═══════╪═══════════════╪══════════╡\n",
       "│ 00001              ┆ 3.34 ┆ 0.15 ┆ K24AH ┆ … ┆ MPCLINUX ┆ 4000  ┆ (1) Ceres     ┆ 20241101 │\n",
       "│ 00002              ┆ 4.11 ┆ 0.15 ┆ K24AH ┆ … ┆ Pan      ┆ 4000  ┆ (2) Pallas    ┆ 20240927 │\n",
       "│ 00003              ┆ 5.18 ┆ 0.15 ┆ K24AH ┆ … ┆ Pan      ┆ 4000  ┆ (3) Juno      ┆ 20240607 │\n",
       "│ 00004              ┆ 3.25 ┆ 0.15 ┆ K24AH ┆ … ┆ Pan      ┆ 4000  ┆ (4) Vesta     ┆ 20240306 │\n",
       "│ 00005              ┆ 6.99 ┆ 0.15 ┆ K243V ┆ … ┆ MPCLINUX ┆ 4000  ┆ (5) Astraea   ┆ 20240603 │\n",
       "│ …                  ┆ …    ┆ …    ┆ …     ┆ … ┆ …        ┆ …     ┆ …             ┆ …        │\n",
       "│ K21C10K            ┆ 20.8 ┆ 0.15 ┆ K212F ┆ … ┆ Bell     ┆ 2005  ┆ 2021 CK10     ┆ 20210217 │\n",
       "│ K21C10S            ┆ 20.6 ┆ 0.15 ┆ K212F ┆ … ┆ Bell     ┆ 2005  ┆ 2021 CS10     ┆ 20210223 │\n",
       "│ K21C16A            ┆ 20.3 ┆ 0.15 ┆ K212F ┆ … ┆ Bell     ┆ 2006  ┆ 2021 CA16     ┆ 20210217 │\n",
       "│ K21F03B            ┆ 20.3 ┆ 0.15 ┆ K2137 ┆ … ┆ Bell     ┆ 2005  ┆ 2021 FB3      ┆ 20210324 │\n",
       "│ K21H03L            ┆ 18.9 ┆ 0.15 ┆ K214G ┆ … ┆ Bell     ┆ 2005  ┆ 2021 HL3      ┆ 20210502 │\n",
       "└────────────────────┴──────┴──────┴───────┴───┴──────────┴───────┴───────────────┴──────────┘"
      ]
     },
     "execution_count": 9,
     "metadata": {},
     "output_type": "execute_result"
    }
   ],
   "source": [
    "mpcorb"
   ]
  },
  {
   "cell_type": "code",
   "execution_count": null,
   "metadata": {},
   "outputs": [],
   "source": [
    "def mpc_code_to_number(code):\n",
    "\n",
    "    # if it's a numbered object, it could be written 3 forms:\n",
    "\n",
    "    # low numbered objects are just numbers\n",
    "    if code.isdigit():\n",
    "        return code\n",
    "\n",
    "    # medium-numbered objects are a letter followed by 4 digits\n",
    "    def letter_to_number(char):\n",
    "        if char.isupper():\n",
    "            return ord(char) - ord(\"A\") + 10\n",
    "        else:\n",
    "            return ord(char) - ord(\"a\") + 36\n",
    "\n",
    "    if code[0].isalpha() and code[1:].isdigit():\n",
    "        prefix_value = letter_to_number(code[0])\n",
    "        num = (prefix_value * 10000) + int(code[1:])\n",
    "        return str(num)\n",
    "\n",
    "    # high-numbered objects are a tilde followed by a base-62 number\n",
    "    def base62_to_decimal(char):\n",
    "        if char.isdigit():\n",
    "            return int(char)\n",
    "        elif char.isupper():\n",
    "            return ord(char) - ord(\"A\") + 10\n",
    "        else:\n",
    "            return ord(char) - ord(\"a\") + 36\n",
    "\n",
    "    if code.startswith(\"~\"):\n",
    "        # Convert each character to its decimal value and calculate total\n",
    "        total = 0\n",
    "        for position, char in enumerate(reversed(code[1:])):\n",
    "            decimal_value = base62_to_decimal(char)\n",
    "            total += decimal_value * (62**position)\n",
    "        num = total + 620000\n",
    "        return str(num)"
   ]
  }
 ],
 "metadata": {
  "kernelspec": {
   "display_name": "jorbit",
   "language": "python",
   "name": "jorbit"
  },
  "language_info": {
   "codemirror_mode": {
    "name": "ipython",
    "version": 3
   },
   "file_extension": ".py",
   "mimetype": "text/x-python",
   "name": "python",
   "nbconvert_exporter": "python",
   "pygments_lexer": "ipython3",
   "version": "3.13.0"
  }
 },
 "nbformat": 4,
 "nbformat_minor": 2
}
