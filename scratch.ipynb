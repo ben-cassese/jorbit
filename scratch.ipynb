{
 "cells": [
  {
   "cell_type": "markdown",
   "metadata": {},
   "source": [
    "# scratch work"
   ]
  },
  {
   "cell_type": "code",
   "execution_count": 1,
   "metadata": {},
   "outputs": [],
   "source": [
    "import jax\n",
    "\n",
    "jax.config.update(\"jax_enable_x64\", True)\n",
    "import jax.numpy as jnp\n",
    "\n",
    "from astropy.time import Time\n",
    "import astropy.units as u\n",
    "from astropy.coordinates import SkyCoord\n",
    "from astroquery.jplhorizons import Horizons\n",
    "\n",
    "from jorbit.ephemeris import Ephemeris, EphemerisPostProcessor"
   ]
  },
  {
   "cell_type": "code",
   "execution_count": 2,
   "metadata": {},
   "outputs": [
    {
     "data": {
      "text/plain": [
       "{'x': <Quantity [ 1.95941058, -1.83557751, -1.26554065] AU>,\n",
       " 'v': <Quantity [0.00718976, 0.00621272, 0.00146799] AU / d>,\n",
       " 'a': <Quantity [0., 0., 0.] AU / d2>,\n",
       " 'log_gm': Array(-29.59967161, dtype=float64, weak_type=True)}"
      ]
     },
     "execution_count": 2,
     "metadata": {},
     "output_type": "execute_result"
    }
   ],
   "source": [
    "eph1 = Ephemeris(ssos=\"default solar system\")\n",
    "t = Time(\"2024-12-01 00:00\")\n",
    "\n",
    "eph1.state(t)[\"ceres\"]"
   ]
  },
  {
   "cell_type": "code",
   "execution_count": 3,
   "metadata": {},
   "outputs": [
    {
     "data": {
      "text/html": [
       "<div><i>Table masked=True length=1</i>\n",
       "<table id=\"table5019743376\" class=\"table-striped table-bordered table-condensed\">\n",
       "<thead><tr><th>targetname</th><th>datetime_jd</th><th>datetime_str</th><th>H</th><th>G</th><th>x</th><th>y</th><th>z</th><th>vx</th><th>vy</th><th>vz</th><th>lighttime</th><th>range</th><th>range_rate</th></tr></thead>\n",
       "<thead><tr><th>---</th><th>d</th><th>---</th><th>mag</th><th>---</th><th>AU</th><th>AU</th><th>AU</th><th>AU / d</th><th>AU / d</th><th>AU / d</th><th>d</th><th>AU</th><th>AU / d</th></tr></thead>\n",
       "<thead><tr><th>str17</th><th>float64</th><th>str30</th><th>float64</th><th>float64</th><th>float64</th><th>float64</th><th>float64</th><th>float64</th><th>float64</th><th>float64</th><th>float64</th><th>float64</th><th>float64</th></tr></thead>\n",
       "<tr><td>1 Ceres (A801 AA)</td><td>2460645.50080073</td><td>A.D. 2024-Dec-01 00:01:09.1831</td><td>3.34</td><td>0.12</td><td>1.959410581544375</td><td>-1.835577502420488</td><td>-1.265540654845034</td><td>0.007189759851123859</td><td>0.006212717988504686</td><td>0.001467994779189476</td><td>0.01714290956762958</td><td>2.968202780054944</td><td>0.0002782690905952506</td></tr>\n",
       "</table></div>"
      ],
      "text/plain": [
       "<Table masked=True length=1>\n",
       "    targetname      datetime_jd    ...       range             range_rate     \n",
       "       ---               d         ...         AU                AU / d       \n",
       "      str17           float64      ...      float64             float64       \n",
       "----------------- ---------------- ... ----------------- ---------------------\n",
       "1 Ceres (A801 AA) 2460645.50080073 ... 2.968202780054944 0.0002782690905952506"
      ]
     },
     "execution_count": 3,
     "metadata": {},
     "output_type": "execute_result"
    }
   ],
   "source": [
    "obj = Horizons(id=\"ceres\", location=\"@0\", epochs=t.tdb.jd)\n",
    "vecs = obj.vectors(refplane=\"earth\")\n",
    "vecs"
   ]
  },
  {
   "cell_type": "code",
   "execution_count": 4,
   "metadata": {},
   "outputs": [
    {
     "name": "stdout",
     "output_type": "stream",
     "text": [
      "[-1.55797930e-09 -2.80592927e-09  1.10484955e-11] AU\n",
      "480.1290143863208\n"
     ]
    }
   ],
   "source": [
    "err = (\n",
    "    eph1.state(t)[\"ceres\"][\"x\"]\n",
    "    - jnp.array([vecs[\"x\"][0], vecs[\"y\"][0], vecs[\"z\"][0]]) * u.au\n",
    ")\n",
    "print(err)\n",
    "print(jnp.linalg.norm(err) * u.au.to(u.m))"
   ]
  },
  {
   "cell_type": "code",
   "execution_count": 5,
   "metadata": {},
   "outputs": [
    {
     "name": "stdout",
     "output_type": "stream",
     "text": [
      "sun : 0.00015719823206890104\n",
      "mercury : 0.6437843598026342\n",
      "venus : 0.3906539067908675\n",
      "earth : 0.33822920590193944\n",
      "mars : 0.26049494997121736\n",
      "jupiter : 0.14997553511703793\n",
      "saturn : 0.10694395483529756\n",
      "uranus : 0.07374597980523129\n",
      "neptune : 0.0612630520224855\n",
      "pluto : 0.05948107674801526\n",
      "ceres : 480.1290143863208\n",
      "pallas : 97365.1312281726\n",
      "juno : 158224.1537592059\n",
      "vesta : 12904.228069566292\n",
      "iris : 114288.13017226166\n",
      "hygiea : 27019.768060730596\n",
      "eunomia : 44801.44092217856\n",
      "psyche : 14382.70225222105\n",
      "euphrosyne : 70394.44208465585\n",
      "europa : 34258.77244040259\n",
      "cybele : 132706.01947245933\n",
      "sylvia : 40117.50615430843\n",
      "thisbe : 19362.777854667354\n",
      "camilla : 40254.63022917626\n",
      "davida : 45575.83554590772\n",
      "interamnia : 26066.69991732719\n"
     ]
    }
   ],
   "source": [
    "# looks like we're getting sub-meter agreement with the planets,\n",
    "# but a few km off with the asteroids\n",
    "\n",
    "from jorbit.data.constants import ALL_PLANET_IDS, LARGE_ASTEROID_IDS\n",
    "\n",
    "components = list(eph1.state(t).keys())\n",
    "\n",
    "horizons_positions = []\n",
    "for component in components:\n",
    "    if component in ALL_PLANET_IDS:\n",
    "        component = ALL_PLANET_IDS[component]\n",
    "        obj = Horizons(id=component, location=\"@0\", epochs=t.tdb.jd)\n",
    "    elif component in LARGE_ASTEROID_IDS:\n",
    "        obj = Horizons(\n",
    "            id=component, location=\"@0\", epochs=t.tdb.jd, id_type=\"smallbody\"\n",
    "        )\n",
    "\n",
    "    vecs = obj.vectors(refplane=\"earth\")\n",
    "    horizons_positions.append(\n",
    "        jnp.array([vecs[\"x\"][0], vecs[\"y\"][0], vecs[\"z\"][0]]) * u.au\n",
    "    )\n",
    "\n",
    "for component, pos in zip(components, horizons_positions):\n",
    "    err = eph1.state(t)[component][\"x\"] - pos\n",
    "    print(component, \":\", jnp.linalg.norm(err) * u.au.to(u.m))"
   ]
  },
  {
   "cell_type": "code",
   "execution_count": null,
   "metadata": {},
   "outputs": [],
   "source": []
  },
  {
   "cell_type": "code",
   "execution_count": null,
   "metadata": {},
   "outputs": [],
   "source": []
  },
  {
   "cell_type": "code",
   "execution_count": 6,
   "metadata": {},
   "outputs": [],
   "source": [
    "import jax\n",
    "\n",
    "jax.config.update(\"jax_enable_x64\", True)\n",
    "import jax.numpy as jnp\n",
    "\n",
    "from astropy.time import Time\n",
    "import astropy.units as u\n",
    "from astropy.coordinates import SkyCoord\n",
    "from astroquery.jplhorizons import Horizons\n",
    "\n",
    "from jorbit.utils.states import SystemState\n",
    "from jorbit.data.constants import INV_SPEED_OF_LIGHT\n",
    "from jorbit.integrators import ias15_evolve, initialize_ias15_integrator_state\n",
    "\n",
    "t = Time(\"2024-12-01 00:00\")"
   ]
  },
  {
   "cell_type": "code",
   "execution_count": 7,
   "metadata": {},
   "outputs": [
    {
     "name": "stdout",
     "output_type": "stream",
     "text": [
      "[[ 2.61030935e-05 -2.90119924e-05 -8.52860259e-06]]\n"
     ]
    },
    {
     "data": {
      "text/plain": [
       "*************\n",
       "jorbit System\n",
       " time: 2460645.50080073\n",
       " particles: [Particle: wiki]\n",
       "*************"
      ]
     },
     "execution_count": 7,
     "metadata": {},
     "output_type": "execute_result"
    }
   ],
   "source": [
    "from jorbit.particle import Particle\n",
    "from jorbit.system import System\n",
    "\n",
    "obj = Horizons(id=\"274301\", location=\"@0\", epochs=t.tdb.jd)\n",
    "vecs = obj.vectors(refplane=\"earth\")\n",
    "\n",
    "x = jnp.array([vecs[\"x\"][0], vecs[\"y\"][0], vecs[\"z\"][0]])\n",
    "v = jnp.array([vecs[\"vx\"][0], vecs[\"vy\"][0], vecs[\"vz\"][0]])\n",
    "\n",
    "p = Particle(x=x, v=v, time=t, name=\"wiki\")\n",
    "system = System(particles=[p], acceleration_func=\"newtonian planets\")\n",
    "\n",
    "print(system.acceleration_func(system.state))\n",
    "\n",
    "system"
   ]
  },
  {
   "cell_type": "code",
   "execution_count": 12,
   "metadata": {},
   "outputs": [
    {
     "name": "stdout",
     "output_type": "stream",
     "text": [
      "<SkyCoord (ICRS): (ra, dec) in deg\n",
      "    (152.01007338, 5.09857717)>\n",
      "Downloading observer positions from Horizons...\n"
     ]
    },
    {
     "data": {
      "text/plain": [
       "Observations with 1 set(s) of observations"
      ]
     },
     "execution_count": 12,
     "metadata": {},
     "output_type": "execute_result"
    }
   ],
   "source": [
    "from jorbit.observation import Observations\n",
    "\n",
    "obj = Horizons(id=\"274301\", location=\"695\", epochs=t.jd)\n",
    "eph = obj.ephemerides(extra_precision=True, quantities=\"1\")\n",
    "coord = SkyCoord(eph[\"RA\"][0], eph[\"DEC\"][0], unit=(u.deg, u.deg), frame=\"icrs\")\n",
    "print(coord)\n",
    "\n",
    "obs = Observations(\n",
    "    observed_coordinates=coord,\n",
    "    times=t,\n",
    "    observatories=\"695@399\",\n",
    "    astrometric_uncertainties=1 * u.arcsec,\n",
    "    verbose=True,\n",
    ")\n",
    "obs"
   ]
  },
  {
   "cell_type": "code",
   "execution_count": 40,
   "metadata": {},
   "outputs": [
    {
     "data": {
      "text/latex": [
       "[$1.15071\\;\\mathrm{\\mu arcsec}$]"
      ],
      "text/plain": [
       "<Angle [1.1507072] uarcsec>"
      ]
     },
     "execution_count": 40,
     "metadata": {},
     "output_type": "execute_result"
    }
   ],
   "source": [
    "@jax.jit\n",
    "def on_sky(\n",
    "    state: SystemState,\n",
    "    acc_func,\n",
    "    observer_position,\n",
    "):\n",
    "    a0 = acc_func(state)\n",
    "    initial_integrator_state = initialize_ias15_integrator_state(a0)\n",
    "\n",
    "    def scan_func(carry, scan_over):\n",
    "        xz = carry\n",
    "        earth_distance = jnp.linalg.norm(xz - observer_position)\n",
    "        light_travel_time = earth_distance * INV_SPEED_OF_LIGHT\n",
    "\n",
    "        positions, final_system_state, final_integrator_state = ias15_evolve(\n",
    "            state,\n",
    "            acc_func,\n",
    "            jnp.array([state.time - light_travel_time]),\n",
    "            initial_integrator_state,\n",
    "            n_steps=5,\n",
    "        )\n",
    "\n",
    "        return final_system_state.positions, None\n",
    "\n",
    "    xz = jax.lax.scan(scan_func, state.positions, None, length=2)[0]\n",
    "\n",
    "    X = xz - observer_position\n",
    "    calc_ra = jnp.mod(jnp.arctan2(X[:, 1], X[:, 0]) + 2 * jnp.pi, 2 * jnp.pi)\n",
    "    calc_dec = jnp.pi / 2 - jnp.arccos(X[:, -1] / jnp.linalg.norm(X, axis=1))\n",
    "    return calc_ra, calc_dec\n",
    "\n",
    "\n",
    "a, b = on_sky(system.state, system.acceleration_func, obs.observer_positions[0])\n",
    "c = SkyCoord(a, b, unit=(u.rad, u.rad))\n",
    "\n",
    "c.separation(coord).to(u.microarcsecond)"
   ]
  },
  {
   "cell_type": "code",
   "execution_count": 41,
   "metadata": {},
   "outputs": [
    {
     "name": "stdout",
     "output_type": "stream",
     "text": [
      "558 μs ± 1.46 μs per loop (mean ± std. dev. of 7 runs, 1,000 loops each)\n"
     ]
    }
   ],
   "source": [
    "%%timeit\n",
    "\n",
    "on_sky(system.state, system.acceleration_func, obs.observer_positions[0])[\n",
    "    0\n",
    "].block_until_ready()"
   ]
  },
  {
   "cell_type": "code",
   "execution_count": 39,
   "metadata": {},
   "outputs": [
    {
     "name": "stdout",
     "output_type": "stream",
     "text": [
      "170 μs ± 2.89 μs per loop (mean ± std. dev. of 7 runs, 10,000 loops each)\n"
     ]
    }
   ],
   "source": [
    "@jax.jit\n",
    "def tmp(state):\n",
    "    a0 = system.acceleration_func(state)\n",
    "    initial_integrator_state = initialize_ias15_integrator_state(a0)\n",
    "    return initial_integrator_state\n",
    "\n",
    "\n",
    "%timeit tmp(system.state).g.p0.block_until_ready()"
   ]
  },
  {
   "cell_type": "code",
   "execution_count": null,
   "metadata": {},
   "outputs": [],
   "source": []
  }
 ],
 "metadata": {
  "kernelspec": {
   "display_name": ".venv",
   "language": "python",
   "name": "python3"
  },
  "language_info": {
   "codemirror_mode": {
    "name": "ipython",
    "version": 3
   },
   "file_extension": ".py",
   "mimetype": "text/x-python",
   "name": "python",
   "nbconvert_exporter": "python",
   "pygments_lexer": "ipython3",
   "version": "3.13.0"
  }
 },
 "nbformat": 4,
 "nbformat_minor": 2
}
