{
 "cells": [
  {
   "cell_type": "markdown",
   "metadata": {},
   "source": [
    "# scratch work"
   ]
  },
  {
   "cell_type": "code",
   "execution_count": 1,
   "metadata": {},
   "outputs": [],
   "source": [
    "import jax\n",
    "\n",
    "jax.config.update(\"jax_enable_x64\", True)\n",
    "import warnings\n",
    "\n",
    "import astropy.units as u\n",
    "import emcee\n",
    "import jax.numpy as jnp\n",
    "import matplotlib.pyplot as plt\n",
    "import numpy as np\n",
    "from astropy.coordinates import SkyCoord\n",
    "from astropy.time import Time\n",
    "from astroquery.jplhorizons import Horizons\n",
    "from emcee.autocorr import AutocorrError\n",
    "\n",
    "from jorbit import Observations, Particle\n"
   ]
  },
  {
   "cell_type": "code",
   "execution_count": 2,
   "metadata": {},
   "outputs": [
    {
     "data": {
      "text/plain": [
       "Particle: 90377 Sedna"
      ]
     },
     "execution_count": 2,
     "metadata": {},
     "output_type": "execute_result"
    }
   ],
   "source": [
    "nights = [Time(\"2025-01-01 07:00\"), Time(\"2025-01-02 07:00\"), Time(\"2025-01-05 07:00\")]\n",
    "\n",
    "times = []\n",
    "for n in nights:\n",
    "    times.extend([n + i * 1 * u.hour for i in range(3)])\n",
    "times = Time(times)\n",
    "\n",
    "\n",
    "# obj = Horizons(id=\"274301\", location=\"695@399\", epochs=times.utc.jd)\n",
    "obj = Horizons(id=\"90377\", location=\"695@399\", epochs=times.utc.jd)\n",
    "pts = obj.ephemerides(extra_precision=True, quantities=\"1\")\n",
    "\n",
    "coords = SkyCoord(pts[\"RA\"], pts[\"DEC\"], unit=(u.deg, u.deg))\n",
    "times = Time(pts[\"datetime_jd\"], format=\"jd\", scale=\"utc\")\n",
    "\n",
    "\n",
    "obs = Observations(\n",
    "    observed_coordinates=coords,\n",
    "    times=times,\n",
    "    observatories=\"kitt peak\",\n",
    "    astrometric_uncertainties=1 * u.arcsec,\n",
    ")\n",
    "\n",
    "\n",
    "# obj = Horizons(id=\"274301\", location=\"500@0\", epochs=times.tdb.jd[0])\n",
    "obj = Horizons(id=\"90377\", location=\"500@0\", epochs=times.tdb.jd[0])\n",
    "vecs = obj.vectors(refplane=\"earth\")\n",
    "true_x0 = jnp.array([vecs[\"x\"], vecs[\"y\"], vecs[\"z\"]]).T[0]\n",
    "true_v0 = jnp.array([vecs[\"vx\"], vecs[\"vy\"], vecs[\"vz\"]]).T[0]\n",
    "\n",
    "\n",
    "# p0 = Particle(\n",
    "#     x=true_x0, v=true_v0, time=times[0], name=\"274301 Wikipedia\", observations=obs\n",
    "# )\n",
    "p0 = Particle(\n",
    "    x=true_x0, v=true_v0, time=times[0], name=\"90377 Sedna\", observations=obs,\n",
    ")\n",
    "p0"
   ]
  },
  {
   "cell_type": "code",
   "execution_count": 4,
   "metadata": {},
   "outputs": [
    {
     "name": "stderr",
     "output_type": "stream",
     "text": [
      "100%|██████████| 2500/2500 [23:10<00:00,  1.80it/s]\n",
      "/var/folders/mj/qxz5chg95r53_2nlv9f86qhm0000gn/T/ipykernel_41487/1063795637.py:1: UserWarning: emcee could not compute the autocorrelation time, chain is likely too short. Proceeding without any thinning.\n",
      "  samples = p0.fit_mcmc(\n"
     ]
    }
   ],
   "source": [
    "samples = p0.fit_mcmc(\n",
    "    p0.cartesian_state,\n",
    "    n_walkers=18,\n",
    "    n_steps=2500,\n",
    "    thin=\"auto\",\n",
    "    n_burn_steps=\"auto\",\n",
    "    flat=False,\n",
    "    verbose=True,\n",
    ")"
   ]
  },
  {
   "cell_type": "code",
   "execution_count": 5,
   "metadata": {},
   "outputs": [
    {
     "data": {
      "text/plain": [
       "(28251, 6)"
      ]
     },
     "execution_count": 5,
     "metadata": {},
     "output_type": "execute_result"
    }
   ],
   "source": [
    "samples.shape"
   ]
  },
  {
   "cell_type": "code",
   "execution_count": 5,
   "metadata": {},
   "outputs": [
    {
     "data": {
      "text/plain": [
       "Array([[1.0036754 , 0.99091796, 0.9799356 , 1.00160563, 1.00132334,\n",
       "        0.98694565],\n",
       "       [0.99594432, 0.98206465, 0.98643345, 1.00809585, 0.9962022 ,\n",
       "        1.00084428]], dtype=float64)"
      ]
     },
     "execution_count": 5,
     "metadata": {},
     "output_type": "execute_result"
    }
   ],
   "source": [
    "samples"
   ]
  },
  {
   "cell_type": "code",
   "execution_count": 11,
   "metadata": {},
   "outputs": [
    {
     "data": {
      "image/png": "[encoded data removed]",
      "text/plain": [
       "<Figure size 711.1x400 with 1 Axes>"
      ]
     },
     "metadata": {},
     "output_type": "display_data"
    }
   ],
   "source": [
    "plt.hist(samples[:, 5], bins=50);"
   ]
  },
  {
   "cell_type": "code",
   "execution_count": 8,
   "metadata": {},
   "outputs": [
    {
     "name": "stdout",
     "output_type": "stream",
     "text": [
      "31.2 ms ± 459 μs per loop (mean ± std. dev. of 7 runs, 10 loops each)\n"
     ]
    }
   ],
   "source": [
    "%timeit p0.scipy_objective(jnp.concatenate([true_x0, true_v0])).block_until_ready()"
   ]
  },
  {
   "cell_type": "code",
   "execution_count": 9,
   "metadata": {},
   "outputs": [
    {
     "data": {
      "text/plain": [
       "998.4"
      ]
     },
     "execution_count": 9,
     "metadata": {},
     "output_type": "execute_result"
    }
   ],
   "source": [
    "31.2 * 32"
   ]
  },
  {
   "cell_type": "code",
   "execution_count": 16,
   "metadata": {},
   "outputs": [
    {
     "name": "stderr",
     "output_type": "stream",
     "text": [
      "100%|██████████| 1000/1000 [00:00<00:00, 2310.73it/s]\n"
     ]
    }
   ],
   "source": [
    "def log_prob(x, mu, cov):\n",
    "    diff = x - mu\n",
    "    return -0.5 * np.dot(diff, np.linalg.solve(cov, diff))\n",
    "\n",
    "ndim = 5\n",
    "\n",
    "np.random.seed(42)\n",
    "means = np.random.rand(ndim)\n",
    "\n",
    "cov = 0.5 - np.random.rand(ndim**2).reshape((ndim, ndim))\n",
    "cov = np.triu(cov)\n",
    "cov += cov.T - np.diag(cov.diagonal())\n",
    "cov = np.dot(cov, cov)\n",
    "\n",
    "\n",
    "nwalkers = 32\n",
    "p0 = np.random.rand(nwalkers, ndim) - 10\n",
    "\n",
    "\n",
    "sampler = emcee.EnsembleSampler(nwalkers, ndim, log_prob, args=[means, cov])\n",
    "\n",
    "state = sampler.run_mcmc(p0, 1_000, progress=True)"
   ]
  },
  {
   "cell_type": "code",
   "execution_count": 17,
   "metadata": {},
   "outputs": [
    {
     "name": "stderr",
     "output_type": "stream",
     "text": [
      "/var/folders/mj/qxz5chg95r53_2nlv9f86qhm0000gn/T/ipykernel_19347/2619845432.py:40: UserWarning: emcee could not compute the autocorrelation time, chain is likely too short. Proceeding without any thinning.\n",
      "  q = process_emcee_chains(sampler, thin=\"auto\", n_burn_steps=\"auto\")\n"
     ]
    }
   ],
   "source": [
    "def process_emcee_chains(sampler, thin=\"auto\", n_burn_steps=\"auto\"):\n",
    "    x = sampler.get_chain()\n",
    "\n",
    "    if n_burn_steps == \"auto\":\n",
    "        # find the point where each chain first crosses its median value\n",
    "        medians = np.median(x, axis=0)\n",
    "        above_median = x > medians[None, ...]\n",
    "        crossings = above_median[:-1] != above_median[1:]\n",
    "        first_med_crossings = np.argmax(crossings, axis=0)\n",
    "\n",
    "        # nan out the everything before the first crossings:\n",
    "        mask = np.arange(x.shape[0])[:, None, None] > first_med_crossings[None, ...]\n",
    "        x = np.where(mask, x, np.nan)\n",
    "    else:\n",
    "        x = x[n_burn_steps:]\n",
    "\n",
    "    if thin == \"auto\":\n",
    "        try:\n",
    "            tau = sampler.get_autocorr_time()\n",
    "            thin = int(np.ceil(2 * tau.max()))\n",
    "        except AutocorrError:\n",
    "            warnings.warn(\n",
    "                \"emcee could not compute the autocorrelation time, chain is likely too short. Proceeding without any thinning.\",\n",
    "                stacklevel=2,\n",
    "            )\n",
    "            thin = 1\n",
    "\n",
    "    # thin the chain\n",
    "    x = x[::thin]\n",
    "\n",
    "    # flatten the chain\n",
    "    x = x.reshape(-1, ndim)\n",
    "\n",
    "    # get rid of the nans\n",
    "    x = x[~np.isnan(x).any(axis=1)]\n",
    "\n",
    "    return x\n",
    "\n",
    "\n",
    "q = process_emcee_chains(sampler, thin=\"auto\", n_burn_steps=\"auto\")"
   ]
  },
  {
   "cell_type": "code",
   "execution_count": 11,
   "metadata": {},
   "outputs": [
    {
     "data": {
      "text/plain": [
       "[<matplotlib.lines.Line2D at 0x324d339d0>]"
      ]
     },
     "execution_count": 11,
     "metadata": {},
     "output_type": "execute_result"
    },
    {
     "data": {
      "image/png": "[encoded data removed]",
      "text/plain": [
       "<Figure size 711.1x400 with 1 Axes>"
      ]
     },
     "metadata": {},
     "output_type": "display_data"
    }
   ],
   "source": [
    "x = sampler.get_chain()\n",
    "plt.plot(x[:200, 2, 0])\n",
    "plt.axhline(np.median(x[:, 2, 0]), color=\"k\")\n",
    "plt.plot(q[:100, 2])"
   ]
  },
  {
   "cell_type": "code",
   "execution_count": null,
   "metadata": {},
   "outputs": [],
   "source": []
  },
  {
   "cell_type": "code",
   "execution_count": 59,
   "metadata": {},
   "outputs": [],
   "source": [
    "p = sampler.get_chain(thin=10)\n",
    "x = sampler.get_chain()"
   ]
  },
  {
   "cell_type": "code",
   "execution_count": 55,
   "metadata": {},
   "outputs": [
    {
     "data": {
      "text/plain": [
       "((10000, 32, 5), (1000, 32, 5))"
      ]
     },
     "execution_count": 55,
     "metadata": {},
     "output_type": "execute_result"
    }
   ],
   "source": [
    "x.shape, p.shape"
   ]
  },
  {
   "cell_type": "code",
   "execution_count": 70,
   "metadata": {},
   "outputs": [
    {
     "data": {
      "text/plain": [
       "np.float64(0.0)"
      ]
     },
     "execution_count": 70,
     "metadata": {},
     "output_type": "execute_result"
    }
   ],
   "source": [
    "np.abs((p[0] - x).sum(axis=(1,2))).min()"
   ]
  },
  {
   "cell_type": "code",
   "execution_count": 71,
   "metadata": {},
   "outputs": [
    {
     "data": {
      "text/plain": [
       "(array([9]),)"
      ]
     },
     "execution_count": 71,
     "metadata": {},
     "output_type": "execute_result"
    }
   ],
   "source": [
    "np.where((p[0] - x).sum(axis=(1,2)) == 0)"
   ]
  },
  {
   "cell_type": "code",
   "execution_count": 72,
   "metadata": {},
   "outputs": [
    {
     "data": {
      "text/plain": [
       "array([[[0., 0., 0., 0., 0.],\n",
       "        [0., 0., 0., 0., 0.],\n",
       "        [0., 0., 0., 0., 0.],\n",
       "        ...,\n",
       "        [0., 0., 0., 0., 0.],\n",
       "        [0., 0., 0., 0., 0.],\n",
       "        [0., 0., 0., 0., 0.]],\n",
       "\n",
       "       [[0., 0., 0., 0., 0.],\n",
       "        [0., 0., 0., 0., 0.],\n",
       "        [0., 0., 0., 0., 0.],\n",
       "        ...,\n",
       "        [0., 0., 0., 0., 0.],\n",
       "        [0., 0., 0., 0., 0.],\n",
       "        [0., 0., 0., 0., 0.]],\n",
       "\n",
       "       [[0., 0., 0., 0., 0.],\n",
       "        [0., 0., 0., 0., 0.],\n",
       "        [0., 0., 0., 0., 0.],\n",
       "        ...,\n",
       "        [0., 0., 0., 0., 0.],\n",
       "        [0., 0., 0., 0., 0.],\n",
       "        [0., 0., 0., 0., 0.]],\n",
       "\n",
       "       ...,\n",
       "\n",
       "       [[0., 0., 0., 0., 0.],\n",
       "        [0., 0., 0., 0., 0.],\n",
       "        [0., 0., 0., 0., 0.],\n",
       "        ...,\n",
       "        [0., 0., 0., 0., 0.],\n",
       "        [0., 0., 0., 0., 0.],\n",
       "        [0., 0., 0., 0., 0.]],\n",
       "\n",
       "       [[0., 0., 0., 0., 0.],\n",
       "        [0., 0., 0., 0., 0.],\n",
       "        [0., 0., 0., 0., 0.],\n",
       "        ...,\n",
       "        [0., 0., 0., 0., 0.],\n",
       "        [0., 0., 0., 0., 0.],\n",
       "        [0., 0., 0., 0., 0.]],\n",
       "\n",
       "       [[0., 0., 0., 0., 0.],\n",
       "        [0., 0., 0., 0., 0.],\n",
       "        [0., 0., 0., 0., 0.],\n",
       "        ...,\n",
       "        [0., 0., 0., 0., 0.],\n",
       "        [0., 0., 0., 0., 0.],\n",
       "        [0., 0., 0., 0., 0.]]])"
      ]
     },
     "execution_count": 72,
     "metadata": {},
     "output_type": "execute_result"
    }
   ],
   "source": [
    "x[9:][::10] - p"
   ]
  },
  {
   "cell_type": "code",
   "execution_count": 6,
   "metadata": {},
   "outputs": [],
   "source": [
    "try:\n",
    "    obj = Horizons(id=\"K21RL9R\", location=\"500@0\", epochs=times.tdb.jd[0], id_type=\"smallbody\")\n",
    "    obj.vectors(refplane=\"earth\")\n",
    "except ValueError as e:\n",
    "    if \"Unknown target\" in str(e):\n",
    "        print(\"Unknown target\")"
   ]
  },
  {
   "cell_type": "code",
   "execution_count": null,
   "metadata": {},
   "outputs": [],
   "source": []
  }
 ],
 "metadata": {
  "kernelspec": {
   "display_name": "jorbit",
   "language": "python",
   "name": "jorbit"
  },
  "language_info": {
   "codemirror_mode": {
    "name": "ipython",
    "version": 3
   },
   "file_extension": ".py",
   "mimetype": "text/x-python",
   "name": "python",
   "nbconvert_exporter": "python",
   "pygments_lexer": "ipython3",
   "version": "3.13.0"
  }
 },
 "nbformat": 4,
 "nbformat_minor": 2
}
