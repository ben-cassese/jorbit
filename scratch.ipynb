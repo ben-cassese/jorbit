{
 "cells": [
  {
   "cell_type": "markdown",
   "metadata": {},
   "source": [
    "# scratch work"
   ]
  },
  {
   "cell_type": "code",
   "execution_count": 1,
   "metadata": {},
   "outputs": [],
   "source": [
    "import jax\n",
    "\n",
    "jax.config.update(\"jax_enable_x64\", True)\n",
    "import jax.numpy as jnp\n",
    "\n",
    "from astropy.time import Time\n",
    "import astropy.units as u\n",
    "from astropy.coordinates import SkyCoord\n",
    "from astroquery.jplhorizons import Horizons\n",
    "\n",
    "from jorbit.utils.horizons import (\n",
    "    horizons_bulk_vector_query,\n",
    "    horizons_bulk_astrometry_query,\n",
    ")\n",
    "\n",
    "t0 = Time(\"2024-12-24T00:00:00\", scale=\"utc\")"
   ]
  },
  {
   "cell_type": "code",
   "execution_count": 2,
   "metadata": {},
   "outputs": [
    {
     "data": {
      "text/html": [
       "<div><i>Table masked=True length=1</i>\n",
       "<table id=\"table4808521152\" class=\"table-striped table-bordered table-condensed\">\n",
       "<thead><tr><th>targetname</th><th>datetime_str</th><th>datetime_jd</th><th>H</th><th>G</th><th>solar_presence</th><th>interfering_body</th><th>RA</th><th>DEC</th><th>RA_3sigma</th><th>DEC_3sigma</th><th>SMAA_3sigma</th><th>SMIA_3sigma</th><th>Theta_3sigma</th><th>Area_3sigma</th></tr></thead>\n",
       "<thead><tr><th>---</th><th>---</th><th>d</th><th>mag</th><th>---</th><th>---</th><th>---</th><th>deg</th><th>deg</th><th>arcsec</th><th>arcsec</th><th>arcsec</th><th>arcsec</th><th>deg</th><th>arcsec2</th></tr></thead>\n",
       "<thead><tr><th>str28</th><th>str24</th><th>float64</th><th>float64</th><th>float64</th><th>str1</th><th>str1</th><th>float64</th><th>float64</th><th>float64</th><th>float64</th><th>float64</th><th>float64</th><th>float64</th><th>float64</th></tr></thead>\n",
       "<tr><td>274301 Wikipedia (2008 QH24)</td><td>2024-Dec-24 00:00:00.000</td><td>2460668.5</td><td>16.98</td><td>0.15</td><td></td><td></td><td>136.766360849</td><td>11.336294782</td><td>0.066</td><td>0.049</td><td>0.066</td><td>0.049</td><td>-11.904</td><td>0.0101078</td></tr>\n",
       "</table></div>"
      ],
      "text/plain": [
       "<Table masked=True length=1>\n",
       "         targetname                datetime_str       ... Area_3sigma\n",
       "            ---                        ---            ...   arcsec2  \n",
       "           str28                      str24           ...   float64  \n",
       "---------------------------- ------------------------ ... -----------\n",
       "274301 Wikipedia (2008 QH24) 2024-Dec-24 00:00:00.000 ...   0.0101078"
      ]
     },
     "execution_count": 2,
     "metadata": {},
     "output_type": "execute_result"
    }
   ],
   "source": [
    "horizons_obj = Horizons(id=\"274301\", location=\"@0\", epochs=[t0.jd])\n",
    "horizons_table = horizons_obj.ephemerides(quantities=\"1,36,37\", extra_precision=True)\n",
    "horizons_coord = SkyCoord(\n",
    "    ra=horizons_table[\"RA\"][0], dec=horizons_table[\"DEC\"][0], unit=(u.deg, u.deg)\n",
    ")\n",
    "\n",
    "horizons_table"
   ]
  },
  {
   "cell_type": "code",
   "execution_count": 3,
   "metadata": {},
   "outputs": [
    {
     "data": {
      "text/html": [
       "<div>\n",
       "<style scoped>\n",
       "    .dataframe tbody tr th:only-of-type {\n",
       "        vertical-align: middle;\n",
       "    }\n",
       "\n",
       "    .dataframe tbody tr th {\n",
       "        vertical-align: top;\n",
       "    }\n",
       "\n",
       "    .dataframe thead th {\n",
       "        text-align: right;\n",
       "    }\n",
       "</style>\n",
       "<table border=\"1\" class=\"dataframe\">\n",
       "  <thead>\n",
       "    <tr style=\"text-align: right;\">\n",
       "      <th></th>\n",
       "      <th>JD_UTC</th>\n",
       "      <th>RA</th>\n",
       "      <th>DEC</th>\n",
       "      <th>RA_3sigma</th>\n",
       "      <th>DEC_3sigma</th>\n",
       "      <th>SMAA_3sigma</th>\n",
       "      <th>SMIA_3sigma</th>\n",
       "      <th>Theta_3sigma</th>\n",
       "      <th>Area_3sigma</th>\n",
       "    </tr>\n",
       "  </thead>\n",
       "  <tbody>\n",
       "    <tr>\n",
       "      <th>0</th>\n",
       "      <td>2460668.5</td>\n",
       "      <td>136.766361</td>\n",
       "      <td>11.336295</td>\n",
       "      <td>0.066</td>\n",
       "      <td>0.049</td>\n",
       "      <td>0.066</td>\n",
       "      <td>0.049</td>\n",
       "      <td>-11.904</td>\n",
       "      <td>0.010108</td>\n",
       "    </tr>\n",
       "  </tbody>\n",
       "</table>\n",
       "</div>"
      ],
      "text/plain": [
       "      JD_UTC          RA        DEC  RA_3sigma  DEC_3sigma  SMAA_3sigma  \\\n",
       "0  2460668.5  136.766361  11.336295      0.066       0.049        0.066   \n",
       "\n",
       "   SMIA_3sigma  Theta_3sigma  Area_3sigma  \n",
       "0        0.049       -11.904     0.010108  "
      ]
     },
     "execution_count": 3,
     "metadata": {},
     "output_type": "execute_result"
    }
   ],
   "source": [
    "jorb_table = horizons_bulk_astrometry_query(\"274301\", \"500@0\", t0)\n",
    "jorb_coord = SkyCoord(ra=jorb_table[\"RA\"], dec=jorb_table[\"DEC\"], unit=(u.deg, u.deg))\n",
    "\n",
    "jorb_table"
   ]
  },
  {
   "cell_type": "code",
   "execution_count": 4,
   "metadata": {},
   "outputs": [
    {
     "data": {
      "text/latex": [
       "[$0\\mathrm{{}^{\\prime\\prime}}$]"
      ],
      "text/plain": [
       "<Angle [0.] arcsec>"
      ]
     },
     "execution_count": 4,
     "metadata": {},
     "output_type": "execute_result"
    }
   ],
   "source": [
    "jorb_coord.separation(horizons_coord).to(u.arcsec)"
   ]
  },
  {
   "cell_type": "code",
   "execution_count": null,
   "metadata": {},
   "outputs": [],
   "source": []
  },
  {
   "cell_type": "code",
   "execution_count": 5,
   "metadata": {},
   "outputs": [
    {
     "data": {
      "text/plain": [
       "<SkyCoord (ICRS): (ra, dec) in deg\n",
       "    [(212.37610087, -9.48236651), (212.46622544, -9.50427124),\n",
       "     (212.55640377, -9.52616316), (212.64663597, -9.54804218),\n",
       "     (212.73692211, -9.56990825), (212.82726228, -9.59176127),\n",
       "     (212.91765657, -9.61360117), (213.00810506, -9.63542787),\n",
       "     (213.09860784, -9.6572413 ), (213.18916499, -9.67904138)]>"
      ]
     },
     "execution_count": 5,
     "metadata": {},
     "output_type": "execute_result"
    }
   ],
   "source": [
    "large_times = Time(t0.jd + jnp.linspace(0, 365, 1000), format=\"jd\", scale=\"utc\")\n",
    "jorb_table = horizons_bulk_astrometry_query(\"274301\", \"500@0\", large_times)\n",
    "jorb_coord = SkyCoord(ra=jorb_table[\"RA\"], dec=jorb_table[\"DEC\"], unit=(u.deg, u.deg))[\n",
    "    -10:\n",
    "]\n",
    "jorb_coord"
   ]
  },
  {
   "cell_type": "code",
   "execution_count": 6,
   "metadata": {},
   "outputs": [
    {
     "data": {
      "text/plain": [
       "<SkyCoord (ICRS): (ra, dec) in deg\n",
       "    [(212.37610087, -9.48236651), (212.46622544, -9.50427124),\n",
       "     (212.55640377, -9.52616316), (212.64663597, -9.54804218),\n",
       "     (212.73692211, -9.56990825), (212.82726228, -9.59176127),\n",
       "     (212.91765657, -9.61360117), (213.00810506, -9.63542787),\n",
       "     (213.09860784, -9.6572413 ), (213.18916499, -9.67904138)]>"
      ]
     },
     "execution_count": 6,
     "metadata": {},
     "output_type": "execute_result"
    }
   ],
   "source": [
    "horizons_obj = Horizons(id=\"274301\", location=\"@0\", epochs=large_times.utc.jd[-10:])\n",
    "horizons_table = horizons_obj.ephemerides(quantities=\"1,36,37\", extra_precision=True)\n",
    "horizons_coord = SkyCoord(\n",
    "    ra=horizons_table[\"RA\"], dec=horizons_table[\"DEC\"], unit=(u.deg, u.deg)\n",
    ")\n",
    "horizons_coord"
   ]
  },
  {
   "cell_type": "code",
   "execution_count": 7,
   "metadata": {},
   "outputs": [
    {
     "data": {
      "text/latex": [
       "[$3.55087e-06\\mathrm{{}^{\\prime\\prime}}$ $0\\mathrm{{}^{\\prime\\prime}}$\n",
       " $0\\mathrm{{}^{\\prime\\prime}}$ $0\\mathrm{{}^{\\prime\\prime}}$\n",
       " $0\\mathrm{{}^{\\prime\\prime}}$ $0\\mathrm{{}^{\\prime\\prime}}$\n",
       " $0\\mathrm{{}^{\\prime\\prime}}$ $0\\mathrm{{}^{\\prime\\prime}}$\n",
       " $0\\mathrm{{}^{\\prime\\prime}}$ $0\\mathrm{{}^{\\prime\\prime}}$]"
      ],
      "text/plain": [
       "<Angle [3.55087423e-06, 0.00000000e+00, 0.00000000e+00, 0.00000000e+00,\n",
       "        0.00000000e+00, 0.00000000e+00, 0.00000000e+00, 0.00000000e+00,\n",
       "        0.00000000e+00, 0.00000000e+00] arcsec>"
      ]
     },
     "execution_count": 7,
     "metadata": {},
     "output_type": "execute_result"
    }
   ],
   "source": [
    "horizons_coord.separation(jorb_coord).to(u.arcsec)"
   ]
  },
  {
   "cell_type": "code",
   "execution_count": null,
   "metadata": {},
   "outputs": [],
   "source": []
  }
 ],
 "metadata": {
  "kernelspec": {
   "display_name": ".venv",
   "language": "python",
   "name": "python3"
  },
  "language_info": {
   "codemirror_mode": {
    "name": "ipython",
    "version": 3
   },
   "file_extension": ".py",
   "mimetype": "text/x-python",
   "name": "python",
   "nbconvert_exporter": "python",
   "pygments_lexer": "ipython3",
   "version": "3.13.0"
  }
 },
 "nbformat": 4,
 "nbformat_minor": 2
}
