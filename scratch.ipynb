{
 "cells": [
  {
   "cell_type": "markdown",
   "metadata": {},
   "source": [
    "# scratch work"
   ]
  },
  {
   "cell_type": "code",
   "execution_count": 1,
   "metadata": {},
   "outputs": [],
   "source": [
    "import jax\n",
    "\n",
    "jax.config.update(\"jax_enable_x64\", True)\n",
    "import astropy.units as u\n",
    "import jax.numpy as jnp\n",
    "import matplotlib.pyplot as plt\n",
    "from astropy.coordinates import SkyCoord\n",
    "from astropy.time import Time\n",
    "from astroquery.jplhorizons import Horizons\n",
    "\n",
    "from jorbit import Observations, Particle\n"
   ]
  },
  {
   "cell_type": "code",
   "execution_count": 2,
   "metadata": {},
   "outputs": [],
   "source": [
    "nights = [Time(\"2025-01-01 07:00\"), Time(\"2025-01-02 07:00\"), Time(\"2025-01-05 07:00\")]\n",
    "\n",
    "times = []\n",
    "for n in nights:\n",
    "    times.extend([n + i * 1 * u.hour for i in range(3)])\n",
    "times = Time(times)\n",
    "\n",
    "\n",
    "# obj = Horizons(id=\"274301\", location=\"695@399\", epochs=times.utc.jd)\n",
    "obj = Horizons(id=\"90377\", location=\"695@399\", epochs=times.utc.jd)\n",
    "pts = obj.ephemerides(extra_precision=True, quantities=\"1\")\n",
    "\n",
    "coords = SkyCoord(pts[\"RA\"], pts[\"DEC\"], unit=(u.deg, u.deg))\n",
    "times = Time(pts[\"datetime_jd\"], format=\"jd\", scale=\"utc\")"
   ]
  },
  {
   "cell_type": "code",
   "execution_count": 3,
   "metadata": {},
   "outputs": [
    {
     "data": {
      "text/plain": [
       "[Text(0.5, 0, 'RA'), Text(0, 0.5, 'DEC')]"
      ]
     },
     "execution_count": 3,
     "metadata": {},
     "output_type": "execute_result"
    },
    {
     "data": {
      "image/png": "[encoded data removed]",
      "text/plain": [
       "<Figure size 711.1x400 with 1 Axes>"
      ]
     },
     "metadata": {},
     "output_type": "display_data"
    }
   ],
   "source": [
    "fig, ax = plt.subplots()\n",
    "ax.scatter(coords.ra, coords.dec, c=\"k\", marker=\"x\")\n",
    "ax.set_xlim(ax.get_xlim()[::-1])\n",
    "ax.set(xlabel=\"RA\", ylabel=\"DEC\")"
   ]
  },
  {
   "cell_type": "code",
   "execution_count": 4,
   "metadata": {},
   "outputs": [
    {
     "data": {
      "text/plain": [
       "Observations with 9 set(s) of observations"
      ]
     },
     "execution_count": 4,
     "metadata": {},
     "output_type": "execute_result"
    }
   ],
   "source": [
    "obs = Observations(\n",
    "    observed_coordinates=coords,\n",
    "    times=times,\n",
    "    observatories=\"kitt peak\",\n",
    "    astrometric_uncertainties=1 * u.arcsec,\n",
    ")\n",
    "obs"
   ]
  },
  {
   "cell_type": "code",
   "execution_count": 5,
   "metadata": {},
   "outputs": [
    {
     "data": {
      "text/plain": [
       "(Array([40.298248  , 71.80844307, 12.46825354], dtype=float64),\n",
       " Array([-0.00247257,  0.00048492,  0.00042657], dtype=float64))"
      ]
     },
     "execution_count": 5,
     "metadata": {},
     "output_type": "execute_result"
    }
   ],
   "source": [
    "# obj = Horizons(id=\"274301\", location=\"500@0\", epochs=times.tdb.jd[0])\n",
    "obj = Horizons(id=\"90377\", location=\"500@0\", epochs=times.tdb.jd[0])\n",
    "vecs = obj.vectors(refplane=\"earth\")\n",
    "true_x0 = jnp.array([vecs[\"x\"], vecs[\"y\"], vecs[\"z\"]]).T[0]\n",
    "true_v0 = jnp.array([vecs[\"vx\"], vecs[\"vy\"], vecs[\"vz\"]]).T[0]\n",
    "true_x0, true_v0"
   ]
  },
  {
   "cell_type": "code",
   "execution_count": 7,
   "metadata": {},
   "outputs": [
    {
     "data": {
      "text/plain": [
       "Particle: 90377 Sedna"
      ]
     },
     "execution_count": 7,
     "metadata": {},
     "output_type": "execute_result"
    }
   ],
   "source": [
    "# p0 = Particle(\n",
    "#     x=true_x0, v=true_v0, time=times[0], name=\"274301 Wikipedia\", observations=obs\n",
    "# )\n",
    "p0 = Particle(\n",
    "    x=true_x0, v=true_v0, time=times[0], name=\"90377 Sedna\", observations=obs\n",
    ")\n",
    "p0"
   ]
  },
  {
   "cell_type": "code",
   "execution_count": 8,
   "metadata": {},
   "outputs": [
    {
     "name": "stdout",
     "output_type": "stream",
     "text": [
      "RUNNING THE L-BFGS-B CODE\n",
      "\n",
      "           * * *\n",
      "\n",
      "Machine precision = 2.220D-16\n",
      " N =            6     M =          100\n",
      "\n",
      "At X0         0 variables are exactly at the bounds\n",
      "\n",
      "At iterate    0    f=  2.16146D+03    |proj g|=  1.18426D+07\n"
     ]
    },
    {
     "name": "stderr",
     "output_type": "stream",
     "text": [
      " This problem is unconstrained.\n"
     ]
    },
    {
     "name": "stdout",
     "output_type": "stream",
     "text": [
      "\n",
      "At iterate    1    f=  9.14800D+02    |proj g|=  2.61490D+06\n",
      "\n",
      "At iterate    2    f=  4.52218D+02    |proj g|=  1.55262D+06\n",
      "\n",
      "At iterate    3    f=  1.71587D+02    |proj g|=  1.72451D+03\n",
      "\n",
      "At iterate    4    f=  1.71586D+02    |proj g|=  2.55550D+02\n",
      "\n",
      "At iterate    5    f=  1.71586D+02    |proj g|=  6.26013D+02\n",
      "\n",
      "At iterate    6    f=  1.71586D+02    |proj g|=  1.93038D+03\n",
      "\n",
      "At iterate    7    f=  1.71586D+02    |proj g|=  5.02296D+03\n",
      "\n",
      "At iterate    8    f=  1.71586D+02    |proj g|=  9.52905D+03\n",
      "\n",
      "At iterate    9    f=  1.71584D+02    |proj g|=  1.71299D+04\n",
      "\n",
      "At iterate   10    f=  1.71580D+02    |proj g|=  2.92355D+04\n",
      "\n",
      "At iterate   11    f=  1.71568D+02    |proj g|=  4.89433D+04\n",
      "\n",
      "At iterate   12    f=  1.71539D+02    |proj g|=  8.07487D+04\n",
      "\n",
      "At iterate   13    f=  1.71461D+02    |proj g|=  1.32247D+05\n",
      "\n",
      "At iterate   14    f=  1.71259D+02    |proj g|=  2.15471D+05\n",
      "\n",
      "At iterate   15    f=  1.70733D+02    |proj g|=  3.49869D+05\n",
      "\n",
      "At iterate   16    f=  1.69374D+02    |proj g|=  5.66141D+05\n",
      "\n",
      "At iterate   17    f=  1.65929D+02    |proj g|=  9.11263D+05\n",
      "\n",
      "At iterate   18    f=  1.57508D+02    |proj g|=  1.45022D+06\n",
      "\n",
      "At iterate   19    f=  1.37930D+02    |proj g|=  2.24034D+06\n",
      "\n",
      "At iterate   20    f=  9.38537D+01    |proj g|=  2.95944D+06\n",
      "\n",
      "At iterate   21    f=  6.21370D+01    |proj g|=  1.46283D+06\n",
      "\n",
      "At iterate   22    f=  5.54678D+01    |proj g|=  2.58848D+05\n",
      "\n",
      "At iterate   23    f=  5.36933D+01    |proj g|=  2.70754D+05\n",
      "\n",
      "At iterate   24    f=  5.35247D+01    |proj g|=  3.03923D+05\n",
      "\n",
      "At iterate   25    f=  5.34293D+01    |proj g|=  5.56000D+04\n",
      "\n",
      "At iterate   26    f=  5.34068D+01    |proj g|=  2.47472D+04\n",
      "\n",
      "At iterate   27    f=  5.34058D+01    |proj g|=  3.07281D+03\n",
      "\n",
      "At iterate   28    f=  5.34057D+01    |proj g|=  2.07523D+03\n",
      "\n",
      "At iterate   29    f=  5.34057D+01    |proj g|=  1.98957D+03\n",
      "\n",
      "At iterate   30    f=  5.34055D+01    |proj g|=  1.31687D+03\n",
      "\n",
      "At iterate   31    f=  5.34054D+01    |proj g|=  5.80100D+01\n",
      "\n",
      "At iterate   32    f=  5.34054D+01    |proj g|=  1.57253D+01\n",
      "\n",
      "At iterate   33    f=  5.34054D+01    |proj g|=  1.46910D+01\n",
      "\n",
      "At iterate   34    f=  5.34054D+01    |proj g|=  6.79674D+01\n",
      "\n",
      "At iterate   35    f=  5.34054D+01    |proj g|=  1.36783D+02\n",
      "\n",
      "At iterate   36    f=  5.34054D+01    |proj g|=  2.74809D+02\n",
      "\n",
      "At iterate   37    f=  5.34054D+01    |proj g|=  4.81638D+02\n",
      "\n",
      "At iterate   38    f=  5.34054D+01    |proj g|=  8.26736D+02\n",
      "\n",
      "At iterate   39    f=  5.34053D+01    |proj g|=  1.37836D+03\n",
      "\n",
      "At iterate   40    f=  5.34052D+01    |proj g|=  2.27594D+03\n",
      "\n",
      "At iterate   41    f=  5.34049D+01    |proj g|=  3.72561D+03\n",
      "\n",
      "At iterate   42    f=  5.34041D+01    |proj g|=  6.07457D+03\n",
      "\n",
      "At iterate   43    f=  5.34019D+01    |proj g|=  9.87759D+03\n",
      "\n",
      "At iterate   44    f=  5.33962D+01    |proj g|=  1.60372D+04\n",
      "\n",
      "At iterate   45    f=  5.33812D+01    |proj g|=  2.60096D+04\n",
      "\n",
      "At iterate   46    f=  5.33419D+01    |proj g|=  4.21135D+04\n",
      "\n",
      "At iterate   47    f=  5.32391D+01    |proj g|=  6.78830D+04\n",
      "\n",
      "At iterate   48    f=  5.29712D+01    |proj g|=  1.07904D+05\n",
      "\n",
      "At iterate   49    f=  5.22827D+01    |proj g|=  1.64359D+05\n",
      "\n",
      "At iterate   50    f=  5.05948D+01    |proj g|=  2.21900D+05\n",
      "\n",
      "At iterate   51    f=  4.70068D+01    |proj g|=  2.29608D+05\n",
      "\n",
      "At iterate   52    f=  4.14520D+01    |proj g|=  1.79964D+05\n",
      "\n",
      "At iterate   53    f=  3.54797D+01    |proj g|=  1.53197D+05\n",
      "\n",
      "At iterate   54    f=  3.02123D+01    |proj g|=  9.95979D+04\n",
      "\n",
      "At iterate   55    f=  2.61086D+01    |proj g|=  7.13875D+04\n",
      "\n",
      "At iterate   56    f=  2.32412D+01    |proj g|=  5.78084D+04\n",
      "\n",
      "At iterate   57    f=  2.14518D+01    |proj g|=  4.85699D+04\n",
      "\n",
      "At iterate   58    f=  2.04128D+01    |proj g|=  6.33897D+04\n",
      "\n",
      "At iterate   59    f=  1.97138D+01    |proj g|=  7.56960D+04\n",
      "\n",
      "At iterate   60    f=  1.90874D+01    |proj g|=  7.95422D+04\n",
      "\n",
      "At iterate   61    f=  1.86106D+01    |proj g|=  7.47923D+04\n",
      "\n",
      "At iterate   62    f=  1.84556D+01    |proj g|=  6.74761D+04\n",
      "\n",
      "At iterate   63    f=  1.84183D+01    |proj g|=  6.36923D+04\n",
      "\n",
      "At iterate   64    f=  1.83556D+01    |proj g|=  5.78643D+04\n",
      "\n",
      "At iterate   65    f=  1.82326D+01    |proj g|=  4.85139D+04\n",
      "\n",
      "At iterate   66    f=  1.80649D+01    |proj g|=  3.95854D+04\n",
      "\n",
      "At iterate   67    f=  1.79374D+01    |proj g|=  3.60225D+04\n",
      "\n",
      "At iterate   68    f=  1.78813D+01    |proj g|=  3.50764D+04\n",
      "\n",
      "At iterate   69    f=  1.78227D+01    |proj g|=  3.29066D+04\n",
      "\n",
      "At iterate   70    f=  1.77145D+01    |proj g|=  2.63691D+04\n",
      "\n",
      "At iterate   71    f=  1.75979D+01    |proj g|=  1.72505D+04\n",
      "\n",
      "At iterate   72    f=  1.74897D+01    |proj g|=  1.95265D+04\n",
      "\n",
      "At iterate   73    f=  1.73839D+01    |proj g|=  2.13123D+04\n",
      "\n",
      "At iterate   74    f=  1.72999D+01    |proj g|=  2.31756D+04\n",
      "\n",
      "At iterate   75    f=  1.72562D+01    |proj g|=  2.50850D+04\n",
      "\n",
      "At iterate   76    f=  1.72328D+01    |proj g|=  2.68059D+04\n",
      "\n",
      "At iterate   77    f=  1.72156D+01    |proj g|=  2.87228D+04\n",
      "\n",
      "At iterate   78    f=  1.72026D+01    |proj g|=  3.06042D+04\n",
      "\n",
      "At iterate   79    f=  1.71907D+01    |proj g|=  3.22466D+04\n",
      "\n",
      "At iterate   80    f=  1.71770D+01    |proj g|=  3.35076D+04\n",
      "\n",
      "At iterate   81    f=  1.71561D+01    |proj g|=  3.42454D+04\n",
      "\n",
      "At iterate   82    f=  1.71215D+01    |proj g|=  3.39345D+04\n",
      "\n",
      "At iterate   83    f=  1.70660D+01    |proj g|=  3.16810D+04\n",
      "\n",
      "At iterate   84    f=  1.70328D+01    |proj g|=  2.95592D+04\n",
      "\n",
      "At iterate   85    f=  1.69456D+01    |proj g|=  2.19513D+04\n",
      "\n",
      "At iterate   86    f=  1.69220D+01    |proj g|=  1.95389D+04\n",
      "\n",
      "At iterate   87    f=  1.68963D+01    |proj g|=  1.45103D+04\n",
      "\n",
      "At iterate   88    f=  1.68859D+01    |proj g|=  1.37176D+04\n",
      "\n",
      "At iterate   89    f=  1.68785D+01    |proj g|=  1.41582D+04\n",
      "\n",
      "At iterate   90    f=  1.68569D+01    |proj g|=  1.47631D+04\n",
      "\n",
      "At iterate   91    f=  1.68393D+01    |proj g|=  1.34849D+04\n",
      "\n",
      "At iterate   92    f=  1.68047D+01    |proj g|=  7.88689D+03\n",
      "\n",
      "At iterate   93    f=  1.67854D+01    |proj g|=  3.46046D+03\n",
      "\n",
      "At iterate   94    f=  1.67708D+01    |proj g|=  2.85015D+03\n",
      "\n",
      "At iterate   95    f=  1.67530D+01    |proj g|=  5.61228D+03\n",
      "\n",
      "At iterate   96    f=  1.67271D+01    |proj g|=  5.18173D+03\n",
      "\n",
      "At iterate   97    f=  1.66924D+01    |proj g|=  4.77069D+03\n",
      "\n",
      "At iterate   98    f=  1.66761D+01    |proj g|=  1.08865D+03\n",
      "\n",
      "At iterate   99    f=  1.66596D+01    |proj g|=  2.98636D+03\n",
      "\n",
      "At iterate  100    f=  1.66428D+01    |proj g|=  1.48553D+03\n",
      "\n",
      "At iterate  101    f=  1.66231D+01    |proj g|=  1.85681D+03\n",
      "\n",
      "At iterate  102    f=  1.66106D+01    |proj g|=  4.07875D+02\n",
      "\n",
      "At iterate  103    f=  1.66030D+01    |proj g|=  1.07379D+03\n",
      "\n",
      "At iterate  104    f=  1.65952D+01    |proj g|=  1.99479D+03\n",
      "\n",
      "At iterate  105    f=  1.65852D+01    |proj g|=  4.87844D+02\n",
      "\n",
      "At iterate  106    f=  1.65786D+01    |proj g|=  7.31002D+02\n",
      "\n",
      "At iterate  107    f=  1.65738D+01    |proj g|=  1.10106D+03\n",
      "\n",
      "At iterate  108    f=  1.65679D+01    |proj g|=  3.95175D+02\n",
      "\n",
      "At iterate  109    f=  1.65654D+01    |proj g|=  7.19047D+02\n",
      "\n",
      "At iterate  110    f=  1.65616D+01    |proj g|=  9.26130D+02\n",
      "\n",
      "At iterate  111    f=  1.65583D+01    |proj g|=  4.66448D+02\n",
      "\n",
      "At iterate  112    f=  1.65561D+01    |proj g|=  5.48089D+02\n",
      "\n",
      "At iterate  113    f=  1.65542D+01    |proj g|=  3.51566D+02\n",
      "\n",
      "At iterate  114    f=  1.65509D+01    |proj g|=  2.67262D+02\n",
      "\n",
      "At iterate  115    f=  1.65502D+01    |proj g|=  2.36371D+02\n",
      "\n",
      "At iterate  116    f=  1.65493D+01    |proj g|=  3.33610D+02\n",
      "\n",
      "At iterate  117    f=  1.65488D+01    |proj g|=  3.53524D+02\n",
      "\n",
      "At iterate  118    f=  1.65481D+01    |proj g|=  2.72548D+02\n",
      "\n",
      "At iterate  119    f=  1.65467D+01    |proj g|=  2.60930D+02\n",
      "\n",
      "At iterate  120    f=  1.65460D+01    |proj g|=  4.09434D+02\n",
      "\n",
      "At iterate  121    f=  1.65451D+01    |proj g|=  4.33413D+02\n",
      "\n",
      "At iterate  122    f=  1.65447D+01    |proj g|=  4.83544D+02\n",
      "\n",
      "At iterate  123    f=  1.65439D+01    |proj g|=  4.02046D+02\n",
      "\n",
      "At iterate  124    f=  1.65432D+01    |proj g|=  1.08828D+02\n",
      "\n",
      "At iterate  125    f=  1.65430D+01    |proj g|=  1.20985D+02\n",
      "\n",
      "At iterate  126    f=  1.65428D+01    |proj g|=  1.17327D+02\n",
      "\n",
      "At iterate  127    f=  1.65426D+01    |proj g|=  9.51396D+01\n",
      "\n",
      "At iterate  128    f=  1.65423D+01    |proj g|=  1.22109D+02\n",
      "\n",
      "At iterate  129    f=  1.65421D+01    |proj g|=  1.15320D+02\n",
      "\n",
      "At iterate  130    f=  1.65418D+01    |proj g|=  9.97830D+01\n",
      "\n",
      "At iterate  131    f=  1.65417D+01    |proj g|=  1.32578D+02\n",
      "\n",
      "At iterate  132    f=  1.65415D+01    |proj g|=  5.97067D+01\n",
      "\n",
      "At iterate  133    f=  1.65414D+01    |proj g|=  8.14497D+01\n",
      "\n",
      "At iterate  134    f=  1.65413D+01    |proj g|=  6.30771D+01\n",
      "\n",
      "At iterate  135    f=  1.65412D+01    |proj g|=  1.70261D+02\n",
      "\n",
      "At iterate  136    f=  1.65411D+01    |proj g|=  2.58015D+01\n",
      "\n",
      "At iterate  137    f=  1.65410D+01    |proj g|=  5.51186D+01\n",
      "\n",
      "At iterate  138    f=  1.65410D+01    |proj g|=  6.58867D+01\n",
      "\n",
      "At iterate  139    f=  1.65409D+01    |proj g|=  3.23092D+01\n",
      "\n",
      "At iterate  140    f=  1.65409D+01    |proj g|=  1.27482D+01\n",
      "\n",
      "At iterate  141    f=  1.65409D+01    |proj g|=  2.72458D+01\n",
      "\n",
      "At iterate  142    f=  1.65409D+01    |proj g|=  1.94869D+01\n",
      "\n",
      "At iterate  143    f=  1.65409D+01    |proj g|=  1.63724D+01\n",
      "\n",
      "At iterate  144    f=  1.65409D+01    |proj g|=  9.54311D+00\n",
      "\n",
      "At iterate  145    f=  1.65409D+01    |proj g|=  2.41553D+00\n",
      "\n",
      "At iterate  146    f=  1.65409D+01    |proj g|=  1.51857D+00\n",
      "\n",
      "At iterate  147    f=  1.65409D+01    |proj g|=  2.14467D-01\n",
      "\n",
      "At iterate  148    f=  1.65409D+01    |proj g|=  7.96377D-02\n",
      "\n",
      "At iterate  149    f=  1.65409D+01    |proj g|=  3.03239D-02\n",
      "\n",
      "At iterate  150    f=  1.65409D+01    |proj g|=  7.90020D-03\n",
      "\n",
      "At iterate  151    f=  1.65409D+01    |proj g|=  3.16319D-03\n",
      "\n",
      "At iterate  152    f=  1.65409D+01    |proj g|=  2.20644D-03\n",
      "\n",
      "           * * *\n",
      "\n",
      "Tit   = total number of iterations\n",
      "Tnf   = total number of function evaluations\n",
      "Tnint = total number of segments explored during Cauchy searches\n",
      "Skip  = number of BFGS updates skipped\n",
      "Nact  = number of active bounds at final generalized Cauchy point\n",
      "Projg = norm of the final projected gradient\n",
      "F     = final function value\n",
      "\n",
      "           * * *\n",
      "\n",
      "   N    Tit     Tnf  Tnint  Skip  Nact     Projg        F\n",
      "    6    152    170      1     0     0   2.206D-03   1.654D+01\n",
      "  F =   16.540893597686654     \n",
      "\n",
      "CONVERGENCE: REL_REDUCTION_OF_F_<=_FACTR*EPSMCH             \n"
     ]
    }
   ],
   "source": [
    "p1 = p0.max_likelihood(verbose=True)"
   ]
  },
  {
   "cell_type": "code",
   "execution_count": 9,
   "metadata": {},
   "outputs": [
    {
     "data": {
      "text/plain": [
       "(Array([[-2.85878697e-07, -9.41375956e-08],\n",
       "        [ 2.27149607e-10,  4.53949813e-07],\n",
       "        [ 2.57722802e-07, -2.01944932e-07],\n",
       "        [ 5.58371131e-07,  1.27356294e-07],\n",
       "        [ 3.13568519e-07, -2.01114737e-07],\n",
       "        [-8.33458029e-07, -1.70905569e-07],\n",
       "        [-7.02797991e-07,  2.99354194e-07],\n",
       "        [ 9.04233744e-07,  1.03798204e-06],\n",
       "        [ 7.02031446e-09, -1.00865544e-06]], dtype=float64),\n",
       " Array([[-1.47200117e-06,  1.07532008e-06],\n",
       "        [-1.18933989e-06,  1.49255446e-06],\n",
       "        [-9.10482747e-07,  7.05574422e-07],\n",
       "        [ 1.01598318e-06, -9.71389347e-07],\n",
       "        [ 7.29844464e-07, -1.38023574e-06],\n",
       "        [-4.38202549e-07, -1.43192019e-06],\n",
       "        [-1.74874341e-07, -9.56226198e-08],\n",
       "        [ 1.30691672e-06,  7.22190964e-07],\n",
       "        [ 3.07147170e-07, -1.24653535e-06]], dtype=float64))"
      ]
     },
     "execution_count": 9,
     "metadata": {},
     "output_type": "execute_result"
    }
   ],
   "source": [
    "p1.residuals(p1.cartesian_state), p0.residuals(p0.cartesian_state)"
   ]
  },
  {
   "cell_type": "code",
   "execution_count": 10,
   "metadata": {},
   "outputs": [
    {
     "data": {
      "text/plain": [
       "(KeplerianState(semi=Array([499.71376153], dtype=float64), ecc=Array([0.84735948], dtype=float64), inc=Array([11.9285386], dtype=float64), Omega=Array([144.40082898], dtype=float64), omega=Array([311.09150915], dtype=float64), nu=Array([324.74667053], dtype=float64), time=np.float64(2460676.792467407)),\n",
       " KeplerianState(semi=Array([506.419829], dtype=float64), ecc=Array([0.84954883], dtype=float64), inc=Array([11.92852394], dtype=float64), Omega=Array([144.40149979], dtype=float64), omega=Array([311.28485567], dtype=float64), nu=Array([324.55266997], dtype=float64), time=np.float64(2460676.792467407)))"
      ]
     },
     "execution_count": 10,
     "metadata": {},
     "output_type": "execute_result"
    }
   ],
   "source": [
    "p1.keplerian_state, p0.keplerian_state"
   ]
  },
  {
   "cell_type": "code",
   "execution_count": null,
   "metadata": {},
   "outputs": [],
   "source": []
  },
  {
   "cell_type": "code",
   "execution_count": null,
   "metadata": {},
   "outputs": [],
   "source": []
  },
  {
   "cell_type": "code",
   "execution_count": 7,
   "metadata": {},
   "outputs": [
    {
     "name": "stdout",
     "output_type": "stream",
     "text": [
      "CartesianState(x=Array([[-2.00572335,  1.77860137,  0.5197407 ]], dtype=float64), v=Array([[-0.00665991, -0.00662871, -0.00203885]], dtype=float64), time=np.float64(2460676.792467407))\n",
      "KeplerianState(semi=Array([2.37859645], dtype=float64), ecc=Array([0.14924503], dtype=float64), inc=Array([6.73363769], dtype=float64), Omega=Array([183.37295038], dtype=float64), omega=Array([140.26385356], dtype=float64), nu=Array([173.65462829], dtype=float64), time=np.float64(2460676.792467407))\n"
     ]
    }
   ],
   "source": [
    "print(p0.cartesian_state)\n",
    "print(p0.keplerian_state)"
   ]
  },
  {
   "cell_type": "code",
   "execution_count": 8,
   "metadata": {},
   "outputs": [
    {
     "data": {
      "text/plain": [
       "Array([[-5.48984888e-07, -8.18277875e-07],\n",
       "       [-5.13875491e-07,  1.24301596e-06],\n",
       "       [ 6.48965954e-07,  7.21209875e-07],\n",
       "       [-1.35422083e-07, -5.83186863e-07],\n",
       "       [-9.23311518e-07,  7.77410054e-07],\n",
       "       [-7.94082187e-07,  1.82005583e-07],\n",
       "       [-8.97508853e-07, -6.82596246e-07],\n",
       "       [ 3.13827570e-07,  9.46950557e-07],\n",
       "       [-6.94264774e-07,  3.33480618e-07]], dtype=float64)"
      ]
     },
     "execution_count": 8,
     "metadata": {},
     "output_type": "execute_result"
    }
   ],
   "source": [
    "p0.residuals(p0.cartesian_state)"
   ]
  },
  {
   "cell_type": "code",
   "execution_count": 9,
   "metadata": {},
   "outputs": [
    {
     "data": {
      "text/plain": [
       "Array(-16.5408936, dtype=float64)"
      ]
     },
     "execution_count": 9,
     "metadata": {},
     "output_type": "execute_result"
    }
   ],
   "source": [
    "p0.loglike(p0.cartesian_state)"
   ]
  },
  {
   "cell_type": "code",
   "execution_count": 10,
   "metadata": {},
   "outputs": [
    {
     "data": {
      "text/plain": [
       "CartesianState(x=Array([[-0.17490244, -0.31958406, -0.21653323]], dtype=float64), v=Array([[-0.34285022, -0.64230222, -0.30679037]], dtype=float64), time=Array(-0.00342397, dtype=float64))"
      ]
     },
     "execution_count": 10,
     "metadata": {},
     "output_type": "execute_result"
    }
   ],
   "source": [
    "jax.grad(p0.loglike)(p0.cartesian_state)"
   ]
  },
  {
   "cell_type": "code",
   "execution_count": 11,
   "metadata": {},
   "outputs": [
    {
     "data": {
      "text/plain": [
       "Array(16.5408936, dtype=float64)"
      ]
     },
     "execution_count": 11,
     "metadata": {},
     "output_type": "execute_result"
    }
   ],
   "source": [
    "x = jnp.concatenate([p0.cartesian_state.x.flatten(), p0.cartesian_state.v.flatten()])\n",
    "p0.scipy_objective(x / p0.fit_scales)"
   ]
  },
  {
   "cell_type": "code",
   "execution_count": 12,
   "metadata": {},
   "outputs": [
    {
     "data": {
      "text/plain": [
       "Array([-0.3508416 ,  0.56848201,  0.11255093, -0.00226829, -0.00428758,\n",
       "       -0.00063009], dtype=float64)"
      ]
     },
     "execution_count": 12,
     "metadata": {},
     "output_type": "execute_result"
    }
   ],
   "source": [
    "x = jnp.concatenate([p0.cartesian_state.x.flatten(), p0.cartesian_state.v.flatten()])\n",
    "p0.scipy_objective_grad(x / p0.fit_scales)"
   ]
  },
  {
   "cell_type": "code",
   "execution_count": 13,
   "metadata": {},
   "outputs": [
    {
     "data": {
      "text/plain": [
       "Array([0.99989828, 0.99987798, 0.99991297, 1.00663733, 0.9930172 ,\n",
       "       0.99271124], dtype=float64)"
      ]
     },
     "execution_count": 13,
     "metadata": {},
     "output_type": "execute_result"
    }
   ],
   "source": [
    "x / p0.fit_scales"
   ]
  },
  {
   "cell_type": "code",
   "execution_count": null,
   "metadata": {},
   "outputs": [],
   "source": []
  }
 ],
 "metadata": {
  "kernelspec": {
   "display_name": "jorbit",
   "language": "python",
   "name": "jorbit"
  },
  "language_info": {
   "codemirror_mode": {
    "name": "ipython",
    "version": 3
   },
   "file_extension": ".py",
   "mimetype": "text/x-python",
   "name": "python",
   "nbconvert_exporter": "python",
   "pygments_lexer": "ipython3",
   "version": "3.13.0"
  }
 },
 "nbformat": 4,
 "nbformat_minor": 2
}
