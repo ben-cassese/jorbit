{
 "cells": [
  {
   "cell_type": "markdown",
   "metadata": {},
   "source": [
    "# scratch work"
   ]
  },
  {
   "cell_type": "code",
   "execution_count": 1,
   "metadata": {},
   "outputs": [],
   "source": [
    "import jax\n",
    "\n",
    "jax.config.update(\"jax_enable_x64\", True)\n",
    "import astropy.units as u\n",
    "import jax.numpy as jnp\n",
    "from astropy.time import Time\n",
    "from astropy.utils.data import download_file\n",
    "\n",
    "from jorbit import Particle\n",
    "from jorbit.data.constants import JORBIT_EPHEM_URL_BASE"
   ]
  },
  {
   "cell_type": "code",
   "execution_count": 47,
   "metadata": {},
   "outputs": [],
   "source": [
    "ind = 1000\n",
    "t0 = Time(\"2020-01-01\")\n",
    "reverse_times = t0 - jnp.arange(0, 20.001, 10 * u.hour.to(u.year)) * u.year\n",
    "names = jnp.load(download_file(JORBIT_EPHEM_URL_BASE + \"names.npy\"))\n",
    "x0 = jnp.load(download_file(JORBIT_EPHEM_URL_BASE + \"x0.npy\"))\n",
    "v0 = jnp.load(download_file(JORBIT_EPHEM_URL_BASE + \"v0.npy\"))\n",
    "pos = jnp.load(download_file(JORBIT_EPHEM_URL_BASE + \"reverse_pos.npy\"))"
   ]
  },
  {
   "cell_type": "code",
   "execution_count": 48,
   "metadata": {},
   "outputs": [],
   "source": [
    "particle = Particle(x=x0[ind], v=v0[ind], time=t0, gravity=\"newtonian solar system\")"
   ]
  },
  {
   "cell_type": "code",
   "execution_count": null,
   "metadata": {},
   "outputs": [],
   "source": []
  },
  {
   "cell_type": "code",
   "execution_count": null,
   "metadata": {},
   "outputs": [],
   "source": []
  },
  {
   "cell_type": "code",
   "execution_count": null,
   "metadata": {},
   "outputs": [],
   "source": []
  },
  {
   "cell_type": "code",
   "execution_count": 1,
   "metadata": {},
   "outputs": [
    {
     "name": "stderr",
     "output_type": "stream",
     "text": [
      "  0%|          | 0/3507 [00:00<?, ?it/s]\n"
     ]
    },
    {
     "data": {
      "text/plain": [
       "Array([[-0.1701589 ,  0.89598132,  0.38843568],\n",
       "       [-0.17734068,  0.89481653,  0.38793097],\n",
       "       [-0.18451282,  0.89360373,  0.38740542],\n",
       "       [-0.19167493,  0.892343  ,  0.38685907],\n",
       "       [-0.19882664,  0.89103442,  0.38629195]], dtype=float64)"
      ]
     },
     "execution_count": 1,
     "metadata": {},
     "output_type": "execute_result"
    }
   ],
   "source": [
    "import astropy.units as u\n",
    "import jax.numpy as jnp\n",
    "from astropy.time import Time\n",
    "from tqdm import tqdm\n",
    "\n",
    "from jorbit.utils.horizons import get_observer_positions\n",
    "\n",
    "##########\n",
    "# get the positions of the geocenter from 20 years ago to 20 years in the future\n",
    "##########\n",
    "\n",
    "t0 = Time(\"2020-01-01\")\n",
    "\n",
    "forward_times = t0 + jnp.arange(0, 20.001, 10 * u.hour.to(u.year)) * u.year\n",
    "reverse_times = t0 - jnp.arange(0, 20.001, 10 * u.hour.to(u.year)) * u.year\n",
    "\n",
    "chunk_size=5\n",
    "f_pos = []\n",
    "for i in tqdm(range(int(len(forward_times) / chunk_size) + 1)):\n",
    "    start = i * chunk_size\n",
    "    end = (i + 1) * chunk_size\n",
    "    if end > len(forward_times):\n",
    "        end = len(forward_times)\n",
    "    f_pos.append(get_observer_positions(forward_times[start:end], \"500@399\"))\n",
    "    break\n",
    "f_pos[0]\n",
    "\n",
    "\n"
   ]
  },
  {
   "cell_type": "code",
   "execution_count": 2,
   "metadata": {},
   "outputs": [
    {
     "name": "stderr",
     "output_type": "stream",
     "text": [
      "  0%|          | 0/3507 [00:00<?, ?it/s]\n"
     ]
    },
    {
     "data": {
      "text/plain": [
       "Array([[-0.1701589 ,  0.89598132,  0.38843568],\n",
       "       [-0.16296789,  0.89709801,  0.38891952],\n",
       "       [-0.15576803,  0.89816652,  0.38938244],\n",
       "       [-0.14855971,  0.89918678,  0.38982443],\n",
       "       [-0.14134335,  0.9001587 ,  0.39024544]], dtype=float64)"
      ]
     },
     "execution_count": 2,
     "metadata": {},
     "output_type": "execute_result"
    }
   ],
   "source": [
    "chunk_size=5\n",
    "reverse_pos = []\n",
    "for i in tqdm(range(int(len(reverse_times) / chunk_size) + 1)):\n",
    "    start = i * chunk_size\n",
    "    end = (i + 1) * chunk_size\n",
    "    if end > len(reverse_times):\n",
    "        end = len(reverse_times)\n",
    "    reverse_pos.append(get_observer_positions(reverse_times[start:end], \"500@399\"))\n",
    "    break\n",
    "reverse_pos[0]"
   ]
  },
  {
   "cell_type": "code",
   "execution_count": null,
   "metadata": {},
   "outputs": [],
   "source": [
    "times = reverse_times\n",
    "observatories = [\"0\"] * len(times)\n",
    "\n",
    "times = Time([t.utc.jd for t in times], format=\"jd\", scale=\"utc\")\n",
    "sort_indices = jnp.argsort(times)\n",
    "times = times[sort_indices]\n",
    "observatories = [observatories[i] for i in sort_indices]\n",
    "\n",
    "inverse_indices = jnp.argsort(sort_indices)\n",
    "restored_result = times[inverse_indices]"
   ]
  },
  {
   "cell_type": "code",
   "execution_count": 5,
   "metadata": {},
   "outputs": [
    {
     "data": {
      "text/plain": [
       "<TimeDelta object: scale='tai' format='jd' value=[ 0.00000000e+00 -1.55220503e-10  1.55220281e-10 ...  1.58605573e-10\n",
       "  2.76839662e-12 -1.51771096e-10]>"
      ]
     },
     "execution_count": 5,
     "metadata": {},
     "output_type": "execute_result"
    }
   ],
   "source": [
    "reverse_times - restored_result"
   ]
  }
 ],
 "metadata": {
  "kernelspec": {
   "display_name": "jorbit",
   "language": "python",
   "name": "python3"
  },
  "language_info": {
   "codemirror_mode": {
    "name": "ipython",
    "version": 3
   },
   "file_extension": ".py",
   "mimetype": "text/x-python",
   "name": "python",
   "nbconvert_exporter": "python",
   "pygments_lexer": "ipython3",
   "version": "3.13.0"
  }
 },
 "nbformat": 4,
 "nbformat_minor": 2
}
