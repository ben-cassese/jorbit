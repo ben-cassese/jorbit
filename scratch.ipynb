{
 "cells": [
  {
   "cell_type": "markdown",
   "metadata": {},
   "source": [
    "# scratch work"
   ]
  },
  {
   "cell_type": "code",
   "execution_count": 1,
   "metadata": {},
   "outputs": [],
   "source": [
    "import astropy.units as u\n",
    "from astropy.coordinates import SkyCoord\n",
    "from astropy.time import Time\n",
    "\n",
    "from jorbit.mpchecker import (\n",
    "    mpchecker,\n",
    ")"
   ]
  },
  {
   "cell_type": "code",
   "execution_count": 2,
   "metadata": {},
   "outputs": [],
   "source": [
    "t = mpchecker(\n",
    "    coordinate=SkyCoord(ra=0*u.deg, dec=0*u.deg),\n",
    "    time=Time(\"2025-02-01\"),\n",
    "    radius=5*u.arcmin,\n",
    ")"
   ]
  },
  {
   "cell_type": "code",
   "execution_count": 3,
   "metadata": {},
   "outputs": [
    {
     "data": {
      "text/html": [
       "<div><i>Table length=5</i>\n",
       "<table id=\"table5355542720\" class=\"table-striped table-bordered table-condensed\">\n",
       "<thead><tr><th>name</th><th>separation</th><th>ra</th><th>dec</th><th>Packed designation</th><th>H</th><th>G</th><th>Epoch</th><th>M</th><th>Peri</th><th>Node</th><th>Incl.</th><th>e</th><th>n</th><th>a</th><th>U</th><th>Reference</th><th>#Obs</th><th>#Opp</th><th>Arc</th><th>rms</th><th>Coarse Perts</th><th>Precise Perts</th><th>Computer</th><th>Flags</th><th>last obs</th></tr></thead>\n",
       "<thead><tr><th></th><th>arcsec</th><th>deg</th><th>deg</th><th></th><th></th><th></th><th></th><th></th><th></th><th></th><th></th><th></th><th></th><th></th><th></th><th></th><th></th><th></th><th></th><th></th><th></th><th></th><th></th><th></th><th></th></tr></thead>\n",
       "<thead><tr><th>object</th><th>float64</th><th>float64</th><th>float64</th><th>str5</th><th>str5</th><th>str4</th><th>str5</th><th>str9</th><th>str9</th><th>str9</th><th>str8</th><th>str9</th><th>str10</th><th>str9</th><th>str1</th><th>str9</th><th>str4</th><th>str2</th><th>str9</th><th>str4</th><th>str3</th><th>str3</th><th>str8</th><th>str4</th><th>str8</th></tr></thead>\n",
       "<tr><td>(270258) 2001 UZ101</td><td>104.1808207360553</td><td>359.97292932446953</td><td>-0.01022990808315794</td><td>R0258</td><td>17.34</td><td>0.15</td><td>K24AH</td><td>306.71693</td><td>211.04594</td><td>198.67529</td><td>2.59722</td><td>0.0873690</td><td>0.25337932</td><td>2.4733672</td><td>0</td><td>E2024-TH5</td><td>349</td><td>14</td><td>2001-2024</td><td>0.91</td><td>M-v</td><td>3Ek</td><td>MPCLINUX</td><td>0000</td><td>20241004</td></tr>\n",
       "<tr><td>(51910) 2001 QQ60</td><td>143.31642575663903</td><td>0.018295392777435124</td><td>-0.035357094930712325</td><td>51910</td><td>11.69</td><td>0.15</td><td>K24AH</td><td>43.27564</td><td>299.34556</td><td>8.63916</td><td>32.63802</td><td>0.0858942</td><td>0.08408215</td><td>5.1602035</td><td>0</td><td>E2025-AH1</td><td>1477</td><td>24</td><td>1984-2025</td><td>0.79</td><td>M-v</td><td>3Ek</td><td>MPCLINUX</td><td>0009</td><td>20250112</td></tr>\n",
       "<tr><td>(137143) 1999 CT115</td><td>246.1114123633815</td><td>359.93371498406174</td><td>-0.01673235585937548</td><td>D7143</td><td>15.79</td><td>0.15</td><td>K24AH</td><td>173.94253</td><td>347.36808</td><td>193.31605</td><td>7.81897</td><td>0.1500642</td><td>0.21301208</td><td>2.7767273</td><td>0</td><td>E2024-U19</td><td>603</td><td>17</td><td>1999-2024</td><td>0.83</td><td>M-v</td><td>3Ek</td><td>MPCLINUX</td><td>0000</td><td>20241018</td></tr>\n",
       "<tr><td>(254903) 2005 SU84</td><td>270.33085614398374</td><td>359.9886589111433</td><td>-0.07423054556318036</td><td>P4903</td><td>16.68</td><td>0.15</td><td>K24AH</td><td>173.43731</td><td>347.62998</td><td>191.99690</td><td>1.62961</td><td>0.0071136</td><td>0.20423014</td><td>2.8557674</td><td>0</td><td>E2024-UB5</td><td>402</td><td>16</td><td>2003-2024</td><td>0.90</td><td>M-v</td><td>3Ek</td><td>MPCLINUX</td><td>0000</td><td>20241025</td></tr>\n",
       "<tr><td>(739168) 2017 FL130</td><td>274.188362870427</td><td>359.96852902476695</td><td>-0.06935738533299034</td><td>~0V04</td><td>16.95</td><td>0.15</td><td>K24AH</td><td>39.39643</td><td>296.92345</td><td>14.60330</td><td>10.28224</td><td>0.0302477</td><td>0.18962013</td><td>3.0006344</td><td>0</td><td>E2024-UD6</td><td>119</td><td>9</td><td>2009-2024</td><td>1.06</td><td>M-v</td><td>3Ek</td><td>MPCLINUX</td><td>0000</td><td>20241025</td></tr>\n",
       "</table></div>"
      ],
      "text/plain": [
       "<Table length=5>\n",
       "        name            separation              ra          ... Flags last obs\n",
       "                          arcsec               deg          ...               \n",
       "       object            float64             float64        ...  str4   str8  \n",
       "------------------- ------------------ -------------------- ... ----- --------\n",
       "(270258) 2001 UZ101  104.1808207360553   359.97292932446953 ...  0000 20241004\n",
       "  (51910) 2001 QQ60 143.31642575663903 0.018295392777435124 ...  0009 20250112\n",
       "(137143) 1999 CT115  246.1114123633815   359.93371498406174 ...  0000 20241018\n",
       " (254903) 2005 SU84 270.33085614398374    359.9886589111433 ...  0000 20241025\n",
       "(739168) 2017 FL130   274.188362870427   359.96852902476695 ...  0000 20241025"
      ]
     },
     "execution_count": 3,
     "metadata": {},
     "output_type": "execute_result"
    }
   ],
   "source": [
    "t"
   ]
  },
  {
   "cell_type": "code",
   "execution_count": null,
   "metadata": {},
   "outputs": [],
   "source": []
  },
  {
   "cell_type": "code",
   "execution_count": null,
   "metadata": {},
   "outputs": [],
   "source": []
  },
  {
   "cell_type": "code",
   "execution_count": null,
   "metadata": {},
   "outputs": [],
   "source": []
  }
 ],
 "metadata": {
  "kernelspec": {
   "display_name": "jorbit",
   "language": "python",
   "name": "jorbit"
  },
  "language_info": {
   "codemirror_mode": {
    "name": "ipython",
    "version": 3
   },
   "file_extension": ".py",
   "mimetype": "text/x-python",
   "name": "python",
   "nbconvert_exporter": "python",
   "pygments_lexer": "ipython3",
   "version": "3.13.0"
  }
 },
 "nbformat": 4,
 "nbformat_minor": 2
}
