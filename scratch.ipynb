{
 "cells": [
  {
   "cell_type": "markdown",
   "metadata": {},
   "source": [
    "# scratch work"
   ]
  },
  {
   "cell_type": "code",
   "execution_count": 1,
   "metadata": {},
   "outputs": [],
   "source": [
    "import jax\n",
    "\n",
    "jax.config.update(\"jax_enable_x64\", True)\n",
    "import jax.numpy as jnp\n",
    "\n",
    "from astropy.time import Time\n",
    "import astropy.units as u\n",
    "from astropy.coordinates import SkyCoord\n",
    "from astroquery.jplhorizons import Horizons\n",
    "\n",
    "from jorbit.utils.horizons import (\n",
    "    horizons_bulk_vector_query,\n",
    "    horizons_bulk_astrometry_query,\n",
    ")\n",
    "\n",
    "from jorbit import Particle\n",
    "\n",
    "t0 = Time(\"2024-12-01 00:00\")\n",
    "t1 = Time(\"2025-12-01 00:00\")"
   ]
  },
  {
   "cell_type": "code",
   "execution_count": 2,
   "metadata": {},
   "outputs": [],
   "source": [
    "from jorbit.utils.horizons import get_observer_positions"
   ]
  },
  {
   "cell_type": "code",
   "execution_count": 1,
   "metadata": {},
   "outputs": [
    {
     "name": "stdout",
     "output_type": "stream",
     "text": [
      "[1, 3, 5, 7, 9, 11, 13, 15, 17, 19, 21, 23, 25, 27, 29, 31, 33, 35, 37, 39, 41, 43, 45, 47, 49, 51, 53, 55, 57, 59, 61, 63, 65, 67, 69, 71, 73, 75, 77, 79, 81, 83, 85, 87, 89, 91, 93, 95, 97, 99, 101, 103, 105, 107, 109, 111, 113, 115, 117, 119, 121, 123, 125, 127, 129, 131, 133, 135, 137, 139, 141, 143, 145, 147, 149, 151, 153, 155, 157, 159, 161, 163, 165, 167, 169, 171, 173, 175, 177, 179, 181, 183, 185, 187, 189, 191, 193, 195, 197, 199, 201, 203, 205, 207, 209, 211, 213, 215, 217, 219, 221, 223, 225, 227, 229, 231, 233, 235, 237, 239, 241, 243, 245, 247, 249, 251, 253, 255, 257, 259, 261, 263, 265, 267, 269, 271, 273, 275, 277, 279, 281, 283, 285, 287, 289, 291, 293, 295, 297, 299, 301, 303, 305, 307, 309, 311, 313, 315, 317, 319, 321, 323, 325, 327, 329, 331, 333, 335, 337, 339, 341, 343, 345, 347, 349, 351, 353, 355, 357, 359, 361, 363, 365]\n",
      "[0, 2, 4, 6, 8, 10, 12, 14, 16, 18, 20, 22, 24, 26, 28, 30, 32, 34, 36, 38, 40, 42, 44, 46, 48, 50, 52, 54, 56, 58, 60, 62, 64, 66, 68, 70, 72, 74, 76, 78, 80, 82, 84, 86, 88, 90, 92, 94, 96, 98, 100, 102, 104, 106, 108, 110, 112, 114, 116, 118, 120, 122, 124, 126, 128, 130, 132, 134, 136, 138, 140, 142, 144, 146, 148, 150, 152, 154, 156, 158, 160, 162, 164, 166, 168, 170, 172, 174, 176, 178, 180, 182, 184, 186, 188, 190, 192, 194, 196, 198, 200, 202, 204, 206, 208, 210, 212, 214, 216, 218, 220, 222, 224, 226, 228, 230, 232, 234, 236, 238, 240, 242, 244, 246, 248, 250, 252, 254, 256, 258, 260, 262, 264, 266, 268, 270, 272, 274, 276, 278, 280, 282, 284, 286, 288, 290, 292, 294, 296, 298, 300, 302, 304, 306, 308, 310, 312, 314, 316, 318, 320, 322, 324, 326, 328, 330, 332, 334, 336, 338, 340, 342, 344, 346, 348, 350, 352, 354, 356, 358, 360, 362, 364]\n"
     ]
    },
    {
     "data": {
      "text/plain": [
       "array([1.76283805e-06, 1.23766711e-06, 2.74384288e-06, 2.35761421e-06,\n",
       "       2.20126922e-06])"
      ]
     },
     "execution_count": 1,
     "metadata": {},
     "output_type": "execute_result"
    }
   ],
   "source": [
    "import jax\n",
    "\n",
    "jax.config.update(\"jax_enable_x64\", True)\n",
    "import jax.numpy as jnp\n",
    "\n",
    "from astropy.time import Time\n",
    "import astropy.units as u\n",
    "from astropy.coordinates import SkyCoord\n",
    "from astroquery.jplhorizons import Horizons\n",
    "import numpy as np\n",
    "\n",
    "from jorbit.utils.horizons import get_observer_positions\n",
    "from jorbit.astrometry.sky_projection import sky_sep, on_sky\n",
    "from jorbit.utils.states import SystemState\n",
    "from jorbit.accelerations import create_newtonian_ephemeris_acceleration_func\n",
    "from jorbit.ephemeris import Ephemeris\n",
    "\n",
    "\n",
    "# gather positions and observed coordinates for Kitt Peak\n",
    "\n",
    "t0_kp = Time(\"2024-12-01 00:00\")\n",
    "t1_kp = Time(\"2025-12-01 00:00\")\n",
    "\n",
    "obj = Horizons(\n",
    "    id=\"274301\",\n",
    "    location=\"500@0\",\n",
    "    epochs={\"start\": t0_kp.tdb.iso, \"stop\": t1_kp.tdb.iso, \"step\": \"2d\"},\n",
    ")\n",
    "vecs_kp = obj.vectors(refplane=\"earth\")\n",
    "xs_kp = jnp.array([vecs_kp[\"x\"], vecs_kp[\"y\"], vecs_kp[\"z\"]]).T\n",
    "vs_kp = jnp.array([vecs_kp[\"vx\"], vecs_kp[\"vy\"], vecs_kp[\"vz\"]]).T\n",
    "times_kp = jnp.array(vecs_kp[\"datetime_jd\"])\n",
    "\n",
    "obj = Horizons(\n",
    "    id=\"274301\",\n",
    "    location=\"695@399\",\n",
    "    epochs={\"start\": t0_kp.utc.iso, \"stop\": t1_kp.utc.iso, \"step\": \"2d\"},\n",
    ")\n",
    "coords_kp = obj.ephemerides(extra_precision=True, quantities=\"1\")\n",
    "ra_kp = jnp.array(coords_kp[\"RA\"])\n",
    "dec_kp = jnp.array(coords_kp[\"DEC\"])\n",
    "\n",
    "\n",
    "# gather positions and observed coordinates for Palomar\n",
    "\n",
    "t0_pal = Time(\"2024-12-02 00:00\")\n",
    "t1_pal = Time(\"2025-12-02 00:00\")\n",
    "\n",
    "obj = Horizons(\n",
    "    id=\"274301\",\n",
    "    location=\"500@0\",\n",
    "    epochs={\"start\": t0_pal.tdb.iso, \"stop\": t1_pal.tdb.iso, \"step\": \"2d\"},\n",
    ")\n",
    "vecs_pal = obj.vectors(refplane=\"earth\")\n",
    "xs_pal = jnp.array([vecs_pal[\"x\"], vecs_pal[\"y\"], vecs_pal[\"z\"]]).T\n",
    "vs_pal = jnp.array([vecs_pal[\"vx\"], vecs_pal[\"vy\"], vecs_pal[\"vz\"]]).T\n",
    "times_pal = jnp.array(vecs_pal[\"datetime_jd\"])\n",
    "\n",
    "obj = Horizons(\n",
    "    id=\"274301\",\n",
    "    location=\"675@399\",\n",
    "    epochs={\"start\": t0_pal.utc.iso, \"stop\": t1_pal.utc.iso, \"step\": \"2d\"},\n",
    ")\n",
    "coords_pal = obj.ephemerides(extra_precision=True, quantities=\"1\")\n",
    "ra_pal = jnp.array(coords_pal[\"RA\"])\n",
    "dec_pal = jnp.array(coords_pal[\"DEC\"])\n",
    "\n",
    "# combine everything\n",
    "xs = jnp.concatenate([xs_kp, xs_pal])\n",
    "vs = jnp.concatenate([vs_kp, vs_pal])\n",
    "times = jnp.concatenate([times_kp, times_pal])\n",
    "ra = jnp.concatenate([ra_kp, ra_pal])\n",
    "dec = jnp.concatenate([dec_kp, dec_pal])\n",
    "observatories = [\"kitt peak\"] * len(xs_kp) + [\"palomar\"] * len(xs_pal)\n",
    "\n",
    "order = jnp.argsort(times)\n",
    "xs = xs[order]\n",
    "vs = vs[order]\n",
    "times = Time(times[order], format=\"jd\", scale=\"tdb\")\n",
    "ra = ra[order]\n",
    "dec = dec[order]\n",
    "observatories = np.array(observatories)[order]\n",
    "\n",
    "\n",
    "# get the observer positions\n",
    "obs_pos = get_observer_positions(times, observatories)\n",
    "\n",
    "eph = Ephemeris(\"default planets\")\n",
    "acc_func = create_newtonian_ephemeris_acceleration_func(eph.processor)\n",
    "\n",
    "calc_ras, calc_decs = jax.vmap(on_sky, in_axes=(0, 0, 0, 0, None))(\n",
    "    xs, vs, times.tdb.jd, obs_pos, acc_func\n",
    ")\n",
    "\n",
    "calc_skycoords = SkyCoord(ra=calc_ras, dec=calc_decs, unit=(u.rad, u.rad))\n",
    "true_skycoords = SkyCoord(ra=ra * u.deg, dec=dec * u.deg)\n",
    "\n",
    "\n",
    "calc_skycoords.separation(true_skycoords).to(u.arcsec)"
   ]
  },
  {
   "cell_type": "code",
   "execution_count": null,
   "metadata": {},
   "outputs": [],
   "source": []
  },
  {
   "cell_type": "code",
   "execution_count": null,
   "metadata": {},
   "outputs": [],
   "source": []
  },
  {
   "cell_type": "code",
   "execution_count": null,
   "metadata": {},
   "outputs": [],
   "source": []
  },
  {
   "cell_type": "code",
   "execution_count": 15,
   "metadata": {},
   "outputs": [
    {
     "name": "stdout",
     "output_type": "stream",
     "text": [
      "[0, 1, 2, 3, 4, 5, 6, 7, 8, 9, 10, 11, 12, 13, 14, 15, 16, 17, 18, 19, 20, 21, 22, 23, 24, 25, 26, 27, 28, 29, 30, 31, 32, 33, 34, 35, 36, 37, 38, 39, 40, 41, 42, 43, 44, 45, 46, 47, 48, 49, 50, 51, 52, 53, 54, 55, 56, 57, 58, 59, 60, 61, 62, 63, 64, 65, 66, 67, 68, 69, 70, 71, 72, 73, 74, 75, 76, 77, 78, 79, 80, 81, 82, 83, 84, 85, 86, 87, 88, 89, 90, 91, 92, 93, 94, 95, 96, 97, 98, 99, 100, 101, 102, 103, 104, 105, 106, 107, 108, 109, 110, 111, 112, 113, 114, 115, 116, 117, 118, 119, 120, 121, 122, 123, 124, 125, 126, 127, 128, 129, 130, 131, 132, 133, 134, 135, 136, 137, 138, 139, 140, 141, 142, 143, 144, 145, 146, 147, 148, 149, 150, 151, 152, 153, 154, 155, 156, 157, 158, 159, 160, 161, 162, 163, 164, 165, 166, 167, 168, 169, 170, 171, 172, 173, 174, 175, 176, 177, 178, 179, 180, 181, 182]\n"
     ]
    },
    {
     "data": {
      "text/plain": [
       "array([437.53047119, 447.89668909, 458.37816681, 468.96825916,\n",
       "       479.65949916])"
      ]
     },
     "execution_count": 15,
     "metadata": {},
     "output_type": "execute_result"
    }
   ],
   "source": [
    "pal_pos = get_observer_positions(Time(times_pal, format=\"jd\", scale=\"tdb\"), [\"palomar\"]*len(times_pal))\n",
    "ra_p, dec_p = jax.vmap(on_sky, in_axes=(0, 0, 0, 0, None))(xs_pal, vs_pal, times_pal, pal_pos, acc_func)\n",
    "s_pal = SkyCoord(ra=ra_p, dec=dec_p, unit=(u.rad, u.rad))\n",
    "c_pal = SkyCoord(ra=ra_pal, dec=dec_pal, unit=(u.deg, u.deg))\n",
    "\n",
    "s_pal.separation(c_pal).to(u.arcsec).value[:5]"
   ]
  },
  {
   "cell_type": "code",
   "execution_count": 18,
   "metadata": {},
   "outputs": [
    {
     "data": {
      "text/plain": [
       "'2024-12-02 00:01:09.183'"
      ]
     },
     "execution_count": 18,
     "metadata": {},
     "output_type": "execute_result"
    }
   ],
   "source": [
    "Time(times_pal[0], format=\"jd\", scale=\"tdb\").iso"
   ]
  },
  {
   "cell_type": "code",
   "execution_count": 16,
   "metadata": {},
   "outputs": [
    {
     "data": {
      "text/plain": [
       "(Array(152.14794954, dtype=float64), Array(152.01007338, dtype=float64))"
      ]
     },
     "execution_count": 16,
     "metadata": {},
     "output_type": "execute_result"
    }
   ],
   "source": [
    "ra_pal[0], ra_kp[0]"
   ]
  },
  {
   "cell_type": "code",
   "execution_count": 12,
   "metadata": {},
   "outputs": [
    {
     "data": {
      "text/plain": [
       "Array([[0.33206907, 0.8453052 , 0.36666236]], dtype=float64)"
      ]
     },
     "execution_count": 12,
     "metadata": {},
     "output_type": "execute_result"
    }
   ],
   "source": [
    "get_observer_positions(times[1], observatories[1])"
   ]
  },
  {
   "cell_type": "code",
   "execution_count": 13,
   "metadata": {},
   "outputs": [
    {
     "data": {
      "text/plain": [
       "Array([0.33206907, 0.8453052 , 0.36666236], dtype=float64)"
      ]
     },
     "execution_count": 13,
     "metadata": {},
     "output_type": "execute_result"
    }
   ],
   "source": [
    "obs_pos[1]"
   ]
  },
  {
   "cell_type": "code",
   "execution_count": null,
   "metadata": {},
   "outputs": [],
   "source": [
    "get_observer_positions(times[0], observatories[0])"
   ]
  },
  {
   "cell_type": "code",
   "execution_count": 1,
   "metadata": {},
   "outputs": [
    {
     "ename": "NameError",
     "evalue": "name 'vecs_kp' is not defined",
     "output_type": "error",
     "traceback": [
      "\u001b[0;31m---------------------------------------------------------------------------\u001b[0m",
      "\u001b[0;31mNameError\u001b[0m                                 Traceback (most recent call last)",
      "Cell \u001b[0;32mIn[1], line 29\u001b[0m\n\u001b[1;32m     23\u001b[0m obj \u001b[38;5;241m=\u001b[39m Horizons(\n\u001b[1;32m     24\u001b[0m     \u001b[38;5;28mid\u001b[39m\u001b[38;5;241m=\u001b[39m\u001b[38;5;124m\"\u001b[39m\u001b[38;5;124m274301\u001b[39m\u001b[38;5;124m\"\u001b[39m,\n\u001b[1;32m     25\u001b[0m     location\u001b[38;5;241m=\u001b[39m\u001b[38;5;124m\"\u001b[39m\u001b[38;5;124m500@0\u001b[39m\u001b[38;5;124m\"\u001b[39m,\n\u001b[1;32m     26\u001b[0m     epochs\u001b[38;5;241m=\u001b[39m{\u001b[38;5;124m\"\u001b[39m\u001b[38;5;124mstart\u001b[39m\u001b[38;5;124m\"\u001b[39m: t0_pal\u001b[38;5;241m.\u001b[39mtdb\u001b[38;5;241m.\u001b[39miso, \u001b[38;5;124m\"\u001b[39m\u001b[38;5;124mstop\u001b[39m\u001b[38;5;124m\"\u001b[39m: t1_pal\u001b[38;5;241m.\u001b[39mtdb\u001b[38;5;241m.\u001b[39miso, \u001b[38;5;124m\"\u001b[39m\u001b[38;5;124mstep\u001b[39m\u001b[38;5;124m\"\u001b[39m: \u001b[38;5;124m\"\u001b[39m\u001b[38;5;124m2d\u001b[39m\u001b[38;5;124m\"\u001b[39m},\n\u001b[1;32m     27\u001b[0m )\n\u001b[1;32m     28\u001b[0m vecs_pal \u001b[38;5;241m=\u001b[39m obj\u001b[38;5;241m.\u001b[39mvectors(refplane\u001b[38;5;241m=\u001b[39m\u001b[38;5;124m\"\u001b[39m\u001b[38;5;124mearth\u001b[39m\u001b[38;5;124m\"\u001b[39m)\n\u001b[0;32m---> 29\u001b[0m xs_pal \u001b[38;5;241m=\u001b[39m jnp\u001b[38;5;241m.\u001b[39marray([vecs_pal[\u001b[38;5;124m\"\u001b[39m\u001b[38;5;124mx\u001b[39m\u001b[38;5;124m\"\u001b[39m], \u001b[43mvecs_kp\u001b[49m[\u001b[38;5;124m\"\u001b[39m\u001b[38;5;124my\u001b[39m\u001b[38;5;124m\"\u001b[39m], vecs_pal[\u001b[38;5;124m\"\u001b[39m\u001b[38;5;124mz\u001b[39m\u001b[38;5;124m\"\u001b[39m]])\u001b[38;5;241m.\u001b[39mT\n\u001b[1;32m     30\u001b[0m vs_pal \u001b[38;5;241m=\u001b[39m jnp\u001b[38;5;241m.\u001b[39marray([vecs_pal[\u001b[38;5;124m\"\u001b[39m\u001b[38;5;124mvx\u001b[39m\u001b[38;5;124m\"\u001b[39m], vecs_pal[\u001b[38;5;124m\"\u001b[39m\u001b[38;5;124mvy\u001b[39m\u001b[38;5;124m\"\u001b[39m], vecs_pal[\u001b[38;5;124m\"\u001b[39m\u001b[38;5;124mvz\u001b[39m\u001b[38;5;124m\"\u001b[39m]])\u001b[38;5;241m.\u001b[39mT\n\u001b[1;32m     31\u001b[0m times_pal \u001b[38;5;241m=\u001b[39m jnp\u001b[38;5;241m.\u001b[39marray(vecs_pal[\u001b[38;5;124m\"\u001b[39m\u001b[38;5;124mdatetime_jd\u001b[39m\u001b[38;5;124m\"\u001b[39m])\n",
      "\u001b[0;31mNameError\u001b[0m: name 'vecs_kp' is not defined"
     ]
    }
   ],
   "source": [
    "import jax\n",
    "\n",
    "jax.config.update(\"jax_enable_x64\", True)\n",
    "import jax.numpy as jnp\n",
    "\n",
    "from astropy.time import Time\n",
    "import astropy.units as u\n",
    "from astropy.coordinates import SkyCoord\n",
    "from astroquery.jplhorizons import Horizons\n",
    "\n",
    "from jorbit.utils.horizons import (\n",
    "    horizons_bulk_vector_query,\n",
    "    horizons_bulk_astrometry_query,\n",
    ")\n",
    "\n",
    "from jorbit import Particle\n",
    "\n",
    "\n",
    "\n",
    "t0_pal = Time(\"2024-12-02 00:00\")\n",
    "t1_pal = Time(\"2025-12-02 00:00\")\n",
    "\n",
    "obj = Horizons(\n",
    "    id=\"274301\",\n",
    "    location=\"500@0\",\n",
    "    epochs={\"start\": t0_pal.tdb.iso, \"stop\": t1_pal.tdb.iso, \"step\": \"2d\"},\n",
    ")\n",
    "vecs_pal = obj.vectors(refplane=\"earth\")\n",
    "xs_pal = jnp.array([vecs_pal[\"x\"], vecs_kp[\"y\"], vecs_pal[\"z\"]]).T\n",
    "vs_pal = jnp.array([vecs_pal[\"vx\"], vecs_pal[\"vy\"], vecs_pal[\"vz\"]]).T\n",
    "times_pal = jnp.array(vecs_pal[\"datetime_jd\"])\n",
    "\n",
    "obj = Horizons(\n",
    "    id=\"274301\",\n",
    "    location=\"675@399\",\n",
    "    epochs={\"start\": t0_pal.utc.iso, \"stop\": t1_pal.utc.iso, \"step\": \"2d\"},\n",
    ")\n",
    "coords_pal = obj.ephemerides(extra_precision=True, quantities=\"1\")\n",
    "ra_pal = jnp.array(coords_pal[\"RA\"])\n",
    "dec_pal = jnp.array(coords_pal[\"DEC\"])\n",
    "\n",
    "pal_pos = get_observer_positions(Time(times_pal, format=\"jd\", scale=\"tdb\"), [\"palomar\"]*len(times_pal))\n",
    "ra_p, dec_p = jax.vmap(on_sky, in_axes=(0, 0, 0, 0, None))(xs_pal, vs_pal, times_pal, pal_pos, acc_func)\n",
    "s_pal = SkyCoord(ra=ra_p, dec=dec_p, unit=(u.rad, u.rad))\n",
    "c_pal = SkyCoord(ra=ra_pal, dec=dec_pal, unit=(u.deg, u.deg))\n",
    "\n",
    "s_pal.separation(c_pal).to(u.arcsec).value[:5]\n"
   ]
  },
  {
   "cell_type": "code",
   "execution_count": 2,
   "metadata": {},
   "outputs": [],
   "source": [
    "import jax\n",
    "\n",
    "jax.config.update(\"jax_enable_x64\", True)\n",
    "import jax.numpy as jnp\n",
    "\n",
    "from astropy.time import Time\n",
    "import astropy.units as u\n",
    "from astropy.coordinates import SkyCoord\n",
    "from astroquery.jplhorizons import Horizons\n",
    "import numpy as np\n",
    "\n",
    "from jorbit.utils.horizons import get_observer_positions\n",
    "from jorbit.astrometry.sky_projection import sky_sep, on_sky\n",
    "from jorbit.utils.states import SystemState\n",
    "from jorbit.accelerations import create_newtonian_ephemeris_acceleration_func\n",
    "from jorbit.ephemeris import Ephemeris\n",
    "\n",
    "\n",
    "def test_sky_projection():\n",
    "    # gather positions and observed coordinates for Kitt Peak\n",
    "\n",
    "    t0_kp = Time(\"2024-12-01 00:00\")\n",
    "    t1_kp = Time(\"2025-12-01 00:00\")\n",
    "\n",
    "    obj = Horizons(\n",
    "        id=\"274301\",\n",
    "        location=\"500@0\",\n",
    "        epochs={\"start\": t0_kp.tdb.iso, \"stop\": t1_kp.tdb.iso, \"step\": \"2d\"},\n",
    "    )\n",
    "    vecs_kp = obj.vectors(refplane=\"earth\")\n",
    "    xs_kp = jnp.array([vecs_kp[\"x\"], vecs_kp[\"y\"], vecs_kp[\"z\"]]).T\n",
    "    vs_kp = jnp.array([vecs_kp[\"vx\"], vecs_kp[\"vy\"], vecs_kp[\"vz\"]]).T\n",
    "    times_kp = jnp.array(vecs_kp[\"datetime_jd\"])\n",
    "\n",
    "    obj = Horizons(\n",
    "        id=\"274301\",\n",
    "        location=\"695@399\",\n",
    "        epochs={\"start\": t0_kp.utc.iso, \"stop\": t1_kp.utc.iso, \"step\": \"2d\"},\n",
    "    )\n",
    "    coords_kp = obj.ephemerides(extra_precision=True, quantities=\"1\")\n",
    "    ra_kp = jnp.array(coords_kp[\"RA\"])\n",
    "    dec_kp = jnp.array(coords_kp[\"DEC\"])\n",
    "\n",
    "    # gather positions and observed coordinates for Palomar\n",
    "\n",
    "    t0_pal = Time(\"2024-12-02 00:00\")\n",
    "    t1_pal = Time(\"2025-12-02 00:00\")\n",
    "\n",
    "    obj = Horizons(\n",
    "        id=\"274301\",\n",
    "        location=\"500@0\",\n",
    "        epochs={\"start\": t0_pal.tdb.iso, \"stop\": t1_pal.tdb.iso, \"step\": \"2d\"},\n",
    "    )\n",
    "    vecs_pal = obj.vectors(refplane=\"earth\")\n",
    "    xs_pal = jnp.array([vecs_pal[\"x\"], vecs_pal[\"y\"], vecs_pal[\"z\"]]).T\n",
    "    vs_pal = jnp.array([vecs_pal[\"vx\"], vecs_pal[\"vy\"], vecs_pal[\"vz\"]]).T\n",
    "    times_pal = jnp.array(vecs_pal[\"datetime_jd\"])\n",
    "\n",
    "    obj = Horizons(\n",
    "        id=\"274301\",\n",
    "        location=\"675@399\",\n",
    "        epochs={\"start\": t0_pal.utc.iso, \"stop\": t1_pal.utc.iso, \"step\": \"2d\"},\n",
    "    )\n",
    "    coords_pal = obj.ephemerides(extra_precision=True, quantities=\"1\")\n",
    "    ra_pal = jnp.array(coords_pal[\"RA\"])\n",
    "    dec_pal = jnp.array(coords_pal[\"DEC\"])\n",
    "\n",
    "    # combine everything\n",
    "    xs = jnp.concatenate([xs_kp, xs_pal])\n",
    "    vs = jnp.concatenate([vs_kp, vs_pal])\n",
    "    times = jnp.concatenate([times_kp, times_pal])\n",
    "    ra = jnp.concatenate([ra_kp, ra_pal])\n",
    "    dec = jnp.concatenate([dec_kp, dec_pal])\n",
    "    observatories = [\"kitt peak\"] * len(xs_kp) + [\"palomar\"] * len(xs_pal)\n",
    "\n",
    "    order = jnp.argsort(times)\n",
    "    xs = xs[order]\n",
    "    vs = vs[order]\n",
    "    times = Time(times[order], format=\"jd\", scale=\"tdb\")\n",
    "    ra = ra[order]\n",
    "    dec = dec[order]\n",
    "    observatories = np.array(observatories)[order]\n",
    "\n",
    "    # get the observer positions\n",
    "    obs_pos = get_observer_positions(times, observatories)\n",
    "\n",
    "    eph = Ephemeris(\"default planets\")\n",
    "    acc_func = create_newtonian_ephemeris_acceleration_func(eph.processor)\n",
    "\n",
    "    calc_ras, calc_decs = jax.vmap(on_sky, in_axes=(0, 0, 0, 0, None))(\n",
    "        xs, vs, times.tdb.jd, obs_pos, acc_func\n",
    "    )\n",
    "\n",
    "    calc_skycoords = SkyCoord(ra=calc_ras, dec=calc_decs, unit=(u.rad, u.rad))\n",
    "    true_skycoords = SkyCoord(ra=ra * u.deg, dec=dec * u.deg)\n",
    "\n",
    "    seps_astropy = calc_skycoords.separation(true_skycoords).to(u.arcsec)\n",
    "    seps_jorbit = jax.vmap(sky_sep, in_axes=(0, 0, 0, 0))(\n",
    "        calc_ras, calc_decs, ra * u.deg.to(u.rad), dec * u.deg.to(u.rad)\n",
    "    )\n",
    "\n",
    "    # test that sky_sep is doing its job\n",
    "    # np.testing.assert_allclose(seps_astropy, seps_jorbit, rtol=1e-6)\n",
    "    return seps_astropy, seps_jorbit\n",
    "\n",
    "a, j = test_sky_projection()"
   ]
  },
  {
   "cell_type": "code",
   "execution_count": 4,
   "metadata": {},
   "outputs": [
    {
     "data": {
      "text/plain": [
       "(array([1.76283805e-06, 1.23766711e-06, 2.74384288e-06, 2.35761421e-06,\n",
       "        2.20126922e-06]),\n",
       " Array([1.76281602e-06, 1.23763684e-06, 2.74383635e-06, 2.35763650e-06,\n",
       "        2.20127100e-06], dtype=float64))"
      ]
     },
     "execution_count": 4,
     "metadata": {},
     "output_type": "execute_result"
    }
   ],
   "source": [
    "a[:5].value, j[:5]"
   ]
  },
  {
   "cell_type": "code",
   "execution_count": 7,
   "metadata": {},
   "outputs": [],
   "source": [
    "np.testing.assert_allclose(a.value, j, atol=1e-6)"
   ]
  },
  {
   "cell_type": "code",
   "execution_count": 9,
   "metadata": {},
   "outputs": [],
   "source": [
    "np.testing.assert_allclose(a.value, 0.0, atol=1e-4)"
   ]
  },
  {
   "cell_type": "code",
   "execution_count": 10,
   "metadata": {},
   "outputs": [
    {
     "data": {
      "text/plain": [
       "np.float64(2.6125593940408135e-05)"
      ]
     },
     "execution_count": 10,
     "metadata": {},
     "output_type": "execute_result"
    }
   ],
   "source": [
    "np.max(np.abs(a.value))"
   ]
  },
  {
   "cell_type": "code",
   "execution_count": null,
   "metadata": {},
   "outputs": [],
   "source": []
  }
 ],
 "metadata": {
  "kernelspec": {
   "display_name": ".venv",
   "language": "python",
   "name": "python3"
  },
  "language_info": {
   "codemirror_mode": {
    "name": "ipython",
    "version": 3
   },
   "file_extension": ".py",
   "mimetype": "text/x-python",
   "name": "python",
   "nbconvert_exporter": "python",
   "pygments_lexer": "ipython3",
   "version": "3.13.0"
  }
 },
 "nbformat": 4,
 "nbformat_minor": 2
}
