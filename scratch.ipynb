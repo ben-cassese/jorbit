{
 "cells": [
  {
   "cell_type": "markdown",
   "metadata": {},
   "source": [
    "# scratch work"
   ]
  },
  {
   "cell_type": "code",
   "execution_count": 1,
   "metadata": {},
   "outputs": [],
   "source": [
    "import jax\n",
    "\n",
    "jax.config.update(\"jax_enable_x64\", True)\n",
    "import jax.numpy as jnp\n",
    "\n",
    "from astropy.time import Time\n",
    "import astropy.units as u\n",
    "from astropy.coordinates import SkyCoord\n",
    "from astroquery.jplhorizons import Horizons\n",
    "\n",
    "from jorbit import Particle"
   ]
  },
  {
   "cell_type": "code",
   "execution_count": 2,
   "metadata": {},
   "outputs": [],
   "source": [
    "t0 = Time(\"2024-12-01 00:00\")\n",
    "t1 = Time(\"2025-12-01 00:00\")\n",
    "\n",
    "obj = Horizons(id=\"274301\", location=\"@0\", epochs=[t0.tdb.jd, t1.tdb.jd])\n",
    "vecs = obj.vectors(refplane=\"earth\")\n",
    "\n",
    "x0 = jnp.array([vecs[\"x\"][0], vecs[\"y\"][0], vecs[\"z\"][0]])\n",
    "v0 = jnp.array([vecs[\"vx\"][0], vecs[\"vy\"][0], vecs[\"vz\"][0]])"
   ]
  },
  {
   "cell_type": "code",
   "execution_count": 3,
   "metadata": {},
   "outputs": [
    {
     "name": "stdout",
     "output_type": "stream",
     "text": [
      "yay\n",
      "<class 'jax.tree_util.Partial'>\n",
      "<class 'jax.tree_util.Partial'>\n"
     ]
    },
    {
     "data": {
      "text/plain": [
       "Particle: unnamed"
      ]
     },
     "execution_count": 3,
     "metadata": {},
     "output_type": "execute_result"
    }
   ],
   "source": [
    "p = Particle(x=x0, v=v0, log_gm=-jnp.inf, time=t1)\n",
    "p"
   ]
  },
  {
   "cell_type": "code",
   "execution_count": 4,
   "metadata": {},
   "outputs": [
    {
     "ename": "AttributeError",
     "evalue": "'float' object has no attribute 'time'",
     "output_type": "error",
     "traceback": [
      "\u001b[0;31m---------------------------------------------------------------------------\u001b[0m",
      "\u001b[0;31mAttributeError\u001b[0m                            Traceback (most recent call last)",
      "Cell \u001b[0;32mIn[4], line 1\u001b[0m\n\u001b[0;32m----> 1\u001b[0m \u001b[43mp\u001b[49m\u001b[38;5;241;43m.\u001b[39;49m\u001b[43mgravity\u001b[49m\u001b[43m(\u001b[49m\u001b[38;5;241;43m1.0\u001b[39;49m\u001b[43m)\u001b[49m\n",
      "File \u001b[0;32m~/Documents/jorbit_dev/jorbit/src/jorbit/accelerations/__init__.py:14\u001b[0m, in \u001b[0;36mcreate_newtonian_ephemeris_acceleration_func.<locals>.func\u001b[0;34m(inputs)\u001b[0m\n\u001b[1;32m     13\u001b[0m \u001b[38;5;28;01mdef\u001b[39;00m \u001b[38;5;21mfunc\u001b[39m(inputs: SystemState) \u001b[38;5;241m-\u001b[39m\u001b[38;5;241m>\u001b[39m jnp\u001b[38;5;241m.\u001b[39mndarray:\n\u001b[0;32m---> 14\u001b[0m     perturber_xs, _, _ \u001b[38;5;241m=\u001b[39m ephem_processor\u001b[38;5;241m.\u001b[39mstate(\u001b[43minputs\u001b[49m\u001b[38;5;241;43m.\u001b[39;49m\u001b[43mtime\u001b[49m)\n\u001b[1;32m     15\u001b[0m     perturber_log_gms \u001b[38;5;241m=\u001b[39m ephem_processor\u001b[38;5;241m.\u001b[39mlog_gms\n\u001b[1;32m     17\u001b[0m     new_state \u001b[38;5;241m=\u001b[39m SystemState(\n\u001b[1;32m     18\u001b[0m         massive_positions\u001b[38;5;241m=\u001b[39mjnp\u001b[38;5;241m.\u001b[39mconcatenate([perturber_xs, inputs\u001b[38;5;241m.\u001b[39mmassive_positions]),\n\u001b[1;32m     19\u001b[0m         massive_velocities\u001b[38;5;241m=\u001b[39mjnp\u001b[38;5;241m.\u001b[39mconcatenate([jnp\u001b[38;5;241m.\u001b[39mzeros_like(perturber_xs), inputs\u001b[38;5;241m.\u001b[39mvelocities]),\n\u001b[0;32m   (...)\u001b[0m\n\u001b[1;32m     24\u001b[0m         acceleration_func_kwargs\u001b[38;5;241m=\u001b[39minputs\u001b[38;5;241m.\u001b[39macceleration_func_kwargs,\n\u001b[1;32m     25\u001b[0m     )\n",
      "\u001b[0;31mAttributeError\u001b[0m: 'float' object has no attribute 'time'"
     ]
    }
   ],
   "source": [
    "p.gravity(1.0)"
   ]
  },
  {
   "cell_type": "code",
   "execution_count": null,
   "metadata": {},
   "outputs": [],
   "source": []
  }
 ],
 "metadata": {
  "kernelspec": {
   "display_name": ".venv",
   "language": "python",
   "name": "python3"
  },
  "language_info": {
   "codemirror_mode": {
    "name": "ipython",
    "version": 3
   },
   "file_extension": ".py",
   "mimetype": "text/x-python",
   "name": "python",
   "nbconvert_exporter": "python",
   "pygments_lexer": "ipython3",
   "version": "3.13.0"
  }
 },
 "nbformat": 4,
 "nbformat_minor": 2
}
