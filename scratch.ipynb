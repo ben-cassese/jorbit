{
 "cells": [
  {
   "cell_type": "markdown",
   "metadata": {},
   "source": [
    "# scratch work"
   ]
  },
  {
   "cell_type": "code",
   "execution_count": 1,
   "metadata": {},
   "outputs": [],
   "source": [
    "import jax\n",
    "\n",
    "jax.config.update(\"jax_enable_x64\", True)\n",
    "import jax.numpy as jnp\n",
    "\n",
    "from astropy.time import Time\n",
    "import astropy.units as u\n",
    "from astropy.coordinates import SkyCoord\n",
    "from astroquery.jplhorizons import Horizons\n",
    "\n",
    "from jorbit.utils.states import SystemState\n",
    "from jorbit.data.constants import INV_SPEED_OF_LIGHT\n",
    "from jorbit.integrators import ias15_evolve, initialize_ias15_integrator_state\n",
    "\n",
    "t = Time(\"2024-12-01 00:00\")"
   ]
  },
  {
   "cell_type": "code",
   "execution_count": 2,
   "metadata": {},
   "outputs": [
    {
     "name": "stdout",
     "output_type": "stream",
     "text": [
      "[[ 2.61030935e-05 -2.90119924e-05 -8.52860259e-06]]\n"
     ]
    },
    {
     "data": {
      "text/plain": [
       "*************\n",
       "jorbit System\n",
       " time: 2460645.50080073\n",
       " particles: [Particle: wiki]\n",
       "*************"
      ]
     },
     "execution_count": 2,
     "metadata": {},
     "output_type": "execute_result"
    }
   ],
   "source": [
    "from jorbit.particle import Particle\n",
    "from jorbit.system import System\n",
    "\n",
    "obj = Horizons(id=\"274301\", location=\"@0\", epochs=t.tdb.jd)\n",
    "vecs = obj.vectors(refplane=\"earth\")\n",
    "\n",
    "x = jnp.array([vecs[\"x\"][0], vecs[\"y\"][0], vecs[\"z\"][0]])\n",
    "v = jnp.array([vecs[\"vx\"][0], vecs[\"vy\"][0], vecs[\"vz\"][0]])\n",
    "\n",
    "p = Particle(x=x, v=v, time=t, name=\"wiki\")\n",
    "system = System(particles=[p], acceleration_func=\"newtonian planets\")\n",
    "\n",
    "print(system.acceleration_func(system.state))\n",
    "\n",
    "system"
   ]
  },
  {
   "cell_type": "code",
   "execution_count": 3,
   "metadata": {},
   "outputs": [
    {
     "name": "stdout",
     "output_type": "stream",
     "text": [
      "<SkyCoord (ICRS): (ra, dec) in deg\n",
      "    (152.01007338, 5.09857717)>\n",
      "Downloading observer positions from Horizons...\n"
     ]
    },
    {
     "data": {
      "text/plain": [
       "Observations with 1 set(s) of observations"
      ]
     },
     "execution_count": 3,
     "metadata": {},
     "output_type": "execute_result"
    }
   ],
   "source": [
    "from jorbit.observation import Observations\n",
    "\n",
    "obj = Horizons(id=\"274301\", location=\"695\", epochs=t.jd)\n",
    "eph = obj.ephemerides(extra_precision=True, quantities=\"1\")\n",
    "coord = SkyCoord(eph[\"RA\"][0], eph[\"DEC\"][0], unit=(u.deg, u.deg), frame=\"icrs\")\n",
    "print(coord)\n",
    "\n",
    "obs = Observations(\n",
    "    observed_coordinates=coord,\n",
    "    times=t,\n",
    "    observatories=\"695@399\",\n",
    "    astrometric_uncertainties=1 * u.arcsec,\n",
    "    verbose=True,\n",
    ")\n",
    "obs"
   ]
  },
  {
   "cell_type": "code",
   "execution_count": 4,
   "metadata": {},
   "outputs": [
    {
     "data": {
      "text/latex": [
       "[$1.15071\\;\\mathrm{\\mu arcsec}$]"
      ],
      "text/plain": [
       "<Angle [1.1507072] uarcsec>"
      ]
     },
     "execution_count": 4,
     "metadata": {},
     "output_type": "execute_result"
    }
   ],
   "source": [
    "@jax.jit\n",
    "def on_sky(\n",
    "    state: SystemState,\n",
    "    acc_func,\n",
    "    observer_position,\n",
    "):\n",
    "    a0 = acc_func(state)\n",
    "    initial_integrator_state = initialize_ias15_integrator_state(a0)\n",
    "\n",
    "    def scan_func(carry, scan_over):\n",
    "        xz = carry\n",
    "        earth_distance = jnp.linalg.norm(xz - observer_position)\n",
    "        light_travel_time = earth_distance * INV_SPEED_OF_LIGHT\n",
    "\n",
    "        positions, final_system_state, final_integrator_state = ias15_evolve(\n",
    "            state,\n",
    "            acc_func,\n",
    "            jnp.array([state.time - light_travel_time]),\n",
    "            initial_integrator_state,\n",
    "            n_steps=5,\n",
    "        )\n",
    "\n",
    "        return final_system_state.positions, None\n",
    "\n",
    "    xz = jax.lax.scan(scan_func, state.positions, None, length=2)[0]\n",
    "\n",
    "    X = xz - observer_position\n",
    "    calc_ra = jnp.mod(jnp.arctan2(X[:, 1], X[:, 0]) + 2 * jnp.pi, 2 * jnp.pi)\n",
    "    calc_dec = jnp.pi / 2 - jnp.arccos(X[:, -1] / jnp.linalg.norm(X, axis=1))\n",
    "    return calc_ra, calc_dec\n",
    "\n",
    "\n",
    "a, b = on_sky(system.state, system.acceleration_func, obs.observer_positions[0])\n",
    "c = SkyCoord(a, b, unit=(u.rad, u.rad))\n",
    "\n",
    "c.separation(coord).to(u.microarcsecond)"
   ]
  },
  {
   "cell_type": "code",
   "execution_count": 5,
   "metadata": {},
   "outputs": [
    {
     "name": "stdout",
     "output_type": "stream",
     "text": [
      "541 μs ± 2.56 μs per loop (mean ± std. dev. of 7 runs, 1,000 loops each)\n"
     ]
    }
   ],
   "source": [
    "%%timeit\n",
    "\n",
    "on_sky(system.state, system.acceleration_func, obs.observer_positions[0])[\n",
    "    0\n",
    "].block_until_ready()"
   ]
  },
  {
   "cell_type": "code",
   "execution_count": 6,
   "metadata": {},
   "outputs": [
    {
     "name": "stdout",
     "output_type": "stream",
     "text": [
      "213 μs ± 85.8 μs per loop (mean ± std. dev. of 7 runs, 1 loop each)\n"
     ]
    }
   ],
   "source": [
    "@jax.jit\n",
    "def tmp(state):\n",
    "    a0 = system.acceleration_func(state)\n",
    "    initial_integrator_state = initialize_ias15_integrator_state(a0)\n",
    "    return initial_integrator_state\n",
    "\n",
    "\n",
    "%timeit tmp(system.state).g.p0.block_until_ready()"
   ]
  },
  {
   "cell_type": "code",
   "execution_count": null,
   "metadata": {},
   "outputs": [],
   "source": []
  },
  {
   "cell_type": "code",
   "execution_count": null,
   "metadata": {},
   "outputs": [],
   "source": []
  },
  {
   "cell_type": "code",
   "execution_count": 7,
   "metadata": {},
   "outputs": [],
   "source": [
    "import jax\n",
    "\n",
    "jax.config.update(\"jax_enable_x64\", True)\n",
    "import jax.numpy as jnp\n",
    "\n",
    "from astropy.time import Time\n",
    "import astropy.units as u\n",
    "from astropy.coordinates import SkyCoord\n",
    "from astroquery.jplhorizons import Horizons\n",
    "\n",
    "from jorbit.utils.states import SystemState\n",
    "from jorbit.data.constants import INV_SPEED_OF_LIGHT\n",
    "from jorbit.integrators import ias15_evolve, initialize_ias15_integrator_state\n",
    "\n",
    "t = Time(\"2024-12-01 00:00\")"
   ]
  },
  {
   "cell_type": "code",
   "execution_count": 8,
   "metadata": {},
   "outputs": [],
   "source": [
    "obj = Horizons(id=\"274301\", location=\"@0\", epochs=t.jd)\n",
    "\n",
    "vec_earth = obj.vectors(refplane=\"earth\")\n",
    "vec_ecliptic = obj.vectors(refplane=\"ecliptic\")\n",
    "\n",
    "elements_earth = obj.elements(refplane=\"earth\")\n",
    "elements_ecliptic = obj.elements(refplane=\"ecliptic\")"
   ]
  },
  {
   "cell_type": "code",
   "execution_count": 9,
   "metadata": {},
   "outputs": [
    {
     "data": {
      "text/html": [
       "<div><i>Table masked=True length=1</i>\n",
       "<table id=\"table4905519184\" class=\"table-striped table-bordered table-condensed\">\n",
       "<thead><tr><th>targetname</th><th>datetime_jd</th><th>datetime_str</th><th>H</th><th>G</th><th>x</th><th>y</th><th>z</th><th>vx</th><th>vy</th><th>vz</th><th>lighttime</th><th>range</th><th>range_rate</th></tr></thead>\n",
       "<thead><tr><th>---</th><th>d</th><th>---</th><th>mag</th><th>---</th><th>AU</th><th>AU</th><th>AU</th><th>AU / d</th><th>AU / d</th><th>AU / d</th><th>d</th><th>AU</th><th>AU / d</th></tr></thead>\n",
       "<thead><tr><th>str28</th><th>float64</th><th>str30</th><th>float64</th><th>float64</th><th>float64</th><th>float64</th><th>float64</th><th>float64</th><th>float64</th><th>float64</th><th>float64</th><th>float64</th><th>float64</th></tr></thead>\n",
       "<tr><td>274301 Wikipedia (2008 QH24)</td><td>2460645.5</td><td>A.D. 2024-Dec-01 00:00:00.0000</td><td>16.98</td><td>0.15</td><td>-1.783546864189309</td><td>1.972824404244611</td><td>0.5796727162144323</td><td>-0.007524434581651495</td><td>-0.005768622712272137</td><td>-0.00178665436068034</td><td>0.01572076145339102</td><td>2.721965467206746</td><td>0.0003688611274302079</td></tr>\n",
       "</table></div>"
      ],
      "text/plain": [
       "<Table masked=True length=1>\n",
       "         targetname          datetime_jd ...       range_rate     \n",
       "            ---                   d      ...         AU / d       \n",
       "           str28               float64   ...        float64       \n",
       "---------------------------- ----------- ... ---------------------\n",
       "274301 Wikipedia (2008 QH24)   2460645.5 ... 0.0003688611274302079"
      ]
     },
     "execution_count": 9,
     "metadata": {},
     "output_type": "execute_result"
    }
   ],
   "source": [
    "vec_earth"
   ]
  },
  {
   "cell_type": "code",
   "execution_count": 10,
   "metadata": {},
   "outputs": [
    {
     "data": {
      "text/html": [
       "<div><i>Table masked=True length=1</i>\n",
       "<table id=\"table4912049488\" class=\"table-striped table-bordered table-condensed\">\n",
       "<thead><tr><th>targetname</th><th>datetime_jd</th><th>datetime_str</th><th>H</th><th>G</th><th>x</th><th>y</th><th>z</th><th>vx</th><th>vy</th><th>vz</th><th>lighttime</th><th>range</th><th>range_rate</th></tr></thead>\n",
       "<thead><tr><th>---</th><th>d</th><th>---</th><th>mag</th><th>---</th><th>AU</th><th>AU</th><th>AU</th><th>AU / d</th><th>AU / d</th><th>AU / d</th><th>d</th><th>AU</th><th>AU / d</th></tr></thead>\n",
       "<thead><tr><th>str28</th><th>float64</th><th>str30</th><th>float64</th><th>float64</th><th>float64</th><th>float64</th><th>float64</th><th>float64</th><th>float64</th><th>float64</th><th>float64</th><th>float64</th><th>float64</th></tr></thead>\n",
       "<tr><td>274301 Wikipedia (2008 QH24)</td><td>2460645.5</td><td>A.D. 2024-Dec-01 00:00:00.0000</td><td>16.98</td><td>0.15</td><td>-1.783546864189309</td><td>2.040611566933855</td><td>-0.2529051616758324</td><td>-0.007524434581651495</td><td>-0.006003298151579335</td><td>0.0006554030090899591</td><td>0.01572076145339102</td><td>2.721965467206745</td><td>0.0003688611274302083</td></tr>\n",
       "</table></div>"
      ],
      "text/plain": [
       "<Table masked=True length=1>\n",
       "         targetname          datetime_jd ...       range_rate     \n",
       "            ---                   d      ...         AU / d       \n",
       "           str28               float64   ...        float64       \n",
       "---------------------------- ----------- ... ---------------------\n",
       "274301 Wikipedia (2008 QH24)   2460645.5 ... 0.0003688611274302083"
      ]
     },
     "execution_count": 10,
     "metadata": {},
     "output_type": "execute_result"
    }
   ],
   "source": [
    "vec_ecliptic"
   ]
  },
  {
   "cell_type": "code",
   "execution_count": 11,
   "metadata": {},
   "outputs": [
    {
     "data": {
      "text/plain": [
       "(Array([ 0.00000000e+00,  0.00000000e+00, -5.55111512e-17], dtype=float64),\n",
       " Array([0., 0., 0.], dtype=float64))"
      ]
     },
     "execution_count": 11,
     "metadata": {},
     "output_type": "execute_result"
    }
   ],
   "source": [
    "from jorbit.astrometry.transformations import (\n",
    "    icrs_to_horizons_ecliptic,\n",
    "    horizons_ecliptic_to_icrs,\n",
    ")\n",
    "\n",
    "v1 = jnp.array([vec_earth[\"x\"][0], vec_earth[\"y\"][0], vec_earth[\"z\"][0]])\n",
    "v2 = jnp.array([vec_ecliptic[\"x\"][0], vec_ecliptic[\"y\"][0], vec_ecliptic[\"z\"][0]])\n",
    "\n",
    "icrs_to_horizons_ecliptic(v1) - v2, horizons_ecliptic_to_icrs(v2) - v1"
   ]
  },
  {
   "cell_type": "code",
   "execution_count": null,
   "metadata": {},
   "outputs": [],
   "source": []
  },
  {
   "cell_type": "code",
   "execution_count": null,
   "metadata": {},
   "outputs": [],
   "source": []
  },
  {
   "cell_type": "code",
   "execution_count": 1,
   "metadata": {},
   "outputs": [],
   "source": [
    "import jax\n",
    "\n",
    "jax.config.update(\"jax_enable_x64\", True)\n",
    "import jax.numpy as jnp\n",
    "\n",
    "from astropy.time import Time\n",
    "import astropy.units as u\n",
    "from astropy.coordinates import SkyCoord\n",
    "from astroquery.jplhorizons import Horizons\n",
    "\n",
    "from jorbit.utils.states import SystemState\n",
    "from jorbit.data.constants import INV_SPEED_OF_LIGHT\n",
    "from jorbit.integrators import ias15_evolve, initialize_ias15_integrator_state\n",
    "\n",
    "t = Time(\"2024-12-01 00:00\")"
   ]
  },
  {
   "cell_type": "code",
   "execution_count": 2,
   "metadata": {},
   "outputs": [],
   "source": [
    "obj = Horizons(id=\"274301\", location=\"500@10\", epochs=t.jd)\n",
    "elements_earth_helio = obj.elements(refplane=\"earth\")\n",
    "elements_ecliptic_helio = obj.elements(refplane=\"ecliptic\")\n",
    "\n",
    "obj = Horizons(id=\"274301\", location=\"@0\", epochs=t.jd)\n",
    "elements_earth_bary = obj.elements(refplane=\"earth\")\n",
    "elements_ecliptic_bary = obj.elements(refplane=\"ecliptic\")\n",
    "\n",
    "\n",
    "obj = Horizons(id=\"274301\", location=\"@0\", epochs=t.jd)\n",
    "vec_earth = obj.vectors(refplane=\"earth\")\n",
    "vec_ecliptic = obj.vectors(refplane=\"ecliptic\")\n",
    "v1 = jnp.array([vec_earth[\"x\"][0], vec_earth[\"y\"][0], vec_earth[\"z\"][0]])\n",
    "v2 = jnp.array([vec_ecliptic[\"x\"][0], vec_ecliptic[\"y\"][0], vec_ecliptic[\"z\"][0]])"
   ]
  },
  {
   "cell_type": "code",
   "execution_count": 3,
   "metadata": {},
   "outputs": [
    {
     "data": {
      "text/html": [
       "<div><i>Table masked=True length=1</i>\n",
       "<table id=\"table4982027104\" class=\"table-striped table-bordered table-condensed\">\n",
       "<thead><tr><th>targetname</th><th>datetime_jd</th><th>datetime_str</th><th>H</th><th>G</th><th>e</th><th>q</th><th>incl</th><th>Omega</th><th>w</th><th>Tp_jd</th><th>n</th><th>M</th><th>nu</th><th>a</th><th>Q</th><th>P</th></tr></thead>\n",
       "<thead><tr><th>---</th><th>d</th><th>---</th><th>mag</th><th>---</th><th>---</th><th>AU</th><th>deg</th><th>deg</th><th>deg</th><th>d</th><th>deg / d</th><th>deg</th><th>deg</th><th>AU</th><th>AU</th><th>d</th></tr></thead>\n",
       "<thead><tr><th>str28</th><th>float64</th><th>str30</th><th>float64</th><th>float64</th><th>float64</th><th>float64</th><th>float64</th><th>float64</th><th>float64</th><th>float64</th><th>float64</th><th>float64</th><th>float64</th><th>float64</th><th>float64</th><th>float64</th></tr></thead>\n",
       "<tr><td>274301 Wikipedia (2008 QH24)</td><td>2460645.5</td><td>A.D. 2024-Dec-01 00:00:00.0000</td><td>16.98</td><td>0.15</td><td>0.1477148140497017</td><td>2.028905789332561</td><td>16.72425227045122</td><td>358.653194209116</td><td>324.1826533027365</td><td>2460034.68598474</td><td>0.2683420056828497</td><td>163.9070579541506</td><td>167.885831600086</td><td>2.380547993533797</td><td>2.732190197735032</td><td>1341.571548158881</td></tr>\n",
       "</table></div>"
      ],
      "text/plain": [
       "<Table masked=True length=1>\n",
       "         targetname          datetime_jd ...         Q                 P        \n",
       "            ---                   d      ...         AU                d        \n",
       "           str28               float64   ...      float64           float64     \n",
       "---------------------------- ----------- ... ----------------- -----------------\n",
       "274301 Wikipedia (2008 QH24)   2460645.5 ... 2.732190197735032 1341.571548158881"
      ]
     },
     "execution_count": 3,
     "metadata": {},
     "output_type": "execute_result"
    }
   ],
   "source": [
    "elements_earth_helio"
   ]
  },
  {
   "cell_type": "code",
   "execution_count": 4,
   "metadata": {},
   "outputs": [
    {
     "data": {
      "text/html": [
       "<div><i>Table masked=True length=1</i>\n",
       "<table id=\"table4983223664\" class=\"table-striped table-bordered table-condensed\">\n",
       "<thead><tr><th>targetname</th><th>datetime_jd</th><th>datetime_str</th><th>H</th><th>G</th><th>e</th><th>q</th><th>incl</th><th>Omega</th><th>w</th><th>Tp_jd</th><th>n</th><th>M</th><th>nu</th><th>a</th><th>Q</th><th>P</th></tr></thead>\n",
       "<thead><tr><th>---</th><th>d</th><th>---</th><th>mag</th><th>---</th><th>---</th><th>AU</th><th>deg</th><th>deg</th><th>deg</th><th>d</th><th>deg / d</th><th>deg</th><th>deg</th><th>AU</th><th>AU</th><th>d</th></tr></thead>\n",
       "<thead><tr><th>str28</th><th>float64</th><th>str30</th><th>float64</th><th>float64</th><th>float64</th><th>float64</th><th>float64</th><th>float64</th><th>float64</th><th>float64</th><th>float64</th><th>float64</th><th>float64</th><th>float64</th><th>float64</th><th>float64</th></tr></thead>\n",
       "<tr><td>274301 Wikipedia (2008 QH24)</td><td>2460645.5</td><td>A.D. 2024-Dec-01 00:00:00.0000</td><td>16.98</td><td>0.15</td><td>0.1497448681928601</td><td>2.021477076373556</td><td>16.72132359306627</td><td>358.6275689897468</td><td>324.8545579746402</td><td>2460038.896554522</td><td>0.2690394192855276</td><td>163.200238708019</td><td>167.3990649463254</td><td>2.377494708061438</td><td>2.733512339749321</td><td>1338.093878421352</td></tr>\n",
       "</table></div>"
      ],
      "text/plain": [
       "<Table masked=True length=1>\n",
       "         targetname          datetime_jd ...         Q                 P        \n",
       "            ---                   d      ...         AU                d        \n",
       "           str28               float64   ...      float64           float64     \n",
       "---------------------------- ----------- ... ----------------- -----------------\n",
       "274301 Wikipedia (2008 QH24)   2460645.5 ... 2.733512339749321 1338.093878421352"
      ]
     },
     "execution_count": 4,
     "metadata": {},
     "output_type": "execute_result"
    }
   ],
   "source": [
    "elements_earth_bary"
   ]
  },
  {
   "cell_type": "code",
   "execution_count": 5,
   "metadata": {},
   "outputs": [
    {
     "data": {
      "text/plain": [
       "(Array([[-1.78354686,  1.9728244 ,  0.57967272]], dtype=float64),\n",
       " Array([[-0.00752443, -0.00576862, -0.00178665]], dtype=float64))"
      ]
     },
     "execution_count": 5,
     "metadata": {},
     "output_type": "execute_result"
    }
   ],
   "source": [
    "elements = {\n",
    "    \"a\": jnp.array([elements_earth_bary[\"a\"][0]]),\n",
    "    \"ecc\": jnp.array([elements_earth_bary[\"e\"][0]]),\n",
    "    \"inc\": jnp.array([elements_earth_bary[\"incl\"][0]]),\n",
    "    \"Omega\": jnp.array([elements_earth_bary[\"Omega\"][0]]),\n",
    "    \"omega\": jnp.array([elements_earth_bary[\"w\"][0]]),\n",
    "    \"nu\": jnp.array([elements_earth_bary[\"nu\"][0]]),\n",
    "}\n",
    "elements\n",
    "\n",
    "from jorbit.astrometry.transformations import elements_to_cartesian\n",
    "\n",
    "c = elements_to_cartesian(**elements)\n",
    "c"
   ]
  },
  {
   "cell_type": "code",
   "execution_count": 6,
   "metadata": {},
   "outputs": [
    {
     "data": {
      "text/plain": [
       "Array([[-8.88178420e-16, -1.99840144e-15, -5.55111512e-16]], dtype=float64)"
      ]
     },
     "execution_count": 6,
     "metadata": {},
     "output_type": "execute_result"
    }
   ],
   "source": [
    "c[0] - v1"
   ]
  },
  {
   "cell_type": "code",
   "execution_count": null,
   "metadata": {},
   "outputs": [],
   "source": []
  }
 ],
 "metadata": {
  "kernelspec": {
   "display_name": ".venv",
   "language": "python",
   "name": "python3"
  },
  "language_info": {
   "codemirror_mode": {
    "name": "ipython",
    "version": 3
   },
   "file_extension": ".py",
   "mimetype": "text/x-python",
   "name": "python",
   "nbconvert_exporter": "python",
   "pygments_lexer": "ipython3",
   "version": "3.13.0"
  }
 },
 "nbformat": 4,
 "nbformat_minor": 2
}
