{
 "cells": [
  {
   "cell_type": "markdown",
   "metadata": {},
   "source": [
    "# scratch work"
   ]
  },
  {
   "cell_type": "code",
   "execution_count": 1,
   "metadata": {},
   "outputs": [],
   "source": [
    "import jax\n",
    "\n",
    "jax.config.update(\"jax_enable_x64\", True)\n",
    "import jax.numpy as jnp\n",
    "from astropy.time import Time\n",
    "\n",
    "from jorbit import Particle\n",
    "from jorbit.utils.horizons import horizons_bulk_vector_query"
   ]
  },
  {
   "cell_type": "code",
   "execution_count": 2,
   "metadata": {},
   "outputs": [
    {
     "data": {
      "text/plain": [
       "Array([17.83697886, 29.58398941,  7.42370478], dtype=float64)"
      ]
     },
     "execution_count": 2,
     "metadata": {},
     "output_type": "execute_result"
    }
   ],
   "source": [
    "p = Particle.from_horizons(name=\"534314\", time=Time(\"2021-11-06\"))\n",
    "p._x"
   ]
  },
  {
   "cell_type": "code",
   "execution_count": 3,
   "metadata": {},
   "outputs": [
    {
     "data": {
      "text/plain": [
       "Array([[0.709972  , 0.62942724, 0.27335336]], dtype=float64)"
      ]
     },
     "execution_count": 3,
     "metadata": {},
     "output_type": "execute_result"
    }
   ],
   "source": [
    "from jorbit.utils.horizons import get_observer_positions\n",
    "\n",
    "tess = get_observer_positions(Time(\"2021-11-06\"), \"TESS\")\n",
    "tess"
   ]
  },
  {
   "cell_type": "code",
   "execution_count": 4,
   "metadata": {},
   "outputs": [
    {
     "data": {
      "text/plain": [
       "Array(22.71158862, dtype=float64)"
      ]
     },
     "execution_count": 4,
     "metadata": {},
     "output_type": "execute_result"
    }
   ],
   "source": [
    "from jorbit.mpchecker.parse_jorbit_ephem import apparent_mag\n",
    "\n",
    "apparent_mag(\n",
    "    h=7.19,\n",
    "    g=0.15,\n",
    "    target_position=p._x,\n",
    "    observer_position=tess[0]\n",
    ")"
   ]
  },
  {
   "cell_type": "code",
   "execution_count": 5,
   "metadata": {},
   "outputs": [],
   "source": [
    "data = horizons_bulk_vector_query(target=\"274301\", center=\"500@0\", times=Time(\"2025-01-01\"))\n",
    "x0 = jnp.array([data[\"x\"][0], data[\"y\"][0], data[\"z\"][0]])\n",
    "v0 = jnp.array([data[\"vx\"][0], data[\"vy\"][0], data[\"vz\"][0]])\n",
    "\n"
   ]
  },
  {
   "cell_type": "code",
   "execution_count": 6,
   "metadata": {},
   "outputs": [],
   "source": [
    "import astropy.units as u\n",
    "import numpy as np\n",
    "from astropy.coordinates import SkyCoord\n",
    "\n",
    "from jorbit.mpchecker import nearest_asteroid\n",
    "\n",
    "start_time = Time(\"2021-10-12\") - 4*u.hour\n",
    "end_time = Time(\"2021-11-06\") + 28*u.hour\n",
    "\n",
    "times1 = Time(np.arange(start_time.jd, end_time.jd, 1*u.min.to(u.day)), format='jd')[::2000]\n",
    "\n",
    "separations1, asteroids1, coord_table1, mag_table1, total_mags1 = nearest_asteroid(\n",
    "    coordinate=SkyCoord(59.8202*u.deg, 12.1121*u.deg),\n",
    "    times=times1,\n",
    "    precomputed=None,\n",
    "    radius=3*u.arcmin,\n",
    "    compute_contamination=True,\n",
    "    observer=\"TESS\"\n",
    ")\n"
   ]
  },
  {
   "cell_type": "code",
   "execution_count": 7,
   "metadata": {},
   "outputs": [],
   "source": [
    "import astropy.units as u\n",
    "import numpy as np\n",
    "from astropy.coordinates import SkyCoord\n",
    "\n",
    "from jorbit.mpchecker import nearest_asteroid\n",
    "\n",
    "start_time = Time(\"2021-10-12\") - 4*u.hour\n",
    "end_time = Time(\"2021-11-06\") + 28*u.hour\n",
    "\n",
    "times2 = Time(np.arange(start_time.jd, end_time.jd, 1*u.min.to(u.day)), format='jd')[::1000]\n",
    "\n",
    "separations2, asteroids2, coord_table2, mag_table2, total_mags2 = nearest_asteroid(\n",
    "    coordinate=SkyCoord(59.8202*u.deg, 12.1121*u.deg),\n",
    "    times=times2,\n",
    "    precomputed=None,\n",
    "    radius=3*u.arcmin,\n",
    "    compute_contamination=True,\n",
    "    observer=\"TESS\"\n",
    ")\n"
   ]
  },
  {
   "cell_type": "code",
   "execution_count": 8,
   "metadata": {},
   "outputs": [],
   "source": [
    "c1 = coord_table1[coord_table1[\"name\"] == \"(534314) 2014 SJ349\"][\"coord\"][0]\n",
    "c2 = coord_table2[coord_table2[\"name\"] == \"(534314) 2014 SJ349\"][\"coord\"][0]\n"
   ]
  },
  {
   "cell_type": "code",
   "execution_count": 9,
   "metadata": {},
   "outputs": [
    {
     "data": {
      "text/plain": [
       "[<matplotlib.lines.Line2D at 0x3bffc4b90>]"
      ]
     },
     "execution_count": 9,
     "metadata": {},
     "output_type": "execute_result"
    },
    {
     "data": {
      "image/png": "[encoded data removed]",
      "text/plain": [
       "<Figure size 711.1x400 with 1 Axes>"
      ]
     },
     "metadata": {},
     "output_type": "display_data"
    }
   ],
   "source": [
    "import matplotlib.pyplot as plt\n",
    "\n",
    "plt.plot(times1.jd, c1.ra.deg)\n",
    "plt.plot(times2.jd, c2.ra.deg)"
   ]
  },
  {
   "cell_type": "code",
   "execution_count": 10,
   "metadata": {},
   "outputs": [
    {
     "data": {
      "text/plain": [
       "(10, 24)"
      ]
     },
     "execution_count": 10,
     "metadata": {},
     "output_type": "execute_result"
    }
   ],
   "source": [
    "len(asteroids1), len(asteroids2)"
   ]
  },
  {
   "cell_type": "code",
   "execution_count": 14,
   "metadata": {},
   "outputs": [
    {
     "data": {
      "text/plain": [
       "(np.float64(21.139187824133135), np.float64(17.99160152062773))"
      ]
     },
     "execution_count": 14,
     "metadata": {},
     "output_type": "execute_result"
    }
   ],
   "source": [
    "mag_table1[\"mag\"].min(), mag_table2[\"mag\"].min()"
   ]
  },
  {
   "cell_type": "code",
   "execution_count": 16,
   "metadata": {},
   "outputs": [
    {
     "data": {
      "text/latex": [
       "[$0^\\circ00{}^\\prime00{}^{\\prime\\prime}$\n",
       " $0^\\circ00{}^\\prime00{}^{\\prime\\prime}$\n",
       " $0^\\circ00{}^\\prime00{}^{\\prime\\prime}$\n",
       " $0^\\circ00{}^\\prime00{}^{\\prime\\prime}$\n",
       " $0^\\circ00{}^\\prime00{}^{\\prime\\prime}$\n",
       " $0^\\circ00{}^\\prime00{}^{\\prime\\prime}$\n",
       " $0^\\circ00{}^\\prime00{}^{\\prime\\prime}$\n",
       " $0^\\circ00{}^\\prime00{}^{\\prime\\prime}$\n",
       " $0^\\circ00{}^\\prime00{}^{\\prime\\prime}$\n",
       " $0^\\circ00{}^\\prime00{}^{\\prime\\prime}$\n",
       " $0^\\circ00{}^\\prime00{}^{\\prime\\prime}$\n",
       " $0^\\circ00{}^\\prime00{}^{\\prime\\prime}$\n",
       " $0^\\circ00{}^\\prime00{}^{\\prime\\prime}$\n",
       " $0^\\circ00{}^\\prime00{}^{\\prime\\prime}$\n",
       " $0^\\circ00{}^\\prime00{}^{\\prime\\prime}$\n",
       " $0^\\circ00{}^\\prime00{}^{\\prime\\prime}$\n",
       " $0^\\circ00{}^\\prime00{}^{\\prime\\prime}$\n",
       " $0^\\circ00{}^\\prime00{}^{\\prime\\prime}$\n",
       " $0^\\circ00{}^\\prime00.00000004{}^{\\prime\\prime}$]"
      ],
      "text/plain": [
       "<Angle [9.89518050e-13, 1.03717158e-12, 1.03368093e-12, 9.85454508e-13,\n",
       "        9.85932137e-13, 9.86412543e-13, 1.03776336e-12, 1.03382669e-12,\n",
       "        1.03737273e-12, 1.03345509e-12, 1.03433984e-12, 1.04157763e-12,\n",
       "        1.03747778e-12, 1.03705859e-12, 1.03401857e-12, 1.03361804e-12,\n",
       "        1.08207595e-12, 1.04127945e-12, 1.11776853e-11] deg>"
      ]
     },
     "execution_count": 16,
     "metadata": {},
     "output_type": "execute_result"
    }
   ],
   "source": [
    "c1.separation(c2[::2])"
   ]
  },
  {
   "cell_type": "code",
   "execution_count": 18,
   "metadata": {},
   "outputs": [
    {
     "data": {
      "text/plain": [
       "[<matplotlib.lines.Line2D at 0x3c1a7ac10>]"
      ]
     },
     "execution_count": 18,
     "metadata": {},
     "output_type": "execute_result"
    },
    {
     "data": {
      "image/png": "[encoded data removed]",
      "text/plain": [
       "<Figure size 711.1x400 with 1 Axes>"
      ]
     },
     "metadata": {},
     "output_type": "display_data"
    }
   ],
   "source": [
    "plt.plot(times2.jd, total_mags2)\n",
    "plt.plot(times1.jd, total_mags1)\n"
   ]
  },
  {
   "cell_type": "code",
   "execution_count": 22,
   "metadata": {},
   "outputs": [
    {
     "data": {
      "text/plain": [
       "(Array([        inf,         inf, 22.78000246, 22.77606012, 22.77208622,\n",
       "                inf,         inf,         inf,         inf,         inf,\n",
       "        21.63590385,         inf, 21.80369284,         inf, 21.49498684,\n",
       "                inf, 20.58210757,         inf,         inf], dtype=float64),\n",
       " Array([        inf,         inf, 22.78000246, 22.77606012, 22.77208622,\n",
       "                inf,         inf, 22.54423637,         inf,         inf,\n",
       "        21.63590385,         inf, 21.80369284,         inf, 21.49498684,\n",
       "                inf, 20.58210757,         inf,         inf], dtype=float64))"
      ]
     },
     "execution_count": 22,
     "metadata": {},
     "output_type": "execute_result"
    }
   ],
   "source": [
    "total_mags1, total_mags2[::2]"
   ]
  },
  {
   "cell_type": "code",
   "execution_count": null,
   "metadata": {},
   "outputs": [],
   "source": []
  },
  {
   "cell_type": "code",
   "execution_count": 5,
   "metadata": {},
   "outputs": [],
   "source": [
    "import astropy.units as u\n",
    "import numpy as np\n",
    "from astropy.coordinates import SkyCoord\n",
    "\n",
    "from jorbit.mpchecker import nearest_asteroid\n",
    "\n",
    "start_time = Time(\"2021-10-12\") - 4*u.hour\n",
    "end_time = Time(\"2021-11-06\") + 28*u.hour\n",
    "\n",
    "times1 = Time(np.arange(start_time.jd, end_time.jd, 1*u.min.to(u.day)), format='jd')[::2000]\n",
    "\n",
    "separations1, asteroids1, flags1 = nearest_asteroid(\n",
    "    coordinate=SkyCoord(59.8202*u.deg, 12.1121*u.deg),\n",
    "    times=times1,\n",
    "    precomputed=None,\n",
    "    radius=3*u.arcmin,\n",
    "    compute_contamination=False,\n",
    ")\n",
    "\n",
    "\n",
    "start_time = Time(\"2021-10-12\") - 4*u.hour\n",
    "end_time = Time(\"2021-11-06\") + 28*u.hour\n",
    "\n",
    "times2 = Time(np.arange(start_time.jd, end_time.jd, 1*u.min.to(u.day)), format='jd')[::1000]\n",
    "\n",
    "separations2, asteroids2, flags2 = nearest_asteroid(\n",
    "    coordinate=SkyCoord(59.8202*u.deg, 12.1121*u.deg),\n",
    "    times=times2,\n",
    "    precomputed=None,\n",
    "    radius=3*u.arcmin,\n",
    "    compute_contamination=False,\n",
    ")\n"
   ]
  },
  {
   "cell_type": "code",
   "execution_count": 7,
   "metadata": {},
   "outputs": [
    {
     "data": {
      "text/plain": [
       "(np.int64(10), np.int64(24))"
      ]
     },
     "execution_count": 7,
     "metadata": {},
     "output_type": "execute_result"
    }
   ],
   "source": [
    "flags1.sum(), flags2.sum()"
   ]
  },
  {
   "cell_type": "code",
   "execution_count": 21,
   "metadata": {},
   "outputs": [
    {
     "data": {
      "text/latex": [
       "$[0,~0,~0,~0,~0,~0,~0,~0,~0,~0,~0,~0,~0,~0,~0,~0,~0,~0,~0]\\mathrm{{}^{\\prime\\prime}}$"
      ],
      "text/plain": [
       "<Quantity [0., 0., 0., 0., 0., 0., 0., 0., 0., 0., 0., 0., 0., 0., 0., 0.,\n",
       "           0., 0., 0.] arcsec>"
      ]
     },
     "execution_count": 21,
     "metadata": {},
     "output_type": "execute_result"
    }
   ],
   "source": [
    "separations1 - separations2[::2]"
   ]
  },
  {
   "cell_type": "code",
   "execution_count": 9,
   "metadata": {},
   "outputs": [
    {
     "data": {
      "text/plain": [
       "array(['534314', '611438', 'K09R72R', 'K10CH8D', 'K10P41G', 'K15RZ3M',\n",
       "       'K19H09B', 'K19K29S', 'K19O27H', 'K21V73W'], dtype='<U7')"
      ]
     },
     "execution_count": 9,
     "metadata": {},
     "output_type": "execute_result"
    }
   ],
   "source": [
    "from astropy.utils.data import download_file\n",
    "\n",
    "from jorbit.data.constants import JORBIT_EPHEM_URL_BASE\n",
    "\n",
    "all_names = jnp.load(download_file(JORBIT_EPHEM_URL_BASE + \"names.npy\", cache=True))\n",
    "all_names[flags1]"
   ]
  },
  {
   "cell_type": "code",
   "execution_count": 10,
   "metadata": {},
   "outputs": [
    {
     "data": {
      "text/plain": [
       "array(['107981', '14090', '39584', '467783', '534314', '59633', '608358',\n",
       "       '611438', '675701', 'K09R72R', 'K10CH8D', 'K10P41G', 'K10RA4O',\n",
       "       'K12V77S', 'K15RZ3M', 'K19GE3G', 'K19H09B', 'K19K29S', 'K19O27H',\n",
       "       'K20L09X', 'K21V73W', 'K21V75T', 'K21V76E', 'K21VA5O'], dtype='<U7')"
      ]
     },
     "execution_count": 10,
     "metadata": {},
     "output_type": "execute_result"
    }
   ],
   "source": [
    "all_names[flags2]"
   ]
  },
  {
   "cell_type": "code",
   "execution_count": 13,
   "metadata": {},
   "outputs": [
    {
     "data": {
      "text/plain": [
       "['534314',\n",
       " '611438',\n",
       " np.str_('K09R72R'),\n",
       " np.str_('K10CH8D'),\n",
       " np.str_('K10P41G'),\n",
       " np.str_('K15RZ3M'),\n",
       " np.str_('K19H09B'),\n",
       " np.str_('K19K29S'),\n",
       " np.str_('K19O27H'),\n",
       " np.str_('K21V73W')]"
      ]
     },
     "execution_count": 13,
     "metadata": {},
     "output_type": "execute_result"
    }
   ],
   "source": [
    "from jorbit.mpchecker.parse_jorbit_ephem import packed_to_unpacked_designation\n",
    "\n",
    "[packed_to_unpacked_designation(i) for i in asteroids1[\"Packed designation\"]]"
   ]
  },
  {
   "cell_type": "code",
   "execution_count": 14,
   "metadata": {},
   "outputs": [
    {
     "data": {
      "text/plain": [
       "[np.str_('14090'),\n",
       " np.str_('39584'),\n",
       " np.str_('59633'),\n",
       " '107981',\n",
       " '467783',\n",
       " '534314',\n",
       " '608358',\n",
       " '611438',\n",
       " '675701',\n",
       " np.str_('K09R72R'),\n",
       " np.str_('K10CH8D'),\n",
       " np.str_('K10P41G'),\n",
       " np.str_('K10RA4O'),\n",
       " np.str_('K12V77S'),\n",
       " np.str_('K15RZ3M'),\n",
       " np.str_('K19GE3G'),\n",
       " np.str_('K19H09B'),\n",
       " np.str_('K19K29S'),\n",
       " np.str_('K19O27H'),\n",
       " np.str_('K20L09X'),\n",
       " np.str_('K21V73W'),\n",
       " np.str_('K21V75T'),\n",
       " np.str_('K21V76E'),\n",
       " np.str_('K21VA5O')]"
      ]
     },
     "execution_count": 14,
     "metadata": {},
     "output_type": "execute_result"
    }
   ],
   "source": [
    "from jorbit.mpchecker.parse_jorbit_ephem import packed_to_unpacked_designation\n",
    "\n",
    "[packed_to_unpacked_designation(i) for i in asteroids2[\"Packed designation\"]]"
   ]
  },
  {
   "cell_type": "code",
   "execution_count": null,
   "metadata": {},
   "outputs": [],
   "source": []
  }
 ],
 "metadata": {
  "kernelspec": {
   "display_name": "jorbit",
   "language": "python",
   "name": "jorbit"
  },
  "language_info": {
   "codemirror_mode": {
    "name": "ipython",
    "version": 3
   },
   "file_extension": ".py",
   "mimetype": "text/x-python",
   "name": "python",
   "nbconvert_exporter": "python",
   "pygments_lexer": "ipython3",
   "version": "3.13.0"
  }
 },
 "nbformat": 4,
 "nbformat_minor": 2
}
