{
 "cells": [
  {
   "cell_type": "markdown",
   "metadata": {},
   "source": [
    "# scratch work"
   ]
  },
  {
   "cell_type": "code",
   "execution_count": 1,
   "metadata": {},
   "outputs": [],
   "source": [
    "import jax\n",
    "\n",
    "jax.config.update(\"jax_enable_x64\", True)\n",
    "import jax.numpy as jnp\n",
    "\n",
    "# from decimal import Decimal, getcontext\n",
    "# import mpmath\n",
    "\n",
    "# getcontext().prec = 50\n",
    "\n",
    "from jorbit.utils.doubledouble import DoubleDouble\n",
    "from jorbit.integrators.ias15_dd import step, initialize_ias15_helper, acceleration_func"
   ]
  },
  {
   "cell_type": "code",
   "execution_count": 2,
   "metadata": {},
   "outputs": [
    {
     "name": "stderr",
     "output_type": "stream",
     "text": [
      "100%|██████████| 998/998 [00:00<00:00, 1399.22it/s]\n"
     ]
    }
   ],
   "source": [
    "from jorbit.utils.generate_coefficients import create_ias15_constants\n",
    "\n",
    "h, r, c, d = create_ias15_constants(7)\n",
    "h_arr = jnp.array([float(x) for x in h])\n",
    "r_arr = jnp.array([float(x) for x in r])\n",
    "c_arr = jnp.array([float(x) for x in c])\n",
    "d_arr = jnp.array([float(x) for x in d])"
   ]
  },
  {
   "cell_type": "code",
   "execution_count": 3,
   "metadata": {},
   "outputs": [
    {
     "data": {
      "text/plain": [
       "(Array(0., dtype=float64),\n",
       " Array(0., dtype=float64),\n",
       " Array(0., dtype=float64),\n",
       " Array(0., dtype=float64))"
      ]
     },
     "execution_count": 3,
     "metadata": {},
     "output_type": "execute_result"
    }
   ],
   "source": [
    "from jorbit.data.constants import IAS15_H, IAS15_RR, IAS15_C, IAS15_D\n",
    "\n",
    "jnp.max(jnp.abs(h_arr - IAS15_H)), jnp.max(jnp.abs(r_arr - IAS15_RR)), jnp.max(\n",
    "    jnp.abs(c_arr - IAS15_C)\n",
    "), jnp.max(jnp.abs(d_arr - IAS15_D))"
   ]
  },
  {
   "cell_type": "code",
   "execution_count": null,
   "metadata": {},
   "outputs": [],
   "source": []
  },
  {
   "cell_type": "code",
   "execution_count": null,
   "metadata": {},
   "outputs": [],
   "source": []
  },
  {
   "cell_type": "code",
   "execution_count": 5,
   "metadata": {},
   "outputs": [
    {
     "data": {
      "text/plain": [
       "Decimal('0.05626256053692214647')"
      ]
     },
     "execution_count": 5,
     "metadata": {},
     "output_type": "execute_result"
    }
   ],
   "source": [
    "from decimal import Decimal, getcontext\n",
    "\n",
    "getcontext().prec = 50\n",
    "# https://archive.org/details/gaussianquadratu00stro/page/340/mode/2up\n",
    "a = Decimal(\"-0.88747487892615570706\")\n",
    "\n",
    "# that's in the range of -1 to 1: rescale a to 0, 1:\n",
    "a = (a + 1) / 2\n",
    "a  # first h spacing in ias15"
   ]
  },
  {
   "cell_type": "code",
   "execution_count": 45,
   "metadata": {},
   "outputs": [
    {
     "data": {
      "text/plain": [
       "mpf('2.6129705657498202708866397685208784576275168384388967e-19')"
      ]
     },
     "execution_count": 45,
     "metadata": {},
     "output_type": "execute_result"
    }
   ],
   "source": [
    "import mpmath\n",
    "\n",
    "mpmath.mp.dps = 50\n",
    "\n",
    "n = 7  # number of internal evaluations, match # https://archive.org/details/gaussianquadratu00stro/page/340/mode/2up\n",
    "\n",
    "n += 1  # include the endpoint\n",
    "f = lambda x: (mpmath.legendre(n - 1, x) + mpmath.legendre(n, x)) / (x + 1)\n",
    "\n",
    "f(mpmath.mpf(\"-0.88747487892615570706\"))"
   ]
  },
  {
   "cell_type": "code",
   "execution_count": 71,
   "metadata": {},
   "outputs": [
    {
     "name": "stdout",
     "output_type": "stream",
     "text": [
      "x:     -0.69193902674528838467959497127447044414231087727768994856\n",
      "error: 0.25\n",
      "x:     -0.6403159002821685726486482447939496367171874398699295483\n",
      "error: 0.041939026745288384679594971274470444142310877277689681282\n",
      "x:     -0.63958535256197696366509592815812349517352632160701004949\n",
      "error: 0.051623126463119812030946726480520807425123437407760400263\n",
      "x:     -0.63951874711267790029297906718333714397659589903188541886\n",
      "error: 0.00073054772019160898355231663582614154366111826291949880676\n",
      "x:     -0.63951861654772304091575879249617545882602800579883895461\n",
      "error: 0.000066605449299063372116860974786351196930422575124630633427\n",
      "x:     -0.63951861652621527695960887312873264849592089718170265484\n",
      "error: 0.00000013056495485937722027468716168515056789323304646424575843\n",
      "x:     -0.63951861652621527002484011474990631465657036616309033583\n",
      "error: 0.000000000021507763956149919367442810330107108617136299771636264405\n",
      "x:     -0.63951861652621527002484011438163643091587876469481345522\n",
      "error: 6.9347687583788263338393505310186123190105281116198154172e-18\n",
      "x:     -0.63951861652621527002484011438163643091587875838905968936\n",
      "error: 3.6826988374069160146827688061234963772378290474524932157e-28\n",
      "x:     -0.63951861652621527002484011438163643091587875838905968936\n",
      "error: 6.3057537658598560721362763128927656522326423924578233984e-45\n"
     ]
    },
    {
     "data": {
      "text/plain": [
       "(mpf('0.18024069173689236498757994280918178454206062080547029'),\n",
       " mpf('-0.63951861652621527002484011438163643091587875838905969'),\n",
       " mpf('0.0'))"
      ]
     },
     "execution_count": 71,
     "metadata": {},
     "output_type": "execute_result"
    }
   ],
   "source": [
    "n = 8\n",
    "f = lambda x: (mpmath.legendre(n - 1, x) + mpmath.legendre(n, x)) / (x + 1)\n",
    "\n",
    "q = mpmath.findroot(\n",
    "    f,\n",
    "    # (mpmath.mpf(\"-0.91\"), mpmath.mpf(\"-0.9\")),\n",
    "    mpmath.mpf(\"-0.9\"),\n",
    "    solver=\"secant\",\n",
    "    verbose=True,\n",
    "    tol=mpmath.mpf(\"1e-35\"),\n",
    ")\n",
    "(q + 1) / 2, q, f(q)"
   ]
  },
  {
   "cell_type": "code",
   "execution_count": 91,
   "metadata": {},
   "outputs": [
    {
     "name": "stderr",
     "output_type": "stream",
     "text": [
      "100%|██████████| 998/998 [00:00<00:00, 1543.05it/s]\n"
     ]
    },
    {
     "data": {
      "text/plain": [
       "[mpf('0.0562625605369221464656521910323111757797655147446230835724427929'),\n",
       " mpf('0.18024069173689236498757994280918178454206062080547015532262555'),\n",
       " mpf('0.35262471711316963737390777017124120280802188305727478239920932'),\n",
       " mpf('0.547153626330555383001448557652348854640385927899147541308009332'),\n",
       " mpf('0.734210177215410531523210608306610002563003118594390105979320279'),\n",
       " mpf('0.885320946839095768090359762932485372922270175468028054611010279'),\n",
       " mpf('0.977520613561287501891174500429154940077826092764399610140715742')]"
      ]
     },
     "execution_count": 91,
     "metadata": {},
     "output_type": "execute_result"
    }
   ],
   "source": [
    "import mpmath\n",
    "from tqdm import tqdm\n",
    "\n",
    "\n",
    "def generate_gauss_radau_spacings(internal_points: int):\n",
    "    # for ias15 H spacings, internal_points = 7\n",
    "    # matches https://archive.org/details/gaussianquadratu00stro/page/340/mode/2up\n",
    "    mpmath.mp.dps = 60\n",
    "\n",
    "    n = internal_points + 1  # include the endpoint\n",
    "    f = lambda x: (mpmath.legendre(n - 1, x) + mpmath.legendre(n, x)) / (x + 1)\n",
    "\n",
    "    slices = mpmath.linspace(-1, 1, 1000)\n",
    "\n",
    "    sols = []\n",
    "    for i in tqdm(range(1, len(slices) - 1)):\n",
    "        try:\n",
    "            s = mpmath.findroot(\n",
    "                f,\n",
    "                (slices[i], slices[i + 1]),\n",
    "                solver=\"secant\",\n",
    "                tol=mpmath.mpf(\"1e-50\"),\n",
    "            )\n",
    "            possibly_new = s not in sols\n",
    "            if possibly_new:\n",
    "                for sol in sols:\n",
    "                    if mpmath.fabs(sol - s) < mpmath.mpf(\"1e-50\"):\n",
    "                        possibly_new = False\n",
    "                        break\n",
    "            if possibly_new:\n",
    "                assert mpmath.fabs(f(s)) < mpmath.mpf(\"1e-50\")\n",
    "                sols.append(s)\n",
    "\n",
    "            del s\n",
    "        except:\n",
    "            pass\n",
    "\n",
    "    assert len(sols) == n - 1\n",
    "\n",
    "    sols.sort()\n",
    "    sols = [((s + 1) / 2) for s in sols]  # rescale to 0, 1 from the range -1, 1\n",
    "    return sols\n",
    "\n",
    "\n",
    "generate_gauss_radau_spacings(7)"
   ]
  },
  {
   "cell_type": "code",
   "execution_count": null,
   "metadata": {},
   "outputs": [],
   "source": []
  },
  {
   "cell_type": "code",
   "execution_count": null,
   "metadata": {},
   "outputs": [],
   "source": []
  },
  {
   "cell_type": "code",
   "execution_count": null,
   "metadata": {},
   "outputs": [],
   "source": []
  },
  {
   "cell_type": "code",
   "execution_count": 3,
   "metadata": {},
   "outputs": [
    {
     "name": "stdout",
     "output_type": "stream",
     "text": [
      "5.649233359601495e-08, -5.388037824036623e-25\n",
      "5.649320835508429e-08, -1.3876614877682261e-24\n",
      "8.747592999253804e-13, -2.238183808514221e-30\n",
      "2.213840311442581e-18, 1.8152355289655439e-34\n",
      "3.2412436268176264e-24, 1.3856550845946262e-40\n",
      "3.8274007215499996e-30, 8.068751029066524e-47\n",
      "0.0, 0.0\n",
      "0.0, 0.0\n",
      "0.0, 0.0\n",
      "0.0, 0.0\n"
     ]
    },
    {
     "data": {
      "text/plain": [
       "(<jorbit.integrators.ias15_dd.IAS15Helper at 0x10d9510f0>,\n",
       " <jorbit.integrators.ias15_dd.IAS15Helper at 0x129285e10>,\n",
       " DoubleDouble(0.0, 0.0),\n",
       " DoubleDouble(0.0, 0.0))"
      ]
     },
     "execution_count": 3,
     "metadata": {},
     "output_type": "execute_result"
    }
   ],
   "source": [
    "b = initialize_ias15_helper(1)\n",
    "# print(b.p0.hi)\n",
    "\n",
    "x0 = DoubleDouble(jnp.array([1.0, 0.0, 0.0]))\n",
    "v0 = DoubleDouble(jnp.array([0.0, 1.0, 0.0]))\n",
    "\n",
    "a0 = acceleration_func(x0)\n",
    "\n",
    "step(x0, v0, a0, b)\n",
    "\n",
    "# print(b.p0.hi)"
   ]
  },
  {
   "cell_type": "code",
   "execution_count": 8,
   "metadata": {},
   "outputs": [
    {
     "data": {
      "text/plain": [
       "DoubleDouble(2.3333333333333335, -1.4802973661668753e-16)"
      ]
     },
     "execution_count": 8,
     "metadata": {},
     "output_type": "execute_result"
    }
   ],
   "source": [
    "a = DoubleDouble(3.0)\n",
    "b = DoubleDouble(7.0)\n",
    "\n",
    "c = b / a\n",
    "c"
   ]
  },
  {
   "cell_type": "code",
   "execution_count": 9,
   "metadata": {},
   "outputs": [
    {
     "data": {
      "text/plain": [
       "Decimal('2.333333333333333333333333333333333333333333333333333333333333333333333333333333333333333333333333333')"
      ]
     },
     "execution_count": 9,
     "metadata": {},
     "output_type": "execute_result"
    }
   ],
   "source": [
    "getcontext().prec = 100\n",
    "\n",
    "a = Decimal(3.0)\n",
    "b = Decimal(7.0)\n",
    "\n",
    "q = b / a\n",
    "q"
   ]
  },
  {
   "cell_type": "code",
   "execution_count": 10,
   "metadata": {},
   "outputs": [
    {
     "name": "stdout",
     "output_type": "stream",
     "text": [
      "-1.48029736616687538723150889078776041666666666666666666666666666666666666666666666667E-16\n",
      "-8.217301096052206306372172555029023225762567032385656299690405527751E-33\n"
     ]
    }
   ],
   "source": [
    "print(q - Decimal(float(c.hi)))\n",
    "print(q - (Decimal(float(c.hi)) + Decimal(float(c.lo))))"
   ]
  },
  {
   "cell_type": "code",
   "execution_count": null,
   "metadata": {},
   "outputs": [],
   "source": []
  },
  {
   "cell_type": "code",
   "execution_count": null,
   "metadata": {},
   "outputs": [
    {
     "data": {
      "text/plain": [
       "Array([1. , 3. , 1. , 1.2], dtype=float64)"
      ]
     },
     "metadata": {},
     "output_type": "display_data"
    }
   ],
   "source": [
    "z = jnp.array([[1.0, 2.0, 1.0, 1.2], [1.0, 3.0, 1.0, 1.2]])\n",
    "jnp.max(z, axis=0)"
   ]
  },
  {
   "cell_type": "code",
   "execution_count": null,
   "metadata": {},
   "outputs": [
    {
     "data": {
      "text/plain": [
       "DoubleDouble([1.  3.  1.  1.2], [1.0e-14 3.0e-14 1.0e-14 1.2e-14])"
      ]
     },
     "metadata": {},
     "output_type": "display_data"
    }
   ],
   "source": [
    "a = DoubleDouble(\n",
    "    hi=jnp.array([[1.0, 2.0, 1.0, 1.2], [1.0, 3.0, 1.0, 1.2]]),\n",
    "    lo=jnp.array([[1.0, 2.0, 1.0, 1.2], [1.0, 3.0, 1.0, 1.2]]) * 1e-14,\n",
    ")\n",
    "\n",
    "a.dd_max(axis=0)"
   ]
  }
 ],
 "metadata": {
  "kernelspec": {
   "display_name": ".venv",
   "language": "python",
   "name": "python3"
  },
  "language_info": {
   "codemirror_mode": {
    "name": "ipython",
    "version": 3
   },
   "file_extension": ".py",
   "mimetype": "text/x-python",
   "name": "python",
   "nbconvert_exporter": "python",
   "pygments_lexer": "ipython3",
   "version": "3.13.0"
  }
 },
 "nbformat": 4,
 "nbformat_minor": 2
}
