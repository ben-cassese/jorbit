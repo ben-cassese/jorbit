{
 "cells": [
  {
   "cell_type": "markdown",
   "metadata": {},
   "source": [
    "# scratch work"
   ]
  },
  {
   "cell_type": "code",
   "execution_count": 1,
   "metadata": {},
   "outputs": [],
   "source": [
    "import jax\n",
    "\n",
    "jax.config.update(\"jax_enable_x64\", True)\n",
    "import jax.numpy as jnp\n"
   ]
  },
  {
   "cell_type": "code",
   "execution_count": 7,
   "metadata": {},
   "outputs": [],
   "source": [
    "from astropy.time import Time\n",
    "from astropy.utils.data import download_file\n",
    "\n",
    "from jorbit.data.constants import JORBIT_EPHEM_URL_BASE\n",
    "from jorbit.mpchecker.parse_jorbit_ephem import (\n",
    "    load_mpcorb,\n",
    ")\n",
    "\n",
    "x0 = jnp.load(download_file(JORBIT_EPHEM_URL_BASE + \"x0.npy\", cache=True))\n",
    "names = jnp.load(download_file(JORBIT_EPHEM_URL_BASE + \"names.npy\", cache=True))\n",
    "m = load_mpcorb()\n",
    "ind=200\n",
    "chunk = jnp.load(\n",
    "            download_file(\n",
    "                JORBIT_EPHEM_URL_BASE + f\"chebyshev_coeffs_fwd_{ind:03d}.npy\",\n",
    "                cache=True,\n",
    "            )\n",
    "        )"
   ]
  },
  {
   "cell_type": "code",
   "execution_count": 4,
   "metadata": {},
   "outputs": [
    {
     "data": {
      "text/plain": [
       "((1424291, 3), (1424291,), (1424291, 11, 2), 1436009)"
      ]
     },
     "execution_count": 4,
     "metadata": {},
     "output_type": "execute_result"
    }
   ],
   "source": [
    "x0.shape, names.shape, chunk.shape, len(m)"
   ]
  },
  {
   "cell_type": "code",
   "execution_count": 5,
   "metadata": {},
   "outputs": [
    {
     "data": {
      "text/plain": [
       "(1386562,)"
      ]
     },
     "execution_count": 5,
     "metadata": {},
     "output_type": "execute_result"
    }
   ],
   "source": [
    "jnp.unique(x0[:,0]).shape"
   ]
  },
  {
   "cell_type": "code",
   "execution_count": 5,
   "metadata": {},
   "outputs": [
    {
     "data": {
      "text/plain": [
       "23"
      ]
     },
     "execution_count": 5,
     "metadata": {},
     "output_type": "execute_result"
    }
   ],
   "source": [
    "import astropy.units as u\n",
    "import numpy as np\n",
    "from astropy.coordinates import SkyCoord\n",
    "\n",
    "from jorbit.mpchecker import nearest_asteroid\n",
    "\n",
    "start_time = Time(\"2021-08-20\") - 4*u.hour\n",
    "end_time = Time(\"2021-09-16\") + 28*u.hour\n",
    "times1 = Time(np.arange(start_time.jd, end_time.jd, 1*u.min.to(u.day)), format='jd')[::10]\n",
    "\n",
    "\n",
    "separations1, asteroids1, flags1 = nearest_asteroid(\n",
    "    coordinate=SkyCoord(349.3783*u.deg, 8.2131*u.deg),\n",
    "    times=times1,\n",
    "    precomputed=None,\n",
    "    radius=3*u.arcmin,\n",
    "    compute_contamination=False,\n",
    ")\n",
    "len(asteroids1)"
   ]
  },
  {
   "cell_type": "code",
   "execution_count": 6,
   "metadata": {},
   "outputs": [
    {
     "data": {
      "text/html": [
       "&lt;Column name=&apos;Packed designation&apos; dtype=&apos;str7&apos; length=23&gt;\n",
       "<table>\n",
       "<tr><td>G7249</td></tr>\n",
       "<tr><td>O5229</td></tr>\n",
       "<tr><td>34138</td></tr>\n",
       "<tr><td>c7876</td></tr>\n",
       "<tr><td>h3330</td></tr>\n",
       "<tr><td>h7909</td></tr>\n",
       "<tr><td>l5274</td></tr>\n",
       "<tr><td>s2387</td></tr>\n",
       "<tr><td>v3019</td></tr>\n",
       "<tr><td>x7234</td></tr>\n",
       "<tr><td>K03G60U</td></tr>\n",
       "<tr><td>K12TB3C</td></tr>\n",
       "<tr><td>K12Tb3C</td></tr>\n",
       "<tr><td>K14F87H</td></tr>\n",
       "<tr><td>K15M82O</td></tr>\n",
       "<tr><td>K16U37X</td></tr>\n",
       "<tr><td>K17X06J</td></tr>\n",
       "<tr><td>K18A76H</td></tr>\n",
       "<tr><td>K20H97O</td></tr>\n",
       "<tr><td>K21RL1N</td></tr>\n",
       "<tr><td>K21RM5S</td></tr>\n",
       "<tr><td>K23B11A</td></tr>\n",
       "<tr><td>K24T17Y</td></tr>\n",
       "</table>"
      ],
      "text/plain": [
       "<Column name='Packed designation' dtype='str7' length=23>\n",
       "  G7249\n",
       "  O5229\n",
       "  34138\n",
       "  c7876\n",
       "  h3330\n",
       "  h7909\n",
       "  l5274\n",
       "  s2387\n",
       "  v3019\n",
       "  x7234\n",
       "K03G60U\n",
       "K12TB3C\n",
       "K12Tb3C\n",
       "K14F87H\n",
       "K15M82O\n",
       "K16U37X\n",
       "K17X06J\n",
       "K18A76H\n",
       "K20H97O\n",
       "K21RL1N\n",
       "K21RM5S\n",
       "K23B11A\n",
       "K24T17Y"
      ]
     },
     "execution_count": 6,
     "metadata": {},
     "output_type": "execute_result"
    }
   ],
   "source": [
    "asteroids1[\"Packed designation\"]"
   ]
  },
  {
   "cell_type": "code",
   "execution_count": 8,
   "metadata": {},
   "outputs": [],
   "source": [
    "# both of these are present... and digging into x0, they have identical states...\n",
    "# K12TB3C\n",
    "# K12Tb3C"
   ]
  },
  {
   "cell_type": "code",
   "execution_count": 9,
   "metadata": {},
   "outputs": [
    {
     "data": {
      "text/plain": [
       "(1, 1)"
      ]
     },
     "execution_count": 9,
     "metadata": {},
     "output_type": "execute_result"
    }
   ],
   "source": [
    "# they're both in the MPCORB.DAT file...\n",
    "(m[\"Packed designation\"] == \"K12TB3C\").sum(), (m[\"Packed designation\"] == \"K12Tb3C\").sum()"
   ]
  },
  {
   "cell_type": "code",
   "execution_count": 10,
   "metadata": {},
   "outputs": [],
   "source": [
    "# they're definitely different objects...\n",
    "# K12Tb3C 17.53  0.15 K24AH  68.55789  216.20583  137.98804    5.27906  0.2077642  0.17414785   3.1758304  1 MPO781609    57   4 2006-2023 0.14 M-v 3Ek MPCLINUX   0000          2012 TC373         20231019\n",
    "# K12TB3C 19.45  0.15 K24AH 204.06890  202.11531  215.61529    8.68561  0.3106434  0.21452971   2.7636164  3 MPO689324    19   2 2012-2021 0.31 M-v 3Ek Veres      0000          2012 TC113         20211006"
   ]
  },
  {
   "cell_type": "code",
   "execution_count": 8,
   "metadata": {},
   "outputs": [
    {
     "data": {
      "text/plain": [
       "(<Table masked=True length=1>\n",
       "  targetname    datetime_jd    ...       range             range_rate     \n",
       "     ---             d         ...         AU                AU / d       \n",
       "    str12         float64      ...      float64             float64       \n",
       " ------------ ---------------- ... ----------------- ---------------------\n",
       " (2012 TC113) 2458849.50080074 ... 3.614521415843135 -0.000287058740770556,\n",
       " <Table masked=True length=1>\n",
       "  targetname    datetime_jd    ...       range             range_rate     \n",
       "     ---             d         ...         AU                AU / d       \n",
       "    str12         float64      ...      float64             float64       \n",
       " ------------ ---------------- ... ----------------- ---------------------\n",
       " (2012 TC113) 2458849.50080074 ... 3.614521415843135 -0.000287058740770556)"
      ]
     },
     "execution_count": 8,
     "metadata": {},
     "output_type": "execute_result"
    }
   ],
   "source": [
    "# why do they have identical x0, v0? because Horizons is resolving both to the same object\n",
    "# K12Tb3C = 2012 TC373\n",
    "# K12TB3C = 2012 TC113\n",
    "# Horizons is resolving both to 2012 TC113\n",
    "\n",
    "from astroquery.jplhorizons import Horizons\n",
    "\n",
    "t0 = Time(\"2020-01-01\")\n",
    "\n",
    "\n",
    "particle_name = \"K12TB3C\"\n",
    "obj1 = Horizons(\n",
    "                id=particle_name,\n",
    "                location=\"500@0\",\n",
    "                epochs=t0.tdb.jd,\n",
    "                id_type=\"smallbody\",\n",
    "            )\n",
    "vecs1 = obj1.vectors(refplane=\"earth\")\n",
    "\n",
    "particle_name = \"K12Tb3C\"\n",
    "obj2 = Horizons(\n",
    "                id=particle_name,\n",
    "                location=\"500@0\",\n",
    "                epochs=t0.tdb.jd,\n",
    "                id_type=\"smallbody\",\n",
    "            )\n",
    "vecs2 = obj2.vectors(refplane=\"earth\")\n",
    "\n",
    "vecs1, vecs2"
   ]
  },
  {
   "cell_type": "code",
   "execution_count": 9,
   "metadata": {},
   "outputs": [
    {
     "data": {
      "text/plain": [
       "('JPLHorizons instance \"K12TB3C\"; location=500@0, epochs=[np.float64(2458849.5008007395)], id_type=smallbody',\n",
       " 'JPLHorizons instance \"K12Tb3C\"; location=500@0, epochs=[np.float64(2458849.5008007395)], id_type=smallbody')"
      ]
     },
     "execution_count": 9,
     "metadata": {},
     "output_type": "execute_result"
    }
   ],
   "source": [
    "str(obj1), str(obj2)"
   ]
  },
  {
   "cell_type": "code",
   "execution_count": null,
   "metadata": {},
   "outputs": [
    {
     "data": {
      "text/plain": [
       "(         JD_TDB                              Cal         x         y  \\\n",
       " 0  2.458850e+06   A.D. 2020-Jan-01 00:01:09.1839 -1.691344 -3.019393   \n",
       " \n",
       "           z        vx        vy        vz        LT        RG        RR  \n",
       " 0 -1.042777  0.006722 -0.003302 -0.000346  0.020876  3.614521 -0.000287  ,\n",
       "          JD_TDB                              Cal         x         y  \\\n",
       " 0  2.458850e+06   A.D. 2020-Jan-01 00:01:09.1839 -2.539567  2.376144   \n",
       " \n",
       "           z        vx        vy        vz        LT        RG        RR  \n",
       " 0  1.007744 -0.006806 -0.004783 -0.001251  0.020913  3.620912  0.001286  )"
      ]
     },
     "execution_count": 1,
     "metadata": {},
     "output_type": "execute_result"
    }
   ],
   "source": [
    "# It's not astroquery though- it's Horizons itself?\n",
    "# (now I've patched the bulk_query, so it looks different but was identical before)\n",
    "\n",
    "from astropy.time import Time\n",
    "\n",
    "from jorbit.utils.horizons import horizons_bulk_vector_query\n",
    "\n",
    "v1 = horizons_bulk_vector_query(\n",
    "    target=\"K12TB3C\",\n",
    "    center=\"500@0\",\n",
    "    times=Time(\"2020-01-01\"),\n",
    "    disable_astroquery=True,\n",
    ")\n",
    "v2 = horizons_bulk_vector_query(\n",
    "    target=\"K12Tb3C\",\n",
    "    center=\"500@0\",\n",
    "    times=Time(\"2020-01-01\"),\n",
    "    disable_astroquery=True,\n",
    ")\n",
    "v1, v2"
   ]
  },
  {
   "cell_type": "code",
   "execution_count": null,
   "metadata": {},
   "outputs": [
    {
     "data": {
      "text/plain": [
       "(         JD_TDB                              Cal         x         y  \\\n",
       " 0  2.458850e+06   A.D. 2020-Jan-01 00:01:09.1839 -2.539567  2.376144   \n",
       " \n",
       "           z        vx        vy        vz        LT        RG        RR  \n",
       " 0  1.007744 -0.006806 -0.004783 -0.001251  0.020913  3.620912  0.001286  ,\n",
       "          JD_TDB                              Cal         x         y  \\\n",
       " 0  2.458850e+06   A.D. 2020-Jan-01 00:01:09.1839 -1.691344 -3.019393   \n",
       " \n",
       "           z        vx        vy        vz        LT        RG        RR  \n",
       " 0 -1.042777  0.006722 -0.003302 -0.000346  0.020876  3.614521 -0.000287  )"
      ]
     },
     "execution_count": 2,
     "metadata": {},
     "output_type": "execute_result"
    }
   ],
   "source": [
    "# when we search their unpacked designations, we get different results though\n",
    "\n",
    "v1 = horizons_bulk_vector_query(\n",
    "    target=\"2012 TC373\",\n",
    "    center=\"500@0\",\n",
    "    times=Time(\"2020-01-01\"),\n",
    "    disable_astroquery=True,\n",
    ")\n",
    "v2 = horizons_bulk_vector_query(\n",
    "    target=\"2012 TC113\",\n",
    "    center=\"500@0\",\n",
    "    times=Time(\"2020-01-01\"),\n",
    "    disable_astroquery=True,\n",
    ")\n",
    "v1, v2"
   ]
  },
  {
   "cell_type": "code",
   "execution_count": null,
   "metadata": {},
   "outputs": [
    {
     "data": {
      "text/plain": [
       "(<Table masked=True length=1>\n",
       "  targetname    datetime_jd    ...       range            range_rate     \n",
       "     ---             d         ...         AU               AU / d       \n",
       "    str12         float64      ...      float64            float64       \n",
       " ------------ ---------------- ... ----------------- --------------------\n",
       " (2012 TC373) 2458849.50080074 ... 3.620912321991971 0.001286486479685278,\n",
       " <Table masked=True length=1>\n",
       "  targetname    datetime_jd    ...       range             range_rate     \n",
       "     ---             d         ...         AU                AU / d       \n",
       "    str12         float64      ...      float64             float64       \n",
       " ------------ ---------------- ... ----------------- ---------------------\n",
       " (2012 TC113) 2458849.50080074 ... 3.614521415843135 -0.000287058740770556)"
      ]
     },
     "execution_count": 8,
     "metadata": {},
     "output_type": "execute_result"
    }
   ],
   "source": [
    "# same for astroquery\n",
    "\n",
    "particle_name = \"2012 TC373\"\n",
    "obj1 = Horizons(\n",
    "                id=particle_name,\n",
    "                location=\"500@0\",\n",
    "                epochs=t0.tdb.jd,\n",
    "                id_type=\"smallbody\",\n",
    "            )\n",
    "vecs1 = obj1.vectors(refplane=\"earth\")\n",
    "\n",
    "particle_name = \"2012 TC113\"\n",
    "obj2 = Horizons(\n",
    "                id=particle_name,\n",
    "                location=\"500@0\",\n",
    "                epochs=t0.tdb.jd,\n",
    "                id_type=\"smallbody\",\n",
    "            )\n",
    "vecs2 = obj2.vectors(refplane=\"earth\")\n",
    "\n",
    "vecs1, vecs2"
   ]
  },
  {
   "cell_type": "code",
   "execution_count": 3,
   "metadata": {},
   "outputs": [
    {
     "data": {
      "text/plain": [
       "np.float64(-2.539566784607915)"
      ]
     },
     "execution_count": 3,
     "metadata": {},
     "output_type": "execute_result"
    }
   ],
   "source": [
    "from jorbit.utils.horizons import (\n",
    "    HorizonsQueryConfig,\n",
    "    horizons_query_context,\n",
    "    make_horizons_request,\n",
    "    parse_horizons_response,\n",
    ")\n",
    "\n",
    "center=\"500@0\"\n",
    "query_type = \"VECTOR\"\n",
    "skip_daylight = False\n",
    "times = [Time(\"2020-01-01\")]\n",
    "\n",
    "# target = \"K12TB3C\"\n",
    "target=\"K12Tb3C\"\n",
    "# target = \"00001\"\n",
    "\n",
    "lines = [\n",
    "    \"!$$SOF\",\n",
    "    f'COMMAND= \"DES={target};\"',\n",
    "    \"OBJ_DATA='NO'\",\n",
    "    \"MAKE_EPHEM='YES'\",\n",
    "    f\"CENTER='{center}'\",\n",
    "    \"REF_PLANE='FRAME'\",\n",
    "    \"CSV_FORMAT='YES'\",\n",
    "    \"OUT_UNITS='AU-D'\",\n",
    "    \"CAL_FORMAT='JD'\",\n",
    "    \"TLIST_TYPE='JD'\",\n",
    "]\n",
    "\n",
    "if query_type == \"VECTOR\":\n",
    "    lines.append(\"TABLE_TYPE='VECTOR'\")\n",
    "elif query_type == \"OBSERVER\":\n",
    "    lines.extend(\n",
    "        [\n",
    "            \"TABLE_TYPE='OBSERVER'\",\n",
    "            \"QUANTITIES='1,36,37'\",\n",
    "            \"ANG_FORMAT='DEG'\",\n",
    "            \"EXTRA_PREC = 'YES'\",\n",
    "        ]\n",
    "    )\n",
    "    if skip_daylight:\n",
    "        lines.append(\"SKIP_DAYLT = 'YES'\")\n",
    "\n",
    "lines.append(\"TLIST=\")\n",
    "for t in times:\n",
    "    if query_type == \"VECTOR\":\n",
    "        time_value = t.tdb.jd if isinstance(t, Time) else t\n",
    "    elif query_type == \"OBSERVER\":\n",
    "        time_value = t.utc.jd if isinstance(t, Time) else t\n",
    "    lines.append(f\"'{time_value}'\")\n",
    "\n",
    "query = \"\\n\".join(lines)\n",
    "\n",
    "with horizons_query_context(query) as query_content:\n",
    "    response_text = make_horizons_request(query_content)\n",
    "    res = parse_horizons_response(\n",
    "        response_text, HorizonsQueryConfig.VECTOR_COLUMNS\n",
    "    )\n",
    "\n",
    "res[\"x\"].iloc[0]"
   ]
  },
  {
   "cell_type": "code",
   "execution_count": 60,
   "metadata": {},
   "outputs": [
    {
     "data": {
      "text/plain": [
       "'API VERSION: 1.0\\nAPI SOURCE: NASA/JPL Horizons API\\n\\n\\n\\n*******************************************************************************\\nEphemeris / WWW_USER Fri Feb 21 11:59:31 2025 Pasadena, USA      / Horizons\\n*******************************************************************************\\nTarget body name: (2012 TC113)                    {source: JPL#1}\\nCenter body name: Solar System Barycenter (0)     {source: DE441}\\nCenter-site name: BODY CENTER\\n*******************************************************************************\\nStart time      : A.D. 2020-Jan-01 00:01:09.1839 TDB\\nStop  time      : A.D. 2020-Jan-01 00:01:09.1839 TDB\\nStep-size       : DISCRETE TIME-LIST\\n*******************************************************************************\\nCenter geodetic : 0.0, 0.0, 0.0                   {E-lon(deg),Lat(deg),Alt(km)}\\nCenter cylindric: 0.0, 0.0, 0.0                   {E-lon(deg),Dxy(km),Dz(km)}\\nCenter radii    : (undefined)\\nSmall perturbers: Yes                             {source: SB441-N16}\\nOutput units    : AU-D\\nCalendar mode   : Mixed Julian/Gregorian\\nOutput type     : GEOMETRIC cartesian states\\nOutput format   : 3 (position, velocity, LT, range, range-rate)\\nReference frame : ICRF\\n*******************************************************************************\\nInitial IAU76/J2000 heliocentric ecliptic osculating elements (au, days, deg.):\\n  EPOCH=  2458349.5 ! 2018-Aug-19.00 (TDB)         Residual RMS= .15022        \\n   EC= .3145373175883819   QR= 1.890116718495932   TP= 2457973.465567471       \\n   OM= 215.9040590324519   W=  201.7656308496585   IN= 8.706111573850858       \\n  Equivalent ICRF heliocentric cartesian coordinates (au, au/d):\\n   X=-2.861211195720764E+00  Y= 3.710674303264019E-01  Z=-1.567647727837299E-01\\n  VX=-4.052112005581515E-03 VY=-8.531293283304950E-03 VZ=-2.882197150789354E-03\\nAsteroid physical parameters (km, seconds, rotational period in hours):        \\n   GM= n.a.                RAD= n.a.               ROTPER= n.a.                \\n   H= 19.45                G= .150                 B-V= n.a.                   \\n                           ALBEDO= n.a.            STYP= n.a.                  \\n*******************************************************************************\\n            JDTDB,            Calendar Date (TDB),                      X,                      Y,                      Z,                     VX,                     VY,                     VZ,                     LT,                     RG,                     RR,\\n**************************************************************************************************************************************************************************************************************************************************************************\\n$$SOE\\n2458849.500800740, A.D. 2020-Jan-01 00:01:09.1839, -1.691344295866609E+00, -3.019393256509751E+00, -1.042777014021497E+00,  6.721801667658439E-03, -3.302203572861468E-03, -3.458550946663538E-04,  2.087573469657363E-02,  3.614521415843135E+00, -2.870587407705560E-04,\\n$$EOE\\n**************************************************************************************************************************************************************************************************************************************************************************\\n \\nTIME\\n\\n  Barycentric Dynamical Time (\"TDB\" or T_eph) output was requested. This\\ncontinuous coordinate time is equivalent to the relativistic proper time\\nof a clock at rest in a reference frame co-moving with the solar system\\nbarycenter but outside the system\\'s gravity well. It is the independent\\nvariable in the solar system relativistic equations of motion.\\n\\n  TDB runs at a uniform rate of one SI second per second and is independent\\nof irregularities in Earth\\'s rotation.\\n \\nCALENDAR SYSTEM\\n\\n  Mixed calendar mode was active such that calendar dates after AD 1582-Oct-15\\n(if any) are in the modern Gregorian system. Dates prior to 1582-Oct-5 (if any)\\nare in the Julian calendar system, which is automatically extended for dates\\nprior to its adoption on 45-Jan-1 BC.  The Julian calendar is useful for\\nmatching historical dates. The Gregorian calendar more accurately corresponds\\nto the Earth\\'s orbital motion and seasons. A \"Gregorian-only\" calendar mode is\\navailable if such physical events are the primary interest.\\n\\nREFERENCE FRAME AND COORDINATES\\n\\n  International Celestial Reference Frame (ICRF)\\n\\n    The ICRF is an adopted reference frame whose axes are defined relative to \\n    fixed extragalactic radio sources distributed across the sky.\\n\\n    The ICRF was aligned with the prior FK5/J2000 dynamical system at the ~0.02 \\n    arcsecond level but is not identical and has no associated standard epoch.\\n\\n  Symbol meaning [1 au= 149597870.700 km, 1 day= 86400.0 s]:\\n\\n    JDTDB    Julian Day Number, Barycentric Dynamical Time\\n      X      X-component of position vector (au)\\n      Y      Y-component of position vector (au)\\n      Z      Z-component of position vector (au)\\n      VX     X-component of velocity vector (au/day)                           \\n      VY     Y-component of velocity vector (au/day)                           \\n      VZ     Z-component of velocity vector (au/day)                           \\n      LT     One-way down-leg Newtonian light-time (day)\\n      RG     Range; distance from coordinate center (au)\\n      RR     Range-rate; radial velocity wrt coord. center (au/day)\\n\\nABERRATIONS AND CORRECTIONS\\n\\n Geometric state vectors have NO corrections or aberrations applied.\\n\\nComputations by ...\\n\\n    Solar System Dynamics Group, Horizons On-Line Ephemeris System\\n    4800 Oak Grove Drive, Jet Propulsion Laboratory\\n    Pasadena, CA  91109   USA\\n\\n    General site: https://ssd.jpl.nasa.gov/\\n    Mailing list: https://ssd.jpl.nasa.gov/email_list.html\\n    System news : https://ssd.jpl.nasa.gov/horizons/news.html\\n    User Guide  : https://ssd.jpl.nasa.gov/horizons/manual.html\\n    Connect     : browser        https://ssd.jpl.nasa.gov/horizons/app.html#/x\\n                  API            https://ssd-api.jpl.nasa.gov/doc/horizons.html\\n                  command-line   telnet ssd.jpl.nasa.gov 6775\\n                  e-mail/batch   https://ssd.jpl.nasa.gov/ftp/ssd/hrzn_batch.txt\\n                  scripts        https://ssd.jpl.nasa.gov/ftp/ssd/SCRIPTS\\n    Author      : Jon.D.Giorgini@jpl.nasa.gov\\n*******************************************************************************\\n'"
      ]
     },
     "execution_count": 60,
     "metadata": {},
     "output_type": "execute_result"
    }
   ],
   "source": [
    "response_text"
   ]
  },
  {
   "cell_type": "code",
   "execution_count": 27,
   "metadata": {},
   "outputs": [
    {
     "data": {
      "text/html": [
       "&lt;MaskedColumn name=&apos;x&apos; dtype=&apos;float64&apos; unit=&apos;AU&apos; length=1&gt;\n",
       "<table>\n",
       "<tr><td>-2.539566784607915</td></tr>\n",
       "</table>"
      ],
      "text/plain": [
       "<MaskedColumn name='x' dtype='float64' unit='AU' length=1>\n",
       "-2.539566784607915"
      ]
     },
     "execution_count": 27,
     "metadata": {},
     "output_type": "execute_result"
    }
   ],
   "source": [
    "# K12Tb3C = 2012 TC373\n",
    "# K12TB3C = 2012 TC113\n",
    "obj = Horizons(\n",
    "                id=\"2012 TC373\",\n",
    "                location=\"500@0\",\n",
    "                epochs=t0.tdb.jd,\n",
    "                id_type=\"smallbody\",\n",
    "            )\n",
    "vecs = obj.vectors(refplane=\"earth\")\n",
    "vecs[\"x\"]"
   ]
  }
 ],
 "metadata": {
  "kernelspec": {
   "display_name": "jorbit",
   "language": "python",
   "name": "jorbit"
  },
  "language_info": {
   "codemirror_mode": {
    "name": "ipython",
    "version": 3
   },
   "file_extension": ".py",
   "mimetype": "text/x-python",
   "name": "python",
   "nbconvert_exporter": "python",
   "pygments_lexer": "ipython3",
   "version": "3.13.0"
  }
 },
 "nbformat": 4,
 "nbformat_minor": 2
}
