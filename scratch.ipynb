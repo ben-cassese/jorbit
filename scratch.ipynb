{
 "cells": [
  {
   "cell_type": "markdown",
   "metadata": {},
   "source": [
    "# scratch work"
   ]
  },
  {
   "cell_type": "code",
   "execution_count": 1,
   "metadata": {},
   "outputs": [],
   "source": [
    "import jax\n",
    "\n",
    "jax.config.update(\"jax_enable_x64\", True)\n",
    "import jax.numpy as jnp\n",
    "\n",
    "from astropy.time import Time\n",
    "import astropy.units as u\n",
    "from astropy.coordinates import SkyCoord\n",
    "from astroquery.jplhorizons import Horizons\n",
    "\n",
    "t = Time(\"2024-12-01 00:00\")"
   ]
  },
  {
   "cell_type": "code",
   "execution_count": 14,
   "metadata": {},
   "outputs": [
    {
     "name": "stdout",
     "output_type": "stream",
     "text": [
      "[[ 2.61030935e-05 -2.90119924e-05 -8.52860259e-06]]\n"
     ]
    },
    {
     "data": {
      "text/plain": [
       "*************\n",
       "jorbit System\n",
       " time: 2460645.50080073\n",
       " particles: [Particle: wiki]\n",
       "*************"
      ]
     },
     "execution_count": 14,
     "metadata": {},
     "output_type": "execute_result"
    }
   ],
   "source": [
    "from jorbit.particle import Particle\n",
    "from jorbit.system import System\n",
    "\n",
    "obj = Horizons(id=\"274301\", location=\"@0\", epochs=t.tdb.jd)\n",
    "vecs = obj.vectors(refplane=\"earth\")\n",
    "\n",
    "x = jnp.array([vecs[\"x\"][0], vecs[\"y\"][0], vecs[\"z\"][0]])\n",
    "v = jnp.array([vecs[\"vx\"][0], vecs[\"vy\"][0], vecs[\"vz\"][0]])\n",
    "\n",
    "p = Particle(x=x, v=v, time=t, name=\"wiki\")\n",
    "s = System(particles=[p], acceleration_func=\"newtonian planets\")\n",
    "\n",
    "print(s.acceleration_func(s.state))\n",
    "\n",
    "s"
   ]
  },
  {
   "cell_type": "code",
   "execution_count": 6,
   "metadata": {},
   "outputs": [],
   "source": [
    "from jorbit.data.constants import (\n",
    "    DEFAULT_PLANET_EPHEMERIS_URL,\n",
    "    DEFAULT_ASTEROID_EPHEMERIS_URL,\n",
    "    ALL_PLANET_IDS,\n",
    "    ALL_PLANET_LOG_GMS,\n",
    "    LARGE_ASTEROID_IDS,\n",
    "    LARGE_ASTEROID_LOG_GMS,\n",
    ")\n",
    "from astropy.utils.data import download_file\n",
    "from jplephem.spk import SPK\n",
    "\n",
    "kernel = SPK.open(download_file(DEFAULT_ASTEROID_EPHEMERIS_URL, cache=True))"
   ]
  },
  {
   "cell_type": "code",
   "execution_count": 10,
   "metadata": {},
   "outputs": [
    {
     "name": "stdout",
     "output_type": "stream",
     "text": [
      "-8000-12-21..-3619-08-16  Type 2  Sun (10) -> Unknown Target (2000107)\n",
      "  frame=1 source=MONTE Chebyshev Polynomial Table\n",
      "-3619-08-16..762-04-11  Type 2  Sun (10) -> Unknown Target (2000107)\n",
      "  frame=1 source=MONTE Chebyshev Polynomial Table\n",
      "762-04-11..5142-12-05  Type 2  Sun (10) -> Unknown Target (2000107)\n",
      "  frame=1 source=MONTE Chebyshev Polynomial Table\n",
      "5142-12-05..9000-01-01  Type 2  Sun (10) -> Unknown Target (2000107)\n",
      "  frame=1 source=MONTE Chebyshev Polynomial Table\n",
      "-8000-12-21..-3619-08-16  Type 2  Sun (10) -> Ceres (2000001)\n",
      "  frame=1 source=MONTE Chebyshev Polynomial Table\n",
      "-3619-08-16..762-04-11  Type 2  Sun (10) -> Ceres (2000001)\n",
      "  frame=1 source=MONTE Chebyshev Polynomial Table\n",
      "762-04-11..5142-12-05  Type 2  Sun (10) -> Ceres (2000001)\n",
      "  frame=1 source=MONTE Chebyshev Polynomial Table\n",
      "5142-12-05..9000-01-01  Type 2  Sun (10) -> Ceres (2000001)\n",
      "  frame=1 source=MONTE Chebyshev Polynomial Table\n",
      "-8000-12-21..-3619-08-16  Type 2  Sun (10) -> Unknown Target (2000065)\n",
      "  frame=1 source=MONTE Chebyshev Polynomial Table\n",
      "-3619-08-16..762-04-11  Type 2  Sun (10) -> Unknown Target (2000065)\n",
      "  frame=1 source=MONTE Chebyshev Polynomial Table\n",
      "762-04-11..5142-12-05  Type 2  Sun (10) -> Unknown Target (2000065)\n",
      "  frame=1 source=MONTE Chebyshev Polynomial Table\n",
      "5142-12-05..9000-01-01  Type 2  Sun (10) -> Unknown Target (2000065)\n",
      "  frame=1 source=MONTE Chebyshev Polynomial Table\n",
      "-8000-12-21..-3619-08-16  Type 2  Sun (10) -> Davida (2000511)\n",
      "  frame=1 source=MONTE Chebyshev Polynomial Table\n",
      "-3619-08-16..762-04-11  Type 2  Sun (10) -> Davida (2000511)\n",
      "  frame=1 source=MONTE Chebyshev Polynomial Table\n",
      "762-04-11..5142-12-05  Type 2  Sun (10) -> Davida (2000511)\n",
      "  frame=1 source=MONTE Chebyshev Polynomial Table\n",
      "5142-12-05..9000-01-01  Type 2  Sun (10) -> Davida (2000511)\n",
      "  frame=1 source=MONTE Chebyshev Polynomial Table\n",
      "-8000-12-21..-3619-08-16  Type 2  Sun (10) -> Unknown Target (2000015)\n",
      "  frame=1 source=MONTE Chebyshev Polynomial Table\n",
      "-3619-08-16..762-04-11  Type 2  Sun (10) -> Unknown Target (2000015)\n",
      "  frame=1 source=MONTE Chebyshev Polynomial Table\n",
      "762-04-11..5142-12-05  Type 2  Sun (10) -> Unknown Target (2000015)\n",
      "  frame=1 source=MONTE Chebyshev Polynomial Table\n",
      "5142-12-05..9000-01-01  Type 2  Sun (10) -> Unknown Target (2000015)\n",
      "  frame=1 source=MONTE Chebyshev Polynomial Table\n",
      "-8000-12-21..-3619-08-16  Type 2  Sun (10) -> Unknown Target (2000031)\n",
      "  frame=1 source=MONTE Chebyshev Polynomial Table\n",
      "-3619-08-16..762-04-11  Type 2  Sun (10) -> Unknown Target (2000031)\n",
      "  frame=1 source=MONTE Chebyshev Polynomial Table\n",
      "762-04-11..5142-12-05  Type 2  Sun (10) -> Unknown Target (2000031)\n",
      "  frame=1 source=MONTE Chebyshev Polynomial Table\n",
      "5142-12-05..9000-01-01  Type 2  Sun (10) -> Unknown Target (2000031)\n",
      "  frame=1 source=MONTE Chebyshev Polynomial Table\n",
      "-8000-12-21..-3619-08-16  Type 2  Sun (10) -> Unknown Target (2000052)\n",
      "  frame=1 source=MONTE Chebyshev Polynomial Table\n",
      "-3619-08-16..762-04-11  Type 2  Sun (10) -> Unknown Target (2000052)\n",
      "  frame=1 source=MONTE Chebyshev Polynomial Table\n",
      "762-04-11..5142-12-05  Type 2  Sun (10) -> Unknown Target (2000052)\n",
      "  frame=1 source=MONTE Chebyshev Polynomial Table\n",
      "5142-12-05..9000-01-01  Type 2  Sun (10) -> Unknown Target (2000052)\n",
      "  frame=1 source=MONTE Chebyshev Polynomial Table\n",
      "-8000-12-21..-3619-08-16  Type 2  Sun (10) -> Unknown Target (2000010)\n",
      "  frame=1 source=MONTE Chebyshev Polynomial Table\n",
      "-3619-08-16..762-04-11  Type 2  Sun (10) -> Unknown Target (2000010)\n",
      "  frame=1 source=MONTE Chebyshev Polynomial Table\n",
      "762-04-11..5142-12-05  Type 2  Sun (10) -> Unknown Target (2000010)\n",
      "  frame=1 source=MONTE Chebyshev Polynomial Table\n",
      "5142-12-05..9000-01-01  Type 2  Sun (10) -> Unknown Target (2000010)\n",
      "  frame=1 source=MONTE Chebyshev Polynomial Table\n",
      "-8000-12-21..-3619-08-16  Type 2  Sun (10) -> Unknown Target (2000704)\n",
      "  frame=1 source=MONTE Chebyshev Polynomial Table\n",
      "-3619-08-16..762-04-11  Type 2  Sun (10) -> Unknown Target (2000704)\n",
      "  frame=1 source=MONTE Chebyshev Polynomial Table\n",
      "762-04-11..5142-12-05  Type 2  Sun (10) -> Unknown Target (2000704)\n",
      "  frame=1 source=MONTE Chebyshev Polynomial Table\n",
      "5142-12-05..9000-01-01  Type 2  Sun (10) -> Unknown Target (2000704)\n",
      "  frame=1 source=MONTE Chebyshev Polynomial Table\n",
      "-8000-12-21..-3619-08-16  Type 2  Sun (10) -> Unknown Target (2000007)\n",
      "  frame=1 source=MONTE Chebyshev Polynomial Table\n",
      "-3619-08-16..762-04-11  Type 2  Sun (10) -> Unknown Target (2000007)\n",
      "  frame=1 source=MONTE Chebyshev Polynomial Table\n",
      "762-04-11..5142-12-05  Type 2  Sun (10) -> Unknown Target (2000007)\n",
      "  frame=1 source=MONTE Chebyshev Polynomial Table\n",
      "5142-12-05..9000-01-01  Type 2  Sun (10) -> Unknown Target (2000007)\n",
      "  frame=1 source=MONTE Chebyshev Polynomial Table\n",
      "-8000-12-21..-3619-08-16  Type 2  Sun (10) -> Unknown Target (2000003)\n",
      "  frame=1 source=MONTE Chebyshev Polynomial Table\n",
      "-3619-08-16..762-04-11  Type 2  Sun (10) -> Unknown Target (2000003)\n",
      "  frame=1 source=MONTE Chebyshev Polynomial Table\n",
      "762-04-11..5142-12-05  Type 2  Sun (10) -> Unknown Target (2000003)\n",
      "  frame=1 source=MONTE Chebyshev Polynomial Table\n",
      "5142-12-05..9000-01-01  Type 2  Sun (10) -> Unknown Target (2000003)\n",
      "  frame=1 source=MONTE Chebyshev Polynomial Table\n",
      "-8000-12-21..-3619-08-16  Type 2  Sun (10) -> Pallas (2000002)\n",
      "  frame=1 source=MONTE Chebyshev Polynomial Table\n",
      "-3619-08-16..762-04-11  Type 2  Sun (10) -> Pallas (2000002)\n",
      "  frame=1 source=MONTE Chebyshev Polynomial Table\n",
      "762-04-11..5142-12-05  Type 2  Sun (10) -> Pallas (2000002)\n",
      "  frame=1 source=MONTE Chebyshev Polynomial Table\n",
      "5142-12-05..9000-01-01  Type 2  Sun (10) -> Pallas (2000002)\n",
      "  frame=1 source=MONTE Chebyshev Polynomial Table\n",
      "-8000-12-21..-3619-08-16  Type 2  Sun (10) -> Unknown Target (2000016)\n",
      "  frame=1 source=MONTE Chebyshev Polynomial Table\n",
      "-3619-08-16..762-04-11  Type 2  Sun (10) -> Unknown Target (2000016)\n",
      "  frame=1 source=MONTE Chebyshev Polynomial Table\n",
      "762-04-11..5142-12-05  Type 2  Sun (10) -> Unknown Target (2000016)\n",
      "  frame=1 source=MONTE Chebyshev Polynomial Table\n",
      "5142-12-05..9000-01-01  Type 2  Sun (10) -> Unknown Target (2000016)\n",
      "  frame=1 source=MONTE Chebyshev Polynomial Table\n",
      "-8000-12-21..-3619-08-16  Type 2  Sun (10) -> Unknown Target (2000087)\n",
      "  frame=1 source=MONTE Chebyshev Polynomial Table\n",
      "-3619-08-16..762-04-11  Type 2  Sun (10) -> Unknown Target (2000087)\n",
      "  frame=1 source=MONTE Chebyshev Polynomial Table\n",
      "762-04-11..5142-12-05  Type 2  Sun (10) -> Unknown Target (2000087)\n",
      "  frame=1 source=MONTE Chebyshev Polynomial Table\n",
      "5142-12-05..9000-01-01  Type 2  Sun (10) -> Unknown Target (2000087)\n",
      "  frame=1 source=MONTE Chebyshev Polynomial Table\n",
      "-8000-12-21..-3619-08-16  Type 2  Sun (10) -> Unknown Target (2000088)\n",
      "  frame=1 source=MONTE Chebyshev Polynomial Table\n",
      "-3619-08-16..762-04-11  Type 2  Sun (10) -> Unknown Target (2000088)\n",
      "  frame=1 source=MONTE Chebyshev Polynomial Table\n",
      "762-04-11..5142-12-05  Type 2  Sun (10) -> Unknown Target (2000088)\n",
      "  frame=1 source=MONTE Chebyshev Polynomial Table\n",
      "5142-12-05..9000-01-01  Type 2  Sun (10) -> Unknown Target (2000088)\n",
      "  frame=1 source=MONTE Chebyshev Polynomial Table\n",
      "-8000-12-21..-3619-08-16  Type 2  Sun (10) -> Vesta (2000004)\n",
      "  frame=1 source=MONTE Chebyshev Polynomial Table\n",
      "-3619-08-16..762-04-11  Type 2  Sun (10) -> Vesta (2000004)\n",
      "  frame=1 source=MONTE Chebyshev Polynomial Table\n",
      "762-04-11..5142-12-05  Type 2  Sun (10) -> Vesta (2000004)\n",
      "  frame=1 source=MONTE Chebyshev Polynomial Table\n",
      "5142-12-05..9000-01-01  Type 2  Sun (10) -> Vesta (2000004)\n",
      "  frame=1 source=MONTE Chebyshev Polynomial Table\n"
     ]
    }
   ],
   "source": [
    "kernel = SPK.open(download_file(DEFAULT_PLANET_EPHEMERIS_URL, cache=True))\n",
    "kernel = SPK.open(download_file(DEFAULT_ASTEROID_EPHEMERIS_URL, cache=True))\n",
    "for s in kernel.segments:\n",
    "    print(s.describe())"
   ]
  },
  {
   "cell_type": "code",
   "execution_count": null,
   "metadata": {},
   "outputs": [
    {
     "data": {
      "text/plain": [
       "Array([[ 2.61030935e-05, -2.90119924e-05, -8.52860259e-06]], dtype=float64)"
      ]
     },
     "metadata": {},
     "output_type": "display_data"
    }
   ],
   "source": [
    "from jorbit.accelerations import create_newtonian_ephemeris_acceleration_func\n",
    "\n",
    "eph.FunctionalEphemeris\n",
    "\n",
    "q = create_newtonian_ephemeris_acceleration_func(eph.FunctionalEphemeris)\n",
    "\n",
    "q(s.state)"
   ]
  },
  {
   "cell_type": "code",
   "execution_count": 2,
   "metadata": {},
   "outputs": [
    {
     "name": "stdout",
     "output_type": "stream",
     "text": [
      "Downloading observer positions from Horizons...\n"
     ]
    },
    {
     "data": {
      "text/plain": [
       "Observations with 1 set(s) of observations"
      ]
     },
     "execution_count": 2,
     "metadata": {},
     "output_type": "execute_result"
    }
   ],
   "source": [
    "from jorbit.observation import Observations\n",
    "\n",
    "obj = Horizons(id=\"274301\", location=\"695\", epochs=t.tdb.jd)\n",
    "eph = obj.ephemerides(extra_precision=True, quantities=\"1\")\n",
    "coord = SkyCoord(eph[\"RA\"][0], eph[\"DEC\"][0], unit=(u.deg, u.deg), frame=\"icrs\")\n",
    "\n",
    "obs = Observations(\n",
    "    observed_coordinates=coord,\n",
    "    times=t,\n",
    "    observatories=\"695@399\",\n",
    "    astrometric_uncertainties=1 * u.arcsec,\n",
    "    verbose=True,\n",
    ")\n",
    "obs"
   ]
  },
  {
   "cell_type": "code",
   "execution_count": 7,
   "metadata": {},
   "outputs": [
    {
     "data": {
      "text/plain": [
       "Array([-23.73665301, -21.045753  , -20.82895848, -23.07194211,\n",
       "       -15.07946488, -16.28536632, -18.16446878, -17.99910783,\n",
       "       -26.8539481 ,  -8.12544774], dtype=float64)"
      ]
     },
     "execution_count": 7,
     "metadata": {},
     "output_type": "execute_result"
    }
   ],
   "source": [
    "eph.FunctionalEphemeris.log_gms"
   ]
  },
  {
   "cell_type": "code",
   "execution_count": 8,
   "metadata": {},
   "outputs": [
    {
     "data": {
      "text/plain": [
       "'2000-01-01 12:00:00.000'"
      ]
     },
     "execution_count": 8,
     "metadata": {},
     "output_type": "execute_result"
    }
   ],
   "source": [
    "Time(\"J2000\", format=\"jyear_str\").iso"
   ]
  },
  {
   "cell_type": "code",
   "execution_count": 9,
   "metadata": {},
   "outputs": [
    {
     "data": {
      "text/plain": [
       "'2318-07-05 11:00:00.000'"
      ]
     },
     "execution_count": 9,
     "metadata": {},
     "output_type": "execute_result"
    }
   ],
   "source": [
    "Time(0.0, format=\"stardate\").iso"
   ]
  }
 ],
 "metadata": {
  "kernelspec": {
   "display_name": ".venv",
   "language": "python",
   "name": "python3"
  },
  "language_info": {
   "codemirror_mode": {
    "name": "ipython",
    "version": 3
   },
   "file_extension": ".py",
   "mimetype": "text/x-python",
   "name": "python",
   "nbconvert_exporter": "python",
   "pygments_lexer": "ipython3",
   "version": "3.13.0"
  }
 },
 "nbformat": 4,
 "nbformat_minor": 2
}
