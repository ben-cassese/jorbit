{
 "cells": [
  {
   "cell_type": "code",
   "execution_count": 1,
   "metadata": {},
   "outputs": [],
   "source": [
    "import mpmath as mpm\n",
    "from mpmath import matrix, mp, mpf\n",
    "import numpy as np\n",
    "from tqdm import tqdm\n",
    "\n",
    "from jorbit.integrators.mpmath_testing_only import *\n",
    "\n",
    "mp.dps = 50"
   ]
  },
  {
   "cell_type": "code",
   "execution_count": 2,
   "metadata": {},
   "outputs": [
    {
     "name": "stderr",
     "output_type": "stream",
     "text": [
      "100%|██████████| 998/998 [00:00<00:00, 1407.00it/s]\n"
     ]
    },
    {
     "data": {
      "text/plain": [
       "DoubleDouble([[-42.47575008 -47.69200031 -47.69200031]], [[ 2.53971562e-15 -2.26124626e-15 -2.26124626e-15]])"
      ]
     },
     "execution_count": 2,
     "metadata": {},
     "output_type": "execute_result"
    }
   ],
   "source": [
    "import jax\n",
    "\n",
    "jax.config.update(\"jax_enable_x64\", True)\n",
    "import jax.numpy as jnp\n",
    "from jorbit.integrators.ias15_dd import _estimate_x_v_from_b, setup_iasnn_integrator\n",
    "from jorbit.utils.doubledouble import DoubleDouble\n",
    "\n",
    "from jorbit.integrators.ias15_dd import refine_intermediate_g as rigdd\n",
    "\n",
    "b_x_denoms, b_v_denoms, h, r, c, d = setup_iasnn_integrator(n_internal_points=7)\n",
    "\n",
    "\n",
    "x0 = DoubleDouble(jnp.array([[1.0, 0, 0]]))\n",
    "v0 = DoubleDouble(jnp.array([[0, 1.0, 0]]))\n",
    "a0 = -x0\n",
    "b = DoubleDouble(jnp.ones((7, 1, 3), dtype=jnp.float64))\n",
    "g = DoubleDouble(jnp.ones((7, 1, 3), dtype=jnp.float64))\n",
    "dt = DoubleDouble(0.01)\n",
    "\n",
    "rq = rigdd(substep_num=4, g=g, r=r, at=a0 * DoubleDouble(0.9), a0=a0)\n",
    "rq"
   ]
  },
  {
   "cell_type": "code",
   "execution_count": 3,
   "metadata": {},
   "outputs": [
    {
     "name": "stderr",
     "output_type": "stream",
     "text": [
      "100%|██████████| 998/998 [00:00<00:00, 1365.97it/s]\n"
     ]
    },
    {
     "data": {
      "text/plain": [
       "matrix(\n",
       "[['-42.475750081141580808836201308054150808740185515630119954534339007943949426', '-47.6920003067568833853739027019785430508873489205952718351524434014057729376', '-47.6920003067568833853739027019785430508873489205952718351524434014057729376']])"
      ]
     },
     "execution_count": 3,
     "metadata": {},
     "output_type": "execute_result"
    }
   ],
   "source": [
    "pre = precompute(7)\n",
    "b_x_denoms, b_v_denoms, h, r, c, d = pre\n",
    "\n",
    "dt = mpf(\"0.01\")\n",
    "x0 = matrix([[\"1.0\", \"0\", \"0\"]])\n",
    "v0 = matrix([[\"0\", \"1.0\", \"0\"]])\n",
    "a0 = matrix([[\"-1.0\", \"0\", \"0\"]])\n",
    "b = mpm.ones(7, 3)  # missing the dimension for nparticles to work w/ mpmath\n",
    "g = mpm.ones(7, 3)\n",
    "\n",
    "q = refine_intermediate_g(substep_num=4, g=g, r=r, at=a0 * 0.9, a0=a0)\n",
    "q"
   ]
  },
  {
   "cell_type": "code",
   "execution_count": 10,
   "metadata": {},
   "outputs": [
    {
     "name": "stdout",
     "output_type": "stream",
     "text": [
      "0.000000000000000443025612243332432104024931231521336707902873985877462118073104528191912161\n",
      "0.000000000000000276233085841311643473284298411717976250938410112779333183628079770057068431\n",
      "0.000000000000000276233085841311643473284298411717976250938410112779333183628079770057068431\n"
     ]
    }
   ],
   "source": [
    "print((q[0, 0] - float(rq[0, 0].hi) - float(rq[0, 0].lo)))\n",
    "print((q[0, 1] - float(rq[0, 1].hi) - float(rq[0, 1].lo)))\n",
    "print((q[0, 2] - float(rq[0, 2].hi) - float(rq[0, 2].lo)))"
   ]
  },
  {
   "cell_type": "code",
   "execution_count": null,
   "metadata": {},
   "outputs": [],
   "source": [
    "# hm. the doubledouble refine_g is only single precision"
   ]
  },
  {
   "cell_type": "code",
   "execution_count": null,
   "metadata": {},
   "outputs": [],
   "source": []
  },
  {
   "cell_type": "code",
   "execution_count": null,
   "metadata": {},
   "outputs": [],
   "source": []
  },
  {
   "cell_type": "code",
   "execution_count": 13,
   "metadata": {},
   "outputs": [
    {
     "name": "stderr",
     "output_type": "stream",
     "text": [
      "100%|██████████| 998/998 [00:00<00:00, 1400.67it/s]\n"
     ]
    },
    {
     "data": {
      "text/plain": [
       "(DoubleDouble([[9.99999845e-01 5.62628660e-04 3.05472711e-09]], [[ 3.08383424e-17 -1.34093184e-20 -1.03341420e-25]]),\n",
       " DoubleDouble([[-5.46178334e-04  1.00001645e+00  1.64472715e-05]], [[ 3.86470038e-21  7.09607810e-17 -2.51140453e-22]]))"
      ]
     },
     "execution_count": 13,
     "metadata": {},
     "output_type": "execute_result"
    }
   ],
   "source": [
    "import jax\n",
    "\n",
    "jax.config.update(\"jax_enable_x64\", True)\n",
    "import jax.numpy as jnp\n",
    "from jorbit.integrators.ias15_dd import _estimate_x_v_from_b, setup_iasnn_integrator\n",
    "from jorbit.utils.doubledouble import DoubleDouble\n",
    "\n",
    "b_x_denoms, b_v_denoms, h, r, c, d = setup_iasnn_integrator(n_internal_points=7)\n",
    "\n",
    "\n",
    "x0 = DoubleDouble(jnp.array([[1.0, 0, 0]]))\n",
    "v0 = DoubleDouble(jnp.array([[0, 1.0, 0]]))\n",
    "a0 = -x0\n",
    "b = DoubleDouble(jnp.ones((7, 1, 3), dtype=jnp.float64))\n",
    "dt = DoubleDouble(0.01)\n",
    "\n",
    "x_dd, v_dd = _estimate_x_v_from_b(\n",
    "    a0=a0,\n",
    "    v0=v0,\n",
    "    x0=x0,\n",
    "    dt=dt,\n",
    "    b_x_denoms=b_x_denoms,\n",
    "    b_v_denoms=b_v_denoms,\n",
    "    h=h[1],\n",
    "    bp=b,\n",
    ")\n",
    "x_dd, v_dd"
   ]
  },
  {
   "cell_type": "code",
   "execution_count": 14,
   "metadata": {},
   "outputs": [
    {
     "name": "stderr",
     "output_type": "stream",
     "text": [
      "100%|██████████| 998/998 [00:00<00:00, 1371.81it/s]\n"
     ]
    },
    {
     "data": {
      "text/plain": [
       "(matrix(\n",
       " [['0.99999984478094120252301594486387171374795735893814', '0.00056262866009633252913496629819679835588232069132449', '0.0000000030547271110644784443878736865980846655438782619988']]),\n",
       " matrix(\n",
       " [['-0.00054617833388839319509525385463194026215904313563138', '1.0000164472714808282695612680556911714956386120118', '0.000016447271480828269561268055691171495638612011814846']]))"
      ]
     },
     "execution_count": 14,
     "metadata": {},
     "output_type": "execute_result"
    }
   ],
   "source": [
    "pre = precompute(7)\n",
    "b_x_denoms, b_v_denoms, h, r, c, d = pre\n",
    "\n",
    "dt = mpf(\"0.01\")\n",
    "x0 = matrix([[\"1.0\", \"0\", \"0\"]])\n",
    "v0 = matrix([[\"0\", \"1.0\", \"0\"]])\n",
    "a0 = matrix([[\"-1.0\", \"0\", \"0\"]])\n",
    "b = mpm.ones(7, 3)  # missing the dimension for nparticles to work w/ mpmath\n",
    "g = mpm.ones(7, 3)\n",
    "\n",
    "x_mp, v_mp = estimate_x_v_from_b(\n",
    "    a0=a0,\n",
    "    v0=v0,\n",
    "    x0=x0,\n",
    "    dt=dt,\n",
    "    b_x_denoms=b_x_denoms,\n",
    "    b_v_denoms=b_v_denoms,\n",
    "    h=h[1],\n",
    "    bp=b,\n",
    ")\n",
    "x_mp, v_mp"
   ]
  },
  {
   "cell_type": "code",
   "execution_count": 15,
   "metadata": {},
   "outputs": [
    {
     "name": "stdout",
     "output_type": "stream",
     "text": [
      "-3.2519074011945340865175046615255634651902208870089e-25\n",
      "-3.1673570803014496430939158035056559171404018326311e-22\n"
     ]
    }
   ],
   "source": [
    "print(x_mp[0, 0] - float(x_dd[0, 0].hi) - float(x_dd[0, 0].lo))\n",
    "print(v_mp[0, 0] - float(v_dd[0, 0].hi) - float(v_dd[0, 0].lo))"
   ]
  },
  {
   "cell_type": "code",
   "execution_count": null,
   "metadata": {},
   "outputs": [],
   "source": []
  },
  {
   "cell_type": "code",
   "execution_count": null,
   "metadata": {},
   "outputs": [],
   "source": []
  },
  {
   "cell_type": "code",
   "execution_count": null,
   "metadata": {},
   "outputs": [],
   "source": []
  },
  {
   "cell_type": "code",
   "execution_count": 11,
   "metadata": {},
   "outputs": [
    {
     "data": {
      "text/plain": [
       "matrix(\n",
       "[['0.0', '0.0', '0.0'],\n",
       " ['0.0', '0.0', '0.0'],\n",
       " ['0.0', '0.0', '0.0'],\n",
       " ['0.0', '0.0', '0.0'],\n",
       " ['0.0', '0.0', '0.0'],\n",
       " ['0.0', '0.0', '0.0'],\n",
       " ['0.0', '0.0', '0.0']])"
      ]
     },
     "execution_count": 11,
     "metadata": {},
     "output_type": "execute_result"
    }
   ],
   "source": [
    "dt = mpf(\"0.01\")\n",
    "x0 = matrix([[\"1.0\", \"0\", \"0\"]])\n",
    "v0 = matrix([[\"0\", \"1.0\", \"0\"]])\n",
    "a0 = matrix([[\"-1.0\", \"0\", \"0\"]])\n",
    "b = mpm.zeros(7, 3)  # missing the dimension for nparticles to work w/ mpmath\n",
    "g = mpm.zeros(7, 3)\n",
    "b"
   ]
  },
  {
   "cell_type": "code",
   "execution_count": 12,
   "metadata": {},
   "outputs": [
    {
     "name": "stderr",
     "output_type": "stream",
     "text": [
      "  0%|          | 0/100 [00:00<?, ?it/s]"
     ]
    },
    {
     "name": "stderr",
     "output_type": "stream",
     "text": [
      "100%|██████████| 100/100 [00:03<00:00, 32.87it/s]\n"
     ]
    },
    {
     "data": {
      "text/plain": [
       "matrix(\n",
       "[['-11.684767359688071197001402094240177226994507749059', '-1371.7225586856334469822337741625392712067685699736', '255.34455581170960926135647247347388758524543358365']])"
      ]
     },
     "execution_count": 12,
     "metadata": {},
     "output_type": "execute_result"
    }
   ],
   "source": [
    "steps_per_orbit = 100\n",
    "n_orbits = 1\n",
    "\n",
    "dt = mpf(\"2\") * mp.pi / mpf(str(steps_per_orbit))\n",
    "\n",
    "for i in tqdm(range(steps_per_orbit * n_orbits)):\n",
    "    x0, v0, b = step(x0, v0, b, dt, pre)\n",
    "\n",
    "x0"
   ]
  },
  {
   "cell_type": "code",
   "execution_count": null,
   "metadata": {},
   "outputs": [],
   "source": []
  }
 ],
 "metadata": {
  "kernelspec": {
   "display_name": ".venv",
   "language": "python",
   "name": "python3"
  },
  "language_info": {
   "codemirror_mode": {
    "name": "ipython",
    "version": 3
   },
   "file_extension": ".py",
   "mimetype": "text/x-python",
   "name": "python",
   "nbconvert_exporter": "python",
   "pygments_lexer": "ipython3",
   "version": "3.13.0"
  }
 },
 "nbformat": 4,
 "nbformat_minor": 2
}
