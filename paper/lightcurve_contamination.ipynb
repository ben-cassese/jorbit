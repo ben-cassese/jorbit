{
 "cells": [
  {
   "cell_type": "code",
   "execution_count": null,
   "metadata": {},
   "outputs": [],
   "source": [
    "import warnings\n",
    "\n",
    "warnings.filterwarnings(\"ignore\", module=\"erfa\")\n",
    "\n",
    "import astropy.units as u\n",
    "import matplotlib.dates as mdates\n",
    "import matplotlib.pyplot as plt\n",
    "import numpy as np\n",
    "from astropy.coordinates import SkyCoord\n",
    "from astropy.time import Time\n",
    "\n",
    "from jorbit.mpchecker import nearest_asteroid\n",
    "\n",
    "separations, asteroids, coord_table, mag_table, total_mags = nearest_asteroid(\n",
    "    coordinate=SkyCoord(125.7398*u.deg, 18.7334*u.deg),\n",
    "    times=(Time(\"2021-10-13 01:24\") + np.arange(-0.5, 1, 1/24/6)*u.day),\n",
    "    radius=3*u.arcmin,\n",
    "    compute_contamination=True,\n",
    "    observer=\"Kitt Peak\"\n",
    ")"
   ]
  },
  {
   "cell_type": "code",
   "execution_count": null,
   "metadata": {},
   "outputs": [],
   "source": [
    "times = (Time(\"2021-10-13 01:24\") + np.arange(-0.5, 1, 1/24/6)*u.day)\n",
    "\n",
    "fig, ax = plt.subplots(ncols=2)\n",
    "ax.plot(times.datetime, separations.to(u.arcsec), label=\"separation\")\n",
    "ax[0].set(xlabel=\"Time\", ylabel=\"dist. to nearest obj (arcsec)\")\n",
    "ax[0].xaxis.set_major_formatter(mdates.DateFormatter(\"%m-%d %H:%M\"))\n"
   ]
  }
 ],
 "metadata": {
  "kernelspec": {
   "display_name": "jorbit",
   "language": "python",
   "name": "python3"
  },
  "language_info": {
   "codemirror_mode": {
    "name": "ipython",
    "version": 3
   },
   "file_extension": ".py",
   "mimetype": "text/x-python",
   "name": "python",
   "nbconvert_exporter": "python",
   "pygments_lexer": "ipython3",
   "version": "3.13.0"
  }
 },
 "nbformat": 4,
 "nbformat_minor": 2
}
